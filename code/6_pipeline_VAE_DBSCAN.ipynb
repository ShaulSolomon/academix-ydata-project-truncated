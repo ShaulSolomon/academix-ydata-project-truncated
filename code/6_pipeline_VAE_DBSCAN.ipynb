{
 "cells": [
  {
   "cell_type": "code",
   "execution_count": 1,
   "metadata": {},
   "outputs": [
    {
     "name": "stdout",
     "output_type": "stream",
     "text": [
      "Requirement already satisfied: elasticsearch in /home/ubuntu/anaconda3/envs/pytorch_latest_p36/lib/python3.6/site-packages (7.8.0)\n",
      "Requirement already satisfied: urllib3>=1.21.1 in /home/ubuntu/anaconda3/envs/pytorch_latest_p36/lib/python3.6/site-packages (from elasticsearch) (1.25.8)\n",
      "Requirement already satisfied: certifi in /home/ubuntu/anaconda3/envs/pytorch_latest_p36/lib/python3.6/site-packages (from elasticsearch) (2020.4.5.2)\n",
      "Requirement already satisfied: elasticsearch_dsl in /home/ubuntu/anaconda3/envs/pytorch_latest_p36/lib/python3.6/site-packages (7.2.1)\n",
      "Requirement already satisfied: elasticsearch<8.0.0,>=7.0.0 in /home/ubuntu/anaconda3/envs/pytorch_latest_p36/lib/python3.6/site-packages (from elasticsearch_dsl) (7.8.0)\n",
      "Requirement already satisfied: python-dateutil in /home/ubuntu/anaconda3/envs/pytorch_latest_p36/lib/python3.6/site-packages (from elasticsearch_dsl) (2.8.1)\n",
      "Requirement already satisfied: six in /home/ubuntu/anaconda3/envs/pytorch_latest_p36/lib/python3.6/site-packages (from elasticsearch_dsl) (1.14.0)\n",
      "Requirement already satisfied: certifi in /home/ubuntu/anaconda3/envs/pytorch_latest_p36/lib/python3.6/site-packages (from elasticsearch<8.0.0,>=7.0.0->elasticsearch_dsl) (2020.4.5.2)\n",
      "Requirement already satisfied: urllib3>=1.21.1 in /home/ubuntu/anaconda3/envs/pytorch_latest_p36/lib/python3.6/site-packages (from elasticsearch<8.0.0,>=7.0.0->elasticsearch_dsl) (1.25.8)\n",
      "Requirement already satisfied: pymed in /home/ubuntu/anaconda3/envs/pytorch_latest_p36/lib/python3.6/site-packages (0.8.9)\n",
      "Requirement already satisfied: requests>=2.20.0 in /home/ubuntu/anaconda3/envs/pytorch_latest_p36/lib/python3.6/site-packages (from pymed) (2.23.0)\n",
      "Requirement already satisfied: chardet<4,>=3.0.2 in /home/ubuntu/anaconda3/envs/pytorch_latest_p36/lib/python3.6/site-packages (from requests>=2.20.0->pymed) (3.0.4)\n",
      "Requirement already satisfied: certifi>=2017.4.17 in /home/ubuntu/anaconda3/envs/pytorch_latest_p36/lib/python3.6/site-packages (from requests>=2.20.0->pymed) (2020.4.5.2)\n",
      "Requirement already satisfied: idna<3,>=2.5 in /home/ubuntu/anaconda3/envs/pytorch_latest_p36/lib/python3.6/site-packages (from requests>=2.20.0->pymed) (2.9)\n",
      "Requirement already satisfied: urllib3!=1.25.0,!=1.25.1,<1.26,>=1.21.1 in /home/ubuntu/anaconda3/envs/pytorch_latest_p36/lib/python3.6/site-packages (from requests>=2.20.0->pymed) (1.25.8)\n",
      "Requirement already satisfied: gensim in /home/ubuntu/anaconda3/envs/pytorch_latest_p36/lib/python3.6/site-packages (3.8.3)\n",
      "Requirement already satisfied: six>=1.5.0 in /home/ubuntu/anaconda3/envs/pytorch_latest_p36/lib/python3.6/site-packages (from gensim) (1.14.0)\n",
      "Requirement already satisfied: scipy>=0.18.1 in /home/ubuntu/anaconda3/envs/pytorch_latest_p36/lib/python3.6/site-packages (from gensim) (1.4.1)\n",
      "Requirement already satisfied: smart-open>=1.8.1 in /home/ubuntu/anaconda3/envs/pytorch_latest_p36/lib/python3.6/site-packages (from gensim) (2.1.0)\n",
      "Requirement already satisfied: numpy>=1.11.3 in /home/ubuntu/anaconda3/envs/pytorch_latest_p36/lib/python3.6/site-packages (from gensim) (1.18.1)\n",
      "Requirement already satisfied: boto3 in /home/ubuntu/anaconda3/envs/pytorch_latest_p36/lib/python3.6/site-packages (from smart-open>=1.8.1->gensim) (1.14.5)\n",
      "Requirement already satisfied: boto in /home/ubuntu/anaconda3/envs/pytorch_latest_p36/lib/python3.6/site-packages (from smart-open>=1.8.1->gensim) (2.49.0)\n",
      "Requirement already satisfied: requests in /home/ubuntu/anaconda3/envs/pytorch_latest_p36/lib/python3.6/site-packages (from smart-open>=1.8.1->gensim) (2.23.0)\n",
      "Requirement already satisfied: jmespath<1.0.0,>=0.7.1 in /home/ubuntu/anaconda3/envs/pytorch_latest_p36/lib/python3.6/site-packages (from boto3->smart-open>=1.8.1->gensim) (0.9.4)\n",
      "Requirement already satisfied: s3transfer<0.4.0,>=0.3.0 in /home/ubuntu/anaconda3/envs/pytorch_latest_p36/lib/python3.6/site-packages (from boto3->smart-open>=1.8.1->gensim) (0.3.3)\n",
      "Requirement already satisfied: botocore<1.18.0,>=1.17.5 in /home/ubuntu/anaconda3/envs/pytorch_latest_p36/lib/python3.6/site-packages (from boto3->smart-open>=1.8.1->gensim) (1.17.5)\n",
      "Requirement already satisfied: certifi>=2017.4.17 in /home/ubuntu/anaconda3/envs/pytorch_latest_p36/lib/python3.6/site-packages (from requests->smart-open>=1.8.1->gensim) (2020.4.5.2)\n",
      "Requirement already satisfied: chardet<4,>=3.0.2 in /home/ubuntu/anaconda3/envs/pytorch_latest_p36/lib/python3.6/site-packages (from requests->smart-open>=1.8.1->gensim) (3.0.4)\n",
      "Requirement already satisfied: urllib3!=1.25.0,!=1.25.1,<1.26,>=1.21.1 in /home/ubuntu/anaconda3/envs/pytorch_latest_p36/lib/python3.6/site-packages (from requests->smart-open>=1.8.1->gensim) (1.25.8)\n",
      "Requirement already satisfied: idna<3,>=2.5 in /home/ubuntu/anaconda3/envs/pytorch_latest_p36/lib/python3.6/site-packages (from requests->smart-open>=1.8.1->gensim) (2.9)\n",
      "Requirement already satisfied: python-dateutil<3.0.0,>=2.1 in /home/ubuntu/anaconda3/envs/pytorch_latest_p36/lib/python3.6/site-packages (from botocore<1.18.0,>=1.17.5->boto3->smart-open>=1.8.1->gensim) (2.8.1)\n",
      "Requirement already satisfied: docutils<0.16,>=0.10 in /home/ubuntu/anaconda3/envs/pytorch_latest_p36/lib/python3.6/site-packages (from botocore<1.18.0,>=1.17.5->boto3->smart-open>=1.8.1->gensim) (0.15.2)\n",
      "Requirement already satisfied: torchsummary in /home/ubuntu/anaconda3/envs/pytorch_latest_p36/lib/python3.6/site-packages (1.5.1)\n"
     ]
    }
   ],
   "source": [
    "USE_SERVER = True\n",
    "if USE_SERVER:\n",
    "    !pip install elasticsearch\n",
    "    !pip install elasticsearch_dsl\n",
    "    !pip install pymed\n",
    "    !pip install gensim\n",
    "    !pip install torchsummary"
   ]
  },
  {
   "cell_type": "code",
   "execution_count": 13,
   "metadata": {
    "tags": []
   },
   "outputs": [
    {
     "output_type": "stream",
     "name": "stdout",
     "text": "The autoreload extension is already loaded. To reload it, use:\n  %reload_ext autoreload\n"
    }
   ],
   "source": [
    "from __future__ import print_function\n",
    "import argparse\n",
    "import numpy as np\n",
    "import torch\n",
    "import torch.utils.data\n",
    "from torch import nn, optim\n",
    "from torch.nn import functional as F\n",
    "from torchvision import datasets, transforms\n",
    "from torchvision.utils import save_image\n",
    "import pandas as pd\n",
    "import utils\n",
    "import os\n",
    "from utils import PROJECT_ROOT, DATA_PATH\n",
    "import yuval_module.paper_source as PaperSource\n",
    "\n",
    "from sklearn.feature_extraction.text import TfidfTransformer\n",
    "from sklearn.feature_extraction.text import CountVectorizer\n",
    "from sklearn.pipeline import Pipeline\n",
    "\n",
    "import py_4.get_mesh_vec as get_mesh_vec\n",
    "import py_3.sim_matrix_3 as sim_matrix_3\n",
    "import py_4.get_all_features as get_all_features \n",
    "from sklearn.cluster import DBSCAN as DBS\n",
    "\n",
    "from sklearn.cluster import KMeans\n",
    "from sklearn.metrics import silhouette_samples, silhouette_score\n",
    "\n",
    "import metric_eval_2\n",
    "\n",
    "\n",
    "from torch.utils.data import Dataset, DataLoader\n",
    "\n",
    "from sklearn.manifold import TSNE\n",
    "%matplotlib inline\n",
    "import matplotlib.pyplot as plt\n",
    "from mpl_toolkits.mplot3d import Axes3D\n",
    "import seaborn as sns\n",
    "import time\n",
    "import pickle\n",
    "\n",
    "from sklearn.preprocessing import StandardScaler\n",
    "\n",
    "from tqdm import tqdm_notebook\n",
    "\n",
    "%load_ext autoreload\n",
    "%autoreload 2"
   ]
  },
  {
   "cell_type": "code",
   "execution_count": 2,
   "metadata": {},
   "outputs": [],
   "source": [
    "mesh_embed=get_mesh_vec.MeshEmbeddings(PROJECT_ROOT + \"data/mesh_data/MeSHFeatureGeneratedByDeepWalk.csv\")"
   ]
  },
  {
   "cell_type": "code",
   "execution_count": 4,
   "metadata": {
    "tags": []
   },
   "outputs": [
    {
     "output_type": "stream",
     "name": "stdout",
     "text": "READING FROM LOCAL\nFILE PULLED\n"
    }
   ],
   "source": [
    "FILE = \"enriched_labeled_dataset_large.json\" \n",
    "if os.path.exists(PROJECT_ROOT + DATA_PATH + FILE):\n",
    "    print(\"READING FROM LOCAL\")\n",
    "    if FILE.split(\".\")[1] == \"json\":\n",
    "        df = pd.read_json(PROJECT_ROOT + DATA_PATH + FILE)\n",
    "    else:\n",
    "        df = pd.read_csv(PROJECT_ROOT + DATA_PATH + FILE)\n",
    "    #ps = PaperSource()\n",
    "else:\n",
    "    print(\"PULLING FROM S3\")\n",
    "    ps = sim_matrix_3.load_dataset(FILE)\n",
    "    df = ps.get_dataset()\n",
    "\n",
    "df.drop(columns=[\"last_author_country\"],inplace=True)\n",
    "df.rename(columns={'ORG_STATE':'last_author_country'},inplace=True)\n",
    "\n",
    "print(\"FILE PULLED\")"
   ]
  },
  {
   "cell_type": "code",
   "execution_count": 5,
   "metadata": {},
   "outputs": [
    {
     "name": "stdout",
     "output_type": "stream",
     "text": [
      "/home/ubuntu/AYP\n"
     ]
    }
   ],
   "source": [
    "cd .."
   ]
  },
  {
   "cell_type": "code",
   "execution_count": 5,
   "metadata": {},
   "outputs": [],
   "source": [
    "class VAE_A(nn.Module):\n",
    "    def __init__(self, hidden_dim, latent_dim, input_dim):\n",
    "        super(VAE_A, self).__init__()\n",
    "        self.input_dim = input_dim\n",
    "        self.hd = hidden_dim\n",
    "        self.latent_dim = latent_dim\n",
    "         \n",
    "        self.fc1 = nn.Linear(self.input_dim, self.hd)\n",
    "        self.fc21 = nn.Linear(self.hd, self.latent_dim)\n",
    "        self.fc22 = nn.Linear(self.hd, self.latent_dim)\n",
    "        self.fc3 = nn.Linear(self.latent_dim, self.hd)\n",
    "        self.fc4 = nn.Linear(self.hd,self.input_dim)\n",
    "        \n",
    "        self.dropout = torch.nn.Dropout(p=0.4) \n",
    "        self.bn1 = nn.BatchNorm1d(self.hd)\n",
    "        self.bn5 = nn.BatchNorm1d(self.hd)\n",
    "\n",
    "    def encode(self, x):\n",
    "        h = F.relu(self.fc1(x))\n",
    "        return self.fc21(h), self.fc22(h)\n",
    "\n",
    "    def reparameterize(self, mu, logvar):\n",
    "        std = torch.exp(0.5*logvar)\n",
    "        eps = torch.randn_like(std)\n",
    "        return eps.mul(std).add_(mu) # return z sample\n",
    "        \n",
    "\n",
    "    def decode(self, z):\n",
    "        h = F.relu(self.fc3(z))\n",
    "        return self.fc4(h)\n",
    "\n",
    "    def forward(self, x):\n",
    "        mu, logvar = self.encode(x.view(-1, self.input_dim))\n",
    "        z = self.reparameterize(mu, logvar)\n",
    "        return self.decode(z), mu, logvar"
   ]
  },
  {
   "cell_type": "code",
   "execution_count": 6,
   "metadata": {},
   "outputs": [],
   "source": [
    "class ToyDS(Dataset):\n",
    "    def __init__(self,df,selection,vae_features = None):\n",
    "        super().__init__()\n",
    "        self.df = df[df['last_author_name'].isin(selection)]\n",
    "        if vae_features is None:\n",
    "            print(\"Creating new VAE FEATURES\")\n",
    "            self.vae_features = get_all_features.VAE_Features(self.df)\n",
    "        else:\n",
    "            print(\"Using pre-defined VAE FEATURES\")\n",
    "            self.vae_features = vae_features\n",
    "        self.features = self.vae_features.get_all_features(self.df)\n",
    "        print(list(self.vae_features.mesh_features.mesh_missing))\n",
    "        self.input_dim = self.vae_features.input_dims\n",
    "            \n",
    "    def __len__(self):\n",
    "        return self.df.shape[0]\n",
    "    \n",
    "    def __getitem__(self, idx):\n",
    "        features = self.features[idx]\n",
    "        return features\n",
    "    \n",
    "    def __getvae__(self):\n",
    "        return self.vae_features"
   ]
  },
  {
   "cell_type": "code",
   "execution_count": 8,
   "metadata": {},
   "outputs": [
    {
     "output_type": "execute_result",
     "data": {
      "text/plain": "VAE_A(\n  (fc1): Linear(in_features=1102, out_features=32, bias=True)\n  (fc21): Linear(in_features=32, out_features=8, bias=True)\n  (fc22): Linear(in_features=32, out_features=8, bias=True)\n  (fc3): Linear(in_features=8, out_features=32, bias=True)\n  (fc4): Linear(in_features=32, out_features=1102, bias=True)\n)"
     },
     "metadata": {},
     "execution_count": 8
    }
   ],
   "source": [
    "MODEL_PATH = \"../code/models/vae_a_8dim_allfeat.pt\"\n",
    "\n",
    "model = torch.load(MODEL_PATH)\n",
    "model.eval()"
   ]
  },
  {
   "cell_type": "code",
   "execution_count": 9,
   "metadata": {},
   "outputs": [],
   "source": [
    "with open('../code/models/vae_allfeat.pkl', 'rb') as input:\n",
    "    vae_feat = pickle.load(input)"
   ]
  },
  {
   "cell_type": "code",
   "execution_count": 10,
   "metadata": {},
   "outputs": [],
   "source": [
    "auth_eps = pd.read_csv(\"../data/val_set_author_names.csv\")[\"0\"]\n",
    "auth_usecase = pd.read_csv(\"../data/test_set_author_names.csv\")[\"0\"]"
   ]
  },
  {
   "cell_type": "markdown",
   "metadata": {},
   "source": [
    "### HYPERPARAMETER OPTIMIZATION ###"
   ]
  },
  {
   "cell_type": "code",
   "execution_count": 11,
   "metadata": {},
   "outputs": [
    {
     "output_type": "execute_result",
     "data": {
      "text/plain": "device(type='cpu')"
     },
     "metadata": {},
     "execution_count": 11
    }
   ],
   "source": [
    "#settings\n",
    "\n",
    "BATCH_SIZE= 32\n",
    "EPOCHS = 30\n",
    "cuda = torch.cuda.is_available()\n",
    "seed = 42\n",
    "log_interval = 10\n",
    "num_workers = 2\n",
    "\n",
    "#check for cuda\n",
    "device = torch.device('cuda' if cuda else 'cpu')\n",
    "\n",
    "torch.manual_seed(seed)\n",
    "kwargs = {'num_workers': 1, 'pin_memory': True} if cuda else {}\n",
    "\n",
    "device"
   ]
  },
  {
   "cell_type": "code",
   "execution_count": 12,
   "metadata": {
    "tags": [
     "outputPrepend"
    ]
   },
   "outputs": [
    {
     "output_type": "stream",
     "name": "stdout",
     "text": " pregnanediol', 'MESH NAME NOT FOUND: agmatine', 'MESH NAME NOT FOUND: catfishes', 'MESH NAME NOT FOUND: water pipe smoking', 'MESH NAME NOT FOUND: crystalloid solutions', 'MESH NAME NOT FOUND: lymphatic irradiation', 'MESH NAME NOT FOUND: mobile health units', 'MESH NAME NOT FOUND: human migration', 'MESH NAME NOT FOUND: household articles', 'MESH NAME NOT FOUND: dithizone', 'MESH NAME NOT FOUND: agouti signaling protein', 'MESH NAME NOT FOUND: abortion, therapeutic', 'MESH NAME NOT FOUND: gene rearrangement, delta-chain t-cell antigen receptor', 'MESH NAME NOT FOUND: neoplasms, fibrous tissue', 'MESH NAME NOT FOUND: computer user training', 'MESH NAME NOT FOUND: war-related injuries', 'MESH NAME NOT FOUND: type vii secretion systems', 'MESH NAME NOT FOUND: venae cavae', 'MESH NAME NOT FOUND: rectal diseases', 'MESH NAME NOT FOUND: oman', 'MESH NAME NOT FOUND: professional practice gaps', 'MESH NAME NOT FOUND: nuclear medicine', 'MESH NAME NOT FOUND: animal nutrition sciences', 'MESH NAME NOT FOUND: food dispensers, automatic', 'MESH NAME NOT FOUND: vulvar neoplasms', 'MESH NAME NOT FOUND: receptors, nk cell lectin-like', 'MESH NAME NOT FOUND: chordata', \"MESH NAME NOT FOUND: hutchinson's melanotic freckle\", 'MESH NAME NOT FOUND: orthodontic appliances', 'MESH NAME NOT FOUND: phosphate acetyltransferase', 'MESH NAME NOT FOUND: human genetics', 'MESH NAME NOT FOUND: nystagmus, physiologic', 'MESH NAME NOT FOUND: filarioidea', 'MESH NAME NOT FOUND: insulin antibodies', 'MESH NAME NOT FOUND: prokaryotic initiation factor-3', 'MESH NAME NOT FOUND: medicine, east asian traditional', 'MESH NAME NOT FOUND: paramecium tetraurelia', 'MESH NAME NOT FOUND: butylene glycols', 'MESH NAME NOT FOUND: adrenocortical carcinoma', 'MESH NAME NOT FOUND: radiation dose hypofractionation', 'MESH NAME NOT FOUND: blastomycosis', 'MESH NAME NOT FOUND: luteinization', 'MESH NAME NOT FOUND: dolichol monophosphate mannose', 'MESH NAME NOT FOUND: tachyphylaxis', 'MESH NAME NOT FOUND: rna, heterogeneous nuclear', 'MESH NAME NOT FOUND: enzyme therapy', 'MESH NAME NOT FOUND: dna restriction-modification enzymes', 'MESH NAME NOT FOUND: parental consent', 'MESH NAME NOT FOUND: heart rate, fetal', 'MESH NAME NOT FOUND: swiss 3t3 cells', 'MESH NAME NOT FOUND: pleckstrin homology domains', 'MESH NAME NOT FOUND: socioenvironmental therapy', 'MESH NAME NOT FOUND: arenaviruses, new world', 'MESH NAME NOT FOUND: methylobacterium extorquens', 'MESH NAME NOT FOUND: anti-citrullinated protein antibodies', 'MESH NAME NOT FOUND: pseudotumor cerebri', 'MESH NAME NOT FOUND: mythology', 'MESH NAME NOT FOUND: transferrin-binding protein b', 'MESH NAME NOT FOUND: leprosy, lepromatous', 'MESH NAME NOT FOUND: tuberculosis, bovine', 'MESH NAME NOT FOUND: mastectomy, modified radical', 'MESH NAME NOT FOUND: microcomputers', 'MESH NAME NOT FOUND: tymovirus', 'MESH NAME NOT FOUND: proto-oncogene proteins c-fes', 'MESH NAME NOT FOUND: salpingitis', 'MESH NAME NOT FOUND: cinnamomum zeylanicum', 'MESH NAME NOT FOUND: brachydactyly', 'MESH NAME NOT FOUND: omega-agatoxin iva', 'MESH NAME NOT FOUND: household products', 'MESH NAME NOT FOUND: encephalitis viruses, tick-borne', 'MESH NAME NOT FOUND: middle cerebellar peduncle', 'MESH NAME NOT FOUND: atp binding cassette transporter, subfamily d, member 1', 'MESH NAME NOT FOUND: receptors, interleukin-21', 'MESH NAME NOT FOUND: petroselinum', 'MESH NAME NOT FOUND: fludrocortisone', 'MESH NAME NOT FOUND: composite tissue allografts', 'MESH NAME NOT FOUND: ether', 'MESH NAME NOT FOUND: tosylphenylalanyl chloromethyl ketone', 'MESH NAME NOT FOUND: placozoa', 'MESH NAME NOT FOUND: rna, transfer, asp', 'MESH NAME NOT FOUND: aminocaproates', 'MESH NAME NOT FOUND: muscular disorders, atrophic', 'MESH NAME NOT FOUND: follicle stimulating hormone, human', 'MESH NAME NOT FOUND: light-curing of dental adhesives', 'MESH NAME NOT FOUND: necator americanus', 'MESH NAME NOT FOUND: centrifugation, isopycnic', 'MESH NAME NOT FOUND: hypokinesia', 'MESH NAME NOT FOUND: thoracic duct', 'MESH NAME NOT FOUND: cardiovascular surgical procedures', 'MESH NAME NOT FOUND: spindle pole bodies', 'MESH NAME NOT FOUND: electrochemotherapy', 'MESH NAME NOT FOUND: rubinstein-taybi syndrome', 'MESH NAME NOT FOUND: group vi phospholipases a2', 'MESH NAME NOT FOUND: tetralones', 'MESH NAME NOT FOUND: secretogranin ii', 'MESH NAME NOT FOUND: cytidine diphosphate diglycerides', 'MESH NAME NOT FOUND: smoking cessation agents', 'MESH NAME NOT FOUND: penicillamine', 'MESH NAME NOT FOUND: axenic culture', 'MESH NAME NOT FOUND: bromobenzenes', 'MESH NAME NOT FOUND: lunch', 'MESH NAME NOT FOUND: receptor, ephb3', 'MESH NAME NOT FOUND: health planning guidelines', 'MESH NAME NOT FOUND: sunbathing', 'MESH NAME NOT FOUND: accidents, aviation', 'MESH NAME NOT FOUND: vaccines, acellular', 'MESH NAME NOT FOUND: orthodontic brackets', 'MESH NAME NOT FOUND: leishmaniasis vaccines', 'MESH NAME NOT FOUND: vascular grafting', 'MESH NAME NOT FOUND: lens cortex, crystalline', 'MESH NAME NOT FOUND: neoplasms, muscle tissue', 'MESH NAME NOT FOUND: toxicity tests, subacute', 'MESH NAME NOT FOUND: benign paroxysmal positional vertigo', 'MESH NAME NOT FOUND: physical abuse', 'MESH NAME NOT FOUND: leukemia virus, gibbon ape', 'MESH NAME NOT FOUND: nevus, blue', 'MESH NAME NOT FOUND: sulfolobus acidocaldarius', 'MESH NAME NOT FOUND: sex reassignment surgery', 'MESH NAME NOT FOUND: anterior hypothalamic nucleus', 'MESH NAME NOT FOUND: cystadenoma, serous', 'MESH NAME NOT FOUND: blastocyst inner cell mass', 'MESH NAME NOT FOUND: local lymph node assay', 'MESH NAME NOT FOUND: neospora', 'MESH NAME NOT FOUND: liver, artificial', 'MESH NAME NOT FOUND: nerve compression syndromes', 'MESH NAME NOT FOUND: tooth mobility', 'MESH NAME NOT FOUND: lisuride', 'MESH NAME NOT FOUND: milk hypersensitivity', 'MESH NAME NOT FOUND: reed-sternberg cells', 'MESH NAME NOT FOUND: saline solution', 'MESH NAME NOT FOUND: rhinitis, atrophic', 'MESH NAME NOT FOUND: hydroxymethylbilane synthase', 'MESH NAME NOT FOUND: high fructose corn syrup', 'MESH NAME NOT FOUND: activated protein c resistance', 'MESH NAME NOT FOUND: receptor, galanin, type 2', 'MESH NAME NOT FOUND: flicker fusion', 'MESH NAME NOT FOUND: turpentine', 'MESH NAME NOT FOUND: orphanages', 'MESH NAME NOT FOUND: mediterranean region', 'MESH NAME NOT FOUND: chlamydophila infections', 'MESH NAME NOT FOUND: carotid sinus', 'MESH NAME NOT FOUND: equipment and supplies, hospital', 'MESH NAME NOT FOUND: 1-carboxyglutamic acid', 'MESH NAME NOT FOUND: hypophysectomy', 'MESH NAME NOT FOUND: health transition', 'MESH NAME NOT FOUND: protamine kinase', 'MESH NAME NOT FOUND: psittacosis', 'MESH NAME NOT FOUND: diabetes insipidus, nephrogenic', 'MESH NAME NOT FOUND: heparinoids', 'MESH NAME NOT FOUND: ferredoxin-nadp reductase', 'MESH NAME NOT FOUND: rickets', 'MESH NAME NOT FOUND: pollination', 'MESH NAME NOT FOUND: tooth diseases', 'MESH NAME NOT FOUND: facial nerve injuries', 'MESH NAME NOT FOUND: hematuria', 'MESH NAME NOT FOUND: ethyl ethers', 'MESH NAME NOT FOUND: fluoridation', 'MESH NAME NOT FOUND: purpura', 'MESH NAME NOT FOUND: pregnancy maintenance', 'MESH NAME NOT FOUND: plasmapheresis', 'MESH NAME NOT FOUND: pindolol', 'MESH NAME NOT FOUND: minichromosome maintenance 1 protein', 'MESH NAME NOT FOUND: idiopathic interstitial pneumonias', 'MESH NAME NOT FOUND: enoyl-(acyl-carrier protein) reductase (nadph, b-specific)', 'MESH NAME NOT FOUND: mustard compounds', 'MESH NAME NOT FOUND: ketoglutarate dehydrogenase complex', 'MESH NAME NOT FOUND: artemisia annua', 'MESH NAME NOT FOUND: oculomotor nerve', 'MESH NAME NOT FOUND: adrenarche', 'MESH NAME NOT FOUND: dentin-bonding agents', 'MESH NAME NOT FOUND: plasticizers', 'MESH NAME NOT FOUND: methazolamide', 'MESH NAME NOT FOUND: aberrometry', 'MESH NAME NOT FOUND: dronedarone', 'MESH NAME NOT FOUND: information science', 'MESH NAME NOT FOUND: foundations', 'MESH NAME NOT FOUND: placenta, retained', 'MESH NAME NOT FOUND: genes, t-cell receptor gamma', 'MESH NAME NOT FOUND: glycogen synthase kinases', 'MESH NAME NOT FOUND: adrenal hyperplasia, congenital', 'MESH NAME NOT FOUND: receptors, interleukin-3', 'MESH NAME NOT FOUND: noble gases', 'MESH NAME NOT FOUND: aviation', 'MESH NAME NOT FOUND: dibenzothiazepines', 'MESH NAME NOT FOUND: corynebacterium glutamicum', 'MESH NAME NOT FOUND: interleukin-12 receptor beta 1 subunit', 'MESH NAME NOT FOUND: cherubism', 'MESH NAME NOT FOUND: tyrosinemias', 'MESH NAME NOT FOUND: pentoxifylline', 'MESH NAME NOT FOUND: rectovaginal fistula', 'MESH NAME NOT FOUND: deoxyribonucleases, type i site-specific', 'MESH NAME NOT FOUND: denial (psychology)', 'MESH NAME NOT FOUND: nonlinear optical microscopy', 'MESH NAME NOT FOUND: rubella syndrome, congenital', 'MESH NAME NOT FOUND: receptors, biogenic amine', 'MESH NAME NOT FOUND: 2s albumins, plant', 'MESH NAME NOT FOUND: hemoptysis', 'MESH NAME NOT FOUND: hepatic veno-occlusive disease', 'MESH NAME NOT FOUND: comamonas', 'MESH NAME NOT FOUND: virus uncoating', 'MESH NAME NOT FOUND: saururaceae', 'MESH NAME NOT FOUND: varicose veins', 'MESH NAME NOT FOUND: swallows', 'MESH NAME NOT FOUND: encyclopedias as topic', 'MESH NAME NOT FOUND: phosphoadenosine phosphosulfate', 'MESH NAME NOT FOUND: apolipoproteins d', 'MESH NAME NOT FOUND: korsakoff syndrome', 'MESH NAME NOT FOUND: anuria', 'MESH NAME NOT FOUND: hypopharynx', 'MESH NAME NOT FOUND: ticagrelor', 'MESH NAME NOT FOUND: arsenate reductases', 'MESH NAME NOT FOUND: spastin', 'MESH NAME NOT FOUND: immunoglobulins, thyroid-stimulating', 'MESH NAME NOT FOUND: silver sulfadiazine', 'MESH NAME NOT FOUND: guanylate cyclase-activating proteins', 'MESH NAME NOT FOUND: doppler effect', 'MESH NAME NOT FOUND: porphyromonas endodontalis', 'MESH NAME NOT FOUND: streptomyces rimosus', 'MESH NAME NOT FOUND: pipecolic acids', 'MESH NAME NOT FOUND: narrative therapy', 'MESH NAME NOT FOUND: nuclear cap-binding protein complex', 'MESH NAME NOT FOUND: digitoxin', 'MESH NAME NOT FOUND: safety-based drug withdrawals', 'MESH NAME NOT FOUND: fetal resorption', 'MESH NAME NOT FOUND: gamma-synuclein', 'MESH NAME NOT FOUND: methylosinus trichosporium', 'MESH NAME NOT FOUND: retinal hemorrhage', 'MESH NAME NOT FOUND: postoperative nausea and vomiting', 'MESH NAME NOT FOUND: pulse radiolysis', 'MESH NAME NOT FOUND: piperacillin', 'MESH NAME NOT FOUND: factor xiiia', 'MESH NAME NOT FOUND: aquifoliaceae', 'MESH NAME NOT FOUND: vertigo', 'MESH NAME NOT FOUND: taste disorders', 'MESH NAME NOT FOUND: hydroxyprogesterones', 'MESH NAME NOT FOUND: hepatitis b virus, duck', 'MESH NAME NOT FOUND: americium', 'MESH NAME NOT FOUND: waist-height ratio', 'MESH NAME NOT FOUND: shift work schedule', 'MESH NAME NOT FOUND: cnidarian venoms', 'MESH NAME NOT FOUND: cuspid', 'MESH NAME NOT FOUND: uterine artery embolization', 'MESH NAME NOT FOUND: group iii histone deacetylases', 'MESH NAME NOT FOUND: lordosis', 'MESH NAME NOT FOUND: cysteic acid', 'MESH NAME NOT FOUND: tuberculin', 'MESH NAME NOT FOUND: human papillomavirus dna tests', 'MESH NAME NOT FOUND: clorazepate dipotassium', 'MESH NAME NOT FOUND: carpometacarpal joints', 'MESH NAME NOT FOUND: oculomotor nerve diseases', 'MESH NAME NOT FOUND: coxiella', 'MESH NAME NOT FOUND: harmful algal bloom', 'MESH NAME NOT FOUND: ventilation', 'MESH NAME NOT FOUND: body fluid compartments', 'MESH NAME NOT FOUND: cerebrospinal fluid pressure', 'MESH NAME NOT FOUND: ant venoms', 'MESH NAME NOT FOUND: orthodontic appliance design', 'MESH NAME NOT FOUND: bile canaliculi', 'MESH NAME NOT FOUND: verticillium', 'MESH NAME NOT FOUND: cyclic amp-dependent protein kinase riibeta subunit', 'MESH NAME NOT FOUND: epicardial mapping', 'MESH NAME NOT FOUND: intrauterine devices, copper', 'MESH NAME NOT FOUND: photoinitiators, dental', 'MESH NAME NOT FOUND: lymphography', 'MESH NAME NOT FOUND: thiosulfate sulfurtransferase', 'MESH NAME NOT FOUND: night vision', 'MESH NAME NOT FOUND: pierre robin syndrome', 'MESH NAME NOT FOUND: extraction and processing industry', 'MESH NAME NOT FOUND: uroporphyrinogens', 'MESH NAME NOT FOUND: presenteeism', 'MESH NAME NOT FOUND: bronchial diseases', 'MESH NAME NOT FOUND: dichlororibofuranosylbenzimidazole', 'MESH NAME NOT FOUND: canavan disease', 'MESH NAME NOT FOUND: clinical laboratory information systems', 'MESH NAME NOT FOUND: pharmacy service, hospital', 'MESH NAME NOT FOUND: dental pulp calcification', 'MESH NAME NOT FOUND: herpesvirus 7, human', 'MESH NAME NOT FOUND: peplomycin', 'MESH NAME NOT FOUND: myasthenia gravis, autoimmune, experimental', 'MESH NAME NOT FOUND: bunyaviridae infections', 'MESH NAME NOT FOUND: coccidiostats', 'MESH NAME NOT FOUND: direct service costs', 'MESH NAME NOT FOUND: noncommunicable diseases', 'MESH NAME NOT FOUND: eye neoplasms', 'MESH NAME NOT FOUND: wales', 'MESH NAME NOT FOUND: glycogen phosphorylase, liver form', 'MESH NAME NOT FOUND: nose diseases', 'MESH NAME NOT FOUND: tonsillitis', 'MESH NAME NOT FOUND: core binding factors', 'MESH NAME NOT FOUND: fusion regulatory protein 1, heavy chain', 'MESH NAME NOT FOUND: limb salvage', 'MESH NAME NOT FOUND: sasa', 'MESH NAME NOT FOUND: monodelphis', 'MESH NAME NOT FOUND: megalencephaly', 'MESH NAME NOT FOUND: erythrosine', 'MESH NAME NOT FOUND: academic performance', 'MESH NAME NOT FOUND: eye color', 'MESH NAME NOT FOUND: pectinidae', 'MESH NAME NOT FOUND: physical conditioning, human', 'MESH NAME NOT FOUND: metal-on-metal joint prostheses', 'MESH NAME NOT FOUND: myeloma proteins', 'MESH NAME NOT FOUND: mitochondrial myopathies', 'MESH NAME NOT FOUND: dextrins', 'MESH NAME NOT FOUND: insulin, isophane', 'MESH NAME NOT FOUND: cytochrome p-450 enzyme inducers', 'MESH NAME NOT FOUND: common bile duct', 'MESH NAME NOT FOUND: clorgyline', 'MESH NAME NOT FOUND: respite care', 'MESH NAME NOT FOUND: education, special', 'MESH NAME NOT FOUND: celf proteins', 'MESH NAME NOT FOUND: eyeglasses', 'MESH NAME NOT FOUND: keratin-10', 'MESH NAME NOT FOUND: filoviridae infections', 'MESH NAME NOT FOUND: matrix metalloproteinase 16', 'MESH NAME NOT FOUND: carbonic anhydrase i', 'MESH NAME NOT FOUND: phd zinc fingers', 'MESH NAME NOT FOUND: monkeypox virus', 'MESH NAME NOT FOUND: ytterbium', 'MESH NAME NOT FOUND: fushi tarazu transcription factors', 'MESH NAME NOT FOUND: magnolia', 'MESH NAME NOT FOUND: paracoccidioidomycosis', 'MESH NAME NOT FOUND: streptococcus sobrinus', 'MESH NAME NOT FOUND: aspartate aminotransferase, cytoplasmic', 'MESH NAME NOT FOUND: telangiectasia, hereditary hemorrhagic', 'MESH NAME NOT FOUND: arac transcription factor', 'MESH NAME NOT FOUND: blood pressure monitors', 'MESH NAME NOT FOUND: echinacea', 'MESH NAME NOT FOUND: albinism, oculocutaneous', 'MESH NAME NOT FOUND: accidents', 'MESH NAME NOT FOUND: rheumatic fever', 'MESH NAME NOT FOUND: switzerland', 'MESH NAME NOT FOUND: zuclomiphene', 'MESH NAME NOT FOUND: fatty acid synthesis inhibitors', 'MESH NAME NOT FOUND: ribostamycin', 'MESH NAME NOT FOUND: child, institutionalized', 'MESH NAME NOT FOUND: indigenous peoples', 'MESH NAME NOT FOUND: melanoma, amelanotic', 'MESH NAME NOT FOUND: excitatory amino acids', 'MESH NAME NOT FOUND: sickle cell trait', 'MESH NAME NOT FOUND: mysticism', 'MESH NAME NOT FOUND: salvia miltiorrhiza', 'MESH NAME NOT FOUND: gastrointestinal absorption', 'MESH NAME NOT FOUND: heteroptera', 'MESH NAME NOT FOUND: tetanus', 'MESH NAME NOT FOUND: nidovirales', 'MESH NAME NOT FOUND: thyroid hormone resistance syndrome', 'MESH NAME NOT FOUND: new south wales', 'MESH NAME NOT FOUND: hygiene hypothesis', 'MESH NAME NOT FOUND: youth sports', 'MESH NAME NOT FOUND: employment, supported', 'MESH NAME NOT FOUND: valerates', 'MESH NAME NOT FOUND: mycoplasma iowae', 'MESH NAME NOT FOUND: hyoscyamus', 'MESH NAME NOT FOUND: 2,6-dichloroindophenol', 'MESH NAME NOT FOUND: beauty culture', 'MESH NAME NOT FOUND: microalgae', 'MESH NAME NOT FOUND: colon, ascending', 'MESH NAME NOT FOUND: sclerotherapy', 'MESH NAME NOT FOUND: lower urinary tract symptoms', 'MESH NAME NOT FOUND: torovirus', 'MESH NAME NOT FOUND: shigella dysenteriae', 'MESH NAME NOT FOUND: shoulder fractures', 'MESH NAME NOT FOUND: loperamide', 'MESH NAME NOT FOUND: casein kinases', 'MESH NAME NOT FOUND: 2,5-dimethoxy-4-methylamphetamine', 'MESH NAME NOT FOUND: lithiasis', 'MESH NAME NOT FOUND: caliciviridae', 'MESH NAME NOT FOUND: hydrocarbons, cyclic', 'MESH NAME NOT FOUND: renal plasma flow, effective', 'MESH NAME NOT FOUND: l cells (cell line)', 'MESH NAME NOT FOUND: grape seed extract', 'MESH NAME NOT FOUND: sapogenins', 'MESH NAME NOT FOUND: acne keloid', 'MESH NAME NOT FOUND: halothane', 'MESH NAME NOT FOUND: cathepsin c', 'MESH NAME NOT FOUND: leukemia virus, bovine', 'MESH NAME NOT FOUND: plantibodies', 'MESH NAME NOT FOUND: sibling relations', 'MESH NAME NOT FOUND: criminal behavior', 'MESH NAME NOT FOUND: splenic infarction', 'MESH NAME NOT FOUND: military facilities', 'MESH NAME NOT FOUND: paraffin', 'MESH NAME NOT FOUND: intrauterine devices, medicated', 'MESH NAME NOT FOUND: tea tree oil', 'MESH NAME NOT FOUND: uricosuric agents', 'MESH NAME NOT FOUND: pleural effusion, malignant', 'MESH NAME NOT FOUND: desert climate', 'MESH NAME NOT FOUND: credentialing', 'MESH NAME NOT FOUND: goosecoid protein', 'MESH NAME NOT FOUND: cell nucleus division', 'MESH NAME NOT FOUND: health care sector', 'MESH NAME NOT FOUND: space-time clustering', 'MESH NAME NOT FOUND: lipoid proteinosis of urbach and wiethe', 'MESH NAME NOT FOUND: abnormalities, radiation-induced', 'MESH NAME NOT FOUND: carbaryl', 'MESH NAME NOT FOUND: marinomonas', 'MESH NAME NOT FOUND: ribulosephosphates', 'MESH NAME NOT FOUND: x-ray therapy', 'MESH NAME NOT FOUND: antithrombin proteins', 'MESH NAME NOT FOUND: wolman disease', 'MESH NAME NOT FOUND: malignant hyperthermia', 'MESH NAME NOT FOUND: pseudohypoaldosteronism', 'MESH NAME NOT FOUND: history, 15th century', 'MESH NAME NOT FOUND: birth certificates', 'MESH NAME NOT FOUND: maximal voluntary ventilation', 'MESH NAME NOT FOUND: trapezium bone', 'MESH NAME NOT FOUND: lysergic acid', 'MESH NAME NOT FOUND: ephrin-b3', 'MESH NAME NOT FOUND: population forecast', 'MESH NAME NOT FOUND: hemoglobinometry', 'MESH NAME NOT FOUND: hemorrhagic fever with renal syndrome', 'MESH NAME NOT FOUND: food-drug interactions', 'MESH NAME NOT FOUND: walker-warburg syndrome', 'MESH NAME NOT FOUND: brain diseases, metabolic, inborn', 'MESH NAME NOT FOUND: subtilisin', 'MESH NAME NOT FOUND: balloon occlusion', 'MESH NAME NOT FOUND: amyloid neuropathies', 'MESH NAME NOT FOUND: carboxin', 'MESH NAME NOT FOUND: gravity, altered', 'MESH NAME NOT FOUND: logical observation identifiers names and codes', 'MESH NAME NOT FOUND: reinforcement, social', 'MESH NAME NOT FOUND: gangliosidoses, gm2', 'MESH NAME NOT FOUND: psychology, experimental', 'MESH NAME NOT FOUND: ascorbate peroxidases', 'MESH NAME NOT FOUND: gadiformes', 'MESH NAME NOT FOUND: rats, gunn', 'MESH NAME NOT FOUND: antennapedia homeodomain protein', 'MESH NAME NOT FOUND: histidine-trna ligase', 'MESH NAME NOT FOUND: ethanolaminephosphotransferase', 'MESH NAME NOT FOUND: duodenoscopy', 'MESH NAME NOT FOUND: puumala virus', 'MESH NAME NOT FOUND: gross domestic product', \"MESH NAME NOT FOUND: farmer's lung\", 'MESH NAME NOT FOUND: physical education and training', 'MESH NAME NOT FOUND: capsule endoscopy', 'MESH NAME NOT FOUND: replica techniques', 'MESH NAME NOT FOUND: facial neoplasms', 'MESH NAME NOT FOUND: vascular closure devices', 'MESH NAME NOT FOUND: retinal dysplasia', 'MESH NAME NOT FOUND: hydrocarbons, halogenated', 'MESH NAME NOT FOUND: integrative medicine', 'MESH NAME NOT FOUND: nematode infections', 'MESH NAME NOT FOUND: formoterol fumarate', 'MESH NAME NOT FOUND: receptors, interleukin-1 type ii', 'MESH NAME NOT FOUND: headache disorders', 'MESH NAME NOT FOUND: zinc finger nucleases', 'MESH NAME NOT FOUND: hexanols', 'MESH NAME NOT FOUND: phosphorous acids', 'MESH NAME NOT FOUND: influenza a virus, h1n2 subtype', 'MESH NAME NOT FOUND: hemoglobin c', 'MESH NAME NOT FOUND: aptamers, peptide']\n"
    }
   ],
   "source": [
    "df_all_cases = []\n",
    "\n",
    "for auth in auth_eps:\n",
    "    df_auth = df[df['last_author_name'] == auth] \n",
    "    data = ToyDS(df,[auth], vae_features = vae_feat)\n",
    "    data = torch.from_numpy(data.features).to(device,dtype=torch.float32)\n",
    "    _, mu, __ = model(data)\n",
    "    latent_feat = mu.detach().cpu().numpy()\n",
    "    df_all_cases.append([df_auth,latent_feat])"
   ]
  },
  {
   "cell_type": "code",
   "execution_count": 18,
   "metadata": {
    "collapsed": true,
    "jupyter": {
     "outputs_hidden": true
    },
    "tags": [
     "outputPrepend"
    ]
   },
   "outputs": [
    {
     "output_type": "display_data",
     "data": {
      "text/plain": "HBox(children=(IntProgress(value=0, max=15), HTML(value='')))",
      "application/vnd.jupyter.widget-view+json": {
       "version_major": 2,
       "version_minor": 0,
       "model_id": "fb59467f398f491387cd6d6a2ca276e8"
      }
     },
     "metadata": {}
    },
    {
     "output_type": "stream",
     "name": "stdout",
     "text": "  21\nNum Clusters:  20\nNum Unique Authors:  3\nPrecision:  1.0\nRecall:  0.19047619047619047\n               mis_integration  mis_separation\n3 cluster(s)                 1               1\n7 cluster(s)                 1               1\n10 cluster(s)                1               1\n\n-------------------\n\nSituation 51\nNum Papers:  18\nNum Clusters:  17\nNum Unique Authors:  3\nPrecision:  1.0\nRecall:  0.16666666666666666\n              mis_integration  mis_separation\n3 cluster(s)                1               1\n6 cluster(s)                1               1\n9 cluster(s)                1               1\n\n-------------------\n\nSituation 52\nNum Papers:  17\nNum Clusters:  16\nNum Unique Authors:  3\nPrecision:  1.0\nRecall:  0.23529411764705882\n              mis_integration  mis_separation\n3 cluster(s)                1               1\n4 cluster(s)                1               1\n9 cluster(s)                1               1\n\n-------------------\n\nSituation 53\nNum Papers:  42\nNum Clusters:  42\nNum Unique Authors:  3\nPrecision:  1.0\nRecall:  0.07142857142857142\n               mis_integration  mis_separation\n1 cluster(s)                 1               1\n14 cluster(s)                1               1\n27 cluster(s)                1               1\n\n-------------------\n\nSituation 54\nNum Papers:  13\nNum Clusters:  12\nNum Unique Authors:  3\nPrecision:  0.7692307692307693\nRecall:  0.23076923076923078\n              mis_integration  mis_separation\n1 cluster(s)                1               1\n6 cluster(s)                2               2\n\n-------------------\n\nSituation 55\nNum Papers:  26\nNum Clusters:  23\nNum Unique Authors:  3\nPrecision:  1.0\nRecall:  0.23076923076923078\n               mis_integration  mis_separation\n3 cluster(s)                 1               1\n7 cluster(s)                 1               1\n13 cluster(s)                1               1\n\n-------------------\n\nSituation 56\nNum Papers:  20\nNum Clusters:  19\nNum Unique Authors:  3\nPrecision:  1.0\nRecall:  0.2\n               mis_integration  mis_separation\n3 cluster(s)                 1               1\n5 cluster(s)                 1               1\n11 cluster(s)                1               1\n\n-------------------\n\nSituation 57\nNum Papers:  25\nNum Clusters:  23\nNum Unique Authors:  3\nPrecision:  1.0\nRecall:  0.2\n               mis_integration  mis_separation\n1 cluster(s)                 1               1\n10 cluster(s)                1               1\n12 cluster(s)                1               1\n\n-------------------\n\nSituation 58\nNum Papers:  43\nNum Clusters:  42\nNum Unique Authors:  3\nPrecision:  1.0\nRecall:  0.09302325581395349\n               mis_integration  mis_separation\n2 cluster(s)                 1               1\n20 cluster(s)                2               2\n\n-------------------\n\n\n\nTotal Precision: 0.9556440346465492\tTotal Recall: 0.1475272422464375\n                 2 cluster(s)  20 cluster(s)\nmis_integration      0.333333       0.666667\nmis_separation       0.333333       0.666667\nSituation 0\nNum Papers:  36\nNum Clusters:  32\nNum Unique Authors:  2\nPrecision:  1.0\nRecall:  0.08333333333333333\n               mis_integration  mis_separation\n15 cluster(s)                1               1\n18 cluster(s)                1               1\n\n-------------------\n\nSituation 1\nNum Papers:  11\nNum Clusters:  10\nNum Unique Authors:  2\nPrecision:  1.0\nRecall:  0.2727272727272727\n              mis_integration  mis_separation\n5 cluster(s)                2               2\n\n-------------------\n\nSituation 2\nNum Papers:  13\nNum Clusters:  13\nNum Unique Authors:  2\nPrecision:  1.0\nRecall:  0.15384615384615385\n              mis_integration  mis_separation\n4 cluster(s)                1               1\n9 cluster(s)                1               1\n\n-------------------\n\nSituation 3\nNum Papers:  12\nNum Clusters:  12\nNum Unique Authors:  2\nPrecision:  1.0\nRecall:  0.16666666666666666\n              mis_integration  mis_separation\n4 cluster(s)                1               1\n8 cluster(s)                1               1\n\n-------------------\n\nSituation 4\nNum Papers:  33\nNum Clusters:  27\nNum Unique Authors:  2\nPrecision:  1.0\nRecall:  0.24242424242424243\n               mis_integration  mis_separation\n8 cluster(s)                 1               1\n19 cluster(s)                1               1\n\n-------------------\n\nSituation 5\nNum Papers:  17\nNum Clusters:  17\nNum Unique Authors:  2\nPrecision:  1.0\nRecall:  0.11764705882352941\n               mis_integration  mis_separation\n7 cluster(s)                 1               1\n10 cluster(s)                1               1\n\n-------------------\n\nSituation 6\nNum Papers:  37\nNum Clusters:  36\nNum Unique Authors:  2\nPrecision:  1.0\nRecall:  0.08108108108108109\n               mis_integration  mis_separation\n11 cluster(s)                1               1\n25 cluster(s)                1               1\n\n-------------------\n\nSituation 7\nNum Papers:  8\nNum Clusters:  8\nNum Unique Authors:  2\nPrecision:  1.0\nRecall:  0.25\n              mis_integration  mis_separation\n4 cluster(s)                2               2\n\n-------------------\n\nSituation 8\nNum Papers:  18\nNum Clusters:  18\nNum Unique Authors:  2\nPrecision:  1.0\nRecall:  0.1111111111111111\n               mis_integration  mis_separation\n6 cluster(s)                 1               1\n12 cluster(s)                1               1\n\n-------------------\n\nSituation 9\nNum Papers:  17\nNum Clusters:  11\nNum Unique Authors:  2\nPrecision:  0.7058823529411765\nRecall:  0.11764705882352941\n               mis_integration  mis_separation\n7 cluster(s)                 1               1\n10 cluster(s)                1               1\n\n-------------------\n\nSituation 10\nNum Papers:  26\nNum Clusters:  26\nNum Unique Authors:  2\nPrecision:  1.0\nRecall:  0.07692307692307693\n               mis_integration  mis_separation\n9 cluster(s)                 1               1\n17 cluster(s)                1               1\n\n-------------------\n\nSituation 11\nNum Papers:  34\nNum Clusters:  31\nNum Unique Authors:  2\nPrecision:  0.8235294117647058\nRecall:  0.11764705882352941\n               mis_integration  mis_separation\n10 cluster(s)                1               1\n22 cluster(s)                1               1\n\n-------------------\n\nSituation 12\nNum Papers:  27\nNum Clusters:  26\nNum Unique Authors:  2\nPrecision:  1.0\nRecall:  0.07407407407407407\n               mis_integration  mis_separation\n8 cluster(s)                 1               1\n19 cluster(s)                1               1\n\n-------------------\n\nSituation 13\nNum Papers:  16\nNum Clusters:  15\nNum Unique Authors:  2\nPrecision:  1.0\nRecall:  0.125\n               mis_integration  mis_separation\n5 cluster(s)                 1               1\n11 cluster(s)                1               1\n\n-------------------\n\nSituation 14\nNum Papers:  23\nNum Clusters:  23\nNum Unique Authors:  2\nPrecision:  1.0\nRecall:  0.08695652173913043\n               mis_integration  mis_separation\n7 cluster(s)                 1               1\n16 cluster(s)                1               1\n\n-------------------\n\nSituation 15\nNum Papers:  9\nNum Clusters:  9\nNum Unique Authors:  2\nPrecision:  1.0\nRecall:  0.2222222222222222\n              mis_integration  mis_separation\n4 cluster(s)                1               1\n5 cluster(s)                1               1\n\n-------------------\n\nSituation 16\nNum Papers:  14\nNum Clusters:  14\nNum Unique Authors:  2\nPrecision:  1.0\nRecall:  0.14285714285714285\n              mis_integration  mis_separation\n5 cluster(s)                1               1\n9 cluster(s)                1               1\n\n-------------------\n\nSituation 17\nNum Papers:  18\nNum Clusters:  18\nNum Unique Authors:  2\nPrecision:  1.0\nRecall:  0.1111111111111111\n               mis_integration  mis_separation\n8 cluster(s)                 1               1\n10 cluster(s)                1               1\n\n-------------------\n\nSituation 18\nNum Papers:  19\nNum Clusters:  19\nNum Unique Authors:  2\nPrecision:  1.0\nRecall:  0.10526315789473684\n               mis_integration  mis_separation\n4 cluster(s)                 1               1\n15 cluster(s)                1               1\n\n-------------------\n\nSituation 19\nNum Papers:  40\nNum Clusters:  37\nNum Unique Authors:  2\nPrecision:  0.775\nRecall:  0.075\n               mis_integration  mis_separation\n13 cluster(s)                1               1\n26 cluster(s)                1               1\n\n-------------------\n\nSituation 20\nNum Papers:  12\nNum Clusters:  10\nNum Unique Authors:  2\nPrecision:  1.0\nRecall:  0.3333333333333333\n              mis_integration  mis_separation\n5 cluster(s)                2               2\n\n-------------------\n\nSituation 21\nNum Papers:  16\nNum Clusters:  14\nNum Unique Authors:  2\nPrecision:  0.71875\nRecall:  0.1875\n              mis_integration  mis_separation\n6 cluster(s)                1               1\n9 cluster(s)                1               1\n\n-------------------\n\nSituation 22\nNum Papers:  19\nNum Clusters:  17\nNum Unique Authors:  2\nPrecision:  0.8070175438596491\nRecall:  0.15789473684210525\n               mis_integration  mis_separation\n8 cluster(s)                 1               1\n10 cluster(s)                1               1\n\n-------------------\n\nSituation 23\nNum Papers:  10\nNum Clusters:  10\nNum Unique Authors:  2\nPrecision:  1.0\nRecall:  0.2\n              mis_integration  mis_separation\n4 cluster(s)                1               1\n6 cluster(s)                1               1\n\n-------------------\n\nSituation 24\nNum Papers:  12\nNum Clusters:  12\nNum Unique Authors:  2\nPrecision:  1.0\nRecall:  0.16666666666666666\n              mis_integration  mis_separation\n4 cluster(s)                1               1\n8 cluster(s)                1               1\n\n-------------------\n\nSituation 25\nNum Papers:  25\nNum Clusters:  24\nNum Unique Authors:  2\nPrecision:  1.0\nRecall:  0.12\n               mis_integration  mis_separation\n8 cluster(s)                 1               1\n16 cluster(s)                1               1\n\n-------------------\n\nSituation 26\nNum Papers:  11\nNum Clusters:  11\nNum Unique Authors:  2\nPrecision:  1.0\nRecall:  0.18181818181818182\n              mis_integration  mis_separation\n5 cluster(s)                1               1\n6 cluster(s)                1               1\n\n-------------------\n\nSituation 27\nNum Papers:  9\nNum Clusters:  9\nNum Unique Authors:  2\nPrecision:  1.0\nRecall:  0.2222222222222222\n              mis_integration  mis_separation\n4 cluster(s)                1               1\n5 cluster(s)                1               1\n\n-------------------\n\nSituation 28\nNum Papers:  29\nNum Clusters:  28\nNum Unique Authors:  2\nPrecision:  1.0\nRecall:  0.06896551724137931\n               mis_integration  mis_separation\n4 cluster(s)                 1               1\n25 cluster(s)                1               1\n\n-------------------\n\nSituation 29\nNum Papers:  15\nNum Clusters:  15\nNum Unique Authors:  2\nPrecision:  1.0\nRecall:  0.13333333333333333\n              mis_integration  mis_separation\n6 cluster(s)                1               1\n9 cluster(s)                1               1\n\n-------------------\n\nSituation 30\nNum Papers:  17\nNum Clusters:  14\nNum Unique Authors:  2\nPrecision:  0.8676470588235294\nRecall:  0.23529411764705882\n              mis_integration  mis_separation\n7 cluster(s)                1               1\n8 cluster(s)                1               1\n\n-------------------\n\nSituation 31\nNum Papers:  9\nNum Clusters:  8\nNum Unique Authors:  2\nPrecision:  1.0\nRecall:  0.2222222222222222\n              mis_integration  mis_separation\n4 cluster(s)                1               1\n5 cluster(s)                1               1\n\n-------------------\n\nSituation 32\nNum Papers:  17\nNum Clusters:  16\nNum Unique Authors:  2\nPrecision:  1.0\nRecall:  0.17647058823529413\n               mis_integration  mis_separation\n6 cluster(s)                 1               1\n10 cluster(s)                1               1\n\n-------------------\n\nSituation 33\nNum Papers:  18\nNum Clusters:  18\nNum Unique Authors:  2\nPrecision:  1.0\nRecall:  0.1111111111111111\n               mis_integration  mis_separation\n6 cluster(s)                 1               1\n12 cluster(s)                1               1\n\n-------------------\n\nSituation 34\nNum Papers:  17\nNum Clusters:  17\nNum Unique Authors:  2\nPrecision:  1.0\nRecall:  0.11764705882352941\n               mis_integration  mis_separation\n6 cluster(s)                 1               1\n11 cluster(s)                1               1\n\n-------------------\n\nSituation 35\nNum Papers:  10\nNum Clusters:  10\nNum Unique Authors:  2\nPrecision:  1.0\nRecall:  0.2\n              mis_integration  mis_separation\n4 cluster(s)                1               1\n6 cluster(s)                1               1\n\n-------------------\n\nSituation 36\nNum Papers:  30\nNum Clusters:  30\nNum Unique Authors:  2\nPrecision:  1.0\nRecall:  0.06666666666666667\n               mis_integration  mis_separation\n12 cluster(s)                1               1\n18 cluster(s)                1               1\n\n-------------------\n\nSituation 37\nNum Papers:  24\nNum Clusters:  21\nNum Unique Authors:  2\nPrecision:  1.0\nRecall:  0.16666666666666666\n               mis_integration  mis_separation\n6 cluster(s)                 1               1\n16 cluster(s)                1               1\n\n-------------------\n\nSituation 38\nNum Papers:  11\nNum Clusters:  11\nNum Unique Authors:  2\nPrecision:  1.0\nRecall:  0.18181818181818182\n              mis_integration  mis_separation\n4 cluster(s)                1               1\n7 cluster(s)                1               1\n\n-------------------\n\nSituation 39\nNum Papers:  41\nNum Clusters:  22\nNum Unique Authors:  3\nPrecision:  0.573170731707317\nRecall:  0.12195121951219512\n               mis_integration  mis_separation\n6 cluster(s)                 1               1\n15 cluster(s)                1               1\n16 cluster(s)                1               1\n\n-------------------\n\nSituation 40\nNum Papers:  15\nNum Clusters:  14\nNum Unique Authors:  3\nPrecision:  1.0\nRecall:  0.2\n               mis_integration  mis_separation\n1 cluster(s)                 1               1\n4 cluster(s)                 1               1\n10 cluster(s)                1               1\n\n-------------------\n\nSituation 41\nNum Papers:  15\nNum Clusters:  13\nNum Unique Authors:  3\nPrecision:  1.0\nRecall:  0.3333333333333333\n              mis_integration  mis_separation\n2 cluster(s)                1               1\n5 cluster(s)                1               1\n6 cluster(s)                1               1\n\n-------------------\n\nSituation 42\nNum Papers:  24\nNum Clusters:  23\nNum Unique Authors:  3\nPrecision:  1.0\nRecall:  0.16666666666666666\n              mis_integration  mis_separation\n7 cluster(s)                1               1\n8 cluster(s)                2               2\n\n-------------------\n\nSituation 43\nNum Papers:  23\nNum Clusters:  22\nNum Unique Authors:  3\nPrecision:  1.0\nRecall:  0.17391304347826086\n              mis_integration  mis_separation\n6 cluster(s)                1               1\n7 cluster(s)                1               1\n9 cluster(s)                1               1\n\n-------------------\n\nSituation 44\nNum Papers:  15\nNum Clusters:  15\nNum Unique Authors:  3\nPrecision:  1.0\nRecall:  0.2\n              mis_integration  mis_separation\n2 cluster(s)                1               1\n5 cluster(s)                1               1\n8 cluster(s)                1               1\n\n-------------------\n\nSituation 45\nNum Papers:  23\nNum Clusters:  23\nNum Unique Authors:  3\nPrecision:  1.0\nRecall:  0.13043478260869565\n               mis_integration  mis_separation\n3 cluster(s)                 1               1\n6 cluster(s)                 1               1\n14 cluster(s)                1               1\n\n-------------------\n\nSituation 46\nNum Papers:  15\nNum Clusters:  14\nNum Unique Authors:  3\nPrecision:  0.8666666666666667\nRecall:  0.2\n               mis_integration  mis_separation\n1 cluster(s)                 1               1\n4 cluster(s)                 1               1\n10 cluster(s)                1               1\n\n-------------------\n\nSituation 47\nNum Papers:  24\nNum Clusters:  24\nNum Unique Authors:  3\nPrecision:  1.0\nRecall:  0.125\n               mis_integration  mis_separation\n1 cluster(s)                 1               1\n9 cluster(s)                 1               1\n14 cluster(s)                1               1\n\n-------------------\n\nSituation 48\nNum Papers:  18\nNum Clusters:  17\nNum Unique Authors:  3\nPrecision:  1.0\nRecall:  0.2222222222222222\n               mis_integration  mis_separation\n1 cluster(s)                 1               1\n5 cluster(s)                 1               1\n11 cluster(s)                1               1\n\n-------------------\n\nSituation 49\nNum Papers:  16\nNum Clusters:  16\nNum Unique Authors:  3\nPrecision:  1.0\nRecall:  0.1875\n              mis_integration  mis_separation\n2 cluster(s)                1               1\n7 cluster(s)                2               2\n\n-------------------\n\nSituation 50\nNum Papers:  21\nNum Clusters:  20\nNum Unique Authors:  3\nPrecision:  1.0\nRecall:  0.19047619047619047\n               mis_integration  mis_separation\n3 cluster(s)                 1               1\n7 cluster(s)                 1               1\n10 cluster(s)                1               1\n\n-------------------\n\nSituation 51\nNum Papers:  18\nNum Clusters:  17\nNum Unique Authors:  3\nPrecision:  1.0\nRecall:  0.16666666666666666\n              mis_integration  mis_separation\n3 cluster(s)                1               1\n6 cluster(s)                1               1\n9 cluster(s)                1               1\n\n-------------------\n\nSituation 52\nNum Papers:  17\nNum Clusters:  16\nNum Unique Authors:  3\nPrecision:  1.0\nRecall:  0.23529411764705882\n              mis_integration  mis_separation\n3 cluster(s)                1               1\n4 cluster(s)                1               1\n9 cluster(s)                1               1\n\n-------------------\n\nSituation 53\nNum Papers:  42\nNum Clusters:  42\nNum Unique Authors:  3\nPrecision:  1.0\nRecall:  0.07142857142857142\n               mis_integration  mis_separation\n1 cluster(s)                 1               1\n14 cluster(s)                1               1\n27 cluster(s)                1               1\n\n-------------------\n\nSituation 54\nNum Papers:  13\nNum Clusters:  12\nNum Unique Authors:  3\nPrecision:  0.7692307692307693\nRecall:  0.23076923076923078\n              mis_integration  mis_separation\n1 cluster(s)                1               1\n6 cluster(s)                2               2\n\n-------------------\n\nSituation 55\nNum Papers:  26\nNum Clusters:  23\nNum Unique Authors:  3\nPrecision:  1.0\nRecall:  0.23076923076923078\n               mis_integration  mis_separation\n3 cluster(s)                 1               1\n7 cluster(s)                 1               1\n13 cluster(s)                1               1\n\n-------------------\n\nSituation 56\nNum Papers:  20\nNum Clusters:  19\nNum Unique Authors:  3\nPrecision:  1.0\nRecall:  0.2\n               mis_integration  mis_separation\n3 cluster(s)                 1               1\n5 cluster(s)                 1               1\n11 cluster(s)                1               1\n\n-------------------\n\nSituation 57\nNum Papers:  25\nNum Clusters:  23\nNum Unique Authors:  3\nPrecision:  1.0\nRecall:  0.2\n               mis_integration  mis_separation\n1 cluster(s)                 1               1\n10 cluster(s)                1               1\n12 cluster(s)                1               1\n\n-------------------\n\nSituation 58\nNum Papers:  43\nNum Clusters:  42\nNum Unique Authors:  3\nPrecision:  1.0\nRecall:  0.09302325581395349\n               mis_integration  mis_separation\n2 cluster(s)                 1               1\n20 cluster(s)                2               2\n\n-------------------\n\n\n\nTotal Precision: 0.9556440346465492\tTotal Recall: 0.1475272422464375\n                 2 cluster(s)  20 cluster(s)\nmis_integration      0.333333       0.666667\nmis_separation       0.333333       0.666667\n\n"
    }
   ],
   "source": [
    "db__eps = np.linspace(.40,.60,15)\n",
    "\n",
    "best_eps = None\n",
    "best_f1 = 0.0\n",
    "\n",
    "sil_score_log = {}\n",
    "\n",
    "for db_eps in tqdm_notebook(db__eps):\n",
    "        \n",
    "    y_hat_comb = []\n",
    "\n",
    "    for case in df_all_cases:\n",
    "        df_clus, latent_feat = case\n",
    "        y_hat = DBS(eps=db_eps,min_samples=1,metric=\"euclidean\").fit(latent_feat)\n",
    "        df_clus = df_clus[[\"pmid\",\"PI_IDS\"]]\n",
    "        df_clus['cluster_pred'] = y_hat.labels_\n",
    "        y_hat_comb.append(df_clus)\n",
    "\n",
    "        \n",
    "    f1, precision, recall, df_eval = metric_eval_2.get_metrics_many(y_hat_comb)\n",
    "\n",
    "    if f1 > best_f1:\n",
    "        best_f1 = f1\n",
    "        best_eps = db_eps"
   ]
  },
  {
   "cell_type": "code",
   "execution_count": null,
   "metadata": {},
   "outputs": [],
   "source": []
  },
  {
   "cell_type": "code",
   "execution_count": 19,
   "metadata": {
    "tags": []
   },
   "outputs": [
    {
     "output_type": "stream",
     "name": "stdout",
     "text": "0.5857142857142856\n0.25559680886133246\n"
    }
   ],
   "source": [
    "print(best_eps)\n",
    "print(best_f1)"
   ]
  },
  {
   "cell_type": "markdown",
   "metadata": {},
   "source": [
    "### GET SCORES FROM USE CASES"
   ]
  },
  {
   "cell_type": "code",
   "execution_count": 19,
   "metadata": {},
   "outputs": [],
   "source": [
    "def pipeline_vae_db(df,auth_df,authors,use_case,eps):\n",
    "    \n",
    "    if use_case == \"1_da\" or use_case == \"mix_bag\":\n",
    "        authors = sim_matrix_3.get_use_case(df,use_case)\n",
    "    else:\n",
    "        auth_df = df[df['last_author_name'].isin(authors)]   \n",
    "        authors = sim_matrix_3.get_use_case(auth_df,use_case)\n",
    "        \n",
    "    num_cases = len(authors)\n",
    "    \n",
    "    df_all_cases = []\n",
    "    all_papers = []\n",
    "\n",
    "    for i,auth in enumerate(authors):\n",
    "        print(\"Processing combination number {} from {}\".format(i+1,num_cases))\n",
    "        df_auth = df[df['last_author_name'] == auth]\n",
    "        all_papers.append(df_auth.shape[0])\n",
    "        #Calculate the distance matrix\n",
    "        \n",
    "        df_auth = df[df['last_author_name'] == auth] \n",
    "        data = ToyDS(df, [auth], vae_features = vae_feat)\n",
    "        data = torch.from_numpy(data.features).to(device,dtype=torch.float32)\n",
    "        _, mu, __ = model(data)\n",
    "        latent_feat = mu.detach().cpu().numpy()\n",
    "        df_all_cases.append([df_auth,latent_feat])\n",
    "\n",
    "    y_hat_comb = []\n",
    "    \n",
    "    for case in df_all_cases:\n",
    "        df_clus, latent_feat = case\n",
    "        y_hat = DBS(eps=db_eps,min_samples=1,metric=\"euclidean\").fit(latent_feat)\n",
    "        df_clus = df_clus[[\"pmid\",\"PI_IDS\"]]\n",
    "        df_clus['cluster_pred'] = y_hat.labels_\n",
    "        y_hat_comb.append(df_clus)\n",
    "    \n",
    "    return y_hat_comb, num_cases, np.mean(np.array(all_papers))"
   ]
  },
  {
   "cell_type": "code",
   "execution_count": 30,
   "metadata": {},
   "outputs": [],
   "source": [
    "def pipeline_vae_kmeans(df,auth_df,authors,use_case):\n",
    "    \n",
    "    if use_case == \"1_da\" or use_case == \"mix_bag\":\n",
    "        authors = sim_matrix_3.get_use_case(df,use_case)\n",
    "    else:\n",
    "        auth_df = df[df['last_author_name'].isin(authors)]   \n",
    "        authors = sim_matrix_3.get_use_case(auth_df,use_case)\n",
    "        \n",
    "    num_cases = len(authors)\n",
    "    \n",
    "    df_all_cases = []\n",
    "    all_papers = []\n",
    "\n",
    "    for i,auth in enumerate(authors):\n",
    "        print(\"Processing combination number {} from {}\".format(i+1,num_cases))\n",
    "        df_auth = df[df['last_author_name'] == auth]\n",
    "        all_papers.append(df_auth.shape[0])\n",
    "        #Calculate the distance matrix\n",
    "        \n",
    "        df_auth = df[df['last_author_name'] == auth] \n",
    "        data = ToyDS(df, [auth], vae_features = vae_feat)\n",
    "        data = torch.from_numpy(data.features).to(device,dtype=torch.float32)\n",
    "        _, mu, __ = model(data)\n",
    "        latent_feat = mu.detach().cpu().numpy()\n",
    "        df_all_cases.append([df_auth,latent_feat])\n",
    "\n",
    "    y_hat_comb = []\n",
    "    \n",
    "    for case in df_all_cases:\n",
    "        df_clus, latent_feat = case\n",
    "        \n",
    "        \n",
    "        \n",
    "#         y_hat = DBS(eps=db_eps,min_samples=1,metric=\"euclidean\").fit(latent_feat)\n",
    "        range_n_clusters = np.arange(1,11)\n",
    "        best_score = 0.0\n",
    "        best_n = None\n",
    "        best_labels = None\n",
    "        for n_clusters in range_n_clusters:\n",
    "            clusterer = KMeans(n_clusters=n_clusters, random_state=10)\n",
    "            cluster_labels = clusterer.fit_predict(latent_feat)\n",
    "            print(cluster_labels)\n",
    "            silhouette_avg = silhouette_score(latent_feat, cluster_labels)\n",
    "            sil_score_log[n_clusters] = silhouette_avg\n",
    "            if silhouette_avg > best_score:\n",
    "                best_score = silhouette_avg\n",
    "                best_n = n_clusters\n",
    "                best_labels = cluster_labels\n",
    "        \n",
    "        df_clus = df_clus[[\"pmid\",\"PI_IDS\"]]\n",
    "        df_clus['cluster_pred'] = best_labels.labels_\n",
    "        y_hat_comb.append(df_clus)\n",
    "    \n",
    "    return y_hat_comb, num_cases, np.mean(np.array(all_papers))"
   ]
  },
  {
   "cell_type": "code",
   "execution_count": 28,
   "metadata": {},
   "outputs": [],
   "source": [
    "usecase = list(pd.read_csv(\"./data/test_set_author_names.csv\").drop(columns=[\"Unnamed: 0\"])[\"0\"])\n",
    "df_usecase = df[df['last_author_name'].isin(usecase)]"
   ]
  },
  {
   "cell_type": "code",
   "execution_count": 31,
   "metadata": {},
   "outputs": [
    {
     "name": "stdout",
     "output_type": "stream",
     "text": [
      "Processing combination number 1 from 13\n",
      "Using pre-defined VAE FEATURES\n",
      "['MESH NAME NOT FOUND: Male', 'MESH NAME NOT FOUND: Reinforcement, Psychology', 'MESH NAME NOT FOUND: Neural Networks, Computer', 'MESH NAME NOT FOUND: Claustrum', 'MESH NAME NOT FOUND: Illicit Drugs', 'MESH NAME NOT FOUND: Cyclophilin D', \"MESH NAME NOT FOUND: Practice Patterns, Physicians'\", 'MESH NAME NOT FOUND: Pyruvate Dehydrogenase (Acetyl-Transferring) Kinase', 'MESH NAME NOT FOUND: Psychology, Positive', 'MESH NAME NOT FOUND: Copper-Transporting ATPases', 'MESH NAME NOT FOUND: Retention, Psychology', 'MESH NAME NOT FOUND: CSK Tyrosine-Protein Kinase', 'MESH NAME NOT FOUND: Inhibition, Psychological', 'MESH NAME NOT FOUND: Chlorocebus aethiops', 'MESH NAME NOT FOUND: Recognition, Psychology', 'MESH NAME NOT FOUND: Lactate Dehydrogenase 5', 'MESH NAME NOT FOUND: Early Intervention, Educational', 'MESH NAME NOT FOUND: Broadly Neutralizing Antibodies', 'MESH NAME NOT FOUND: Heterogeneous Nuclear Ribonucleoprotein D0', \"MESH NAME NOT FOUND: Practice Patterns, Nurses'\", 'MESH NAME NOT FOUND: Phosphoinositide-3 Kinase Inhibitors', 'MESH NAME NOT FOUND: Mitophagy', 'MESH NAME NOT FOUND: Confounding Factors, Epidemiologic', 'MESH NAME NOT FOUND: Stargardt Disease', 'MESH NAME NOT FOUND: Diet, Healthy', 'MESH NAME NOT FOUND: Centers for Medicare and Medicaid Services, U.S.', 'MESH NAME NOT FOUND: Outcome Assessment, Health Care', 'MESH NAME NOT FOUND: Formins', 'MESH NAME NOT FOUND: Sphingosine-1-Phosphate Receptors', 'MESH NAME NOT FOUND: Female', 'MESH NAME NOT FOUND: RNA, Circular', 'MESH NAME NOT FOUND: Aldehyde Dehydrogenase 1', 'MESH NAME NOT FOUND: Outcome and Process Assessment, Health Care', 'MESH NAME NOT FOUND: Conflict, Psychological', 'MESH NAME NOT FOUND: Discrimination, Psychological', 'MESH NAME NOT FOUND: Infections', 'MESH NAME NOT FOUND: Conditioning, Psychological', 'MESH NAME NOT FOUND: Dependency, Psychological', 'MESH NAME NOT FOUND: Stimuli Responsive Polymers']\n",
      "Processing combination number 2 from 13\n",
      "Using pre-defined VAE FEATURES\n",
      "['MESH NAME NOT FOUND: Male', 'MESH NAME NOT FOUND: Reinforcement, Psychology', 'MESH NAME NOT FOUND: Neural Networks, Computer', 'MESH NAME NOT FOUND: Claustrum', 'MESH NAME NOT FOUND: Illicit Drugs', 'MESH NAME NOT FOUND: Cyclophilin D', \"MESH NAME NOT FOUND: Practice Patterns, Physicians'\", 'MESH NAME NOT FOUND: Pyruvate Dehydrogenase (Acetyl-Transferring) Kinase', 'MESH NAME NOT FOUND: Psychology, Positive', 'MESH NAME NOT FOUND: Copper-Transporting ATPases', 'MESH NAME NOT FOUND: Retention, Psychology', 'MESH NAME NOT FOUND: CSK Tyrosine-Protein Kinase', 'MESH NAME NOT FOUND: Inhibition, Psychological', 'MESH NAME NOT FOUND: Chlorocebus aethiops', 'MESH NAME NOT FOUND: Recognition, Psychology', 'MESH NAME NOT FOUND: Lactate Dehydrogenase 5', 'MESH NAME NOT FOUND: Early Intervention, Educational', 'MESH NAME NOT FOUND: Broadly Neutralizing Antibodies', 'MESH NAME NOT FOUND: Heterogeneous Nuclear Ribonucleoprotein D0', \"MESH NAME NOT FOUND: Practice Patterns, Nurses'\", 'MESH NAME NOT FOUND: Phosphoinositide-3 Kinase Inhibitors', 'MESH NAME NOT FOUND: Mitophagy', 'MESH NAME NOT FOUND: Confounding Factors, Epidemiologic', 'MESH NAME NOT FOUND: Stargardt Disease', 'MESH NAME NOT FOUND: Diet, Healthy', 'MESH NAME NOT FOUND: Centers for Medicare and Medicaid Services, U.S.', 'MESH NAME NOT FOUND: Outcome Assessment, Health Care', 'MESH NAME NOT FOUND: Formins', 'MESH NAME NOT FOUND: Sphingosine-1-Phosphate Receptors', 'MESH NAME NOT FOUND: Female', 'MESH NAME NOT FOUND: RNA, Circular', 'MESH NAME NOT FOUND: Aldehyde Dehydrogenase 1', 'MESH NAME NOT FOUND: Outcome and Process Assessment, Health Care', 'MESH NAME NOT FOUND: Conflict, Psychological', 'MESH NAME NOT FOUND: Discrimination, Psychological', 'MESH NAME NOT FOUND: Infections', 'MESH NAME NOT FOUND: Conditioning, Psychological', 'MESH NAME NOT FOUND: Dependency, Psychological', 'MESH NAME NOT FOUND: Stimuli Responsive Polymers']\n",
      "Processing combination number 3 from 13\n"
     ]
    },
    {
     "name": "stderr",
     "output_type": "stream",
     "text": [
      "/home/ubuntu/AYP/code/py_4/get_all_features.py:83: SettingWithCopyWarning: \n",
      "A value is trying to be set on a copy of a slice from a DataFrame.\n",
      "Try using .loc[row_indexer,col_indexer] = value instead\n",
      "\n",
      "See the caveats in the documentation: https://pandas.pydata.org/pandas-docs/stable/user_guide/indexing.html#returning-a-view-versus-a-copy\n",
      "  df['co_authors']=df.authors.apply( lambda x: [i['name'] for i in x] )\n",
      "/home/ubuntu/AYP/code/py_4/get_all_features.py:83: SettingWithCopyWarning: \n",
      "A value is trying to be set on a copy of a slice from a DataFrame.\n",
      "Try using .loc[row_indexer,col_indexer] = value instead\n",
      "\n",
      "See the caveats in the documentation: https://pandas.pydata.org/pandas-docs/stable/user_guide/indexing.html#returning-a-view-versus-a-copy\n",
      "  df['co_authors']=df.authors.apply( lambda x: [i['name'] for i in x] )\n",
      "/home/ubuntu/AYP/code/py_4/get_all_features.py:83: SettingWithCopyWarning: \n",
      "A value is trying to be set on a copy of a slice from a DataFrame.\n",
      "Try using .loc[row_indexer,col_indexer] = value instead\n",
      "\n",
      "See the caveats in the documentation: https://pandas.pydata.org/pandas-docs/stable/user_guide/indexing.html#returning-a-view-versus-a-copy\n",
      "  df['co_authors']=df.authors.apply( lambda x: [i['name'] for i in x] )\n"
     ]
    },
    {
     "name": "stdout",
     "output_type": "stream",
     "text": [
      "Using pre-defined VAE FEATURES\n",
      "['MESH NAME NOT FOUND: Male', 'MESH NAME NOT FOUND: Reinforcement, Psychology', 'MESH NAME NOT FOUND: Neural Networks, Computer', 'MESH NAME NOT FOUND: Claustrum', 'MESH NAME NOT FOUND: Illicit Drugs', 'MESH NAME NOT FOUND: Cyclophilin D', \"MESH NAME NOT FOUND: Practice Patterns, Physicians'\", 'MESH NAME NOT FOUND: Pyruvate Dehydrogenase (Acetyl-Transferring) Kinase', 'MESH NAME NOT FOUND: Psychology, Positive', 'MESH NAME NOT FOUND: Copper-Transporting ATPases', 'MESH NAME NOT FOUND: Retention, Psychology', 'MESH NAME NOT FOUND: CSK Tyrosine-Protein Kinase', 'MESH NAME NOT FOUND: Inhibition, Psychological', 'MESH NAME NOT FOUND: Chlorocebus aethiops', 'MESH NAME NOT FOUND: Recognition, Psychology', 'MESH NAME NOT FOUND: Lactate Dehydrogenase 5', 'MESH NAME NOT FOUND: Early Intervention, Educational', 'MESH NAME NOT FOUND: Broadly Neutralizing Antibodies', 'MESH NAME NOT FOUND: Heterogeneous Nuclear Ribonucleoprotein D0', \"MESH NAME NOT FOUND: Practice Patterns, Nurses'\", 'MESH NAME NOT FOUND: Phosphoinositide-3 Kinase Inhibitors', 'MESH NAME NOT FOUND: Mitophagy', 'MESH NAME NOT FOUND: Confounding Factors, Epidemiologic', 'MESH NAME NOT FOUND: Stargardt Disease', 'MESH NAME NOT FOUND: Diet, Healthy', 'MESH NAME NOT FOUND: Centers for Medicare and Medicaid Services, U.S.', 'MESH NAME NOT FOUND: Outcome Assessment, Health Care', 'MESH NAME NOT FOUND: Formins', 'MESH NAME NOT FOUND: Sphingosine-1-Phosphate Receptors', 'MESH NAME NOT FOUND: Female', 'MESH NAME NOT FOUND: RNA, Circular', 'MESH NAME NOT FOUND: Aldehyde Dehydrogenase 1', 'MESH NAME NOT FOUND: Outcome and Process Assessment, Health Care', 'MESH NAME NOT FOUND: Conflict, Psychological', 'MESH NAME NOT FOUND: Discrimination, Psychological', 'MESH NAME NOT FOUND: Infections', 'MESH NAME NOT FOUND: Conditioning, Psychological', 'MESH NAME NOT FOUND: Dependency, Psychological', 'MESH NAME NOT FOUND: Stimuli Responsive Polymers']\n",
      "Processing combination number 4 from 13\n",
      "Using pre-defined VAE FEATURES\n",
      "['MESH NAME NOT FOUND: Male', 'MESH NAME NOT FOUND: Reinforcement, Psychology', 'MESH NAME NOT FOUND: Neural Networks, Computer', 'MESH NAME NOT FOUND: Claustrum', 'MESH NAME NOT FOUND: Illicit Drugs', 'MESH NAME NOT FOUND: Cyclophilin D', \"MESH NAME NOT FOUND: Practice Patterns, Physicians'\", 'MESH NAME NOT FOUND: Pyruvate Dehydrogenase (Acetyl-Transferring) Kinase', 'MESH NAME NOT FOUND: Psychology, Positive', 'MESH NAME NOT FOUND: Copper-Transporting ATPases', 'MESH NAME NOT FOUND: Retention, Psychology', 'MESH NAME NOT FOUND: CSK Tyrosine-Protein Kinase', 'MESH NAME NOT FOUND: Inhibition, Psychological', 'MESH NAME NOT FOUND: Chlorocebus aethiops', 'MESH NAME NOT FOUND: Recognition, Psychology', 'MESH NAME NOT FOUND: Lactate Dehydrogenase 5', 'MESH NAME NOT FOUND: Early Intervention, Educational', 'MESH NAME NOT FOUND: Broadly Neutralizing Antibodies', 'MESH NAME NOT FOUND: Heterogeneous Nuclear Ribonucleoprotein D0', \"MESH NAME NOT FOUND: Practice Patterns, Nurses'\", 'MESH NAME NOT FOUND: Phosphoinositide-3 Kinase Inhibitors', 'MESH NAME NOT FOUND: Mitophagy', 'MESH NAME NOT FOUND: Confounding Factors, Epidemiologic', 'MESH NAME NOT FOUND: Stargardt Disease', 'MESH NAME NOT FOUND: Diet, Healthy', 'MESH NAME NOT FOUND: Centers for Medicare and Medicaid Services, U.S.', 'MESH NAME NOT FOUND: Outcome Assessment, Health Care', 'MESH NAME NOT FOUND: Formins', 'MESH NAME NOT FOUND: Sphingosine-1-Phosphate Receptors', 'MESH NAME NOT FOUND: Female', 'MESH NAME NOT FOUND: RNA, Circular', 'MESH NAME NOT FOUND: Aldehyde Dehydrogenase 1', 'MESH NAME NOT FOUND: Outcome and Process Assessment, Health Care', 'MESH NAME NOT FOUND: Conflict, Psychological', 'MESH NAME NOT FOUND: Discrimination, Psychological', 'MESH NAME NOT FOUND: Infections', 'MESH NAME NOT FOUND: Conditioning, Psychological', 'MESH NAME NOT FOUND: Dependency, Psychological', 'MESH NAME NOT FOUND: Stimuli Responsive Polymers']\n",
      "Processing combination number 5 from 13\n",
      "Using pre-defined VAE FEATURES\n",
      "['MESH NAME NOT FOUND: Male', 'MESH NAME NOT FOUND: Reinforcement, Psychology', 'MESH NAME NOT FOUND: Neural Networks, Computer', 'MESH NAME NOT FOUND: Claustrum', 'MESH NAME NOT FOUND: Illicit Drugs', 'MESH NAME NOT FOUND: Cyclophilin D', \"MESH NAME NOT FOUND: Practice Patterns, Physicians'\", 'MESH NAME NOT FOUND: Pyruvate Dehydrogenase (Acetyl-Transferring) Kinase', 'MESH NAME NOT FOUND: Psychology, Positive', 'MESH NAME NOT FOUND: Copper-Transporting ATPases', 'MESH NAME NOT FOUND: Retention, Psychology', 'MESH NAME NOT FOUND: CSK Tyrosine-Protein Kinase', 'MESH NAME NOT FOUND: Inhibition, Psychological', 'MESH NAME NOT FOUND: Chlorocebus aethiops', 'MESH NAME NOT FOUND: Recognition, Psychology', 'MESH NAME NOT FOUND: Lactate Dehydrogenase 5', 'MESH NAME NOT FOUND: Early Intervention, Educational', 'MESH NAME NOT FOUND: Broadly Neutralizing Antibodies', 'MESH NAME NOT FOUND: Heterogeneous Nuclear Ribonucleoprotein D0', \"MESH NAME NOT FOUND: Practice Patterns, Nurses'\", 'MESH NAME NOT FOUND: Phosphoinositide-3 Kinase Inhibitors', 'MESH NAME NOT FOUND: Mitophagy', 'MESH NAME NOT FOUND: Confounding Factors, Epidemiologic', 'MESH NAME NOT FOUND: Stargardt Disease', 'MESH NAME NOT FOUND: Diet, Healthy', 'MESH NAME NOT FOUND: Centers for Medicare and Medicaid Services, U.S.', 'MESH NAME NOT FOUND: Outcome Assessment, Health Care', 'MESH NAME NOT FOUND: Formins', 'MESH NAME NOT FOUND: Sphingosine-1-Phosphate Receptors', 'MESH NAME NOT FOUND: Female', 'MESH NAME NOT FOUND: RNA, Circular', 'MESH NAME NOT FOUND: Aldehyde Dehydrogenase 1', 'MESH NAME NOT FOUND: Outcome and Process Assessment, Health Care', 'MESH NAME NOT FOUND: Conflict, Psychological', 'MESH NAME NOT FOUND: Discrimination, Psychological', 'MESH NAME NOT FOUND: Infections', 'MESH NAME NOT FOUND: Conditioning, Psychological', 'MESH NAME NOT FOUND: Dependency, Psychological', 'MESH NAME NOT FOUND: Stimuli Responsive Polymers']\n",
      "Processing combination number 6 from 13\n"
     ]
    },
    {
     "name": "stderr",
     "output_type": "stream",
     "text": [
      "/home/ubuntu/AYP/code/py_4/get_all_features.py:83: SettingWithCopyWarning: \n",
      "A value is trying to be set on a copy of a slice from a DataFrame.\n",
      "Try using .loc[row_indexer,col_indexer] = value instead\n",
      "\n",
      "See the caveats in the documentation: https://pandas.pydata.org/pandas-docs/stable/user_guide/indexing.html#returning-a-view-versus-a-copy\n",
      "  df['co_authors']=df.authors.apply( lambda x: [i['name'] for i in x] )\n",
      "/home/ubuntu/AYP/code/py_4/get_all_features.py:83: SettingWithCopyWarning: \n",
      "A value is trying to be set on a copy of a slice from a DataFrame.\n",
      "Try using .loc[row_indexer,col_indexer] = value instead\n",
      "\n",
      "See the caveats in the documentation: https://pandas.pydata.org/pandas-docs/stable/user_guide/indexing.html#returning-a-view-versus-a-copy\n",
      "  df['co_authors']=df.authors.apply( lambda x: [i['name'] for i in x] )\n",
      "/home/ubuntu/AYP/code/py_4/get_all_features.py:83: SettingWithCopyWarning: \n",
      "A value is trying to be set on a copy of a slice from a DataFrame.\n",
      "Try using .loc[row_indexer,col_indexer] = value instead\n",
      "\n",
      "See the caveats in the documentation: https://pandas.pydata.org/pandas-docs/stable/user_guide/indexing.html#returning-a-view-versus-a-copy\n",
      "  df['co_authors']=df.authors.apply( lambda x: [i['name'] for i in x] )\n"
     ]
    },
    {
     "name": "stdout",
     "output_type": "stream",
     "text": [
      "Using pre-defined VAE FEATURES\n",
      "['MESH NAME NOT FOUND: Male', 'MESH NAME NOT FOUND: Reinforcement, Psychology', 'MESH NAME NOT FOUND: Neural Networks, Computer', 'MESH NAME NOT FOUND: Claustrum', 'MESH NAME NOT FOUND: Illicit Drugs', 'MESH NAME NOT FOUND: Cyclophilin D', \"MESH NAME NOT FOUND: Practice Patterns, Physicians'\", 'MESH NAME NOT FOUND: Pyruvate Dehydrogenase (Acetyl-Transferring) Kinase', 'MESH NAME NOT FOUND: Psychology, Positive', 'MESH NAME NOT FOUND: Copper-Transporting ATPases', 'MESH NAME NOT FOUND: Retention, Psychology', 'MESH NAME NOT FOUND: CSK Tyrosine-Protein Kinase', 'MESH NAME NOT FOUND: Inhibition, Psychological', 'MESH NAME NOT FOUND: Chlorocebus aethiops', 'MESH NAME NOT FOUND: Recognition, Psychology', 'MESH NAME NOT FOUND: Lactate Dehydrogenase 5', 'MESH NAME NOT FOUND: Early Intervention, Educational', 'MESH NAME NOT FOUND: Broadly Neutralizing Antibodies', 'MESH NAME NOT FOUND: Heterogeneous Nuclear Ribonucleoprotein D0', \"MESH NAME NOT FOUND: Practice Patterns, Nurses'\", 'MESH NAME NOT FOUND: Phosphoinositide-3 Kinase Inhibitors', 'MESH NAME NOT FOUND: Mitophagy', 'MESH NAME NOT FOUND: Confounding Factors, Epidemiologic', 'MESH NAME NOT FOUND: Stargardt Disease', 'MESH NAME NOT FOUND: Diet, Healthy', 'MESH NAME NOT FOUND: Centers for Medicare and Medicaid Services, U.S.', 'MESH NAME NOT FOUND: Outcome Assessment, Health Care', 'MESH NAME NOT FOUND: Formins', 'MESH NAME NOT FOUND: Sphingosine-1-Phosphate Receptors', 'MESH NAME NOT FOUND: Female', 'MESH NAME NOT FOUND: RNA, Circular', 'MESH NAME NOT FOUND: Aldehyde Dehydrogenase 1', 'MESH NAME NOT FOUND: Outcome and Process Assessment, Health Care', 'MESH NAME NOT FOUND: Conflict, Psychological', 'MESH NAME NOT FOUND: Discrimination, Psychological', 'MESH NAME NOT FOUND: Infections', 'MESH NAME NOT FOUND: Conditioning, Psychological', 'MESH NAME NOT FOUND: Dependency, Psychological', 'MESH NAME NOT FOUND: Stimuli Responsive Polymers']\n",
      "Processing combination number 7 from 13\n",
      "Using pre-defined VAE FEATURES\n",
      "['MESH NAME NOT FOUND: Male', 'MESH NAME NOT FOUND: Reinforcement, Psychology', 'MESH NAME NOT FOUND: Neural Networks, Computer', 'MESH NAME NOT FOUND: Claustrum', 'MESH NAME NOT FOUND: Illicit Drugs', 'MESH NAME NOT FOUND: Cyclophilin D', \"MESH NAME NOT FOUND: Practice Patterns, Physicians'\", 'MESH NAME NOT FOUND: Pyruvate Dehydrogenase (Acetyl-Transferring) Kinase', 'MESH NAME NOT FOUND: Psychology, Positive', 'MESH NAME NOT FOUND: Copper-Transporting ATPases', 'MESH NAME NOT FOUND: Retention, Psychology', 'MESH NAME NOT FOUND: CSK Tyrosine-Protein Kinase', 'MESH NAME NOT FOUND: Inhibition, Psychological', 'MESH NAME NOT FOUND: Chlorocebus aethiops', 'MESH NAME NOT FOUND: Recognition, Psychology', 'MESH NAME NOT FOUND: Lactate Dehydrogenase 5', 'MESH NAME NOT FOUND: Early Intervention, Educational', 'MESH NAME NOT FOUND: Broadly Neutralizing Antibodies', 'MESH NAME NOT FOUND: Heterogeneous Nuclear Ribonucleoprotein D0', \"MESH NAME NOT FOUND: Practice Patterns, Nurses'\", 'MESH NAME NOT FOUND: Phosphoinositide-3 Kinase Inhibitors', 'MESH NAME NOT FOUND: Mitophagy', 'MESH NAME NOT FOUND: Confounding Factors, Epidemiologic', 'MESH NAME NOT FOUND: Stargardt Disease', 'MESH NAME NOT FOUND: Diet, Healthy', 'MESH NAME NOT FOUND: Centers for Medicare and Medicaid Services, U.S.', 'MESH NAME NOT FOUND: Outcome Assessment, Health Care', 'MESH NAME NOT FOUND: Formins', 'MESH NAME NOT FOUND: Sphingosine-1-Phosphate Receptors', 'MESH NAME NOT FOUND: Female', 'MESH NAME NOT FOUND: RNA, Circular', 'MESH NAME NOT FOUND: Aldehyde Dehydrogenase 1', 'MESH NAME NOT FOUND: Outcome and Process Assessment, Health Care', 'MESH NAME NOT FOUND: Conflict, Psychological', 'MESH NAME NOT FOUND: Discrimination, Psychological', 'MESH NAME NOT FOUND: Infections', 'MESH NAME NOT FOUND: Conditioning, Psychological', 'MESH NAME NOT FOUND: Dependency, Psychological', 'MESH NAME NOT FOUND: Stimuli Responsive Polymers']\n",
      "Processing combination number 8 from 13\n",
      "Using pre-defined VAE FEATURES\n",
      "['MESH NAME NOT FOUND: Male', 'MESH NAME NOT FOUND: Reinforcement, Psychology', 'MESH NAME NOT FOUND: Neural Networks, Computer', 'MESH NAME NOT FOUND: Claustrum', 'MESH NAME NOT FOUND: Illicit Drugs', 'MESH NAME NOT FOUND: Cyclophilin D', \"MESH NAME NOT FOUND: Practice Patterns, Physicians'\", 'MESH NAME NOT FOUND: Pyruvate Dehydrogenase (Acetyl-Transferring) Kinase', 'MESH NAME NOT FOUND: Psychology, Positive', 'MESH NAME NOT FOUND: Copper-Transporting ATPases', 'MESH NAME NOT FOUND: Retention, Psychology', 'MESH NAME NOT FOUND: CSK Tyrosine-Protein Kinase', 'MESH NAME NOT FOUND: Inhibition, Psychological', 'MESH NAME NOT FOUND: Chlorocebus aethiops', 'MESH NAME NOT FOUND: Recognition, Psychology', 'MESH NAME NOT FOUND: Lactate Dehydrogenase 5', 'MESH NAME NOT FOUND: Early Intervention, Educational', 'MESH NAME NOT FOUND: Broadly Neutralizing Antibodies', 'MESH NAME NOT FOUND: Heterogeneous Nuclear Ribonucleoprotein D0', \"MESH NAME NOT FOUND: Practice Patterns, Nurses'\", 'MESH NAME NOT FOUND: Phosphoinositide-3 Kinase Inhibitors', 'MESH NAME NOT FOUND: Mitophagy', 'MESH NAME NOT FOUND: Confounding Factors, Epidemiologic', 'MESH NAME NOT FOUND: Stargardt Disease', 'MESH NAME NOT FOUND: Diet, Healthy', 'MESH NAME NOT FOUND: Centers for Medicare and Medicaid Services, U.S.', 'MESH NAME NOT FOUND: Outcome Assessment, Health Care', 'MESH NAME NOT FOUND: Formins', 'MESH NAME NOT FOUND: Sphingosine-1-Phosphate Receptors', 'MESH NAME NOT FOUND: Female', 'MESH NAME NOT FOUND: RNA, Circular', 'MESH NAME NOT FOUND: Aldehyde Dehydrogenase 1', 'MESH NAME NOT FOUND: Outcome and Process Assessment, Health Care', 'MESH NAME NOT FOUND: Conflict, Psychological', 'MESH NAME NOT FOUND: Discrimination, Psychological', 'MESH NAME NOT FOUND: Infections', 'MESH NAME NOT FOUND: Conditioning, Psychological', 'MESH NAME NOT FOUND: Dependency, Psychological', 'MESH NAME NOT FOUND: Stimuli Responsive Polymers']\n",
      "Processing combination number 9 from 13\n"
     ]
    },
    {
     "name": "stderr",
     "output_type": "stream",
     "text": [
      "/home/ubuntu/AYP/code/py_4/get_all_features.py:83: SettingWithCopyWarning: \n",
      "A value is trying to be set on a copy of a slice from a DataFrame.\n",
      "Try using .loc[row_indexer,col_indexer] = value instead\n",
      "\n",
      "See the caveats in the documentation: https://pandas.pydata.org/pandas-docs/stable/user_guide/indexing.html#returning-a-view-versus-a-copy\n",
      "  df['co_authors']=df.authors.apply( lambda x: [i['name'] for i in x] )\n",
      "/home/ubuntu/AYP/code/py_4/get_all_features.py:83: SettingWithCopyWarning: \n",
      "A value is trying to be set on a copy of a slice from a DataFrame.\n",
      "Try using .loc[row_indexer,col_indexer] = value instead\n",
      "\n",
      "See the caveats in the documentation: https://pandas.pydata.org/pandas-docs/stable/user_guide/indexing.html#returning-a-view-versus-a-copy\n",
      "  df['co_authors']=df.authors.apply( lambda x: [i['name'] for i in x] )\n",
      "/home/ubuntu/AYP/code/py_4/get_all_features.py:83: SettingWithCopyWarning: \n",
      "A value is trying to be set on a copy of a slice from a DataFrame.\n",
      "Try using .loc[row_indexer,col_indexer] = value instead\n",
      "\n",
      "See the caveats in the documentation: https://pandas.pydata.org/pandas-docs/stable/user_guide/indexing.html#returning-a-view-versus-a-copy\n",
      "  df['co_authors']=df.authors.apply( lambda x: [i['name'] for i in x] )\n"
     ]
    },
    {
     "name": "stdout",
     "output_type": "stream",
     "text": [
      "Using pre-defined VAE FEATURES\n",
      "['MESH NAME NOT FOUND: Male', 'MESH NAME NOT FOUND: Reinforcement, Psychology', 'MESH NAME NOT FOUND: Neural Networks, Computer', 'MESH NAME NOT FOUND: Claustrum', 'MESH NAME NOT FOUND: Illicit Drugs', 'MESH NAME NOT FOUND: Cyclophilin D', \"MESH NAME NOT FOUND: Practice Patterns, Physicians'\", 'MESH NAME NOT FOUND: Pyruvate Dehydrogenase (Acetyl-Transferring) Kinase', 'MESH NAME NOT FOUND: Psychology, Positive', 'MESH NAME NOT FOUND: Copper-Transporting ATPases', 'MESH NAME NOT FOUND: Retention, Psychology', 'MESH NAME NOT FOUND: CSK Tyrosine-Protein Kinase', 'MESH NAME NOT FOUND: Inhibition, Psychological', 'MESH NAME NOT FOUND: Chlorocebus aethiops', 'MESH NAME NOT FOUND: Recognition, Psychology', 'MESH NAME NOT FOUND: Lactate Dehydrogenase 5', 'MESH NAME NOT FOUND: Early Intervention, Educational', 'MESH NAME NOT FOUND: Broadly Neutralizing Antibodies', 'MESH NAME NOT FOUND: Heterogeneous Nuclear Ribonucleoprotein D0', \"MESH NAME NOT FOUND: Practice Patterns, Nurses'\", 'MESH NAME NOT FOUND: Phosphoinositide-3 Kinase Inhibitors', 'MESH NAME NOT FOUND: Mitophagy', 'MESH NAME NOT FOUND: Confounding Factors, Epidemiologic', 'MESH NAME NOT FOUND: Stargardt Disease', 'MESH NAME NOT FOUND: Diet, Healthy', 'MESH NAME NOT FOUND: Centers for Medicare and Medicaid Services, U.S.', 'MESH NAME NOT FOUND: Outcome Assessment, Health Care', 'MESH NAME NOT FOUND: Formins', 'MESH NAME NOT FOUND: Sphingosine-1-Phosphate Receptors', 'MESH NAME NOT FOUND: Female', 'MESH NAME NOT FOUND: RNA, Circular', 'MESH NAME NOT FOUND: Aldehyde Dehydrogenase 1', 'MESH NAME NOT FOUND: Outcome and Process Assessment, Health Care', 'MESH NAME NOT FOUND: Conflict, Psychological', 'MESH NAME NOT FOUND: Discrimination, Psychological', 'MESH NAME NOT FOUND: Infections', 'MESH NAME NOT FOUND: Conditioning, Psychological', 'MESH NAME NOT FOUND: Dependency, Psychological', 'MESH NAME NOT FOUND: Stimuli Responsive Polymers']\n",
      "Processing combination number 10 from 13\n",
      "Using pre-defined VAE FEATURES\n",
      "['MESH NAME NOT FOUND: Male', 'MESH NAME NOT FOUND: Reinforcement, Psychology', 'MESH NAME NOT FOUND: Neural Networks, Computer', 'MESH NAME NOT FOUND: Claustrum', 'MESH NAME NOT FOUND: Illicit Drugs', 'MESH NAME NOT FOUND: Cyclophilin D', \"MESH NAME NOT FOUND: Practice Patterns, Physicians'\", 'MESH NAME NOT FOUND: Pyruvate Dehydrogenase (Acetyl-Transferring) Kinase', 'MESH NAME NOT FOUND: Psychology, Positive', 'MESH NAME NOT FOUND: Copper-Transporting ATPases', 'MESH NAME NOT FOUND: Retention, Psychology', 'MESH NAME NOT FOUND: CSK Tyrosine-Protein Kinase', 'MESH NAME NOT FOUND: Inhibition, Psychological', 'MESH NAME NOT FOUND: Chlorocebus aethiops', 'MESH NAME NOT FOUND: Recognition, Psychology', 'MESH NAME NOT FOUND: Lactate Dehydrogenase 5', 'MESH NAME NOT FOUND: Early Intervention, Educational', 'MESH NAME NOT FOUND: Broadly Neutralizing Antibodies', 'MESH NAME NOT FOUND: Heterogeneous Nuclear Ribonucleoprotein D0', \"MESH NAME NOT FOUND: Practice Patterns, Nurses'\", 'MESH NAME NOT FOUND: Phosphoinositide-3 Kinase Inhibitors', 'MESH NAME NOT FOUND: Mitophagy', 'MESH NAME NOT FOUND: Confounding Factors, Epidemiologic', 'MESH NAME NOT FOUND: Stargardt Disease', 'MESH NAME NOT FOUND: Diet, Healthy', 'MESH NAME NOT FOUND: Centers for Medicare and Medicaid Services, U.S.', 'MESH NAME NOT FOUND: Outcome Assessment, Health Care', 'MESH NAME NOT FOUND: Formins', 'MESH NAME NOT FOUND: Sphingosine-1-Phosphate Receptors', 'MESH NAME NOT FOUND: Female', 'MESH NAME NOT FOUND: RNA, Circular', 'MESH NAME NOT FOUND: Aldehyde Dehydrogenase 1', 'MESH NAME NOT FOUND: Outcome and Process Assessment, Health Care', 'MESH NAME NOT FOUND: Conflict, Psychological', 'MESH NAME NOT FOUND: Discrimination, Psychological', 'MESH NAME NOT FOUND: Infections', 'MESH NAME NOT FOUND: Conditioning, Psychological', 'MESH NAME NOT FOUND: Dependency, Psychological', 'MESH NAME NOT FOUND: Stimuli Responsive Polymers']\n",
      "Processing combination number 11 from 13\n",
      "Using pre-defined VAE FEATURES\n",
      "['MESH NAME NOT FOUND: Male', 'MESH NAME NOT FOUND: Reinforcement, Psychology', 'MESH NAME NOT FOUND: Neural Networks, Computer', 'MESH NAME NOT FOUND: Claustrum', 'MESH NAME NOT FOUND: Illicit Drugs', 'MESH NAME NOT FOUND: Cyclophilin D', \"MESH NAME NOT FOUND: Practice Patterns, Physicians'\", 'MESH NAME NOT FOUND: Pyruvate Dehydrogenase (Acetyl-Transferring) Kinase', 'MESH NAME NOT FOUND: Psychology, Positive', 'MESH NAME NOT FOUND: Copper-Transporting ATPases', 'MESH NAME NOT FOUND: Retention, Psychology', 'MESH NAME NOT FOUND: CSK Tyrosine-Protein Kinase', 'MESH NAME NOT FOUND: Inhibition, Psychological', 'MESH NAME NOT FOUND: Chlorocebus aethiops', 'MESH NAME NOT FOUND: Recognition, Psychology', 'MESH NAME NOT FOUND: Lactate Dehydrogenase 5', 'MESH NAME NOT FOUND: Early Intervention, Educational', 'MESH NAME NOT FOUND: Broadly Neutralizing Antibodies', 'MESH NAME NOT FOUND: Heterogeneous Nuclear Ribonucleoprotein D0', \"MESH NAME NOT FOUND: Practice Patterns, Nurses'\", 'MESH NAME NOT FOUND: Phosphoinositide-3 Kinase Inhibitors', 'MESH NAME NOT FOUND: Mitophagy', 'MESH NAME NOT FOUND: Confounding Factors, Epidemiologic', 'MESH NAME NOT FOUND: Stargardt Disease', 'MESH NAME NOT FOUND: Diet, Healthy', 'MESH NAME NOT FOUND: Centers for Medicare and Medicaid Services, U.S.', 'MESH NAME NOT FOUND: Outcome Assessment, Health Care', 'MESH NAME NOT FOUND: Formins', 'MESH NAME NOT FOUND: Sphingosine-1-Phosphate Receptors', 'MESH NAME NOT FOUND: Female', 'MESH NAME NOT FOUND: RNA, Circular', 'MESH NAME NOT FOUND: Aldehyde Dehydrogenase 1', 'MESH NAME NOT FOUND: Outcome and Process Assessment, Health Care', 'MESH NAME NOT FOUND: Conflict, Psychological', 'MESH NAME NOT FOUND: Discrimination, Psychological', 'MESH NAME NOT FOUND: Infections', 'MESH NAME NOT FOUND: Conditioning, Psychological', 'MESH NAME NOT FOUND: Dependency, Psychological', 'MESH NAME NOT FOUND: Stimuli Responsive Polymers']\n",
      "Processing combination number 12 from 13\n"
     ]
    },
    {
     "name": "stderr",
     "output_type": "stream",
     "text": [
      "/home/ubuntu/AYP/code/py_4/get_all_features.py:83: SettingWithCopyWarning: \n",
      "A value is trying to be set on a copy of a slice from a DataFrame.\n",
      "Try using .loc[row_indexer,col_indexer] = value instead\n",
      "\n",
      "See the caveats in the documentation: https://pandas.pydata.org/pandas-docs/stable/user_guide/indexing.html#returning-a-view-versus-a-copy\n",
      "  df['co_authors']=df.authors.apply( lambda x: [i['name'] for i in x] )\n",
      "/home/ubuntu/AYP/code/py_4/get_all_features.py:83: SettingWithCopyWarning: \n",
      "A value is trying to be set on a copy of a slice from a DataFrame.\n",
      "Try using .loc[row_indexer,col_indexer] = value instead\n",
      "\n",
      "See the caveats in the documentation: https://pandas.pydata.org/pandas-docs/stable/user_guide/indexing.html#returning-a-view-versus-a-copy\n",
      "  df['co_authors']=df.authors.apply( lambda x: [i['name'] for i in x] )\n",
      "/home/ubuntu/AYP/code/py_4/get_all_features.py:83: SettingWithCopyWarning: \n",
      "A value is trying to be set on a copy of a slice from a DataFrame.\n",
      "Try using .loc[row_indexer,col_indexer] = value instead\n",
      "\n",
      "See the caveats in the documentation: https://pandas.pydata.org/pandas-docs/stable/user_guide/indexing.html#returning-a-view-versus-a-copy\n",
      "  df['co_authors']=df.authors.apply( lambda x: [i['name'] for i in x] )\n"
     ]
    },
    {
     "name": "stdout",
     "output_type": "stream",
     "text": [
      "Using pre-defined VAE FEATURES\n",
      "['MESH NAME NOT FOUND: Male', 'MESH NAME NOT FOUND: Reinforcement, Psychology', 'MESH NAME NOT FOUND: Neural Networks, Computer', 'MESH NAME NOT FOUND: Claustrum', 'MESH NAME NOT FOUND: Illicit Drugs', 'MESH NAME NOT FOUND: Cyclophilin D', \"MESH NAME NOT FOUND: Practice Patterns, Physicians'\", 'MESH NAME NOT FOUND: Pyruvate Dehydrogenase (Acetyl-Transferring) Kinase', 'MESH NAME NOT FOUND: Psychology, Positive', 'MESH NAME NOT FOUND: Copper-Transporting ATPases', 'MESH NAME NOT FOUND: Retention, Psychology', 'MESH NAME NOT FOUND: CSK Tyrosine-Protein Kinase', 'MESH NAME NOT FOUND: Inhibition, Psychological', 'MESH NAME NOT FOUND: Chlorocebus aethiops', 'MESH NAME NOT FOUND: Recognition, Psychology', 'MESH NAME NOT FOUND: Lactate Dehydrogenase 5', 'MESH NAME NOT FOUND: Early Intervention, Educational', 'MESH NAME NOT FOUND: Broadly Neutralizing Antibodies', 'MESH NAME NOT FOUND: Heterogeneous Nuclear Ribonucleoprotein D0', \"MESH NAME NOT FOUND: Practice Patterns, Nurses'\", 'MESH NAME NOT FOUND: Phosphoinositide-3 Kinase Inhibitors', 'MESH NAME NOT FOUND: Mitophagy', 'MESH NAME NOT FOUND: Confounding Factors, Epidemiologic', 'MESH NAME NOT FOUND: Stargardt Disease', 'MESH NAME NOT FOUND: Diet, Healthy', 'MESH NAME NOT FOUND: Centers for Medicare and Medicaid Services, U.S.', 'MESH NAME NOT FOUND: Outcome Assessment, Health Care', 'MESH NAME NOT FOUND: Formins', 'MESH NAME NOT FOUND: Sphingosine-1-Phosphate Receptors', 'MESH NAME NOT FOUND: Female', 'MESH NAME NOT FOUND: RNA, Circular', 'MESH NAME NOT FOUND: Aldehyde Dehydrogenase 1', 'MESH NAME NOT FOUND: Outcome and Process Assessment, Health Care', 'MESH NAME NOT FOUND: Conflict, Psychological', 'MESH NAME NOT FOUND: Discrimination, Psychological', 'MESH NAME NOT FOUND: Infections', 'MESH NAME NOT FOUND: Conditioning, Psychological', 'MESH NAME NOT FOUND: Dependency, Psychological', 'MESH NAME NOT FOUND: Stimuli Responsive Polymers']\n",
      "Processing combination number 13 from 13\n",
      "Using pre-defined VAE FEATURES\n",
      "['MESH NAME NOT FOUND: Male', 'MESH NAME NOT FOUND: Reinforcement, Psychology', 'MESH NAME NOT FOUND: Neural Networks, Computer', 'MESH NAME NOT FOUND: Claustrum', 'MESH NAME NOT FOUND: Illicit Drugs', 'MESH NAME NOT FOUND: Cyclophilin D', \"MESH NAME NOT FOUND: Practice Patterns, Physicians'\", 'MESH NAME NOT FOUND: Pyruvate Dehydrogenase (Acetyl-Transferring) Kinase', 'MESH NAME NOT FOUND: Psychology, Positive', 'MESH NAME NOT FOUND: Copper-Transporting ATPases', 'MESH NAME NOT FOUND: Retention, Psychology', 'MESH NAME NOT FOUND: CSK Tyrosine-Protein Kinase', 'MESH NAME NOT FOUND: Inhibition, Psychological', 'MESH NAME NOT FOUND: Chlorocebus aethiops', 'MESH NAME NOT FOUND: Recognition, Psychology', 'MESH NAME NOT FOUND: Lactate Dehydrogenase 5', 'MESH NAME NOT FOUND: Early Intervention, Educational', 'MESH NAME NOT FOUND: Broadly Neutralizing Antibodies', 'MESH NAME NOT FOUND: Heterogeneous Nuclear Ribonucleoprotein D0', \"MESH NAME NOT FOUND: Practice Patterns, Nurses'\", 'MESH NAME NOT FOUND: Phosphoinositide-3 Kinase Inhibitors', 'MESH NAME NOT FOUND: Mitophagy', 'MESH NAME NOT FOUND: Confounding Factors, Epidemiologic', 'MESH NAME NOT FOUND: Stargardt Disease', 'MESH NAME NOT FOUND: Diet, Healthy', 'MESH NAME NOT FOUND: Centers for Medicare and Medicaid Services, U.S.', 'MESH NAME NOT FOUND: Outcome Assessment, Health Care', 'MESH NAME NOT FOUND: Formins', 'MESH NAME NOT FOUND: Sphingosine-1-Phosphate Receptors', 'MESH NAME NOT FOUND: Female', 'MESH NAME NOT FOUND: RNA, Circular', 'MESH NAME NOT FOUND: Aldehyde Dehydrogenase 1', 'MESH NAME NOT FOUND: Outcome and Process Assessment, Health Care', 'MESH NAME NOT FOUND: Conflict, Psychological', 'MESH NAME NOT FOUND: Discrimination, Psychological', 'MESH NAME NOT FOUND: Infections', 'MESH NAME NOT FOUND: Conditioning, Psychological', 'MESH NAME NOT FOUND: Dependency, Psychological', 'MESH NAME NOT FOUND: Stimuli Responsive Polymers']\n",
      "[0 0 0 0 0 0 0 0 0 0 0 0 0 0 0]\n"
     ]
    },
    {
     "name": "stderr",
     "output_type": "stream",
     "text": [
      "/home/ubuntu/AYP/code/py_4/get_all_features.py:83: SettingWithCopyWarning: \n",
      "A value is trying to be set on a copy of a slice from a DataFrame.\n",
      "Try using .loc[row_indexer,col_indexer] = value instead\n",
      "\n",
      "See the caveats in the documentation: https://pandas.pydata.org/pandas-docs/stable/user_guide/indexing.html#returning-a-view-versus-a-copy\n",
      "  df['co_authors']=df.authors.apply( lambda x: [i['name'] for i in x] )\n"
     ]
    },
    {
     "ename": "ValueError",
     "evalue": "Number of labels is 1. Valid values are 2 to n_samples - 1 (inclusive)",
     "output_type": "error",
     "traceback": [
      "\u001b[0;31m---------------------------------------------------------------------------\u001b[0m",
      "\u001b[0;31mValueError\u001b[0m                                Traceback (most recent call last)",
      "\u001b[0;32m<ipython-input-31-ad78f2d4061a>\u001b[0m in \u001b[0;36m<module>\u001b[0;34m\u001b[0m\n\u001b[1;32m      3\u001b[0m \u001b[0;34m\u001b[0m\u001b[0m\n\u001b[1;32m      4\u001b[0m \u001b[0;32mfor\u001b[0m \u001b[0mcase\u001b[0m \u001b[0;32min\u001b[0m \u001b[0muse_cases\u001b[0m\u001b[0;34m:\u001b[0m\u001b[0;34m\u001b[0m\u001b[0;34m\u001b[0m\u001b[0m\n\u001b[0;32m----> 5\u001b[0;31m     \u001b[0my_hat_comb\u001b[0m\u001b[0;34m,\u001b[0m \u001b[0mnum_cases\u001b[0m\u001b[0;34m,\u001b[0m \u001b[0mnum_papers\u001b[0m \u001b[0;34m=\u001b[0m \u001b[0mpipeline_vae_kmeans\u001b[0m\u001b[0;34m(\u001b[0m\u001b[0mdf\u001b[0m\u001b[0;34m,\u001b[0m\u001b[0mdf_usecase\u001b[0m\u001b[0;34m,\u001b[0m\u001b[0mauthors\u001b[0m\u001b[0;34m=\u001b[0m\u001b[0musecase\u001b[0m\u001b[0;34m,\u001b[0m\u001b[0muse_case\u001b[0m\u001b[0;34m=\u001b[0m\u001b[0mcase\u001b[0m\u001b[0;34m)\u001b[0m\u001b[0;34m\u001b[0m\u001b[0;34m\u001b[0m\u001b[0m\n\u001b[0m\u001b[1;32m      6\u001b[0m     \u001b[0mf1\u001b[0m\u001b[0;34m,\u001b[0m \u001b[0mprecision\u001b[0m\u001b[0;34m,\u001b[0m \u001b[0mrecall\u001b[0m\u001b[0;34m,\u001b[0m \u001b[0mdf_eval\u001b[0m \u001b[0;34m=\u001b[0m \u001b[0mmetric_eval_2\u001b[0m\u001b[0;34m.\u001b[0m\u001b[0mget_metrics_many\u001b[0m\u001b[0;34m(\u001b[0m\u001b[0my_hat_comb\u001b[0m\u001b[0;34m)\u001b[0m\u001b[0;34m\u001b[0m\u001b[0;34m\u001b[0m\u001b[0m\n\u001b[1;32m      7\u001b[0m     \u001b[0mtotal_metric\u001b[0m\u001b[0;34m.\u001b[0m\u001b[0mappend\u001b[0m\u001b[0;34m(\u001b[0m\u001b[0;34m[\u001b[0m\u001b[0mcase\u001b[0m\u001b[0;34m,\u001b[0m\u001b[0mf1\u001b[0m\u001b[0;34m,\u001b[0m\u001b[0mprecision\u001b[0m\u001b[0;34m,\u001b[0m\u001b[0mrecall\u001b[0m\u001b[0;34m,\u001b[0m\u001b[0mdf_eval\u001b[0m\u001b[0;34m,\u001b[0m \u001b[0mnum_cases\u001b[0m\u001b[0;34m,\u001b[0m \u001b[0mnum_papers\u001b[0m\u001b[0;34m]\u001b[0m\u001b[0;34m)\u001b[0m\u001b[0;34m\u001b[0m\u001b[0;34m\u001b[0m\u001b[0m\n",
      "\u001b[0;32m<ipython-input-30-97114634c845>\u001b[0m in \u001b[0;36mpipeline_vae_kmeans\u001b[0;34m(df, auth_df, authors, use_case)\u001b[0m\n\u001b[1;32m     41\u001b[0m             \u001b[0mcluster_labels\u001b[0m \u001b[0;34m=\u001b[0m \u001b[0mclusterer\u001b[0m\u001b[0;34m.\u001b[0m\u001b[0mfit_predict\u001b[0m\u001b[0;34m(\u001b[0m\u001b[0mlatent_feat\u001b[0m\u001b[0;34m)\u001b[0m\u001b[0;34m\u001b[0m\u001b[0;34m\u001b[0m\u001b[0m\n\u001b[1;32m     42\u001b[0m             \u001b[0mprint\u001b[0m\u001b[0;34m(\u001b[0m\u001b[0mcluster_labels\u001b[0m\u001b[0;34m)\u001b[0m\u001b[0;34m\u001b[0m\u001b[0;34m\u001b[0m\u001b[0m\n\u001b[0;32m---> 43\u001b[0;31m             \u001b[0msilhouette_avg\u001b[0m \u001b[0;34m=\u001b[0m \u001b[0msilhouette_score\u001b[0m\u001b[0;34m(\u001b[0m\u001b[0mlatent_feat\u001b[0m\u001b[0;34m,\u001b[0m \u001b[0mcluster_labels\u001b[0m\u001b[0;34m)\u001b[0m\u001b[0;34m\u001b[0m\u001b[0;34m\u001b[0m\u001b[0m\n\u001b[0m\u001b[1;32m     44\u001b[0m             \u001b[0msil_score_log\u001b[0m\u001b[0;34m[\u001b[0m\u001b[0mn_clusters\u001b[0m\u001b[0;34m]\u001b[0m \u001b[0;34m=\u001b[0m \u001b[0msilhouette_avg\u001b[0m\u001b[0;34m\u001b[0m\u001b[0;34m\u001b[0m\u001b[0m\n\u001b[1;32m     45\u001b[0m             \u001b[0;32mif\u001b[0m \u001b[0msilhouette_avg\u001b[0m \u001b[0;34m>\u001b[0m \u001b[0mbest_score\u001b[0m\u001b[0;34m:\u001b[0m\u001b[0;34m\u001b[0m\u001b[0;34m\u001b[0m\u001b[0m\n",
      "\u001b[0;32m~/anaconda3/envs/pytorch_latest_p36/lib/python3.6/site-packages/sklearn/metrics/cluster/_unsupervised.py\u001b[0m in \u001b[0;36msilhouette_score\u001b[0;34m(X, labels, metric, sample_size, random_state, **kwds)\u001b[0m\n\u001b[1;32m    115\u001b[0m         \u001b[0;32melse\u001b[0m\u001b[0;34m:\u001b[0m\u001b[0;34m\u001b[0m\u001b[0;34m\u001b[0m\u001b[0m\n\u001b[1;32m    116\u001b[0m             \u001b[0mX\u001b[0m\u001b[0;34m,\u001b[0m \u001b[0mlabels\u001b[0m \u001b[0;34m=\u001b[0m \u001b[0mX\u001b[0m\u001b[0;34m[\u001b[0m\u001b[0mindices\u001b[0m\u001b[0;34m]\u001b[0m\u001b[0;34m,\u001b[0m \u001b[0mlabels\u001b[0m\u001b[0;34m[\u001b[0m\u001b[0mindices\u001b[0m\u001b[0;34m]\u001b[0m\u001b[0;34m\u001b[0m\u001b[0;34m\u001b[0m\u001b[0m\n\u001b[0;32m--> 117\u001b[0;31m     \u001b[0;32mreturn\u001b[0m \u001b[0mnp\u001b[0m\u001b[0;34m.\u001b[0m\u001b[0mmean\u001b[0m\u001b[0;34m(\u001b[0m\u001b[0msilhouette_samples\u001b[0m\u001b[0;34m(\u001b[0m\u001b[0mX\u001b[0m\u001b[0;34m,\u001b[0m \u001b[0mlabels\u001b[0m\u001b[0;34m,\u001b[0m \u001b[0mmetric\u001b[0m\u001b[0;34m=\u001b[0m\u001b[0mmetric\u001b[0m\u001b[0;34m,\u001b[0m \u001b[0;34m**\u001b[0m\u001b[0mkwds\u001b[0m\u001b[0;34m)\u001b[0m\u001b[0;34m)\u001b[0m\u001b[0;34m\u001b[0m\u001b[0;34m\u001b[0m\u001b[0m\n\u001b[0m\u001b[1;32m    118\u001b[0m \u001b[0;34m\u001b[0m\u001b[0m\n\u001b[1;32m    119\u001b[0m \u001b[0;34m\u001b[0m\u001b[0m\n",
      "\u001b[0;32m~/anaconda3/envs/pytorch_latest_p36/lib/python3.6/site-packages/sklearn/metrics/cluster/_unsupervised.py\u001b[0m in \u001b[0;36msilhouette_samples\u001b[0;34m(X, labels, metric, **kwds)\u001b[0m\n\u001b[1;32m    226\u001b[0m     \u001b[0mn_samples\u001b[0m \u001b[0;34m=\u001b[0m \u001b[0mlen\u001b[0m\u001b[0;34m(\u001b[0m\u001b[0mlabels\u001b[0m\u001b[0;34m)\u001b[0m\u001b[0;34m\u001b[0m\u001b[0;34m\u001b[0m\u001b[0m\n\u001b[1;32m    227\u001b[0m     \u001b[0mlabel_freqs\u001b[0m \u001b[0;34m=\u001b[0m \u001b[0mnp\u001b[0m\u001b[0;34m.\u001b[0m\u001b[0mbincount\u001b[0m\u001b[0;34m(\u001b[0m\u001b[0mlabels\u001b[0m\u001b[0;34m)\u001b[0m\u001b[0;34m\u001b[0m\u001b[0;34m\u001b[0m\u001b[0m\n\u001b[0;32m--> 228\u001b[0;31m     \u001b[0mcheck_number_of_labels\u001b[0m\u001b[0;34m(\u001b[0m\u001b[0mlen\u001b[0m\u001b[0;34m(\u001b[0m\u001b[0mle\u001b[0m\u001b[0;34m.\u001b[0m\u001b[0mclasses_\u001b[0m\u001b[0;34m)\u001b[0m\u001b[0;34m,\u001b[0m \u001b[0mn_samples\u001b[0m\u001b[0;34m)\u001b[0m\u001b[0;34m\u001b[0m\u001b[0;34m\u001b[0m\u001b[0m\n\u001b[0m\u001b[1;32m    229\u001b[0m \u001b[0;34m\u001b[0m\u001b[0m\n\u001b[1;32m    230\u001b[0m     \u001b[0mkwds\u001b[0m\u001b[0;34m[\u001b[0m\u001b[0;34m'metric'\u001b[0m\u001b[0;34m]\u001b[0m \u001b[0;34m=\u001b[0m \u001b[0mmetric\u001b[0m\u001b[0;34m\u001b[0m\u001b[0;34m\u001b[0m\u001b[0m\n",
      "\u001b[0;32m~/anaconda3/envs/pytorch_latest_p36/lib/python3.6/site-packages/sklearn/metrics/cluster/_unsupervised.py\u001b[0m in \u001b[0;36mcheck_number_of_labels\u001b[0;34m(n_labels, n_samples)\u001b[0m\n\u001b[1;32m     33\u001b[0m     \u001b[0;32mif\u001b[0m \u001b[0;32mnot\u001b[0m \u001b[0;36m1\u001b[0m \u001b[0;34m<\u001b[0m \u001b[0mn_labels\u001b[0m \u001b[0;34m<\u001b[0m \u001b[0mn_samples\u001b[0m\u001b[0;34m:\u001b[0m\u001b[0;34m\u001b[0m\u001b[0;34m\u001b[0m\u001b[0m\n\u001b[1;32m     34\u001b[0m         raise ValueError(\"Number of labels is %d. Valid values are 2 \"\n\u001b[0;32m---> 35\u001b[0;31m                          \"to n_samples - 1 (inclusive)\" % n_labels)\n\u001b[0m\u001b[1;32m     36\u001b[0m \u001b[0;34m\u001b[0m\u001b[0m\n\u001b[1;32m     37\u001b[0m \u001b[0;34m\u001b[0m\u001b[0m\n",
      "\u001b[0;31mValueError\u001b[0m: Number of labels is 1. Valid values are 2 to n_samples - 1 (inclusive)"
     ]
    }
   ],
   "source": [
    "total_metric = []\n",
    "use_cases = ['2_da_same','2_da_dif','3_da', '1_da','mix_bag']\n",
    "\n",
    "for case in use_cases:\n",
    "    y_hat_comb, num_cases, num_papers = pipeline_vae_kmeans(df,df_usecase,authors=usecase,use_case=case)\n",
    "    f1, precision, recall, df_eval = metric_eval_2.get_metrics_many(y_hat_comb)\n",
    "    total_metric.append([case,f1,precision,recall,df_eval, num_cases, num_papers])"
   ]
  },
  {
   "cell_type": "code",
   "execution_count": 42,
   "metadata": {},
   "outputs": [
    {
     "name": "stdout",
     "output_type": "stream",
     "text": [
      "CASE: 2_da_same\tNumber of authors: 13\tAvg. Number of papers: 14.846153846153847\n",
      "\n",
      "F1-Score: 0.34386121603832154\tTotal Precision: 0.9017271157167529\tTotal Recall: 0.21243523316062174\n",
      "                 7 cluster(s)  8 cluster(s)\n",
      "mis_integration           0.5           0.5\n",
      "mis_separation            0.5           0.5\n",
      "\n",
      "\n",
      "CASE: 2_da_dif\tNumber of authors: 29\tAvg. Number of papers: 27.896551724137932\n",
      "\n",
      "F1-Score: 0.3895097156165883\tTotal Precision: 0.9351619675476289\tTotal Recall: 0.24598269468479603\n",
      "                 6 cluster(s)  22 cluster(s)\n",
      "mis_integration      0.666667       0.333333\n",
      "mis_separation       0.666667       0.333333\n",
      "\n",
      "\n",
      "CASE: 3_da\tNumber of authors: 37\tAvg. Number of papers: 26.486486486486488\n",
      "\n",
      "F1-Score: 0.3983377817423265\tTotal Precision: 0.8834113128049125\tTotal Recall: 0.2571428571428572\n",
      "                 2 cluster(s)  4 cluster(s)  7 cluster(s)\n",
      "mis_integration      0.142857      0.714286      0.142857\n",
      "mis_separation       0.142857      0.714286      0.142857\n",
      "\n",
      "\n",
      "CASE: 1_da\tNumber of authors: 50\tAvg. Number of papers: 13.96\n",
      "\n",
      "F1-Score: 0.3361144219308701\tTotal Precision: 1.0\tTotal Recall: 0.2020057306590258\n",
      "                 8 cluster(s)\n",
      "mis_integration           1.0\n",
      "mis_separation            1.0\n",
      "\n",
      "\n",
      "CASE: mix_bag\tNumber of authors: 132\tAvg. Number of papers: 8.81060606060606\n",
      "\n",
      "F1-Score: 0.4604172634451004\tTotal Precision: 0.9704069934078533\tTotal Recall: 0.30180567497850397\n",
      "                 1 cluster(s)  2 cluster(s)  4 cluster(s)\n",
      "mis_integration      0.090909      0.818182      0.090909\n",
      "mis_separation       0.090909      0.818182      0.090909\n",
      "\n",
      "\n"
     ]
    }
   ],
   "source": [
    "# %%capture cap --no-stderr\n",
    "for val in total_metric:\n",
    "    case, f1, prec, rec, df_eval, num_cases, num_papers = val\n",
    "    print(\"CASE: {}\\tNumber of authors: {}\\tAvg. Number of papers: {}\".format(case,num_cases,num_papers))\n",
    "    print(\"\\nF1-Score: {}\\tTotal Precision: {}\\tTotal Recall: {}\".format(f1,prec,rec))\n",
    "    print(df_eval)\n",
    "    print(\"\\n\")\n",
    "# with open('txt/test_scores_VAE_model.txt', 'w') as out:\n",
    "#    out.write(cap.stdout)"
   ]
  },
  {
   "cell_type": "code",
   "execution_count": null,
   "metadata": {},
   "outputs": [],
   "source": []
  }
 ],
 "metadata": {
  "kernelspec": {
   "display_name": "Python 3.6.8 64-bit ('nlp': conda)",
   "language": "python",
   "name": "python36864bitnlpcondaedb4459334ba4ee28e4936a12647cfbd"
  },
  "language_info": {
   "codemirror_mode": {
    "name": "ipython",
    "version": 3
   },
   "file_extension": ".py",
   "mimetype": "text/x-python",
   "name": "python",
   "nbconvert_exporter": "python",
   "pygments_lexer": "ipython3",
   "version": "3.6.8-final"
  }
 },
 "nbformat": 4,
 "nbformat_minor": 4
}