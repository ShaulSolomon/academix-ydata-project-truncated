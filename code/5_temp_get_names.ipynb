{
 "cells": [
  {
   "cell_type": "markdown",
   "metadata": {},
   "source": [
    "# Roy's testing app"
   ]
  },
  {
   "cell_type": "code",
   "execution_count": 1,
   "metadata": {
    "tags": []
   },
   "outputs": [],
   "source": [
    "from __future__ import print_function\n",
    "import argparse\n",
    "import torch\n",
    "import torch.utils.data\n",
    "from torch import nn, optim\n",
    "from torch.nn import functional as F\n",
    "from torchvision import datasets, transforms\n",
    "from torchvision.utils import save_image\n",
    "import pandas as pd\n",
    "import numpy as np\n",
    "import utils\n",
    "import os\n",
    "from utils import PROJECT_ROOT, DATA_PATH\n",
    "import yuval_module.paper_source as PaperSource\n",
    "\n",
    "import py_4.get_mesh_vec as get_mesh_vec\n",
    "import py_3.sim_matrix_3 as sim_matrix_3\n",
    "import py_4.get_all_features as get_all_features \n",
    "\n",
    "from torch.utils.data import Dataset, DataLoader\n",
    "\n",
    "%load_ext autoreload\n",
    "%autoreload 2"
   ]
  },
  {
   "cell_type": "code",
   "execution_count": 2,
   "metadata": {},
   "outputs": [],
   "source": [
    "from pathlib import *\n"
   ]
  },
  {
   "cell_type": "code",
   "execution_count": 3,
   "metadata": {
    "tags": []
   },
   "outputs": [
    {
     "output_type": "stream",
     "name": "stdout",
     "text": "/Users/roygranit/Desktop/ydata/industry_project/repo/academix-ydata-project/code\n/Users/roygranit\n"
    }
   ],
   "source": [
    "current_dir = Path.cwd()\n",
    "home_dir = Path.home()\n",
    "print(current_dir)\n",
    "print(home_dir)"
   ]
  },
  {
   "cell_type": "code",
   "execution_count": 4,
   "metadata": {
    "tags": []
   },
   "outputs": [
    {
     "output_type": "stream",
     "name": "stdout",
     "text": "READING FROM LOCAL\nFILE PULLED\n"
    }
   ],
   "source": [
    "FILE = \"enriched_labeled_dataset_large.json\" \n",
    "if os.path.exists(PROJECT_ROOT + DATA_PATH + FILE):\n",
    "    print(\"READING FROM LOCAL\")\n",
    "    if FILE.split(\".\")[1] == \"json\":\n",
    "        df = pd.read_json(PROJECT_ROOT + DATA_PATH + FILE)\n",
    "    else:\n",
    "        df = pd.read_csv(PROJECT_ROOT + DATA_PATH + FILE)\n",
    "    #ps = PaperSource()\n",
    "else:\n",
    "    print(\"PULLING FROM S3\")\n",
    "    ps = sim_matrix_3.load_dataset(FILE)\n",
    "    df = ps.get_dataset()\n",
    "\n",
    "df.drop(columns=[\"last_author_country\"],inplace=True)\n",
    "df.rename(columns={'ORG_STATE':'last_author_country'},inplace=True)\n",
    "\n",
    "print(\"FILE PULLED\")"
   ]
  },
  {
   "cell_type": "markdown",
   "metadata": {},
   "source": [
    "# Explore mesh"
   ]
  },
  {
   "cell_type": "code",
   "execution_count": 6,
   "metadata": {},
   "outputs": [
    {
     "output_type": "execute_result",
     "data": {
      "text/plain": "       pmid last_author_country   PI_IDS last_author_name  \\\n0  19810465                  PA  8352708    Madabhushi, A   \n1  26167385                  PA  8352708    Madabhushi, A   \n\n                                             authors   doi  \\\n0  [{'forename': 'Pallavi', 'affiliation': 'Depar...  None   \n1  [{'forename': 'Akshay', 'affiliation': 'Depart...  None   \n\n                       journal_name language  \\\n0                   Medical physics      eng   \n1  Journal of pathology informatics      eng   \n\n                                         last_author last_author_email  \\\n0                                               None              None   \n1  {'affiliation': 'Department of Biomedical Engi...              None   \n\n   last_author_id                             last_author_inst  \\\n0       2517051.0                                         None   \n1             NaN  Rutgers, The State University of New Jersey   \n\n                                                mesh  \\\n0  [Humans, Linear Models, Male, Pilot Projects, ...   \n1                                               None   \n\n                                          mesh_major  pub_year  \\\n0  [Algorithms, Cluster Analysis, Diagnosis, Comp...    2009.0   \n1                                               None    2015.0   \n\n                                               title  \n0  A hierarchical spectral clustering and nonline...  \n1  Content-based image retrieval of digitized his...  ",
      "text/html": "<div>\n<style scoped>\n    .dataframe tbody tr th:only-of-type {\n        vertical-align: middle;\n    }\n\n    .dataframe tbody tr th {\n        vertical-align: top;\n    }\n\n    .dataframe thead th {\n        text-align: right;\n    }\n</style>\n<table border=\"1\" class=\"dataframe\">\n  <thead>\n    <tr style=\"text-align: right;\">\n      <th></th>\n      <th>pmid</th>\n      <th>last_author_country</th>\n      <th>PI_IDS</th>\n      <th>last_author_name</th>\n      <th>authors</th>\n      <th>doi</th>\n      <th>journal_name</th>\n      <th>language</th>\n      <th>last_author</th>\n      <th>last_author_email</th>\n      <th>last_author_id</th>\n      <th>last_author_inst</th>\n      <th>mesh</th>\n      <th>mesh_major</th>\n      <th>pub_year</th>\n      <th>title</th>\n    </tr>\n  </thead>\n  <tbody>\n    <tr>\n      <td>0</td>\n      <td>19810465</td>\n      <td>PA</td>\n      <td>8352708</td>\n      <td>Madabhushi, A</td>\n      <td>[{'forename': 'Pallavi', 'affiliation': 'Depar...</td>\n      <td>None</td>\n      <td>Medical physics</td>\n      <td>eng</td>\n      <td>None</td>\n      <td>None</td>\n      <td>2517051.0</td>\n      <td>None</td>\n      <td>[Humans, Linear Models, Male, Pilot Projects, ...</td>\n      <td>[Algorithms, Cluster Analysis, Diagnosis, Comp...</td>\n      <td>2009.0</td>\n      <td>A hierarchical spectral clustering and nonline...</td>\n    </tr>\n    <tr>\n      <td>1</td>\n      <td>26167385</td>\n      <td>PA</td>\n      <td>8352708</td>\n      <td>Madabhushi, A</td>\n      <td>[{'forename': 'Akshay', 'affiliation': 'Depart...</td>\n      <td>None</td>\n      <td>Journal of pathology informatics</td>\n      <td>eng</td>\n      <td>{'affiliation': 'Department of Biomedical Engi...</td>\n      <td>None</td>\n      <td>NaN</td>\n      <td>Rutgers, The State University of New Jersey</td>\n      <td>None</td>\n      <td>None</td>\n      <td>2015.0</td>\n      <td>Content-based image retrieval of digitized his...</td>\n    </tr>\n  </tbody>\n</table>\n</div>"
     },
     "metadata": {},
     "execution_count": 6
    }
   ],
   "source": [
    "df.head(2)"
   ]
  },
  {
   "cell_type": "code",
   "execution_count": 7,
   "metadata": {},
   "outputs": [],
   "source": [
    "me=get_mesh_vec.MeshEmbeddings()"
   ]
  },
  {
   "cell_type": "code",
   "execution_count": 8,
   "metadata": {
    "tags": []
   },
   "outputs": [
    {
     "output_type": "stream",
     "name": "stdout",
     "text": "32823\n"
    }
   ],
   "source": [
    "all_mesh=set() \n",
    "for mm in df[:30000]['mesh'].to_list():\n",
    "    try:\n",
    "        for m in mm:\n",
    "           # print(m)\n",
    "            all_mesh.add(m)\n",
    "    except:\n",
    "        pass\n",
    "print(len(all_mesh))"
   ]
  },
  {
   "cell_type": "code",
   "execution_count": 9,
   "metadata": {},
   "outputs": [],
   "source": [
    "me.set_mesh_freq(list(all_mesh))"
   ]
  },
  {
   "cell_type": "code",
   "execution_count": 10,
   "metadata": {
    "tags": []
   },
   "outputs": [],
   "source": [
    "df2=df[:10000]\n",
    "df2=df2.dropna(subset=['mesh']).reset_index()\n",
    "df2['vec']=df2['mesh'].apply(lambda x: me.get_mesh_emb(x)[0])"
   ]
  },
  {
   "cell_type": "code",
   "execution_count": 11,
   "metadata": {},
   "outputs": [
    {
     "output_type": "execute_result",
     "data": {
      "text/plain": "   index      pmid last_author_country   PI_IDS last_author_name  \\\n0      0  19810465                  PA  8352708    Madabhushi, A   \n1      3  25958195                  PA  8352708    Madabhushi, A   \n\n                                             authors  \\\n0  [{'forename': 'Pallavi', 'affiliation': 'Depar...   \n1  [{'forename': 'Jun', 'affiliation': 'Jiangsu K...   \n\n                                 doi  \\\n0                               None   \n1  10.1016/j.compmedimag.2015.04.002   \n\n                                        journal_name language  \\\n0                                    Medical physics      eng   \n1  Computerized medical imaging and graphics : th...      eng   \n\n                                         last_author last_author_email  \\\n0                                               None              None   \n1  {'affiliation': 'Department of Biomedical Engi...              None   \n\n   last_author_id                 last_author_inst  \\\n0       2517051.0                             None   \n1       1576937.0  Case Western Reserve University   \n\n                                                mesh  \\\n0  [Humans, Linear Models, Male, Pilot Projects, ...   \n1  [Coloring Agents, Female, Humans, Models, Stat...   \n\n                                          mesh_major  pub_year  \\\n0  [Algorithms, Cluster Analysis, Diagnosis, Comp...    2009.0   \n1  [Algorithms, Breast/pathology, Color, Image En...    2015.0   \n\n                                               title  \\\n0  A hierarchical spectral clustering and nonline...   \n1  Sparse Non-negative Matrix Factorization (SNMF...   \n\n                                                 vec  \n0  [29.13949110878572, 39.9266187284969, 39.35088...  \n1  [20.78959039746426, 16.97823482755982, 5.31089...  ",
      "text/html": "<div>\n<style scoped>\n    .dataframe tbody tr th:only-of-type {\n        vertical-align: middle;\n    }\n\n    .dataframe tbody tr th {\n        vertical-align: top;\n    }\n\n    .dataframe thead th {\n        text-align: right;\n    }\n</style>\n<table border=\"1\" class=\"dataframe\">\n  <thead>\n    <tr style=\"text-align: right;\">\n      <th></th>\n      <th>index</th>\n      <th>pmid</th>\n      <th>last_author_country</th>\n      <th>PI_IDS</th>\n      <th>last_author_name</th>\n      <th>authors</th>\n      <th>doi</th>\n      <th>journal_name</th>\n      <th>language</th>\n      <th>last_author</th>\n      <th>last_author_email</th>\n      <th>last_author_id</th>\n      <th>last_author_inst</th>\n      <th>mesh</th>\n      <th>mesh_major</th>\n      <th>pub_year</th>\n      <th>title</th>\n      <th>vec</th>\n    </tr>\n  </thead>\n  <tbody>\n    <tr>\n      <td>0</td>\n      <td>0</td>\n      <td>19810465</td>\n      <td>PA</td>\n      <td>8352708</td>\n      <td>Madabhushi, A</td>\n      <td>[{'forename': 'Pallavi', 'affiliation': 'Depar...</td>\n      <td>None</td>\n      <td>Medical physics</td>\n      <td>eng</td>\n      <td>None</td>\n      <td>None</td>\n      <td>2517051.0</td>\n      <td>None</td>\n      <td>[Humans, Linear Models, Male, Pilot Projects, ...</td>\n      <td>[Algorithms, Cluster Analysis, Diagnosis, Comp...</td>\n      <td>2009.0</td>\n      <td>A hierarchical spectral clustering and nonline...</td>\n      <td>[29.13949110878572, 39.9266187284969, 39.35088...</td>\n    </tr>\n    <tr>\n      <td>1</td>\n      <td>3</td>\n      <td>25958195</td>\n      <td>PA</td>\n      <td>8352708</td>\n      <td>Madabhushi, A</td>\n      <td>[{'forename': 'Jun', 'affiliation': 'Jiangsu K...</td>\n      <td>10.1016/j.compmedimag.2015.04.002</td>\n      <td>Computerized medical imaging and graphics : th...</td>\n      <td>eng</td>\n      <td>{'affiliation': 'Department of Biomedical Engi...</td>\n      <td>None</td>\n      <td>1576937.0</td>\n      <td>Case Western Reserve University</td>\n      <td>[Coloring Agents, Female, Humans, Models, Stat...</td>\n      <td>[Algorithms, Breast/pathology, Color, Image En...</td>\n      <td>2015.0</td>\n      <td>Sparse Non-negative Matrix Factorization (SNMF...</td>\n      <td>[20.78959039746426, 16.97823482755982, 5.31089...</td>\n    </tr>\n  </tbody>\n</table>\n</div>"
     },
     "metadata": {},
     "execution_count": 11
    }
   ],
   "source": [
    "df2.head(2)"
   ]
  },
  {
   "cell_type": "code",
   "execution_count": 16,
   "metadata": {},
   "outputs": [
    {
     "output_type": "execute_result",
     "data": {
      "text/plain": "array([ 29.13949111,  39.92661873,  39.35088718,   0.12615154,\n        21.56074102,   8.71754868, -21.21081918,  18.47010033,\n       -39.54505848, -54.06960271,  25.87834466,  19.16984295,\n        21.32953834,  36.98004787, -12.56056136,  -0.87229909,\n        54.24082836,  27.7439268 , -22.10145443, -63.39352139,\n        -3.18082552,  -5.94109105,  -2.3948647 ,  -4.82997672,\n        32.57842848,   2.54820518,   7.31662033,   5.21720816,\n        26.6369901 ,  47.97403249,  41.23356382,  21.74053248,\n         3.22307615,   7.21328422,  -3.98735092,  49.11359511,\n        13.07235776,  25.17407187, -17.82834916,  35.19943614,\n        18.94347961, -16.67326448,  -2.62297873, -21.94679025,\n       -55.42745706, -55.31659393,  45.51696778,  16.25974672,\n       -10.89999553, -18.77786031, -65.34674194, -19.55726546,\n        18.49505464, -49.1489508 , -32.46926649,  -4.24551345,\n       -37.46968165, -27.30925795,  14.80077169, -15.67037135,\n       -55.60852515,  13.20683177,  21.80382753, -39.02982047])"
     },
     "metadata": {},
     "execution_count": 16
    }
   ],
   "source": [
    "X=df2.vec.to_list()\n",
    "ids=df2.index.to_list()\n",
    "X[0]"
   ]
  },
  {
   "cell_type": "code",
   "execution_count": 17,
   "metadata": {},
   "outputs": [],
   "source": [
    "from sklearn.metrics.pairwise import euclidean_distances\n",
    "from sklearn.neighbors import NearestNeighbors\n"
   ]
  },
  {
   "cell_type": "code",
   "execution_count": 18,
   "metadata": {},
   "outputs": [],
   "source": [
    "#X=[[1,2,3],[4,5,6],[7,6,7]]"
   ]
  },
  {
   "cell_type": "code",
   "execution_count": 19,
   "metadata": {},
   "outputs": [
    {
     "output_type": "execute_result",
     "data": {
      "text/plain": "array([[0.00000000e+00, 1.72509626e+02, 1.22562233e+02, ...,\n        3.28578726e+02, 2.89234747e+02, 3.37782183e+02],\n       [1.72509626e+02, 0.00000000e+00, 9.35952608e+01, ...,\n        3.07235273e+02, 2.71045752e+02, 3.37543523e+02],\n       [1.22562233e+02, 9.35952608e+01, 0.00000000e+00, ...,\n        3.13706893e+02, 2.76305516e+02, 3.48770533e+02],\n       ...,\n       [3.28578726e+02, 3.07235273e+02, 3.13706893e+02, ...,\n        0.00000000e+00, 1.99437554e+02, 3.01290008e+02],\n       [2.89234747e+02, 2.71045752e+02, 2.76305516e+02, ...,\n        1.99437554e+02, 9.34406182e-06, 2.93409341e+02],\n       [3.37782183e+02, 3.37543523e+02, 3.48770533e+02, ...,\n        3.01290008e+02, 2.93409341e+02, 7.62939453e-06]])"
     },
     "metadata": {},
     "execution_count": 19
    }
   ],
   "source": [
    "dist_matrix=euclidean_distances(X, X)\n",
    "dist_matrix"
   ]
  },
  {
   "cell_type": "code",
   "execution_count": 20,
   "metadata": {},
   "outputs": [
    {
     "output_type": "execute_result",
     "data": {
      "text/plain": "(8532, 8532)"
     },
     "metadata": {},
     "execution_count": 20
    }
   ],
   "source": [
    "dist_matrix.shape"
   ]
  },
  {
   "cell_type": "code",
   "execution_count": 23,
   "metadata": {},
   "outputs": [
    {
     "output_type": "execute_result",
     "data": {
      "text/plain": "(7972, 8210)"
     },
     "metadata": {},
     "execution_count": 23
    }
   ],
   "source": [
    "ind = np.unravel_index(np.argmax(dist_matrix, axis=None), dist_matrix.shape)  # returns a tuple\n",
    "ind"
   ]
  },
  {
   "cell_type": "code",
   "execution_count": 24,
   "metadata": {},
   "outputs": [
    {
     "output_type": "execute_result",
     "data": {
      "text/plain": "1052.4606518672608"
     },
     "metadata": {},
     "execution_count": 24
    }
   ],
   "source": [
    "dist_matrix[ind[0]][ind[1]]"
   ]
  },
  {
   "cell_type": "code",
   "execution_count": 25,
   "metadata": {},
   "outputs": [
    {
     "output_type": "execute_result",
     "data": {
      "text/plain": "(7972, 8210)"
     },
     "metadata": {},
     "execution_count": 25
    }
   ],
   "source": [
    "ids[ind[0]], ids[ind[1]]"
   ]
  },
  {
   "cell_type": "code",
   "execution_count": 68,
   "metadata": {},
   "outputs": [
    {
     "output_type": "execute_result",
     "data": {
      "text/plain": "[['Amygdala/metabolism',\n  'Animals',\n  'Base Sequence',\n  'Behavior, Animal/physiology',\n  'Drosophila melanogaster/genetics',\n  'Female',\n  'Gene Deletion',\n  'Locomotion/genetics',\n  'Male',\n  'Mice',\n  'Mice, Inbred AKR',\n  'Mice, Inbred BALB C',\n  'Mice, Inbred C3H',\n  'Mice, Inbred C57BL',\n  'Mice, Inbred DBA',\n  'Mice, Transgenic',\n  'Sequence Analysis, DNA',\n  'Sex Factors',\n  'Sleep/genetics',\n  'Suprachiasmatic Nucleus/metabolism',\n  'Vestibular Function Tests'],\n ['Adolescent',\n  'Adult',\n  'Aged',\n  'Aged, 80 and over',\n  'Child',\n  'Child, Preschool',\n  'Female',\n  'Gene Expression Regulation, Enzymologic/drug effects',\n  'Genotype',\n  'Humans',\n  'Infant',\n  'Infant, Newborn',\n  'Male',\n  'Middle Aged',\n  'NADPH-Ferrihemoprotein Reductase/metabolism',\n  'Nicotine/pharmacology',\n  'Oxidoreductases/genetics',\n  'RNA, Messenger/genetics',\n  'Umbelliferones/pharmacology',\n  'Young Adult']]"
     },
     "metadata": {},
     "execution_count": 68
    }
   ],
   "source": [
    "df3=df2.iloc[[7972, 8210]][['pmid','mesh']]\n",
    "df3.mesh.to_list()"
   ]
  },
  {
   "cell_type": "code",
   "execution_count": 27,
   "metadata": {},
   "outputs": [],
   "source": [
    "X_ = np.array(X)"
   ]
  },
  {
   "cell_type": "code",
   "execution_count": 28,
   "metadata": {},
   "outputs": [
    {
     "output_type": "execute_result",
     "data": {
      "text/plain": "array([[   0, 1812, 3019, ..., 4074, 7000, 1808],\n       [   1, 4534,  777, ..., 3812, 4253,  653],\n       [   2,  936, 8290, ..., 7702, 3418, 2015],\n       ...,\n       [8529, 1232, 4469, ..., 7464, 1116, 8413],\n       [8530, 5206, 5006, ..., 2211, 2567, 1216],\n       [8531, 1055, 5049, ..., 2651, 5459, 7556]])"
     },
     "metadata": {},
     "execution_count": 28
    }
   ],
   "source": [
    "nbrs = NearestNeighbors(n_neighbors=100, algorithm='auto').fit(X)\n",
    "distances, indices = nbrs.kneighbors(X)\n",
    "indices"
   ]
  },
  {
   "cell_type": "code",
   "execution_count": 251,
   "metadata": {},
   "outputs": [
    {
     "output_type": "execute_result",
     "data": {
      "text/plain": "array([7972, 4267,  978, 8353, 8078, 7654, 6681, 8387, 1732, 5972, 7857,\n         68, 7855, 3475,  281, 7693, 7327, 7291, 2296, 3169,  972, 4168,\n       7068, 6515, 7292, 5209, 8081, 7467, 6362, 6822, 4980, 5434, 7648,\n       3898, 6195, 1119, 5036, 5013, 3051, 7228, 4721, 7516, 6112, 7528,\n       5645, 5677, 7860, 8090, 6033, 5320, 3171, 4019, 3468, 1002, 3939,\n       4986, 4046, 7312, 7123, 8015, 7126, 2398, 6848, 2005, 5211, 6850,\n       5185, 6811, 3596, 3114, 4765, 2310, 3134, 4038, 8361, 5978, 6595,\n       8246, 5962, 4048, 8188, 3305, 7193, 6081, 7616, 4532, 7100, 6847,\n       6844, 6839,  536, 6084, 4192, 7701, 1192, 7309, 6723,  561, 1782,\n       1961])"
     },
     "metadata": {},
     "execution_count": 251
    }
   ],
   "source": [
    "indices[7972]#7972, 8210"
   ]
  },
  {
   "cell_type": "code",
   "execution_count": 29,
   "metadata": {},
   "outputs": [],
   "source": [
    "group_A=df2.iloc[indices[7972]].pmid.to_list()\n",
    "group_B=df2.iloc[indices[8210]].pmid.to_list()"
   ]
  },
  {
   "cell_type": "code",
   "execution_count": 262,
   "metadata": {},
   "outputs": [],
   "source": [
    "pd.DataFrame({'A': group_B, 'B' :group_A}).to_csv('mesh_paper_groups_pmid.csv')\n",
    "\n"
   ]
  },
  {
   "cell_type": "code",
   "execution_count": 30,
   "metadata": {},
   "outputs": [
    {
     "output_type": "execute_result",
     "data": {
      "text/plain": "           A         B\n0   27815364  26131556\n1   28624066  29218900\n2   26556772  26900925\n3   29309592  18845632\n4   24737801  27933336\n..       ...       ...\n95  26499807  18987328\n96  26669971  26164072\n97  19085212  24561662\n98  26476637  29046480\n99  27919967  25837283\n\n[100 rows x 2 columns]",
      "text/html": "<div>\n<style scoped>\n    .dataframe tbody tr th:only-of-type {\n        vertical-align: middle;\n    }\n\n    .dataframe tbody tr th {\n        vertical-align: top;\n    }\n\n    .dataframe thead th {\n        text-align: right;\n    }\n</style>\n<table border=\"1\" class=\"dataframe\">\n  <thead>\n    <tr style=\"text-align: right;\">\n      <th></th>\n      <th>A</th>\n      <th>B</th>\n    </tr>\n  </thead>\n  <tbody>\n    <tr>\n      <td>0</td>\n      <td>27815364</td>\n      <td>26131556</td>\n    </tr>\n    <tr>\n      <td>1</td>\n      <td>28624066</td>\n      <td>29218900</td>\n    </tr>\n    <tr>\n      <td>2</td>\n      <td>26556772</td>\n      <td>26900925</td>\n    </tr>\n    <tr>\n      <td>3</td>\n      <td>29309592</td>\n      <td>18845632</td>\n    </tr>\n    <tr>\n      <td>4</td>\n      <td>24737801</td>\n      <td>27933336</td>\n    </tr>\n    <tr>\n      <td>...</td>\n      <td>...</td>\n      <td>...</td>\n    </tr>\n    <tr>\n      <td>95</td>\n      <td>26499807</td>\n      <td>18987328</td>\n    </tr>\n    <tr>\n      <td>96</td>\n      <td>26669971</td>\n      <td>26164072</td>\n    </tr>\n    <tr>\n      <td>97</td>\n      <td>19085212</td>\n      <td>24561662</td>\n    </tr>\n    <tr>\n      <td>98</td>\n      <td>26476637</td>\n      <td>29046480</td>\n    </tr>\n    <tr>\n      <td>99</td>\n      <td>27919967</td>\n      <td>25837283</td>\n    </tr>\n  </tbody>\n</table>\n<p>100 rows × 2 columns</p>\n</div>"
     },
     "metadata": {},
     "execution_count": 30
    }
   ],
   "source": [
    "list_df=pd.DataFrame({'A': group_B, 'B' :group_A})\n",
    "list_df\n"
   ]
  },
  {
   "cell_type": "code",
   "execution_count": 52,
   "metadata": {},
   "outputs": [],
   "source": [
    "A=np.array(df2[df2['pmid'].isin(list_df.A.to_list())].vec.to_list())\n",
    "B=np.array(df2[df2['pmid'].isin(list_df.B.to_list())].vec.to_list())"
   ]
  },
  {
   "cell_type": "code",
   "execution_count": 54,
   "metadata": {},
   "outputs": [
    {
     "output_type": "execute_result",
     "data": {
      "text/plain": "(200, 64)"
     },
     "metadata": {},
     "execution_count": 54
    }
   ],
   "source": [
    "C=np.concatenate((A,B),axis=0)\n",
    "C.shape"
   ]
  },
  {
   "cell_type": "code",
   "execution_count": 23,
   "metadata": {},
   "outputs": [],
   "source": [
    "from sklearn.decomposition import PCA\n",
    "from sklearn.manifold import TSNE\n",
    "%matplotlib inline\n",
    "import matplotlib.pyplot as plt\n",
    "from mpl_toolkits.mplot3d import Axes3D\n",
    "import seaborn as sns"
   ]
  },
  {
   "cell_type": "code",
   "execution_count": 59,
   "metadata": {
    "tags": []
   },
   "outputs": [
    {
     "output_type": "stream",
     "name": "stdout",
     "text": "Explained variation per principal component: [0.72769612 0.05168091]\n"
    }
   ],
   "source": [
    "df_pcd=pd.DataFrame()\n",
    "pca = PCA(n_components=2)\n",
    "pca_result = pca.fit_transform(C)\n",
    "df_pcd['pca-one'] = pca_result[:,0]\n",
    "df_pcd['pca-two'] = pca_result[:,1] \n",
    "print('Explained variation per principal component: {}'.format(pca.explained_variance_ratio_))\n"
   ]
  },
  {
   "cell_type": "code",
   "execution_count": 67,
   "metadata": {},
   "outputs": [
    {
     "output_type": "execute_result",
     "data": {
      "text/plain": "<matplotlib.collections.PathCollection at 0x22aeb0860>"
     },
     "metadata": {},
     "execution_count": 67
    },
    {
     "output_type": "display_data",
     "data": {
      "text/plain": "<Figure size 432x288 with 1 Axes>",
      "image/svg+xml": "<?xml version=\"1.0\" encoding=\"utf-8\" standalone=\"no\"?>\n<!DOCTYPE svg PUBLIC \"-//W3C//DTD SVG 1.1//EN\"\n  \"http://www.w3.org/Graphics/SVG/1.1/DTD/svg11.dtd\">\n<!-- Created with matplotlib (https://matplotlib.org/) -->\n<svg height=\"248.955386pt\" version=\"1.1\" viewBox=\"0 0 391.616671 248.955386\" width=\"391.616671pt\" xmlns=\"http://www.w3.org/2000/svg\" xmlns:xlink=\"http://www.w3.org/1999/xlink\">\n <defs>\n  <style type=\"text/css\">\n*{stroke-linecap:butt;stroke-linejoin:round;}\n  </style>\n </defs>\n <g id=\"figure_1\">\n  <g id=\"patch_1\">\n   <path d=\"M 0 248.955386 \nL 391.616671 248.955386 \nL 391.616671 0 \nL 0 0 \nz\n\" style=\"fill:none;\"/>\n  </g>\n  <g id=\"axes_1\">\n   <g id=\"patch_2\">\n    <path d=\"M 41.667188 225.077261 \nL 376.467188 225.077261 \nL 376.467188 7.637261 \nL 41.667188 7.637261 \nz\n\" style=\"fill:#ffffff;\"/>\n   </g>\n   <g id=\"PathCollection_1\">\n    <defs>\n     <path d=\"M 0 3 \nC 0.795609 3 1.55874 2.683901 2.12132 2.12132 \nC 2.683901 1.55874 3 0.795609 3 0 \nC 3 -0.795609 2.683901 -1.55874 2.12132 -2.12132 \nC 1.55874 -2.683901 0.795609 -3 0 -3 \nC -0.795609 -3 -1.55874 -2.683901 -2.12132 -2.12132 \nC -2.683901 -1.55874 -3 -0.795609 -3 0 \nC -3 0.795609 -2.683901 1.55874 -2.12132 2.12132 \nC -1.55874 2.683901 -0.795609 3 0 3 \nz\n\" id=\"ma09ab6a307\" style=\"stroke:#ff0000;\"/>\n    </defs>\n    <g clip-path=\"url(#pb14369dace)\">\n     <use style=\"fill:#ff0000;stroke:#ff0000;\" x=\"287.124445\" xlink:href=\"#ma09ab6a307\" y=\"156.659149\"/>\n     <use style=\"fill:#ff0000;stroke:#ff0000;\" x=\"277.408902\" xlink:href=\"#ma09ab6a307\" y=\"185.912766\"/>\n     <use style=\"fill:#ff0000;stroke:#ff0000;\" x=\"359.735215\" xlink:href=\"#ma09ab6a307\" y=\"132.77955\"/>\n     <use style=\"fill:#ff0000;stroke:#ff0000;\" x=\"338.868787\" xlink:href=\"#ma09ab6a307\" y=\"131.377177\"/>\n     <use style=\"fill:#ff0000;stroke:#ff0000;\" x=\"254.402966\" xlink:href=\"#ma09ab6a307\" y=\"182.559422\"/>\n     <use style=\"fill:#ff0000;stroke:#ff0000;\" x=\"297.985108\" xlink:href=\"#ma09ab6a307\" y=\"122.313074\"/>\n     <use style=\"fill:#ff0000;stroke:#ff0000;\" x=\"270.893307\" xlink:href=\"#ma09ab6a307\" y=\"127.204036\"/>\n     <use style=\"fill:#ff0000;stroke:#ff0000;\" x=\"276.294775\" xlink:href=\"#ma09ab6a307\" y=\"112.781134\"/>\n     <use style=\"fill:#ff0000;stroke:#ff0000;\" x=\"263.505881\" xlink:href=\"#ma09ab6a307\" y=\"195.01513\"/>\n     <use style=\"fill:#ff0000;stroke:#ff0000;\" x=\"285.580608\" xlink:href=\"#ma09ab6a307\" y=\"71.046362\"/>\n     <use style=\"fill:#ff0000;stroke:#ff0000;\" x=\"260.151949\" xlink:href=\"#ma09ab6a307\" y=\"211.759318\"/>\n     <use style=\"fill:#ff0000;stroke:#ff0000;\" x=\"288.25373\" xlink:href=\"#ma09ab6a307\" y=\"132.185091\"/>\n     <use style=\"fill:#ff0000;stroke:#ff0000;\" x=\"292.766192\" xlink:href=\"#ma09ab6a307\" y=\"131.066347\"/>\n     <use style=\"fill:#ff0000;stroke:#ff0000;\" x=\"273.980363\" xlink:href=\"#ma09ab6a307\" y=\"183.995012\"/>\n     <use style=\"fill:#ff0000;stroke:#ff0000;\" x=\"261.178582\" xlink:href=\"#ma09ab6a307\" y=\"157.752199\"/>\n     <use style=\"fill:#ff0000;stroke:#ff0000;\" x=\"265.116371\" xlink:href=\"#ma09ab6a307\" y=\"156.596428\"/>\n     <use style=\"fill:#ff0000;stroke:#ff0000;\" x=\"268.118201\" xlink:href=\"#ma09ab6a307\" y=\"189.795218\"/>\n     <use style=\"fill:#ff0000;stroke:#ff0000;\" x=\"258.345943\" xlink:href=\"#ma09ab6a307\" y=\"204.184364\"/>\n     <use style=\"fill:#ff0000;stroke:#ff0000;\" x=\"278.970478\" xlink:href=\"#ma09ab6a307\" y=\"149.207604\"/>\n     <use style=\"fill:#ff0000;stroke:#ff0000;\" x=\"250.09431\" xlink:href=\"#ma09ab6a307\" y=\"117.572578\"/>\n     <use style=\"fill:#ff0000;stroke:#ff0000;\" x=\"302.576741\" xlink:href=\"#ma09ab6a307\" y=\"147.729987\"/>\n     <use style=\"fill:#ff0000;stroke:#ff0000;\" x=\"342.235546\" xlink:href=\"#ma09ab6a307\" y=\"106.310143\"/>\n     <use style=\"fill:#ff0000;stroke:#ff0000;\" x=\"342.235546\" xlink:href=\"#ma09ab6a307\" y=\"106.310143\"/>\n     <use style=\"fill:#ff0000;stroke:#ff0000;\" x=\"334.568413\" xlink:href=\"#ma09ab6a307\" y=\"140.726633\"/>\n     <use style=\"fill:#ff0000;stroke:#ff0000;\" x=\"241.928583\" xlink:href=\"#ma09ab6a307\" y=\"137.470538\"/>\n     <use style=\"fill:#ff0000;stroke:#ff0000;\" x=\"273.15134\" xlink:href=\"#ma09ab6a307\" y=\"181.964722\"/>\n     <use style=\"fill:#ff0000;stroke:#ff0000;\" x=\"268.220546\" xlink:href=\"#ma09ab6a307\" y=\"148.653016\"/>\n     <use style=\"fill:#ff0000;stroke:#ff0000;\" x=\"280.860571\" xlink:href=\"#ma09ab6a307\" y=\"168.911475\"/>\n     <use style=\"fill:#ff0000;stroke:#ff0000;\" x=\"358.749086\" xlink:href=\"#ma09ab6a307\" y=\"106.923018\"/>\n     <use style=\"fill:#ff0000;stroke:#ff0000;\" x=\"281.448826\" xlink:href=\"#ma09ab6a307\" y=\"185.494979\"/>\n     <use style=\"fill:#ff0000;stroke:#ff0000;\" x=\"255.84611\" xlink:href=\"#ma09ab6a307\" y=\"190.922328\"/>\n     <use style=\"fill:#ff0000;stroke:#ff0000;\" x=\"265.96251\" xlink:href=\"#ma09ab6a307\" y=\"189.366904\"/>\n     <use style=\"fill:#ff0000;stroke:#ff0000;\" x=\"273.097404\" xlink:href=\"#ma09ab6a307\" y=\"164.27232\"/>\n     <use style=\"fill:#ff0000;stroke:#ff0000;\" x=\"266.106736\" xlink:href=\"#ma09ab6a307\" y=\"160.973482\"/>\n     <use style=\"fill:#ff0000;stroke:#ff0000;\" x=\"297.751277\" xlink:href=\"#ma09ab6a307\" y=\"177.214964\"/>\n     <use style=\"fill:#ff0000;stroke:#ff0000;\" x=\"268.978473\" xlink:href=\"#ma09ab6a307\" y=\"178.901917\"/>\n     <use style=\"fill:#ff0000;stroke:#ff0000;\" x=\"265.822781\" xlink:href=\"#ma09ab6a307\" y=\"156.702027\"/>\n     <use style=\"fill:#ff0000;stroke:#ff0000;\" x=\"278.935279\" xlink:href=\"#ma09ab6a307\" y=\"186.082767\"/>\n     <use style=\"fill:#ff0000;stroke:#ff0000;\" x=\"293.668974\" xlink:href=\"#ma09ab6a307\" y=\"185.129672\"/>\n     <use style=\"fill:#ff0000;stroke:#ff0000;\" x=\"272.760501\" xlink:href=\"#ma09ab6a307\" y=\"160.685177\"/>\n     <use style=\"fill:#ff0000;stroke:#ff0000;\" x=\"291.454179\" xlink:href=\"#ma09ab6a307\" y=\"134.669396\"/>\n     <use style=\"fill:#ff0000;stroke:#ff0000;\" x=\"275.684311\" xlink:href=\"#ma09ab6a307\" y=\"187.066397\"/>\n     <use style=\"fill:#ff0000;stroke:#ff0000;\" x=\"247.972431\" xlink:href=\"#ma09ab6a307\" y=\"141.117096\"/>\n     <use style=\"fill:#ff0000;stroke:#ff0000;\" x=\"279.960864\" xlink:href=\"#ma09ab6a307\" y=\"153.98958\"/>\n     <use style=\"fill:#ff0000;stroke:#ff0000;\" x=\"258.32687\" xlink:href=\"#ma09ab6a307\" y=\"72.733892\"/>\n     <use style=\"fill:#ff0000;stroke:#ff0000;\" x=\"258.913465\" xlink:href=\"#ma09ab6a307\" y=\"105.970755\"/>\n     <use style=\"fill:#ff0000;stroke:#ff0000;\" x=\"312.40645\" xlink:href=\"#ma09ab6a307\" y=\"76.332228\"/>\n     <use style=\"fill:#ff0000;stroke:#ff0000;\" x=\"275.586852\" xlink:href=\"#ma09ab6a307\" y=\"141.726685\"/>\n     <use style=\"fill:#ff0000;stroke:#ff0000;\" x=\"295.944233\" xlink:href=\"#ma09ab6a307\" y=\"170.895722\"/>\n     <use style=\"fill:#ff0000;stroke:#ff0000;\" x=\"319.703986\" xlink:href=\"#ma09ab6a307\" y=\"128.382662\"/>\n     <use style=\"fill:#ff0000;stroke:#ff0000;\" x=\"277.045116\" xlink:href=\"#ma09ab6a307\" y=\"181.340055\"/>\n     <use style=\"fill:#ff0000;stroke:#ff0000;\" x=\"255.721009\" xlink:href=\"#ma09ab6a307\" y=\"135.93982\"/>\n     <use style=\"fill:#ff0000;stroke:#ff0000;\" x=\"296.082243\" xlink:href=\"#ma09ab6a307\" y=\"124.088207\"/>\n     <use style=\"fill:#ff0000;stroke:#ff0000;\" x=\"270.433481\" xlink:href=\"#ma09ab6a307\" y=\"144.761655\"/>\n     <use style=\"fill:#ff0000;stroke:#ff0000;\" x=\"283.51486\" xlink:href=\"#ma09ab6a307\" y=\"156.116781\"/>\n     <use style=\"fill:#ff0000;stroke:#ff0000;\" x=\"281.441318\" xlink:href=\"#ma09ab6a307\" y=\"169.691792\"/>\n     <use style=\"fill:#ff0000;stroke:#ff0000;\" x=\"316.95751\" xlink:href=\"#ma09ab6a307\" y=\"171.266767\"/>\n     <use style=\"fill:#ff0000;stroke:#ff0000;\" x=\"273.989653\" xlink:href=\"#ma09ab6a307\" y=\"152.329326\"/>\n     <use style=\"fill:#ff0000;stroke:#ff0000;\" x=\"276.044808\" xlink:href=\"#ma09ab6a307\" y=\"124.570816\"/>\n     <use style=\"fill:#ff0000;stroke:#ff0000;\" x=\"248.79736\" xlink:href=\"#ma09ab6a307\" y=\"77.013464\"/>\n     <use style=\"fill:#ff0000;stroke:#ff0000;\" x=\"278.241143\" xlink:href=\"#ma09ab6a307\" y=\"154.803616\"/>\n     <use style=\"fill:#ff0000;stroke:#ff0000;\" x=\"276.155363\" xlink:href=\"#ma09ab6a307\" y=\"159.739918\"/>\n     <use style=\"fill:#ff0000;stroke:#ff0000;\" x=\"295.047006\" xlink:href=\"#ma09ab6a307\" y=\"121.407946\"/>\n     <use style=\"fill:#ff0000;stroke:#ff0000;\" x=\"283.708191\" xlink:href=\"#ma09ab6a307\" y=\"85.201204\"/>\n     <use style=\"fill:#ff0000;stroke:#ff0000;\" x=\"273.83313\" xlink:href=\"#ma09ab6a307\" y=\"162.580972\"/>\n     <use style=\"fill:#ff0000;stroke:#ff0000;\" x=\"262.173174\" xlink:href=\"#ma09ab6a307\" y=\"167.765441\"/>\n     <use style=\"fill:#ff0000;stroke:#ff0000;\" x=\"260.009385\" xlink:href=\"#ma09ab6a307\" y=\"209.042364\"/>\n     <use style=\"fill:#ff0000;stroke:#ff0000;\" x=\"270.513355\" xlink:href=\"#ma09ab6a307\" y=\"148.989515\"/>\n     <use style=\"fill:#ff0000;stroke:#ff0000;\" x=\"282.31004\" xlink:href=\"#ma09ab6a307\" y=\"132.922087\"/>\n     <use style=\"fill:#ff0000;stroke:#ff0000;\" x=\"277.456564\" xlink:href=\"#ma09ab6a307\" y=\"102.373444\"/>\n     <use style=\"fill:#ff0000;stroke:#ff0000;\" x=\"320.359104\" xlink:href=\"#ma09ab6a307\" y=\"165.002324\"/>\n     <use style=\"fill:#ff0000;stroke:#ff0000;\" x=\"283.583228\" xlink:href=\"#ma09ab6a307\" y=\"173.395262\"/>\n     <use style=\"fill:#ff0000;stroke:#ff0000;\" x=\"274.085132\" xlink:href=\"#ma09ab6a307\" y=\"193.741472\"/>\n     <use style=\"fill:#ff0000;stroke:#ff0000;\" x=\"280.340044\" xlink:href=\"#ma09ab6a307\" y=\"156.696403\"/>\n     <use style=\"fill:#ff0000;stroke:#ff0000;\" x=\"318.803913\" xlink:href=\"#ma09ab6a307\" y=\"108.800416\"/>\n     <use style=\"fill:#ff0000;stroke:#ff0000;\" x=\"274.309461\" xlink:href=\"#ma09ab6a307\" y=\"187.937209\"/>\n     <use style=\"fill:#ff0000;stroke:#ff0000;\" x=\"264.388497\" xlink:href=\"#ma09ab6a307\" y=\"176.548995\"/>\n     <use style=\"fill:#ff0000;stroke:#ff0000;\" x=\"277.740311\" xlink:href=\"#ma09ab6a307\" y=\"178.110082\"/>\n     <use style=\"fill:#ff0000;stroke:#ff0000;\" x=\"275.918818\" xlink:href=\"#ma09ab6a307\" y=\"207.977811\"/>\n     <use style=\"fill:#ff0000;stroke:#ff0000;\" x=\"279.822282\" xlink:href=\"#ma09ab6a307\" y=\"151.788488\"/>\n     <use style=\"fill:#ff0000;stroke:#ff0000;\" x=\"301.411977\" xlink:href=\"#ma09ab6a307\" y=\"101.729286\"/>\n     <use style=\"fill:#ff0000;stroke:#ff0000;\" x=\"313.96958\" xlink:href=\"#ma09ab6a307\" y=\"68.318627\"/>\n     <use style=\"fill:#ff0000;stroke:#ff0000;\" x=\"326.512145\" xlink:href=\"#ma09ab6a307\" y=\"91.546571\"/>\n     <use style=\"fill:#ff0000;stroke:#ff0000;\" x=\"293.136647\" xlink:href=\"#ma09ab6a307\" y=\"74.873541\"/>\n     <use style=\"fill:#ff0000;stroke:#ff0000;\" x=\"253.525883\" xlink:href=\"#ma09ab6a307\" y=\"167.891873\"/>\n     <use style=\"fill:#ff0000;stroke:#ff0000;\" x=\"263.836459\" xlink:href=\"#ma09ab6a307\" y=\"147.519043\"/>\n     <use style=\"fill:#ff0000;stroke:#ff0000;\" x=\"296.549609\" xlink:href=\"#ma09ab6a307\" y=\"107.57769\"/>\n     <use style=\"fill:#ff0000;stroke:#ff0000;\" x=\"278.267916\" xlink:href=\"#ma09ab6a307\" y=\"182.916979\"/>\n     <use style=\"fill:#ff0000;stroke:#ff0000;\" x=\"262.891917\" xlink:href=\"#ma09ab6a307\" y=\"162.83691\"/>\n     <use style=\"fill:#ff0000;stroke:#ff0000;\" x=\"265.116176\" xlink:href=\"#ma09ab6a307\" y=\"158.208517\"/>\n     <use style=\"fill:#ff0000;stroke:#ff0000;\" x=\"349.076566\" xlink:href=\"#ma09ab6a307\" y=\"27.608042\"/>\n     <use style=\"fill:#ff0000;stroke:#ff0000;\" x=\"274.980166\" xlink:href=\"#ma09ab6a307\" y=\"128.024285\"/>\n     <use style=\"fill:#ff0000;stroke:#ff0000;\" x=\"274.390209\" xlink:href=\"#ma09ab6a307\" y=\"184.132795\"/>\n     <use style=\"fill:#ff0000;stroke:#ff0000;\" x=\"293.4302\" xlink:href=\"#ma09ab6a307\" y=\"150.907754\"/>\n     <use style=\"fill:#ff0000;stroke:#ff0000;\" x=\"262.963296\" xlink:href=\"#ma09ab6a307\" y=\"185.877371\"/>\n     <use style=\"fill:#ff0000;stroke:#ff0000;\" x=\"322.730194\" xlink:href=\"#ma09ab6a307\" y=\"94.94175\"/>\n     <use style=\"fill:#ff0000;stroke:#ff0000;\" x=\"280.123371\" xlink:href=\"#ma09ab6a307\" y=\"141.397393\"/>\n     <use style=\"fill:#ff0000;stroke:#ff0000;\" x=\"259.41966\" xlink:href=\"#ma09ab6a307\" y=\"204.592037\"/>\n     <use style=\"fill:#ff0000;stroke:#ff0000;\" x=\"264.193577\" xlink:href=\"#ma09ab6a307\" y=\"174.782648\"/>\n     <use style=\"fill:#ff0000;stroke:#ff0000;\" x=\"361.249006\" xlink:href=\"#ma09ab6a307\" y=\"93.599368\"/>\n    </g>\n   </g>\n   <g id=\"PathCollection_2\">\n    <defs>\n     <path d=\"M 0 3 \nC 0.795609 3 1.55874 2.683901 2.12132 2.12132 \nC 2.683901 1.55874 3 0.795609 3 0 \nC 3 -0.795609 2.683901 -1.55874 2.12132 -2.12132 \nC 1.55874 -2.683901 0.795609 -3 0 -3 \nC -0.795609 -3 -1.55874 -2.683901 -2.12132 -2.12132 \nC -2.683901 -1.55874 -3 -0.795609 -3 0 \nC -3 0.795609 -2.683901 1.55874 -2.12132 2.12132 \nC -1.55874 2.683901 -0.795609 3 0 3 \nz\n\" id=\"m3ebffe10d2\" style=\"stroke:#0000ff;\"/>\n    </defs>\n    <g clip-path=\"url(#pb14369dace)\">\n     <use style=\"fill:#0000ff;stroke:#0000ff;\" x=\"91.577837\" xlink:href=\"#m3ebffe10d2\" y=\"124.820451\"/>\n     <use style=\"fill:#0000ff;stroke:#0000ff;\" x=\"104.403784\" xlink:href=\"#m3ebffe10d2\" y=\"129.336811\"/>\n     <use style=\"fill:#0000ff;stroke:#0000ff;\" x=\"105.392522\" xlink:href=\"#m3ebffe10d2\" y=\"114.496247\"/>\n     <use style=\"fill:#0000ff;stroke:#0000ff;\" x=\"108.507247\" xlink:href=\"#m3ebffe10d2\" y=\"143.551428\"/>\n     <use style=\"fill:#0000ff;stroke:#0000ff;\" x=\"90.504544\" xlink:href=\"#m3ebffe10d2\" y=\"47.229932\"/>\n     <use style=\"fill:#0000ff;stroke:#0000ff;\" x=\"76.339825\" xlink:href=\"#m3ebffe10d2\" y=\"119.103375\"/>\n     <use style=\"fill:#0000ff;stroke:#0000ff;\" x=\"93.978101\" xlink:href=\"#m3ebffe10d2\" y=\"109.813947\"/>\n     <use style=\"fill:#0000ff;stroke:#0000ff;\" x=\"102.0773\" xlink:href=\"#m3ebffe10d2\" y=\"108.413208\"/>\n     <use style=\"fill:#0000ff;stroke:#0000ff;\" x=\"110.140059\" xlink:href=\"#m3ebffe10d2\" y=\"162.693963\"/>\n     <use style=\"fill:#0000ff;stroke:#0000ff;\" x=\"98.49482\" xlink:href=\"#m3ebffe10d2\" y=\"178.224417\"/>\n     <use style=\"fill:#0000ff;stroke:#0000ff;\" x=\"132.377202\" xlink:href=\"#m3ebffe10d2\" y=\"119.941809\"/>\n     <use style=\"fill:#0000ff;stroke:#0000ff;\" x=\"115.916086\" xlink:href=\"#m3ebffe10d2\" y=\"123.338999\"/>\n     <use style=\"fill:#0000ff;stroke:#0000ff;\" x=\"99.335006\" xlink:href=\"#m3ebffe10d2\" y=\"187.400392\"/>\n     <use style=\"fill:#0000ff;stroke:#0000ff;\" x=\"93.914407\" xlink:href=\"#m3ebffe10d2\" y=\"113.775177\"/>\n     <use style=\"fill:#0000ff;stroke:#0000ff;\" x=\"107.315786\" xlink:href=\"#m3ebffe10d2\" y=\"168.065686\"/>\n     <use style=\"fill:#0000ff;stroke:#0000ff;\" x=\"98.073715\" xlink:href=\"#m3ebffe10d2\" y=\"168.191249\"/>\n     <use style=\"fill:#0000ff;stroke:#0000ff;\" x=\"105.482033\" xlink:href=\"#m3ebffe10d2\" y=\"169.473437\"/>\n     <use style=\"fill:#0000ff;stroke:#0000ff;\" x=\"112.638322\" xlink:href=\"#m3ebffe10d2\" y=\"153.501413\"/>\n     <use style=\"fill:#0000ff;stroke:#0000ff;\" x=\"110.66946\" xlink:href=\"#m3ebffe10d2\" y=\"161.891258\"/>\n     <use style=\"fill:#0000ff;stroke:#0000ff;\" x=\"102.729571\" xlink:href=\"#m3ebffe10d2\" y=\"96.876664\"/>\n     <use style=\"fill:#0000ff;stroke:#0000ff;\" x=\"96.815718\" xlink:href=\"#m3ebffe10d2\" y=\"197.230328\"/>\n     <use style=\"fill:#0000ff;stroke:#0000ff;\" x=\"103.005752\" xlink:href=\"#m3ebffe10d2\" y=\"112.639616\"/>\n     <use style=\"fill:#0000ff;stroke:#0000ff;\" x=\"105.186146\" xlink:href=\"#m3ebffe10d2\" y=\"132.294973\"/>\n     <use style=\"fill:#0000ff;stroke:#0000ff;\" x=\"96.225638\" xlink:href=\"#m3ebffe10d2\" y=\"167.122765\"/>\n     <use style=\"fill:#0000ff;stroke:#0000ff;\" x=\"98.012178\" xlink:href=\"#m3ebffe10d2\" y=\"96.634606\"/>\n     <use style=\"fill:#0000ff;stroke:#0000ff;\" x=\"104.110642\" xlink:href=\"#m3ebffe10d2\" y=\"195.266709\"/>\n     <use style=\"fill:#0000ff;stroke:#0000ff;\" x=\"109.637076\" xlink:href=\"#m3ebffe10d2\" y=\"162.726623\"/>\n     <use style=\"fill:#0000ff;stroke:#0000ff;\" x=\"105.314897\" xlink:href=\"#m3ebffe10d2\" y=\"135.681645\"/>\n     <use style=\"fill:#0000ff;stroke:#0000ff;\" x=\"105.269061\" xlink:href=\"#m3ebffe10d2\" y=\"168.640238\"/>\n     <use style=\"fill:#0000ff;stroke:#0000ff;\" x=\"97.729374\" xlink:href=\"#m3ebffe10d2\" y=\"169.390406\"/>\n     <use style=\"fill:#0000ff;stroke:#0000ff;\" x=\"100.025668\" xlink:href=\"#m3ebffe10d2\" y=\"215.193625\"/>\n     <use style=\"fill:#0000ff;stroke:#0000ff;\" x=\"94.194663\" xlink:href=\"#m3ebffe10d2\" y=\"192.632809\"/>\n     <use style=\"fill:#0000ff;stroke:#0000ff;\" x=\"111.438039\" xlink:href=\"#m3ebffe10d2\" y=\"182.84147\"/>\n     <use style=\"fill:#0000ff;stroke:#0000ff;\" x=\"68.621342\" xlink:href=\"#m3ebffe10d2\" y=\"123.544629\"/>\n     <use style=\"fill:#0000ff;stroke:#0000ff;\" x=\"111.579308\" xlink:href=\"#m3ebffe10d2\" y=\"186.531519\"/>\n     <use style=\"fill:#0000ff;stroke:#0000ff;\" x=\"101.422695\" xlink:href=\"#m3ebffe10d2\" y=\"176.946409\"/>\n     <use style=\"fill:#0000ff;stroke:#0000ff;\" x=\"113.702476\" xlink:href=\"#m3ebffe10d2\" y=\"164.168271\"/>\n     <use style=\"fill:#0000ff;stroke:#0000ff;\" x=\"94.161903\" xlink:href=\"#m3ebffe10d2\" y=\"100.371909\"/>\n     <use style=\"fill:#0000ff;stroke:#0000ff;\" x=\"103.049215\" xlink:href=\"#m3ebffe10d2\" y=\"122.611607\"/>\n     <use style=\"fill:#0000ff;stroke:#0000ff;\" x=\"105.573044\" xlink:href=\"#m3ebffe10d2\" y=\"144.517886\"/>\n     <use style=\"fill:#0000ff;stroke:#0000ff;\" x=\"95.42684\" xlink:href=\"#m3ebffe10d2\" y=\"130.103967\"/>\n     <use style=\"fill:#0000ff;stroke:#0000ff;\" x=\"105.331593\" xlink:href=\"#m3ebffe10d2\" y=\"175.133311\"/>\n     <use style=\"fill:#0000ff;stroke:#0000ff;\" x=\"90.296128\" xlink:href=\"#m3ebffe10d2\" y=\"168.783104\"/>\n     <use style=\"fill:#0000ff;stroke:#0000ff;\" x=\"101.354621\" xlink:href=\"#m3ebffe10d2\" y=\"173.714345\"/>\n     <use style=\"fill:#0000ff;stroke:#0000ff;\" x=\"117.252971\" xlink:href=\"#m3ebffe10d2\" y=\"61.703946\"/>\n     <use style=\"fill:#0000ff;stroke:#0000ff;\" x=\"112.001905\" xlink:href=\"#m3ebffe10d2\" y=\"161.6994\"/>\n     <use style=\"fill:#0000ff;stroke:#0000ff;\" x=\"97.911718\" xlink:href=\"#m3ebffe10d2\" y=\"152.277141\"/>\n     <use style=\"fill:#0000ff;stroke:#0000ff;\" x=\"104.168503\" xlink:href=\"#m3ebffe10d2\" y=\"146.106645\"/>\n     <use style=\"fill:#0000ff;stroke:#0000ff;\" x=\"100.855101\" xlink:href=\"#m3ebffe10d2\" y=\"121.775271\"/>\n     <use style=\"fill:#0000ff;stroke:#0000ff;\" x=\"77.889161\" xlink:href=\"#m3ebffe10d2\" y=\"129.30928\"/>\n     <use style=\"fill:#0000ff;stroke:#0000ff;\" x=\"103.870528\" xlink:href=\"#m3ebffe10d2\" y=\"136.203725\"/>\n     <use style=\"fill:#0000ff;stroke:#0000ff;\" x=\"93.532724\" xlink:href=\"#m3ebffe10d2\" y=\"135.364786\"/>\n     <use style=\"fill:#0000ff;stroke:#0000ff;\" x=\"105.988337\" xlink:href=\"#m3ebffe10d2\" y=\"135.630619\"/>\n     <use style=\"fill:#0000ff;stroke:#0000ff;\" x=\"129.595239\" xlink:href=\"#m3ebffe10d2\" y=\"130.396377\"/>\n     <use style=\"fill:#0000ff;stroke:#0000ff;\" x=\"109.140407\" xlink:href=\"#m3ebffe10d2\" y=\"175.028038\"/>\n     <use style=\"fill:#0000ff;stroke:#0000ff;\" x=\"101.18842\" xlink:href=\"#m3ebffe10d2\" y=\"146.706239\"/>\n     <use style=\"fill:#0000ff;stroke:#0000ff;\" x=\"86.980206\" xlink:href=\"#m3ebffe10d2\" y=\"126.932546\"/>\n     <use style=\"fill:#0000ff;stroke:#0000ff;\" x=\"103.3146\" xlink:href=\"#m3ebffe10d2\" y=\"185.823287\"/>\n     <use style=\"fill:#0000ff;stroke:#0000ff;\" x=\"106.803324\" xlink:href=\"#m3ebffe10d2\" y=\"158.249577\"/>\n     <use style=\"fill:#0000ff;stroke:#0000ff;\" x=\"109.368651\" xlink:href=\"#m3ebffe10d2\" y=\"131.73352\"/>\n     <use style=\"fill:#0000ff;stroke:#0000ff;\" x=\"98.594487\" xlink:href=\"#m3ebffe10d2\" y=\"203.969008\"/>\n     <use style=\"fill:#0000ff;stroke:#0000ff;\" x=\"101.249493\" xlink:href=\"#m3ebffe10d2\" y=\"180.872935\"/>\n     <use style=\"fill:#0000ff;stroke:#0000ff;\" x=\"112.925877\" xlink:href=\"#m3ebffe10d2\" y=\"98.385536\"/>\n     <use style=\"fill:#0000ff;stroke:#0000ff;\" x=\"104.386568\" xlink:href=\"#m3ebffe10d2\" y=\"193.767998\"/>\n     <use style=\"fill:#0000ff;stroke:#0000ff;\" x=\"114.021352\" xlink:href=\"#m3ebffe10d2\" y=\"182.336866\"/>\n     <use style=\"fill:#0000ff;stroke:#0000ff;\" x=\"109.949074\" xlink:href=\"#m3ebffe10d2\" y=\"159.529451\"/>\n     <use style=\"fill:#0000ff;stroke:#0000ff;\" x=\"110.883509\" xlink:href=\"#m3ebffe10d2\" y=\"138.615713\"/>\n     <use style=\"fill:#0000ff;stroke:#0000ff;\" x=\"114.700536\" xlink:href=\"#m3ebffe10d2\" y=\"133.814308\"/>\n     <use style=\"fill:#0000ff;stroke:#0000ff;\" x=\"103.065993\" xlink:href=\"#m3ebffe10d2\" y=\"51.179895\"/>\n     <use style=\"fill:#0000ff;stroke:#0000ff;\" x=\"111.072745\" xlink:href=\"#m3ebffe10d2\" y=\"170.612434\"/>\n     <use style=\"fill:#0000ff;stroke:#0000ff;\" x=\"114.853018\" xlink:href=\"#m3ebffe10d2\" y=\"185.93801\"/>\n     <use style=\"fill:#0000ff;stroke:#0000ff;\" x=\"112.651276\" xlink:href=\"#m3ebffe10d2\" y=\"160.496647\"/>\n     <use style=\"fill:#0000ff;stroke:#0000ff;\" x=\"110.60965\" xlink:href=\"#m3ebffe10d2\" y=\"173.079874\"/>\n     <use style=\"fill:#0000ff;stroke:#0000ff;\" x=\"103.084973\" xlink:href=\"#m3ebffe10d2\" y=\"186.606169\"/>\n     <use style=\"fill:#0000ff;stroke:#0000ff;\" x=\"104.143566\" xlink:href=\"#m3ebffe10d2\" y=\"178.4316\"/>\n     <use style=\"fill:#0000ff;stroke:#0000ff;\" x=\"99.84509\" xlink:href=\"#m3ebffe10d2\" y=\"149.098839\"/>\n     <use style=\"fill:#0000ff;stroke:#0000ff;\" x=\"116.982673\" xlink:href=\"#m3ebffe10d2\" y=\"147.25906\"/>\n     <use style=\"fill:#0000ff;stroke:#0000ff;\" x=\"105.44048\" xlink:href=\"#m3ebffe10d2\" y=\"132.922975\"/>\n     <use style=\"fill:#0000ff;stroke:#0000ff;\" x=\"98.969918\" xlink:href=\"#m3ebffe10d2\" y=\"124.005063\"/>\n     <use style=\"fill:#0000ff;stroke:#0000ff;\" x=\"106.374672\" xlink:href=\"#m3ebffe10d2\" y=\"123.935705\"/>\n     <use style=\"fill:#0000ff;stroke:#0000ff;\" x=\"104.841496\" xlink:href=\"#m3ebffe10d2\" y=\"174.617459\"/>\n     <use style=\"fill:#0000ff;stroke:#0000ff;\" x=\"101.665093\" xlink:href=\"#m3ebffe10d2\" y=\"132.559371\"/>\n     <use style=\"fill:#0000ff;stroke:#0000ff;\" x=\"110.275687\" xlink:href=\"#m3ebffe10d2\" y=\"156.015931\"/>\n     <use style=\"fill:#0000ff;stroke:#0000ff;\" x=\"103.548019\" xlink:href=\"#m3ebffe10d2\" y=\"137.872915\"/>\n     <use style=\"fill:#0000ff;stroke:#0000ff;\" x=\"101.250668\" xlink:href=\"#m3ebffe10d2\" y=\"91.878653\"/>\n     <use style=\"fill:#0000ff;stroke:#0000ff;\" x=\"101.047517\" xlink:href=\"#m3ebffe10d2\" y=\"75.353721\"/>\n     <use style=\"fill:#0000ff;stroke:#0000ff;\" x=\"115.012736\" xlink:href=\"#m3ebffe10d2\" y=\"142.326722\"/>\n     <use style=\"fill:#0000ff;stroke:#0000ff;\" x=\"82.085798\" xlink:href=\"#m3ebffe10d2\" y=\"125.488395\"/>\n     <use style=\"fill:#0000ff;stroke:#0000ff;\" x=\"101.605082\" xlink:href=\"#m3ebffe10d2\" y=\"151.246475\"/>\n     <use style=\"fill:#0000ff;stroke:#0000ff;\" x=\"102.168508\" xlink:href=\"#m3ebffe10d2\" y=\"168.609291\"/>\n     <use style=\"fill:#0000ff;stroke:#0000ff;\" x=\"56.885369\" xlink:href=\"#m3ebffe10d2\" y=\"73.266296\"/>\n     <use style=\"fill:#0000ff;stroke:#0000ff;\" x=\"118.191355\" xlink:href=\"#m3ebffe10d2\" y=\"138.441147\"/>\n     <use style=\"fill:#0000ff;stroke:#0000ff;\" x=\"93.80401\" xlink:href=\"#m3ebffe10d2\" y=\"112.673874\"/>\n     <use style=\"fill:#0000ff;stroke:#0000ff;\" x=\"92.898818\" xlink:href=\"#m3ebffe10d2\" y=\"175.970202\"/>\n     <use style=\"fill:#0000ff;stroke:#0000ff;\" x=\"94.102888\" xlink:href=\"#m3ebffe10d2\" y=\"162.449908\"/>\n     <use style=\"fill:#0000ff;stroke:#0000ff;\" x=\"122.786875\" xlink:href=\"#m3ebffe10d2\" y=\"155.880709\"/>\n     <use style=\"fill:#0000ff;stroke:#0000ff;\" x=\"110.975706\" xlink:href=\"#m3ebffe10d2\" y=\"90.106301\"/>\n     <use style=\"fill:#0000ff;stroke:#0000ff;\" x=\"84.511715\" xlink:href=\"#m3ebffe10d2\" y=\"174.324052\"/>\n     <use style=\"fill:#0000ff;stroke:#0000ff;\" x=\"84.269445\" xlink:href=\"#m3ebffe10d2\" y=\"17.520897\"/>\n     <use style=\"fill:#0000ff;stroke:#0000ff;\" x=\"106.050962\" xlink:href=\"#m3ebffe10d2\" y=\"106.544955\"/>\n    </g>\n   </g>\n   <g id=\"matplotlib.axis_1\">\n    <g id=\"xtick_1\">\n     <g id=\"line2d_1\">\n      <defs>\n       <path d=\"M 0 0 \nL 0 3.5 \n\" id=\"md09a52ba79\" style=\"stroke:#000000;stroke-width:0.8;\"/>\n      </defs>\n      <g>\n       <use style=\"stroke:#000000;stroke-width:0.8;\" x=\"72.211646\" xlink:href=\"#md09a52ba79\" y=\"225.077261\"/>\n      </g>\n     </g>\n     <g id=\"text_1\">\n      <!-- −400 -->\n      <defs>\n       <path d=\"M 10.59375 35.5 \nL 73.1875 35.5 \nL 73.1875 27.203125 \nL 10.59375 27.203125 \nz\n\" id=\"DejaVuSans-8722\"/>\n       <path d=\"M 37.796875 64.3125 \nL 12.890625 25.390625 \nL 37.796875 25.390625 \nz\nM 35.203125 72.90625 \nL 47.609375 72.90625 \nL 47.609375 25.390625 \nL 58.015625 25.390625 \nL 58.015625 17.1875 \nL 47.609375 17.1875 \nL 47.609375 0 \nL 37.796875 0 \nL 37.796875 17.1875 \nL 4.890625 17.1875 \nL 4.890625 26.703125 \nz\n\" id=\"DejaVuSans-52\"/>\n       <path d=\"M 31.78125 66.40625 \nQ 24.171875 66.40625 20.328125 58.90625 \nQ 16.5 51.421875 16.5 36.375 \nQ 16.5 21.390625 20.328125 13.890625 \nQ 24.171875 6.390625 31.78125 6.390625 \nQ 39.453125 6.390625 43.28125 13.890625 \nQ 47.125 21.390625 47.125 36.375 \nQ 47.125 51.421875 43.28125 58.90625 \nQ 39.453125 66.40625 31.78125 66.40625 \nz\nM 31.78125 74.21875 \nQ 44.046875 74.21875 50.515625 64.515625 \nQ 56.984375 54.828125 56.984375 36.375 \nQ 56.984375 17.96875 50.515625 8.265625 \nQ 44.046875 -1.421875 31.78125 -1.421875 \nQ 19.53125 -1.421875 13.0625 8.265625 \nQ 6.59375 17.96875 6.59375 36.375 \nQ 6.59375 54.828125 13.0625 64.515625 \nQ 19.53125 74.21875 31.78125 74.21875 \nz\n\" id=\"DejaVuSans-48\"/>\n      </defs>\n      <g transform=\"translate(58.478052 239.675699)scale(0.1 -0.1)\">\n       <use xlink:href=\"#DejaVuSans-8722\"/>\n       <use x=\"83.789062\" xlink:href=\"#DejaVuSans-52\"/>\n       <use x=\"147.412109\" xlink:href=\"#DejaVuSans-48\"/>\n       <use x=\"211.035156\" xlink:href=\"#DejaVuSans-48\"/>\n      </g>\n     </g>\n    </g>\n    <g id=\"xtick_2\">\n     <g id=\"line2d_2\">\n      <g>\n       <use style=\"stroke:#000000;stroke-width:0.8;\" x=\"132.743901\" xlink:href=\"#md09a52ba79\" y=\"225.077261\"/>\n      </g>\n     </g>\n     <g id=\"text_2\">\n      <!-- −200 -->\n      <defs>\n       <path d=\"M 19.1875 8.296875 \nL 53.609375 8.296875 \nL 53.609375 0 \nL 7.328125 0 \nL 7.328125 8.296875 \nQ 12.9375 14.109375 22.625 23.890625 \nQ 32.328125 33.6875 34.8125 36.53125 \nQ 39.546875 41.84375 41.421875 45.53125 \nQ 43.3125 49.21875 43.3125 52.78125 \nQ 43.3125 58.59375 39.234375 62.25 \nQ 35.15625 65.921875 28.609375 65.921875 \nQ 23.96875 65.921875 18.8125 64.3125 \nQ 13.671875 62.703125 7.8125 59.421875 \nL 7.8125 69.390625 \nQ 13.765625 71.78125 18.9375 73 \nQ 24.125 74.21875 28.421875 74.21875 \nQ 39.75 74.21875 46.484375 68.546875 \nQ 53.21875 62.890625 53.21875 53.421875 \nQ 53.21875 48.921875 51.53125 44.890625 \nQ 49.859375 40.875 45.40625 35.40625 \nQ 44.1875 33.984375 37.640625 27.21875 \nQ 31.109375 20.453125 19.1875 8.296875 \nz\n\" id=\"DejaVuSans-50\"/>\n      </defs>\n      <g transform=\"translate(119.010307 239.675699)scale(0.1 -0.1)\">\n       <use xlink:href=\"#DejaVuSans-8722\"/>\n       <use x=\"83.789062\" xlink:href=\"#DejaVuSans-50\"/>\n       <use x=\"147.412109\" xlink:href=\"#DejaVuSans-48\"/>\n       <use x=\"211.035156\" xlink:href=\"#DejaVuSans-48\"/>\n      </g>\n     </g>\n    </g>\n    <g id=\"xtick_3\">\n     <g id=\"line2d_3\">\n      <g>\n       <use style=\"stroke:#000000;stroke-width:0.8;\" x=\"193.276156\" xlink:href=\"#md09a52ba79\" y=\"225.077261\"/>\n      </g>\n     </g>\n     <g id=\"text_3\">\n      <!-- 0 -->\n      <g transform=\"translate(190.094906 239.675699)scale(0.1 -0.1)\">\n       <use xlink:href=\"#DejaVuSans-48\"/>\n      </g>\n     </g>\n    </g>\n    <g id=\"xtick_4\">\n     <g id=\"line2d_4\">\n      <g>\n       <use style=\"stroke:#000000;stroke-width:0.8;\" x=\"253.808411\" xlink:href=\"#md09a52ba79\" y=\"225.077261\"/>\n      </g>\n     </g>\n     <g id=\"text_4\">\n      <!-- 200 -->\n      <g transform=\"translate(244.264661 239.675699)scale(0.1 -0.1)\">\n       <use xlink:href=\"#DejaVuSans-50\"/>\n       <use x=\"63.623047\" xlink:href=\"#DejaVuSans-48\"/>\n       <use x=\"127.246094\" xlink:href=\"#DejaVuSans-48\"/>\n      </g>\n     </g>\n    </g>\n    <g id=\"xtick_5\">\n     <g id=\"line2d_5\">\n      <g>\n       <use style=\"stroke:#000000;stroke-width:0.8;\" x=\"314.340666\" xlink:href=\"#md09a52ba79\" y=\"225.077261\"/>\n      </g>\n     </g>\n     <g id=\"text_5\">\n      <!-- 400 -->\n      <g transform=\"translate(304.796916 239.675699)scale(0.1 -0.1)\">\n       <use xlink:href=\"#DejaVuSans-52\"/>\n       <use x=\"63.623047\" xlink:href=\"#DejaVuSans-48\"/>\n       <use x=\"127.246094\" xlink:href=\"#DejaVuSans-48\"/>\n      </g>\n     </g>\n    </g>\n    <g id=\"xtick_6\">\n     <g id=\"line2d_6\">\n      <g>\n       <use style=\"stroke:#000000;stroke-width:0.8;\" x=\"374.872921\" xlink:href=\"#md09a52ba79\" y=\"225.077261\"/>\n      </g>\n     </g>\n     <g id=\"text_6\">\n      <!-- 600 -->\n      <defs>\n       <path d=\"M 33.015625 40.375 \nQ 26.375 40.375 22.484375 35.828125 \nQ 18.609375 31.296875 18.609375 23.390625 \nQ 18.609375 15.53125 22.484375 10.953125 \nQ 26.375 6.390625 33.015625 6.390625 \nQ 39.65625 6.390625 43.53125 10.953125 \nQ 47.40625 15.53125 47.40625 23.390625 \nQ 47.40625 31.296875 43.53125 35.828125 \nQ 39.65625 40.375 33.015625 40.375 \nz\nM 52.59375 71.296875 \nL 52.59375 62.3125 \nQ 48.875 64.0625 45.09375 64.984375 \nQ 41.3125 65.921875 37.59375 65.921875 \nQ 27.828125 65.921875 22.671875 59.328125 \nQ 17.53125 52.734375 16.796875 39.40625 \nQ 19.671875 43.65625 24.015625 45.921875 \nQ 28.375 48.1875 33.59375 48.1875 \nQ 44.578125 48.1875 50.953125 41.515625 \nQ 57.328125 34.859375 57.328125 23.390625 \nQ 57.328125 12.15625 50.6875 5.359375 \nQ 44.046875 -1.421875 33.015625 -1.421875 \nQ 20.359375 -1.421875 13.671875 8.265625 \nQ 6.984375 17.96875 6.984375 36.375 \nQ 6.984375 53.65625 15.1875 63.9375 \nQ 23.390625 74.21875 37.203125 74.21875 \nQ 40.921875 74.21875 44.703125 73.484375 \nQ 48.484375 72.75 52.59375 71.296875 \nz\n\" id=\"DejaVuSans-54\"/>\n      </defs>\n      <g transform=\"translate(365.329171 239.675699)scale(0.1 -0.1)\">\n       <use xlink:href=\"#DejaVuSans-54\"/>\n       <use x=\"63.623047\" xlink:href=\"#DejaVuSans-48\"/>\n       <use x=\"127.246094\" xlink:href=\"#DejaVuSans-48\"/>\n      </g>\n     </g>\n    </g>\n   </g>\n   <g id=\"matplotlib.axis_2\">\n    <g id=\"ytick_1\">\n     <g id=\"line2d_7\">\n      <defs>\n       <path d=\"M 0 0 \nL -3.5 0 \n\" id=\"mb05a9675e8\" style=\"stroke:#000000;stroke-width:0.8;\"/>\n      </defs>\n      <g>\n       <use style=\"stroke:#000000;stroke-width:0.8;\" x=\"41.667188\" xlink:href=\"#mb05a9675e8\" y=\"190.629774\"/>\n      </g>\n     </g>\n     <g id=\"text_7\">\n      <!-- −100 -->\n      <defs>\n       <path d=\"M 12.40625 8.296875 \nL 28.515625 8.296875 \nL 28.515625 63.921875 \nL 10.984375 60.40625 \nL 10.984375 69.390625 \nL 28.421875 72.90625 \nL 38.28125 72.90625 \nL 38.28125 8.296875 \nL 54.390625 8.296875 \nL 54.390625 0 \nL 12.40625 0 \nz\n\" id=\"DejaVuSans-49\"/>\n      </defs>\n      <g transform=\"translate(7.2 194.428993)scale(0.1 -0.1)\">\n       <use xlink:href=\"#DejaVuSans-8722\"/>\n       <use x=\"83.789062\" xlink:href=\"#DejaVuSans-49\"/>\n       <use x=\"147.412109\" xlink:href=\"#DejaVuSans-48\"/>\n       <use x=\"211.035156\" xlink:href=\"#DejaVuSans-48\"/>\n      </g>\n     </g>\n    </g>\n    <g id=\"ytick_2\">\n     <g id=\"line2d_8\">\n      <g>\n       <use style=\"stroke:#000000;stroke-width:0.8;\" x=\"41.667188\" xlink:href=\"#mb05a9675e8\" y=\"145.722136\"/>\n      </g>\n     </g>\n     <g id=\"text_8\">\n      <!-- 0 -->\n      <g transform=\"translate(28.304688 149.521354)scale(0.1 -0.1)\">\n       <use xlink:href=\"#DejaVuSans-48\"/>\n      </g>\n     </g>\n    </g>\n    <g id=\"ytick_3\">\n     <g id=\"line2d_9\">\n      <g>\n       <use style=\"stroke:#000000;stroke-width:0.8;\" x=\"41.667188\" xlink:href=\"#mb05a9675e8\" y=\"100.814497\"/>\n      </g>\n     </g>\n     <g id=\"text_9\">\n      <!-- 100 -->\n      <g transform=\"translate(15.579688 104.613715)scale(0.1 -0.1)\">\n       <use xlink:href=\"#DejaVuSans-49\"/>\n       <use x=\"63.623047\" xlink:href=\"#DejaVuSans-48\"/>\n       <use x=\"127.246094\" xlink:href=\"#DejaVuSans-48\"/>\n      </g>\n     </g>\n    </g>\n    <g id=\"ytick_4\">\n     <g id=\"line2d_10\">\n      <g>\n       <use style=\"stroke:#000000;stroke-width:0.8;\" x=\"41.667188\" xlink:href=\"#mb05a9675e8\" y=\"55.906858\"/>\n      </g>\n     </g>\n     <g id=\"text_10\">\n      <!-- 200 -->\n      <g transform=\"translate(15.579688 59.706076)scale(0.1 -0.1)\">\n       <use xlink:href=\"#DejaVuSans-50\"/>\n       <use x=\"63.623047\" xlink:href=\"#DejaVuSans-48\"/>\n       <use x=\"127.246094\" xlink:href=\"#DejaVuSans-48\"/>\n      </g>\n     </g>\n    </g>\n    <g id=\"ytick_5\">\n     <g id=\"line2d_11\">\n      <g>\n       <use style=\"stroke:#000000;stroke-width:0.8;\" x=\"41.667188\" xlink:href=\"#mb05a9675e8\" y=\"10.999219\"/>\n      </g>\n     </g>\n     <g id=\"text_11\">\n      <!-- 300 -->\n      <defs>\n       <path d=\"M 40.578125 39.3125 \nQ 47.65625 37.796875 51.625 33 \nQ 55.609375 28.21875 55.609375 21.1875 \nQ 55.609375 10.40625 48.1875 4.484375 \nQ 40.765625 -1.421875 27.09375 -1.421875 \nQ 22.515625 -1.421875 17.65625 -0.515625 \nQ 12.796875 0.390625 7.625 2.203125 \nL 7.625 11.71875 \nQ 11.71875 9.328125 16.59375 8.109375 \nQ 21.484375 6.890625 26.8125 6.890625 \nQ 36.078125 6.890625 40.9375 10.546875 \nQ 45.796875 14.203125 45.796875 21.1875 \nQ 45.796875 27.640625 41.28125 31.265625 \nQ 36.765625 34.90625 28.71875 34.90625 \nL 20.21875 34.90625 \nL 20.21875 43.015625 \nL 29.109375 43.015625 \nQ 36.375 43.015625 40.234375 45.921875 \nQ 44.09375 48.828125 44.09375 54.296875 \nQ 44.09375 59.90625 40.109375 62.90625 \nQ 36.140625 65.921875 28.71875 65.921875 \nQ 24.65625 65.921875 20.015625 65.03125 \nQ 15.375 64.15625 9.8125 62.3125 \nL 9.8125 71.09375 \nQ 15.4375 72.65625 20.34375 73.4375 \nQ 25.25 74.21875 29.59375 74.21875 \nQ 40.828125 74.21875 47.359375 69.109375 \nQ 53.90625 64.015625 53.90625 55.328125 \nQ 53.90625 49.265625 50.4375 45.09375 \nQ 46.96875 40.921875 40.578125 39.3125 \nz\n\" id=\"DejaVuSans-51\"/>\n      </defs>\n      <g transform=\"translate(15.579688 14.798437)scale(0.1 -0.1)\">\n       <use xlink:href=\"#DejaVuSans-51\"/>\n       <use x=\"63.623047\" xlink:href=\"#DejaVuSans-48\"/>\n       <use x=\"127.246094\" xlink:href=\"#DejaVuSans-48\"/>\n      </g>\n     </g>\n    </g>\n   </g>\n   <g id=\"patch_3\">\n    <path d=\"M 41.667188 225.077261 \nL 41.667188 7.637261 \n\" style=\"fill:none;stroke:#000000;stroke-linecap:square;stroke-linejoin:miter;stroke-width:0.8;\"/>\n   </g>\n   <g id=\"patch_4\">\n    <path d=\"M 376.467188 225.077261 \nL 376.467188 7.637261 \n\" style=\"fill:none;stroke:#000000;stroke-linecap:square;stroke-linejoin:miter;stroke-width:0.8;\"/>\n   </g>\n   <g id=\"patch_5\">\n    <path d=\"M 41.667188 225.077261 \nL 376.467188 225.077261 \n\" style=\"fill:none;stroke:#000000;stroke-linecap:square;stroke-linejoin:miter;stroke-width:0.8;\"/>\n   </g>\n   <g id=\"patch_6\">\n    <path d=\"M 41.667188 7.637261 \nL 376.467188 7.637261 \n\" style=\"fill:none;stroke:#000000;stroke-linecap:square;stroke-linejoin:miter;stroke-width:0.8;\"/>\n   </g>\n  </g>\n </g>\n <defs>\n  <clipPath id=\"pb14369dace\">\n   <rect height=\"217.44\" width=\"334.8\" x=\"41.667188\" y=\"7.637261\"/>\n  </clipPath>\n </defs>\n</svg>\n",
      "image/png": "[encoded data removed]"
     },
     "metadata": {
      "needs_background": "light"
     }
    }
   ],
   "source": [
    "plt.scatter(df_pcd['pca-one'][:100],df_pcd['pca-two'][:100],color ='red')\n",
    "plt.scatter(df_pcd['pca-one'][100:],df_pcd['pca-two'][100:],color ='blue')"
   ]
  },
  {
   "cell_type": "markdown",
   "metadata": {},
   "source": [
    "# Co-authors\n"
   ]
  },
  {
   "cell_type": "code",
   "execution_count": 6,
   "metadata": {},
   "outputs": [],
   "source": [
    "import py_4.get_all_features as get_all_features"
   ]
  },
  {
   "cell_type": "code",
   "execution_count": 7,
   "metadata": {},
   "outputs": [],
   "source": [
    "df2=df[:10000]\n",
    "df2=df2.dropna(subset=['authors']).reset_index()\n"
   ]
  },
  {
   "cell_type": "code",
   "execution_count": 11,
   "metadata": {
    "tags": []
   },
   "outputs": [
    {
     "output_type": "stream",
     "name": "stdout",
     "text": "'/Users/roygranit/Desktop/ydata/industry_project/repo/academix-ydata-project/code/models/names_epochs_2_vectorSize_64_window_2.model' already exits. Using existing model to re-generate results.\n'/Users/roygranit/Desktop/ydata/industry_project/repo/academix-ydata-project/code/models/co_authors_epochs_2_vectorSize_64_window_2.model' already exits. Using existing model to re-generate results.\n"
    }
   ],
   "source": [
    "feat=get_all_features.VAE_Features(df2)"
   ]
  },
  {
   "cell_type": "code",
   "execution_count": 13,
   "metadata": {},
   "outputs": [
    {
     "output_type": "execute_result",
     "data": {
      "text/plain": "(10000, 65)"
     },
     "metadata": {},
     "execution_count": 13
    }
   ],
   "source": [
    "coa_vectors=feat.get_co_authors_features(df2)\n",
    "coa_vectors.shape"
   ]
  },
  {
   "cell_type": "code",
   "execution_count": 15,
   "metadata": {},
   "outputs": [],
   "source": [
    "X=coa_vectors"
   ]
  },
  {
   "cell_type": "code",
   "execution_count": 18,
   "metadata": {},
   "outputs": [
    {
     "output_type": "execute_result",
     "data": {
      "text/plain": "array([[ 0.        ,  0.04169237,  1.00154897, ..., 16.00008088,\n         9.00013984,  6.00019619],\n       [ 0.04169237,  0.        ,  1.00152789, ..., 16.00007199,\n         9.00014406,  6.00023976],\n       [ 1.00154897,  1.00152789,  0.        , ..., 15.0000854 ,\n         8.00014739,  5.00029375],\n       ...,\n       [16.00008088, 16.00007199, 15.0000854 , ...,  0.        ,\n         7.0002048 , 10.00015386],\n       [ 9.00013984,  9.00014406,  8.00014739, ...,  7.0002048 ,\n         0.        ,  3.00038228],\n       [ 6.00019619,  6.00023976,  5.00029375, ..., 10.00015386,\n         3.00038228,  0.        ]])"
     },
     "metadata": {},
     "execution_count": 18
    }
   ],
   "source": [
    "dist_matrix=euclidean_distances(X, X)\n",
    "dist_matrix"
   ]
  },
  {
   "cell_type": "code",
   "execution_count": 19,
   "metadata": {},
   "outputs": [
    {
     "output_type": "execute_result",
     "data": {
      "text/plain": "(1736, 5189)"
     },
     "metadata": {},
     "execution_count": 19
    }
   ],
   "source": [
    "ind = np.unravel_index(np.argmax(dist_matrix, axis=None), dist_matrix.shape)  # returns a tuple\n",
    "ind"
   ]
  },
  {
   "cell_type": "code",
   "execution_count": 32,
   "metadata": {},
   "outputs": [
    {
     "output_type": "execute_result",
     "data": {
      "text/plain": "array([[   0, 8409, 7541, ..., 5726, 8038, 9438],\n       [   1, 6462, 3972, ..., 6791, 8884, 5122],\n       [   2, 9378, 2114, ..., 2057, 2272, 6076],\n       ...,\n       [9997,  981, 3058, ..., 4815, 2632, 2438],\n       [9998, 6341, 2217, ..., 5361, 6345, 1743],\n       [9999, 9021,   51, ..., 6282, 1829, 7925]])"
     },
     "metadata": {},
     "execution_count": 32
    }
   ],
   "source": [
    "nbrs = NearestNeighbors(n_neighbors=50, algorithm='auto').fit(X)\n",
    "distances, indices = nbrs.kneighbors(X)\n",
    "indices"
   ]
  },
  {
   "cell_type": "code",
   "execution_count": 33,
   "metadata": {},
   "outputs": [],
   "source": [
    "group_A=df2.iloc[indices[1736]].pmid.to_list()\n",
    "group_B=df2.iloc[indices[5189]].pmid.to_list()"
   ]
  },
  {
   "cell_type": "code",
   "execution_count": 34,
   "metadata": {},
   "outputs": [
    {
     "output_type": "execute_result",
     "data": {
      "text/plain": "           A         B\n0   28714976  25743456\n1   25940428  19119179\n2   29059683  25753093\n3   28443625  28276649\n4   25849179  27798498\n5   25751625  25227934\n6   29446198  29355244\n7   27459855  19096787\n8   29915430  19448080\n9   24943594  19756298\n10  25217961  19406249\n11  26760213  19267337\n12  24272484  30084059\n13  27053251  25269671\n14  27269943  26077786\n15  28430825  25645971\n16  26976201  26758784\n17  30108311  28704657\n18  28609654  19903924\n19  28869590  28611825\n20  28373689  19628433\n21  27697780  29389517\n22  24493713  30390740\n23  27626380  25912659\n24  24553142  19800208\n25  25205108  19959097\n26  29502561  25123743\n27  24584071  24560508\n28  28394352  25034154\n29  25207766  25574501\n30  27762356  28118502\n31  29279374  29704208\n32  28391526  24939751\n33  26829751  19630762\n34  26950095  24766802\n35  27899602  30055194\n36  26829319  28059951\n37  26821629  28057789\n38  26965516  19221160\n39  27708008  29227298\n40  29474906  27502786\n41  26848776  28936115\n42  26239294  19608990\n43  24960519  30192635\n44  19561596  28300304\n45  28439101  25908810\n46  29100090  19220600\n47  29622464  28641097\n48  28535802  26424644\n49  29625052  27173930",
      "text/html": "<div>\n<style scoped>\n    .dataframe tbody tr th:only-of-type {\n        vertical-align: middle;\n    }\n\n    .dataframe tbody tr th {\n        vertical-align: top;\n    }\n\n    .dataframe thead th {\n        text-align: right;\n    }\n</style>\n<table border=\"1\" class=\"dataframe\">\n  <thead>\n    <tr style=\"text-align: right;\">\n      <th></th>\n      <th>A</th>\n      <th>B</th>\n    </tr>\n  </thead>\n  <tbody>\n    <tr>\n      <td>0</td>\n      <td>28714976</td>\n      <td>25743456</td>\n    </tr>\n    <tr>\n      <td>1</td>\n      <td>25940428</td>\n      <td>19119179</td>\n    </tr>\n    <tr>\n      <td>2</td>\n      <td>29059683</td>\n      <td>25753093</td>\n    </tr>\n    <tr>\n      <td>3</td>\n      <td>28443625</td>\n      <td>28276649</td>\n    </tr>\n    <tr>\n      <td>4</td>\n      <td>25849179</td>\n      <td>27798498</td>\n    </tr>\n    <tr>\n      <td>5</td>\n      <td>25751625</td>\n      <td>25227934</td>\n    </tr>\n    <tr>\n      <td>6</td>\n      <td>29446198</td>\n      <td>29355244</td>\n    </tr>\n    <tr>\n      <td>7</td>\n      <td>27459855</td>\n      <td>19096787</td>\n    </tr>\n    <tr>\n      <td>8</td>\n      <td>29915430</td>\n      <td>19448080</td>\n    </tr>\n    <tr>\n      <td>9</td>\n      <td>24943594</td>\n      <td>19756298</td>\n    </tr>\n    <tr>\n      <td>10</td>\n      <td>25217961</td>\n      <td>19406249</td>\n    </tr>\n    <tr>\n      <td>11</td>\n      <td>26760213</td>\n      <td>19267337</td>\n    </tr>\n    <tr>\n      <td>12</td>\n      <td>24272484</td>\n      <td>30084059</td>\n    </tr>\n    <tr>\n      <td>13</td>\n      <td>27053251</td>\n      <td>25269671</td>\n    </tr>\n    <tr>\n      <td>14</td>\n      <td>27269943</td>\n      <td>26077786</td>\n    </tr>\n    <tr>\n      <td>15</td>\n      <td>28430825</td>\n      <td>25645971</td>\n    </tr>\n    <tr>\n      <td>16</td>\n      <td>26976201</td>\n      <td>26758784</td>\n    </tr>\n    <tr>\n      <td>17</td>\n      <td>30108311</td>\n      <td>28704657</td>\n    </tr>\n    <tr>\n      <td>18</td>\n      <td>28609654</td>\n      <td>19903924</td>\n    </tr>\n    <tr>\n      <td>19</td>\n      <td>28869590</td>\n      <td>28611825</td>\n    </tr>\n    <tr>\n      <td>20</td>\n      <td>28373689</td>\n      <td>19628433</td>\n    </tr>\n    <tr>\n      <td>21</td>\n      <td>27697780</td>\n      <td>29389517</td>\n    </tr>\n    <tr>\n      <td>22</td>\n      <td>24493713</td>\n      <td>30390740</td>\n    </tr>\n    <tr>\n      <td>23</td>\n      <td>27626380</td>\n      <td>25912659</td>\n    </tr>\n    <tr>\n      <td>24</td>\n      <td>24553142</td>\n      <td>19800208</td>\n    </tr>\n    <tr>\n      <td>25</td>\n      <td>25205108</td>\n      <td>19959097</td>\n    </tr>\n    <tr>\n      <td>26</td>\n      <td>29502561</td>\n      <td>25123743</td>\n    </tr>\n    <tr>\n      <td>27</td>\n      <td>24584071</td>\n      <td>24560508</td>\n    </tr>\n    <tr>\n      <td>28</td>\n      <td>28394352</td>\n      <td>25034154</td>\n    </tr>\n    <tr>\n      <td>29</td>\n      <td>25207766</td>\n      <td>25574501</td>\n    </tr>\n    <tr>\n      <td>30</td>\n      <td>27762356</td>\n      <td>28118502</td>\n    </tr>\n    <tr>\n      <td>31</td>\n      <td>29279374</td>\n      <td>29704208</td>\n    </tr>\n    <tr>\n      <td>32</td>\n      <td>28391526</td>\n      <td>24939751</td>\n    </tr>\n    <tr>\n      <td>33</td>\n      <td>26829751</td>\n      <td>19630762</td>\n    </tr>\n    <tr>\n      <td>34</td>\n      <td>26950095</td>\n      <td>24766802</td>\n    </tr>\n    <tr>\n      <td>35</td>\n      <td>27899602</td>\n      <td>30055194</td>\n    </tr>\n    <tr>\n      <td>36</td>\n      <td>26829319</td>\n      <td>28059951</td>\n    </tr>\n    <tr>\n      <td>37</td>\n      <td>26821629</td>\n      <td>28057789</td>\n    </tr>\n    <tr>\n      <td>38</td>\n      <td>26965516</td>\n      <td>19221160</td>\n    </tr>\n    <tr>\n      <td>39</td>\n      <td>27708008</td>\n      <td>29227298</td>\n    </tr>\n    <tr>\n      <td>40</td>\n      <td>29474906</td>\n      <td>27502786</td>\n    </tr>\n    <tr>\n      <td>41</td>\n      <td>26848776</td>\n      <td>28936115</td>\n    </tr>\n    <tr>\n      <td>42</td>\n      <td>26239294</td>\n      <td>19608990</td>\n    </tr>\n    <tr>\n      <td>43</td>\n      <td>24960519</td>\n      <td>30192635</td>\n    </tr>\n    <tr>\n      <td>44</td>\n      <td>19561596</td>\n      <td>28300304</td>\n    </tr>\n    <tr>\n      <td>45</td>\n      <td>28439101</td>\n      <td>25908810</td>\n    </tr>\n    <tr>\n      <td>46</td>\n      <td>29100090</td>\n      <td>19220600</td>\n    </tr>\n    <tr>\n      <td>47</td>\n      <td>29622464</td>\n      <td>28641097</td>\n    </tr>\n    <tr>\n      <td>48</td>\n      <td>28535802</td>\n      <td>26424644</td>\n    </tr>\n    <tr>\n      <td>49</td>\n      <td>29625052</td>\n      <td>27173930</td>\n    </tr>\n  </tbody>\n</table>\n</div>"
     },
     "metadata": {},
     "execution_count": 34
    }
   ],
   "source": [
    "list_df=pd.DataFrame({'A': group_B, 'B' :group_A})\n",
    "list_df\n"
   ]
  },
  {
   "cell_type": "code",
   "execution_count": 35,
   "metadata": {},
   "outputs": [],
   "source": [
    "A=X[indices[1736]]\n",
    "B=X[indices[5189]]"
   ]
  },
  {
   "cell_type": "code",
   "execution_count": 36,
   "metadata": {},
   "outputs": [
    {
     "output_type": "execute_result",
     "data": {
      "text/plain": "(100, 65)"
     },
     "metadata": {},
     "execution_count": 36
    }
   ],
   "source": [
    "C=np.concatenate((A,B),axis=0)\n",
    "C.shape"
   ]
  },
  {
   "cell_type": "code",
   "execution_count": 37,
   "metadata": {
    "tags": []
   },
   "outputs": [
    {
     "output_type": "stream",
     "name": "stdout",
     "text": "Explained variation per principal component: [9.99999847e-01 8.56949344e-09]\n"
    }
   ],
   "source": [
    "df_pcd=pd.DataFrame()\n",
    "pca = PCA(n_components=2)\n",
    "pca_result = pca.fit_transform(C)\n",
    "df_pcd['pca-one'] = pca_result[:,0]\n",
    "df_pcd['pca-two'] = pca_result[:,1] \n",
    "print('Explained variation per principal component: {}'.format(pca.explained_variance_ratio_))\n"
   ]
  },
  {
   "cell_type": "code",
   "execution_count": 39,
   "metadata": {},
   "outputs": [
    {
     "output_type": "execute_result",
     "data": {
      "text/plain": "<matplotlib.collections.PathCollection at 0x1d8282b00>"
     },
     "metadata": {},
     "execution_count": 39
    },
    {
     "output_type": "display_data",
     "data": {
      "text/plain": "<Figure size 432x288 with 1 Axes>",
      "image/svg+xml": "<?xml version=\"1.0\" encoding=\"utf-8\" standalone=\"no\"?>\n<!DOCTYPE svg PUBLIC \"-//W3C//DTD SVG 1.1//EN\"\n  \"http://www.w3.org/Graphics/SVG/1.1/DTD/svg11.dtd\">\n<!-- Created with matplotlib (https://matplotlib.org/) -->\n<svg height=\"248.518125pt\" version=\"1.1\" viewBox=\"0 0 394.30378 248.518125\" width=\"394.30378pt\" xmlns=\"http://www.w3.org/2000/svg\" xmlns:xlink=\"http://www.w3.org/1999/xlink\">\n <defs>\n  <style type=\"text/css\">\n*{stroke-linecap:butt;stroke-linejoin:round;}\n  </style>\n </defs>\n <g id=\"figure_1\">\n  <g id=\"patch_1\">\n   <path d=\"M 0 248.518125 \nL 394.30378 248.518125 \nL 394.30378 0 \nL 0 0 \nz\n\" style=\"fill:none;\"/>\n  </g>\n  <g id=\"axes_1\">\n   <g id=\"patch_2\">\n    <path d=\"M 51.207813 224.64 \nL 386.007812 224.64 \nL 386.007812 7.2 \nL 51.207813 7.2 \nz\n\" style=\"fill:#ffffff;\"/>\n   </g>\n   <g id=\"PathCollection_1\">\n    <defs>\n     <path d=\"M 0 3 \nC 0.795609 3 1.55874 2.683901 2.12132 2.12132 \nC 2.683901 1.55874 3 0.795609 3 0 \nC 3 -0.795609 2.683901 -1.55874 2.12132 -2.12132 \nC 1.55874 -2.683901 0.795609 -3 0 -3 \nC -0.795609 -3 -1.55874 -2.683901 -2.12132 -2.12132 \nC -2.683901 -1.55874 -3 -0.795609 -3 0 \nC -3 0.795609 -2.683901 1.55874 -2.12132 2.12132 \nC -1.55874 2.683901 -0.795609 3 0 3 \nz\n\" id=\"m8c91e4450c\" style=\"stroke:#ff0000;\"/>\n    </defs>\n    <g clip-path=\"url(#p5d89a83577)\">\n     <use style=\"fill:#ff0000;stroke:#ff0000;\" x=\"66.425994\" xlink:href=\"#m8c91e4450c\" y=\"89.087896\"/>\n     <use style=\"fill:#ff0000;stroke:#ff0000;\" x=\"66.425995\" xlink:href=\"#m8c91e4450c\" y=\"128.015764\"/>\n     <use style=\"fill:#ff0000;stroke:#ff0000;\" x=\"66.425995\" xlink:href=\"#m8c91e4450c\" y=\"60.879346\"/>\n     <use style=\"fill:#ff0000;stroke:#ff0000;\" x=\"66.425995\" xlink:href=\"#m8c91e4450c\" y=\"60.499283\"/>\n     <use style=\"fill:#ff0000;stroke:#ff0000;\" x=\"66.425995\" xlink:href=\"#m8c91e4450c\" y=\"84.085291\"/>\n     <use style=\"fill:#ff0000;stroke:#ff0000;\" x=\"66.425995\" xlink:href=\"#m8c91e4450c\" y=\"84.082749\"/>\n     <use style=\"fill:#ff0000;stroke:#ff0000;\" x=\"66.425995\" xlink:href=\"#m8c91e4450c\" y=\"111.658957\"/>\n     <use style=\"fill:#ff0000;stroke:#ff0000;\" x=\"66.425995\" xlink:href=\"#m8c91e4450c\" y=\"33.231385\"/>\n     <use style=\"fill:#ff0000;stroke:#ff0000;\" x=\"66.425995\" xlink:href=\"#m8c91e4450c\" y=\"33.19715\"/>\n     <use style=\"fill:#ff0000;stroke:#ff0000;\" x=\"66.425995\" xlink:href=\"#m8c91e4450c\" y=\"155.637792\"/>\n     <use style=\"fill:#ff0000;stroke:#ff0000;\" x=\"66.425995\" xlink:href=\"#m8c91e4450c\" y=\"169.28554\"/>\n     <use style=\"fill:#ff0000;stroke:#ff0000;\" x=\"66.425995\" xlink:href=\"#m8c91e4450c\" y=\"152.718129\"/>\n     <use style=\"fill:#ff0000;stroke:#ff0000;\" x=\"66.425995\" xlink:href=\"#m8c91e4450c\" y=\"197.269926\"/>\n     <use style=\"fill:#ff0000;stroke:#ff0000;\" x=\"66.425995\" xlink:href=\"#m8c91e4450c\" y=\"197.19647\"/>\n     <use style=\"fill:#ff0000;stroke:#ff0000;\" x=\"66.425995\" xlink:href=\"#m8c91e4450c\" y=\"197.366108\"/>\n     <use style=\"fill:#ff0000;stroke:#ff0000;\" x=\"66.425995\" xlink:href=\"#m8c91e4450c\" y=\"17.085316\"/>\n     <use style=\"fill:#ff0000;stroke:#ff0000;\" x=\"66.425995\" xlink:href=\"#m8c91e4450c\" y=\"17.083636\"/>\n     <use style=\"fill:#ff0000;stroke:#ff0000;\" x=\"66.425995\" xlink:href=\"#m8c91e4450c\" y=\"210.258187\"/>\n     <use style=\"fill:#ff0000;stroke:#ff0000;\" x=\"66.425995\" xlink:href=\"#m8c91e4450c\" y=\"89.719421\"/>\n     <use style=\"fill:#ff0000;stroke:#ff0000;\" x=\"66.425995\" xlink:href=\"#m8c91e4450c\" y=\"166.970775\"/>\n     <use style=\"fill:#ff0000;stroke:#ff0000;\" x=\"66.425995\" xlink:href=\"#m8c91e4450c\" y=\"69.065211\"/>\n     <use style=\"fill:#ff0000;stroke:#ff0000;\" x=\"66.425995\" xlink:href=\"#m8c91e4450c\" y=\"102.691041\"/>\n     <use style=\"fill:#ff0000;stroke:#ff0000;\" x=\"66.425995\" xlink:href=\"#m8c91e4450c\" y=\"164.597744\"/>\n     <use style=\"fill:#ff0000;stroke:#ff0000;\" x=\"66.425995\" xlink:href=\"#m8c91e4450c\" y=\"147.369454\"/>\n     <use style=\"fill:#ff0000;stroke:#ff0000;\" x=\"66.425995\" xlink:href=\"#m8c91e4450c\" y=\"170.143955\"/>\n     <use style=\"fill:#ff0000;stroke:#ff0000;\" x=\"66.425995\" xlink:href=\"#m8c91e4450c\" y=\"201.217515\"/>\n     <use style=\"fill:#ff0000;stroke:#ff0000;\" x=\"66.425995\" xlink:href=\"#m8c91e4450c\" y=\"175.406646\"/>\n     <use style=\"fill:#ff0000;stroke:#ff0000;\" x=\"66.425995\" xlink:href=\"#m8c91e4450c\" y=\"148.648017\"/>\n     <use style=\"fill:#ff0000;stroke:#ff0000;\" x=\"66.425995\" xlink:href=\"#m8c91e4450c\" y=\"166.911365\"/>\n     <use style=\"fill:#ff0000;stroke:#ff0000;\" x=\"66.425996\" xlink:href=\"#m8c91e4450c\" y=\"189.364515\"/>\n     <use style=\"fill:#ff0000;stroke:#ff0000;\" x=\"66.425995\" xlink:href=\"#m8c91e4450c\" y=\"167.462821\"/>\n     <use style=\"fill:#ff0000;stroke:#ff0000;\" x=\"66.425995\" xlink:href=\"#m8c91e4450c\" y=\"126.861908\"/>\n     <use style=\"fill:#ff0000;stroke:#ff0000;\" x=\"66.425995\" xlink:href=\"#m8c91e4450c\" y=\"158.440444\"/>\n     <use style=\"fill:#ff0000;stroke:#ff0000;\" x=\"66.425995\" xlink:href=\"#m8c91e4450c\" y=\"105.979779\"/>\n     <use style=\"fill:#ff0000;stroke:#ff0000;\" x=\"66.425995\" xlink:href=\"#m8c91e4450c\" y=\"163.356942\"/>\n     <use style=\"fill:#ff0000;stroke:#ff0000;\" x=\"66.425995\" xlink:href=\"#m8c91e4450c\" y=\"142.677476\"/>\n     <use style=\"fill:#ff0000;stroke:#ff0000;\" x=\"66.425995\" xlink:href=\"#m8c91e4450c\" y=\"185.399267\"/>\n     <use style=\"fill:#ff0000;stroke:#ff0000;\" x=\"66.425995\" xlink:href=\"#m8c91e4450c\" y=\"157.335611\"/>\n     <use style=\"fill:#ff0000;stroke:#ff0000;\" x=\"66.425995\" xlink:href=\"#m8c91e4450c\" y=\"93.820693\"/>\n     <use style=\"fill:#ff0000;stroke:#ff0000;\" x=\"66.425995\" xlink:href=\"#m8c91e4450c\" y=\"110.831719\"/>\n     <use style=\"fill:#ff0000;stroke:#ff0000;\" x=\"66.425995\" xlink:href=\"#m8c91e4450c\" y=\"74.052693\"/>\n     <use style=\"fill:#ff0000;stroke:#ff0000;\" x=\"66.425995\" xlink:href=\"#m8c91e4450c\" y=\"155.160912\"/>\n     <use style=\"fill:#ff0000;stroke:#ff0000;\" x=\"66.425995\" xlink:href=\"#m8c91e4450c\" y=\"159.669527\"/>\n     <use style=\"fill:#ff0000;stroke:#ff0000;\" x=\"66.425995\" xlink:href=\"#m8c91e4450c\" y=\"100.535714\"/>\n     <use style=\"fill:#ff0000;stroke:#ff0000;\" x=\"66.425995\" xlink:href=\"#m8c91e4450c\" y=\"106.181184\"/>\n     <use style=\"fill:#ff0000;stroke:#ff0000;\" x=\"66.425995\" xlink:href=\"#m8c91e4450c\" y=\"173.478864\"/>\n     <use style=\"fill:#ff0000;stroke:#ff0000;\" x=\"66.425995\" xlink:href=\"#m8c91e4450c\" y=\"144.666239\"/>\n     <use style=\"fill:#ff0000;stroke:#ff0000;\" x=\"66.425995\" xlink:href=\"#m8c91e4450c\" y=\"131.024996\"/>\n     <use style=\"fill:#ff0000;stroke:#ff0000;\" x=\"66.425995\" xlink:href=\"#m8c91e4450c\" y=\"149.600755\"/>\n     <use style=\"fill:#ff0000;stroke:#ff0000;\" x=\"66.425995\" xlink:href=\"#m8c91e4450c\" y=\"149.67023\"/>\n    </g>\n   </g>\n   <g id=\"PathCollection_2\">\n    <defs>\n     <path d=\"M 0 3 \nC 0.795609 3 1.55874 2.683901 2.12132 2.12132 \nC 2.683901 1.55874 3 0.795609 3 0 \nC 3 -0.795609 2.683901 -1.55874 2.12132 -2.12132 \nC 1.55874 -2.683901 0.795609 -3 0 -3 \nC -0.795609 -3 -1.55874 -2.683901 -2.12132 -2.12132 \nC -2.683901 -1.55874 -3 -0.795609 -3 0 \nC -3 0.795609 -2.683901 1.55874 -2.12132 2.12132 \nC -1.55874 2.683901 -0.795609 3 0 3 \nz\n\" id=\"md44692e853\" style=\"stroke:#0000ff;\"/>\n    </defs>\n    <g clip-path=\"url(#p5d89a83577)\">\n     <use style=\"fill:#0000ff;stroke:#0000ff;\" x=\"370.789631\" xlink:href=\"#md44692e853\" y=\"114.673983\"/>\n     <use style=\"fill:#0000ff;stroke:#0000ff;\" x=\"313.975086\" xlink:href=\"#md44692e853\" y=\"214.756364\"/>\n     <use style=\"fill:#0000ff;stroke:#0000ff;\" x=\"310.593267\" xlink:href=\"#md44692e853\" y=\"45.753274\"/>\n     <use style=\"fill:#0000ff;stroke:#0000ff;\" x=\"280.156904\" xlink:href=\"#md44692e853\" y=\"81.708044\"/>\n     <use style=\"fill:#0000ff;stroke:#0000ff;\" x=\"240.927813\" xlink:href=\"#md44692e853\" y=\"131.898821\"/>\n     <use style=\"fill:#0000ff;stroke:#0000ff;\" x=\"233.487813\" xlink:href=\"#md44692e853\" y=\"159.841233\"/>\n     <use style=\"fill:#0000ff;stroke:#0000ff;\" x=\"231.458722\" xlink:href=\"#md44692e853\" y=\"164.457156\"/>\n     <use style=\"fill:#0000ff;stroke:#0000ff;\" x=\"229.429632\" xlink:href=\"#md44692e853\" y=\"182.436978\"/>\n     <use style=\"fill:#0000ff;stroke:#0000ff;\" x=\"209.138722\" xlink:href=\"#md44692e853\" y=\"34.593232\"/>\n     <use style=\"fill:#0000ff;stroke:#0000ff;\" x=\"188.171449\" xlink:href=\"#md44692e853\" y=\"124.4841\"/>\n     <use style=\"fill:#0000ff;stroke:#0000ff;\" x=\"179.378722\" xlink:href=\"#md44692e853\" y=\"162.654056\"/>\n     <use style=\"fill:#0000ff;stroke:#0000ff;\" x=\"159.087813\" xlink:href=\"#md44692e853\" y=\"146.70113\"/>\n     <use style=\"fill:#0000ff;stroke:#0000ff;\" x=\"153.676904\" xlink:href=\"#md44692e853\" y=\"86.95145\"/>\n     <use style=\"fill:#0000ff;stroke:#0000ff;\" x=\"145.560541\" xlink:href=\"#md44692e853\" y=\"148.487221\"/>\n     <use style=\"fill:#0000ff;stroke:#0000ff;\" x=\"143.53145\" xlink:href=\"#md44692e853\" y=\"164.796594\"/>\n     <use style=\"fill:#0000ff;stroke:#0000ff;\" x=\"142.178722\" xlink:href=\"#md44692e853\" y=\"165.508979\"/>\n     <use style=\"fill:#0000ff;stroke:#0000ff;\" x=\"138.12054\" xlink:href=\"#md44692e853\" y=\"184.417785\"/>\n     <use style=\"fill:#0000ff;stroke:#0000ff;\" x=\"134.062359\" xlink:href=\"#md44692e853\" y=\"153.668735\"/>\n     <use style=\"fill:#0000ff;stroke:#0000ff;\" x=\"130.004177\" xlink:href=\"#md44692e853\" y=\"153.340163\"/>\n     <use style=\"fill:#0000ff;stroke:#0000ff;\" x=\"129.327814\" xlink:href=\"#md44692e853\" y=\"173.694696\"/>\n     <use style=\"fill:#0000ff;stroke:#0000ff;\" x=\"128.65145\" xlink:href=\"#md44692e853\" y=\"81.527181\"/>\n     <use style=\"fill:#0000ff;stroke:#0000ff;\" x=\"128.651449\" xlink:href=\"#md44692e853\" y=\"101.692277\"/>\n     <use style=\"fill:#0000ff;stroke:#0000ff;\" x=\"128.651449\" xlink:href=\"#md44692e853\" y=\"93.888008\"/>\n     <use style=\"fill:#0000ff;stroke:#0000ff;\" x=\"127.298723\" xlink:href=\"#md44692e853\" y=\"208.906583\"/>\n     <use style=\"fill:#0000ff;stroke:#0000ff;\" x=\"125.945995\" xlink:href=\"#md44692e853\" y=\"168.12714\"/>\n     <use style=\"fill:#0000ff;stroke:#0000ff;\" x=\"122.564177\" xlink:href=\"#md44692e853\" y=\"142.635967\"/>\n     <use style=\"fill:#0000ff;stroke:#0000ff;\" x=\"121.887813\" xlink:href=\"#md44692e853\" y=\"201.6364\"/>\n     <use style=\"fill:#0000ff;stroke:#0000ff;\" x=\"121.21145\" xlink:href=\"#md44692e853\" y=\"164.297712\"/>\n     <use style=\"fill:#0000ff;stroke:#0000ff;\" x=\"119.182359\" xlink:href=\"#md44692e853\" y=\"207.224669\"/>\n     <use style=\"fill:#0000ff;stroke:#0000ff;\" x=\"115.800541\" xlink:href=\"#md44692e853\" y=\"176.515459\"/>\n     <use style=\"fill:#0000ff;stroke:#0000ff;\" x=\"115.80054\" xlink:href=\"#md44692e853\" y=\"90.625245\"/>\n     <use style=\"fill:#0000ff;stroke:#0000ff;\" x=\"115.80054\" xlink:href=\"#md44692e853\" y=\"101.779676\"/>\n     <use style=\"fill:#0000ff;stroke:#0000ff;\" x=\"110.389632\" xlink:href=\"#md44692e853\" y=\"196.821482\"/>\n     <use style=\"fill:#0000ff;stroke:#0000ff;\" x=\"107.684177\" xlink:href=\"#md44692e853\" y=\"195.133029\"/>\n     <use style=\"fill:#0000ff;stroke:#0000ff;\" x=\"107.007813\" xlink:href=\"#md44692e853\" y=\"148.985992\"/>\n     <use style=\"fill:#0000ff;stroke:#0000ff;\" x=\"105.655086\" xlink:href=\"#md44692e853\" y=\"122.688326\"/>\n     <use style=\"fill:#0000ff;stroke:#0000ff;\" x=\"104.978722\" xlink:href=\"#md44692e853\" y=\"161.11366\"/>\n     <use style=\"fill:#0000ff;stroke:#0000ff;\" x=\"104.302359\" xlink:href=\"#md44692e853\" y=\"200.240198\"/>\n     <use style=\"fill:#0000ff;stroke:#0000ff;\" x=\"103.625995\" xlink:href=\"#md44692e853\" y=\"154.454384\"/>\n     <use style=\"fill:#0000ff;stroke:#0000ff;\" x=\"102.273268\" xlink:href=\"#md44692e853\" y=\"138.681031\"/>\n     <use style=\"fill:#0000ff;stroke:#0000ff;\" x=\"102.273268\" xlink:href=\"#md44692e853\" y=\"123.7806\"/>\n     <use style=\"fill:#0000ff;stroke:#0000ff;\" x=\"102.273268\" xlink:href=\"#md44692e853\" y=\"92.892055\"/>\n     <use style=\"fill:#0000ff;stroke:#0000ff;\" x=\"101.596904\" xlink:href=\"#md44692e853\" y=\"155.973624\"/>\n     <use style=\"fill:#0000ff;stroke:#0000ff;\" x=\"101.596904\" xlink:href=\"#md44692e853\" y=\"189.815637\"/>\n     <use style=\"fill:#0000ff;stroke:#0000ff;\" x=\"98.891449\" xlink:href=\"#md44692e853\" y=\"136.377961\"/>\n     <use style=\"fill:#0000ff;stroke:#0000ff;\" x=\"98.89145\" xlink:href=\"#md44692e853\" y=\"165.874466\"/>\n     <use style=\"fill:#0000ff;stroke:#0000ff;\" x=\"98.89145\" xlink:href=\"#md44692e853\" y=\"165.432694\"/>\n     <use style=\"fill:#0000ff;stroke:#0000ff;\" x=\"98.891449\" xlink:href=\"#md44692e853\" y=\"141.098316\"/>\n     <use style=\"fill:#0000ff;stroke:#0000ff;\" x=\"98.215086\" xlink:href=\"#md44692e853\" y=\"117.020783\"/>\n     <use style=\"fill:#0000ff;stroke:#0000ff;\" x=\"98.215086\" xlink:href=\"#md44692e853\" y=\"168.999924\"/>\n    </g>\n   </g>\n   <g id=\"matplotlib.axis_1\">\n    <g id=\"xtick_1\">\n     <g id=\"line2d_1\">\n      <defs>\n       <path d=\"M 0 0 \nL 0 3.5 \n\" id=\"m973e337bf9\" style=\"stroke:#000000;stroke-width:0.8;\"/>\n      </defs>\n      <g>\n       <use style=\"stroke:#000000;stroke-width:0.8;\" x=\"107.014577\" xlink:href=\"#m973e337bf9\" y=\"224.64\"/>\n      </g>\n     </g>\n     <g id=\"text_1\">\n      <!-- 0 -->\n      <defs>\n       <path d=\"M 31.78125 66.40625 \nQ 24.171875 66.40625 20.328125 58.90625 \nQ 16.5 51.421875 16.5 36.375 \nQ 16.5 21.390625 20.328125 13.890625 \nQ 24.171875 6.390625 31.78125 6.390625 \nQ 39.453125 6.390625 43.28125 13.890625 \nQ 47.125 21.390625 47.125 36.375 \nQ 47.125 51.421875 43.28125 58.90625 \nQ 39.453125 66.40625 31.78125 66.40625 \nz\nM 31.78125 74.21875 \nQ 44.046875 74.21875 50.515625 64.515625 \nQ 56.984375 54.828125 56.984375 36.375 \nQ 56.984375 17.96875 50.515625 8.265625 \nQ 44.046875 -1.421875 31.78125 -1.421875 \nQ 19.53125 -1.421875 13.0625 8.265625 \nQ 6.59375 17.96875 6.59375 36.375 \nQ 6.59375 54.828125 13.0625 64.515625 \nQ 19.53125 74.21875 31.78125 74.21875 \nz\n\" id=\"DejaVuSans-48\"/>\n      </defs>\n      <g transform=\"translate(103.833327 239.238437)scale(0.1 -0.1)\">\n       <use xlink:href=\"#DejaVuSans-48\"/>\n      </g>\n     </g>\n    </g>\n    <g id=\"xtick_2\">\n     <g id=\"line2d_2\">\n      <g>\n       <use style=\"stroke:#000000;stroke-width:0.8;\" x=\"174.65094\" xlink:href=\"#m973e337bf9\" y=\"224.64\"/>\n      </g>\n     </g>\n     <g id=\"text_2\">\n      <!-- 100 -->\n      <defs>\n       <path d=\"M 12.40625 8.296875 \nL 28.515625 8.296875 \nL 28.515625 63.921875 \nL 10.984375 60.40625 \nL 10.984375 69.390625 \nL 28.421875 72.90625 \nL 38.28125 72.90625 \nL 38.28125 8.296875 \nL 54.390625 8.296875 \nL 54.390625 0 \nL 12.40625 0 \nz\n\" id=\"DejaVuSans-49\"/>\n      </defs>\n      <g transform=\"translate(165.10719 239.238437)scale(0.1 -0.1)\">\n       <use xlink:href=\"#DejaVuSans-49\"/>\n       <use x=\"63.623047\" xlink:href=\"#DejaVuSans-48\"/>\n       <use x=\"127.246094\" xlink:href=\"#DejaVuSans-48\"/>\n      </g>\n     </g>\n    </g>\n    <g id=\"xtick_3\">\n     <g id=\"line2d_3\">\n      <g>\n       <use style=\"stroke:#000000;stroke-width:0.8;\" x=\"242.287304\" xlink:href=\"#m973e337bf9\" y=\"224.64\"/>\n      </g>\n     </g>\n     <g id=\"text_3\">\n      <!-- 200 -->\n      <defs>\n       <path d=\"M 19.1875 8.296875 \nL 53.609375 8.296875 \nL 53.609375 0 \nL 7.328125 0 \nL 7.328125 8.296875 \nQ 12.9375 14.109375 22.625 23.890625 \nQ 32.328125 33.6875 34.8125 36.53125 \nQ 39.546875 41.84375 41.421875 45.53125 \nQ 43.3125 49.21875 43.3125 52.78125 \nQ 43.3125 58.59375 39.234375 62.25 \nQ 35.15625 65.921875 28.609375 65.921875 \nQ 23.96875 65.921875 18.8125 64.3125 \nQ 13.671875 62.703125 7.8125 59.421875 \nL 7.8125 69.390625 \nQ 13.765625 71.78125 18.9375 73 \nQ 24.125 74.21875 28.421875 74.21875 \nQ 39.75 74.21875 46.484375 68.546875 \nQ 53.21875 62.890625 53.21875 53.421875 \nQ 53.21875 48.921875 51.53125 44.890625 \nQ 49.859375 40.875 45.40625 35.40625 \nQ 44.1875 33.984375 37.640625 27.21875 \nQ 31.109375 20.453125 19.1875 8.296875 \nz\n\" id=\"DejaVuSans-50\"/>\n      </defs>\n      <g transform=\"translate(232.743554 239.238437)scale(0.1 -0.1)\">\n       <use xlink:href=\"#DejaVuSans-50\"/>\n       <use x=\"63.623047\" xlink:href=\"#DejaVuSans-48\"/>\n       <use x=\"127.246094\" xlink:href=\"#DejaVuSans-48\"/>\n      </g>\n     </g>\n    </g>\n    <g id=\"xtick_4\">\n     <g id=\"line2d_4\">\n      <g>\n       <use style=\"stroke:#000000;stroke-width:0.8;\" x=\"309.923667\" xlink:href=\"#m973e337bf9\" y=\"224.64\"/>\n      </g>\n     </g>\n     <g id=\"text_4\">\n      <!-- 300 -->\n      <defs>\n       <path d=\"M 40.578125 39.3125 \nQ 47.65625 37.796875 51.625 33 \nQ 55.609375 28.21875 55.609375 21.1875 \nQ 55.609375 10.40625 48.1875 4.484375 \nQ 40.765625 -1.421875 27.09375 -1.421875 \nQ 22.515625 -1.421875 17.65625 -0.515625 \nQ 12.796875 0.390625 7.625 2.203125 \nL 7.625 11.71875 \nQ 11.71875 9.328125 16.59375 8.109375 \nQ 21.484375 6.890625 26.8125 6.890625 \nQ 36.078125 6.890625 40.9375 10.546875 \nQ 45.796875 14.203125 45.796875 21.1875 \nQ 45.796875 27.640625 41.28125 31.265625 \nQ 36.765625 34.90625 28.71875 34.90625 \nL 20.21875 34.90625 \nL 20.21875 43.015625 \nL 29.109375 43.015625 \nQ 36.375 43.015625 40.234375 45.921875 \nQ 44.09375 48.828125 44.09375 54.296875 \nQ 44.09375 59.90625 40.109375 62.90625 \nQ 36.140625 65.921875 28.71875 65.921875 \nQ 24.65625 65.921875 20.015625 65.03125 \nQ 15.375 64.15625 9.8125 62.3125 \nL 9.8125 71.09375 \nQ 15.4375 72.65625 20.34375 73.4375 \nQ 25.25 74.21875 29.59375 74.21875 \nQ 40.828125 74.21875 47.359375 69.109375 \nQ 53.90625 64.015625 53.90625 55.328125 \nQ 53.90625 49.265625 50.4375 45.09375 \nQ 46.96875 40.921875 40.578125 39.3125 \nz\n\" id=\"DejaVuSans-51\"/>\n      </defs>\n      <g transform=\"translate(300.379917 239.238437)scale(0.1 -0.1)\">\n       <use xlink:href=\"#DejaVuSans-51\"/>\n       <use x=\"63.623047\" xlink:href=\"#DejaVuSans-48\"/>\n       <use x=\"127.246094\" xlink:href=\"#DejaVuSans-48\"/>\n      </g>\n     </g>\n    </g>\n    <g id=\"xtick_5\">\n     <g id=\"line2d_5\">\n      <g>\n       <use style=\"stroke:#000000;stroke-width:0.8;\" x=\"377.56003\" xlink:href=\"#m973e337bf9\" y=\"224.64\"/>\n      </g>\n     </g>\n     <g id=\"text_5\">\n      <!-- 400 -->\n      <defs>\n       <path d=\"M 37.796875 64.3125 \nL 12.890625 25.390625 \nL 37.796875 25.390625 \nz\nM 35.203125 72.90625 \nL 47.609375 72.90625 \nL 47.609375 25.390625 \nL 58.015625 25.390625 \nL 58.015625 17.1875 \nL 47.609375 17.1875 \nL 47.609375 0 \nL 37.796875 0 \nL 37.796875 17.1875 \nL 4.890625 17.1875 \nL 4.890625 26.703125 \nz\n\" id=\"DejaVuSans-52\"/>\n      </defs>\n      <g transform=\"translate(368.01628 239.238437)scale(0.1 -0.1)\">\n       <use xlink:href=\"#DejaVuSans-52\"/>\n       <use x=\"63.623047\" xlink:href=\"#DejaVuSans-48\"/>\n       <use x=\"127.246094\" xlink:href=\"#DejaVuSans-48\"/>\n      </g>\n     </g>\n    </g>\n   </g>\n   <g id=\"matplotlib.axis_2\">\n    <g id=\"ytick_1\">\n     <g id=\"line2d_6\">\n      <defs>\n       <path d=\"M 0 0 \nL -3.5 0 \n\" id=\"m514be6149c\" style=\"stroke:#000000;stroke-width:0.8;\"/>\n      </defs>\n      <g>\n       <use style=\"stroke:#000000;stroke-width:0.8;\" x=\"51.207813\" xlink:href=\"#m514be6149c\" y=\"222.208904\"/>\n      </g>\n     </g>\n     <g id=\"text_6\">\n      <!-- −0.015 -->\n      <defs>\n       <path d=\"M 10.59375 35.5 \nL 73.1875 35.5 \nL 73.1875 27.203125 \nL 10.59375 27.203125 \nz\n\" id=\"DejaVuSans-8722\"/>\n       <path d=\"M 10.6875 12.40625 \nL 21 12.40625 \nL 21 0 \nL 10.6875 0 \nz\n\" id=\"DejaVuSans-46\"/>\n       <path d=\"M 10.796875 72.90625 \nL 49.515625 72.90625 \nL 49.515625 64.59375 \nL 19.828125 64.59375 \nL 19.828125 46.734375 \nQ 21.96875 47.46875 24.109375 47.828125 \nQ 26.265625 48.1875 28.421875 48.1875 \nQ 40.625 48.1875 47.75 41.5 \nQ 54.890625 34.8125 54.890625 23.390625 \nQ 54.890625 11.625 47.5625 5.09375 \nQ 40.234375 -1.421875 26.90625 -1.421875 \nQ 22.3125 -1.421875 17.546875 -0.640625 \nQ 12.796875 0.140625 7.71875 1.703125 \nL 7.71875 11.625 \nQ 12.109375 9.234375 16.796875 8.0625 \nQ 21.484375 6.890625 26.703125 6.890625 \nQ 35.15625 6.890625 40.078125 11.328125 \nQ 45.015625 15.765625 45.015625 23.390625 \nQ 45.015625 31 40.078125 35.4375 \nQ 35.15625 39.890625 26.703125 39.890625 \nQ 22.75 39.890625 18.8125 39.015625 \nQ 14.890625 38.140625 10.796875 36.28125 \nz\n\" id=\"DejaVuSans-53\"/>\n      </defs>\n      <g transform=\"translate(7.2 226.008122)scale(0.1 -0.1)\">\n       <use xlink:href=\"#DejaVuSans-8722\"/>\n       <use x=\"83.789062\" xlink:href=\"#DejaVuSans-48\"/>\n       <use x=\"147.412109\" xlink:href=\"#DejaVuSans-46\"/>\n       <use x=\"179.199219\" xlink:href=\"#DejaVuSans-48\"/>\n       <use x=\"242.822266\" xlink:href=\"#DejaVuSans-49\"/>\n       <use x=\"306.445312\" xlink:href=\"#DejaVuSans-53\"/>\n      </g>\n     </g>\n    </g>\n    <g id=\"ytick_2\">\n     <g id=\"line2d_7\">\n      <g>\n       <use style=\"stroke:#000000;stroke-width:0.8;\" x=\"51.207813\" xlink:href=\"#m514be6149c\" y=\"194.325992\"/>\n      </g>\n     </g>\n     <g id=\"text_7\">\n      <!-- −0.010 -->\n      <g transform=\"translate(7.2 198.125211)scale(0.1 -0.1)\">\n       <use xlink:href=\"#DejaVuSans-8722\"/>\n       <use x=\"83.789062\" xlink:href=\"#DejaVuSans-48\"/>\n       <use x=\"147.412109\" xlink:href=\"#DejaVuSans-46\"/>\n       <use x=\"179.199219\" xlink:href=\"#DejaVuSans-48\"/>\n       <use x=\"242.822266\" xlink:href=\"#DejaVuSans-49\"/>\n       <use x=\"306.445312\" xlink:href=\"#DejaVuSans-48\"/>\n      </g>\n     </g>\n    </g>\n    <g id=\"ytick_3\">\n     <g id=\"line2d_8\">\n      <g>\n       <use style=\"stroke:#000000;stroke-width:0.8;\" x=\"51.207813\" xlink:href=\"#m514be6149c\" y=\"166.44308\"/>\n      </g>\n     </g>\n     <g id=\"text_8\">\n      <!-- −0.005 -->\n      <g transform=\"translate(7.2 170.242299)scale(0.1 -0.1)\">\n       <use xlink:href=\"#DejaVuSans-8722\"/>\n       <use x=\"83.789062\" xlink:href=\"#DejaVuSans-48\"/>\n       <use x=\"147.412109\" xlink:href=\"#DejaVuSans-46\"/>\n       <use x=\"179.199219\" xlink:href=\"#DejaVuSans-48\"/>\n       <use x=\"242.822266\" xlink:href=\"#DejaVuSans-48\"/>\n       <use x=\"306.445312\" xlink:href=\"#DejaVuSans-53\"/>\n      </g>\n     </g>\n    </g>\n    <g id=\"ytick_4\">\n     <g id=\"line2d_9\">\n      <g>\n       <use style=\"stroke:#000000;stroke-width:0.8;\" x=\"51.207813\" xlink:href=\"#m514be6149c\" y=\"138.560168\"/>\n      </g>\n     </g>\n     <g id=\"text_9\">\n      <!-- 0.000 -->\n      <g transform=\"translate(15.579688 142.359387)scale(0.1 -0.1)\">\n       <use xlink:href=\"#DejaVuSans-48\"/>\n       <use x=\"63.623047\" xlink:href=\"#DejaVuSans-46\"/>\n       <use x=\"95.410156\" xlink:href=\"#DejaVuSans-48\"/>\n       <use x=\"159.033203\" xlink:href=\"#DejaVuSans-48\"/>\n       <use x=\"222.65625\" xlink:href=\"#DejaVuSans-48\"/>\n      </g>\n     </g>\n    </g>\n    <g id=\"ytick_5\">\n     <g id=\"line2d_10\">\n      <g>\n       <use style=\"stroke:#000000;stroke-width:0.8;\" x=\"51.207813\" xlink:href=\"#m514be6149c\" y=\"110.677256\"/>\n      </g>\n     </g>\n     <g id=\"text_10\">\n      <!-- 0.005 -->\n      <g transform=\"translate(15.579688 114.476475)scale(0.1 -0.1)\">\n       <use xlink:href=\"#DejaVuSans-48\"/>\n       <use x=\"63.623047\" xlink:href=\"#DejaVuSans-46\"/>\n       <use x=\"95.410156\" xlink:href=\"#DejaVuSans-48\"/>\n       <use x=\"159.033203\" xlink:href=\"#DejaVuSans-48\"/>\n       <use x=\"222.65625\" xlink:href=\"#DejaVuSans-53\"/>\n      </g>\n     </g>\n    </g>\n    <g id=\"ytick_6\">\n     <g id=\"line2d_11\">\n      <g>\n       <use style=\"stroke:#000000;stroke-width:0.8;\" x=\"51.207813\" xlink:href=\"#m514be6149c\" y=\"82.794345\"/>\n      </g>\n     </g>\n     <g id=\"text_11\">\n      <!-- 0.010 -->\n      <g transform=\"translate(15.579688 86.593563)scale(0.1 -0.1)\">\n       <use xlink:href=\"#DejaVuSans-48\"/>\n       <use x=\"63.623047\" xlink:href=\"#DejaVuSans-46\"/>\n       <use x=\"95.410156\" xlink:href=\"#DejaVuSans-48\"/>\n       <use x=\"159.033203\" xlink:href=\"#DejaVuSans-49\"/>\n       <use x=\"222.65625\" xlink:href=\"#DejaVuSans-48\"/>\n      </g>\n     </g>\n    </g>\n    <g id=\"ytick_7\">\n     <g id=\"line2d_12\">\n      <g>\n       <use style=\"stroke:#000000;stroke-width:0.8;\" x=\"51.207813\" xlink:href=\"#m514be6149c\" y=\"54.911433\"/>\n      </g>\n     </g>\n     <g id=\"text_12\">\n      <!-- 0.015 -->\n      <g transform=\"translate(15.579688 58.710652)scale(0.1 -0.1)\">\n       <use xlink:href=\"#DejaVuSans-48\"/>\n       <use x=\"63.623047\" xlink:href=\"#DejaVuSans-46\"/>\n       <use x=\"95.410156\" xlink:href=\"#DejaVuSans-48\"/>\n       <use x=\"159.033203\" xlink:href=\"#DejaVuSans-49\"/>\n       <use x=\"222.65625\" xlink:href=\"#DejaVuSans-53\"/>\n      </g>\n     </g>\n    </g>\n    <g id=\"ytick_8\">\n     <g id=\"line2d_13\">\n      <g>\n       <use style=\"stroke:#000000;stroke-width:0.8;\" x=\"51.207813\" xlink:href=\"#m514be6149c\" y=\"27.028521\"/>\n      </g>\n     </g>\n     <g id=\"text_13\">\n      <!-- 0.020 -->\n      <g transform=\"translate(15.579688 30.82774)scale(0.1 -0.1)\">\n       <use xlink:href=\"#DejaVuSans-48\"/>\n       <use x=\"63.623047\" xlink:href=\"#DejaVuSans-46\"/>\n       <use x=\"95.410156\" xlink:href=\"#DejaVuSans-48\"/>\n       <use x=\"159.033203\" xlink:href=\"#DejaVuSans-50\"/>\n       <use x=\"222.65625\" xlink:href=\"#DejaVuSans-48\"/>\n      </g>\n     </g>\n    </g>\n   </g>\n   <g id=\"patch_3\">\n    <path d=\"M 51.207813 224.64 \nL 51.207813 7.2 \n\" style=\"fill:none;stroke:#000000;stroke-linecap:square;stroke-linejoin:miter;stroke-width:0.8;\"/>\n   </g>\n   <g id=\"patch_4\">\n    <path d=\"M 386.007812 224.64 \nL 386.007812 7.2 \n\" style=\"fill:none;stroke:#000000;stroke-linecap:square;stroke-linejoin:miter;stroke-width:0.8;\"/>\n   </g>\n   <g id=\"patch_5\">\n    <path d=\"M 51.207812 224.64 \nL 386.007812 224.64 \n\" style=\"fill:none;stroke:#000000;stroke-linecap:square;stroke-linejoin:miter;stroke-width:0.8;\"/>\n   </g>\n   <g id=\"patch_6\">\n    <path d=\"M 51.207812 7.2 \nL 386.007812 7.2 \n\" style=\"fill:none;stroke:#000000;stroke-linecap:square;stroke-linejoin:miter;stroke-width:0.8;\"/>\n   </g>\n  </g>\n </g>\n <defs>\n  <clipPath id=\"p5d89a83577\">\n   <rect height=\"217.44\" width=\"334.8\" x=\"51.207813\" y=\"7.2\"/>\n  </clipPath>\n </defs>\n</svg>\n",
      "image/png": "[encoded data removed]"
     },
     "metadata": {
      "needs_background": "light"
     }
    }
   ],
   "source": [
    "plt.scatter(df_pcd['pca-one'][:50],df_pcd['pca-two'][:50],color ='red')\n",
    "plt.scatter(df_pcd['pca-one'][50:],df_pcd['pca-two'][50:],color ='blue')"
   ]
  },
  {
   "cell_type": "code",
   "execution_count": 41,
   "metadata": {},
   "outputs": [],
   "source": [
    "import time"
   ]
  },
  {
   "cell_type": "code",
   "execution_count": 42,
   "metadata": {
    "tags": []
   },
   "outputs": [
    {
     "output_type": "stream",
     "name": "stdout",
     "text": "[t-SNE] Computing 99 nearest neighbors...\n[t-SNE] Indexed 100 samples in 0.001s...\n[t-SNE] Computed neighbors for 100 samples in 0.024s...\n[t-SNE] Computed conditional probabilities for sample 100 / 100\n[t-SNE] Mean sigma: 0.032721\n[t-SNE] KL divergence after 250 iterations with early exaggeration: 47.346134\n[t-SNE] KL divergence after 300 iterations: 0.097730\nt-SNE done! Time elapsed: 0.6902279853820801 seconds\n"
    }
   ],
   "source": [
    "time_start = time.time()\n",
    "tsne = TSNE(n_components=2, verbose=1, perplexity=40, n_iter=300)\n",
    "tsne_results = tsne.fit_transform(C)\n",
    "print('t-SNE done! Time elapsed: {} seconds'.format(time.time()-time_start))"
   ]
  },
  {
   "cell_type": "code",
   "execution_count": 45,
   "metadata": {},
   "outputs": [
    {
     "output_type": "execute_result",
     "data": {
      "text/plain": "      y\n0   0.0\n1   0.0\n2   0.0\n3   0.0\n4   0.0\n..  ...\n95  1.0\n96  1.0\n97  1.0\n98  1.0\n99  1.0\n\n[100 rows x 1 columns]",
      "text/html": "<div>\n<style scoped>\n    .dataframe tbody tr th:only-of-type {\n        vertical-align: middle;\n    }\n\n    .dataframe tbody tr th {\n        vertical-align: top;\n    }\n\n    .dataframe thead th {\n        text-align: right;\n    }\n</style>\n<table border=\"1\" class=\"dataframe\">\n  <thead>\n    <tr style=\"text-align: right;\">\n      <th></th>\n      <th>y</th>\n    </tr>\n  </thead>\n  <tbody>\n    <tr>\n      <td>0</td>\n      <td>0.0</td>\n    </tr>\n    <tr>\n      <td>1</td>\n      <td>0.0</td>\n    </tr>\n    <tr>\n      <td>2</td>\n      <td>0.0</td>\n    </tr>\n    <tr>\n      <td>3</td>\n      <td>0.0</td>\n    </tr>\n    <tr>\n      <td>4</td>\n      <td>0.0</td>\n    </tr>\n    <tr>\n      <td>...</td>\n      <td>...</td>\n    </tr>\n    <tr>\n      <td>95</td>\n      <td>1.0</td>\n    </tr>\n    <tr>\n      <td>96</td>\n      <td>1.0</td>\n    </tr>\n    <tr>\n      <td>97</td>\n      <td>1.0</td>\n    </tr>\n    <tr>\n      <td>98</td>\n      <td>1.0</td>\n    </tr>\n    <tr>\n      <td>99</td>\n      <td>1.0</td>\n    </tr>\n  </tbody>\n</table>\n<p>100 rows × 1 columns</p>\n</div>"
     },
     "metadata": {},
     "execution_count": 45
    }
   ],
   "source": [
    "df_subset=pd.DataFrame()\n",
    "df_subset['y']=np.ones(100)\n",
    "df_subset['y'][:50]\n",
    "df_subset['y'][:50]=0\n",
    "df_subset"
   ]
  },
  {
   "cell_type": "code",
   "execution_count": 51,
   "metadata": {},
   "outputs": [
    {
     "output_type": "execute_result",
     "data": {
      "text/plain": "<matplotlib.collections.PathCollection at 0x1dc796b00>"
     },
     "metadata": {},
     "execution_count": 51
    },
    {
     "output_type": "display_data",
     "data": {
      "text/plain": "<Figure size 360x360 with 1 Axes>",
      "image/svg+xml": "<?xml version=\"1.0\" encoding=\"utf-8\" standalone=\"no\"?>\n<!DOCTYPE svg PUBLIC \"-//W3C//DTD SVG 1.1//EN\"\n  \"http://www.w3.org/Graphics/SVG/1.1/DTD/svg11.dtd\">\n<!-- Created with matplotlib (https://matplotlib.org/) -->\n<svg height=\"302.878125pt\" version=\"1.1\" viewBox=\"0 0 315.142187 302.878125\" width=\"315.142187pt\" xmlns=\"http://www.w3.org/2000/svg\" xmlns:xlink=\"http://www.w3.org/1999/xlink\">\n <defs>\n  <style type=\"text/css\">\n*{stroke-linecap:butt;stroke-linejoin:round;}\n  </style>\n </defs>\n <g id=\"figure_1\">\n  <g id=\"patch_1\">\n   <path d=\"M 0 302.878125 \nL 315.142187 302.878125 \nL 315.142187 0 \nL 0 0 \nz\n\" style=\"fill:none;\"/>\n  </g>\n  <g id=\"axes_1\">\n   <g id=\"patch_2\">\n    <path d=\"M 28.942187 279 \nL 307.942187 279 \nL 307.942187 7.2 \nL 28.942187 7.2 \nz\n\" style=\"fill:#ffffff;\"/>\n   </g>\n   <g id=\"PathCollection_1\">\n    <defs>\n     <path d=\"M 0 3 \nC 0.795609 3 1.55874 2.683901 2.12132 2.12132 \nC 2.683901 1.55874 3 0.795609 3 0 \nC 3 -0.795609 2.683901 -1.55874 2.12132 -2.12132 \nC 1.55874 -2.683901 0.795609 -3 0 -3 \nC -0.795609 -3 -1.55874 -2.683901 -2.12132 -2.12132 \nC -2.683901 -1.55874 -3 -0.795609 -3 0 \nC -3 0.795609 -2.683901 1.55874 -2.12132 2.12132 \nC -1.55874 2.683901 -0.795609 3 0 3 \nz\n\" id=\"mbf16940fc4\" style=\"stroke:#1f77b4;\"/>\n    </defs>\n    <g clip-path=\"url(#pee013afed4)\">\n     <use style=\"fill:#1f77b4;stroke:#1f77b4;\" x=\"81.950112\" xlink:href=\"#mbf16940fc4\" y=\"244.529149\"/>\n     <use style=\"fill:#1f77b4;stroke:#1f77b4;\" x=\"86.636239\" xlink:href=\"#mbf16940fc4\" y=\"247.113415\"/>\n     <use style=\"fill:#1f77b4;stroke:#1f77b4;\" x=\"81.200148\" xlink:href=\"#mbf16940fc4\" y=\"243.192419\"/>\n     <use style=\"fill:#1f77b4;stroke:#1f77b4;\" x=\"78.474085\" xlink:href=\"#mbf16940fc4\" y=\"244.566153\"/>\n     <use style=\"fill:#1f77b4;stroke:#1f77b4;\" x=\"74.330096\" xlink:href=\"#mbf16940fc4\" y=\"240.315885\"/>\n     <use style=\"fill:#1f77b4;stroke:#1f77b4;\" x=\"73.191964\" xlink:href=\"#mbf16940fc4\" y=\"242.772694\"/>\n     <use style=\"fill:#1f77b4;stroke:#1f77b4;\" x=\"63.679491\" xlink:href=\"#mbf16940fc4\" y=\"238.122164\"/>\n     <use style=\"fill:#1f77b4;stroke:#1f77b4;\" x=\"64.444812\" xlink:href=\"#mbf16940fc4\" y=\"228.396235\"/>\n     <use style=\"fill:#1f77b4;stroke:#1f77b4;\" x=\"66.175943\" xlink:href=\"#mbf16940fc4\" y=\"230.851864\"/>\n     <use style=\"fill:#1f77b4;stroke:#1f77b4;\" x=\"77.404007\" xlink:href=\"#mbf16940fc4\" y=\"253.548634\"/>\n     <use style=\"fill:#1f77b4;stroke:#1f77b4;\" x=\"41.624006\" xlink:href=\"#mbf16940fc4\" y=\"244.218147\"/>\n     <use style=\"fill:#1f77b4;stroke:#1f77b4;\" x=\"62.800614\" xlink:href=\"#mbf16940fc4\" y=\"256.641293\"/>\n     <use style=\"fill:#1f77b4;stroke:#1f77b4;\" x=\"65.145339\" xlink:href=\"#mbf16940fc4\" y=\"257.375445\"/>\n     <use style=\"fill:#1f77b4;stroke:#1f77b4;\" x=\"62.83481\" xlink:href=\"#mbf16940fc4\" y=\"256.218181\"/>\n     <use style=\"fill:#1f77b4;stroke:#1f77b4;\" x=\"66.232355\" xlink:href=\"#mbf16940fc4\" y=\"255.483039\"/>\n     <use style=\"fill:#1f77b4;stroke:#1f77b4;\" x=\"82.57969\" xlink:href=\"#mbf16940fc4\" y=\"233.53287\"/>\n     <use style=\"fill:#1f77b4;stroke:#1f77b4;\" x=\"81.949022\" xlink:href=\"#mbf16940fc4\" y=\"233.430237\"/>\n     <use style=\"fill:#1f77b4;stroke:#1f77b4;\" x=\"73.47165\" xlink:href=\"#mbf16940fc4\" y=\"260.140056\"/>\n     <use style=\"fill:#1f77b4;stroke:#1f77b4;\" x=\"96.601173\" xlink:href=\"#mbf16940fc4\" y=\"244.206973\"/>\n     <use style=\"fill:#1f77b4;stroke:#1f77b4;\" x=\"55.8646\" xlink:href=\"#mbf16940fc4\" y=\"258.588786\"/>\n     <use style=\"fill:#1f77b4;stroke:#1f77b4;\" x=\"93.376871\" xlink:href=\"#mbf16940fc4\" y=\"240.309082\"/>\n     <use style=\"fill:#1f77b4;stroke:#1f77b4;\" x=\"83.785906\" xlink:href=\"#mbf16940fc4\" y=\"249.639427\"/>\n     <use style=\"fill:#1f77b4;stroke:#1f77b4;\" x=\"43.854778\" xlink:href=\"#mbf16940fc4\" y=\"257.100516\"/>\n     <use style=\"fill:#1f77b4;stroke:#1f77b4;\" x=\"90.939314\" xlink:href=\"#mbf16940fc4\" y=\"253.426154\"/>\n     <use style=\"fill:#1f77b4;stroke:#1f77b4;\" x=\"47.884583\" xlink:href=\"#mbf16940fc4\" y=\"241.779518\"/>\n     <use style=\"fill:#1f77b4;stroke:#1f77b4;\" x=\"60.773678\" xlink:href=\"#mbf16940fc4\" y=\"252.389892\"/>\n     <use style=\"fill:#1f77b4;stroke:#1f77b4;\" x=\"48.514469\" xlink:href=\"#mbf16940fc4\" y=\"250.802105\"/>\n     <use style=\"fill:#1f77b4;stroke:#1f77b4;\" x=\"57.505789\" xlink:href=\"#mbf16940fc4\" y=\"237.758336\"/>\n     <use style=\"fill:#1f77b4;stroke:#1f77b4;\" x=\"45.259381\" xlink:href=\"#mbf16940fc4\" y=\"240.804491\"/>\n     <use style=\"fill:#1f77b4;stroke:#1f77b4;\" x=\"61.72033\" xlink:href=\"#mbf16940fc4\" y=\"245.368577\"/>\n     <use style=\"fill:#1f77b4;stroke:#1f77b4;\" x=\"56.340907\" xlink:href=\"#mbf16940fc4\" y=\"245.961491\"/>\n     <use style=\"fill:#1f77b4;stroke:#1f77b4;\" x=\"75.527332\" xlink:href=\"#mbf16940fc4\" y=\"246.214989\"/>\n     <use style=\"fill:#1f77b4;stroke:#1f77b4;\" x=\"80.239663\" xlink:href=\"#mbf16940fc4\" y=\"265.113715\"/>\n     <use style=\"fill:#1f77b4;stroke:#1f77b4;\" x=\"82.135534\" xlink:href=\"#mbf16940fc4\" y=\"234.693025\"/>\n     <use style=\"fill:#1f77b4;stroke:#1f77b4;\" x=\"79.503975\" xlink:href=\"#mbf16940fc4\" y=\"258.023588\"/>\n     <use style=\"fill:#1f77b4;stroke:#1f77b4;\" x=\"55.680702\" xlink:href=\"#mbf16940fc4\" y=\"238.417187\"/>\n     <use style=\"fill:#1f77b4;stroke:#1f77b4;\" x=\"50.251398\" xlink:href=\"#mbf16940fc4\" y=\"255.778437\"/>\n     <use style=\"fill:#1f77b4;stroke:#1f77b4;\" x=\"60.482137\" xlink:href=\"#mbf16940fc4\" y=\"253.886158\"/>\n     <use style=\"fill:#1f77b4;stroke:#1f77b4;\" x=\"93.735203\" xlink:href=\"#mbf16940fc4\" y=\"234.673734\"/>\n     <use style=\"fill:#1f77b4;stroke:#1f77b4;\" x=\"84.308323\" xlink:href=\"#mbf16940fc4\" y=\"250.313979\"/>\n     <use style=\"fill:#1f77b4;stroke:#1f77b4;\" x=\"74.039182\" xlink:href=\"#mbf16940fc4\" y=\"233.944478\"/>\n     <use style=\"fill:#1f77b4;stroke:#1f77b4;\" x=\"76.820375\" xlink:href=\"#mbf16940fc4\" y=\"260.785308\"/>\n     <use style=\"fill:#1f77b4;stroke:#1f77b4;\" x=\"59.303654\" xlink:href=\"#mbf16940fc4\" y=\"253.595063\"/>\n     <use style=\"fill:#1f77b4;stroke:#1f77b4;\" x=\"59.376069\" xlink:href=\"#mbf16940fc4\" y=\"233.052599\"/>\n     <use style=\"fill:#1f77b4;stroke:#1f77b4;\" x=\"88.749129\" xlink:href=\"#mbf16940fc4\" y=\"252.007659\"/>\n     <use style=\"fill:#1f77b4;stroke:#1f77b4;\" x=\"46.277243\" xlink:href=\"#mbf16940fc4\" y=\"241.331979\"/>\n     <use style=\"fill:#1f77b4;stroke:#1f77b4;\" x=\"68.335112\" xlink:href=\"#mbf16940fc4\" y=\"266.645455\"/>\n     <use style=\"fill:#1f77b4;stroke:#1f77b4;\" x=\"66.796367\" xlink:href=\"#mbf16940fc4\" y=\"240.010853\"/>\n     <use style=\"fill:#1f77b4;stroke:#1f77b4;\" x=\"79.196981\" xlink:href=\"#mbf16940fc4\" y=\"224.186922\"/>\n     <use style=\"fill:#1f77b4;stroke:#1f77b4;\" x=\"77.497055\" xlink:href=\"#mbf16940fc4\" y=\"225.555118\"/>\n     <use style=\"fill:#1f77b4;stroke:#1f77b4;\" x=\"288.990069\" xlink:href=\"#mbf16940fc4\" y=\"84.139341\"/>\n     <use style=\"fill:#1f77b4;stroke:#1f77b4;\" x=\"294.954532\" xlink:href=\"#mbf16940fc4\" y=\"87.379553\"/>\n     <use style=\"fill:#1f77b4;stroke:#1f77b4;\" x=\"289.063024\" xlink:href=\"#mbf16940fc4\" y=\"82.422241\"/>\n     <use style=\"fill:#1f77b4;stroke:#1f77b4;\" x=\"292.486604\" xlink:href=\"#mbf16940fc4\" y=\"89.914778\"/>\n     <use style=\"fill:#1f77b4;stroke:#1f77b4;\" x=\"288.149767\" xlink:href=\"#mbf16940fc4\" y=\"76.526682\"/>\n     <use style=\"fill:#1f77b4;stroke:#1f77b4;\" x=\"292.305157\" xlink:href=\"#mbf16940fc4\" y=\"76.42287\"/>\n     <use style=\"fill:#1f77b4;stroke:#1f77b4;\" x=\"283.857128\" xlink:href=\"#mbf16940fc4\" y=\"76.28842\"/>\n     <use style=\"fill:#1f77b4;stroke:#1f77b4;\" x=\"288.968133\" xlink:href=\"#mbf16940fc4\" y=\"77.111314\"/>\n     <use style=\"fill:#1f77b4;stroke:#1f77b4;\" x=\"295.260369\" xlink:href=\"#mbf16940fc4\" y=\"71.771491\"/>\n     <use style=\"fill:#1f77b4;stroke:#1f77b4;\" x=\"285.016319\" xlink:href=\"#mbf16940fc4\" y=\"70.475859\"/>\n     <use style=\"fill:#1f77b4;stroke:#1f77b4;\" x=\"287.907065\" xlink:href=\"#mbf16940fc4\" y=\"65.136284\"/>\n     <use style=\"fill:#1f77b4;stroke:#1f77b4;\" x=\"277.280479\" xlink:href=\"#mbf16940fc4\" y=\"60.702653\"/>\n     <use style=\"fill:#1f77b4;stroke:#1f77b4;\" x=\"276.287997\" xlink:href=\"#mbf16940fc4\" y=\"58.908195\"/>\n     <use style=\"fill:#1f77b4;stroke:#1f77b4;\" x=\"276.079163\" xlink:href=\"#mbf16940fc4\" y=\"55.305619\"/>\n     <use style=\"fill:#1f77b4;stroke:#1f77b4;\" x=\"273.13625\" xlink:href=\"#mbf16940fc4\" y=\"54.740677\"/>\n     <use style=\"fill:#1f77b4;stroke:#1f77b4;\" x=\"277.103701\" xlink:href=\"#mbf16940fc4\" y=\"51.822265\"/>\n     <use style=\"fill:#1f77b4;stroke:#1f77b4;\" x=\"276.879414\" xlink:href=\"#mbf16940fc4\" y=\"49.423209\"/>\n     <use style=\"fill:#1f77b4;stroke:#1f77b4;\" x=\"271.230154\" xlink:href=\"#mbf16940fc4\" y=\"49.997102\"/>\n     <use style=\"fill:#1f77b4;stroke:#1f77b4;\" x=\"272.134565\" xlink:href=\"#mbf16940fc4\" y=\"44.370577\"/>\n     <use style=\"fill:#1f77b4;stroke:#1f77b4;\" x=\"267.64381\" xlink:href=\"#mbf16940fc4\" y=\"46.501666\"/>\n     <use style=\"fill:#1f77b4;stroke:#1f77b4;\" x=\"274.986947\" xlink:href=\"#mbf16940fc4\" y=\"43.38681\"/>\n     <use style=\"fill:#1f77b4;stroke:#1f77b4;\" x=\"264.421057\" xlink:href=\"#mbf16940fc4\" y=\"47.735296\"/>\n     <use style=\"fill:#1f77b4;stroke:#1f77b4;\" x=\"272.47292\" xlink:href=\"#mbf16940fc4\" y=\"44.532292\"/>\n     <use style=\"fill:#1f77b4;stroke:#1f77b4;\" x=\"269.201327\" xlink:href=\"#mbf16940fc4\" y=\"45.155535\"/>\n     <use style=\"fill:#1f77b4;stroke:#1f77b4;\" x=\"270.038571\" xlink:href=\"#mbf16940fc4\" y=\"40.354914\"/>\n     <use style=\"fill:#1f77b4;stroke:#1f77b4;\" x=\"268.819727\" xlink:href=\"#mbf16940fc4\" y=\"39.656063\"/>\n     <use style=\"fill:#1f77b4;stroke:#1f77b4;\" x=\"263.376407\" xlink:href=\"#mbf16940fc4\" y=\"41.352678\"/>\n     <use style=\"fill:#1f77b4;stroke:#1f77b4;\" x=\"264.109094\" xlink:href=\"#mbf16940fc4\" y=\"39.001049\"/>\n     <use style=\"fill:#1f77b4;stroke:#1f77b4;\" x=\"261.273236\" xlink:href=\"#mbf16940fc4\" y=\"39.045585\"/>\n     <use style=\"fill:#1f77b4;stroke:#1f77b4;\" x=\"258.028498\" xlink:href=\"#mbf16940fc4\" y=\"36.504585\"/>\n     <use style=\"fill:#1f77b4;stroke:#1f77b4;\" x=\"265.272355\" xlink:href=\"#mbf16940fc4\" y=\"32.435616\"/>\n     <use style=\"fill:#1f77b4;stroke:#1f77b4;\" x=\"264.31923\" xlink:href=\"#mbf16940fc4\" y=\"32.061515\"/>\n     <use style=\"fill:#1f77b4;stroke:#1f77b4;\" x=\"258.468863\" xlink:href=\"#mbf16940fc4\" y=\"31.207047\"/>\n     <use style=\"fill:#1f77b4;stroke:#1f77b4;\" x=\"254.387113\" xlink:href=\"#mbf16940fc4\" y=\"29.983508\"/>\n     <use style=\"fill:#1f77b4;stroke:#1f77b4;\" x=\"250.785133\" xlink:href=\"#mbf16940fc4\" y=\"29.903927\"/>\n     <use style=\"fill:#1f77b4;stroke:#1f77b4;\" x=\"250.911703\" xlink:href=\"#mbf16940fc4\" y=\"28.635035\"/>\n     <use style=\"fill:#1f77b4;stroke:#1f77b4;\" x=\"252.908639\" xlink:href=\"#mbf16940fc4\" y=\"25.50827\"/>\n     <use style=\"fill:#1f77b4;stroke:#1f77b4;\" x=\"254.927568\" xlink:href=\"#mbf16940fc4\" y=\"24.81116\"/>\n     <use style=\"fill:#1f77b4;stroke:#1f77b4;\" x=\"255.191444\" xlink:href=\"#mbf16940fc4\" y=\"23.993666\"/>\n     <use style=\"fill:#1f77b4;stroke:#1f77b4;\" x=\"247.744512\" xlink:href=\"#mbf16940fc4\" y=\"24.610804\"/>\n     <use style=\"fill:#1f77b4;stroke:#1f77b4;\" x=\"246.641439\" xlink:href=\"#mbf16940fc4\" y=\"27.367073\"/>\n     <use style=\"fill:#1f77b4;stroke:#1f77b4;\" x=\"252.138803\" xlink:href=\"#mbf16940fc4\" y=\"22.667028\"/>\n     <use style=\"fill:#1f77b4;stroke:#1f77b4;\" x=\"248.737361\" xlink:href=\"#mbf16940fc4\" y=\"21.956207\"/>\n     <use style=\"fill:#1f77b4;stroke:#1f77b4;\" x=\"245.351073\" xlink:href=\"#mbf16940fc4\" y=\"25.460452\"/>\n     <use style=\"fill:#1f77b4;stroke:#1f77b4;\" x=\"244.065641\" xlink:href=\"#mbf16940fc4\" y=\"23.231017\"/>\n     <use style=\"fill:#1f77b4;stroke:#1f77b4;\" x=\"247.618082\" xlink:href=\"#mbf16940fc4\" y=\"19.554545\"/>\n     <use style=\"fill:#1f77b4;stroke:#1f77b4;\" x=\"249.595836\" xlink:href=\"#mbf16940fc4\" y=\"21.603868\"/>\n     <use style=\"fill:#1f77b4;stroke:#1f77b4;\" x=\"250.61856\" xlink:href=\"#mbf16940fc4\" y=\"20.870775\"/>\n     <use style=\"fill:#1f77b4;stroke:#1f77b4;\" x=\"244.315587\" xlink:href=\"#mbf16940fc4\" y=\"21.017277\"/>\n     <use style=\"fill:#1f77b4;stroke:#1f77b4;\" x=\"247.578532\" xlink:href=\"#mbf16940fc4\" y=\"21.379603\"/>\n    </g>\n   </g>\n   <g id=\"matplotlib.axis_1\">\n    <g id=\"xtick_1\">\n     <g id=\"line2d_1\">\n      <defs>\n       <path d=\"M 0 0 \nL 0 3.5 \n\" id=\"m8955c5cabd\" style=\"stroke:#000000;stroke-width:0.8;\"/>\n      </defs>\n      <g>\n       <use style=\"stroke:#000000;stroke-width:0.8;\" x=\"45.861862\" xlink:href=\"#m8955c5cabd\" y=\"279\"/>\n      </g>\n     </g>\n     <g id=\"text_1\">\n      <!-- −6 -->\n      <defs>\n       <path d=\"M 10.59375 35.5 \nL 73.1875 35.5 \nL 73.1875 27.203125 \nL 10.59375 27.203125 \nz\n\" id=\"DejaVuSans-8722\"/>\n       <path d=\"M 33.015625 40.375 \nQ 26.375 40.375 22.484375 35.828125 \nQ 18.609375 31.296875 18.609375 23.390625 \nQ 18.609375 15.53125 22.484375 10.953125 \nQ 26.375 6.390625 33.015625 6.390625 \nQ 39.65625 6.390625 43.53125 10.953125 \nQ 47.40625 15.53125 47.40625 23.390625 \nQ 47.40625 31.296875 43.53125 35.828125 \nQ 39.65625 40.375 33.015625 40.375 \nz\nM 52.59375 71.296875 \nL 52.59375 62.3125 \nQ 48.875 64.0625 45.09375 64.984375 \nQ 41.3125 65.921875 37.59375 65.921875 \nQ 27.828125 65.921875 22.671875 59.328125 \nQ 17.53125 52.734375 16.796875 39.40625 \nQ 19.671875 43.65625 24.015625 45.921875 \nQ 28.375 48.1875 33.59375 48.1875 \nQ 44.578125 48.1875 50.953125 41.515625 \nQ 57.328125 34.859375 57.328125 23.390625 \nQ 57.328125 12.15625 50.6875 5.359375 \nQ 44.046875 -1.421875 33.015625 -1.421875 \nQ 20.359375 -1.421875 13.671875 8.265625 \nQ 6.984375 17.96875 6.984375 36.375 \nQ 6.984375 53.65625 15.1875 63.9375 \nQ 23.390625 74.21875 37.203125 74.21875 \nQ 40.921875 74.21875 44.703125 73.484375 \nQ 48.484375 72.75 52.59375 71.296875 \nz\n\" id=\"DejaVuSans-54\"/>\n      </defs>\n      <g transform=\"translate(38.490769 293.598437)scale(0.1 -0.1)\">\n       <use xlink:href=\"#DejaVuSans-8722\"/>\n       <use x=\"83.789062\" xlink:href=\"#DejaVuSans-54\"/>\n      </g>\n     </g>\n    </g>\n    <g id=\"xtick_2\">\n     <g id=\"line2d_2\">\n      <g>\n       <use style=\"stroke:#000000;stroke-width:0.8;\" x=\"86.321522\" xlink:href=\"#m8955c5cabd\" y=\"279\"/>\n      </g>\n     </g>\n     <g id=\"text_2\">\n      <!-- −4 -->\n      <defs>\n       <path d=\"M 37.796875 64.3125 \nL 12.890625 25.390625 \nL 37.796875 25.390625 \nz\nM 35.203125 72.90625 \nL 47.609375 72.90625 \nL 47.609375 25.390625 \nL 58.015625 25.390625 \nL 58.015625 17.1875 \nL 47.609375 17.1875 \nL 47.609375 0 \nL 37.796875 0 \nL 37.796875 17.1875 \nL 4.890625 17.1875 \nL 4.890625 26.703125 \nz\n\" id=\"DejaVuSans-52\"/>\n      </defs>\n      <g transform=\"translate(78.950429 293.598437)scale(0.1 -0.1)\">\n       <use xlink:href=\"#DejaVuSans-8722\"/>\n       <use x=\"83.789062\" xlink:href=\"#DejaVuSans-52\"/>\n      </g>\n     </g>\n    </g>\n    <g id=\"xtick_3\">\n     <g id=\"line2d_3\">\n      <g>\n       <use style=\"stroke:#000000;stroke-width:0.8;\" x=\"126.781183\" xlink:href=\"#m8955c5cabd\" y=\"279\"/>\n      </g>\n     </g>\n     <g id=\"text_3\">\n      <!-- −2 -->\n      <defs>\n       <path d=\"M 19.1875 8.296875 \nL 53.609375 8.296875 \nL 53.609375 0 \nL 7.328125 0 \nL 7.328125 8.296875 \nQ 12.9375 14.109375 22.625 23.890625 \nQ 32.328125 33.6875 34.8125 36.53125 \nQ 39.546875 41.84375 41.421875 45.53125 \nQ 43.3125 49.21875 43.3125 52.78125 \nQ 43.3125 58.59375 39.234375 62.25 \nQ 35.15625 65.921875 28.609375 65.921875 \nQ 23.96875 65.921875 18.8125 64.3125 \nQ 13.671875 62.703125 7.8125 59.421875 \nL 7.8125 69.390625 \nQ 13.765625 71.78125 18.9375 73 \nQ 24.125 74.21875 28.421875 74.21875 \nQ 39.75 74.21875 46.484375 68.546875 \nQ 53.21875 62.890625 53.21875 53.421875 \nQ 53.21875 48.921875 51.53125 44.890625 \nQ 49.859375 40.875 45.40625 35.40625 \nQ 44.1875 33.984375 37.640625 27.21875 \nQ 31.109375 20.453125 19.1875 8.296875 \nz\n\" id=\"DejaVuSans-50\"/>\n      </defs>\n      <g transform=\"translate(119.410089 293.598437)scale(0.1 -0.1)\">\n       <use xlink:href=\"#DejaVuSans-8722\"/>\n       <use x=\"83.789062\" xlink:href=\"#DejaVuSans-50\"/>\n      </g>\n     </g>\n    </g>\n    <g id=\"xtick_4\">\n     <g id=\"line2d_4\">\n      <g>\n       <use style=\"stroke:#000000;stroke-width:0.8;\" x=\"167.240843\" xlink:href=\"#m8955c5cabd\" y=\"279\"/>\n      </g>\n     </g>\n     <g id=\"text_4\">\n      <!-- 0 -->\n      <defs>\n       <path d=\"M 31.78125 66.40625 \nQ 24.171875 66.40625 20.328125 58.90625 \nQ 16.5 51.421875 16.5 36.375 \nQ 16.5 21.390625 20.328125 13.890625 \nQ 24.171875 6.390625 31.78125 6.390625 \nQ 39.453125 6.390625 43.28125 13.890625 \nQ 47.125 21.390625 47.125 36.375 \nQ 47.125 51.421875 43.28125 58.90625 \nQ 39.453125 66.40625 31.78125 66.40625 \nz\nM 31.78125 74.21875 \nQ 44.046875 74.21875 50.515625 64.515625 \nQ 56.984375 54.828125 56.984375 36.375 \nQ 56.984375 17.96875 50.515625 8.265625 \nQ 44.046875 -1.421875 31.78125 -1.421875 \nQ 19.53125 -1.421875 13.0625 8.265625 \nQ 6.59375 17.96875 6.59375 36.375 \nQ 6.59375 54.828125 13.0625 64.515625 \nQ 19.53125 74.21875 31.78125 74.21875 \nz\n\" id=\"DejaVuSans-48\"/>\n      </defs>\n      <g transform=\"translate(164.059593 293.598437)scale(0.1 -0.1)\">\n       <use xlink:href=\"#DejaVuSans-48\"/>\n      </g>\n     </g>\n    </g>\n    <g id=\"xtick_5\">\n     <g id=\"line2d_5\">\n      <g>\n       <use style=\"stroke:#000000;stroke-width:0.8;\" x=\"207.700503\" xlink:href=\"#m8955c5cabd\" y=\"279\"/>\n      </g>\n     </g>\n     <g id=\"text_5\">\n      <!-- 2 -->\n      <g transform=\"translate(204.519253 293.598437)scale(0.1 -0.1)\">\n       <use xlink:href=\"#DejaVuSans-50\"/>\n      </g>\n     </g>\n    </g>\n    <g id=\"xtick_6\">\n     <g id=\"line2d_6\">\n      <g>\n       <use style=\"stroke:#000000;stroke-width:0.8;\" x=\"248.160163\" xlink:href=\"#m8955c5cabd\" y=\"279\"/>\n      </g>\n     </g>\n     <g id=\"text_6\">\n      <!-- 4 -->\n      <g transform=\"translate(244.978913 293.598437)scale(0.1 -0.1)\">\n       <use xlink:href=\"#DejaVuSans-52\"/>\n      </g>\n     </g>\n    </g>\n    <g id=\"xtick_7\">\n     <g id=\"line2d_7\">\n      <g>\n       <use style=\"stroke:#000000;stroke-width:0.8;\" x=\"288.619823\" xlink:href=\"#m8955c5cabd\" y=\"279\"/>\n      </g>\n     </g>\n     <g id=\"text_7\">\n      <!-- 6 -->\n      <g transform=\"translate(285.438573 293.598437)scale(0.1 -0.1)\">\n       <use xlink:href=\"#DejaVuSans-54\"/>\n      </g>\n     </g>\n    </g>\n   </g>\n   <g id=\"matplotlib.axis_2\">\n    <g id=\"ytick_1\">\n     <g id=\"line2d_8\">\n      <defs>\n       <path d=\"M 0 0 \nL -3.5 0 \n\" id=\"m6e204b6794\" style=\"stroke:#000000;stroke-width:0.8;\"/>\n      </defs>\n      <g>\n       <use style=\"stroke:#000000;stroke-width:0.8;\" x=\"28.942187\" xlink:href=\"#m6e204b6794\" y=\"257.450152\"/>\n      </g>\n     </g>\n     <g id=\"text_8\">\n      <!-- −6 -->\n      <g transform=\"translate(7.2 261.249371)scale(0.1 -0.1)\">\n       <use xlink:href=\"#DejaVuSans-8722\"/>\n       <use x=\"83.789062\" xlink:href=\"#DejaVuSans-54\"/>\n      </g>\n     </g>\n    </g>\n    <g id=\"ytick_2\">\n     <g id=\"line2d_9\">\n      <g>\n       <use style=\"stroke:#000000;stroke-width:0.8;\" x=\"28.942187\" xlink:href=\"#m6e204b6794\" y=\"225.954948\"/>\n      </g>\n     </g>\n     <g id=\"text_9\">\n      <!-- −4 -->\n      <g transform=\"translate(7.2 229.754167)scale(0.1 -0.1)\">\n       <use xlink:href=\"#DejaVuSans-8722\"/>\n       <use x=\"83.789062\" xlink:href=\"#DejaVuSans-52\"/>\n      </g>\n     </g>\n    </g>\n    <g id=\"ytick_3\">\n     <g id=\"line2d_10\">\n      <g>\n       <use style=\"stroke:#000000;stroke-width:0.8;\" x=\"28.942187\" xlink:href=\"#m6e204b6794\" y=\"194.459744\"/>\n      </g>\n     </g>\n     <g id=\"text_10\">\n      <!-- −2 -->\n      <g transform=\"translate(7.2 198.258962)scale(0.1 -0.1)\">\n       <use xlink:href=\"#DejaVuSans-8722\"/>\n       <use x=\"83.789062\" xlink:href=\"#DejaVuSans-50\"/>\n      </g>\n     </g>\n    </g>\n    <g id=\"ytick_4\">\n     <g id=\"line2d_11\">\n      <g>\n       <use style=\"stroke:#000000;stroke-width:0.8;\" x=\"28.942187\" xlink:href=\"#m6e204b6794\" y=\"162.964539\"/>\n      </g>\n     </g>\n     <g id=\"text_11\">\n      <!-- 0 -->\n      <g transform=\"translate(15.579687 166.763758)scale(0.1 -0.1)\">\n       <use xlink:href=\"#DejaVuSans-48\"/>\n      </g>\n     </g>\n    </g>\n    <g id=\"ytick_5\">\n     <g id=\"line2d_12\">\n      <g>\n       <use style=\"stroke:#000000;stroke-width:0.8;\" x=\"28.942187\" xlink:href=\"#m6e204b6794\" y=\"131.469335\"/>\n      </g>\n     </g>\n     <g id=\"text_12\">\n      <!-- 2 -->\n      <g transform=\"translate(15.579687 135.268554)scale(0.1 -0.1)\">\n       <use xlink:href=\"#DejaVuSans-50\"/>\n      </g>\n     </g>\n    </g>\n    <g id=\"ytick_6\">\n     <g id=\"line2d_13\">\n      <g>\n       <use style=\"stroke:#000000;stroke-width:0.8;\" x=\"28.942187\" xlink:href=\"#m6e204b6794\" y=\"99.974131\"/>\n      </g>\n     </g>\n     <g id=\"text_13\">\n      <!-- 4 -->\n      <g transform=\"translate(15.579687 103.77335)scale(0.1 -0.1)\">\n       <use xlink:href=\"#DejaVuSans-52\"/>\n      </g>\n     </g>\n    </g>\n    <g id=\"ytick_7\">\n     <g id=\"line2d_14\">\n      <g>\n       <use style=\"stroke:#000000;stroke-width:0.8;\" x=\"28.942187\" xlink:href=\"#m6e204b6794\" y=\"68.478927\"/>\n      </g>\n     </g>\n     <g id=\"text_14\">\n      <!-- 6 -->\n      <g transform=\"translate(15.579687 72.278145)scale(0.1 -0.1)\">\n       <use xlink:href=\"#DejaVuSans-54\"/>\n      </g>\n     </g>\n    </g>\n    <g id=\"ytick_8\">\n     <g id=\"line2d_15\">\n      <g>\n       <use style=\"stroke:#000000;stroke-width:0.8;\" x=\"28.942187\" xlink:href=\"#m6e204b6794\" y=\"36.983722\"/>\n      </g>\n     </g>\n     <g id=\"text_15\">\n      <!-- 8 -->\n      <defs>\n       <path d=\"M 31.78125 34.625 \nQ 24.75 34.625 20.71875 30.859375 \nQ 16.703125 27.09375 16.703125 20.515625 \nQ 16.703125 13.921875 20.71875 10.15625 \nQ 24.75 6.390625 31.78125 6.390625 \nQ 38.8125 6.390625 42.859375 10.171875 \nQ 46.921875 13.96875 46.921875 20.515625 \nQ 46.921875 27.09375 42.890625 30.859375 \nQ 38.875 34.625 31.78125 34.625 \nz\nM 21.921875 38.8125 \nQ 15.578125 40.375 12.03125 44.71875 \nQ 8.5 49.078125 8.5 55.328125 \nQ 8.5 64.0625 14.71875 69.140625 \nQ 20.953125 74.21875 31.78125 74.21875 \nQ 42.671875 74.21875 48.875 69.140625 \nQ 55.078125 64.0625 55.078125 55.328125 \nQ 55.078125 49.078125 51.53125 44.71875 \nQ 48 40.375 41.703125 38.8125 \nQ 48.828125 37.15625 52.796875 32.3125 \nQ 56.78125 27.484375 56.78125 20.515625 \nQ 56.78125 9.90625 50.3125 4.234375 \nQ 43.84375 -1.421875 31.78125 -1.421875 \nQ 19.734375 -1.421875 13.25 4.234375 \nQ 6.78125 9.90625 6.78125 20.515625 \nQ 6.78125 27.484375 10.78125 32.3125 \nQ 14.796875 37.15625 21.921875 38.8125 \nz\nM 18.3125 54.390625 \nQ 18.3125 48.734375 21.84375 45.5625 \nQ 25.390625 42.390625 31.78125 42.390625 \nQ 38.140625 42.390625 41.71875 45.5625 \nQ 45.3125 48.734375 45.3125 54.390625 \nQ 45.3125 60.0625 41.71875 63.234375 \nQ 38.140625 66.40625 31.78125 66.40625 \nQ 25.390625 66.40625 21.84375 63.234375 \nQ 18.3125 60.0625 18.3125 54.390625 \nz\n\" id=\"DejaVuSans-56\"/>\n      </defs>\n      <g transform=\"translate(15.579687 40.782941)scale(0.1 -0.1)\">\n       <use xlink:href=\"#DejaVuSans-56\"/>\n      </g>\n     </g>\n    </g>\n   </g>\n   <g id=\"patch_3\">\n    <path d=\"M 28.942187 279 \nL 28.942187 7.2 \n\" style=\"fill:none;stroke:#000000;stroke-linecap:square;stroke-linejoin:miter;stroke-width:0.8;\"/>\n   </g>\n   <g id=\"patch_4\">\n    <path d=\"M 307.942187 279 \nL 307.942187 7.2 \n\" style=\"fill:none;stroke:#000000;stroke-linecap:square;stroke-linejoin:miter;stroke-width:0.8;\"/>\n   </g>\n   <g id=\"patch_5\">\n    <path d=\"M 28.942187 279 \nL 307.942187 279 \n\" style=\"fill:none;stroke:#000000;stroke-linecap:square;stroke-linejoin:miter;stroke-width:0.8;\"/>\n   </g>\n   <g id=\"patch_6\">\n    <path d=\"M 28.942187 7.2 \nL 307.942187 7.2 \n\" style=\"fill:none;stroke:#000000;stroke-linecap:square;stroke-linejoin:miter;stroke-width:0.8;\"/>\n   </g>\n  </g>\n </g>\n <defs>\n  <clipPath id=\"pee013afed4\">\n   <rect height=\"271.8\" width=\"279\" x=\"28.942187\" y=\"7.2\"/>\n  </clipPath>\n </defs>\n</svg>\n",
      "image/png": "[encoded data removed]"
     },
     "metadata": {
      "needs_background": "light"
     }
    }
   ],
   "source": [
    "df_subset['tsne-2d-one'] = tsne_results[:,0]\n",
    "df_subset['tsne-2d-two'] = tsne_results[:,1]\n",
    "plt.figure(figsize=(5,5))\n",
    "plt.scatter(df_subset['tsne-2d-one'],df_subset['tsne-2d-two'])"
   ]
  },
  {
   "cell_type": "code",
   "execution_count": null,
   "metadata": {},
   "outputs": [],
   "source": []
  },
  {
   "cell_type": "code",
   "execution_count": 6,
   "metadata": {
    "tags": []
   },
   "outputs": [
    {
     "output_type": "stream",
     "name": "stdout",
     "text": "Tiwari, P\nRosen, M\nMadabhushi, A\n"
    }
   ],
   "source": [
    "obj=df[:1].authors\n",
    "for i in obj[0]:\n",
    "    print(i['name'])"
   ]
  },
  {
   "cell_type": "code",
   "execution_count": 10,
   "metadata": {},
   "outputs": [
    {
     "output_type": "execute_result",
     "data": {
      "text/plain": "['Tiwari, P', 'Rosen, M', 'Madabhushi, A']"
     },
     "metadata": {},
     "execution_count": 10
    }
   ],
   "source": [
    "[i['name']for i in obj[0]]"
   ]
  },
  {
   "cell_type": "code",
   "execution_count": 7,
   "metadata": {},
   "outputs": [],
   "source": [
    "df['names']= df.authors.apply(lambda x: [i['name']for i in x])"
   ]
  },
  {
   "cell_type": "code",
   "execution_count": 8,
   "metadata": {},
   "outputs": [
    {
     "output_type": "execute_result",
     "data": {
      "text/plain": "0                      [Tiwari, P, Rosen, M, Madabhushi, A]\n1                     [Sridhar, A, Doyle, S, Madabhushi, A]\n2          [Tiwari, P, Danish, SF, Jiang, B, Madabhushi, A]\n3         [Xu, J, Xiang, L, Wang, G, Ganesan, S, Feldman...\n4            [Basavanhally, A, Viswanath, S, Madabhushi, A]\n                                ...                        \n196566    [Choudhary, V, Olala, LO, Kaddour-Djebbar, I, ...\n196567    [Qureshi, H, Genescà, M, Fritts, L, McChesney,...\n196568    [Grummon, AH, Heaney, CA, Dellinger, WA, Wilki...\n196569                  [Buck, KJ, Walter, NA, Denmark, DL]\n196570    [Braun, LR, Fisk, WA, Lev-Tov, H, Kirsner, RS,...\nName: names, Length: 196571, dtype: object"
     },
     "metadata": {},
     "execution_count": 8
    }
   ],
   "source": [
    "df['names']"
   ]
  },
  {
   "cell_type": "code",
   "execution_count": 10,
   "metadata": {},
   "outputs": [],
   "source": [
    "pd.DataFrame(df['names']).to_pickle('co_authors.pkl')"
   ]
  },
  {
   "cell_type": "markdown",
   "metadata": {},
   "source": [
    "### TOY DATASET RUN ###"
   ]
  },
  {
   "cell_type": "code",
   "execution_count": 182,
   "metadata": {},
   "outputs": [
    {
     "name": "stdout",
     "output_type": "stream",
     "text": [
      "187\n",
      "94\n"
     ]
    }
   ],
   "source": [
    "auth_core, auth_eps, auth_usecase = sim_matrix_3.split_authors(pd,df)\n",
    "\n",
    "#Take five authors from base case\n",
    "df_core = df[df['last_author_name'].isin(auth_core[:5])]"
   ]
  },
  {
   "cell_type": "code",
   "execution_count": 183,
   "metadata": {},
   "outputs": [],
   "source": [
    "selection = auth_core[:5]"
   ]
  },
  {
   "cell_type": "code",
   "execution_count": 193,
   "metadata": {},
   "outputs": [],
   "source": [
    "class ToyDS(Dataset):\n",
    "    def __init__(self,df,selection,vae_features = None):\n",
    "        super().__init__()\n",
    "        self.df = df[df['last_author_name'].isin(selection)]\n",
    "        if vae_features is None:\n",
    "            self.vae_features = get_all_features.VAE_Features(self.df)\n",
    "        else:\n",
    "            self.vae_features = vae_features\n",
    "        self.features = self.vae_features.get_all_features(self.df)\n",
    "        self.input_dim = self.vae_features.input_dims\n",
    "            \n",
    "    def __len__(self):\n",
    "        return self.df.shape[0]\n",
    "    \n",
    "    def __getitem__(self, idx):\n",
    "        features = self.features[idx]\n",
    "        return features\n",
    "    \n",
    "    def __getvae__(self):\n",
    "        return self.vae_features"
   ]
  },
  {
   "cell_type": "code",
   "execution_count": 194,
   "metadata": {
    "tags": [
     "outputPrepend"
    ]
   },
   "outputs": [
    {
     "name": "stdout",
     "output_type": "stream",
     "text": [
      "MESH NAME NOT FOUND: Male\n",
      "MESH NAME NOT FOUND: Female\n",
      "MESH NAME NOT FOUND: Male\n",
      "MESH NAME NOT FOUND: Female\n",
      "MESH NAME NOT FOUND: Male\n",
      "MESH NAME NOT FOUND: Male\n",
      "MESH NAME NOT FOUND: Female\n",
      "MESH NAME NOT FOUND: Male\n",
      "MESH NAME NOT FOUND: Male\n",
      "MESH NAME NOT FOUND: Female\n",
      "MESH NAME NOT FOUND: Male\n",
      "MESH NAME NOT FOUND: Male\n",
      "MESH NAME NOT FOUND: Male\n",
      "MESH NAME NOT FOUND: Male\n",
      "MESH NAME NOT FOUND: Male\n",
      "MESH NAME NOT FOUND: Female\n",
      "MESH NAME NOT FOUND: Male\n",
      "MESH NAME NOT FOUND: Female\n",
      "MESH NAME NOT FOUND: Male\n",
      "MESH NAME NOT FOUND: Female\n",
      "MESH NAME NOT FOUND: Male\n",
      "MESH NAME NOT FOUND: Male\n",
      "MESH NAME NOT FOUND: Female\n",
      "MESH NAME NOT FOUND: Male\n",
      "MESH NAME NOT FOUND: Female\n",
      "MESH NAME NOT FOUND: Male\n",
      "MESH NAME NOT FOUND: Female\n",
      "MESH NAME NOT FOUND: Male\n",
      "MESH NAME NOT FOUND: Female\n",
      "MESH NAME NOT FOUND: Male\n",
      "MESH NAME NOT FOUND: Female\n",
      "MESH NAME NOT FOUND: Male\n",
      "MESH NAME NOT FOUND: Female\n",
      "MESH NAME NOT FOUND: Male\n",
      "MESH NAME NOT FOUND: Female\n",
      "MESH NAME NOT FOUND: Male\n",
      "MESH NAME NOT FOUND: Female\n",
      "MESH NAME NOT FOUND: Male\n",
      "MESH NAME NOT FOUND: Female\n",
      "MESH NAME NOT FOUND: Male\n",
      "MESH NAME NOT FOUND: Female\n",
      "MESH NAME NOT FOUND: Male\n",
      "MESH NAME NOT FOUND: Female\n",
      "MESH NAME NOT FOUND: Male\n",
      "MESH NAME NOT FOUND: Female\n",
      "MESH NAME NOT FOUND: Male\n",
      "MESH NAME NOT FOUND: Female\n",
      "MESH NAME NOT FOUND: Female\n",
      "MESH NAME NOT FOUND: Female\n",
      "MESH NAME NOT FOUND: Male\n"
     ]
    }
   ],
   "source": [
    "train_set = ToyDS(df, selection)\n",
    "train_loader=DataLoader(dataset= train_set, batch_size = batch_size, shuffle = True, num_workers = num_workers)"
   ]
  },
  {
   "cell_type": "code",
   "execution_count": 195,
   "metadata": {},
   "outputs": [],
   "source": [
    "class VAE(nn.Module):\n",
    "    def __init__(self, input_dim = train_set.input_dim):\n",
    "        super(VAE, self).__init__()\n",
    "        self.input_dim = input_dim\n",
    "        self.fc1 = nn.Linear(self.input_dim, 32)\n",
    "        self.fc21 = nn.Linear(32, 8)\n",
    "        self.fc22 = nn.Linear(32, 8)\n",
    "        self.fc3 = nn.Linear(8, 32)\n",
    "        self.fc4 = nn.Linear(32, self.input_dim)\n",
    "\n",
    "    def encode(self, x):\n",
    "        h1 = F.relu(self.fc1(x))\n",
    "        return self.fc21(h1), self.fc22(h1)\n",
    "\n",
    "    def reparameterize(self, mu, logvar):\n",
    "        std = torch.exp(0.5*logvar)\n",
    "        eps = torch.randn_like(std)\n",
    "        return mu + eps*std\n",
    "\n",
    "    def decode(self, z):\n",
    "        h3 = F.relu(self.fc3(z))\n",
    "        return torch.sigmoid(self.fc4(h3))\n",
    "\n",
    "    def forward(self, x):\n",
    "        mu, logvar = self.encode(x.view(-1, self.input_dim))\n",
    "        z = self.reparameterize(mu, logvar)\n",
    "        return self.decode(z), mu, logvar, z"
   ]
  },
  {
   "cell_type": "code",
   "execution_count": 196,
   "metadata": {},
   "outputs": [],
   "source": [
    "def loss_function(recon_x, x, mu, logvar):\n",
    "    #BCE = F.binary_cross_entropy(recon_x, x.view(-1, 64), reduction='sum')\n",
    "\n",
    "    MSE = F.mse_loss(recon_x, x.view(-1, train_set.input_dim))\n",
    "\n",
    "    # see Appendix B from VAE paper:\n",
    "    # Kingma and Welling. Auto-Encoding Variational Bayes. ICLR, 2014\n",
    "    # https://arxiv.org/abs/1312.6114\n",
    "    # 0.5 * sum(1 + log(sigma^2) - mu^2 - sigma^2)\n",
    "    KLD = -0.5 * torch.sum(1 + logvar - mu.pow(2) - logvar.exp())\n",
    "\n",
    "    return MSE + KLD"
   ]
  },
  {
   "cell_type": "code",
   "execution_count": 197,
   "metadata": {},
   "outputs": [],
   "source": [
    "model = VAE().to(device)\n",
    "optimizer = optim.Adam(model.parameters(), lr=1e-3)"
   ]
  },
  {
   "cell_type": "code",
   "execution_count": 198,
   "metadata": {
    "tags": []
   },
   "outputs": [
    {
     "name": "stdout",
     "output_type": "stream",
     "text": [
      "----------------------------------------------------------------\n",
      "        Layer (type)               Output Shape         Param #\n",
      "================================================================\n",
      "            Linear-1                   [-1, 32]           2,112\n",
      "            Linear-2                    [-1, 8]             264\n",
      "            Linear-3                    [-1, 8]             264\n",
      "            Linear-4                   [-1, 32]             288\n",
      "            Linear-5                   [-1, 65]           2,145\n",
      "================================================================\n",
      "Total params: 5,073\n",
      "Trainable params: 5,073\n",
      "Non-trainable params: 0\n",
      "----------------------------------------------------------------\n",
      "Input size (MB): 0.00\n",
      "Forward/backward pass size (MB): 0.00\n",
      "Params size (MB): 0.02\n",
      "Estimated Total Size (MB): 0.03\n",
      "----------------------------------------------------------------\n"
     ]
    }
   ],
   "source": [
    "from torchsummary import summary\n",
    "summary(model, (20,train_set.input_dim))"
   ]
  },
  {
   "cell_type": "code",
   "execution_count": 190,
   "metadata": {},
   "outputs": [],
   "source": [
    "def train_epoch(tr_loader, model, criterion, optimizer, num_epochs):\n",
    "    model.train()\n",
    "    train_log = []\n",
    "    \n",
    "    for epoch in range(num_epochs):\n",
    "        bottle_neck=[]\n",
    "        print(\"Started training epoch no. {}\",format(epoch+1))\n",
    "        train_loss= 0\n",
    "        for batch_idx, data in enumerate(train_loader):\n",
    "            data = data.to(device, dtype=torch.float32)\n",
    "\n",
    "            optimizer.zero_grad()\n",
    "            recon_batch, mu, logvar, z = model(data)\n",
    "            bottle_neck.extend(z.detach().numpy())\n",
    "            loss = criterion(recon_batch, data, mu, logvar)\n",
    "            loss.backward()\n",
    "            train_loss += loss.item()\n",
    "            optimizer.step()\n",
    "            if batch_idx % log_interval == 0:\n",
    "                print('Train Epoch: {} [{}/{} ({:.0f}%)]\\tLoss: {:.6f}'.format(\n",
    "                    epoch, batch_idx * len(data), len(train_loader.dataset),\n",
    "                    100. * batch_idx / len(train_loader),\n",
    "                    loss.item() / len(data)))\n",
    "\n",
    "        print('====> Epoch: {} Average loss: {:.4f}'.format(\n",
    "            epoch, train_loss / len(train_loader.dataset)))\n",
    "        train_log.append({\n",
    "            'epoch': epoch,\n",
    "            'train_loss': train_loss / len(train_loader)})\n",
    "    return train_log, bottle_neck"
   ]
  },
  {
   "cell_type": "code",
   "execution_count": 191,
   "metadata": {},
   "outputs": [],
   "source": [
    "# def test(epoch):\n",
    "#     model.eval()\n",
    "#     test_loss = 0\n",
    "#     with torch.no_grad():\n",
    "#         for i, (data, _) in enumerate(test_loader):\n",
    "#             data = data.to(device)\n",
    "#             recon_batch, mu, logvar = model(data)\n",
    "#             test_loss += loss_function(recon_batch, data, mu, logvar).item()\n",
    "#             if i == 0:\n",
    "#                 n = min(data.size(0), 8)\n",
    "#                 comparison = torch.cat([data[:n],\n",
    "#                                       recon_batch.view(args.batch_size, 1, 28, 28)[:n]])\n",
    "#                 save_image(comparison.cpu(),\n",
    "#                          'results/reconstruction_' + str(epoch) + '.png', nrow=n)\n",
    "\n",
    "#     test_loss /= len(test_loader.dataset)\n",
    "#     print('====> Test set loss: {:.4f}'.format(test_loss))"
   ]
  },
  {
   "cell_type": "code",
   "execution_count": 192,
   "metadata": {
    "tags": []
   },
   "outputs": [
    {
     "name": "stdout",
     "output_type": "stream",
     "text": [
      "Started training epoch no. {} 1\n",
      "Train Epoch: 0 [0/88 (0%)]\tLoss: 0.628652\n",
      "Train Epoch: 0 [80/88 (91%)]\tLoss: nan\n",
      "====> Epoch: 0 Average loss: nan\n",
      "Started training epoch no. {} 2\n",
      "Train Epoch: 1 [0/88 (0%)]\tLoss: nan\n",
      "Train Epoch: 1 [80/88 (91%)]\tLoss: nan\n",
      "====> Epoch: 1 Average loss: nan\n",
      "Started training epoch no. {} 3\n",
      "Train Epoch: 2 [0/88 (0%)]\tLoss: nan\n",
      "Train Epoch: 2 [80/88 (91%)]\tLoss: nan\n",
      "====> Epoch: 2 Average loss: nan\n"
     ]
    }
   ],
   "source": [
    "train_log, bottle_neck= train_epoch(train_loader,model,loss_function,optimizer,num_epochs= 3)"
   ]
  },
  {
   "cell_type": "code",
   "execution_count": 165,
   "metadata": {},
   "outputs": [
    {
     "data": {
      "text/plain": [
       "72"
      ]
     },
     "execution_count": 165,
     "metadata": {},
     "output_type": "execute_result"
    }
   ],
   "source": [
    "len(bottle_neck)"
   ]
  },
  {
   "cell_type": "markdown",
   "metadata": {},
   "source": [
    "# Test"
   ]
  },
  {
   "cell_type": "code",
   "execution_count": 92,
   "metadata": {
    "tags": []
   },
   "outputs": [
    {
     "name": "stdout",
     "output_type": "stream",
     "text": [
      "MESH NAME NOT FOUND: Male\n",
      "MESH NAME NOT FOUND: Female\n",
      "MESH NAME NOT FOUND: Female\n",
      "MESH NAME NOT FOUND: Male\n",
      "MESH NAME NOT FOUND: Male\n",
      "MESH NAME NOT FOUND: Male\n",
      "MESH NAME NOT FOUND: Male\n",
      "MESH NAME NOT FOUND: Male\n",
      "MESH NAME NOT FOUND: Female\n",
      "MESH NAME NOT FOUND: Male\n",
      "MESH NAME NOT FOUND: Male\n",
      "MESH NAME NOT FOUND: Female\n",
      "MESH NAME NOT FOUND: Male\n",
      "MESH NAME NOT FOUND: Male\n",
      "MESH NAME NOT FOUND: Female\n",
      "MESH NAME NOT FOUND: Male\n",
      "MESH NAME NOT FOUND: Male\n",
      "MESH NAME NOT FOUND: Male\n",
      "MESH NAME NOT FOUND: Male\n",
      "MESH NAME NOT FOUND: Female\n",
      "MESH NAME NOT FOUND: Female\n",
      "MESH NAME NOT FOUND: Male\n",
      "MESH NAME NOT FOUND: Female\n",
      "MESH NAME NOT FOUND: Male\n",
      "MESH NAME NOT FOUND: Female\n",
      "MESH NAME NOT FOUND: Female\n",
      "MESH NAME NOT FOUND: Male\n",
      "MESH NAME NOT FOUND: Male\n",
      "MESH NAME NOT FOUND: Female\n",
      "MESH NAME NOT FOUND: Male\n",
      "MESH NAME NOT FOUND: Female\n",
      "MESH NAME NOT FOUND: Male\n",
      "MESH NAME NOT FOUND: Female\n",
      "MESH NAME NOT FOUND: Male\n",
      "MESH NAME NOT FOUND: Female\n",
      "MESH NAME NOT FOUND: Male\n",
      "MESH NAME NOT FOUND: Male\n",
      "MESH NAME NOT FOUND: Female\n",
      "MESH NAME NOT FOUND: Female\n",
      "MESH NAME NOT FOUND: Female\n",
      "MESH NAME NOT FOUND: Female\n",
      "MESH NAME NOT FOUND: Male\n",
      "MESH NAME NOT FOUND: Female\n",
      "MESH NAME NOT FOUND: Male\n",
      "MESH NAME NOT FOUND: Male\n",
      "MESH NAME NOT FOUND: Female\n",
      "MESH NAME NOT FOUND: Male\n",
      "MESH NAME NOT FOUND: Female\n",
      "MESH NAME NOT FOUND: Female\n",
      "MESH NAME NOT FOUND: Male\n",
      "MESH NAME NOT FOUND: Female\n",
      "MESH NAME NOT FOUND: Male\n",
      "MESH NAME NOT FOUND: Male\n"
     ]
    }
   ],
   "source": [
    "test_set = ToyDS(df[df.PI_IDS.isin(selection)])\n",
    "test_loader=DataLoader(dataset= test_set, batch_size = batch_size, shuffle = True, num_workers = num_workers)"
   ]
  },
  {
   "cell_type": "code",
   "execution_count": 93,
   "metadata": {},
   "outputs": [],
   "source": [
    "bottle_neck=[]\n",
    "for batch_idx, (data, _) in enumerate(test_loader):\n",
    "            data = data.to(device, dtype=torch.float32)\n",
    "            optimizer.zero_grad()\n",
    "            recon_batch, mu, logvar, z= model(data)\n",
    "            bottle_neck.extend(z.detach().numpy())"
   ]
  },
  {
   "cell_type": "code",
   "execution_count": 94,
   "metadata": {},
   "outputs": [
    {
     "data": {
      "text/plain": [
       "[array([-0.6486725 , -0.15034525, -1.0171756 , -0.16950682, -0.22891621,\n",
       "        -3.270538  , -0.28580105, -0.3674364 ], dtype=float32),\n",
       " array([ 0.8835745 , -0.03101728, -0.5089596 , -2.1510155 ,  1.1890123 ,\n",
       "        -1.3621026 , -0.34572008, -0.83343077], dtype=float32),\n",
       " array([-1.1953305 , -0.27174437, -1.4440532 , -0.3045028 ,  1.2823002 ,\n",
       "        -1.3462763 , -1.3165208 , -0.86988634], dtype=float32),\n",
       " array([ 1.7830164 , -0.96988785, -0.9716988 , -1.399534  ,  0.5548248 ,\n",
       "        -0.45105729, -0.01939731,  0.5986611 ], dtype=float32),\n",
       " array([-0.8280789 ,  0.26614776, -0.89590377,  0.8540143 , -0.9096126 ,\n",
       "        -1.7499075 ,  0.45291007, -0.12698995], dtype=float32),\n",
       " array([-0.02145121,  1.1948818 ,  1.2952127 , -1.0339434 , -0.517646  ,\n",
       "         1.4353939 , -0.656565  ,  0.2335705 ], dtype=float32),\n",
       " array([ 0.7585333 ,  0.45156795,  1.1655523 ,  0.32099745,  1.328476  ,\n",
       "        -0.7823271 ,  0.98038334, -0.4957803 ], dtype=float32),\n",
       " array([-0.7761407 , -3.0280778 ,  0.72309434, -0.19417611,  0.3791291 ,\n",
       "         1.2890899 ,  2.4653335 ,  0.04055876], dtype=float32),\n",
       " array([ 0.6998445 ,  0.97562706,  1.1893933 ,  1.9648765 ,  0.19952057,\n",
       "        -0.3612972 , -0.15871486,  0.6633933 ], dtype=float32),\n",
       " array([ 0.5606899 ,  0.7904413 , -0.10440468, -0.06453045,  0.38415498,\n",
       "        -0.7122205 ,  0.41414773,  1.7345899 ], dtype=float32),\n",
       " array([ 1.2340871 , -1.4236665 ,  1.286443  , -1.5995233 , -0.5637799 ,\n",
       "         0.6854879 ,  1.0332627 ,  0.42613605], dtype=float32),\n",
       " array([ 0.6540191 ,  0.23747142,  0.11114764,  0.08621954, -0.2997803 ,\n",
       "         0.50644493, -0.65336746, -2.7292504 ], dtype=float32),\n",
       " array([-1.5596157 , -0.15291348, -2.4889402 ,  0.10022035,  1.4558272 ,\n",
       "        -0.1945759 , -0.4573767 , -0.08043303], dtype=float32),\n",
       " array([ 0.46909344, -1.5359862 ,  0.00350479,  0.13968614, -0.07953034,\n",
       "         0.18707557,  2.0908875 ,  0.775381  ], dtype=float32),\n",
       " array([-0.6498985 , -1.170619  , -0.4359235 ,  0.02775856, -0.38479757,\n",
       "         0.3178474 ,  0.16590765,  0.5868453 ], dtype=float32),\n",
       " array([-0.58469075, -1.0498929 , -1.8836645 ,  0.6822999 ,  0.49558717,\n",
       "        -0.6195913 ,  3.1697514 , -1.507898  ], dtype=float32),\n",
       " array([-0.9000231 , -0.19870509, -0.44485062, -0.9790811 ,  0.21183838,\n",
       "        -0.405222  ,  0.58546805,  0.511407  ], dtype=float32),\n",
       " array([-0.674138  , -0.40089276,  0.5657261 ,  0.5913537 ,  0.5707485 ,\n",
       "         0.54623824, -0.22208749, -0.1517211 ], dtype=float32),\n",
       " array([ 0.4069065 ,  1.3620597 ,  0.81736636,  0.17478633, -0.31824735,\n",
       "         0.603875  , -1.6288855 ,  1.5550122 ], dtype=float32),\n",
       " array([ 0.88210994,  0.9242401 ,  0.6193964 , -1.8619175 ,  0.25051436,\n",
       "         0.24738358,  0.20461984, -0.619271  ], dtype=float32),\n",
       " array([ 0.28869084, -2.367622  ,  0.6519264 , -0.02720629, -0.86968136,\n",
       "         0.7306179 , -1.4170392 , -0.5491061 ], dtype=float32),\n",
       " array([ 0.53120494,  0.8357488 ,  0.47966388,  0.1941844 ,  0.8073883 ,\n",
       "        -0.03751884, -0.10557471,  1.493024  ], dtype=float32),\n",
       " array([ 1.8161138 , -0.7608512 , -0.3502371 , -0.14679208, -0.14734869,\n",
       "         0.5744191 ,  0.6935902 ,  1.1384056 ], dtype=float32),\n",
       " array([-0.28239632,  0.03120584,  0.71277016, -0.91122913,  1.6102767 ,\n",
       "        -0.3915936 , -0.44141844,  0.6681936 ], dtype=float32),\n",
       " array([-0.07997115,  1.4138056 ,  0.24333182, -0.26853275, -0.22156164,\n",
       "         0.5484156 ,  0.27581435, -0.08850266], dtype=float32),\n",
       " array([ 0.28619838,  0.35044932,  1.7184722 , -0.13269998, -0.76178443,\n",
       "        -0.54545486, -0.18089184,  0.3797174 ], dtype=float32),\n",
       " array([ 0.50971186,  0.93220174, -0.1524617 ,  2.22858   , -0.97486216,\n",
       "        -0.28653505, -0.7285168 , -0.40389603], dtype=float32),\n",
       " array([-0.4682163 ,  0.34381184, -2.1317868 , -0.59804046,  0.13748258,\n",
       "        -1.7780919 , -2.7587023 ,  1.3929063 ], dtype=float32),\n",
       " array([-0.2846409 ,  0.74472326, -1.0846099 , -0.57522064,  0.74226993,\n",
       "        -1.5367311 ,  0.7919663 , -1.9273455 ], dtype=float32),\n",
       " array([-1.0405818 ,  0.46575347, -0.18451887,  1.6469711 ,  1.6895552 ,\n",
       "         1.0221316 , -1.1504718 , -0.5298286 ], dtype=float32),\n",
       " array([ 0.13522483,  0.41539323,  0.13793781,  0.22031361,  0.06047732,\n",
       "        -0.26132306,  0.5057716 ,  0.06499901], dtype=float32),\n",
       " array([-0.21086039, -0.72345215, -2.0933306 , -2.1599348 , -0.24540383,\n",
       "        -1.294735  ,  0.4368853 ,  0.5957331 ], dtype=float32),\n",
       " array([ 0.51450765, -0.52347815, -0.2619813 , -1.112527  ,  1.0151296 ,\n",
       "         2.8334982 , -1.2533561 , -0.76513374], dtype=float32),\n",
       " array([-0.5937104 ,  0.39305517, -0.36321357,  1.9646429 ,  0.3498437 ,\n",
       "        -0.48117578,  0.42325613, -0.7294904 ], dtype=float32),\n",
       " array([ 0.00805346, -0.8841938 ,  0.49040923, -0.27478898, -0.08762057,\n",
       "         0.11026898,  1.530627  , -0.36991045], dtype=float32),\n",
       " array([-0.8404059 , -0.2240088 , -1.7924381 , -0.299992  , -0.12676756,\n",
       "         0.44302863, -0.09714545, -1.3041388 ], dtype=float32),\n",
       " array([ 0.13885805,  0.559341  , -0.4339342 , -0.25244364,  0.2621407 ,\n",
       "        -0.05603999,  1.9461602 ,  0.17381445], dtype=float32),\n",
       " array([-1.7289886 , -0.28208175,  1.2388068 ,  0.6420224 ,  1.1334363 ,\n",
       "        -0.7942272 , -0.6710803 ,  1.1670202 ], dtype=float32),\n",
       " array([-0.7531565 , -1.1856649 , -0.81674546,  0.15754834, -0.88148725,\n",
       "        -0.37222645,  0.574563  ,  0.6632477 ], dtype=float32),\n",
       " array([ 0.81799847,  0.3467838 , -0.8337276 , -0.5313895 , -0.95517534,\n",
       "         1.2914369 , -0.8929739 , -0.32749474], dtype=float32),\n",
       " array([ 0.30401525, -0.18060514,  0.10258871,  0.51213175, -1.6375864 ,\n",
       "         1.1911951 , -0.28592312,  0.21646582], dtype=float32),\n",
       " array([-1.8602407 ,  0.7052371 , -0.71377134,  2.016441  ,  0.07971823,\n",
       "         1.3069586 ,  0.16736867, -0.34426895], dtype=float32),\n",
       " array([ 2.0923774 ,  0.12343718, -0.02314921, -1.0268021 ,  0.03450219,\n",
       "        -0.5616768 ,  1.0286272 , -1.5176929 ], dtype=float32),\n",
       " array([-0.8741676 , -0.6897207 ,  2.1263745 , -1.7877668 , -1.3791648 ,\n",
       "         0.86458385, -0.3690501 ,  0.06655025], dtype=float32),\n",
       " array([-1.3022937 , -1.5578387 ,  0.7774018 ,  0.11754621,  1.9687312 ,\n",
       "        -1.8253754 , -1.470854  , -0.5090961 ], dtype=float32),\n",
       " array([ 0.26870313,  0.40405852, -3.2527547 , -0.17875962, -1.6194915 ,\n",
       "         2.2915387 ,  0.36196142,  0.18382898], dtype=float32),\n",
       " array([-2.5346875e+00,  2.0040152e+00,  2.4469490e-01,  3.0231284e-04,\n",
       "         1.9424440e-01, -9.1155660e-01,  1.6923876e+00,  3.4278773e-02],\n",
       "       dtype=float32),\n",
       " array([ 0.80631995,  0.5093148 , -0.6103493 ,  0.64897764,  0.5253123 ,\n",
       "         1.3999013 ,  0.89542   ,  0.11366653], dtype=float32),\n",
       " array([ 1.3923379 ,  1.6050482 ,  0.64277524, -0.8059338 ,  0.92922693,\n",
       "         0.6570523 ,  1.0592991 , -0.12466023], dtype=float32),\n",
       " array([-0.5304713 ,  0.29270336, -0.4092678 , -0.2505535 ,  1.524186  ,\n",
       "         0.69014126, -0.34088874, -0.32362926], dtype=float32),\n",
       " array([-0.71385634, -1.660393  , -1.3625987 , -0.05962963,  0.6475101 ,\n",
       "         0.21719307, -0.80367815,  1.1436139 ], dtype=float32),\n",
       " array([-0.20436463, -0.59094137,  0.94812644,  0.31871063,  0.11429687,\n",
       "         0.46910775, -0.31431678,  0.8264924 ], dtype=float32),\n",
       " array([-0.8598442 ,  0.53209203,  0.29915887,  0.8540648 ,  0.6374035 ,\n",
       "         1.0586376 , -0.60559916, -2.17249   ], dtype=float32),\n",
       " array([-1.3058858 , -0.04351591,  0.6323131 ,  0.56456345,  0.4143029 ,\n",
       "        -1.2105119 ,  0.67282736,  2.7477458 ], dtype=float32),\n",
       " array([ 0.5970199 ,  0.9304331 ,  0.43681502, -1.1516216 ,  0.1371578 ,\n",
       "        -0.19541849,  1.873988  ,  0.05565682], dtype=float32),\n",
       " array([ 0.52400494, -0.6935806 , -0.8487713 , -0.54183465,  1.0563138 ,\n",
       "        -0.11894539,  1.174272  ,  0.7317106 ], dtype=float32),\n",
       " array([-0.99401116,  1.8508494 ,  1.4621416 ,  0.4743285 , -0.9556748 ,\n",
       "         0.22933488,  1.3211489 ,  0.15069792], dtype=float32),\n",
       " array([-1.1208105 , -1.3095003 , -0.12539083,  1.0199652 ,  0.832843  ,\n",
       "         2.0579395 ,  0.9849338 , -1.470744  ], dtype=float32),\n",
       " array([ 0.21022372, -0.43951952,  0.15175541, -1.1045183 ,  0.37108666,\n",
       "        -1.7078152 , -0.87296236, -1.5913004 ], dtype=float32),\n",
       " array([-0.10462855,  1.9268585 , -0.43089288, -0.03909022, -0.13998978,\n",
       "        -0.14320308,  0.37762415, -2.395854  ], dtype=float32),\n",
       " array([ 1.0775928 , -0.8778477 ,  0.99450463,  0.12041422,  0.63604546,\n",
       "         0.14003357, -0.5306748 ,  0.42417806], dtype=float32),\n",
       " array([ 0.48270977, -1.7267714 , -0.4348792 ,  0.94887716, -0.02792383,\n",
       "         0.10237496,  0.9153149 ,  2.0011103 ], dtype=float32),\n",
       " array([ 0.60000074,  0.3063635 ,  0.22659   ,  0.54732716,  1.1725925 ,\n",
       "         0.24335521, -0.5495179 , -0.87743527], dtype=float32),\n",
       " array([-1.0785141 ,  0.3152295 , -0.25370973,  0.9762009 , -0.9766127 ,\n",
       "         0.7109547 , -1.1974828 , -1.0915302 ], dtype=float32),\n",
       " array([ 0.8509532 , -0.27523243,  1.7546476 , -1.882837  ,  1.9594485 ,\n",
       "         1.6167983 ,  1.2969825 ,  0.33963835], dtype=float32),\n",
       " array([-0.78733087,  0.33437192, -1.3066118 , -0.14323948,  0.3388869 ,\n",
       "        -0.8232757 , -1.7079178 , -1.0474244 ], dtype=float32),\n",
       " array([-1.5099473 ,  2.0135841 , -0.61932576,  0.8906911 , -0.72540194,\n",
       "        -0.7299904 ,  1.6757485 , -1.7429489 ], dtype=float32),\n",
       " array([ 0.0011226 , -0.24126592,  1.011272  ,  0.7536021 , -0.04702213,\n",
       "        -0.395636  , -0.22079197, -0.27249086], dtype=float32),\n",
       " array([-1.18837   , -0.7741944 , -1.4904808 ,  0.76782066,  0.27557248,\n",
       "         1.1753638 , -0.31168666,  0.31629717], dtype=float32),\n",
       " array([-1.1734085 , -1.3668358 , -0.77062124, -0.6030279 ,  1.7311944 ,\n",
       "         1.7960882 , -0.09836336, -0.2923596 ], dtype=float32),\n",
       " array([-1.5395409,  1.7948909, -0.8945301, -0.7267397,  1.4832572,\n",
       "        -1.7136744,  0.6157106, -1.9254285], dtype=float32),\n",
       " array([ 1.7178515 ,  0.2744453 ,  0.6285319 ,  0.38255283, -0.7604694 ,\n",
       "         0.17257261,  0.6302393 ,  2.4152024 ], dtype=float32)]"
      ]
     },
     "execution_count": 94,
     "metadata": {},
     "output_type": "execute_result"
    }
   ],
   "source": [
    "bottle_neck"
   ]
  },
  {
   "cell_type": "code",
   "execution_count": 95,
   "metadata": {},
   "outputs": [],
   "source": [
    "from sklearn.manifold import TSNE\n",
    "%matplotlib inline\n",
    "import matplotlib.pyplot as plt\n",
    "from mpl_toolkits.mplot3d import Axes3D\n",
    "import seaborn as sns\n",
    "import time\n"
   ]
  },
  {
   "cell_type": "code",
   "execution_count": 102,
   "metadata": {
    "tags": []
   },
   "outputs": [
    {
     "name": "stdout",
     "output_type": "stream",
     "text": [
      "[t-SNE] Computing 4 nearest neighbors...\n",
      "[t-SNE] Indexed 72 samples in 0.000s...\n",
      "[t-SNE] Computed neighbors for 72 samples in 0.001s...\n",
      "[t-SNE] Computed conditional probabilities for sample 72 / 72\n",
      "[t-SNE] Mean sigma: 0.229830\n",
      "[t-SNE] KL divergence after 250 iterations with early exaggeration: 72.891182\n",
      "[t-SNE] KL divergence after 300 iterations: 2.995824\n",
      "t-SNE done! Time elapsed: 0.09877514839172363 seconds\n"
     ]
    }
   ],
   "source": [
    "ds=np.array(bottle_neck)\n",
    "time_start = time.time()\n",
    "tsne = TSNE(n_components=2, verbose=1, perplexity=1, n_iter=300)\n",
    "tsne_results = tsne.fit_transform(ds)\n",
    "print('t-SNE done! Time elapsed: {} seconds'.format(time.time()-time_start))"
   ]
  },
  {
   "cell_type": "code",
   "execution_count": 42,
   "metadata": {},
   "outputs": [],
   "source": []
  },
  {
   "cell_type": "code",
   "execution_count": 103,
   "metadata": {},
   "outputs": [],
   "source": [
    "df_subset=pd.DataFrame()\n",
    "df_subset['tsne-2d-one'] = tsne_results[:,0]\n",
    "df_subset['tsne-2d-two'] = tsne_results[:,1]\n",
    "df_subset['PI'] = PI_lst"
   ]
  },
  {
   "cell_type": "code",
   "execution_count": 104,
   "metadata": {},
   "outputs": [
    {
     "data": {
      "text/plain": [
       "Text(0, 0.5, 'tsne-2d-one')"
      ]
     },
     "execution_count": 104,
     "metadata": {},
     "output_type": "execute_result"
    },
    {
     "data": {
      "image/png": "[encoded data removed]",
      "image/svg+xml": [
       "<?xml version=\"1.0\" encoding=\"utf-8\" standalone=\"no\"?>\n",
       "<!DOCTYPE svg PUBLIC \"-//W3C//DTD SVG 1.1//EN\"\n",
       "  \"http://www.w3.org/Graphics/SVG/1.1/DTD/svg11.dtd\">\n",
       "<!-- Created with matplotlib (https://matplotlib.org/) -->\n",
       "<svg height=\"588.35625pt\" version=\"1.1\" viewBox=\"0 0 620.545312 588.35625\" width=\"620.545312pt\" xmlns=\"http://www.w3.org/2000/svg\" xmlns:xlink=\"http://www.w3.org/1999/xlink\">\n",
       " <defs>\n",
       "  <style type=\"text/css\">\n",
       "*{stroke-linecap:butt;stroke-linejoin:round;}\n",
       "  </style>\n",
       " </defs>\n",
       " <g id=\"figure_1\">\n",
       "  <g id=\"patch_1\">\n",
       "   <path d=\"M 0 588.35625 \n",
       "L 620.545312 588.35625 \n",
       "L 620.545312 0 \n",
       "L 0 0 \n",
       "z\n",
       "\" style=\"fill:none;\"/>\n",
       "  </g>\n",
       "  <g id=\"axes_1\">\n",
       "   <g id=\"patch_2\">\n",
       "    <path d=\"M 55.345313 550.8 \n",
       "L 613.345312 550.8 \n",
       "L 613.345312 7.2 \n",
       "L 55.345313 7.2 \n",
       "z\n",
       "\" style=\"fill:#ffffff;\"/>\n",
       "   </g>\n",
       "   <g id=\"PathCollection_1\">\n",
       "    <defs>\n",
       "     <path d=\"M 0 3 \n",
       "C 0.795609 3 1.55874 2.683901 2.12132 2.12132 \n",
       "C 2.683901 1.55874 3 0.795609 3 0 \n",
       "C 3 -0.795609 2.683901 -1.55874 2.12132 -2.12132 \n",
       "C 1.55874 -2.683901 0.795609 -3 0 -3 \n",
       "C -0.795609 -3 -1.55874 -2.683901 -2.12132 -2.12132 \n",
       "C -2.683901 -1.55874 -3 -0.795609 -3 0 \n",
       "C -3 0.795609 -2.683901 1.55874 -2.12132 2.12132 \n",
       "C -1.55874 2.683901 -0.795609 3 0 3 \n",
       "z\n",
       "\" id=\"C0_0_2a4dc68a2b\"/>\n",
       "    </defs>\n",
       "    <g clip-path=\"url(#p5be065922b)\">\n",
       "     <use style=\"fill:#fde725;stroke:#fde725;\" x=\"312.271969\" xlink:href=\"#C0_0_2a4dc68a2b\" y=\"235.383625\"/>\n",
       "    </g>\n",
       "    <g clip-path=\"url(#p5be065922b)\">\n",
       "     <use style=\"fill:#fde725;stroke:#fde725;\" x=\"587.981676\" xlink:href=\"#C0_0_2a4dc68a2b\" y=\"84.293402\"/>\n",
       "    </g>\n",
       "    <g clip-path=\"url(#p5be065922b)\">\n",
       "     <use style=\"fill:#fde725;stroke:#fde725;\" x=\"349.790817\" xlink:href=\"#C0_0_2a4dc68a2b\" y=\"246.635669\"/>\n",
       "    </g>\n",
       "    <g clip-path=\"url(#p5be065922b)\">\n",
       "     <use style=\"fill:#fde725;stroke:#fde725;\" x=\"236.859469\" xlink:href=\"#C0_0_2a4dc68a2b\" y=\"351.707915\"/>\n",
       "    </g>\n",
       "    <g clip-path=\"url(#p5be065922b)\">\n",
       "     <use style=\"fill:#fde725;stroke:#fde725;\" x=\"366.112643\" xlink:href=\"#C0_0_2a4dc68a2b\" y=\"230.976762\"/>\n",
       "    </g>\n",
       "    <g clip-path=\"url(#p5be065922b)\">\n",
       "     <use style=\"fill:#fde725;stroke:#fde725;\" x=\"263.157818\" xlink:href=\"#C0_0_2a4dc68a2b\" y=\"292.096274\"/>\n",
       "    </g>\n",
       "    <g clip-path=\"url(#p5be065922b)\">\n",
       "     <use style=\"fill:#fde725;stroke:#fde725;\" x=\"255.76387\" xlink:href=\"#C0_0_2a4dc68a2b\" y=\"261.400489\"/>\n",
       "    </g>\n",
       "    <g clip-path=\"url(#p5be065922b)\">\n",
       "     <use style=\"fill:#fde725;stroke:#fde725;\" x=\"324.615714\" xlink:href=\"#C0_0_2a4dc68a2b\" y=\"149.248501\"/>\n",
       "    </g>\n",
       "    <g clip-path=\"url(#p5be065922b)\">\n",
       "     <use style=\"fill:#fde725;stroke:#fde725;\" x=\"199.386976\" xlink:href=\"#C0_0_2a4dc68a2b\" y=\"190.563762\"/>\n",
       "    </g>\n",
       "    <g clip-path=\"url(#p5be065922b)\">\n",
       "     <use style=\"fill:#fde725;stroke:#fde725;\" x=\"479.264066\" xlink:href=\"#C0_0_2a4dc68a2b\" y=\"396.321994\"/>\n",
       "    </g>\n",
       "    <g clip-path=\"url(#p5be065922b)\">\n",
       "     <use style=\"fill:#fde725;stroke:#fde725;\" x=\"336.467904\" xlink:href=\"#C0_0_2a4dc68a2b\" y=\"212.828047\"/>\n",
       "    </g>\n",
       "    <g clip-path=\"url(#p5be065922b)\">\n",
       "     <use style=\"fill:#fde725;stroke:#fde725;\" x=\"542.498404\" xlink:href=\"#C0_0_2a4dc68a2b\" y=\"91.486304\"/>\n",
       "    </g>\n",
       "    <g clip-path=\"url(#p5be065922b)\">\n",
       "     <use style=\"fill:#fde725;stroke:#fde725;\" x=\"356.604942\" xlink:href=\"#C0_0_2a4dc68a2b\" y=\"256.916916\"/>\n",
       "    </g>\n",
       "    <g clip-path=\"url(#p5be065922b)\">\n",
       "     <use style=\"fill:#fde725;stroke:#fde725;\" x=\"321.975535\" xlink:href=\"#C0_0_2a4dc68a2b\" y=\"138.562933\"/>\n",
       "    </g>\n",
       "    <g clip-path=\"url(#p5be065922b)\">\n",
       "     <use style=\"fill:#fde725;stroke:#fde725;\" x=\"443.544063\" xlink:href=\"#C0_0_2a4dc68a2b\" y=\"281.859338\"/>\n",
       "    </g>\n",
       "    <g clip-path=\"url(#p5be065922b)\">\n",
       "     <use style=\"fill:#fde725;stroke:#fde725;\" x=\"267.157656\" xlink:href=\"#C0_0_2a4dc68a2b\" y=\"31.909091\"/>\n",
       "    </g>\n",
       "    <g clip-path=\"url(#p5be065922b)\">\n",
       "     <use style=\"fill:#fde725;stroke:#fde725;\" x=\"394.267727\" xlink:href=\"#C0_0_2a4dc68a2b\" y=\"213.219747\"/>\n",
       "    </g>\n",
       "    <g clip-path=\"url(#p5be065922b)\">\n",
       "     <use style=\"fill:#fde725;stroke:#fde725;\" x=\"281.953832\" xlink:href=\"#C0_0_2a4dc68a2b\" y=\"343.885236\"/>\n",
       "    </g>\n",
       "    <g clip-path=\"url(#p5be065922b)\">\n",
       "     <use style=\"fill:#fde725;stroke:#fde725;\" x=\"341.132753\" xlink:href=\"#C0_0_2a4dc68a2b\" y=\"290.755462\"/>\n",
       "    </g>\n",
       "    <g clip-path=\"url(#p5be065922b)\">\n",
       "     <use style=\"fill:#fde725;stroke:#fde725;\" x=\"266.300891\" xlink:href=\"#C0_0_2a4dc68a2b\" y=\"165.199121\"/>\n",
       "    </g>\n",
       "    <g clip-path=\"url(#p5be065922b)\">\n",
       "     <use style=\"fill:#fde725;stroke:#fde725;\" x=\"182.980321\" xlink:href=\"#C0_0_2a4dc68a2b\" y=\"146.371076\"/>\n",
       "    </g>\n",
       "    <g clip-path=\"url(#p5be065922b)\">\n",
       "     <use style=\"fill:#440154;stroke:#440154;\" x=\"256.143943\" xlink:href=\"#C0_0_2a4dc68a2b\" y=\"81.823602\"/>\n",
       "    </g>\n",
       "    <g clip-path=\"url(#p5be065922b)\">\n",
       "     <use style=\"fill:#fde725;stroke:#fde725;\" x=\"237.972677\" xlink:href=\"#C0_0_2a4dc68a2b\" y=\"191.932712\"/>\n",
       "    </g>\n",
       "    <g clip-path=\"url(#p5be065922b)\">\n",
       "     <use style=\"fill:#fde725;stroke:#fde725;\" x=\"277.449361\" xlink:href=\"#C0_0_2a4dc68a2b\" y=\"187.403128\"/>\n",
       "    </g>\n",
       "    <g clip-path=\"url(#p5be065922b)\">\n",
       "     <use style=\"fill:#fde725;stroke:#fde725;\" x=\"259.44174\" xlink:href=\"#C0_0_2a4dc68a2b\" y=\"278.622865\"/>\n",
       "    </g>\n",
       "    <g clip-path=\"url(#p5be065922b)\">\n",
       "     <use style=\"fill:#fde725;stroke:#fde725;\" x=\"308.510362\" xlink:href=\"#C0_0_2a4dc68a2b\" y=\"172.840801\"/>\n",
       "    </g>\n",
       "    <g clip-path=\"url(#p5be065922b)\">\n",
       "     <use style=\"fill:#fde725;stroke:#fde725;\" x=\"383.450188\" xlink:href=\"#C0_0_2a4dc68a2b\" y=\"135.812192\"/>\n",
       "    </g>\n",
       "    <g clip-path=\"url(#p5be065922b)\">\n",
       "     <use style=\"fill:#fde725;stroke:#fde725;\" x=\"360.390187\" xlink:href=\"#C0_0_2a4dc68a2b\" y=\"158.258901\"/>\n",
       "    </g>\n",
       "    <g clip-path=\"url(#p5be065922b)\">\n",
       "     <use style=\"fill:#fde725;stroke:#fde725;\" x=\"316.166885\" xlink:href=\"#C0_0_2a4dc68a2b\" y=\"203.749041\"/>\n",
       "    </g>\n",
       "    <g clip-path=\"url(#p5be065922b)\">\n",
       "     <use style=\"fill:#fde725;stroke:#fde725;\" x=\"217.015501\" xlink:href=\"#C0_0_2a4dc68a2b\" y=\"305.026205\"/>\n",
       "    </g>\n",
       "    <g clip-path=\"url(#p5be065922b)\">\n",
       "     <use style=\"fill:#fde725;stroke:#fde725;\" x=\"265.463783\" xlink:href=\"#C0_0_2a4dc68a2b\" y=\"271.448576\"/>\n",
       "    </g>\n",
       "    <g clip-path=\"url(#p5be065922b)\">\n",
       "     <use style=\"fill:#fde725;stroke:#fde725;\" x=\"383.767118\" xlink:href=\"#C0_0_2a4dc68a2b\" y=\"207.961725\"/>\n",
       "    </g>\n",
       "    <g clip-path=\"url(#p5be065922b)\">\n",
       "     <use style=\"fill:#fde725;stroke:#fde725;\" x=\"207.818311\" xlink:href=\"#C0_0_2a4dc68a2b\" y=\"110.795102\"/>\n",
       "    </g>\n",
       "    <g clip-path=\"url(#p5be065922b)\">\n",
       "     <use style=\"fill:#fde725;stroke:#fde725;\" x=\"311.493642\" xlink:href=\"#C0_0_2a4dc68a2b\" y=\"264.212692\"/>\n",
       "    </g>\n",
       "    <g clip-path=\"url(#p5be065922b)\">\n",
       "     <use style=\"fill:#fde725;stroke:#fde725;\" x=\"266.059445\" xlink:href=\"#C0_0_2a4dc68a2b\" y=\"312.336657\"/>\n",
       "    </g>\n",
       "    <g clip-path=\"url(#p5be065922b)\">\n",
       "     <use style=\"fill:#fde725;stroke:#fde725;\" x=\"354.332269\" xlink:href=\"#C0_0_2a4dc68a2b\" y=\"184.083566\"/>\n",
       "    </g>\n",
       "    <g clip-path=\"url(#p5be065922b)\">\n",
       "     <use style=\"fill:#fde725;stroke:#fde725;\" x=\"256.428711\" xlink:href=\"#C0_0_2a4dc68a2b\" y=\"135.217085\"/>\n",
       "    </g>\n",
       "    <g clip-path=\"url(#p5be065922b)\">\n",
       "     <use style=\"fill:#fde725;stroke:#fde725;\" x=\"180.568465\" xlink:href=\"#C0_0_2a4dc68a2b\" y=\"248.897854\"/>\n",
       "    </g>\n",
       "    <g clip-path=\"url(#p5be065922b)\">\n",
       "     <use style=\"fill:#fde725;stroke:#fde725;\" x=\"227.451991\" xlink:href=\"#C0_0_2a4dc68a2b\" y=\"46.743528\"/>\n",
       "    </g>\n",
       "    <g clip-path=\"url(#p5be065922b)\">\n",
       "     <use style=\"fill:#fde725;stroke:#fde725;\" x=\"183.171438\" xlink:href=\"#C0_0_2a4dc68a2b\" y=\"286.654203\"/>\n",
       "    </g>\n",
       "    <g clip-path=\"url(#p5be065922b)\">\n",
       "     <use style=\"fill:#fde725;stroke:#fde725;\" x=\"186.832791\" xlink:href=\"#C0_0_2a4dc68a2b\" y=\"293.823547\"/>\n",
       "    </g>\n",
       "    <g clip-path=\"url(#p5be065922b)\">\n",
       "     <use style=\"fill:#fde725;stroke:#fde725;\" x=\"308.459734\" xlink:href=\"#C0_0_2a4dc68a2b\" y=\"275.443086\"/>\n",
       "    </g>\n",
       "    <g clip-path=\"url(#p5be065922b)\">\n",
       "     <use style=\"fill:#fde725;stroke:#fde725;\" x=\"256.198529\" xlink:href=\"#C0_0_2a4dc68a2b\" y=\"171.786795\"/>\n",
       "    </g>\n",
       "    <g clip-path=\"url(#p5be065922b)\">\n",
       "     <use style=\"fill:#fde725;stroke:#fde725;\" x=\"287.099912\" xlink:href=\"#C0_0_2a4dc68a2b\" y=\"363.412855\"/>\n",
       "    </g>\n",
       "    <g clip-path=\"url(#p5be065922b)\">\n",
       "     <use style=\"fill:#fde725;stroke:#fde725;\" x=\"202.125632\" xlink:href=\"#C0_0_2a4dc68a2b\" y=\"526.090909\"/>\n",
       "    </g>\n",
       "    <g clip-path=\"url(#p5be065922b)\">\n",
       "     <use style=\"fill:#440154;stroke:#440154;\" x=\"177.993882\" xlink:href=\"#C0_0_2a4dc68a2b\" y=\"275.699666\"/>\n",
       "    </g>\n",
       "    <g clip-path=\"url(#p5be065922b)\">\n",
       "     <use style=\"fill:#440154;stroke:#440154;\" x=\"298.86906\" xlink:href=\"#C0_0_2a4dc68a2b\" y=\"200.051725\"/>\n",
       "    </g>\n",
       "    <g clip-path=\"url(#p5be065922b)\">\n",
       "     <use style=\"fill:#440154;stroke:#440154;\" x=\"277.827354\" xlink:href=\"#C0_0_2a4dc68a2b\" y=\"267.156821\"/>\n",
       "    </g>\n",
       "    <g clip-path=\"url(#p5be065922b)\">\n",
       "     <use style=\"fill:#440154;stroke:#440154;\" x=\"272.322066\" xlink:href=\"#C0_0_2a4dc68a2b\" y=\"152.845852\"/>\n",
       "    </g>\n",
       "    <g clip-path=\"url(#p5be065922b)\">\n",
       "     <use style=\"fill:#440154;stroke:#440154;\" x=\"203.033635\" xlink:href=\"#C0_0_2a4dc68a2b\" y=\"418.491896\"/>\n",
       "    </g>\n",
       "    <g clip-path=\"url(#p5be065922b)\">\n",
       "     <use style=\"fill:#440154;stroke:#440154;\" x=\"450.322389\" xlink:href=\"#C0_0_2a4dc68a2b\" y=\"56.190467\"/>\n",
       "    </g>\n",
       "    <g clip-path=\"url(#p5be065922b)\">\n",
       "     <use style=\"fill:#440154;stroke:#440154;\" x=\"80.708949\" xlink:href=\"#C0_0_2a4dc68a2b\" y=\"100.847666\"/>\n",
       "    </g>\n",
       "    <g clip-path=\"url(#p5be065922b)\">\n",
       "     <use style=\"fill:#440154;stroke:#440154;\" x=\"549.841306\" xlink:href=\"#C0_0_2a4dc68a2b\" y=\"76.701857\"/>\n",
       "    </g>\n",
       "    <g clip-path=\"url(#p5be065922b)\">\n",
       "     <use style=\"fill:#fde725;stroke:#fde725;\" x=\"184.404792\" xlink:href=\"#C0_0_2a4dc68a2b\" y=\"237.75316\"/>\n",
       "    </g>\n",
       "    <g clip-path=\"url(#p5be065922b)\">\n",
       "     <use style=\"fill:#fde725;stroke:#fde725;\" x=\"264.325688\" xlink:href=\"#C0_0_2a4dc68a2b\" y=\"134.243132\"/>\n",
       "    </g>\n",
       "    <g clip-path=\"url(#p5be065922b)\">\n",
       "     <use style=\"fill:#fde725;stroke:#fde725;\" x=\"244.701872\" xlink:href=\"#C0_0_2a4dc68a2b\" y=\"146.316515\"/>\n",
       "    </g>\n",
       "    <g clip-path=\"url(#p5be065922b)\">\n",
       "     <use style=\"fill:#fde725;stroke:#fde725;\" x=\"243.775398\" xlink:href=\"#C0_0_2a4dc68a2b\" y=\"279.670409\"/>\n",
       "    </g>\n",
       "    <g clip-path=\"url(#p5be065922b)\">\n",
       "     <use style=\"fill:#fde725;stroke:#fde725;\" x=\"241.116325\" xlink:href=\"#C0_0_2a4dc68a2b\" y=\"221.558148\"/>\n",
       "    </g>\n",
       "    <g clip-path=\"url(#p5be065922b)\">\n",
       "     <use style=\"fill:#fde725;stroke:#fde725;\" x=\"212.086291\" xlink:href=\"#C0_0_2a4dc68a2b\" y=\"72.232441\"/>\n",
       "    </g>\n",
       "    <g clip-path=\"url(#p5be065922b)\">\n",
       "     <use style=\"fill:#fde725;stroke:#fde725;\" x=\"291.315155\" xlink:href=\"#C0_0_2a4dc68a2b\" y=\"217.799589\"/>\n",
       "    </g>\n",
       "    <g clip-path=\"url(#p5be065922b)\">\n",
       "     <use style=\"fill:#fde725;stroke:#fde725;\" x=\"172.181419\" xlink:href=\"#C0_0_2a4dc68a2b\" y=\"151.111703\"/>\n",
       "    </g>\n",
       "    <g clip-path=\"url(#p5be065922b)\">\n",
       "     <use style=\"fill:#fde725;stroke:#fde725;\" x=\"323.854683\" xlink:href=\"#C0_0_2a4dc68a2b\" y=\"127.164164\"/>\n",
       "    </g>\n",
       "    <g clip-path=\"url(#p5be065922b)\">\n",
       "     <use style=\"fill:#fde725;stroke:#fde725;\" x=\"260.896167\" xlink:href=\"#C0_0_2a4dc68a2b\" y=\"241.350538\"/>\n",
       "    </g>\n",
       "    <g clip-path=\"url(#p5be065922b)\">\n",
       "     <use style=\"fill:#fde725;stroke:#fde725;\" x=\"547.618987\" xlink:href=\"#C0_0_2a4dc68a2b\" y=\"55.672307\"/>\n",
       "    </g>\n",
       "    <g clip-path=\"url(#p5be065922b)\">\n",
       "     <use style=\"fill:#fde725;stroke:#fde725;\" x=\"282.735408\" xlink:href=\"#C0_0_2a4dc68a2b\" y=\"146.501375\"/>\n",
       "    </g>\n",
       "    <g clip-path=\"url(#p5be065922b)\">\n",
       "     <use style=\"fill:#fde725;stroke:#fde725;\" x=\"345.605892\" xlink:href=\"#C0_0_2a4dc68a2b\" y=\"239.720349\"/>\n",
       "    </g>\n",
       "    <g clip-path=\"url(#p5be065922b)\">\n",
       "     <use style=\"fill:#fde725;stroke:#fde725;\" x=\"289.387631\" xlink:href=\"#C0_0_2a4dc68a2b\" y=\"207.3476\"/>\n",
       "    </g>\n",
       "    <g clip-path=\"url(#p5be065922b)\">\n",
       "     <use style=\"fill:#fde725;stroke:#fde725;\" x=\"230.985102\" xlink:href=\"#C0_0_2a4dc68a2b\" y=\"131.664109\"/>\n",
       "    </g>\n",
       "    <g clip-path=\"url(#p5be065922b)\">\n",
       "     <use style=\"fill:#fde725;stroke:#fde725;\" x=\"369.279492\" xlink:href=\"#C0_0_2a4dc68a2b\" y=\"184.933935\"/>\n",
       "    </g>\n",
       "    <g clip-path=\"url(#p5be065922b)\">\n",
       "     <use style=\"fill:#fde725;stroke:#fde725;\" x=\"229.546291\" xlink:href=\"#C0_0_2a4dc68a2b\" y=\"219.578797\"/>\n",
       "    </g>\n",
       "    <g clip-path=\"url(#p5be065922b)\">\n",
       "     <use style=\"fill:#fde725;stroke:#fde725;\" x=\"324.491741\" xlink:href=\"#C0_0_2a4dc68a2b\" y=\"196.792035\"/>\n",
       "    </g>\n",
       "    <g clip-path=\"url(#p5be065922b)\">\n",
       "     <use style=\"fill:#fde725;stroke:#fde725;\" x=\"229.353867\" xlink:href=\"#C0_0_2a4dc68a2b\" y=\"184.940725\"/>\n",
       "    </g>\n",
       "   </g>\n",
       "   <g id=\"matplotlib.axis_1\">\n",
       "    <g id=\"xtick_1\">\n",
       "     <g id=\"line2d_1\">\n",
       "      <defs>\n",
       "       <path d=\"M 0 0 \n",
       "L 0 3.5 \n",
       "\" id=\"mbaa1799068\" style=\"stroke:#000000;stroke-width:0.8;\"/>\n",
       "      </defs>\n",
       "      <g>\n",
       "       <use style=\"stroke:#000000;stroke-width:0.8;\" x=\"100.328503\" xlink:href=\"#mbaa1799068\" y=\"550.8\"/>\n",
       "      </g>\n",
       "     </g>\n",
       "     <g id=\"text_1\">\n",
       "      <!-- −200 -->\n",
       "      <defs>\n",
       "       <path d=\"M 10.59375 35.5 \n",
       "L 73.1875 35.5 \n",
       "L 73.1875 27.203125 \n",
       "L 10.59375 27.203125 \n",
       "z\n",
       "\" id=\"DejaVuSans-8722\"/>\n",
       "       <path d=\"M 19.1875 8.296875 \n",
       "L 53.609375 8.296875 \n",
       "L 53.609375 0 \n",
       "L 7.328125 0 \n",
       "L 7.328125 8.296875 \n",
       "Q 12.9375 14.109375 22.625 23.890625 \n",
       "Q 32.328125 33.6875 34.8125 36.53125 \n",
       "Q 39.546875 41.84375 41.421875 45.53125 \n",
       "Q 43.3125 49.21875 43.3125 52.78125 \n",
       "Q 43.3125 58.59375 39.234375 62.25 \n",
       "Q 35.15625 65.921875 28.609375 65.921875 \n",
       "Q 23.96875 65.921875 18.8125 64.3125 \n",
       "Q 13.671875 62.703125 7.8125 59.421875 \n",
       "L 7.8125 69.390625 \n",
       "Q 13.765625 71.78125 18.9375 73 \n",
       "Q 24.125 74.21875 28.421875 74.21875 \n",
       "Q 39.75 74.21875 46.484375 68.546875 \n",
       "Q 53.21875 62.890625 53.21875 53.421875 \n",
       "Q 53.21875 48.921875 51.53125 44.890625 \n",
       "Q 49.859375 40.875 45.40625 35.40625 \n",
       "Q 44.1875 33.984375 37.640625 27.21875 \n",
       "Q 31.109375 20.453125 19.1875 8.296875 \n",
       "z\n",
       "\" id=\"DejaVuSans-50\"/>\n",
       "       <path d=\"M 31.78125 66.40625 \n",
       "Q 24.171875 66.40625 20.328125 58.90625 \n",
       "Q 16.5 51.421875 16.5 36.375 \n",
       "Q 16.5 21.390625 20.328125 13.890625 \n",
       "Q 24.171875 6.390625 31.78125 6.390625 \n",
       "Q 39.453125 6.390625 43.28125 13.890625 \n",
       "Q 47.125 21.390625 47.125 36.375 \n",
       "Q 47.125 51.421875 43.28125 58.90625 \n",
       "Q 39.453125 66.40625 31.78125 66.40625 \n",
       "z\n",
       "M 31.78125 74.21875 \n",
       "Q 44.046875 74.21875 50.515625 64.515625 \n",
       "Q 56.984375 54.828125 56.984375 36.375 \n",
       "Q 56.984375 17.96875 50.515625 8.265625 \n",
       "Q 44.046875 -1.421875 31.78125 -1.421875 \n",
       "Q 19.53125 -1.421875 13.0625 8.265625 \n",
       "Q 6.59375 17.96875 6.59375 36.375 \n",
       "Q 6.59375 54.828125 13.0625 64.515625 \n",
       "Q 19.53125 74.21875 31.78125 74.21875 \n",
       "z\n",
       "\" id=\"DejaVuSans-48\"/>\n",
       "      </defs>\n",
       "      <g transform=\"translate(86.59491 565.398438)scale(0.1 -0.1)\">\n",
       "       <use xlink:href=\"#DejaVuSans-8722\"/>\n",
       "       <use x=\"83.789062\" xlink:href=\"#DejaVuSans-50\"/>\n",
       "       <use x=\"147.412109\" xlink:href=\"#DejaVuSans-48\"/>\n",
       "       <use x=\"211.035156\" xlink:href=\"#DejaVuSans-48\"/>\n",
       "      </g>\n",
       "     </g>\n",
       "    </g>\n",
       "    <g id=\"xtick_2\">\n",
       "     <g id=\"line2d_2\">\n",
       "      <g>\n",
       "       <use style=\"stroke:#000000;stroke-width:0.8;\" x=\"191.175279\" xlink:href=\"#mbaa1799068\" y=\"550.8\"/>\n",
       "      </g>\n",
       "     </g>\n",
       "     <g id=\"text_2\">\n",
       "      <!-- −100 -->\n",
       "      <defs>\n",
       "       <path d=\"M 12.40625 8.296875 \n",
       "L 28.515625 8.296875 \n",
       "L 28.515625 63.921875 \n",
       "L 10.984375 60.40625 \n",
       "L 10.984375 69.390625 \n",
       "L 28.421875 72.90625 \n",
       "L 38.28125 72.90625 \n",
       "L 38.28125 8.296875 \n",
       "L 54.390625 8.296875 \n",
       "L 54.390625 0 \n",
       "L 12.40625 0 \n",
       "z\n",
       "\" id=\"DejaVuSans-49\"/>\n",
       "      </defs>\n",
       "      <g transform=\"translate(177.441686 565.398438)scale(0.1 -0.1)\">\n",
       "       <use xlink:href=\"#DejaVuSans-8722\"/>\n",
       "       <use x=\"83.789062\" xlink:href=\"#DejaVuSans-49\"/>\n",
       "       <use x=\"147.412109\" xlink:href=\"#DejaVuSans-48\"/>\n",
       "       <use x=\"211.035156\" xlink:href=\"#DejaVuSans-48\"/>\n",
       "      </g>\n",
       "     </g>\n",
       "    </g>\n",
       "    <g id=\"xtick_3\">\n",
       "     <g id=\"line2d_3\">\n",
       "      <g>\n",
       "       <use style=\"stroke:#000000;stroke-width:0.8;\" x=\"282.022055\" xlink:href=\"#mbaa1799068\" y=\"550.8\"/>\n",
       "      </g>\n",
       "     </g>\n",
       "     <g id=\"text_3\">\n",
       "      <!-- 0 -->\n",
       "      <g transform=\"translate(278.840805 565.398438)scale(0.1 -0.1)\">\n",
       "       <use xlink:href=\"#DejaVuSans-48\"/>\n",
       "      </g>\n",
       "     </g>\n",
       "    </g>\n",
       "    <g id=\"xtick_4\">\n",
       "     <g id=\"line2d_4\">\n",
       "      <g>\n",
       "       <use style=\"stroke:#000000;stroke-width:0.8;\" x=\"372.868831\" xlink:href=\"#mbaa1799068\" y=\"550.8\"/>\n",
       "      </g>\n",
       "     </g>\n",
       "     <g id=\"text_4\">\n",
       "      <!-- 100 -->\n",
       "      <g transform=\"translate(363.325081 565.398438)scale(0.1 -0.1)\">\n",
       "       <use xlink:href=\"#DejaVuSans-49\"/>\n",
       "       <use x=\"63.623047\" xlink:href=\"#DejaVuSans-48\"/>\n",
       "       <use x=\"127.246094\" xlink:href=\"#DejaVuSans-48\"/>\n",
       "      </g>\n",
       "     </g>\n",
       "    </g>\n",
       "    <g id=\"xtick_5\">\n",
       "     <g id=\"line2d_5\">\n",
       "      <g>\n",
       "       <use style=\"stroke:#000000;stroke-width:0.8;\" x=\"463.715607\" xlink:href=\"#mbaa1799068\" y=\"550.8\"/>\n",
       "      </g>\n",
       "     </g>\n",
       "     <g id=\"text_5\">\n",
       "      <!-- 200 -->\n",
       "      <g transform=\"translate(454.171857 565.398438)scale(0.1 -0.1)\">\n",
       "       <use xlink:href=\"#DejaVuSans-50\"/>\n",
       "       <use x=\"63.623047\" xlink:href=\"#DejaVuSans-48\"/>\n",
       "       <use x=\"127.246094\" xlink:href=\"#DejaVuSans-48\"/>\n",
       "      </g>\n",
       "     </g>\n",
       "    </g>\n",
       "    <g id=\"xtick_6\">\n",
       "     <g id=\"line2d_6\">\n",
       "      <g>\n",
       "       <use style=\"stroke:#000000;stroke-width:0.8;\" x=\"554.562383\" xlink:href=\"#mbaa1799068\" y=\"550.8\"/>\n",
       "      </g>\n",
       "     </g>\n",
       "     <g id=\"text_6\">\n",
       "      <!-- 300 -->\n",
       "      <defs>\n",
       "       <path d=\"M 40.578125 39.3125 \n",
       "Q 47.65625 37.796875 51.625 33 \n",
       "Q 55.609375 28.21875 55.609375 21.1875 \n",
       "Q 55.609375 10.40625 48.1875 4.484375 \n",
       "Q 40.765625 -1.421875 27.09375 -1.421875 \n",
       "Q 22.515625 -1.421875 17.65625 -0.515625 \n",
       "Q 12.796875 0.390625 7.625 2.203125 \n",
       "L 7.625 11.71875 \n",
       "Q 11.71875 9.328125 16.59375 8.109375 \n",
       "Q 21.484375 6.890625 26.8125 6.890625 \n",
       "Q 36.078125 6.890625 40.9375 10.546875 \n",
       "Q 45.796875 14.203125 45.796875 21.1875 \n",
       "Q 45.796875 27.640625 41.28125 31.265625 \n",
       "Q 36.765625 34.90625 28.71875 34.90625 \n",
       "L 20.21875 34.90625 \n",
       "L 20.21875 43.015625 \n",
       "L 29.109375 43.015625 \n",
       "Q 36.375 43.015625 40.234375 45.921875 \n",
       "Q 44.09375 48.828125 44.09375 54.296875 \n",
       "Q 44.09375 59.90625 40.109375 62.90625 \n",
       "Q 36.140625 65.921875 28.71875 65.921875 \n",
       "Q 24.65625 65.921875 20.015625 65.03125 \n",
       "Q 15.375 64.15625 9.8125 62.3125 \n",
       "L 9.8125 71.09375 \n",
       "Q 15.4375 72.65625 20.34375 73.4375 \n",
       "Q 25.25 74.21875 29.59375 74.21875 \n",
       "Q 40.828125 74.21875 47.359375 69.109375 \n",
       "Q 53.90625 64.015625 53.90625 55.328125 \n",
       "Q 53.90625 49.265625 50.4375 45.09375 \n",
       "Q 46.96875 40.921875 40.578125 39.3125 \n",
       "z\n",
       "\" id=\"DejaVuSans-51\"/>\n",
       "      </defs>\n",
       "      <g transform=\"translate(545.018633 565.398438)scale(0.1 -0.1)\">\n",
       "       <use xlink:href=\"#DejaVuSans-51\"/>\n",
       "       <use x=\"63.623047\" xlink:href=\"#DejaVuSans-48\"/>\n",
       "       <use x=\"127.246094\" xlink:href=\"#DejaVuSans-48\"/>\n",
       "      </g>\n",
       "     </g>\n",
       "    </g>\n",
       "    <g id=\"text_7\">\n",
       "     <!-- tsne-2d-one -->\n",
       "     <defs>\n",
       "      <path d=\"M 18.3125 70.21875 \n",
       "L 18.3125 54.6875 \n",
       "L 36.8125 54.6875 \n",
       "L 36.8125 47.703125 \n",
       "L 18.3125 47.703125 \n",
       "L 18.3125 18.015625 \n",
       "Q 18.3125 11.328125 20.140625 9.421875 \n",
       "Q 21.96875 7.515625 27.59375 7.515625 \n",
       "L 36.8125 7.515625 \n",
       "L 36.8125 0 \n",
       "L 27.59375 0 \n",
       "Q 17.1875 0 13.234375 3.875 \n",
       "Q 9.28125 7.765625 9.28125 18.015625 \n",
       "L 9.28125 47.703125 \n",
       "L 2.6875 47.703125 \n",
       "L 2.6875 54.6875 \n",
       "L 9.28125 54.6875 \n",
       "L 9.28125 70.21875 \n",
       "z\n",
       "\" id=\"DejaVuSans-116\"/>\n",
       "      <path d=\"M 44.28125 53.078125 \n",
       "L 44.28125 44.578125 \n",
       "Q 40.484375 46.53125 36.375 47.5 \n",
       "Q 32.28125 48.484375 27.875 48.484375 \n",
       "Q 21.1875 48.484375 17.84375 46.4375 \n",
       "Q 14.5 44.390625 14.5 40.28125 \n",
       "Q 14.5 37.15625 16.890625 35.375 \n",
       "Q 19.28125 33.59375 26.515625 31.984375 \n",
       "L 29.59375 31.296875 \n",
       "Q 39.15625 29.25 43.1875 25.515625 \n",
       "Q 47.21875 21.78125 47.21875 15.09375 \n",
       "Q 47.21875 7.46875 41.1875 3.015625 \n",
       "Q 35.15625 -1.421875 24.609375 -1.421875 \n",
       "Q 20.21875 -1.421875 15.453125 -0.5625 \n",
       "Q 10.6875 0.296875 5.421875 2 \n",
       "L 5.421875 11.28125 \n",
       "Q 10.40625 8.6875 15.234375 7.390625 \n",
       "Q 20.0625 6.109375 24.8125 6.109375 \n",
       "Q 31.15625 6.109375 34.5625 8.28125 \n",
       "Q 37.984375 10.453125 37.984375 14.40625 \n",
       "Q 37.984375 18.0625 35.515625 20.015625 \n",
       "Q 33.0625 21.96875 24.703125 23.78125 \n",
       "L 21.578125 24.515625 \n",
       "Q 13.234375 26.265625 9.515625 29.90625 \n",
       "Q 5.8125 33.546875 5.8125 39.890625 \n",
       "Q 5.8125 47.609375 11.28125 51.796875 \n",
       "Q 16.75 56 26.8125 56 \n",
       "Q 31.78125 56 36.171875 55.265625 \n",
       "Q 40.578125 54.546875 44.28125 53.078125 \n",
       "z\n",
       "\" id=\"DejaVuSans-115\"/>\n",
       "      <path d=\"M 54.890625 33.015625 \n",
       "L 54.890625 0 \n",
       "L 45.90625 0 \n",
       "L 45.90625 32.71875 \n",
       "Q 45.90625 40.484375 42.875 44.328125 \n",
       "Q 39.84375 48.1875 33.796875 48.1875 \n",
       "Q 26.515625 48.1875 22.3125 43.546875 \n",
       "Q 18.109375 38.921875 18.109375 30.90625 \n",
       "L 18.109375 0 \n",
       "L 9.078125 0 \n",
       "L 9.078125 54.6875 \n",
       "L 18.109375 54.6875 \n",
       "L 18.109375 46.1875 \n",
       "Q 21.34375 51.125 25.703125 53.5625 \n",
       "Q 30.078125 56 35.796875 56 \n",
       "Q 45.21875 56 50.046875 50.171875 \n",
       "Q 54.890625 44.34375 54.890625 33.015625 \n",
       "z\n",
       "\" id=\"DejaVuSans-110\"/>\n",
       "      <path d=\"M 56.203125 29.59375 \n",
       "L 56.203125 25.203125 \n",
       "L 14.890625 25.203125 \n",
       "Q 15.484375 15.921875 20.484375 11.0625 \n",
       "Q 25.484375 6.203125 34.421875 6.203125 \n",
       "Q 39.59375 6.203125 44.453125 7.46875 \n",
       "Q 49.3125 8.734375 54.109375 11.28125 \n",
       "L 54.109375 2.78125 \n",
       "Q 49.265625 0.734375 44.1875 -0.34375 \n",
       "Q 39.109375 -1.421875 33.890625 -1.421875 \n",
       "Q 20.796875 -1.421875 13.15625 6.1875 \n",
       "Q 5.515625 13.8125 5.515625 26.8125 \n",
       "Q 5.515625 40.234375 12.765625 48.109375 \n",
       "Q 20.015625 56 32.328125 56 \n",
       "Q 43.359375 56 49.78125 48.890625 \n",
       "Q 56.203125 41.796875 56.203125 29.59375 \n",
       "z\n",
       "M 47.21875 32.234375 \n",
       "Q 47.125 39.59375 43.09375 43.984375 \n",
       "Q 39.0625 48.390625 32.421875 48.390625 \n",
       "Q 24.90625 48.390625 20.390625 44.140625 \n",
       "Q 15.875 39.890625 15.1875 32.171875 \n",
       "z\n",
       "\" id=\"DejaVuSans-101\"/>\n",
       "      <path d=\"M 4.890625 31.390625 \n",
       "L 31.203125 31.390625 \n",
       "L 31.203125 23.390625 \n",
       "L 4.890625 23.390625 \n",
       "z\n",
       "\" id=\"DejaVuSans-45\"/>\n",
       "      <path d=\"M 45.40625 46.390625 \n",
       "L 45.40625 75.984375 \n",
       "L 54.390625 75.984375 \n",
       "L 54.390625 0 \n",
       "L 45.40625 0 \n",
       "L 45.40625 8.203125 \n",
       "Q 42.578125 3.328125 38.25 0.953125 \n",
       "Q 33.9375 -1.421875 27.875 -1.421875 \n",
       "Q 17.96875 -1.421875 11.734375 6.484375 \n",
       "Q 5.515625 14.40625 5.515625 27.296875 \n",
       "Q 5.515625 40.1875 11.734375 48.09375 \n",
       "Q 17.96875 56 27.875 56 \n",
       "Q 33.9375 56 38.25 53.625 \n",
       "Q 42.578125 51.265625 45.40625 46.390625 \n",
       "z\n",
       "M 14.796875 27.296875 \n",
       "Q 14.796875 17.390625 18.875 11.75 \n",
       "Q 22.953125 6.109375 30.078125 6.109375 \n",
       "Q 37.203125 6.109375 41.296875 11.75 \n",
       "Q 45.40625 17.390625 45.40625 27.296875 \n",
       "Q 45.40625 37.203125 41.296875 42.84375 \n",
       "Q 37.203125 48.484375 30.078125 48.484375 \n",
       "Q 22.953125 48.484375 18.875 42.84375 \n",
       "Q 14.796875 37.203125 14.796875 27.296875 \n",
       "z\n",
       "\" id=\"DejaVuSans-100\"/>\n",
       "      <path d=\"M 30.609375 48.390625 \n",
       "Q 23.390625 48.390625 19.1875 42.75 \n",
       "Q 14.984375 37.109375 14.984375 27.296875 \n",
       "Q 14.984375 17.484375 19.15625 11.84375 \n",
       "Q 23.34375 6.203125 30.609375 6.203125 \n",
       "Q 37.796875 6.203125 41.984375 11.859375 \n",
       "Q 46.1875 17.53125 46.1875 27.296875 \n",
       "Q 46.1875 37.015625 41.984375 42.703125 \n",
       "Q 37.796875 48.390625 30.609375 48.390625 \n",
       "z\n",
       "M 30.609375 56 \n",
       "Q 42.328125 56 49.015625 48.375 \n",
       "Q 55.71875 40.765625 55.71875 27.296875 \n",
       "Q 55.71875 13.875 49.015625 6.21875 \n",
       "Q 42.328125 -1.421875 30.609375 -1.421875 \n",
       "Q 18.84375 -1.421875 12.171875 6.21875 \n",
       "Q 5.515625 13.875 5.515625 27.296875 \n",
       "Q 5.515625 40.765625 12.171875 48.375 \n",
       "Q 18.84375 56 30.609375 56 \n",
       "z\n",
       "\" id=\"DejaVuSans-111\"/>\n",
       "     </defs>\n",
       "     <g transform=\"translate(304.173437 579.076563)scale(0.1 -0.1)\">\n",
       "      <use xlink:href=\"#DejaVuSans-116\"/>\n",
       "      <use x=\"39.208984\" xlink:href=\"#DejaVuSans-115\"/>\n",
       "      <use x=\"91.308594\" xlink:href=\"#DejaVuSans-110\"/>\n",
       "      <use x=\"154.6875\" xlink:href=\"#DejaVuSans-101\"/>\n",
       "      <use x=\"216.210938\" xlink:href=\"#DejaVuSans-45\"/>\n",
       "      <use x=\"252.294922\" xlink:href=\"#DejaVuSans-50\"/>\n",
       "      <use x=\"315.917969\" xlink:href=\"#DejaVuSans-100\"/>\n",
       "      <use x=\"379.394531\" xlink:href=\"#DejaVuSans-45\"/>\n",
       "      <use x=\"417.353516\" xlink:href=\"#DejaVuSans-111\"/>\n",
       "      <use x=\"478.535156\" xlink:href=\"#DejaVuSans-110\"/>\n",
       "      <use x=\"541.914062\" xlink:href=\"#DejaVuSans-101\"/>\n",
       "     </g>\n",
       "    </g>\n",
       "   </g>\n",
       "   <g id=\"matplotlib.axis_2\">\n",
       "    <g id=\"ytick_1\">\n",
       "     <g id=\"line2d_7\">\n",
       "      <defs>\n",
       "       <path d=\"M 0 0 \n",
       "L -3.5 0 \n",
       "\" id=\"m4ed9b794e5\" style=\"stroke:#000000;stroke-width:0.8;\"/>\n",
       "      </defs>\n",
       "      <g>\n",
       "       <use style=\"stroke:#000000;stroke-width:0.8;\" x=\"55.345313\" xlink:href=\"#m4ed9b794e5\" y=\"536.151607\"/>\n",
       "      </g>\n",
       "     </g>\n",
       "     <g id=\"text_8\">\n",
       "      <!-- −400 -->\n",
       "      <defs>\n",
       "       <path d=\"M 37.796875 64.3125 \n",
       "L 12.890625 25.390625 \n",
       "L 37.796875 25.390625 \n",
       "z\n",
       "M 35.203125 72.90625 \n",
       "L 47.609375 72.90625 \n",
       "L 47.609375 25.390625 \n",
       "L 58.015625 25.390625 \n",
       "L 58.015625 17.1875 \n",
       "L 47.609375 17.1875 \n",
       "L 47.609375 0 \n",
       "L 37.796875 0 \n",
       "L 37.796875 17.1875 \n",
       "L 4.890625 17.1875 \n",
       "L 4.890625 26.703125 \n",
       "z\n",
       "\" id=\"DejaVuSans-52\"/>\n",
       "      </defs>\n",
       "      <g transform=\"translate(20.878125 539.950826)scale(0.1 -0.1)\">\n",
       "       <use xlink:href=\"#DejaVuSans-8722\"/>\n",
       "       <use x=\"83.789062\" xlink:href=\"#DejaVuSans-52\"/>\n",
       "       <use x=\"147.412109\" xlink:href=\"#DejaVuSans-48\"/>\n",
       "       <use x=\"211.035156\" xlink:href=\"#DejaVuSans-48\"/>\n",
       "      </g>\n",
       "     </g>\n",
       "    </g>\n",
       "    <g id=\"ytick_2\">\n",
       "     <g id=\"line2d_8\">\n",
       "      <g>\n",
       "       <use style=\"stroke:#000000;stroke-width:0.8;\" x=\"55.345313\" xlink:href=\"#m4ed9b794e5\" y=\"453.169048\"/>\n",
       "      </g>\n",
       "     </g>\n",
       "     <g id=\"text_9\">\n",
       "      <!-- −300 -->\n",
       "      <g transform=\"translate(20.878125 456.968267)scale(0.1 -0.1)\">\n",
       "       <use xlink:href=\"#DejaVuSans-8722\"/>\n",
       "       <use x=\"83.789062\" xlink:href=\"#DejaVuSans-51\"/>\n",
       "       <use x=\"147.412109\" xlink:href=\"#DejaVuSans-48\"/>\n",
       "       <use x=\"211.035156\" xlink:href=\"#DejaVuSans-48\"/>\n",
       "      </g>\n",
       "     </g>\n",
       "    </g>\n",
       "    <g id=\"ytick_3\">\n",
       "     <g id=\"line2d_9\">\n",
       "      <g>\n",
       "       <use style=\"stroke:#000000;stroke-width:0.8;\" x=\"55.345313\" xlink:href=\"#m4ed9b794e5\" y=\"370.186489\"/>\n",
       "      </g>\n",
       "     </g>\n",
       "     <g id=\"text_10\">\n",
       "      <!-- −200 -->\n",
       "      <g transform=\"translate(20.878125 373.985707)scale(0.1 -0.1)\">\n",
       "       <use xlink:href=\"#DejaVuSans-8722\"/>\n",
       "       <use x=\"83.789062\" xlink:href=\"#DejaVuSans-50\"/>\n",
       "       <use x=\"147.412109\" xlink:href=\"#DejaVuSans-48\"/>\n",
       "       <use x=\"211.035156\" xlink:href=\"#DejaVuSans-48\"/>\n",
       "      </g>\n",
       "     </g>\n",
       "    </g>\n",
       "    <g id=\"ytick_4\">\n",
       "     <g id=\"line2d_10\">\n",
       "      <g>\n",
       "       <use style=\"stroke:#000000;stroke-width:0.8;\" x=\"55.345313\" xlink:href=\"#m4ed9b794e5\" y=\"287.203929\"/>\n",
       "      </g>\n",
       "     </g>\n",
       "     <g id=\"text_11\">\n",
       "      <!-- −100 -->\n",
       "      <g transform=\"translate(20.878125 291.003148)scale(0.1 -0.1)\">\n",
       "       <use xlink:href=\"#DejaVuSans-8722\"/>\n",
       "       <use x=\"83.789062\" xlink:href=\"#DejaVuSans-49\"/>\n",
       "       <use x=\"147.412109\" xlink:href=\"#DejaVuSans-48\"/>\n",
       "       <use x=\"211.035156\" xlink:href=\"#DejaVuSans-48\"/>\n",
       "      </g>\n",
       "     </g>\n",
       "    </g>\n",
       "    <g id=\"ytick_5\">\n",
       "     <g id=\"line2d_11\">\n",
       "      <g>\n",
       "       <use style=\"stroke:#000000;stroke-width:0.8;\" x=\"55.345313\" xlink:href=\"#m4ed9b794e5\" y=\"204.22137\"/>\n",
       "      </g>\n",
       "     </g>\n",
       "     <g id=\"text_12\">\n",
       "      <!-- 0 -->\n",
       "      <g transform=\"translate(41.982813 208.020589)scale(0.1 -0.1)\">\n",
       "       <use xlink:href=\"#DejaVuSans-48\"/>\n",
       "      </g>\n",
       "     </g>\n",
       "    </g>\n",
       "    <g id=\"ytick_6\">\n",
       "     <g id=\"line2d_12\">\n",
       "      <g>\n",
       "       <use style=\"stroke:#000000;stroke-width:0.8;\" x=\"55.345313\" xlink:href=\"#m4ed9b794e5\" y=\"121.238811\"/>\n",
       "      </g>\n",
       "     </g>\n",
       "     <g id=\"text_13\">\n",
       "      <!-- 100 -->\n",
       "      <g transform=\"translate(29.257813 125.038029)scale(0.1 -0.1)\">\n",
       "       <use xlink:href=\"#DejaVuSans-49\"/>\n",
       "       <use x=\"63.623047\" xlink:href=\"#DejaVuSans-48\"/>\n",
       "       <use x=\"127.246094\" xlink:href=\"#DejaVuSans-48\"/>\n",
       "      </g>\n",
       "     </g>\n",
       "    </g>\n",
       "    <g id=\"ytick_7\">\n",
       "     <g id=\"line2d_13\">\n",
       "      <g>\n",
       "       <use style=\"stroke:#000000;stroke-width:0.8;\" x=\"55.345313\" xlink:href=\"#m4ed9b794e5\" y=\"38.256251\"/>\n",
       "      </g>\n",
       "     </g>\n",
       "     <g id=\"text_14\">\n",
       "      <!-- 200 -->\n",
       "      <g transform=\"translate(29.257813 42.05547)scale(0.1 -0.1)\">\n",
       "       <use xlink:href=\"#DejaVuSans-50\"/>\n",
       "       <use x=\"63.623047\" xlink:href=\"#DejaVuSans-48\"/>\n",
       "       <use x=\"127.246094\" xlink:href=\"#DejaVuSans-48\"/>\n",
       "      </g>\n",
       "     </g>\n",
       "    </g>\n",
       "    <g id=\"text_15\">\n",
       "     <!-- tsne-2d-one -->\n",
       "     <g transform=\"translate(14.798438 309.171875)rotate(-90)scale(0.1 -0.1)\">\n",
       "      <use xlink:href=\"#DejaVuSans-116\"/>\n",
       "      <use x=\"39.208984\" xlink:href=\"#DejaVuSans-115\"/>\n",
       "      <use x=\"91.308594\" xlink:href=\"#DejaVuSans-110\"/>\n",
       "      <use x=\"154.6875\" xlink:href=\"#DejaVuSans-101\"/>\n",
       "      <use x=\"216.210938\" xlink:href=\"#DejaVuSans-45\"/>\n",
       "      <use x=\"252.294922\" xlink:href=\"#DejaVuSans-50\"/>\n",
       "      <use x=\"315.917969\" xlink:href=\"#DejaVuSans-100\"/>\n",
       "      <use x=\"379.394531\" xlink:href=\"#DejaVuSans-45\"/>\n",
       "      <use x=\"417.353516\" xlink:href=\"#DejaVuSans-111\"/>\n",
       "      <use x=\"478.535156\" xlink:href=\"#DejaVuSans-110\"/>\n",
       "      <use x=\"541.914062\" xlink:href=\"#DejaVuSans-101\"/>\n",
       "     </g>\n",
       "    </g>\n",
       "   </g>\n",
       "   <g id=\"patch_3\">\n",
       "    <path d=\"M 55.345313 550.8 \n",
       "L 55.345313 7.2 \n",
       "\" style=\"fill:none;stroke:#000000;stroke-linecap:square;stroke-linejoin:miter;stroke-width:0.8;\"/>\n",
       "   </g>\n",
       "   <g id=\"patch_4\">\n",
       "    <path d=\"M 613.345312 550.8 \n",
       "L 613.345312 7.2 \n",
       "\" style=\"fill:none;stroke:#000000;stroke-linecap:square;stroke-linejoin:miter;stroke-width:0.8;\"/>\n",
       "   </g>\n",
       "   <g id=\"patch_5\">\n",
       "    <path d=\"M 55.345312 550.8 \n",
       "L 613.345312 550.8 \n",
       "\" style=\"fill:none;stroke:#000000;stroke-linecap:square;stroke-linejoin:miter;stroke-width:0.8;\"/>\n",
       "   </g>\n",
       "   <g id=\"patch_6\">\n",
       "    <path d=\"M 55.345312 7.2 \n",
       "L 613.345312 7.2 \n",
       "\" style=\"fill:none;stroke:#000000;stroke-linecap:square;stroke-linejoin:miter;stroke-width:0.8;\"/>\n",
       "   </g>\n",
       "  </g>\n",
       " </g>\n",
       " <defs>\n",
       "  <clipPath id=\"p5be065922b\">\n",
       "   <rect height=\"543.6\" width=\"558\" x=\"55.345313\" y=\"7.2\"/>\n",
       "  </clipPath>\n",
       " </defs>\n",
       "</svg>\n"
      ],
      "text/plain": [
       "<Figure size 720x720 with 1 Axes>"
      ]
     },
     "metadata": {
      "needs_background": "light"
     },
     "output_type": "display_data"
    }
   ],
   "source": [
    "plt.figure(figsize=(10,10))\n",
    "plt.scatter(df_subset['tsne-2d-one'],df_subset['tsne-2d-two'],c=df_subset['PI'])\n",
    "plt.xlabel('tsne-2d-one')\n",
    "plt.ylabel('tsne-2d-one')\n"
   ]
  },
  {
   "cell_type": "code",
   "execution_count": 40,
   "metadata": {},
   "outputs": [
    {
     "data": {
      "text/plain": [
       "array([[-2.2443347 , -4.706242  ],\n",
       "       [ 4.034638  ,  2.8211336 ],\n",
       "       [ 1.2392521 , -1.8968908 ],\n",
       "       ...,\n",
       "       [-5.816544  , -8.111503  ],\n",
       "       [-0.77172625, -2.0545878 ],\n",
       "       [-0.9246067 , -5.730704  ]], dtype=float32)"
      ]
     },
     "execution_count": 40,
     "metadata": {},
     "output_type": "execute_result"
    }
   ],
   "source": [
    "tsne_results"
   ]
  },
  {
   "cell_type": "code",
   "execution_count": null,
   "metadata": {},
   "outputs": [],
   "source": []
  }
 ],
 "metadata": {
  "kernelspec": {
   "display_name": "Python 3.6.8 64-bit ('nlp': conda)",
   "language": "python",
   "name": "python_defaultSpec_1594821345288"
  },
  "language_info": {
   "codemirror_mode": {
    "name": "ipython",
    "version": 3
   },
   "file_extension": ".py",
   "mimetype": "text/x-python",
   "name": "python",
   "nbconvert_exporter": "python",
   "pygments_lexer": "ipython3",
   "version": "3.6.10"
  }
 },
 "nbformat": 4,
 "nbformat_minor": 4
}