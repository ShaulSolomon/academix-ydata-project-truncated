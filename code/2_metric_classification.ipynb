{
  "cells": [
    {
      "cell_type": "markdown",
      "metadata": {
        "id": "view-in-github",
        "colab_type": "text"
      },
      "source": [
        "<a href=\"https://colab.research.google.com/github/rgranit/academix-ydata-project/blob/master/code/2_metric_classification.ipynb\" target=\"_parent\"><img src=\"https://colab.research.google.com/assets/colab-badge.svg\" alt=\"Open In Colab\"/></a>"
      ]
    },
    {
      "cell_type": "markdown",
      "metadata": {
        "id": "jbYQdLElNd9B",
        "colab_type": "text"
      },
      "source": [
        "Before we can calculate Precision/Recall, we need a way to match ID's with clustering group\n",
        "\n",
        "Psuedo-Code:\n",
        "\n",
        "Sort PI-ID's by most PMID's assosciated with name.\n",
        "\n",
        "For pi in PI-IDs:<br>\n",
        "> Find cluster, `c`, which has the largest number of pi.<br>\n",
        "If `c.label` is None, c.label = pi.<br>\n",
        "Otherwise, iterate through clusters until find cluster without label.<br>\n",
        "\n",
        "Precision = number of pi where c.label = pi / # of articles in given c\n",
        "Recall = number of pi where c.label = pi / # of pi not in c\n",
        "\n",
        "If for a pi there is no c:\n",
        "Precision/Recall = 0\n",
        "\n",
        "Mis-integration:\n",
        "For every cluster, count the number of dif PI IDs assigned to cluster.\n",
        "\n",
        "Mis-Separation:\n",
        "For every PI ID, count the number of dif clusters it is assigned to.\n"
      ]
    },
    {
      "cell_type": "markdown",
      "metadata": {
        "id": "n2H1i65xwClc",
        "colab_type": "text"
      },
      "source": [
        "## Installation"
      ]
    },
    {
      "cell_type": "code",
      "metadata": {
        "id": "r1PezbxlIvxs",
        "colab_type": "code",
        "outputId": "850f20a1-f202-4a6f-9441-1418307148bf",
        "colab": {
          "base_uri": "https://localhost:8080/",
          "height": 122
        }
      },
      "source": [
        "!pip install boto"
      ],
      "execution_count": 0,
      "outputs": [
        {
          "output_type": "stream",
          "text": [
            "Collecting boto\n",
            "\u001b[?25l  Downloading https://files.pythonhosted.org/packages/23/10/c0b78c27298029e4454a472a1919bde20cb182dab1662cec7f2ca1dcc523/boto-2.49.0-py2.py3-none-any.whl (1.4MB)\n",
            "\u001b[K     |████████████████████████████████| 1.4MB 4.9MB/s \n",
            "\u001b[?25hInstalling collected packages: boto\n",
            "Successfully installed boto-2.49.0\n"
          ],
          "name": "stdout"
        }
      ]
    },
    {
      "cell_type": "code",
      "metadata": {
        "id": "ZrMP3eXPL-8b",
        "colab_type": "code",
        "colab": {}
      },
      "source": [
        "import numpy as np\n",
        "import pandas as pd\n",
        "from collections import Counter \n",
        "from sklearn.metrics import precision_score\n",
        "from sklearn.metrics import recall_score\n",
        "from collections import defaultdict\n",
        "import s3_function"
      ],
      "execution_count": 0,
      "outputs": []
    },
    {
      "cell_type": "code",
      "metadata": {
        "id": "6F4Oo5EWIsuW",
        "colab_type": "code",
        "colab": {}
      },
      "source": [
        "df= s3_functions.get_dataframe_from_s3(file=\"enriched_labeled_dataset.csv\")"
      ],
      "execution_count": 0,
      "outputs": []
    },
    {
      "cell_type": "markdown",
      "metadata": {
        "id": "uLnRLKCxwJbR",
        "colab_type": "text"
      },
      "source": [
        "# Implementation"
      ]
    },
    {
      "cell_type": "markdown",
      "metadata": {
        "id": "La9QycLtLE5S",
        "colab_type": "text"
      },
      "source": [
        "As we want to test the theory of the metrics without actually running any clustering algorith, I will make some toy data."
      ]
    },
    {
      "cell_type": "code",
      "metadata": {
        "id": "w-iikTUIIt4h",
        "colab_type": "code",
        "colab": {}
      },
      "source": [
        "df = df[[\"pmid\",\"PI_IDS\"]]"
      ],
      "execution_count": 0,
      "outputs": []
    },
    {
      "cell_type": "code",
      "metadata": {
        "id": "7jS6mY_hKnYm",
        "colab_type": "code",
        "colab": {}
      },
      "source": [
        "top_5_ids = df.groupby('PI_IDS').size().sort_values(ascending=False).reset_index()['PI_IDS'][:5]\n",
        "df_top = df[df['PI_IDS'].isin(list(top_5_ids))]"
      ],
      "execution_count": 0,
      "outputs": []
    },
    {
      "cell_type": "code",
      "metadata": {
        "id": "GVBvRhVkMCyS",
        "colab_type": "code",
        "outputId": "f5249e4d-7381-4391-e3f5-2edfe665b3df",
        "colab": {
          "base_uri": "https://localhost:8080/",
          "height": 139
        }
      },
      "source": [
        "np.random.seed(42)\n",
        "df_top['cluster_pred'] = np.array(np.random.randint(0,5,size=(len(df_top))))"
      ],
      "execution_count": 0,
      "outputs": [
        {
          "output_type": "stream",
          "text": [
            "/usr/local/lib/python3.6/dist-packages/ipykernel_launcher.py:2: SettingWithCopyWarning: \n",
            "A value is trying to be set on a copy of a slice from a DataFrame.\n",
            "Try using .loc[row_indexer,col_indexer] = value instead\n",
            "\n",
            "See the caveats in the documentation: https://pandas.pydata.org/pandas-docs/stable/user_guide/indexing.html#returning-a-view-versus-a-copy\n",
            "  \n"
          ],
          "name": "stderr"
        }
      ]
    },
    {
      "cell_type": "markdown",
      "metadata": {
        "id": "ktIn0DlePOn9",
        "colab_type": "text"
      },
      "source": [
        "We have 274 items based off 5 authors, are for arguments sake we made K=5, and randomly assigned a cluster to each item to simulate an ineffiecient clustering algo."
      ]
    },
    {
      "cell_type": "code",
      "metadata": {
        "id": "q5FKA468P30T",
        "colab_type": "code",
        "outputId": "8143b94c-4d8c-4956-e1dc-c70828cb1a8d",
        "colab": {
          "base_uri": "https://localhost:8080/",
          "height": 139
        }
      },
      "source": [
        "# Creating a dictionary where each cluster is assigned an ID based off psuedo-code written above K_dict[pi_id] = # of cluster\n",
        "K_dict = dict()\n",
        "set_of_clusters = set(df_top.cluster_pred)\n",
        "#get pi_ids sorted by most productive\n",
        "pi_id_sorted = list(df_top.groupby('PI_IDS').size().sort_values(ascending=False).reset_index()['PI_IDS'])\n",
        "for pi_id in pi_id_sorted:\n",
        "  #Get most popular clusters for each id\n",
        "  cluster_for_id = [c_id for c_id, _ in Counter(df_top[df_top['PI_IDS'] == pi_id].cluster_pred).most_common()]\n",
        "  for c in cluster_for_id:\n",
        "    if c not in set_of_clusters:\n",
        "      continue\n",
        "    else:\n",
        "      K_dict[pi_id] = c\n",
        "      set_of_clusters.remove(c)\n",
        "      break\n",
        "\n",
        "df_top['cluster_max'] = [K_dict[pid] for pid in df_top.PI_IDS]"
      ],
      "execution_count": 0,
      "outputs": [
        {
          "output_type": "stream",
          "text": [
            "/usr/local/lib/python3.6/dist-packages/ipykernel_launcher.py:16: SettingWithCopyWarning: \n",
            "A value is trying to be set on a copy of a slice from a DataFrame.\n",
            "Try using .loc[row_indexer,col_indexer] = value instead\n",
            "\n",
            "See the caveats in the documentation: https://pandas.pydata.org/pandas-docs/stable/user_guide/indexing.html#returning-a-view-versus-a-copy\n",
            "  app.launch_new_instance()\n"
          ],
          "name": "stderr"
        }
      ]
    },
    {
      "cell_type": "markdown",
      "metadata": {
        "id": "E3Bq2a19YJj1",
        "colab_type": "text"
      },
      "source": [
        "With each cluster being assigned a ID, we can now 'check' our guess and see metrics such as Precision/Recall and mis-integration and mis-separation."
      ]
    },
    {
      "cell_type": "code",
      "metadata": {
        "id": "xy8qdofPX6B3",
        "colab_type": "code",
        "outputId": "ca4c0e0a-dded-412e-cc4c-3536cc100683",
        "colab": {
          "base_uri": "https://localhost:8080/",
          "height": 34
        }
      },
      "source": [
        "print(\"Precision score: {}, Recall score: {}\".format(precision_score(df_top.cluster_max,df_top.cluster_pred,average='micro'),recall_score(df_top.cluster_max,df_top.cluster_pred,average='micro')))"
      ],
      "execution_count": 0,
      "outputs": [
        {
          "output_type": "stream",
          "text": [
            "Precision score: 0.22262773722627738, Recall score: 0.22262773722627738\n"
          ],
          "name": "stdout"
        }
      ]
    },
    {
      "cell_type": "code",
      "metadata": {
        "id": "9DZ-A6AUfVBN",
        "colab_type": "code",
        "colab": {}
      },
      "source": [
        "mis_intergration_dict = defaultdict(int)\n",
        "mis_separation_dict = defaultdict(int)"
      ],
      "execution_count": 0,
      "outputs": []
    },
    {
      "cell_type": "code",
      "metadata": {
        "id": "xco53Q4xi9nh",
        "colab_type": "code",
        "colab": {}
      },
      "source": [
        "#mis_separation\n",
        "\n",
        "for clus_sep in df_top.groupby('PI_IDS')['cluster_pred'].nunique():\n",
        "  mis_separation_dict[clus_sep] += 1\n",
        "\n",
        "mis_separation_dict = dict(mis_separation_dict)\n",
        "\n",
        "total = sum(mis_separation_dict.values())\n",
        "for key in mis_separation_dict.keys():\n",
        "  mis_separation_dict[key] /= total\n",
        "\n",
        "print(mis_separation_dict)"
      ],
      "execution_count": 0,
      "outputs": []
    },
    {
      "cell_type": "code",
      "metadata": {
        "id": "VsOaondplFm6",
        "colab_type": "code",
        "outputId": "8c385884-a405-4bd1-dd55-cb6d3b3c56e5",
        "colab": {
          "base_uri": "https://localhost:8080/",
          "height": 34
        }
      },
      "source": [
        "#mis-integration - for each cluster, see how many dif people were attributed to it\n",
        "\n",
        "for clus_int in df_top.groupby('cluster_max')['cluster_pred'].nunique():\n",
        "  mis_intergration_dict[clus_int] += 1\n",
        "\n",
        "mis_intergration_dict = dict(mis_intergration_dict)\n",
        "\n",
        "total = sum(mis_intergration_dict.values())\n",
        "for key in mis_intergration_dict.keys():\n",
        "  mis_intergration_dict[key] /= total\n",
        "\n",
        "print(mis_intergration_dict)"
      ],
      "execution_count": 0,
      "outputs": [
        {
          "output_type": "stream",
          "text": [
            "{5: 1.0}\n"
          ],
          "name": "stdout"
        }
      ]
    },
    {
      "cell_type": "markdown",
      "metadata": {
        "id": "Q8dNbzagwPFe",
        "colab_type": "text"
      },
      "source": [
        "**Still needs to be discussed when # of clusters is larger and smaller than the #  of pi_ids**"
      ]
    }
  ],
  "metadata": {
    "colab": {
      "name": "2_metric_classification.ipynb",
      "provenance": [],
      "authorship_tag": "ABX9TyNtMrNIP67fPrwJIXpGD11X",
      "include_colab_link": true
    },
    "kernelspec": {
      "name": "python3",
      "display_name": "Python 3"
    }
  },
  "nbformat": 4,
  "nbformat_minor": 0
}