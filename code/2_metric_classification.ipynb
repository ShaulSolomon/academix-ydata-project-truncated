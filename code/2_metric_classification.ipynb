{
  "nbformat": 4,
  "nbformat_minor": 0,
  "metadata": {
    "colab": {
      "name": "2_metric_classification.ipynb",
      "provenance": [],
      "authorship_tag": "ABX9TyP2KDCQcZTiXS6hgUs+AsmB",
      "include_colab_link": true
    },
    "kernelspec": {
      "name": "python3",
      "display_name": "Python 3"
    }
  },
  "cells": [
    {
      "cell_type": "markdown",
      "metadata": {
        "id": "view-in-github",
        "colab_type": "text"
      },
      "source": [
        "<a href=\"https://colab.research.google.com/github/rgranit/academix-ydata-project/blob/master/code/2_metric_classification.ipynb\" target=\"_parent\"><img src=\"https://colab.research.google.com/assets/colab-badge.svg\" alt=\"Open In Colab\"/></a>"
      ]
    },
    {
      "cell_type": "markdown",
      "metadata": {
        "id": "jbYQdLElNd9B",
        "colab_type": "text"
      },
      "source": [
        "'''\n",
        "Before we can calculate Precision/Recall, we need a way to match ID's with clustering group\n",
        "\n",
        "Psuedo-Code:\n",
        "\n",
        "Sort PI-ID's by most PMID's assosciated with name.\n",
        "\n",
        "For pi in PI-IDs:<br>\n",
        "> Find cluster, `c`, which has the largest number of pi.<br>\n",
        "If `c.label` is None, c.label = pi.<br>\n",
        "Otherwise, iterate through clusters until find cluster without label.<br>\n",
        "\n",
        "Precision = number of pi where c.label = pi / # of articles in given c\n",
        "Recall = number of pi where c.label = pi / # of pi not in c\n",
        "\n",
        "If for a pi there is no c:\n",
        "Precision/Recall = 0\n",
        "\n",
        "Mis-integration:\n",
        "For every cluster, count the number of dif PI IDs assigned to cluster.\n",
        "\n",
        "Mis-Separation:\n",
        "For every PI ID, count the number of dif clusters it is assigned to.\n",
        "'''"
      ]
    }
  ]
}