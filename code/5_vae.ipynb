{
 "cells": [
  {
   "cell_type": "markdown",
   "metadata": {},
   "source": [
    "# VAE"
   ]
  },
  {
   "cell_type": "code",
   "execution_count": 1,
   "metadata": {
    "tags": []
   },
   "outputs": [],
   "source": [
    "from __future__ import print_function\n",
    "import argparse\n",
    "import torch\n",
    "import torch.utils.data\n",
    "from torch import nn, optim\n",
    "from torch.nn import functional as F\n",
    "from torchvision import datasets, transforms\n",
    "from torchvision.utils import save_image\n",
    "import pandas as pd\n",
    "import utils\n",
    "from utils import PROJECT_ROOT, DATA_PATH\n",
    "import yuval_module.paper_source as PaperSource\n",
    "%load_ext autoreload\n",
    "%autoreload 2"
   ]
  },
  {
   "cell_type": "code",
   "execution_count": 2,
   "metadata": {},
   "outputs": [],
   "source": [
    "#sttings\n",
    "batch_size= 8\n",
    "epochs= 2\n",
    "cuda= torch.cuda.is_available()\n",
    "seed= 42\n",
    "log_interval= 10\n",
    "num_workers= 2"
   ]
  },
  {
   "cell_type": "code",
   "execution_count": 3,
   "metadata": {},
   "outputs": [
    {
     "output_type": "execute_result",
     "data": {
      "text/plain": "device(type='cpu')"
     },
     "metadata": {},
     "execution_count": 3
    }
   ],
   "source": [
    "#check for cuda\n",
    "device = torch.device('cuda' if cuda else 'cpu')\n",
    "device"
   ]
  },
  {
   "cell_type": "code",
   "execution_count": 4,
   "metadata": {},
   "outputs": [
    {
     "output_type": "execute_result",
     "data": {
      "text/plain": "<torch._C.Generator at 0x126a49550>"
     },
     "metadata": {},
     "execution_count": 4
    }
   ],
   "source": [
    "torch.manual_seed(seed)\n"
   ]
  },
  {
   "cell_type": "code",
   "execution_count": 5,
   "metadata": {},
   "outputs": [],
   "source": [
    "kwargs = {'num_workers': 1, 'pin_memory': True} if cuda else {}"
   ]
  },
  {
   "cell_type": "code",
   "execution_count": 6,
   "metadata": {},
   "outputs": [],
   "source": [
    "from torch.utils.data import Dataset, DataLoader"
   ]
  },
  {
   "cell_type": "code",
   "execution_count": 7,
   "metadata": {},
   "outputs": [],
   "source": [
    "import py_4.get_mesh_vec as get_mesh_vec"
   ]
  },
  {
   "cell_type": "code",
   "execution_count": 8,
   "metadata": {},
   "outputs": [],
   "source": [
    "mesh_embed=get_mesh_vec.MeshEmbeddings()"
   ]
  },
  {
   "cell_type": "code",
   "execution_count": 9,
   "metadata": {
    "tags": []
   },
   "outputs": [
    {
     "output_type": "stream",
     "name": "stdout",
     "text": "READING FROM LOCAL\nFILE PULLED\n"
    }
   ],
   "source": [
    "FILE = \"enriched_labeled_dataset_large.json\" \n",
    "if os.path.exists(PROJECT_ROOT + DATA_PATH + FILE):\n",
    "    print(\"READING FROM LOCAL\")\n",
    "    if FILE.split(\".\")[1] == \"json\":\n",
    "        df = pd.read_json(PROJECT_ROOT + DATA_PATH + FILE)\n",
    "    else:\n",
    "        df = pd.read_csv(PROJECT_ROOT + DATA_PATH + FILE)\n",
    "    #ps = PaperSource()\n",
    "else:\n",
    "    print(\"PULLING FROM S3\")\n",
    "    ps = sim_matrix_3.load_dataset(\"enriched_labeled_dataset\")\n",
    "    df = ps.get_dataset()\n",
    "\n",
    "df.drop(columns=[\"last_author_country\"],inplace=True)\n",
    "df.rename(columns={'ORG_STATE':'last_author_country'},inplace=True)\n",
    "\n",
    "print(\"FILE PULLED\")"
   ]
  },
  {
   "cell_type": "code",
   "execution_count": 11,
   "metadata": {
    "tags": []
   },
   "outputs": [
    {
     "output_type": "stream",
     "name": "stdout",
     "text": "MESH NAME NOT FOUND: Male\nMESH NAME NOT FOUND: Female\nMESH NAME NOT FOUND: Female\nMESH NAME NOT FOUND: Male\nMESH NAME NOT FOUND: Male\nMESH NAME NOT FOUND: Male\nMESH NAME NOT FOUND: Male\nMESH NAME NOT FOUND: Male\nMESH NAME NOT FOUND: Female\nMESH NAME NOT FOUND: Male\nMESH NAME NOT FOUND: Male\nMESH NAME NOT FOUND: Female\nMESH NAME NOT FOUND: Male\nMESH NAME NOT FOUND: Male\nMESH NAME NOT FOUND: Female\nMESH NAME NOT FOUND: Male\nMESH NAME NOT FOUND: Male\n"
    },
    {
     "output_type": "execute_result",
     "data": {
      "text/plain": "(20, 64)"
     },
     "metadata": {},
     "execution_count": 11
    }
   ],
   "source": [
    "mesh_embed.get_feat_mesh(df[:20].mesh.to_list()).shape"
   ]
  },
  {
   "cell_type": "code",
   "execution_count": 12,
   "metadata": {},
   "outputs": [],
   "source": [
    "selection=['8352708','6913641']\n",
    "PI_lst=df.PI_IDS[df.PI_IDS.isin(selection)].to_list()"
   ]
  },
  {
   "cell_type": "code",
   "execution_count": 13,
   "metadata": {},
   "outputs": [],
   "source": [
    "class ToyDS(Dataset):\n",
    "    def __init__(self,df):\n",
    "        super().__init__()\n",
    "        self.df = mesh_embed.get_feat_mesh(df[:1000].mesh.to_list())\n",
    "        #self.df = mesh_embed.get_feat_mesh(df[df.PI_IDS.isin(selection)].mesh.to_list()) \n",
    "\n",
    "        \n",
    " \n",
    "    def __len__(self):\n",
    "        return self.df.shape[0]\n",
    "    \n",
    "    def __getitem__(self, idx):\n",
    "        features= self.df[idx]\n",
    "        return features, features"
   ]
  },
  {
   "cell_type": "code",
   "execution_count": 14,
   "metadata": {
    "tags": []
   },
   "outputs": [
    {
     "output_type": "stream",
     "name": "stdout",
     "text": "MESH NAME NOT FOUND: Male\nMESH NAME NOT FOUND: Female\nMESH NAME NOT FOUND: Female\nMESH NAME NOT FOUND: Male\nMESH NAME NOT FOUND: Male\nMESH NAME NOT FOUND: Male\nMESH NAME NOT FOUND: Male\nMESH NAME NOT FOUND: Male\nMESH NAME NOT FOUND: Female\nMESH NAME NOT FOUND: Male\nMESH NAME NOT FOUND: Male\nMESH NAME NOT FOUND: Female\nMESH NAME NOT FOUND: Male\nMESH NAME NOT FOUND: Male\nMESH NAME NOT FOUND: Female\nMESH NAME NOT FOUND: Male\nMESH NAME NOT FOUND: Male\nMESH NAME NOT FOUND: Male\nMESH NAME NOT FOUND: Female\nMESH NAME NOT FOUND: Male\nMESH NAME NOT FOUND: Female\nMESH NAME NOT FOUND: Male\nMESH NAME NOT FOUND: Female\nMESH NAME NOT FOUND: Male\nMESH NAME NOT FOUND: Female\nMESH NAME NOT FOUND: Male\nMESH NAME NOT FOUND: Female\nMESH NAME NOT FOUND: Male\nMESH NAME NOT FOUND: Female\nMESH NAME NOT FOUND: Male\nMESH NAME NOT FOUND: Female\nMESH NAME NOT FOUND: Male\nMESH NAME NOT FOUND: Female\nMESH NAME NOT FOUND: Male\nMESH NAME NOT FOUND: Female\nMESH NAME NOT FOUND: Male\nMESH NAME NOT FOUND: Female\nMESH NAME NOT FOUND: Male\nMESH NAME NOT FOUND: Female\nMESH NAME NOT FOUND: Male\nMESH NAME NOT FOUND: Female\nMESH NAME NOT FOUND: Male\nMESH NAME NOT FOUND: Female\nMESH NAME NOT FOUND: Male\nMESH NAME NOT FOUND: Female\nMESH NAME NOT FOUND: Male\nMESH NAME NOT FOUND: Female\nMESH NAME NOT FOUND: Male\nMESH NAME NOT FOUND: Female\nMESH NAME NOT FOUND: Female\nMESH NAME NOT FOUND: Female\nMESH NAME NOT FOUND: Male\nMESH NAME NOT FOUND: Female\nMESH NAME NOT FOUND: Female\nMESH NAME NOT FOUND: Female\nMESH NAME NOT FOUND: Female\nMESH NAME NOT FOUND: Female\nMESH NAME NOT FOUND: Female\nMESH NAME NOT FOUND: Female\nMESH NAME NOT FOUND: Female\nMESH NAME NOT FOUND: Female\nMESH NAME NOT FOUND: Female\nMESH NAME NOT FOUND: Male\nMESH NAME NOT FOUND: Male\nMESH NAME NOT FOUND: Female\nMESH NAME NOT FOUND: Male\nMESH NAME NOT FOUND: Female\nMESH NAME NOT FOUND: Male\nMESH NAME NOT FOUND: Female\nMESH NAME NOT FOUND: Female\nMESH NAME NOT FOUND: Male\nMESH NAME NOT FOUND: Female\nMESH NAME NOT FOUND: Female\nMESH NAME NOT FOUND: Female\nMESH NAME NOT FOUND: Male\nMESH NAME NOT FOUND: Male\nMESH NAME NOT FOUND: Female\nMESH NAME NOT FOUND: Male\nMESH NAME NOT FOUND: Female\nMESH NAME NOT FOUND: Male\nMESH NAME NOT FOUND: Female\nMESH NAME NOT FOUND: Male\nMESH NAME NOT FOUND: Female\nMESH NAME NOT FOUND: Male\nMESH NAME NOT FOUND: Male\nMESH NAME NOT FOUND: Male\nMESH NAME NOT FOUND: Female\nMESH NAME NOT FOUND: Male\nMESH NAME NOT FOUND: Female\nMESH NAME NOT FOUND: Male\nMESH NAME NOT FOUND: Female\nMESH NAME NOT FOUND: Male\nMESH NAME NOT FOUND: Female\nMESH NAME NOT FOUND: Male\nMESH NAME NOT FOUND: Female\nMESH NAME NOT FOUND: Male\nMESH NAME NOT FOUND: Female\nMESH NAME NOT FOUND: Female\nMESH NAME NOT FOUND: Male\nMESH NAME NOT FOUND: Female\nMESH NAME NOT FOUND: Female\nMESH NAME NOT FOUND: Male\nMESH NAME NOT FOUND: Female\nMESH NAME NOT FOUND: Male\nMESH NAME NOT FOUND: Female\nMESH NAME NOT FOUND: Male\nMESH NAME NOT FOUND: Female\nMESH NAME NOT FOUND: Female\nMESH NAME NOT FOUND: Male\nMESH NAME NOT FOUND: Female\nMESH NAME NOT FOUND: Male\nMESH NAME NOT FOUND: Female\nMESH NAME NOT FOUND: Male\nMESH NAME NOT FOUND: Female\nMESH NAME NOT FOUND: Male\nMESH NAME NOT FOUND: Female\nMESH NAME NOT FOUND: Male\nMESH NAME NOT FOUND: Female\nMESH NAME NOT FOUND: Male\nMESH NAME NOT FOUND: Female\nMESH NAME NOT FOUND: Male\nMESH NAME NOT FOUND: Female\nMESH NAME NOT FOUND: Male\nMESH NAME NOT FOUND: Female\nMESH NAME NOT FOUND: Male\nMESH NAME NOT FOUND: Female\nMESH NAME NOT FOUND: Male\nMESH NAME NOT FOUND: Female\nMESH NAME NOT FOUND: Male\nMESH NAME NOT FOUND: Female\nMESH NAME NOT FOUND: Male\nMESH NAME NOT FOUND: Female\nMESH NAME NOT FOUND: Male\nMESH NAME NOT FOUND: Female\nMESH NAME NOT FOUND: Male\nMESH NAME NOT FOUND: Female\nMESH NAME NOT FOUND: Male\nMESH NAME NOT FOUND: Female\nMESH NAME NOT FOUND: Female\nMESH NAME NOT FOUND: Female\nMESH NAME NOT FOUND: Female\nMESH NAME NOT FOUND: Female\nMESH NAME NOT FOUND: Female\nMESH NAME NOT FOUND: Female\nMESH NAME NOT FOUND: Female\nMESH NAME NOT FOUND: Female\nMESH NAME NOT FOUND: Female\nMESH NAME NOT FOUND: Female\nMESH NAME NOT FOUND: Female\nMESH NAME NOT FOUND: Female\nMESH NAME NOT FOUND: Female\nMESH NAME NOT FOUND: Female\nMESH NAME NOT FOUND: Female\nMESH NAME NOT FOUND: Female\nMESH NAME NOT FOUND: Female\nMESH NAME NOT FOUND: Female\nMESH NAME NOT FOUND: Female\nMESH NAME NOT FOUND: Female\nMESH NAME NOT FOUND: Female\nMESH NAME NOT FOUND: Female\nMESH NAME NOT FOUND: Female\nMESH NAME NOT FOUND: Female\nMESH NAME NOT FOUND: Female\nMESH NAME NOT FOUND: Female\nMESH NAME NOT FOUND: Female\nMESH NAME NOT FOUND: Female\nMESH NAME NOT FOUND: Female\nMESH NAME NOT FOUND: Female\nMESH NAME NOT FOUND: Female\nMESH NAME NOT FOUND: Female\nMESH NAME NOT FOUND: Female\nMESH NAME NOT FOUND: Female\nMESH NAME NOT FOUND: Male\nMESH NAME NOT FOUND: Female\nMESH NAME NOT FOUND: Female\nMESH NAME NOT FOUND: Female\nMESH NAME NOT FOUND: Female\nMESH NAME NOT FOUND: Female\nMESH NAME NOT FOUND: Male\nMESH NAME NOT FOUND: Female\nMESH NAME NOT FOUND: Male\nMESH NAME NOT FOUND: Female\nMESH NAME NOT FOUND: Male\nMESH NAME NOT FOUND: Female\nMESH NAME NOT FOUND: Male\nMESH NAME NOT FOUND: Female\nMESH NAME NOT FOUND: Male\nMESH NAME NOT FOUND: Female\nMESH NAME NOT FOUND: Male\nMESH NAME NOT FOUND: Female\nMESH NAME NOT FOUND: Male\nMESH NAME NOT FOUND: Female\nMESH NAME NOT FOUND: Male\nMESH NAME NOT FOUND: Female\nMESH NAME NOT FOUND: Male\nMESH NAME NOT FOUND: Female\nMESH NAME NOT FOUND: Male\nMESH NAME NOT FOUND: Female\nMESH NAME NOT FOUND: Male\nMESH NAME NOT FOUND: Female\nMESH NAME NOT FOUND: Male\nMESH NAME NOT FOUND: Female\nMESH NAME NOT FOUND: Male\nMESH NAME NOT FOUND: Female\nMESH NAME NOT FOUND: Male\nMESH NAME NOT FOUND: Female\nMESH NAME NOT FOUND: Female\nMESH NAME NOT FOUND: Female\nMESH NAME NOT FOUND: Female\nMESH NAME NOT FOUND: Female\nMESH NAME NOT FOUND: Female\nMESH NAME NOT FOUND: Female\nMESH NAME NOT FOUND: Female\nMESH NAME NOT FOUND: Male\nMESH NAME NOT FOUND: Female\nMESH NAME NOT FOUND: Male\nMESH NAME NOT FOUND: Female\nMESH NAME NOT FOUND: Male\nMESH NAME NOT FOUND: Female\nMESH NAME NOT FOUND: Female\nMESH NAME NOT FOUND: Male\nMESH NAME NOT FOUND: Female\nMESH NAME NOT FOUND: Male\nMESH NAME NOT FOUND: Female\nMESH NAME NOT FOUND: Male\nMESH NAME NOT FOUND: Female\nMESH NAME NOT FOUND: Female\nMESH NAME NOT FOUND: Female\nMESH NAME NOT FOUND: Female\nMESH NAME NOT FOUND: Female\nMESH NAME NOT FOUND: Female\nMESH NAME NOT FOUND: Female\nMESH NAME NOT FOUND: Female\nMESH NAME NOT FOUND: Female\nMESH NAME NOT FOUND: Female\nMESH NAME NOT FOUND: Female\nMESH NAME NOT FOUND: Female\nMESH NAME NOT FOUND: Female\nMESH NAME NOT FOUND: Female\nMESH NAME NOT FOUND: Male\nMESH NAME NOT FOUND: Male\nMESH NAME NOT FOUND: Female\nMESH NAME NOT FOUND: Female\nMESH NAME NOT FOUND: Male\nMESH NAME NOT FOUND: Female\nMESH NAME NOT FOUND: Male\nMESH NAME NOT FOUND: Female\nMESH NAME NOT FOUND: Male\nMESH NAME NOT FOUND: Female\nMESH NAME NOT FOUND: Male\nMESH NAME NOT FOUND: Female\nMESH NAME NOT FOUND: Female\nMESH NAME NOT FOUND: Male\nMESH NAME NOT FOUND: Female\nMESH NAME NOT FOUND: Male\nMESH NAME NOT FOUND: Female\nMESH NAME NOT FOUND: Female\nMESH NAME NOT FOUND: Male\nMESH NAME NOT FOUND: Female\nMESH NAME NOT FOUND: Male\nMESH NAME NOT FOUND: Female\nMESH NAME NOT FOUND: Male\nMESH NAME NOT FOUND: Female\nMESH NAME NOT FOUND: Male\nMESH NAME NOT FOUND: Female\nMESH NAME NOT FOUND: Male\nMESH NAME NOT FOUND: Female\nMESH NAME NOT FOUND: Male\nMESH NAME NOT FOUND: Female\nMESH NAME NOT FOUND: Male\nMESH NAME NOT FOUND: Female\nMESH NAME NOT FOUND: Male\nMESH NAME NOT FOUND: Female\nMESH NAME NOT FOUND: Male\nMESH NAME NOT FOUND: Female\nMESH NAME NOT FOUND: Male\nMESH NAME NOT FOUND: Female\nMESH NAME NOT FOUND: Male\nMESH NAME NOT FOUND: Female\nMESH NAME NOT FOUND: Male\nMESH NAME NOT FOUND: Male\nMESH NAME NOT FOUND: Male\nMESH NAME NOT FOUND: Male\nMESH NAME NOT FOUND: Female\nMESH NAME NOT FOUND: Male\nMESH NAME NOT FOUND: Female\nMESH NAME NOT FOUND: Male\nMESH NAME NOT FOUND: Female\nMESH NAME NOT FOUND: Male\nMESH NAME NOT FOUND: Male\nMESH NAME NOT FOUND: Male\nMESH NAME NOT FOUND: Female\nMESH NAME NOT FOUND: Male\nMESH NAME NOT FOUND: Female\nMESH NAME NOT FOUND: Male\nMESH NAME NOT FOUND: Male\nMESH NAME NOT FOUND: Female\nMESH NAME NOT FOUND: Male\nMESH NAME NOT FOUND: Male\nMESH NAME NOT FOUND: Female\nMESH NAME NOT FOUND: Male\nMESH NAME NOT FOUND: Female\nMESH NAME NOT FOUND: Female\nMESH NAME NOT FOUND: Male\nMESH NAME NOT FOUND: Female\nMESH NAME NOT FOUND: Male\nMESH NAME NOT FOUND: Female\nMESH NAME NOT FOUND: Female\nMESH NAME NOT FOUND: Male\nMESH NAME NOT FOUND: Female\nMESH NAME NOT FOUND: Female\nMESH NAME NOT FOUND: Female\nMESH NAME NOT FOUND: Female\nMESH NAME NOT FOUND: Female\nMESH NAME NOT FOUND: Female\nMESH NAME NOT FOUND: Female\nMESH NAME NOT FOUND: Female\nMESH NAME NOT FOUND: Female\nMESH NAME NOT FOUND: Male\nMESH NAME NOT FOUND: Female\nMESH NAME NOT FOUND: Male\nMESH NAME NOT FOUND: Female\nMESH NAME NOT FOUND: Male\nMESH NAME NOT FOUND: Female\nMESH NAME NOT FOUND: Male\nMESH NAME NOT FOUND: Chlorocebus aethiops\nMESH NAME NOT FOUND: Female\nMESH NAME NOT FOUND: Male\nMESH NAME NOT FOUND: Female\nMESH NAME NOT FOUND: Male\nMESH NAME NOT FOUND: Female\nMESH NAME NOT FOUND: Male\nMESH NAME NOT FOUND: Male\nMESH NAME NOT FOUND: Female\nMESH NAME NOT FOUND: Male\nMESH NAME NOT FOUND: Female\nMESH NAME NOT FOUND: Male\nMESH NAME NOT FOUND: Female\nMESH NAME NOT FOUND: Female\nMESH NAME NOT FOUND: Female\nMESH NAME NOT FOUND: Female\nMESH NAME NOT FOUND: Male\nMESH NAME NOT FOUND: Female\nMESH NAME NOT FOUND: Female\nMESH NAME NOT FOUND: Female\nMESH NAME NOT FOUND: Male\nMESH NAME NOT FOUND: Female\nMESH NAME NOT FOUND: Male\nMESH NAME NOT FOUND: Female\nMESH NAME NOT FOUND: Male\nMESH NAME NOT FOUND: Female\nMESH NAME NOT FOUND: Male\nMESH NAME NOT FOUND: Female\nMESH NAME NOT FOUND: Male\nMESH NAME NOT FOUND: Female\nMESH NAME NOT FOUND: Male\nMESH NAME NOT FOUND: Female\nMESH NAME NOT FOUND: Male\nMESH NAME NOT FOUND: Female\nMESH NAME NOT FOUND: Male\nMESH NAME NOT FOUND: Male\nMESH NAME NOT FOUND: Female\nMESH NAME NOT FOUND: Male\nMESH NAME NOT FOUND: Female\nMESH NAME NOT FOUND: Male\nMESH NAME NOT FOUND: Female\nMESH NAME NOT FOUND: Male\nMESH NAME NOT FOUND: Female\nMESH NAME NOT FOUND: Male\nMESH NAME NOT FOUND: Male\nMESH NAME NOT FOUND: Female\nMESH NAME NOT FOUND: Male\nMESH NAME NOT FOUND: Female\nMESH NAME NOT FOUND: Female\nMESH NAME NOT FOUND: Male\nMESH NAME NOT FOUND: Female\nMESH NAME NOT FOUND: Male\nMESH NAME NOT FOUND: Female\nMESH NAME NOT FOUND: Male\nMESH NAME NOT FOUND: Female\nMESH NAME NOT FOUND: Male\nMESH NAME NOT FOUND: Female\nMESH NAME NOT FOUND: Male\nMESH NAME NOT FOUND: Female\nMESH NAME NOT FOUND: Female\nMESH NAME NOT FOUND: Male\nMESH NAME NOT FOUND: Female\nMESH NAME NOT FOUND: Male\nMESH NAME NOT FOUND: Male\nMESH NAME NOT FOUND: Female\nMESH NAME NOT FOUND: Male\nMESH NAME NOT FOUND: Male\nMESH NAME NOT FOUND: Male\nMESH NAME NOT FOUND: Female\nMESH NAME NOT FOUND: Female\nMESH NAME NOT FOUND: Male\nMESH NAME NOT FOUND: Female\nMESH NAME NOT FOUND: Male\nMESH NAME NOT FOUND: Female\nMESH NAME NOT FOUND: Female\nMESH NAME NOT FOUND: Male\nMESH NAME NOT FOUND: Female\nMESH NAME NOT FOUND: Female\nMESH NAME NOT FOUND: Male\nMESH NAME NOT FOUND: Female\nMESH NAME NOT FOUND: Male\nMESH NAME NOT FOUND: Female\nMESH NAME NOT FOUND: Male\nMESH NAME NOT FOUND: Female\nMESH NAME NOT FOUND: Male\nMESH NAME NOT FOUND: Female\nMESH NAME NOT FOUND: Male\nMESH NAME NOT FOUND: Female\nMESH NAME NOT FOUND: Male\nMESH NAME NOT FOUND: Female\nMESH NAME NOT FOUND: Male\nMESH NAME NOT FOUND: Male\nMESH NAME NOT FOUND: Female\nMESH NAME NOT FOUND: Male\nMESH NAME NOT FOUND: Female\nMESH NAME NOT FOUND: Male\nMESH NAME NOT FOUND: Female\nMESH NAME NOT FOUND: Male\nMESH NAME NOT FOUND: Female\nMESH NAME NOT FOUND: Male\nMESH NAME NOT FOUND: Female\nMESH NAME NOT FOUND: Male\nMESH NAME NOT FOUND: Female\nMESH NAME NOT FOUND: Male\nMESH NAME NOT FOUND: Female\nMESH NAME NOT FOUND: Male\nMESH NAME NOT FOUND: Female\nMESH NAME NOT FOUND: Male\nMESH NAME NOT FOUND: Female\nMESH NAME NOT FOUND: Male\nMESH NAME NOT FOUND: Female\nMESH NAME NOT FOUND: Male\nMESH NAME NOT FOUND: Female\nMESH NAME NOT FOUND: Male\nMESH NAME NOT FOUND: Female\nMESH NAME NOT FOUND: Male\nMESH NAME NOT FOUND: Female\nMESH NAME NOT FOUND: Female\nMESH NAME NOT FOUND: Male\nMESH NAME NOT FOUND: Female\nMESH NAME NOT FOUND: Female\nMESH NAME NOT FOUND: Male\nMESH NAME NOT FOUND: Female\nMESH NAME NOT FOUND: Male\nMESH NAME NOT FOUND: Female\nMESH NAME NOT FOUND: Male\nMESH NAME NOT FOUND: Male\nMESH NAME NOT FOUND: Female\nMESH NAME NOT FOUND: Female\nMESH NAME NOT FOUND: Female\nMESH NAME NOT FOUND: Male\nMESH NAME NOT FOUND: Female\nMESH NAME NOT FOUND: Male\nMESH NAME NOT FOUND: Male\nMESH NAME NOT FOUND: Female\nMESH NAME NOT FOUND: Female\nMESH NAME NOT FOUND: Male\nMESH NAME NOT FOUND: Female\nMESH NAME NOT FOUND: Male\nMESH NAME NOT FOUND: Female\nMESH NAME NOT FOUND: Male\nMESH NAME NOT FOUND: Male\nMESH NAME NOT FOUND: Male\nMESH NAME NOT FOUND: Male\nMESH NAME NOT FOUND: Female\nMESH NAME NOT FOUND: Male\nMESH NAME NOT FOUND: Female\nMESH NAME NOT FOUND: Female\nMESH NAME NOT FOUND: Male\nMESH NAME NOT FOUND: Female\nMESH NAME NOT FOUND: Male\nMESH NAME NOT FOUND: Female\nMESH NAME NOT FOUND: Male\nMESH NAME NOT FOUND: Female\nMESH NAME NOT FOUND: Male\nMESH NAME NOT FOUND: Female\nMESH NAME NOT FOUND: Male\nMESH NAME NOT FOUND: Female\nMESH NAME NOT FOUND: Female\nMESH NAME NOT FOUND: Male\nMESH NAME NOT FOUND: Female\nMESH NAME NOT FOUND: Male\nMESH NAME NOT FOUND: Female\nMESH NAME NOT FOUND: Male\nMESH NAME NOT FOUND: Female\nMESH NAME NOT FOUND: Male\nMESH NAME NOT FOUND: Female\nMESH NAME NOT FOUND: Male\nMESH NAME NOT FOUND: Female\nMESH NAME NOT FOUND: Male\nMESH NAME NOT FOUND: Female\nMESH NAME NOT FOUND: Male\nMESH NAME NOT FOUND: Male\nMESH NAME NOT FOUND: Female\nMESH NAME NOT FOUND: Male\nMESH NAME NOT FOUND: Female\nMESH NAME NOT FOUND: Male\nMESH NAME NOT FOUND: Female\nMESH NAME NOT FOUND: Male\nMESH NAME NOT FOUND: Female\nMESH NAME NOT FOUND: Female\nMESH NAME NOT FOUND: Female\nMESH NAME NOT FOUND: Female\nMESH NAME NOT FOUND: Male\nMESH NAME NOT FOUND: Female\nMESH NAME NOT FOUND: Male\nMESH NAME NOT FOUND: Female\nMESH NAME NOT FOUND: Female\nMESH NAME NOT FOUND: Male\nMESH NAME NOT FOUND: Female\nMESH NAME NOT FOUND: Male\nMESH NAME NOT FOUND: Female\nMESH NAME NOT FOUND: Male\nMESH NAME NOT FOUND: Female\nMESH NAME NOT FOUND: Male\nMESH NAME NOT FOUND: Female\nMESH NAME NOT FOUND: Male\nMESH NAME NOT FOUND: Female\nMESH NAME NOT FOUND: Male\nMESH NAME NOT FOUND: Female\nMESH NAME NOT FOUND: Male\nMESH NAME NOT FOUND: Female\nMESH NAME NOT FOUND: Male\nMESH NAME NOT FOUND: Female\nMESH NAME NOT FOUND: Female\nMESH NAME NOT FOUND: Female\nMESH NAME NOT FOUND: Female\nMESH NAME NOT FOUND: Female\nMESH NAME NOT FOUND: Female\nMESH NAME NOT FOUND: Female\nMESH NAME NOT FOUND: Female\nMESH NAME NOT FOUND: Male\nMESH NAME NOT FOUND: Female\nMESH NAME NOT FOUND: Male\nMESH NAME NOT FOUND: Female\nMESH NAME NOT FOUND: Male\nMESH NAME NOT FOUND: Female\nMESH NAME NOT FOUND: Male\nMESH NAME NOT FOUND: Male\nMESH NAME NOT FOUND: Female\nMESH NAME NOT FOUND: Male\nMESH NAME NOT FOUND: Female\nMESH NAME NOT FOUND: Female\nMESH NAME NOT FOUND: Male\nMESH NAME NOT FOUND: Female\nMESH NAME NOT FOUND: Male\nMESH NAME NOT FOUND: Female\nMESH NAME NOT FOUND: Male\nMESH NAME NOT FOUND: Female\nMESH NAME NOT FOUND: Female\nMESH NAME NOT FOUND: Female\nMESH NAME NOT FOUND: Male\nMESH NAME NOT FOUND: Female\nMESH NAME NOT FOUND: Male\nMESH NAME NOT FOUND: Female\nMESH NAME NOT FOUND: Male\nMESH NAME NOT FOUND: Female\nMESH NAME NOT FOUND: Female\nMESH NAME NOT FOUND: Male\nMESH NAME NOT FOUND: Female\nMESH NAME NOT FOUND: Male\nMESH NAME NOT FOUND: Female\nMESH NAME NOT FOUND: Male\nMESH NAME NOT FOUND: Female\nMESH NAME NOT FOUND: Male\nMESH NAME NOT FOUND: Female\nMESH NAME NOT FOUND: Male\nMESH NAME NOT FOUND: Female\nMESH NAME NOT FOUND: Male\nMESH NAME NOT FOUND: Female\nMESH NAME NOT FOUND: Male\nMESH NAME NOT FOUND: Female\nMESH NAME NOT FOUND: Male\nMESH NAME NOT FOUND: Female\nMESH NAME NOT FOUND: Female\nMESH NAME NOT FOUND: Male\nMESH NAME NOT FOUND: Female\nMESH NAME NOT FOUND: Male\nMESH NAME NOT FOUND: Female\nMESH NAME NOT FOUND: Male\nMESH NAME NOT FOUND: Female\nMESH NAME NOT FOUND: Female\nMESH NAME NOT FOUND: Female\nMESH NAME NOT FOUND: Female\nMESH NAME NOT FOUND: Female\nMESH NAME NOT FOUND: Female\nMESH NAME NOT FOUND: Female\nMESH NAME NOT FOUND: Female\nMESH NAME NOT FOUND: Female\n"
    }
   ],
   "source": [
    "train_set = ToyDS(df)\n",
    "train_loader=DataLoader(dataset= train_set, batch_size = batch_size, shuffle = True, num_workers = num_workers)"
   ]
  },
  {
   "cell_type": "code",
   "execution_count": 15,
   "metadata": {},
   "outputs": [],
   "source": [
    "class VAE(nn.Module):\n",
    "    def __init__(self, input_dim = 64):\n",
    "        super(VAE, self).__init__()\n",
    "        self.input_dim = input_dim\n",
    "        self.fc1 = nn.Linear(self.input_dim, 32)\n",
    "        self.fc21 = nn.Linear(32, 8)\n",
    "        self.fc22 = nn.Linear(32, 8)\n",
    "        self.fc3 = nn.Linear(8, 32)\n",
    "        self.fc4 = nn.Linear(32, self.input_dim)\n",
    "\n",
    "    def encode(self, x):\n",
    "        h1 = F.relu(self.fc1(x))\n",
    "        return self.fc21(h1), self.fc22(h1)\n",
    "\n",
    "    def reparameterize(self, mu, logvar):\n",
    "        std = torch.exp(0.5*logvar)\n",
    "        eps = torch.randn_like(std)\n",
    "        return mu + eps*std\n",
    "\n",
    "    def decode(self, z):\n",
    "        h3 = F.relu(self.fc3(z))\n",
    "        return torch.sigmoid(self.fc4(h3))\n",
    "\n",
    "    def forward(self, x):\n",
    "        mu, logvar = self.encode(x.view(-1, self.input_dim))\n",
    "        z = self.reparameterize(mu, logvar)\n",
    "        return self.decode(z), mu, logvar, z"
   ]
  },
  {
   "cell_type": "code",
   "execution_count": 16,
   "metadata": {},
   "outputs": [],
   "source": [
    "def loss_function(recon_x, x, mu, logvar):\n",
    "    #BCE = F.binary_cross_entropy(recon_x, x.view(-1, 64), reduction='sum')\n",
    "\n",
    "    MSE = F.mse_loss(recon_x, x.view(-1, 64))\n",
    "\n",
    "    # see Appendix B from VAE paper:\n",
    "    # Kingma and Welling. Auto-Encoding Variational Bayes. ICLR, 2014\n",
    "    # https://arxiv.org/abs/1312.6114\n",
    "    # 0.5 * sum(1 + log(sigma^2) - mu^2 - sigma^2)\n",
    "    KLD = -0.5 * torch.sum(1 + logvar - mu.pow(2) - logvar.exp())\n",
    "\n",
    "    return MSE + KLD"
   ]
  },
  {
   "cell_type": "code",
   "execution_count": 18,
   "metadata": {},
   "outputs": [],
   "source": [
    "model = VAE().to(device)\n",
    "optimizer = optim.Adam(model.parameters(), lr=1e-3)\n"
   ]
  },
  {
   "cell_type": "code",
   "execution_count": 19,
   "metadata": {
    "tags": []
   },
   "outputs": [
    {
     "output_type": "stream",
     "name": "stdout",
     "text": "----------------------------------------------------------------\n        Layer (type)               Output Shape         Param #\n================================================================\n            Linear-1                   [-1, 32]           2,080\n            Linear-2                    [-1, 8]             264\n            Linear-3                    [-1, 8]             264\n            Linear-4                   [-1, 32]             288\n            Linear-5                   [-1, 64]           2,112\n================================================================\nTotal params: 5,008\nTrainable params: 5,008\nNon-trainable params: 0\n----------------------------------------------------------------\nInput size (MB): 0.00\nForward/backward pass size (MB): 0.00\nParams size (MB): 0.02\nEstimated Total Size (MB): 0.03\n----------------------------------------------------------------\n"
    }
   ],
   "source": [
    "from torchsummary import summary\n",
    "summary(model, (20,64))"
   ]
  },
  {
   "cell_type": "code",
   "execution_count": 20,
   "metadata": {},
   "outputs": [],
   "source": [
    "import numpy as np"
   ]
  },
  {
   "cell_type": "code",
   "execution_count": 21,
   "metadata": {},
   "outputs": [],
   "source": [
    "def train_epoch(tr_loader, model, criterion, optimizer, num_epochs):\n",
    "    model.train()\n",
    "    train_log = []\n",
    "    \n",
    "    for epoch in range(num_epochs):\n",
    "        bottle_neck=[]\n",
    "        print(\"Started training epoch no. {}\",format(epoch+1))\n",
    "        train_loss= 0\n",
    "        for batch_idx, (data, _) in enumerate(train_loader):\n",
    "            data = data.to(device, dtype=torch.float32)\n",
    "\n",
    "            optimizer.zero_grad()\n",
    "            recon_batch, mu, logvar, z= model(data)\n",
    "            bottle_neck.extend(z.detach().numpy())\n",
    "            loss = criterion(recon_batch, data, mu, logvar)\n",
    "            loss.backward()\n",
    "            train_loss += loss.item()\n",
    "            optimizer.step()\n",
    "            if batch_idx % log_interval == 0:\n",
    "                print('Train Epoch: {} [{}/{} ({:.0f}%)]\\tLoss: {:.6f}'.format(\n",
    "                    epoch, batch_idx * len(data), len(train_loader.dataset),\n",
    "                    100. * batch_idx / len(train_loader),\n",
    "                    loss.item() / len(data)))\n",
    "\n",
    "        print('====> Epoch: {} Average loss: {:.4f}'.format(\n",
    "            epoch, train_loss / len(train_loader.dataset)))\n",
    "        train_log.append({\n",
    "            'epoch': epoch,\n",
    "            'train_loss': train_loss / len(train_loader)})\n",
    "    return train_log, bottle_neck"
   ]
  },
  {
   "cell_type": "code",
   "execution_count": 97,
   "metadata": {},
   "outputs": [],
   "source": [
    "# def test(epoch):\n",
    "#     model.eval()\n",
    "#     test_loss = 0\n",
    "#     with torch.no_grad():\n",
    "#         for i, (data, _) in enumerate(test_loader):\n",
    "#             data = data.to(device)\n",
    "#             recon_batch, mu, logvar = model(data)\n",
    "#             test_loss += loss_function(recon_batch, data, mu, logvar).item()\n",
    "#             if i == 0:\n",
    "#                 n = min(data.size(0), 8)\n",
    "#                 comparison = torch.cat([data[:n],\n",
    "#                                       recon_batch.view(args.batch_size, 1, 28, 28)[:n]])\n",
    "#                 save_image(comparison.cpu(),\n",
    "#                          'results/reconstruction_' + str(epoch) + '.png', nrow=n)\n",
    "\n",
    "#     test_loss /= len(test_loader.dataset)\n",
    "#     print('====> Test set loss: {:.4f}'.format(test_loss))"
   ]
  },
  {
   "cell_type": "code",
   "execution_count": 22,
   "metadata": {
    "tags": []
   },
   "outputs": [
    {
     "output_type": "stream",
     "name": "stdout",
     "text": "Started training epoch no. {} 1\nTrain Epoch: 0 [0/1000 (0%)]\tLoss: 0.120979\nTrain Epoch: 0 [80/1000 (8%)]\tLoss: 0.080456\nTrain Epoch: 0 [160/1000 (16%)]\tLoss: 0.058940\nTrain Epoch: 0 [240/1000 (24%)]\tLoss: 0.054971\nTrain Epoch: 0 [320/1000 (32%)]\tLoss: 0.048100\nTrain Epoch: 0 [400/1000 (40%)]\tLoss: 0.045853\nTrain Epoch: 0 [480/1000 (48%)]\tLoss: 0.037555\nTrain Epoch: 0 [560/1000 (56%)]\tLoss: 0.038593\nTrain Epoch: 0 [640/1000 (64%)]\tLoss: 0.032884\nTrain Epoch: 0 [720/1000 (72%)]\tLoss: 0.026221\nTrain Epoch: 0 [800/1000 (80%)]\tLoss: 0.026353\nTrain Epoch: 0 [880/1000 (88%)]\tLoss: 0.031551\nTrain Epoch: 0 [960/1000 (96%)]\tLoss: 0.043021\n====> Epoch: 0 Average loss: 0.0509\nStarted training epoch no. {} 2\nTrain Epoch: 1 [0/1000 (0%)]\tLoss: 0.027728\nTrain Epoch: 1 [80/1000 (8%)]\tLoss: 0.032831\nTrain Epoch: 1 [160/1000 (16%)]\tLoss: 0.019367\nTrain Epoch: 1 [240/1000 (24%)]\tLoss: 0.021445\nTrain Epoch: 1 [320/1000 (32%)]\tLoss: 0.025428\nTrain Epoch: 1 [400/1000 (40%)]\tLoss: 0.019004\nTrain Epoch: 1 [480/1000 (48%)]\tLoss: 0.038617\nTrain Epoch: 1 [560/1000 (56%)]\tLoss: 0.020778\nTrain Epoch: 1 [640/1000 (64%)]\tLoss: 0.021183\nTrain Epoch: 1 [720/1000 (72%)]\tLoss: 0.017673\nTrain Epoch: 1 [800/1000 (80%)]\tLoss: 0.017148\nTrain Epoch: 1 [880/1000 (88%)]\tLoss: 0.015028\nTrain Epoch: 1 [960/1000 (96%)]\tLoss: 0.016448\n====> Epoch: 1 Average loss: 0.0228\nStarted training epoch no. {} 3\nTrain Epoch: 2 [0/1000 (0%)]\tLoss: 0.012194\nTrain Epoch: 2 [80/1000 (8%)]\tLoss: 0.016090\nTrain Epoch: 2 [160/1000 (16%)]\tLoss: 0.012896\nTrain Epoch: 2 [240/1000 (24%)]\tLoss: 0.011457\nTrain Epoch: 2 [320/1000 (32%)]\tLoss: 0.022257\nTrain Epoch: 2 [400/1000 (40%)]\tLoss: 0.021581\nTrain Epoch: 2 [480/1000 (48%)]\tLoss: 0.020055\nTrain Epoch: 2 [560/1000 (56%)]\tLoss: 0.011070\nTrain Epoch: 2 [640/1000 (64%)]\tLoss: 0.025789\nTrain Epoch: 2 [720/1000 (72%)]\tLoss: 0.015545\nTrain Epoch: 2 [800/1000 (80%)]\tLoss: 0.014661\nTrain Epoch: 2 [880/1000 (88%)]\tLoss: 0.013852\nTrain Epoch: 2 [960/1000 (96%)]\tLoss: 0.015865\n====> Epoch: 2 Average loss: 0.0181\n"
    }
   ],
   "source": [
    "train_log, bottle_neck= train_epoch(train_loader,model,loss_function,optimizer,num_epochs= 3)"
   ]
  },
  {
   "cell_type": "code",
   "execution_count": 23,
   "metadata": {},
   "outputs": [
    {
     "output_type": "execute_result",
     "data": {
      "text/plain": "1000"
     },
     "metadata": {},
     "execution_count": 23
    }
   ],
   "source": [
    "len(bottle_neck)"
   ]
  },
  {
   "cell_type": "markdown",
   "metadata": {},
   "source": [
    "# Test"
   ]
  },
  {
   "cell_type": "code",
   "execution_count": 25,
   "metadata": {
    "tags": []
   },
   "outputs": [
    {
     "output_type": "stream",
     "name": "stdout",
     "text": "MESH NAME NOT FOUND: Male\nMESH NAME NOT FOUND: Female\nMESH NAME NOT FOUND: Female\nMESH NAME NOT FOUND: Male\nMESH NAME NOT FOUND: Male\nMESH NAME NOT FOUND: Male\nMESH NAME NOT FOUND: Male\nMESH NAME NOT FOUND: Male\nMESH NAME NOT FOUND: Female\nMESH NAME NOT FOUND: Male\nMESH NAME NOT FOUND: Male\nMESH NAME NOT FOUND: Female\nMESH NAME NOT FOUND: Male\nMESH NAME NOT FOUND: Male\nMESH NAME NOT FOUND: Female\nMESH NAME NOT FOUND: Male\nMESH NAME NOT FOUND: Male\nMESH NAME NOT FOUND: Male\nMESH NAME NOT FOUND: Male\nMESH NAME NOT FOUND: Female\nMESH NAME NOT FOUND: Female\nMESH NAME NOT FOUND: Male\nMESH NAME NOT FOUND: Female\nMESH NAME NOT FOUND: Male\nMESH NAME NOT FOUND: Female\nMESH NAME NOT FOUND: Female\nMESH NAME NOT FOUND: Male\nMESH NAME NOT FOUND: Male\nMESH NAME NOT FOUND: Female\nMESH NAME NOT FOUND: Male\nMESH NAME NOT FOUND: Female\nMESH NAME NOT FOUND: Male\nMESH NAME NOT FOUND: Female\nMESH NAME NOT FOUND: Male\nMESH NAME NOT FOUND: Female\nMESH NAME NOT FOUND: Male\nMESH NAME NOT FOUND: Male\nMESH NAME NOT FOUND: Female\nMESH NAME NOT FOUND: Female\nMESH NAME NOT FOUND: Female\nMESH NAME NOT FOUND: Female\nMESH NAME NOT FOUND: Male\nMESH NAME NOT FOUND: Female\nMESH NAME NOT FOUND: Male\nMESH NAME NOT FOUND: Male\nMESH NAME NOT FOUND: Female\nMESH NAME NOT FOUND: Male\nMESH NAME NOT FOUND: Female\nMESH NAME NOT FOUND: Female\nMESH NAME NOT FOUND: Male\nMESH NAME NOT FOUND: Female\nMESH NAME NOT FOUND: Male\nMESH NAME NOT FOUND: Male\n"
    }
   ],
   "source": [
    "test_set = ToyDS(df[df.PI_IDS.isin(selection)])\n",
    "test_loader=DataLoader(dataset= test_set, batch_size = batch_size, shuffle = True, num_workers = num_workers)"
   ]
  },
  {
   "cell_type": "code",
   "execution_count": 32,
   "metadata": {},
   "outputs": [],
   "source": [
    "bottle_neck=[]\n",
    "for batch_idx, (data, _) in enumerate(test_loader):\n",
    "            data = data.to(device, dtype=torch.float32)\n",
    "            optimizer.zero_grad()\n",
    "            recon_batch, mu, logvar, z= model(data)\n",
    "            bottle_neck.extend(z.detach().numpy())"
   ]
  },
  {
   "cell_type": "code",
   "execution_count": 33,
   "metadata": {},
   "outputs": [
    {
     "output_type": "execute_result",
     "data": {
      "text/plain": "[array([-0.5125515 , -0.05382395,  0.10804544,  1.1739533 ,  0.6497887 ,\n        -0.2347229 , -0.58228445,  0.29939458], dtype=float32),\n array([-1.200824  , -0.5851066 , -0.25364336,  1.5224606 ,  0.06729561,\n         1.28699   ,  2.2103202 ,  0.07672429], dtype=float32),\n array([ 0.93272686,  0.83364004, -1.0041033 ,  1.7578037 , -0.38320884,\n         0.17935592, -0.11928867,  0.5797328 ], dtype=float32),\n array([ 0.01214548,  0.2743053 , -0.3918953 ,  0.48804986, -0.48327136,\n         0.82464474, -0.3055856 , -1.1534885 ], dtype=float32),\n array([-0.79784185, -1.2829901 , -0.04676429,  0.39982447, -2.392242  ,\n         0.60709727, -1.1558356 ,  0.41436872], dtype=float32),\n array([-1.3568927 ,  0.8612896 , -0.59241295,  0.53968483, -1.8831385 ,\n         1.0379488 , -1.488781  ,  0.186856  ], dtype=float32),\n array([-0.9103072 ,  3.0682812 , -0.1073675 , -0.6314237 , -0.40263504,\n         0.20722799,  0.8580421 , -0.0412149 ], dtype=float32),\n array([-1.093188  ,  0.9909553 , -1.6752555 , -0.45661795,  0.8363973 ,\n        -0.49285752, -1.7205862 ,  1.065922  ], dtype=float32),\n array([-0.48861176, -0.10399264,  1.2015003 ,  0.3650474 ,  1.2269746 ,\n         0.61941   , -1.7062314 ,  1.1004775 ], dtype=float32),\n array([-1.0879798e+00, -4.9022552e-01, -7.7155381e-01,  1.1502992e-03,\n        -3.1873018e-01,  1.4944172e+00, -5.8065349e-01,  9.0012953e-02],\n       dtype=float32),\n array([-0.6005724 , -1.6440034 ,  0.02879843, -0.96400505, -0.35089433,\n        -0.6668703 ,  1.4782097 , -0.5850927 ], dtype=float32),\n array([ 1.5075886 ,  0.6773528 , -1.667266  ,  0.9780527 , -0.20774576,\n         0.63486046,  0.0790167 , -3.0661542 ], dtype=float32),\n array([-0.77984756,  2.0914803 ,  0.0963004 , -0.79431546,  1.0644065 ,\n        -0.68433696,  0.6620798 , -1.68321   ], dtype=float32),\n array([ 0.79350036,  0.24432963,  1.2657166 ,  0.54347867, -0.65421766,\n         0.10861237, -1.463588  ,  0.83280045], dtype=float32),\n array([-0.48826927,  1.4620867 , -0.09685652,  0.94980985, -2.5673497 ,\n        -0.04037825,  0.48440832,  0.48161963], dtype=float32),\n array([-0.9610333 ,  0.87399226, -0.31688955,  0.3126594 , -0.3558902 ,\n         1.4086938 ,  0.491522  ,  1.9585091 ], dtype=float32),\n array([ 1.1871201 ,  0.9932123 ,  1.7523403 , -0.75708616, -0.01297533,\n        -1.0026095 , -1.5016592 , -0.47953933], dtype=float32),\n array([-0.18321976,  1.8415926 ,  0.04887387, -0.40567204,  0.00634686,\n        -0.3207003 ,  0.10418646, -0.9886785 ], dtype=float32),\n array([-5.5919909e-01, -4.7139853e-02,  6.9385511e-01, -7.9467273e-01,\n        -2.0531791e-03,  1.3070959e+00, -6.4764088e-01,  2.4657223e+00],\n       dtype=float32),\n array([-1.5931    , -1.9747666 , -0.60010767,  0.19763432,  0.38333595,\n        -0.65626186,  0.77571934, -0.33218002], dtype=float32),\n array([-0.41287088,  0.41668752,  1.590147  , -1.1726841 , -1.0368928 ,\n         0.5595717 , -0.71382654, -1.5311366 ], dtype=float32),\n array([0.01595249, 0.04815698, 0.8451401 , 0.97283554, 1.3663378 ,\n        0.52747345, 0.39181182, 0.59231645], dtype=float32),\n array([-0.19274604, -0.5560695 ,  0.6392689 , -0.9166941 , -1.9882898 ,\n         0.5170182 ,  1.6867493 , -0.7119717 ], dtype=float32),\n array([ 1.4292927 ,  0.6215286 ,  0.3241714 , -0.6085866 ,  0.14503253,\n         0.51417184, -1.4880323 ,  2.4082804 ], dtype=float32),\n array([ 0.5295584 , -0.07021822, -0.40787137, -1.160005  , -0.32330522,\n        -0.6615135 ,  0.2734514 , -1.4286865 ], dtype=float32),\n array([ 0.14537111, -1.4322535 , -2.0033243 , -0.18820071, -0.9669504 ,\n        -0.850186  , -0.7758798 , -0.7134487 ], dtype=float32),\n array([-0.8551508 , -0.0493865 , -0.24043342,  0.01629338,  0.00292412,\n         1.1798508 , -0.44320127,  1.1534051 ], dtype=float32),\n array([-0.7746636 , -0.02065811, -1.5814158 ,  1.5038228 , -1.3374281 ,\n         0.19575943,  1.7833701 , -0.38454896], dtype=float32),\n array([-1.7927406 , -0.6296048 , -0.34730962, -1.7568846 ,  0.9570167 ,\n        -1.2798996 ,  0.6130129 ,  0.35198352], dtype=float32),\n array([-0.32949704, -0.03394724, -0.88671225, -0.36123607,  1.8425286 ,\n         1.1586802 ,  0.34855837, -1.4732555 ], dtype=float32),\n array([-0.24465397,  0.04516105,  1.8996799 , -0.04708924, -1.3805109 ,\n         2.7157927 ,  1.5065178 ,  0.1583146 ], dtype=float32),\n array([ 0.62030286, -0.3196171 ,  0.63544756, -0.27824742,  0.41857237,\n         0.9480652 ,  0.64499843,  0.30263636], dtype=float32),\n array([-0.78761315,  0.36036056, -1.1461806 ,  0.17469211, -0.27039295,\n        -0.7926651 , -1.2149433 ,  0.07930771], dtype=float32),\n array([ 0.02639504, -0.82781667,  0.57242864,  0.7450939 , -0.63536096,\n        -1.7023666 , -0.30831245,  0.2801109 ], dtype=float32),\n array([ 1.2511137e+00,  2.6534715e-01,  2.3650699e+00,  3.1460401e-01,\n         1.7388235e-03,  1.6203506e+00, -1.1805849e+00, -4.1096216e-01],\n       dtype=float32),\n array([ 0.7140431 ,  0.6096899 ,  0.81962454, -0.38153738,  1.2355264 ,\n         0.9472435 ,  1.2530035 , -0.33356634], dtype=float32),\n array([ 0.86615527, -0.9612377 ,  0.3768521 ,  0.2691535 , -1.0473415 ,\n         0.5707123 , -2.7742364 , -0.92756087], dtype=float32),\n array([ 2.0343218 ,  1.0880203 , -0.4404214 ,  0.17191851, -0.8895402 ,\n        -1.1411885 ,  0.89488536, -0.3154889 ], dtype=float32),\n array([-1.4446429 , -0.05884723,  0.5799938 ,  3.1697364 , -0.3169422 ,\n        -0.10908335,  2.7194343 , -0.25230002], dtype=float32),\n array([ 0.85006374, -2.1689577 ,  0.65035075, -0.36299092, -0.7825109 ,\n         1.0478349 , -0.33267322, -0.47024047], dtype=float32),\n array([ 0.44025433,  3.1128259 ,  0.34089467,  0.8533319 ,  0.15619168,\n        -1.0714905 ,  0.73837173, -0.03731758], dtype=float32),\n array([-0.8695828 , -1.0867543 ,  0.5894794 ,  1.405608  ,  0.19382197,\n        -0.8359986 , -1.2547195 ,  0.9378135 ], dtype=float32),\n array([ 0.6584826 ,  0.40533155, -1.8137082 ,  0.8582145 , -0.10123784,\n         0.31230617,  1.5189248 , -0.6707559 ], dtype=float32),\n array([-1.8921076 ,  0.51268524,  0.69812375, -1.7083141 , -0.05576121,\n        -0.36300638,  0.40668607,  0.42441508], dtype=float32),\n array([ 0.59982014,  1.4008958 ,  0.62258035,  0.68099916, -0.81204796,\n        -0.00538213, -0.01690134, -0.8773053 ], dtype=float32),\n array([-0.31214046,  0.9986104 , -1.3865768 , -0.11834635, -1.0111642 ,\n        -1.0077403 ,  0.23138313, -1.3390874 ], dtype=float32),\n array([ 2.2745538 ,  0.25269246, -0.16453698,  0.10467555, -0.16632101,\n        -0.62663937, -1.5832233 ,  1.3150734 ], dtype=float32),\n array([ 0.4090265 ,  0.41931295, -0.7396839 , -1.0828816 ,  1.6058787 ,\n        -0.26349068, -1.4652929 , -0.46089047], dtype=float32),\n array([ 0.6450935 ,  0.2676569 , -0.67596686, -0.69873863,  0.34859467,\n        -0.5588231 , -0.4100753 , -0.16687351], dtype=float32),\n array([-0.06887171, -0.5558068 , -1.6050307 ,  1.3987542 , -1.3407707 ,\n         0.3756582 ,  0.14241493,  0.25653785], dtype=float32),\n array([ 0.02458507, -0.21309419, -0.37173727, -1.1327889 , -0.16577479,\n         1.2818855 , -0.6335554 , -1.8181317 ], dtype=float32),\n array([-0.7227233 ,  1.3222418 , -0.41258737,  0.51263005,  1.3364737 ,\n        -0.2154137 ,  0.8357269 ,  1.3392907 ], dtype=float32),\n array([-0.8007246 , -0.16345714, -0.96017915, -1.4980081 , -0.19528176,\n         0.00859686, -0.16303357,  2.3804379 ], dtype=float32),\n array([-0.05601253,  0.6618412 ,  2.041775  , -0.9177666 , -1.9188179 ,\n        -1.4462154 ,  1.0052326 , -0.8664421 ], dtype=float32),\n array([-0.787225  ,  0.23155567, -0.6989148 , -0.665551  ,  0.24148157,\n         0.14497945,  0.646062  ,  0.98414844], dtype=float32),\n array([-0.3782889 ,  0.44171417, -1.8077854 ,  0.46565714,  0.6397187 ,\n        -1.49622   ,  1.0021636 , -0.9321967 ], dtype=float32),\n array([ 0.36551932, -0.20328657,  0.17060947, -0.38085613, -1.8991607 ,\n         0.7874    ,  1.7195393 , -0.2266959 ], dtype=float32),\n array([-1.5243877 ,  0.93057775,  0.15115733, -1.1469054 ,  2.9376001 ,\n        -1.3278176 , -1.0801579 , -0.40558717], dtype=float32),\n array([ 2.015046  ,  0.09457307, -1.4235005 , -0.15562885,  0.7639539 ,\n         0.3964335 ,  0.1959559 ,  1.2312618 ], dtype=float32),\n array([-1.0982132 ,  1.8485103 ,  0.073136  ,  0.5606382 ,  0.03035965,\n         0.23275651, -0.3441748 ,  1.7296373 ], dtype=float32),\n array([ 0.6179557 , -1.4243087 , -0.29270846,  1.0700907 ,  0.13155073,\n        -0.1579021 , -2.851121  , -0.52502203], dtype=float32),\n array([ 1.6951    ,  0.8458235 , -1.8149909 ,  0.94065684, -0.7048631 ,\n        -0.7340088 , -1.2723399 , -0.6525284 ], dtype=float32),\n array([ 0.13640852,  0.36127418,  1.5407652 , -0.4497685 ,  1.59191   ,\n        -0.91193146, -0.09188229, -0.36513832], dtype=float32),\n array([-0.43734372, -2.4041414 , -1.8955523 , -0.8142446 ,  0.8965361 ,\n         0.65184844,  0.53024954, -1.5540627 ], dtype=float32),\n array([ 0.7972485 , -0.8914546 , -0.48879123,  0.3390793 ,  0.4386977 ,\n        -1.3870307 , -0.5642398 , -1.0146221 ], dtype=float32),\n array([-0.5225661 ,  1.0310996 ,  1.0271931 ,  1.7865115 ,  0.97950006,\n         1.4631921 ,  0.55845374,  1.9489934 ], dtype=float32),\n array([-1.0209457 ,  0.73723584, -0.0740798 , -0.5225908 , -0.26534295,\n         0.21562687, -1.4632646 , -0.0317795 ], dtype=float32),\n array([ 0.34366795, -0.5953132 ,  0.49056253,  0.1576121 ,  0.99741805,\n        -0.21926858,  0.5709487 ,  1.5464673 ], dtype=float32),\n array([-1.2634066 ,  0.30047703, -0.59384394,  0.82403445,  0.54881227,\n        -0.466277  , -0.2152952 , -0.7497602 ], dtype=float32),\n array([ 1.7252421 ,  1.6377336 , -0.18344009,  0.49877933,  2.5314639 ,\n         0.39168   ,  0.36314574, -1.2516651 ], dtype=float32),\n array([ 0.7590692 ,  0.12399416, -0.4622656 , -1.5846833 , -0.1570057 ,\n        -0.28440374, -1.7908342 ,  2.0058682 ], dtype=float32),\n array([-1.1107805,  1.0136037, -0.4528568,  1.9865551, -1.991673 ,\n        -1.515423 ,  0.3670561, -0.0666692], dtype=float32)]"
     },
     "metadata": {},
     "execution_count": 33
    }
   ],
   "source": [
    "bottle_neck"
   ]
  },
  {
   "cell_type": "code",
   "execution_count": 34,
   "metadata": {},
   "outputs": [],
   "source": [
    "from sklearn.manifold import TSNE\n",
    "%matplotlib inline\n",
    "import matplotlib.pyplot as plt\n",
    "from mpl_toolkits.mplot3d import Axes3D\n",
    "import seaborn as sns\n",
    "import time\n"
   ]
  },
  {
   "cell_type": "code",
   "execution_count": 35,
   "metadata": {
    "tags": []
   },
   "outputs": [
    {
     "output_type": "stream",
     "name": "stdout",
     "text": "[t-SNE] Computing 71 nearest neighbors...\n[t-SNE] Indexed 72 samples in 0.000s...\n[t-SNE] Computed neighbors for 72 samples in 0.010s...\n[t-SNE] Computed conditional probabilities for sample 72 / 72\n[t-SNE] Mean sigma: 2.162510\n[t-SNE] KL divergence after 250 iterations with early exaggeration: 49.802261\n[t-SNE] KL divergence after 300 iterations: 1.037349\nt-SNE done! Time elapsed: 0.16399407386779785 seconds\n"
    }
   ],
   "source": [
    "ds=np.array(bottle_neck)\n",
    "time_start = time.time()\n",
    "tsne = TSNE(n_components=2, verbose=1, perplexity=40, n_iter=300)\n",
    "tsne_results = tsne.fit_transform(ds)\n",
    "print('t-SNE done! Time elapsed: {} seconds'.format(time.time()-time_start))"
   ]
  },
  {
   "cell_type": "code",
   "execution_count": 36,
   "metadata": {},
   "outputs": [],
   "source": [
    "df_subset=pd.DataFrame()"
   ]
  },
  {
   "cell_type": "code",
   "execution_count": 41,
   "metadata": {},
   "outputs": [],
   "source": [
    "df_subset['color']=\"black\"\n"
   ]
  },
  {
   "cell_type": "code",
   "execution_count": 53,
   "metadata": {},
   "outputs": [
    {
     "output_type": "execute_result",
     "data": {
      "text/plain": "array([8352708, 6913641])"
     },
     "metadata": {},
     "execution_count": 53
    }
   ],
   "source": [
    "df_subset['PI']=PI_lst\n",
    "df_subset.PI.unique()"
   ]
  },
  {
   "cell_type": "code",
   "execution_count": 48,
   "metadata": {},
   "outputs": [],
   "source": []
  },
  {
   "cell_type": "code",
   "execution_count": 140,
   "metadata": {},
   "outputs": [
    {
     "output_type": "execute_result",
     "data": {
      "text/plain": "    tsne-2d-one  tsne-2d-two author  color\n0     15.203683    -4.184505  black  black\n1     22.978985     2.953709  black  black\n2    -13.019471    12.144258  black  black\n3    -22.391275    14.445200  black  black\n4     -7.135839    16.022161  black  black\n..          ...          ...    ...    ...\n67    -6.369195   -31.188566  black  black\n68    17.569487    -0.229640  black  black\n69    -1.176405    -1.331829  black  black\n70    -4.017713    -3.593258  black  black\n71     3.926271    18.251902  black  black\n\n[72 rows x 4 columns]",
      "text/html": "<div>\n<style scoped>\n    .dataframe tbody tr th:only-of-type {\n        vertical-align: middle;\n    }\n\n    .dataframe tbody tr th {\n        vertical-align: top;\n    }\n\n    .dataframe thead th {\n        text-align: right;\n    }\n</style>\n<table border=\"1\" class=\"dataframe\">\n  <thead>\n    <tr style=\"text-align: right;\">\n      <th></th>\n      <th>tsne-2d-one</th>\n      <th>tsne-2d-two</th>\n      <th>author</th>\n      <th>color</th>\n    </tr>\n  </thead>\n  <tbody>\n    <tr>\n      <td>0</td>\n      <td>15.203683</td>\n      <td>-4.184505</td>\n      <td>black</td>\n      <td>black</td>\n    </tr>\n    <tr>\n      <td>1</td>\n      <td>22.978985</td>\n      <td>2.953709</td>\n      <td>black</td>\n      <td>black</td>\n    </tr>\n    <tr>\n      <td>2</td>\n      <td>-13.019471</td>\n      <td>12.144258</td>\n      <td>black</td>\n      <td>black</td>\n    </tr>\n    <tr>\n      <td>3</td>\n      <td>-22.391275</td>\n      <td>14.445200</td>\n      <td>black</td>\n      <td>black</td>\n    </tr>\n    <tr>\n      <td>4</td>\n      <td>-7.135839</td>\n      <td>16.022161</td>\n      <td>black</td>\n      <td>black</td>\n    </tr>\n    <tr>\n      <td>...</td>\n      <td>...</td>\n      <td>...</td>\n      <td>...</td>\n      <td>...</td>\n    </tr>\n    <tr>\n      <td>67</td>\n      <td>-6.369195</td>\n      <td>-31.188566</td>\n      <td>black</td>\n      <td>black</td>\n    </tr>\n    <tr>\n      <td>68</td>\n      <td>17.569487</td>\n      <td>-0.229640</td>\n      <td>black</td>\n      <td>black</td>\n    </tr>\n    <tr>\n      <td>69</td>\n      <td>-1.176405</td>\n      <td>-1.331829</td>\n      <td>black</td>\n      <td>black</td>\n    </tr>\n    <tr>\n      <td>70</td>\n      <td>-4.017713</td>\n      <td>-3.593258</td>\n      <td>black</td>\n      <td>black</td>\n    </tr>\n    <tr>\n      <td>71</td>\n      <td>3.926271</td>\n      <td>18.251902</td>\n      <td>black</td>\n      <td>black</td>\n    </tr>\n  </tbody>\n</table>\n<p>72 rows × 4 columns</p>\n</div>"
     },
     "metadata": {},
     "execution_count": 140
    }
   ],
   "source": [
    "df_subset"
   ]
  },
  {
   "cell_type": "code",
   "execution_count": 33,
   "metadata": {},
   "outputs": [
    {
     "output_type": "error",
     "ename": "NameError",
     "evalue": "name 'train' is not defined",
     "traceback": [
      "\u001b[0;31m---------------------------------------------------------------------------\u001b[0m",
      "\u001b[0;31mNameError\u001b[0m                                 Traceback (most recent call last)",
      "\u001b[0;32m<ipython-input-33-e174da573e99>\u001b[0m in \u001b[0;36m<module>\u001b[0;34m\u001b[0m\n\u001b[1;32m      1\u001b[0m \u001b[0;32mfor\u001b[0m \u001b[0mepoch\u001b[0m \u001b[0;32min\u001b[0m \u001b[0mrange\u001b[0m\u001b[0;34m(\u001b[0m\u001b[0mepochs\u001b[0m\u001b[0;34m)\u001b[0m\u001b[0;34m:\u001b[0m\u001b[0;34m\u001b[0m\u001b[0;34m\u001b[0m\u001b[0m\n\u001b[0;32m----> 2\u001b[0;31m         \u001b[0mtrain\u001b[0m\u001b[0;34m(\u001b[0m\u001b[0mepoch\u001b[0m\u001b[0;34m)\u001b[0m\u001b[0;34m\u001b[0m\u001b[0;34m\u001b[0m\u001b[0m\n\u001b[0m\u001b[1;32m      3\u001b[0m         \u001b[0mtest\u001b[0m\u001b[0;34m(\u001b[0m\u001b[0mepoch\u001b[0m\u001b[0;34m)\u001b[0m\u001b[0;34m\u001b[0m\u001b[0;34m\u001b[0m\u001b[0m\n\u001b[1;32m      4\u001b[0m         \u001b[0;32mwith\u001b[0m \u001b[0mtorch\u001b[0m\u001b[0;34m.\u001b[0m\u001b[0mno_grad\u001b[0m\u001b[0;34m(\u001b[0m\u001b[0;34m)\u001b[0m\u001b[0;34m:\u001b[0m\u001b[0;34m\u001b[0m\u001b[0;34m\u001b[0m\u001b[0m\n\u001b[1;32m      5\u001b[0m             \u001b[0msample\u001b[0m \u001b[0;34m=\u001b[0m \u001b[0mtorch\u001b[0m\u001b[0;34m.\u001b[0m\u001b[0mrandn\u001b[0m\u001b[0;34m(\u001b[0m\u001b[0;36m64\u001b[0m\u001b[0;34m,\u001b[0m \u001b[0;36m20\u001b[0m\u001b[0;34m)\u001b[0m\u001b[0;34m.\u001b[0m\u001b[0mto\u001b[0m\u001b[0;34m(\u001b[0m\u001b[0mdevice\u001b[0m\u001b[0;34m)\u001b[0m\u001b[0;34m\u001b[0m\u001b[0;34m\u001b[0m\u001b[0m\n",
      "\u001b[0;31mNameError\u001b[0m: name 'train' is not defined"
     ]
    }
   ],
   "source": [
    "for epoch in range(epochs):\n",
    "        train(epoch)\n",
    "        test(epoch)\n",
    "        with torch.no_grad():\n",
    "            sample = torch.randn(64, 20).to(device)\n",
    "            sample = model.decode(sample).cpu()"
   ]
  },
  {
   "cell_type": "code",
   "execution_count": null,
   "metadata": {},
   "outputs": [],
   "source": []
  }
 ],
 "metadata": {
  "language_info": {
   "codemirror_mode": {
    "name": "ipython",
    "version": 3
   },
   "file_extension": ".py",
   "mimetype": "text/x-python",
   "name": "python",
   "nbconvert_exporter": "python",
   "pygments_lexer": "ipython3",
   "version": "3.6.8-final"
  },
  "orig_nbformat": 2,
  "kernelspec": {
   "name": "python36864bitnlpcondaedb4459334ba4ee28e4936a12647cfbd",
   "display_name": "Python 3.6.8 64-bit ('nlp': conda)"
  }
 },
 "nbformat": 4,
 "nbformat_minor": 2
}