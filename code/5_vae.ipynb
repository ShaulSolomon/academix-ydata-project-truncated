{
 "cells": [
  {
   "cell_type": "markdown",
   "metadata": {},
   "source": [
    "# VAE"
   ]
  },
  {
   "cell_type": "code",
   "execution_count": 3,
   "metadata": {},
   "outputs": [
    {
     "name": "stdout",
     "output_type": "stream",
     "text": [
      "Collecting elasticsearch\n",
      "  Downloading elasticsearch-7.8.0-py2.py3-none-any.whl (188 kB)\n",
      "\u001b[K     |████████████████████████████████| 188 kB 26.3 MB/s eta 0:00:01\n",
      "\u001b[?25hRequirement already satisfied: urllib3>=1.21.1 in /home/ubuntu/anaconda3/envs/pytorch_latest_p36/lib/python3.6/site-packages (from elasticsearch) (1.25.8)\n",
      "Requirement already satisfied: certifi in /home/ubuntu/anaconda3/envs/pytorch_latest_p36/lib/python3.6/site-packages (from elasticsearch) (2020.4.5.2)\n",
      "Installing collected packages: elasticsearch\n",
      "Successfully installed elasticsearch-7.8.0\n",
      "Collecting elasticsearch_dsl\n",
      "  Downloading elasticsearch_dsl-7.2.1-py2.py3-none-any.whl (53 kB)\n",
      "\u001b[K     |████████████████████████████████| 53 kB 645 kB/s  eta 0:00:01\n",
      "\u001b[?25hRequirement already satisfied: python-dateutil in /home/ubuntu/anaconda3/envs/pytorch_latest_p36/lib/python3.6/site-packages (from elasticsearch_dsl) (2.8.1)\n",
      "Requirement already satisfied: six in /home/ubuntu/anaconda3/envs/pytorch_latest_p36/lib/python3.6/site-packages (from elasticsearch_dsl) (1.14.0)\n",
      "Requirement already satisfied: elasticsearch<8.0.0,>=7.0.0 in /home/ubuntu/anaconda3/envs/pytorch_latest_p36/lib/python3.6/site-packages (from elasticsearch_dsl) (7.8.0)\n",
      "Requirement already satisfied: urllib3>=1.21.1 in /home/ubuntu/anaconda3/envs/pytorch_latest_p36/lib/python3.6/site-packages (from elasticsearch<8.0.0,>=7.0.0->elasticsearch_dsl) (1.25.8)\n",
      "Requirement already satisfied: certifi in /home/ubuntu/anaconda3/envs/pytorch_latest_p36/lib/python3.6/site-packages (from elasticsearch<8.0.0,>=7.0.0->elasticsearch_dsl) (2020.4.5.2)\n",
      "Installing collected packages: elasticsearch-dsl\n",
      "Successfully installed elasticsearch-dsl-7.2.1\n",
      "Collecting pymed\n",
      "  Downloading pymed-0.8.9-py3-none-any.whl (9.6 kB)\n",
      "Requirement already satisfied: requests>=2.20.0 in /home/ubuntu/anaconda3/envs/pytorch_latest_p36/lib/python3.6/site-packages (from pymed) (2.23.0)\n",
      "Requirement already satisfied: chardet<4,>=3.0.2 in /home/ubuntu/anaconda3/envs/pytorch_latest_p36/lib/python3.6/site-packages (from requests>=2.20.0->pymed) (3.0.4)\n",
      "Requirement already satisfied: certifi>=2017.4.17 in /home/ubuntu/anaconda3/envs/pytorch_latest_p36/lib/python3.6/site-packages (from requests>=2.20.0->pymed) (2020.4.5.2)\n",
      "Requirement already satisfied: urllib3!=1.25.0,!=1.25.1,<1.26,>=1.21.1 in /home/ubuntu/anaconda3/envs/pytorch_latest_p36/lib/python3.6/site-packages (from requests>=2.20.0->pymed) (1.25.8)\n",
      "Requirement already satisfied: idna<3,>=2.5 in /home/ubuntu/anaconda3/envs/pytorch_latest_p36/lib/python3.6/site-packages (from requests>=2.20.0->pymed) (2.9)\n",
      "Installing collected packages: pymed\n",
      "Successfully installed pymed-0.8.9\n",
      "Collecting gensim\n",
      "  Downloading gensim-3.8.3-cp36-cp36m-manylinux1_x86_64.whl (24.2 MB)\n",
      "\u001b[K     |████████████████████████████████| 24.2 MB 21.3 MB/s eta 0:00:01\n",
      "\u001b[?25hRequirement already satisfied: scipy>=0.18.1 in /home/ubuntu/anaconda3/envs/pytorch_latest_p36/lib/python3.6/site-packages (from gensim) (1.4.1)\n",
      "Requirement already satisfied: numpy>=1.11.3 in /home/ubuntu/anaconda3/envs/pytorch_latest_p36/lib/python3.6/site-packages (from gensim) (1.18.1)\n",
      "Collecting smart-open>=1.8.1\n",
      "  Downloading smart_open-2.1.0.tar.gz (116 kB)\n",
      "\u001b[K     |████████████████████████████████| 116 kB 112.6 MB/s eta 0:00:01\n",
      "\u001b[?25hRequirement already satisfied: six>=1.5.0 in /home/ubuntu/anaconda3/envs/pytorch_latest_p36/lib/python3.6/site-packages (from gensim) (1.14.0)\n",
      "Requirement already satisfied: requests in /home/ubuntu/anaconda3/envs/pytorch_latest_p36/lib/python3.6/site-packages (from smart-open>=1.8.1->gensim) (2.23.0)\n",
      "Requirement already satisfied: boto in /home/ubuntu/anaconda3/envs/pytorch_latest_p36/lib/python3.6/site-packages (from smart-open>=1.8.1->gensim) (2.49.0)\n",
      "Requirement already satisfied: boto3 in /home/ubuntu/anaconda3/envs/pytorch_latest_p36/lib/python3.6/site-packages (from smart-open>=1.8.1->gensim) (1.14.5)\n",
      "Requirement already satisfied: urllib3!=1.25.0,!=1.25.1,<1.26,>=1.21.1 in /home/ubuntu/anaconda3/envs/pytorch_latest_p36/lib/python3.6/site-packages (from requests->smart-open>=1.8.1->gensim) (1.25.8)\n",
      "Requirement already satisfied: certifi>=2017.4.17 in /home/ubuntu/anaconda3/envs/pytorch_latest_p36/lib/python3.6/site-packages (from requests->smart-open>=1.8.1->gensim) (2020.4.5.2)\n",
      "Requirement already satisfied: chardet<4,>=3.0.2 in /home/ubuntu/anaconda3/envs/pytorch_latest_p36/lib/python3.6/site-packages (from requests->smart-open>=1.8.1->gensim) (3.0.4)\n",
      "Requirement already satisfied: idna<3,>=2.5 in /home/ubuntu/anaconda3/envs/pytorch_latest_p36/lib/python3.6/site-packages (from requests->smart-open>=1.8.1->gensim) (2.9)\n",
      "Requirement already satisfied: jmespath<1.0.0,>=0.7.1 in /home/ubuntu/anaconda3/envs/pytorch_latest_p36/lib/python3.6/site-packages (from boto3->smart-open>=1.8.1->gensim) (0.9.4)\n",
      "Requirement already satisfied: s3transfer<0.4.0,>=0.3.0 in /home/ubuntu/anaconda3/envs/pytorch_latest_p36/lib/python3.6/site-packages (from boto3->smart-open>=1.8.1->gensim) (0.3.3)\n",
      "Requirement already satisfied: botocore<1.18.0,>=1.17.5 in /home/ubuntu/anaconda3/envs/pytorch_latest_p36/lib/python3.6/site-packages (from boto3->smart-open>=1.8.1->gensim) (1.17.5)\n",
      "Requirement already satisfied: python-dateutil<3.0.0,>=2.1 in /home/ubuntu/anaconda3/envs/pytorch_latest_p36/lib/python3.6/site-packages (from botocore<1.18.0,>=1.17.5->boto3->smart-open>=1.8.1->gensim) (2.8.1)\n",
      "Requirement already satisfied: docutils<0.16,>=0.10 in /home/ubuntu/anaconda3/envs/pytorch_latest_p36/lib/python3.6/site-packages (from botocore<1.18.0,>=1.17.5->boto3->smart-open>=1.8.1->gensim) (0.15.2)\n",
      "Building wheels for collected packages: smart-open\n",
      "  Building wheel for smart-open (setup.py) ... \u001b[?25ldone\n",
      "\u001b[?25h  Created wheel for smart-open: filename=smart_open-2.1.0-py3-none-any.whl size=110317 sha256=6c6920ed152ad38846a6b97337d3850de30072bddc374dd40ad9666be8670ffe\n",
      "  Stored in directory: /home/ubuntu/.cache/pip/wheels/a4/9b/d5/85705a7ab783cd6f7bd718f01d3b1396272f30044e3c36401a\n",
      "Successfully built smart-open\n",
      "Installing collected packages: smart-open, gensim\n",
      "Successfully installed gensim-3.8.3 smart-open-2.1.0\n",
      "Collecting torchsummary\n",
      "  Downloading torchsummary-1.5.1-py3-none-any.whl (2.8 kB)\n",
      "Installing collected packages: torchsummary\n",
      "Successfully installed torchsummary-1.5.1\n"
     ]
    }
   ],
   "source": [
    "USE_SERVER = True\n",
    "if USE_SERVER:\n",
    "    !pip install elasticsearch\n",
    "    !pip install elasticsearch_dsl\n",
    "    !pip install pymed\n",
    "    !pip install gensim\n",
    "    !pip install torchsummary"
   ]
  },
  {
   "cell_type": "code",
   "execution_count": 4,
   "metadata": {
    "tags": []
   },
   "outputs": [],
   "source": [
    "from __future__ import print_function\n",
    "import argparse\n",
    "import numpy as np\n",
    "import torch\n",
    "import torch.utils.data\n",
    "from torch import nn, optim\n",
    "from torch.nn import functional as F\n",
    "from torchvision import datasets, transforms\n",
    "from torchvision.utils import save_image\n",
    "import pandas as pd\n",
    "import utils\n",
    "import os\n",
    "from utils import PROJECT_ROOT, DATA_PATH\n",
    "import yuval_module.paper_source as PaperSource\n",
    "\n",
    "from sklearn.feature_extraction.text import TfidfTransformer\n",
    "from sklearn.feature_extraction.text import CountVectorizer\n",
    "from sklearn.pipeline import Pipeline\n",
    "\n",
    "import py_4.get_mesh_vec as get_mesh_vec\n",
    "import py_3.sim_matrix_3 as sim_matrix_3\n",
    "import py_4.get_all_features as get_all_features \n",
    "\n",
    "from torch.utils.data import Dataset, DataLoader\n",
    "\n",
    "from sklearn.manifold import TSNE\n",
    "%matplotlib inline\n",
    "import matplotlib.pyplot as plt\n",
    "from mpl_toolkits.mplot3d import Axes3D\n",
    "import seaborn as sns\n",
    "import time\n",
    "\n",
    "from sklearn.preprocessing import StandardScaler\n",
    "\n",
    "%load_ext autoreload\n",
    "%autoreload 2"
   ]
  },
  {
   "cell_type": "code",
   "execution_count": 5,
   "metadata": {},
   "outputs": [],
   "source": [
    "mesh_embed=get_mesh_vec.MeshEmbeddings(PROJECT_ROOT + \"data/mesh_data/MeSHFeatureGeneratedByDeepWalk.csv\")"
   ]
  },
  {
   "cell_type": "code",
   "execution_count": 6,
   "metadata": {
    "tags": []
   },
   "outputs": [
    {
     "name": "stdout",
     "output_type": "stream",
     "text": [
      "PULLING FROM S3\n",
      "FILE PULLED\n"
     ]
    }
   ],
   "source": [
    "FILE = \"enriched_labeled_dataset_large\" \n",
    "if os.path.exists(PROJECT_ROOT + DATA_PATH + FILE):\n",
    "    print(\"READING FROM LOCAL\")\n",
    "    if FILE.split(\".\")[1] == \"json\":\n",
    "        df = pd.read_json(PROJECT_ROOT + DATA_PATH + FILE)\n",
    "    else:\n",
    "        df = pd.read_csv(PROJECT_ROOT + DATA_PATH + FILE)\n",
    "    #ps = PaperSource()\n",
    "else:\n",
    "    print(\"PULLING FROM S3\")\n",
    "    ps = sim_matrix_3.load_dataset(FILE)\n",
    "    df = ps.get_dataset()\n",
    "\n",
    "df.drop(columns=[\"last_author_country\"],inplace=True)\n",
    "df.rename(columns={'ORG_STATE':'last_author_country'},inplace=True)\n",
    "\n",
    "print(\"FILE PULLED\")"
   ]
  },
  {
   "cell_type": "markdown",
   "metadata": {},
   "source": [
    "### Run VAE "
   ]
  },
  {
   "cell_type": "code",
   "execution_count": 7,
   "metadata": {},
   "outputs": [
    {
     "name": "stdout",
     "output_type": "stream",
     "text": [
      "/home/ubuntu/AYP\n"
     ]
    }
   ],
   "source": [
    "cd .."
   ]
  },
  {
   "cell_type": "code",
   "execution_count": 8,
   "metadata": {},
   "outputs": [],
   "source": [
    "auth_core = pd.read_csv(\"data/train_set_author_names.csv\")[\"0\"]\n",
    "auth_eps = pd.read_csv(\"data/val_set_author_names.csv\")[\"0\"]\n",
    "auth_usecase = pd.read_csv(\"data/test_set_author_names.csv\")[\"0\"]"
   ]
  },
  {
   "cell_type": "code",
   "execution_count": 9,
   "metadata": {},
   "outputs": [],
   "source": [
    "selection_train = list(set(df['last_author_name']) - set(auth_usecase))[:4000]\n",
    "selection_val = list(set(df['last_author_name']) - set(auth_usecase))[4000:5000]\n",
    "selection_test = list(set(df['last_author_name']) - set(auth_usecase))[5000:6000]"
   ]
  },
  {
   "cell_type": "code",
   "execution_count": 10,
   "metadata": {},
   "outputs": [
    {
     "data": {
      "text/plain": [
       "device(type='cuda')"
      ]
     },
     "execution_count": 10,
     "metadata": {},
     "output_type": "execute_result"
    }
   ],
   "source": [
    "#settings\n",
    "\n",
    "BATCH_SIZE= 32\n",
    "EPOCHS = 30\n",
    "cuda = torch.cuda.is_available()\n",
    "seed = 42\n",
    "log_interval = 10\n",
    "num_workers = 2\n",
    "\n",
    "#check for cuda\n",
    "device = torch.device('cuda' if cuda else 'cpu')\n",
    "\n",
    "torch.manual_seed(seed)\n",
    "kwargs = {'num_workers': 1, 'pin_memory': True} if cuda else {}\n",
    "\n",
    "device"
   ]
  },
  {
   "cell_type": "code",
   "execution_count": 11,
   "metadata": {},
   "outputs": [
    {
     "name": "stdout",
     "output_type": "stream",
     "text": [
      "'/home/ubuntu/AYP/code/models/names_epochs_2_vectorSize_64_window_2.model' already exits. Using existing model to re-generate results.\n",
      "'/home/ubuntu/AYP/code/models/co_authors_epochs_2_vectorSize_64_window_2.model' already exits. Using existing model to re-generate results.\n"
     ]
    }
   ],
   "source": [
    "all_vae = get_all_features.VAE_Features(df)"
   ]
  },
  {
   "cell_type": "code",
   "execution_count": 12,
   "metadata": {},
   "outputs": [],
   "source": [
    "df_nonan = df[np.invert(df['mesh'].isna())]"
   ]
  },
  {
   "cell_type": "code",
   "execution_count": 13,
   "metadata": {},
   "outputs": [],
   "source": [
    "class ToyDS(Dataset):\n",
    "    def __init__(self,df,selection,vae_features = None):\n",
    "        super().__init__()\n",
    "        self.df = df[df['last_author_name'].isin(selection)]\n",
    "        if vae_features is None:\n",
    "            print(\"Creating new VAE FEATURES\")\n",
    "            self.vae_features = get_all_features.VAE_Features(self.df)\n",
    "        else:\n",
    "            print(\"Using pre-defined VAE FEATURES\")\n",
    "            self.vae_features = vae_features\n",
    "        self.features = self.vae_features.get_all_features(self.df)\n",
    "        print(list(self.vae_features.mesh_features.mesh_missing))\n",
    "        self.input_dim = self.vae_features.input_dims\n",
    "            \n",
    "    def __len__(self):\n",
    "        return self.df.shape[0]\n",
    "    \n",
    "    def __getitem__(self, idx):\n",
    "        features = self.features[idx]\n",
    "        return features\n",
    "    \n",
    "    def __getvae__(self):\n",
    "        return self.vae_features"
   ]
  },
  {
   "cell_type": "code",
   "execution_count": 14,
   "metadata": {
    "tags": [
     "outputPrepend"
    ]
   },
   "outputs": [
    {
     "name": "stdout",
     "output_type": "stream",
     "text": [
      "Using pre-defined VAE FEATURES\n"
     ]
    },
    {
     "name": "stderr",
     "output_type": "stream",
     "text": [
      "/home/ubuntu/AYP/code/py_4/get_all_features.py:85: SettingWithCopyWarning: \n",
      "A value is trying to be set on a copy of a slice from a DataFrame.\n",
      "Try using .loc[row_indexer,col_indexer] = value instead\n",
      "\n",
      "See the caveats in the documentation: https://pandas.pydata.org/pandas-docs/stable/user_guide/indexing.html#returning-a-view-versus-a-copy\n",
      "  df['co_authors']=df.authors.apply( lambda x: [i['name'] for i in x] )\n"
     ]
    },
    {
     "name": "stdout",
     "output_type": "stream",
     "text": [
      "Defining new scaler\n",
      "['MESH NAME NOT FOUND: Chlorocebus aethiops', \"MESH NAME NOT FOUND: Practice Patterns, Nurses'\", 'MESH NAME NOT FOUND: Confounding Factors, Epidemiologic', 'MESH NAME NOT FOUND: Neural Networks, Computer', 'MESH NAME NOT FOUND: Outcome and Process Assessment, Health Care', 'MESH NAME NOT FOUND: Mitophagy', \"MESH NAME NOT FOUND: Practice Patterns, Physicians'\", 'MESH NAME NOT FOUND: Practice, Psychological', 'MESH NAME NOT FOUND: Centers for Medicare and Medicaid Services, U.S.', \"MESH NAME NOT FOUND: 8-Hydroxy-2'-Deoxyguanosine\", 'MESH NAME NOT FOUND: Conditioning, Psychological', 'MESH NAME NOT FOUND: Outcome Assessment, Health Care', 'MESH NAME NOT FOUND: Reinforcement, Psychology', 'MESH NAME NOT FOUND: Copper-Transporting ATPases', 'MESH NAME NOT FOUND: Male', 'MESH NAME NOT FOUND: Phospholipid Hydroperoxide Glutathione Peroxidase', 'MESH NAME NOT FOUND: Broadly Neutralizing Antibodies', 'MESH NAME NOT FOUND: Inhibition, Psychological', 'MESH NAME NOT FOUND: Female']\n"
     ]
    }
   ],
   "source": [
    "train_set = ToyDS(df_nonan, selection_train, all_vae)\n",
    "train_loader=DataLoader(dataset= train_set, batch_size = BATCH_SIZE, shuffle = True, num_workers = num_workers)"
   ]
  },
  {
   "cell_type": "code",
   "execution_count": 15,
   "metadata": {},
   "outputs": [
    {
     "name": "stdout",
     "output_type": "stream",
     "text": [
      "Using pre-defined VAE FEATURES\n"
     ]
    },
    {
     "name": "stderr",
     "output_type": "stream",
     "text": [
      "/home/ubuntu/AYP/code/py_4/get_all_features.py:85: SettingWithCopyWarning: \n",
      "A value is trying to be set on a copy of a slice from a DataFrame.\n",
      "Try using .loc[row_indexer,col_indexer] = value instead\n",
      "\n",
      "See the caveats in the documentation: https://pandas.pydata.org/pandas-docs/stable/user_guide/indexing.html#returning-a-view-versus-a-copy\n",
      "  df['co_authors']=df.authors.apply( lambda x: [i['name'] for i in x] )\n"
     ]
    },
    {
     "name": "stdout",
     "output_type": "stream",
     "text": [
      "Using old scaler\n",
      "['MESH NAME NOT FOUND: Centers for Medicare and Medicaid Services, U.S.', 'MESH NAME NOT FOUND: Reinforcement, Psychology', \"MESH NAME NOT FOUND: 8-Hydroxy-2'-Deoxyguanosine\", 'MESH NAME NOT FOUND: Practice, Psychological', 'MESH NAME NOT FOUND: Female', 'MESH NAME NOT FOUND: Chlorocebus aethiops', 'MESH NAME NOT FOUND: Stargardt Disease', 'MESH NAME NOT FOUND: Conditioning, Psychological', \"MESH NAME NOT FOUND: Practice Patterns, Nurses'\", 'MESH NAME NOT FOUND: Mitophagy', 'MESH NAME NOT FOUND: Outcome Assessment, Health Care', 'MESH NAME NOT FOUND: Copper-Transporting ATPases', 'MESH NAME NOT FOUND: Inhibition, Psychological', 'MESH NAME NOT FOUND: Conflict, Psychological', 'MESH NAME NOT FOUND: Confounding Factors, Epidemiologic', 'MESH NAME NOT FOUND: Neural Networks, Computer', 'MESH NAME NOT FOUND: Outcome and Process Assessment, Health Care', \"MESH NAME NOT FOUND: Practice Patterns, Physicians'\", 'MESH NAME NOT FOUND: Phospholipid Hydroperoxide Glutathione Peroxidase', 'MESH NAME NOT FOUND: Male', 'MESH NAME NOT FOUND: Broadly Neutralizing Antibodies']\n"
     ]
    }
   ],
   "source": [
    "val_set = ToyDS(df_nonan, selection_val, all_vae)\n",
    "val_loader=DataLoader(dataset= val_set, batch_size = BATCH_SIZE, shuffle = True, num_workers = num_workers)"
   ]
  },
  {
   "cell_type": "code",
   "execution_count": 16,
   "metadata": {},
   "outputs": [
    {
     "name": "stdout",
     "output_type": "stream",
     "text": [
      "The number of features in the train:  64\n",
      "The number of train data in the train:  19492\n"
     ]
    }
   ],
   "source": [
    "print(\"The number of features in the train: \",train_set.input_dim)\n",
    "print(\"The number of train data in the train: \",train_set.__len__())"
   ]
  },
  {
   "cell_type": "code",
   "execution_count": 17,
   "metadata": {},
   "outputs": [
    {
     "name": "stdout",
     "output_type": "stream",
     "text": [
      "The number of features in the val:  64\n",
      "The number of train data in the val:  5150\n"
     ]
    }
   ],
   "source": [
    "print(\"The number of features in the val: \",val_set.input_dim)\n",
    "print(\"The number of train data in the val: \",val_set.__len__())"
   ]
  },
  {
   "cell_type": "code",
   "execution_count": 18,
   "metadata": {},
   "outputs": [],
   "source": [
    "class VAE(nn.Module):\n",
    "    def __init__(self, hidden_dim1, hidden_dim2, latent_dim, input_dim = train_set.input_dim):\n",
    "        super(VAE, self).__init__()\n",
    "        self.input_dim = input_dim\n",
    "        self.hd1 = hidden_dim1\n",
    "        self.hd2 = hidden_dim2\n",
    "        self.latent_dim = latent_dim\n",
    "        \n",
    "        self.fc1 = nn.Linear(self.input_dim, self.hd1)\n",
    "        self.fc2 = nn.Linear(self.hd1, self.hd2)\n",
    "        self.fc31 = nn.Linear(self.hd2, self.latent_dim)\n",
    "        self.fc32 = nn.Linear(self.hd2, self.latent_dim)\n",
    "        self.fc4 = nn.Linear(self.latent_dim, self.hd2)\n",
    "        self.fc5 = nn.Linear(self.hd2, self.hd1)\n",
    "        self.fc6 = nn.Linear(self.hd1,self.input_dim)\n",
    "        \n",
    "        self.dropout = torch.nn.Dropout(p=0.4) \n",
    "        self.bn1 = nn.BatchNorm1d(self.hd1)\n",
    "        self.bn2 = nn.BatchNorm1d(self.hd2)\n",
    "        self.bn4 = nn.BatchNorm1d(self.hd2)\n",
    "        self.bn5 = nn.BatchNorm1d(self.hd1)\n",
    "\n",
    "    def encode(self, x):\n",
    "        h = self.bn1(F.relu(self.dropout(self.fc1(x))))\n",
    "        h1 = self.bn2(F.relu(self.dropout(self.fc2(h))))\n",
    "        return self.fc31(h1), self.fc32(h1)\n",
    "\n",
    "    def reparameterize(self, mu, logvar):\n",
    "        std = torch.exp(0.5*logvar)\n",
    "        eps = torch.randn_like(std)\n",
    "        return eps.mul(std).add_(mu) # return z sample\n",
    "        \n",
    "\n",
    "    def decode(self, z):\n",
    "        h = self.bn4(F.relu(self.dropout(self.fc4(z))))\n",
    "        h1 = self.bn5(F.relu(self.dropout(self.fc5(h))))\n",
    "        return self.fc6(h1)\n",
    "\n",
    "    def forward(self, x):\n",
    "        mu, logvar = self.encode(x.view(-1, self.input_dim))\n",
    "        z = self.reparameterize(mu, logvar)\n",
    "        return self.decode(z), mu, logvar"
   ]
  },
  {
   "cell_type": "code",
   "execution_count": 91,
   "metadata": {},
   "outputs": [],
   "source": [
    "def loss_function(recon_x, x, mu, log_var):\n",
    "\n",
    "#     MSE = F.l1_loss(recon_x, x.view(-1, train_set.input_dim))\n",
    "\n",
    "#     # see Appendix B from VAE paper:\n",
    "#     # Kingma and Welling. Auto-Encoding Variational Bayes. ICLR, 2014\n",
    "#     # https://arxiv.org/abs/1312.6114\n",
    "#     # 0.5 * sum(1 + log(sigma^2) - mu^2 - sigma^2)\n",
    "# #     KLD /= BATCH_SIZE * train_set.input_dim\n",
    "    \n",
    "# #     gamma = min(1.0,np.log(epoch+1))\n",
    "#     assert(KLD >= 0)\n",
    "    \n",
    "    \n",
    "#     batch_size = x.size()[0]\n",
    "#     MSE =  F.mse_loss(recon_x, x)\n",
    "    MSE = torch.mean(torch.square(recon_x - x))\n",
    "    KLD = -0.5 * torch.sum(1 + log_var - mu.pow(2) - log_var.exp())\n",
    "#     KLD_element = mu.pow(2).add_(log_var.exp()).mul_(-1).add_(1).add_(log_var)\n",
    "#     KLD = torch.sum(KLD_element).mul_(-0.5) / BATCH_SIZE\n",
    "    if KLD < -1e-5:\n",
    "        print(KLD)\n",
    "    return MSE + KLD "
   ]
  },
  {
   "cell_type": "code",
   "execution_count": 92,
   "metadata": {},
   "outputs": [],
   "source": [
    "model = VAE(hidden_dim1=32,hidden_dim2=16,latent_dim=8).to(device)\n",
    "optimizer = optim.Adam(model.parameters())"
   ]
  },
  {
   "cell_type": "code",
   "execution_count": 93,
   "metadata": {},
   "outputs": [],
   "source": [
    "num_batches = np.ceil(len(train_loader.dataset) / BATCH_SIZE)"
   ]
  },
  {
   "cell_type": "code",
   "execution_count": 94,
   "metadata": {},
   "outputs": [],
   "source": [
    "def train_epoch(tr_loader, model, criterion, optimizer, num_epochs):\n",
    "    model.train()\n",
    "    train_log = []\n",
    "    val_log = []\n",
    "\n",
    "    for epoch in range(num_epochs):\n",
    "        print(\"Started training epoch no. {}\".format(epoch+1))\n",
    "        train_loss= 0\n",
    "        for batch_idx, data in enumerate(train_loader):\n",
    "            data = data.to(device, dtype=torch.float32)\n",
    "            optimizer.zero_grad()\n",
    "            recon_batch, mu, logvar = model(data)\n",
    "            loss = criterion(recon_batch, data, mu, logvar)\n",
    "            loss.backward()\n",
    "            train_loss += loss.item()\n",
    "            optimizer.step()\n",
    "        print('====> Epoch: {} Average loss: {:.8f}\\n'.format(\n",
    "            epoch+1, train_loss / num_batches))\n",
    "        train_log.append({\n",
    "            'epoch': epoch,\n",
    "            'train_loss': train_loss / num_batches})\n",
    "        val_loss = test_model(val_loader,model)\n",
    "        print('====> Val set loss: {:.8f}'.format(val_loss))\n",
    "        val_log.append(val_loss)\n",
    "    return train_log, val_log"
   ]
  },
  {
   "cell_type": "code",
   "execution_count": 95,
   "metadata": {},
   "outputs": [],
   "source": [
    "def test_model(test_loader, model):\n",
    "    model.eval()\n",
    "    num_batch_test = np.ceil(len(test_loader.dataset) / BATCH_SIZE)\n",
    "    test_loss = 0\n",
    "    with torch.no_grad():\n",
    "        for i, data in enumerate(test_loader):\n",
    "            data = data.to(device, dtype=torch.float32)\n",
    "            recon_batch, mu, logvar = model(data)\n",
    "            test_loss += loss_function(recon_batch, data, mu, logvar).item()\n",
    "    test_loss /= num_batch_test\n",
    "    return test_loss\n"
   ]
  },
  {
   "cell_type": "code",
   "execution_count": 96,
   "metadata": {
    "collapsed": true,
    "jupyter": {
     "outputs_hidden": true
    },
    "tags": []
   },
   "outputs": [
    {
     "name": "stdout",
     "output_type": "stream",
     "text": [
      "Started training epoch no. 1\n",
      "====> Epoch: 1 Average loss: 12.32110126\n",
      "\n",
      "====> Val set loss: 0.98501491\n",
      "Started training epoch no. 2\n",
      "====> Epoch: 2 Average loss: 1.00817796\n",
      "\n",
      "====> Val set loss: 0.97026866\n",
      "Started training epoch no. 3\n",
      "====> Epoch: 3 Average loss: 1.00298919\n",
      "\n",
      "====> Val set loss: 0.96772742\n",
      "Started training epoch no. 4\n",
      "====> Epoch: 4 Average loss: 1.00055176\n",
      "\n",
      "====> Val set loss: 0.96605080\n",
      "Started training epoch no. 5\n",
      "====> Epoch: 5 Average loss: 1.00090088\n",
      "\n",
      "====> Val set loss: 0.96544381\n",
      "Started training epoch no. 6\n",
      "====> Epoch: 6 Average loss: 1.00053075\n",
      "\n",
      "====> Val set loss: 0.96573993\n",
      "Started training epoch no. 7\n",
      "====> Epoch: 7 Average loss: 1.00050653\n",
      "\n",
      "====> Val set loss: 0.96559274\n",
      "Started training epoch no. 8\n",
      "====> Epoch: 8 Average loss: 0.99970936\n",
      "\n",
      "====> Val set loss: 0.96520000\n",
      "Started training epoch no. 9\n",
      "====> Epoch: 9 Average loss: 0.99950905\n",
      "\n",
      "====> Val set loss: 0.96589501\n",
      "Started training epoch no. 10\n",
      "====> Epoch: 10 Average loss: 1.00142513\n",
      "\n",
      "====> Val set loss: 0.96558708\n",
      "Started training epoch no. 11\n",
      "====> Epoch: 11 Average loss: 0.99999136\n",
      "\n",
      "====> Val set loss: 0.96568299\n",
      "Started training epoch no. 12\n",
      "====> Epoch: 12 Average loss: 0.99981771\n",
      "\n",
      "====> Val set loss: 0.96561861\n",
      "Started training epoch no. 13\n",
      "====> Epoch: 13 Average loss: 1.00009949\n",
      "\n",
      "====> Val set loss: 0.96561050\n",
      "Started training epoch no. 14\n",
      "====> Epoch: 14 Average loss: 1.00013869\n",
      "\n",
      "====> Val set loss: 0.96538783\n",
      "Started training epoch no. 15\n",
      "====> Epoch: 15 Average loss: 0.99988400\n",
      "\n",
      "====> Val set loss: 0.96526279\n",
      "Started training epoch no. 16\n",
      "====> Epoch: 16 Average loss: 0.99957445\n",
      "\n",
      "====> Val set loss: 0.96576523\n",
      "Started training epoch no. 17\n",
      "====> Epoch: 17 Average loss: 0.99942022\n",
      "\n",
      "====> Val set loss: 0.96554919\n",
      "Started training epoch no. 18\n",
      "====> Epoch: 18 Average loss: 1.00006742\n",
      "\n",
      "====> Val set loss: 0.96579060\n",
      "Started training epoch no. 19\n",
      "====> Epoch: 19 Average loss: 0.99961848\n",
      "\n",
      "====> Val set loss: 0.96547295\n",
      "Started training epoch no. 20\n",
      "====> Epoch: 20 Average loss: 1.00158413\n",
      "\n",
      "====> Val set loss: 0.96570158\n",
      "Started training epoch no. 21\n",
      "====> Epoch: 21 Average loss: 0.99946875\n",
      "\n",
      "====> Val set loss: 0.96561055\n",
      "Started training epoch no. 22\n",
      "====> Epoch: 22 Average loss: 0.99928004\n",
      "\n",
      "====> Val set loss: 0.96585163\n",
      "Started training epoch no. 23\n",
      "====> Epoch: 23 Average loss: 1.00108981\n",
      "\n",
      "====> Val set loss: 0.96512180\n",
      "Started training epoch no. 24\n",
      "====> Epoch: 24 Average loss: 1.00129008\n",
      "\n",
      "====> Val set loss: 0.96520187\n",
      "Started training epoch no. 25\n",
      "====> Epoch: 25 Average loss: 1.00129125\n",
      "\n",
      "====> Val set loss: 0.96523804\n",
      "Started training epoch no. 26\n",
      "====> Epoch: 26 Average loss: 0.99962728\n",
      "\n",
      "====> Val set loss: 0.96550983\n",
      "Started training epoch no. 27\n",
      "====> Epoch: 27 Average loss: 0.99983766\n",
      "\n",
      "====> Val set loss: 0.96561548\n",
      "Started training epoch no. 28\n",
      "====> Epoch: 28 Average loss: 1.00076862\n",
      "\n",
      "====> Val set loss: 0.96530917\n",
      "Started training epoch no. 29\n",
      "====> Epoch: 29 Average loss: 0.99939126\n",
      "\n",
      "====> Val set loss: 0.96504704\n",
      "Started training epoch no. 30\n",
      "====> Epoch: 30 Average loss: 0.99945577\n",
      "\n",
      "====> Val set loss: 0.96532255\n",
      "Started training epoch no. 31\n",
      "====> Epoch: 31 Average loss: 1.00108407\n",
      "\n",
      "====> Val set loss: 0.96520322\n",
      "Started training epoch no. 32\n",
      "====> Epoch: 32 Average loss: 1.00028393\n",
      "\n",
      "====> Val set loss: 0.96559095\n",
      "Started training epoch no. 33\n",
      "====> Epoch: 33 Average loss: 1.00056798\n",
      "\n",
      "====> Val set loss: 0.96590217\n",
      "Started training epoch no. 34\n",
      "====> Epoch: 34 Average loss: 0.99969226\n",
      "\n",
      "====> Val set loss: 0.96532911\n",
      "Started training epoch no. 35\n",
      "====> Epoch: 35 Average loss: 1.00074591\n",
      "\n",
      "====> Val set loss: 0.96533421\n",
      "Started training epoch no. 36\n",
      "====> Epoch: 36 Average loss: 1.00021241\n",
      "\n",
      "====> Val set loss: 0.96538606\n",
      "Started training epoch no. 37\n",
      "====> Epoch: 37 Average loss: 1.00009971\n",
      "\n",
      "====> Val set loss: 0.96541700\n",
      "Started training epoch no. 38\n",
      "====> Epoch: 38 Average loss: 1.00000067\n",
      "\n",
      "====> Val set loss: 0.96622413\n",
      "Started training epoch no. 39\n",
      "====> Epoch: 39 Average loss: 1.00042419\n",
      "\n",
      "====> Val set loss: 0.96526679\n",
      "Started training epoch no. 40\n",
      "====> Epoch: 40 Average loss: 0.99928643\n",
      "\n",
      "====> Val set loss: 0.96558221\n",
      "Started training epoch no. 41\n",
      "====> Epoch: 41 Average loss: 1.00116447\n",
      "\n",
      "====> Val set loss: 0.96564208\n",
      "Started training epoch no. 42\n",
      "====> Epoch: 42 Average loss: 0.99997947\n",
      "\n",
      "====> Val set loss: 0.96544669\n",
      "Started training epoch no. 43\n",
      "====> Epoch: 43 Average loss: 1.00074756\n",
      "\n",
      "====> Val set loss: 0.96512484\n",
      "Started training epoch no. 44\n",
      "====> Epoch: 44 Average loss: 0.99982793\n",
      "\n",
      "====> Val set loss: 0.96569586\n",
      "Started training epoch no. 45\n",
      "====> Epoch: 45 Average loss: 1.00015767\n",
      "\n",
      "====> Val set loss: 0.96533721\n",
      "Started training epoch no. 46\n",
      "====> Epoch: 46 Average loss: 1.00016826\n",
      "\n",
      "====> Val set loss: 0.96539346\n",
      "Started training epoch no. 47\n",
      "====> Epoch: 47 Average loss: 0.99994463\n",
      "\n",
      "====> Val set loss: 0.96541708\n",
      "Started training epoch no. 48\n",
      "====> Epoch: 48 Average loss: 1.00122356\n",
      "\n",
      "====> Val set loss: 0.96529725\n",
      "Started training epoch no. 49\n",
      "====> Epoch: 49 Average loss: 0.99978197\n",
      "\n",
      "====> Val set loss: 0.96536436\n",
      "Started training epoch no. 50\n",
      "====> Epoch: 50 Average loss: 1.00198878\n",
      "\n",
      "====> Val set loss: 0.96521906\n",
      "Started training epoch no. 51\n",
      "====> Epoch: 51 Average loss: 0.99971956\n",
      "\n",
      "====> Val set loss: 0.96532008\n",
      "Started training epoch no. 52\n",
      "====> Epoch: 52 Average loss: 0.99940510\n",
      "\n",
      "====> Val set loss: 0.96560864\n",
      "Started training epoch no. 53\n",
      "====> Epoch: 53 Average loss: 0.99948618\n",
      "\n",
      "====> Val set loss: 0.96550552\n",
      "Started training epoch no. 54\n",
      "====> Epoch: 54 Average loss: 1.00281462\n",
      "\n",
      "====> Val set loss: 0.96542595\n",
      "Started training epoch no. 55\n",
      "====> Epoch: 55 Average loss: 0.99982878\n",
      "\n",
      "====> Val set loss: 0.96529872\n",
      "Started training epoch no. 56\n",
      "====> Epoch: 56 Average loss: 1.00042779\n",
      "\n",
      "====> Val set loss: 0.96522139\n",
      "Started training epoch no. 57\n",
      "====> Epoch: 57 Average loss: 1.00219173\n",
      "\n",
      "====> Val set loss: 0.96562535\n",
      "Started training epoch no. 58\n",
      "====> Epoch: 58 Average loss: 0.99962049\n",
      "\n",
      "====> Val set loss: 0.96568661\n",
      "Started training epoch no. 59\n",
      "====> Epoch: 59 Average loss: 0.99997313\n",
      "\n",
      "====> Val set loss: 0.96540823\n",
      "Started training epoch no. 60\n",
      "====> Epoch: 60 Average loss: 0.99945598\n",
      "\n",
      "====> Val set loss: 0.96546452\n",
      "Started training epoch no. 61\n",
      "====> Epoch: 61 Average loss: 1.00147258\n",
      "\n",
      "====> Val set loss: 0.96547055\n",
      "Started training epoch no. 62\n",
      "====> Epoch: 62 Average loss: 0.99970101\n",
      "\n",
      "====> Val set loss: 0.96544650\n",
      "Started training epoch no. 63\n",
      "====> Epoch: 63 Average loss: 0.99943885\n",
      "\n",
      "====> Val set loss: 0.96557720\n",
      "Started training epoch no. 64\n",
      "====> Epoch: 64 Average loss: 0.99987429\n",
      "\n",
      "====> Val set loss: 0.96519278\n",
      "Started training epoch no. 65\n",
      "====> Epoch: 65 Average loss: 0.99940443\n",
      "\n",
      "====> Val set loss: 0.96521548\n",
      "Started training epoch no. 66\n",
      "====> Epoch: 66 Average loss: 0.99990288\n",
      "\n",
      "====> Val set loss: 0.96496871\n",
      "Started training epoch no. 67\n",
      "====> Epoch: 67 Average loss: 1.00086872\n",
      "\n",
      "====> Val set loss: 0.96517314\n",
      "Started training epoch no. 68\n",
      "====> Epoch: 68 Average loss: 1.00040509\n",
      "\n",
      "====> Val set loss: 0.96534123\n",
      "Started training epoch no. 69\n",
      "====> Epoch: 69 Average loss: 1.00102820\n",
      "\n",
      "====> Val set loss: 0.96575582\n",
      "Started training epoch no. 70\n",
      "====> Epoch: 70 Average loss: 0.99935084\n",
      "\n",
      "====> Val set loss: 0.96579321\n"
     ]
    }
   ],
   "source": [
    "train_log, val_log = train_epoch(train_loader,model,loss_function,optimizer,num_epochs= 70)"
   ]
  },
  {
   "cell_type": "code",
   "execution_count": 97,
   "metadata": {},
   "outputs": [
    {
     "data": {
      "image/png": "[encoded data removed]",
      "text/plain": [
       "<Figure size 864x576 with 1 Axes>"
      ]
     },
     "metadata": {
      "needs_background": "light"
     },
     "output_type": "display_data"
    }
   ],
   "source": [
    "train_loss_plt = [x['train_loss'] for x in train_log]\n",
    "plt.figure(figsize=(12,8))\n",
    "plt.title(\"Train Loss per epoch\")\n",
    "plt.scatter(range(len(train_loss_plt)),train_loss_plt);"
   ]
  },
  {
   "cell_type": "code",
   "execution_count": 98,
   "metadata": {},
   "outputs": [
    {
     "data": {
      "image/png": "[encoded data removed]",
      "text/plain": [
       "<Figure size 864x576 with 1 Axes>"
      ]
     },
     "metadata": {
      "needs_background": "light"
     },
     "output_type": "display_data"
    }
   ],
   "source": [
    "plt.figure(figsize=(12,8))\n",
    "plt.title(\"Val Loss per epoch\")\n",
    "plt.scatter(range(len(val_log)),val_log);"
   ]
  },
  {
   "cell_type": "markdown",
   "metadata": {},
   "source": [
    "### ERROR ANALYSIS"
   ]
  },
  {
   "cell_type": "code",
   "execution_count": 55,
   "metadata": {},
   "outputs": [
    {
     "name": "stdout",
     "output_type": "stream",
     "text": [
      "Using pre-defined VAE FEATURES\n"
     ]
    },
    {
     "name": "stderr",
     "output_type": "stream",
     "text": [
      "/home/ubuntu/AYP/code/py_4/get_all_features.py:85: SettingWithCopyWarning: \n",
      "A value is trying to be set on a copy of a slice from a DataFrame.\n",
      "Try using .loc[row_indexer,col_indexer] = value instead\n",
      "\n",
      "See the caveats in the documentation: https://pandas.pydata.org/pandas-docs/stable/user_guide/indexing.html#returning-a-view-versus-a-copy\n",
      "  df['co_authors']=df.authors.apply( lambda x: [i['name'] for i in x] )\n"
     ]
    },
    {
     "name": "stdout",
     "output_type": "stream",
     "text": [
      "Using old scaler\n",
      "['MESH NAME NOT FOUND: Centers for Medicare and Medicaid Services, U.S.', 'MESH NAME NOT FOUND: Reinforcement, Psychology', 'MESH NAME NOT FOUND: Protein-Arginine Deiminase Type 4', \"MESH NAME NOT FOUND: 8-Hydroxy-2'-Deoxyguanosine\", 'MESH NAME NOT FOUND: Practice, Psychological', 'MESH NAME NOT FOUND: Female', 'MESH NAME NOT FOUND: Chlorocebus aethiops', 'MESH NAME NOT FOUND: Stargardt Disease', 'MESH NAME NOT FOUND: Conditioning, Psychological', 'MESH NAME NOT FOUND: mTOR Associated Protein, LST8 Homolog', 'MESH NAME NOT FOUND: Early Intervention, Educational', 'MESH NAME NOT FOUND: Infections', \"MESH NAME NOT FOUND: Practice Patterns, Nurses'\", 'MESH NAME NOT FOUND: Mitophagy', 'MESH NAME NOT FOUND: Outcome Assessment, Health Care', 'MESH NAME NOT FOUND: Copper-Transporting ATPases', 'MESH NAME NOT FOUND: Inhibition, Psychological', 'MESH NAME NOT FOUND: Conflict, Psychological', 'MESH NAME NOT FOUND: Confounding Factors, Epidemiologic', 'MESH NAME NOT FOUND: Neural Networks, Computer', 'MESH NAME NOT FOUND: Outcome and Process Assessment, Health Care', \"MESH NAME NOT FOUND: Practice Patterns, Physicians'\", 'MESH NAME NOT FOUND: Phospholipid Hydroperoxide Glutathione Peroxidase', 'MESH NAME NOT FOUND: Male', 'MESH NAME NOT FOUND: Broadly Neutralizing Antibodies']\n"
     ]
    }
   ],
   "source": [
    "test_set = ToyDS(df_nonan, selection_test, all_vae)\n",
    "test_loader=DataLoader(dataset= test_set, batch_size = BATCH_SIZE, shuffle = True, num_workers = num_workers)"
   ]
  },
  {
   "cell_type": "code",
   "execution_count": 56,
   "metadata": {},
   "outputs": [
    {
     "data": {
      "text/plain": [
       "0.44794457132771887"
      ]
     },
     "execution_count": 56,
     "metadata": {},
     "output_type": "execute_result"
    }
   ],
   "source": [
    "test_model(test_loader, model)"
   ]
  },
  {
   "cell_type": "code",
   "execution_count": 57,
   "metadata": {},
   "outputs": [],
   "source": [
    "model.eval()\n",
    "data = torch.from_numpy(test_set.features).to(device,dtype=torch.float32)\n",
    "x_hat_test, _, __ = model(data)\n",
    "x_hat = x_hat_test.detach().cpu().numpy()"
   ]
  },
  {
   "cell_type": "code",
   "execution_count": 58,
   "metadata": {},
   "outputs": [],
   "source": [
    "assert(test_set.features.shape==x_hat.shape)"
   ]
  },
  {
   "cell_type": "code",
   "execution_count": 59,
   "metadata": {},
   "outputs": [
    {
     "data": {
      "text/plain": [
       "0.44867535820651744"
      ]
     },
     "execution_count": 59,
     "metadata": {},
     "output_type": "execute_result"
    }
   ],
   "source": [
    "np.mean(np.square(x_hat - test_set.features))"
   ]
  },
  {
   "cell_type": "markdown",
   "metadata": {},
   "source": [
    "### Look at a few examples:"
   ]
  },
  {
   "cell_type": "code",
   "execution_count": 64,
   "metadata": {},
   "outputs": [
    {
     "data": {
      "text/plain": [
       "count    5126.000000\n",
       "mean        0.448675\n",
       "std         0.515608\n",
       "min         0.002445\n",
       "25%         0.129868\n",
       "50%         0.306733\n",
       "75%         0.577682\n",
       "max         7.808542\n",
       "dtype: float64"
      ]
     },
     "execution_count": 64,
     "metadata": {},
     "output_type": "execute_result"
    }
   ],
   "source": [
    "pd.Series(np.mean(np.square(x_hat- test_set.features),axis=1)).describe()"
   ]
  },
  {
   "cell_type": "code",
   "execution_count": 85,
   "metadata": {},
   "outputs": [
    {
     "data": {
      "text/plain": [
       "array([1972, 3009, 3031, 1419,  322, 4579, 4082, 3511,   22, 1218])"
      ]
     },
     "execution_count": 85,
     "metadata": {},
     "output_type": "execute_result"
    }
   ],
   "source": [
    "np.argsort(np.mean(np.square(x_hat- test_set.features),axis=1))[:10]"
   ]
  },
  {
   "cell_type": "code",
   "execution_count": 82,
   "metadata": {},
   "outputs": [
    {
     "data": {
      "text/plain": [
       "['Chromium/chemistry',\n",
       " 'Copper/chemistry',\n",
       " 'Electronic Nicotine Delivery Systems/methods',\n",
       " 'Electronics/methods',\n",
       " 'Nebulizers and Vaporizers',\n",
       " 'Nickel/chemistry',\n",
       " 'Nicotine/chemistry',\n",
       " 'Silver/chemistry',\n",
       " 'Smoke/analysis',\n",
       " 'Spectrometry, X-Ray Emission/methods',\n",
       " 'Tobacco/anatomy & histology',\n",
       " 'Zinc/chemistry']"
      ]
     },
     "execution_count": 82,
     "metadata": {},
     "output_type": "execute_result"
    }
   ],
   "source": [
    "test_set.df.iloc[3679].mesh"
   ]
  },
  {
   "cell_type": "code",
   "execution_count": 87,
   "metadata": {},
   "outputs": [
    {
     "data": {
      "text/plain": [
       "array([[ 2.72973456, -1.0674253 , -0.94246415,  3.08966176, -0.85796441,\n",
       "         1.72707066, -1.20976516,  3.70293184, -0.02776051, -1.86256365,\n",
       "        -5.02614485, -2.61747724,  4.40680405,  0.98611734,  0.92470637,\n",
       "         1.89473153, -3.26781251, -7.02701661,  0.69595814,  1.63857533,\n",
       "        -0.10628974, -2.74470057, -0.11284325,  1.47463652,  1.5098078 ,\n",
       "         1.06336323, -2.73202513, -2.22683551,  3.43124351,  0.23462634,\n",
       "         6.03965842,  1.11306359, -3.58243318,  3.89637052, -1.9649206 ,\n",
       "         2.46781599,  0.97732249, -2.15364702, -0.74558708,  4.46167229,\n",
       "         3.17934836, -1.27239857,  0.29273138,  3.98292688, -2.79904738,\n",
       "        -0.66299514,  1.66408191,  6.2713542 , -3.78857312, -2.34214554,\n",
       "        -1.48902283,  1.50888916, -3.25845393,  2.63625358, -0.47879052,\n",
       "         0.54266973,  1.29204386, -0.22081076, -3.1647564 ,  0.68823431,\n",
       "         2.82331158,  1.13765821,  5.04473882,  1.9038996 ]])"
      ]
     },
     "execution_count": 87,
     "metadata": {},
     "output_type": "execute_result"
    }
   ],
   "source": [
    "all_vae.scaler.transform(all_vae.mesh_features.get_mesh_emb(test_set.df.iloc[3679].mesh))"
   ]
  },
  {
   "cell_type": "markdown",
   "metadata": {},
   "source": [
    "# Test"
   ]
  },
  {
   "cell_type": "code",
   "execution_count": 153,
   "metadata": {},
   "outputs": [
    {
     "name": "stdout",
     "output_type": "stream",
     "text": [
      "7127687     10\n",
      "10594466     8\n",
      "11990780     1\n",
      "Name: PI_IDS, dtype: int64\n"
     ]
    }
   ],
   "source": [
    "selection = [auth_usecase[109]]\n",
    "print(df[df['last_author_name'].isin(selection)][\"PI_IDS\"].value_counts())"
   ]
  },
  {
   "cell_type": "code",
   "execution_count": 68,
   "metadata": {
    "tags": []
   },
   "outputs": [
    {
     "ename": "NameError",
     "evalue": "name 'selection' is not defined",
     "output_type": "error",
     "traceback": [
      "\u001b[0;31m---------------------------------------------------------------------------\u001b[0m",
      "\u001b[0;31mNameError\u001b[0m                                 Traceback (most recent call last)",
      "\u001b[0;32m<ipython-input-68-c4537dcd48de>\u001b[0m in \u001b[0;36m<module>\u001b[0;34m\u001b[0m\n\u001b[1;32m      1\u001b[0m \u001b[0mtrain_vae\u001b[0m \u001b[0;34m=\u001b[0m \u001b[0mtrain_set\u001b[0m\u001b[0;34m.\u001b[0m\u001b[0m__getvae__\u001b[0m\u001b[0;34m(\u001b[0m\u001b[0;34m)\u001b[0m\u001b[0;34m\u001b[0m\u001b[0;34m\u001b[0m\u001b[0m\n\u001b[0;32m----> 2\u001b[0;31m \u001b[0mtest_set\u001b[0m \u001b[0;34m=\u001b[0m \u001b[0mToyDS\u001b[0m\u001b[0;34m(\u001b[0m\u001b[0mdf_nonan\u001b[0m\u001b[0;34m,\u001b[0m \u001b[0mselection\u001b[0m\u001b[0;34m,\u001b[0m\u001b[0mtrain_vae\u001b[0m\u001b[0;34m)\u001b[0m\u001b[0;34m\u001b[0m\u001b[0;34m\u001b[0m\u001b[0m\n\u001b[0m\u001b[1;32m      3\u001b[0m \u001b[0mtest_loader\u001b[0m\u001b[0;34m=\u001b[0m\u001b[0mDataLoader\u001b[0m\u001b[0;34m(\u001b[0m\u001b[0mdataset\u001b[0m\u001b[0;34m=\u001b[0m \u001b[0mtest_set\u001b[0m\u001b[0;34m,\u001b[0m \u001b[0mbatch_size\u001b[0m \u001b[0;34m=\u001b[0m \u001b[0mbatch_size\u001b[0m\u001b[0;34m,\u001b[0m \u001b[0mshuffle\u001b[0m \u001b[0;34m=\u001b[0m \u001b[0;32mTrue\u001b[0m\u001b[0;34m,\u001b[0m \u001b[0mnum_workers\u001b[0m \u001b[0;34m=\u001b[0m \u001b[0mnum_workers\u001b[0m\u001b[0;34m)\u001b[0m\u001b[0;34m\u001b[0m\u001b[0;34m\u001b[0m\u001b[0m\n",
      "\u001b[0;31mNameError\u001b[0m: name 'selection' is not defined"
     ]
    }
   ],
   "source": [
    "train_vae = train_set.__getvae__()\n",
    "test_set = ToyDS(df_nonan, selection,train_vae)\n",
    "test_loader=DataLoader(dataset= test_set, batch_size = batch_size, shuffle = True, num_workers = num_workers)"
   ]
  },
  {
   "cell_type": "code",
   "execution_count": 155,
   "metadata": {},
   "outputs": [
    {
     "name": "stdout",
     "output_type": "stream",
     "text": [
      "(19, 32)\n",
      "(19, 64)\n"
     ]
    }
   ],
   "source": [
    "bottle_neck=[]\n",
    "recon_batchs = []\n",
    "for batch_idx, data in enumerate(test_loader):\n",
    "            data = data.to(device, dtype=torch.float32)\n",
    "            optimizer.zero_grad()\n",
    "            recon_batch, mu, logvar, _= model(data)\n",
    "            if cuda:\n",
    "                bottle_neck.extend(mu.cpu().detach().numpy())\n",
    "                recon_batchs.extend(recon_batch.cpu().detach().numpy())\n",
    "            else:\n",
    "                bottle_neck.extend(mu.detach().numpy())\n",
    "                recon_batchs.extend(recon_batch.detach().numpy())\n",
    "bottle_neck = np.array(bottle_neck)\n",
    "recon_batchs = np.array(recon_batchs)\n",
    "print(bottle_neck.shape)\n",
    "print(recon_batchs.shape)"
   ]
  },
  {
   "cell_type": "code",
   "execution_count": 157,
   "metadata": {
    "tags": []
   },
   "outputs": [
    {
     "name": "stdout",
     "output_type": "stream",
     "text": [
      "[t-SNE] Computing 4 nearest neighbors...\n",
      "[t-SNE] Indexed 19 samples in 0.000s...\n",
      "[t-SNE] Computed neighbors for 19 samples in 0.001s...\n",
      "[t-SNE] Computed conditional probabilities for sample 19 / 19\n",
      "[t-SNE] Mean sigma: 0.634541\n",
      "[t-SNE] KL divergence after 250 iterations with early exaggeration: 72.133377\n",
      "[t-SNE] KL divergence after 1000 iterations: 0.337330\n",
      "t-SNE done! Time elapsed: 0.14081168174743652 seconds\n"
     ]
    }
   ],
   "source": [
    "time_start = time.time()\n",
    "tsne = TSNE(n_components=2, verbose=1, perplexity=1, n_iter=1000,random_state=42)\n",
    "tsne_results = tsne.fit_transform(bottle_neck)\n",
    "print('t-SNE done! Time elapsed: {} seconds'.format(time.time()-time_start))"
   ]
  },
  {
   "cell_type": "code",
   "execution_count": 158,
   "metadata": {},
   "outputs": [],
   "source": [
    "df_subset=pd.DataFrame()\n",
    "df_subset['tsne-2d-one'] = tsne_results[:,0]\n",
    "df_subset['tsne-2d-two'] = tsne_results[:,1]\n",
    "df_subset['PI'] = list(df[df['last_author_name'].isin(selection)][\"PI_IDS\"])"
   ]
  },
  {
   "cell_type": "code",
   "execution_count": 159,
   "metadata": {},
   "outputs": [
    {
     "data": {
      "image/png": "[encoded data removed]",
      "text/plain": [
       "<Figure size 1008x720 with 1 Axes>"
      ]
     },
     "metadata": {
      "needs_background": "light"
     },
     "output_type": "display_data"
    }
   ],
   "source": [
    "groups = df_subset.groupby('PI')\n",
    "markers = ['o','v',\"x\"]\n",
    "colors = [\"red\",\"black\",\"green\"]\n",
    "# Plot\n",
    "fig, ax = plt.subplots(figsize=(14,10))\n",
    "\n",
    "ax.margins(0.05) # Optional, just adds 5% padding to the autoscaling\n",
    "for i, (name, group) in enumerate(groups):\n",
    "    ax.set_title(\"TSNE of the Mesh Embeddings\")\n",
    "    ax.plot(group['tsne-2d-one'], group['tsne-2d-two'], marker=markers[i], linestyle='', ms=12, label=name, color=colors[i])\n",
    "ax.legend()\n",
    "plt.show()\n",
    "fig.tight_layout();\n",
    "\n",
    "# fig.savefig('code/img/TSNE_Plots/mesh.png', bbox_inches='tight')"
   ]
  },
  {
   "cell_type": "markdown",
   "metadata": {},
   "source": [
    "### SANITY TESTS"
   ]
  },
  {
   "cell_type": "markdown",
   "metadata": {},
   "source": [
    "#### ON INPUT DIM:"
   ]
  },
  {
   "cell_type": "code",
   "execution_count": 160,
   "metadata": {},
   "outputs": [
    {
     "name": "stdout",
     "output_type": "stream",
     "text": [
      "[t-SNE] Computing 7 nearest neighbors...\n",
      "[t-SNE] Indexed 19 samples in 0.000s...\n",
      "[t-SNE] Computed neighbors for 19 samples in 0.001s...\n",
      "[t-SNE] Computed conditional probabilities for sample 19 / 19\n",
      "[t-SNE] Mean sigma: 0.000000\n",
      "[t-SNE] KL divergence after 250 iterations with early exaggeration: 75.712021\n",
      "[t-SNE] KL divergence after 1000 iterations: 0.240680\n",
      "t-SNE done! Time elapsed: 0.14115023612976074 seconds\n"
     ]
    }
   ],
   "source": [
    "time_start = time.time()\n",
    "tsne = TSNE(n_components=2, verbose=1, perplexity=2, n_iter=1000, random_state=42)\n",
    "tsne_inputs = tsne.fit_transform(test_set.features)\n",
    "print('t-SNE done! Time elapsed: {} seconds'.format(time.time()-time_start))\n",
    "input_testset=pd.DataFrame()\n",
    "input_testset['tsne-2d-one'] = tsne_inputs[:,0]\n",
    "input_testset['tsne-2d-two'] = tsne_inputs[:,1]\n",
    "input_testset['PI'] = list(df[df['last_author_name'].isin(selection)][\"PI_IDS\"])"
   ]
  },
  {
   "cell_type": "code",
   "execution_count": 161,
   "metadata": {},
   "outputs": [
    {
     "data": {
      "image/png": "[encoded data removed]",
      "text/plain": [
       "<Figure size 1008x720 with 1 Axes>"
      ]
     },
     "metadata": {
      "needs_background": "light"
     },
     "output_type": "display_data"
    }
   ],
   "source": [
    "groups = input_testset.groupby('PI')\n",
    "markers = ['o','v',\"x\"]\n",
    "colors = [\"red\",\"black\",\"green\"]\n",
    "# Plot\n",
    "fig, ax = plt.subplots(figsize=(14,10))\n",
    "\n",
    "ax.margins(0.05) # Optional, just adds 5% padding to the autoscaling\n",
    "for i, (name, group) in enumerate(groups):\n",
    "    ax.set_title(\"TSNE of the Mesh Embeddings\")\n",
    "    ax.plot(group['tsne-2d-one'], group['tsne-2d-two'], marker=markers[i], linestyle='', ms=12, label=name, color=colors[i])\n",
    "ax.legend()\n",
    "plt.show()\n",
    "fig.tight_layout();\n",
    "\n",
    "# fig.savefig('code/img/TSNE_Plots/mesh.png', bbox_inches='tight')"
   ]
  },
  {
   "cell_type": "markdown",
   "metadata": {},
   "source": [
    "### OUTPUT DIMS"
   ]
  },
  {
   "cell_type": "code",
   "execution_count": 162,
   "metadata": {},
   "outputs": [
    {
     "name": "stdout",
     "output_type": "stream",
     "text": [
      "[t-SNE] Computing 7 nearest neighbors...\n",
      "[t-SNE] Indexed 19 samples in 0.000s...\n",
      "[t-SNE] Computed neighbors for 19 samples in 0.001s...\n",
      "[t-SNE] Computed conditional probabilities for sample 19 / 19\n",
      "[t-SNE] Mean sigma: 0.000622\n",
      "[t-SNE] KL divergence after 250 iterations with early exaggeration: 69.051392\n",
      "[t-SNE] KL divergence after 1000 iterations: 0.264274\n",
      "t-SNE done! Time elapsed: 0.14203095436096191 seconds\n"
     ]
    }
   ],
   "source": [
    "time_start = time.time()\n",
    "tsne = TSNE(n_components=2, verbose=1, perplexity=2, n_iter=1000,random_state=42)\n",
    "tsne_output = tsne.fit_transform(recon_batchs)\n",
    "print('t-SNE done! Time elapsed: {} seconds'.format(time.time()-time_start))\n",
    "output_testset=pd.DataFrame()\n",
    "output_testset['tsne-2d-one'] = tsne_output[:,0]\n",
    "output_testset['tsne-2d-two'] = tsne_output[:,1]\n",
    "output_testset['PI'] = list(df[df['last_author_name'].isin(selection)][\"PI_IDS\"])"
   ]
  },
  {
   "cell_type": "code",
   "execution_count": 163,
   "metadata": {},
   "outputs": [
    {
     "data": {
      "image/png": "[encoded data removed]",
      "text/plain": [
       "<Figure size 1008x720 with 1 Axes>"
      ]
     },
     "metadata": {
      "needs_background": "light"
     },
     "output_type": "display_data"
    }
   ],
   "source": [
    "groups = output_testset.groupby('PI')\n",
    "markers = ['o','v',\"x\"]\n",
    "colors = [\"red\",\"black\",\"green\"]\n",
    "# Plot\n",
    "fig, ax = plt.subplots(figsize=(14,10))\n",
    "\n",
    "ax.margins(0.05) # Optional, just adds 5% padding to the autoscaling\n",
    "for i, (name, group) in enumerate(groups):\n",
    "    ax.set_title(\"TSNE of the Mesh Embeddings\")\n",
    "    ax.plot(group['tsne-2d-one'], group['tsne-2d-two'], marker=markers[i], linestyle='', ms=12, label=name, color=colors[i])\n",
    "ax.legend()\n",
    "plt.show()\n",
    "fig.tight_layout();\n",
    "\n",
    "# fig.savefig('code/img/TSNE_Plots/mesh.png', bbox_inches='tight')"
   ]
  },
  {
   "cell_type": "markdown",
   "metadata": {},
   "source": [
    "# Visualize particular Use Cases\n",
    "#### Mesh embeddings"
   ]
  },
  {
   "cell_type": "code",
   "execution_count": 99,
   "metadata": {},
   "outputs": [],
   "source": [
    "mesh_cases = pd.read_csv('./data/mesh_data/mesh_paper_groups_pmid.csv')\n",
    "typeA = mesh_cases['A']\n",
    "typeB = mesh_cases['B']\n",
    "df_a = pd.DataFrame((typeA,np.zeros((len(typeA),),dtype=int)),index=['pmid','class']).T\n",
    "df_b = pd.DataFrame((typeB,np.ones((len(typeB),),dtype=int)),index=['pmid','class']).T\n",
    "df_ab = pd.concat([df_a,df_b]).reset_index(drop=True)"
   ]
  },
  {
   "cell_type": "code",
   "execution_count": 100,
   "metadata": {},
   "outputs": [],
   "source": [
    "df_ab.drop_duplicates(keep='first',inplace=True)"
   ]
  },
  {
   "cell_type": "code",
   "execution_count": 101,
   "metadata": {},
   "outputs": [
    {
     "name": "stdout",
     "output_type": "stream",
     "text": [
      "Using pre-defined VAE FEATURES\n",
      "Using old scaler\n",
      "['MESH NAME NOT FOUND: Centers for Medicare and Medicaid Services, U.S.', 'MESH NAME NOT FOUND: Reinforcement, Psychology', 'MESH NAME NOT FOUND: Protein-Arginine Deiminase Type 4', \"MESH NAME NOT FOUND: 8-Hydroxy-2'-Deoxyguanosine\", 'MESH NAME NOT FOUND: Practice, Psychological', 'MESH NAME NOT FOUND: Female', 'MESH NAME NOT FOUND: Chlorocebus aethiops', 'MESH NAME NOT FOUND: Stargardt Disease', 'MESH NAME NOT FOUND: Conditioning, Psychological', 'MESH NAME NOT FOUND: mTOR Associated Protein, LST8 Homolog', 'MESH NAME NOT FOUND: Early Intervention, Educational', 'MESH NAME NOT FOUND: Infections', \"MESH NAME NOT FOUND: Practice Patterns, Nurses'\", 'MESH NAME NOT FOUND: Mitophagy', 'MESH NAME NOT FOUND: Outcome Assessment, Health Care', 'MESH NAME NOT FOUND: Copper-Transporting ATPases', 'MESH NAME NOT FOUND: Inhibition, Psychological', 'MESH NAME NOT FOUND: Conflict, Psychological', 'MESH NAME NOT FOUND: Confounding Factors, Epidemiologic', 'MESH NAME NOT FOUND: Neural Networks, Computer', 'MESH NAME NOT FOUND: Outcome and Process Assessment, Health Care', \"MESH NAME NOT FOUND: Practice Patterns, Physicians'\", 'MESH NAME NOT FOUND: Phospholipid Hydroperoxide Glutathione Peroxidase', 'MESH NAME NOT FOUND: Male', 'MESH NAME NOT FOUND: Broadly Neutralizing Antibodies']\n"
     ]
    }
   ],
   "source": [
    "train_vae = train_set.__getvae__()\n",
    "df_group = df[df['pmid'].isin(df_ab.pmid)]\n",
    "labels = df_ab['class'].values\n",
    "\n",
    "group_run = ToyDS(df_group, df_group['last_author_name'].unique(),all_vae)\n",
    "data =  torch.from_numpy(group_run.features).to(device,dtype=torch.float32)\n",
    "optimizer.zero_grad()\n",
    "recon_batch, mu, logvar= model(data)\n",
    "bottle_neck = mu.cpu().detach().numpy()\n",
    "recon = recon_batch.cpu().detach().numpy()"
   ]
  },
  {
   "cell_type": "markdown",
   "metadata": {},
   "source": [
    "## Input TSNE"
   ]
  },
  {
   "cell_type": "code",
   "execution_count": 102,
   "metadata": {},
   "outputs": [
    {
     "name": "stdout",
     "output_type": "stream",
     "text": [
      "[t-SNE] Computing 25 nearest neighbors...\n",
      "[t-SNE] Indexed 199 samples in 0.001s...\n",
      "[t-SNE] Computed neighbors for 199 samples in 0.005s...\n",
      "[t-SNE] Computed conditional probabilities for sample 199 / 199\n",
      "[t-SNE] Mean sigma: 2.246175\n",
      "[t-SNE] KL divergence after 250 iterations with early exaggeration: 71.380623\n",
      "[t-SNE] KL divergence after 1200 iterations: 0.961232\n",
      "t-SNE done! Time elapsed: 0.46600818634033203 seconds\n"
     ]
    },
    {
     "data": {
      "image/png": "[encoded data removed]",
      "text/plain": [
       "<Figure size 1008x720 with 1 Axes>"
      ]
     },
     "metadata": {
      "needs_background": "light"
     },
     "output_type": "display_data"
    }
   ],
   "source": [
    "time_start = time.time()\n",
    "tsne = TSNE(n_components=2, verbose=1, perplexity=8, n_iter=1200,random_state=42)\n",
    "tsne_results = tsne.fit_transform(group_run.features)\n",
    "print('t-SNE done! Time elapsed: {} seconds'.format(time.time()-time_start))\n",
    "\n",
    "df_subset=pd.DataFrame()\n",
    "df_subset['tsne-2d-one'] = tsne_results[:,0]\n",
    "df_subset['tsne-2d-two'] = tsne_results[:,1]\n",
    "df_subset['class'] = labels\n",
    "\n",
    "groups = df_subset.groupby('class')\n",
    "markers = ['o','v',\"x\"]\n",
    "colors = [\"red\",\"black\",\"green\"]\n",
    "# Plot\n",
    "fig, ax = plt.subplots(figsize=(14,10))\n",
    "\n",
    "ax.margins(0.05) # Optional, just adds 5% padding to the autoscaling\n",
    "for i, (name, group) in enumerate(groups):\n",
    "    ax.set_title(\"TSNE of the Mesh Embeddings for given use-case - 8dim latent space - Input\")\n",
    "    ax.plot(group['tsne-2d-one'], group['tsne-2d-two'], marker=markers[i], linestyle='', ms=12, label=name, color=colors[i])\n",
    "ax.legend()\n",
    "plt.show()\n",
    "fig.tight_layout();\n",
    "\n",
    "# fig.savefig('code/img/TSNE_Plots/meshemb_2usecase100_8dimls_input_MSE.png', bbox_inches='tight')"
   ]
  },
  {
   "cell_type": "markdown",
   "metadata": {},
   "source": [
    "## Output TSNE"
   ]
  },
  {
   "cell_type": "code",
   "execution_count": 109,
   "metadata": {},
   "outputs": [
    {
     "name": "stdout",
     "output_type": "stream",
     "text": [
      "[t-SNE] Computing 46 nearest neighbors...\n",
      "[t-SNE] Indexed 199 samples in 0.001s...\n",
      "[t-SNE] Computed neighbors for 199 samples in 0.003s...\n",
      "[t-SNE] Computed conditional probabilities for sample 199 / 199\n",
      "[t-SNE] Mean sigma: 0.000104\n",
      "[t-SNE] KL divergence after 250 iterations with early exaggeration: 50.843533\n",
      "[t-SNE] KL divergence after 1200 iterations: 0.130144\n",
      "t-SNE done! Time elapsed: 0.4426546096801758 seconds\n"
     ]
    },
    {
     "data": {
      "image/png": "[encoded data removed]",
      "text/plain": [
       "<Figure size 1008x720 with 1 Axes>"
      ]
     },
     "metadata": {
      "needs_background": "light"
     },
     "output_type": "display_data"
    }
   ],
   "source": [
    "time_start = time.time()\n",
    "tsne = TSNE(n_components=2, verbose=1, perplexity=15, n_iter=1200,random_state=42)\n",
    "tsne_results = tsne.fit_transform(recon)\n",
    "print('t-SNE done! Time elapsed: {} seconds'.format(time.time()-time_start))\n",
    "\n",
    "df_subset=pd.DataFrame()\n",
    "df_subset['tsne-2d-one'] = tsne_results[:,0]\n",
    "df_subset['tsne-2d-two'] = tsne_results[:,1]\n",
    "df_subset['class'] = labels\n",
    "\n",
    "groups = df_subset.groupby('class')\n",
    "markers = ['o','v',\"x\"]\n",
    "colors = [\"red\",\"black\",\"green\"]\n",
    "# Plot\n",
    "fig, ax = plt.subplots(figsize=(14,10))\n",
    "\n",
    "ax.margins(0.05) # Optional, just adds 5% padding to the autoscaling\n",
    "for i, (name, group) in enumerate(groups):\n",
    "    ax.set_title(\"TSNE of the Mesh Embeddings for given use-case - 8dim latent space - Output\")\n",
    "    ax.plot(group['tsne-2d-one'], group['tsne-2d-two'], marker=markers[i], linestyle='', ms=12, label=name, color=colors[i])\n",
    "ax.legend()\n",
    "plt.show()\n",
    "fig.tight_layout();\n",
    "\n",
    "# fig.savefig('code/img/TSNE_Plots/meshemb_2usecase100_8dimls_output_MSE.png', bbox_inches='tight')"
   ]
  },
  {
   "cell_type": "markdown",
   "metadata": {},
   "source": [
    "## LATENT SPACE TSNE"
   ]
  },
  {
   "cell_type": "code",
   "execution_count": 108,
   "metadata": {},
   "outputs": [
    {
     "name": "stdout",
     "output_type": "stream",
     "text": [
      "[t-SNE] Computing 46 nearest neighbors...\n",
      "[t-SNE] Indexed 199 samples in 0.000s...\n",
      "[t-SNE] Computed neighbors for 199 samples in 0.002s...\n",
      "[t-SNE] Computed conditional probabilities for sample 199 / 199\n",
      "[t-SNE] Mean sigma: 0.000001\n",
      "[t-SNE] KL divergence after 250 iterations with early exaggeration: 62.038822\n",
      "[t-SNE] KL divergence after 1200 iterations: 0.318289\n",
      "t-SNE done! Time elapsed: 0.4358656406402588 seconds\n"
     ]
    },
    {
     "data": {
      "image/png": "[encoded data removed]",
      "text/plain": [
       "<Figure size 1008x720 with 1 Axes>"
      ]
     },
     "metadata": {
      "needs_background": "light"
     },
     "output_type": "display_data"
    }
   ],
   "source": [
    "time_start = time.time()\n",
    "tsne = TSNE(n_components=2, verbose=1, perplexity=15, n_iter=1200,random_state=42)\n",
    "tsne_results = tsne.fit_transform(bottle_neck)\n",
    "print('t-SNE done! Time elapsed: {} seconds'.format(time.time()-time_start))\n",
    "\n",
    "df_subset=pd.DataFrame()\n",
    "df_subset['tsne-2d-one'] = tsne_results[:,0]\n",
    "df_subset['tsne-2d-two'] = tsne_results[:,1]\n",
    "df_subset['class'] = labels\n",
    "\n",
    "groups = df_subset.groupby('class')\n",
    "markers = ['o','v',\"x\"]\n",
    "colors = [\"red\",\"black\",\"green\"]\n",
    "# Plot\n",
    "fig, ax = plt.subplots(figsize=(14,10))\n",
    "\n",
    "ax.margins(0.05) # Optional, just adds 5% padding to the autoscaling\n",
    "for i, (name, group) in enumerate(groups):\n",
    "    ax.set_title(\"TSNE of the Mesh Embeddings for given use-case - 8dim latent space - Latent\")\n",
    "    ax.plot(group['tsne-2d-one'], group['tsne-2d-two'], marker=markers[i], linestyle='', ms=12, label=name, color=colors[i])\n",
    "ax.legend()\n",
    "plt.show()\n",
    "fig.tight_layout();\n",
    "\n",
    "# fig.savefig('code/img/TSNE_Plots/meshemb_2usecase100_8dimls_latent_MSE.png', bbox_inches='tight')"
   ]
  },
  {
   "cell_type": "code",
   "execution_count": null,
   "metadata": {},
   "outputs": [],
   "source": []
  }
 ],
 "metadata": {
  "kernelspec": {
   "display_name": "Environment (conda_pytorch_latest_p36)",
   "language": "python",
   "name": "conda_pytorch_latest_p36"
  },
  "language_info": {
   "codemirror_mode": {
    "name": "ipython",
    "version": 3
   },
   "file_extension": ".py",
   "mimetype": "text/x-python",
   "name": "python",
   "nbconvert_exporter": "python",
   "pygments_lexer": "ipython3",
   "version": "3.6.10"
  }
 },
 "nbformat": 4,
 "nbformat_minor": 4
}
