{
 "cells": [
  {
   "cell_type": "markdown",
   "metadata": {},
   "source": [
    "# VAE"
   ]
  },
  {
   "cell_type": "code",
   "execution_count": 1,
   "metadata": {
    "collapsed": true,
    "jupyter": {
     "outputs_hidden": true
    }
   },
   "outputs": [
    {
     "name": "stdout",
     "output_type": "stream",
     "text": [
      "Collecting elasticsearch\n",
      "  Using cached elasticsearch-7.8.0-py2.py3-none-any.whl (188 kB)\n",
      "Requirement already satisfied: certifi in /home/ubuntu/anaconda3/envs/pytorch_latest_p36/lib/python3.6/site-packages (from elasticsearch) (2020.4.5.2)\n",
      "Requirement already satisfied: urllib3>=1.21.1 in /home/ubuntu/anaconda3/envs/pytorch_latest_p36/lib/python3.6/site-packages (from elasticsearch) (1.25.8)\n",
      "Installing collected packages: elasticsearch\n",
      "Successfully installed elasticsearch-7.8.0\n",
      "Collecting elasticsearch_dsl\n",
      "  Using cached elasticsearch_dsl-7.2.1-py2.py3-none-any.whl (53 kB)\n",
      "Requirement already satisfied: elasticsearch<8.0.0,>=7.0.0 in /home/ubuntu/anaconda3/envs/pytorch_latest_p36/lib/python3.6/site-packages (from elasticsearch_dsl) (7.8.0)\n",
      "Requirement already satisfied: python-dateutil in /home/ubuntu/anaconda3/envs/pytorch_latest_p36/lib/python3.6/site-packages (from elasticsearch_dsl) (2.8.1)\n",
      "Requirement already satisfied: six in /home/ubuntu/anaconda3/envs/pytorch_latest_p36/lib/python3.6/site-packages (from elasticsearch_dsl) (1.14.0)\n",
      "Requirement already satisfied: urllib3>=1.21.1 in /home/ubuntu/anaconda3/envs/pytorch_latest_p36/lib/python3.6/site-packages (from elasticsearch<8.0.0,>=7.0.0->elasticsearch_dsl) (1.25.8)\n",
      "Requirement already satisfied: certifi in /home/ubuntu/anaconda3/envs/pytorch_latest_p36/lib/python3.6/site-packages (from elasticsearch<8.0.0,>=7.0.0->elasticsearch_dsl) (2020.4.5.2)\n",
      "Installing collected packages: elasticsearch-dsl\n",
      "Successfully installed elasticsearch-dsl-7.2.1\n",
      "Collecting pymed\n",
      "  Using cached pymed-0.8.9-py3-none-any.whl (9.6 kB)\n",
      "Requirement already satisfied: requests>=2.20.0 in /home/ubuntu/anaconda3/envs/pytorch_latest_p36/lib/python3.6/site-packages (from pymed) (2.23.0)\n",
      "Requirement already satisfied: idna<3,>=2.5 in /home/ubuntu/anaconda3/envs/pytorch_latest_p36/lib/python3.6/site-packages (from requests>=2.20.0->pymed) (2.9)\n",
      "Requirement already satisfied: urllib3!=1.25.0,!=1.25.1,<1.26,>=1.21.1 in /home/ubuntu/anaconda3/envs/pytorch_latest_p36/lib/python3.6/site-packages (from requests>=2.20.0->pymed) (1.25.8)\n",
      "Requirement already satisfied: certifi>=2017.4.17 in /home/ubuntu/anaconda3/envs/pytorch_latest_p36/lib/python3.6/site-packages (from requests>=2.20.0->pymed) (2020.4.5.2)\n",
      "Requirement already satisfied: chardet<4,>=3.0.2 in /home/ubuntu/anaconda3/envs/pytorch_latest_p36/lib/python3.6/site-packages (from requests>=2.20.0->pymed) (3.0.4)\n",
      "Installing collected packages: pymed\n",
      "Successfully installed pymed-0.8.9\n",
      "Collecting gensim\n",
      "  Downloading gensim-3.8.3-cp36-cp36m-manylinux1_x86_64.whl (24.2 MB)\n",
      "\u001b[K     |████████████████████████████████| 24.2 MB 94 kB/s s eta 0:00:01\n",
      "\u001b[?25hCollecting smart-open>=1.8.1\n",
      "  Using cached smart_open-2.1.0.tar.gz (116 kB)\n",
      "Requirement already satisfied: six>=1.5.0 in /home/ubuntu/anaconda3/envs/pytorch_latest_p36/lib/python3.6/site-packages (from gensim) (1.14.0)\n",
      "Requirement already satisfied: numpy>=1.11.3 in /home/ubuntu/anaconda3/envs/pytorch_latest_p36/lib/python3.6/site-packages (from gensim) (1.18.1)\n",
      "Requirement already satisfied: scipy>=0.18.1 in /home/ubuntu/anaconda3/envs/pytorch_latest_p36/lib/python3.6/site-packages (from gensim) (1.4.1)\n",
      "Requirement already satisfied: requests in /home/ubuntu/anaconda3/envs/pytorch_latest_p36/lib/python3.6/site-packages (from smart-open>=1.8.1->gensim) (2.23.0)\n",
      "Requirement already satisfied: boto in /home/ubuntu/anaconda3/envs/pytorch_latest_p36/lib/python3.6/site-packages (from smart-open>=1.8.1->gensim) (2.49.0)\n",
      "Requirement already satisfied: boto3 in /home/ubuntu/anaconda3/envs/pytorch_latest_p36/lib/python3.6/site-packages (from smart-open>=1.8.1->gensim) (1.14.5)\n",
      "Requirement already satisfied: certifi>=2017.4.17 in /home/ubuntu/anaconda3/envs/pytorch_latest_p36/lib/python3.6/site-packages (from requests->smart-open>=1.8.1->gensim) (2020.4.5.2)\n",
      "Requirement already satisfied: urllib3!=1.25.0,!=1.25.1,<1.26,>=1.21.1 in /home/ubuntu/anaconda3/envs/pytorch_latest_p36/lib/python3.6/site-packages (from requests->smart-open>=1.8.1->gensim) (1.25.8)\n",
      "Requirement already satisfied: idna<3,>=2.5 in /home/ubuntu/anaconda3/envs/pytorch_latest_p36/lib/python3.6/site-packages (from requests->smart-open>=1.8.1->gensim) (2.9)\n",
      "Requirement already satisfied: chardet<4,>=3.0.2 in /home/ubuntu/anaconda3/envs/pytorch_latest_p36/lib/python3.6/site-packages (from requests->smart-open>=1.8.1->gensim) (3.0.4)\n",
      "Requirement already satisfied: botocore<1.18.0,>=1.17.5 in /home/ubuntu/anaconda3/envs/pytorch_latest_p36/lib/python3.6/site-packages (from boto3->smart-open>=1.8.1->gensim) (1.17.5)\n",
      "Requirement already satisfied: jmespath<1.0.0,>=0.7.1 in /home/ubuntu/anaconda3/envs/pytorch_latest_p36/lib/python3.6/site-packages (from boto3->smart-open>=1.8.1->gensim) (0.9.4)\n",
      "Requirement already satisfied: s3transfer<0.4.0,>=0.3.0 in /home/ubuntu/anaconda3/envs/pytorch_latest_p36/lib/python3.6/site-packages (from boto3->smart-open>=1.8.1->gensim) (0.3.3)\n",
      "Requirement already satisfied: docutils<0.16,>=0.10 in /home/ubuntu/anaconda3/envs/pytorch_latest_p36/lib/python3.6/site-packages (from botocore<1.18.0,>=1.17.5->boto3->smart-open>=1.8.1->gensim) (0.15.2)\n",
      "Requirement already satisfied: python-dateutil<3.0.0,>=2.1 in /home/ubuntu/anaconda3/envs/pytorch_latest_p36/lib/python3.6/site-packages (from botocore<1.18.0,>=1.17.5->boto3->smart-open>=1.8.1->gensim) (2.8.1)\n",
      "Building wheels for collected packages: smart-open\n",
      "  Building wheel for smart-open (setup.py) ... \u001b[?25ldone\n",
      "\u001b[?25h  Created wheel for smart-open: filename=smart_open-2.1.0-py3-none-any.whl size=110317 sha256=3490bea4fe0e3d1751f43e026e19f1702cfea2dcee62e3d8b6135e5b7ca9d362\n",
      "  Stored in directory: /home/ubuntu/.cache/pip/wheels/a4/9b/d5/85705a7ab783cd6f7bd718f01d3b1396272f30044e3c36401a\n",
      "Successfully built smart-open\n",
      "Installing collected packages: smart-open, gensim\n",
      "Successfully installed gensim-3.8.3 smart-open-2.1.0\n",
      "Collecting torchsummary\n",
      "  Using cached torchsummary-1.5.1-py3-none-any.whl (2.8 kB)\n",
      "Installing collected packages: torchsummary\n",
      "Successfully installed torchsummary-1.5.1\n"
     ]
    }
   ],
   "source": [
    "USE_SERVER = True\n",
    "if USE_SERVER:\n",
    "    !pip install elasticsearch\n",
    "    !pip install elasticsearch_dsl\n",
    "    !pip install pymed\n",
    "    !pip install gensim\n",
    "    !pip install torchsummary"
   ]
  },
  {
   "cell_type": "code",
   "execution_count": 3,
   "metadata": {
    "tags": []
   },
   "outputs": [
    {
     "name": "stdout",
     "output_type": "stream",
     "text": [
      "The autoreload extension is already loaded. To reload it, use:\n",
      "  %reload_ext autoreload\n"
     ]
    }
   ],
   "source": [
    "from __future__ import print_function\n",
    "import argparse\n",
    "import numpy as np\n",
    "import torch\n",
    "import torch.utils.data\n",
    "from torch import nn, optim\n",
    "from torch.nn import functional as F\n",
    "from torchvision import datasets, transforms\n",
    "from torchvision.utils import save_image\n",
    "import pandas as pd\n",
    "import utils\n",
    "import os\n",
    "from utils import PROJECT_ROOT, DATA_PATH\n",
    "import yuval_module.paper_source as PaperSource\n",
    "\n",
    "from sklearn.feature_extraction.text import TfidfTransformer\n",
    "from sklearn.feature_extraction.text import CountVectorizer\n",
    "from sklearn.pipeline import Pipeline\n",
    "\n",
    "import py_4.get_mesh_vec as get_mesh_vec\n",
    "import py_3.sim_matrix_3 as sim_matrix_3\n",
    "import py_4.get_all_features as get_all_features \n",
    "\n",
    "from torch.utils.data import Dataset, DataLoader\n",
    "\n",
    "from sklearn.manifold import TSNE\n",
    "%matplotlib inline\n",
    "import matplotlib.pyplot as plt\n",
    "from mpl_toolkits.mplot3d import Axes3D\n",
    "import seaborn as sns\n",
    "import time\n",
    "\n",
    "from sklearn.preprocessing import StandardScaler\n",
    "\n",
    "%load_ext autoreload\n",
    "%autoreload 2"
   ]
  },
  {
   "cell_type": "code",
   "execution_count": 5,
   "metadata": {},
   "outputs": [],
   "source": [
    "mesh_embed=get_mesh_vec.MeshEmbeddings(PROJECT_ROOT + \"data/mesh_data/MeSHFeatureGeneratedByDeepWalk.csv\")"
   ]
  },
  {
   "cell_type": "code",
   "execution_count": 6,
   "metadata": {
    "tags": []
   },
   "outputs": [
    {
     "name": "stdout",
     "output_type": "stream",
     "text": [
      "PULLING FROM S3\n",
      "FILE PULLED\n"
     ]
    }
   ],
   "source": [
    "FILE = \"enriched_labeled_dataset_large\" \n",
    "if os.path.exists(PROJECT_ROOT + DATA_PATH + FILE):\n",
    "    print(\"READING FROM LOCAL\")\n",
    "    if FILE.split(\".\")[1] == \"json\":\n",
    "        df = pd.read_json(PROJECT_ROOT + DATA_PATH + FILE)\n",
    "    else:\n",
    "        df = pd.read_csv(PROJECT_ROOT + DATA_PATH + FILE)\n",
    "    #ps = PaperSource()\n",
    "else:\n",
    "    print(\"PULLING FROM S3\")\n",
    "    ps = sim_matrix_3.load_dataset(FILE)\n",
    "    df = ps.get_dataset()\n",
    "\n",
    "df.drop(columns=[\"last_author_country\"],inplace=True)\n",
    "df.rename(columns={'ORG_STATE':'last_author_country'},inplace=True)\n",
    "\n",
    "print(\"FILE PULLED\")"
   ]
  },
  {
   "cell_type": "markdown",
   "metadata": {},
   "source": [
    "### Run VAE "
   ]
  },
  {
   "cell_type": "code",
   "execution_count": 7,
   "metadata": {},
   "outputs": [
    {
     "name": "stdout",
     "output_type": "stream",
     "text": [
      "/home/ubuntu/AYP\n"
     ]
    }
   ],
   "source": [
    "cd .."
   ]
  },
  {
   "cell_type": "code",
   "execution_count": 8,
   "metadata": {},
   "outputs": [],
   "source": [
    "auth_core = pd.read_csv(\"data/train_set_author_names.csv\")[\"0\"]\n",
    "auth_eps = pd.read_csv(\"data/val_set_author_names.csv\")[\"0\"]\n",
    "auth_usecase = pd.read_csv(\"data/test_set_author_names.csv\")[\"0\"]"
   ]
  },
  {
   "cell_type": "code",
   "execution_count": 63,
   "metadata": {},
   "outputs": [],
   "source": [
    "selection_train = list(set(df['last_author_name']) - set(auth_usecase))[:4000]\n",
    "selection_test = list(set(df['last_author_name']) - set(auth_usecase))[4000:4500]"
   ]
  },
  {
   "cell_type": "code",
   "execution_count": 197,
   "metadata": {},
   "outputs": [
    {
     "data": {
      "text/plain": [
       "device(type='cuda')"
      ]
     },
     "execution_count": 197,
     "metadata": {},
     "output_type": "execute_result"
    }
   ],
   "source": [
    "#settings\n",
    "\n",
    "BATCH_SIZE= 32\n",
    "EPOCHS = 30\n",
    "cuda = torch.cuda.is_available()\n",
    "seed = 42\n",
    "log_interval = 10\n",
    "num_workers = 2\n",
    "\n",
    "#check for cuda\n",
    "device = torch.device('cuda' if cuda else 'cpu')\n",
    "\n",
    "torch.manual_seed(seed)\n",
    "kwargs = {'num_workers': 1, 'pin_memory': True} if cuda else {}\n",
    "\n",
    "device"
   ]
  },
  {
   "cell_type": "code",
   "execution_count": 198,
   "metadata": {},
   "outputs": [
    {
     "name": "stdout",
     "output_type": "stream",
     "text": [
      "'/home/ubuntu/AYP/code/models/names_epochs_2_vectorSize_64_window_2.model' already exits. Using existing model to re-generate results.\n",
      "'/home/ubuntu/AYP/code/models/co_authors_epochs_2_vectorSize_64_window_2.model' already exits. Using existing model to re-generate results.\n"
     ]
    }
   ],
   "source": [
    "all_vae = get_all_features.VAE_Features(df)"
   ]
  },
  {
   "cell_type": "code",
   "execution_count": 243,
   "metadata": {},
   "outputs": [],
   "source": [
    "df_nonan = df[np.invert(df['mesh'].isna())]"
   ]
  },
  {
   "cell_type": "code",
   "execution_count": 244,
   "metadata": {},
   "outputs": [],
   "source": [
    "class ToyDS(Dataset):\n",
    "    def __init__(self,df,selection,vae_features = None):\n",
    "        super().__init__()\n",
    "        self.df = df[df['last_author_name'].isin(selection)]\n",
    "        if vae_features is None:\n",
    "            print(\"Creating new VAE FEATURES\")\n",
    "            self.vae_features = get_all_features.VAE_Features(self.df)\n",
    "        else:\n",
    "            print(\"Using pre-defined VAE FEATURES\")\n",
    "            self.vae_features = vae_features\n",
    "        self.features = self.vae_features.get_all_features(self.df)\n",
    "        print(list(self.vae_features.mesh_features.mesh_missing))\n",
    "        self.input_dim = self.vae_features.input_dims\n",
    "            \n",
    "    def __len__(self):\n",
    "        return self.df.shape[0]\n",
    "    \n",
    "    def __getitem__(self, idx):\n",
    "        features = self.features[idx]\n",
    "        return features\n",
    "    \n",
    "    def __getvae__(self):\n",
    "        return self.vae_features"
   ]
  },
  {
   "cell_type": "code",
   "execution_count": 245,
   "metadata": {
    "tags": [
     "outputPrepend"
    ]
   },
   "outputs": [
    {
     "name": "stdout",
     "output_type": "stream",
     "text": [
      "Using pre-defined VAE FEATURES\n"
     ]
    },
    {
     "name": "stderr",
     "output_type": "stream",
     "text": [
      "/home/ubuntu/AYP/code/py_4/get_all_features.py:85: SettingWithCopyWarning: \n",
      "A value is trying to be set on a copy of a slice from a DataFrame.\n",
      "Try using .loc[row_indexer,col_indexer] = value instead\n",
      "\n",
      "See the caveats in the documentation: https://pandas.pydata.org/pandas-docs/stable/user_guide/indexing.html#returning-a-view-versus-a-copy\n",
      "  - co_authors to vector\n"
     ]
    },
    {
     "name": "stdout",
     "output_type": "stream",
     "text": [
      "Using old scaler\n",
      "['MESH NAME NOT FOUND: Early Intervention, Educational', 'MESH NAME NOT FOUND: Dependency, Psychological', 'MESH NAME NOT FOUND: Reinforcement, Psychology', 'MESH NAME NOT FOUND: Recognition, Psychology', 'MESH NAME NOT FOUND: Conditioning, Psychological', 'MESH NAME NOT FOUND: Sphingosine-1-Phosphate Receptors', 'MESH NAME NOT FOUND: Phospholipid Hydroperoxide Glutathione Peroxidase', \"MESH NAME NOT FOUND: Practice Patterns, Physicians'\", 'MESH NAME NOT FOUND: Lactate Dehydrogenase 5', 'MESH NAME NOT FOUND: Cyclophilin D', 'MESH NAME NOT FOUND: Phosphoinositide-3 Kinase Inhibitors', 'MESH NAME NOT FOUND: Chlorocebus aethiops', 'MESH NAME NOT FOUND: Indigenous Peoples', 'MESH NAME NOT FOUND: Neural Networks, Computer', 'MESH NAME NOT FOUND: Protein-Arginine Deiminase Type 4', 'MESH NAME NOT FOUND: Infections', 'MESH NAME NOT FOUND: RNA, Circular', 'MESH NAME NOT FOUND: Outcome Assessment, Health Care', 'MESH NAME NOT FOUND: Broadly Neutralizing Antibodies', 'MESH NAME NOT FOUND: Discrimination, Psychological', 'MESH NAME NOT FOUND: Female', 'MESH NAME NOT FOUND: Male', 'MESH NAME NOT FOUND: Illicit Drugs']\n"
     ]
    }
   ],
   "source": [
    "train_set = ToyDS(df_nonan, selection_train, all_vae)\n",
    "train_loader=DataLoader(dataset= train_set, batch_size = BATCH_SIZE, shuffle = True, num_workers = num_workers)"
   ]
  },
  {
   "cell_type": "code",
   "execution_count": 246,
   "metadata": {},
   "outputs": [
    {
     "name": "stdout",
     "output_type": "stream",
     "text": [
      "The number of features:  64\n",
      "The number of train data:  20205\n"
     ]
    }
   ],
   "source": [
    "print(\"The number of features: \",train_set.input_dim)\n",
    "print(\"The number of train data: \",train_set.__len__())"
   ]
  },
  {
   "cell_type": "code",
   "execution_count": 247,
   "metadata": {},
   "outputs": [],
   "source": [
    "class VAE(nn.Module):\n",
    "    def __init__(self, hidden_dim, latent_dim, input_dim = train_set.input_dim):\n",
    "        super(VAE, self).__init__()\n",
    "        self.input_dim = input_dim\n",
    "        self.hidden_dim = hidden_dim\n",
    "        self.latent_dim = latent_dim\n",
    "        \n",
    "        self.fc1 = nn.Linear(self.input_dim, self.hidden_dim)\n",
    "        self.fc21 = nn.Linear(self.hidden_dim, self.latent_dim)\n",
    "        self.fc22 = nn.Linear(self.hidden_dim, self.latent_dim)\n",
    "        self.fc3 = nn.Linear(self.latent_dim, self.hidden_dim)\n",
    "        self.fc4 = nn.Linear(self.hidden_dim, self.input_dim)\n",
    "\n",
    "    def encode(self, x):\n",
    "        h = F.relu(self.fc1(x))\n",
    "        return self.fc21(h), self.fc22(h)\n",
    "\n",
    "    def reparameterize(self, mu, logvar):\n",
    "        std = torch.exp(0.5*logvar)\n",
    "        eps = torch.randn_like(std)\n",
    "        return eps.mul(std).add_(mu) # return z sample\n",
    "        \n",
    "\n",
    "    def decode(self, z):\n",
    "        h = F.relu(self.fc3(z))\n",
    "        return self.fc4(h)\n",
    "\n",
    "    def forward(self, x):\n",
    "        mu, logvar = self.encode(x.view(-1, self.input_dim))\n",
    "        z = self.reparameterize(mu, logvar)\n",
    "        return self.decode(z), mu, logvar"
   ]
  },
  {
   "cell_type": "code",
   "execution_count": 287,
   "metadata": {},
   "outputs": [],
   "source": [
    "class VAE_GAUSSIAN(nn.Module):\n",
    "    def __init__(self, hidden_dim, latent_dim, input_dim = train_set.input_dim):\n",
    "        super(VAE_GAUSSIAN, self).__init__()\n",
    "        self.input_dim = input_dim\n",
    "        self.hidden_dim = hidden_dim\n",
    "        self.latent_dim = latent_dim\n",
    "\n",
    "        self.fc1 = nn.Linear(self.input_dim, self.hidden_dim)\n",
    "        self.fc21 = nn.Linear(self.hidden_dim, self.latent_dim)\n",
    "        self.fc22 = nn.Linear(self.hidden_dim, self.latent_dim)\n",
    "        self.fc3 = nn.Linear(self.latent_dim, self.hidden_dim)\n",
    "        self.fc4 = nn.Linear(self.hidden_dim, self.input_dim)\n",
    "        self.fc5 = nn.Linear(self.hidden_dim, self.input_dim)\n",
    "\n",
    "    def encode(self, x):\n",
    "        h = F.relu(self.fc1(x))\n",
    "        return self.fc21(h), self.fc22(h)\n",
    "\n",
    "    def reparameterize(self, mu, logvar):\n",
    "        std = torch.exp(0.5*logvar)\n",
    "        eps = torch.randn_like(std)\n",
    "        return eps.mul(std).add_(mu) # return z sample\n",
    "\n",
    "    def decode(self, z):\n",
    "        h = F.relu(self.fc3(z))\n",
    "        mu = self.fc4(h)\n",
    "        logvar = self.fc5(h)\n",
    "        return mu, logvar\n",
    "\n",
    "    def forward(self, x):\n",
    "        mu_latent, logvar_latent = self.encode(x.view(-1, self.input_dim))\n",
    "        z = self.reparameterize(mu_latent, logvar_latent)\n",
    "        mu_x, logvar_x = self.decode(z)\n",
    "        return mu_latent, logvar_latent, mu_x, logvar_x\n",
    "    \n",
    "def loss_function_gaussian(x, mu_x, logvar_x, mu_latent, logvar_latent):\n",
    "    # neg log likelihood of x under normal\n",
    "#     loss_rec = np.log(2.0 * np.pi) + logvar_x + (x - mu_x)**2 / (2*torch.exp(logvar_x))\n",
    "    \n",
    "    loss_rec = -torch.sum((-0.5 * np.log(2.0 * np.pi)) + \\\n",
    "                          (-0.5 * logvar_x) + \\\n",
    "                          ((-0.5 / torch.exp(logvar_x)) * \\\n",
    "                           (targets - mu_x) ** 2.0), \\\n",
    "                          dim=dim,)\n",
    "    KLD = -0.5 * torch.sum(1 + logvar_latent - mu_latent.pow(2) - logvar_latent.exp())\n",
    "    return loss_rec + KLD"
   ]
  },
  {
   "cell_type": "code",
   "execution_count": 248,
   "metadata": {},
   "outputs": [],
   "source": [
    "def loss_function(recon_x, x, mu, log_var):\n",
    "\n",
    "#     MSE = F.l1_loss(recon_x, x.view(-1, train_set.input_dim))\n",
    "\n",
    "#     # see Appendix B from VAE paper:\n",
    "#     # Kingma and Welling. Auto-Encoding Variational Bayes. ICLR, 2014\n",
    "#     # https://arxiv.org/abs/1312.6114\n",
    "#     # 0.5 * sum(1 + log(sigma^2) - mu^2 - sigma^2)\n",
    "#     KLD = -0.5 * torch.sum(1 + logvar - mu.pow(2) - logvar.exp())\n",
    "# #     KLD /= BATCH_SIZE * train_set.input_dim\n",
    "    \n",
    "# #     gamma = min(1.0,np.log(epoch+1))\n",
    "#     assert(KLD >= 0)\n",
    "    \n",
    "    \n",
    "    batch_size = x.size()[0]\n",
    "    MSE =  F.mse_loss(recon_x, x)\n",
    "    KLD_element = mu.pow(2).add_(log_var.exp()).mul_(-1).add_(1).add_(log_var)\n",
    "    KLD = torch.sum(KLD_element).mul_(-0.5) / batch_size\n",
    "    assert(KLD >= 0)\n",
    "    return MSE + KLD "
   ]
  },
  {
   "cell_type": "code",
   "execution_count": 266,
   "metadata": {},
   "outputs": [],
   "source": [
    "model = VAE(hidden_dim=32,latent_dim=2).to(device)\n",
    "optimizer = optim.Adam(model.parameters())"
   ]
  },
  {
   "cell_type": "code",
   "execution_count": 288,
   "metadata": {},
   "outputs": [],
   "source": [
    "model_gaussian = VAE_GAUSSIAN(hidden_dim=32,latent_dim=2).to(device)\n",
    "optimizer_gaussian = optim.Adam(model_gaussian.parameters())"
   ]
  },
  {
   "cell_type": "code",
   "execution_count": 289,
   "metadata": {
    "tags": []
   },
   "outputs": [
    {
     "data": {
      "text/plain": [
       "VAE_GAUSSIAN(\n",
       "  (fc1): Linear(in_features=64, out_features=32, bias=True)\n",
       "  (fc21): Linear(in_features=32, out_features=2, bias=True)\n",
       "  (fc22): Linear(in_features=32, out_features=2, bias=True)\n",
       "  (fc3): Linear(in_features=2, out_features=32, bias=True)\n",
       "  (fc4): Linear(in_features=32, out_features=64, bias=True)\n",
       "  (fc5): Linear(in_features=32, out_features=64, bias=True)\n",
       ")"
      ]
     },
     "execution_count": 289,
     "metadata": {},
     "output_type": "execute_result"
    }
   ],
   "source": [
    "model_gaussian"
   ]
  },
  {
   "cell_type": "code",
   "execution_count": 290,
   "metadata": {},
   "outputs": [],
   "source": [
    "def train_epoch_gaussian(tr_loader, model, criterion, optimizer, num_epochs):\n",
    "    model.train()\n",
    "    train_log = []\n",
    "    \n",
    "    with torch.no_grad():\n",
    "        for epoch in range(num_epochs):\n",
    "            print(\"Started training epoch no. {}\".format(epoch+1))\n",
    "            train_loss= 0\n",
    "            for batch_idx, data in enumerate(train_loader):\n",
    "                data = data.to(device, dtype=torch.float32)\n",
    "                optimizer.zero_grad()\n",
    "                mu_latent, logvar_latent, mu_x, logvar_x = model(data)\n",
    "                loss = criterion(data, mu_x, logvar_x, mu_latent, logvar_latent)\n",
    "                loss.backward()\n",
    "                train_loss += loss.item()\n",
    "                optimizer.step()\n",
    "            print('====> Epoch: {} Average loss: {:.8f}\\n'.format(\n",
    "                epoch+1, train_loss / len(train_loader.dataset)))\n",
    "            train_log.append({\n",
    "                'epoch': epoch,\n",
    "                'train_loss': train_loss / len(train_loader.dataset)})\n",
    "    return train_log"
   ]
  },
  {
   "cell_type": "code",
   "execution_count": 291,
   "metadata": {},
   "outputs": [
    {
     "name": "stdout",
     "output_type": "stream",
     "text": [
      "Started training epoch no. 1\n"
     ]
    },
    {
     "ename": "NameError",
     "evalue": "name 'LOG_2_PI' is not defined",
     "output_type": "error",
     "traceback": [
      "\u001b[0;31m---------------------------------------------------------------------------\u001b[0m",
      "\u001b[0;31mNameError\u001b[0m                                 Traceback (most recent call last)",
      "\u001b[0;32m<ipython-input-291-5569dfaf1c99>\u001b[0m in \u001b[0;36m<module>\u001b[0;34m\u001b[0m\n\u001b[0;32m----> 1\u001b[0;31m \u001b[0mtrain_epoch_gaussian\u001b[0m\u001b[0;34m(\u001b[0m\u001b[0mtrain_loader\u001b[0m\u001b[0;34m,\u001b[0m\u001b[0mmodel_gaussian\u001b[0m\u001b[0;34m,\u001b[0m\u001b[0mloss_function_gaussian\u001b[0m\u001b[0;34m,\u001b[0m\u001b[0moptimizer_gaussian\u001b[0m\u001b[0;34m,\u001b[0m\u001b[0mnum_epochs\u001b[0m\u001b[0;34m=\u001b[0m \u001b[0mEPOCHS\u001b[0m\u001b[0;34m)\u001b[0m\u001b[0;34m\u001b[0m\u001b[0;34m\u001b[0m\u001b[0m\n\u001b[0m",
      "\u001b[0;32m<ipython-input-290-e8c01e1c6ab7>\u001b[0m in \u001b[0;36mtrain_epoch_gaussian\u001b[0;34m(tr_loader, model, criterion, optimizer, num_epochs)\u001b[0m\n\u001b[1;32m     11\u001b[0m                 \u001b[0moptimizer\u001b[0m\u001b[0;34m.\u001b[0m\u001b[0mzero_grad\u001b[0m\u001b[0;34m(\u001b[0m\u001b[0;34m)\u001b[0m\u001b[0;34m\u001b[0m\u001b[0;34m\u001b[0m\u001b[0m\n\u001b[1;32m     12\u001b[0m                 \u001b[0mmu_latent\u001b[0m\u001b[0;34m,\u001b[0m \u001b[0mlogvar_latent\u001b[0m\u001b[0;34m,\u001b[0m \u001b[0mmu_x\u001b[0m\u001b[0;34m,\u001b[0m \u001b[0mlogvar_x\u001b[0m \u001b[0;34m=\u001b[0m \u001b[0mmodel\u001b[0m\u001b[0;34m(\u001b[0m\u001b[0mdata\u001b[0m\u001b[0;34m)\u001b[0m\u001b[0;34m\u001b[0m\u001b[0;34m\u001b[0m\u001b[0m\n\u001b[0;32m---> 13\u001b[0;31m                 \u001b[0mloss\u001b[0m \u001b[0;34m=\u001b[0m \u001b[0mcriterion\u001b[0m\u001b[0;34m(\u001b[0m\u001b[0mdata\u001b[0m\u001b[0;34m,\u001b[0m \u001b[0mmu_x\u001b[0m\u001b[0;34m,\u001b[0m \u001b[0mlogvar_x\u001b[0m\u001b[0;34m,\u001b[0m \u001b[0mmu_latent\u001b[0m\u001b[0;34m,\u001b[0m \u001b[0mlogvar_latent\u001b[0m\u001b[0;34m)\u001b[0m\u001b[0;34m\u001b[0m\u001b[0;34m\u001b[0m\u001b[0m\n\u001b[0m\u001b[1;32m     14\u001b[0m                 \u001b[0mloss\u001b[0m\u001b[0;34m.\u001b[0m\u001b[0mbackward\u001b[0m\u001b[0;34m(\u001b[0m\u001b[0;34m)\u001b[0m\u001b[0;34m\u001b[0m\u001b[0;34m\u001b[0m\u001b[0m\n\u001b[1;32m     15\u001b[0m                 \u001b[0mtrain_loss\u001b[0m \u001b[0;34m+=\u001b[0m \u001b[0mloss\u001b[0m\u001b[0;34m.\u001b[0m\u001b[0mitem\u001b[0m\u001b[0;34m(\u001b[0m\u001b[0;34m)\u001b[0m\u001b[0;34m\u001b[0m\u001b[0;34m\u001b[0m\u001b[0m\n",
      "\u001b[0;32m<ipython-input-287-bf5fa4d47c8a>\u001b[0m in \u001b[0;36mloss_function_gaussian\u001b[0;34m(x, mu_x, logvar_x, mu_latent, logvar_latent)\u001b[0m\n\u001b[1;32m     36\u001b[0m \u001b[0;32mdef\u001b[0m \u001b[0mloss_function_gaussian\u001b[0m\u001b[0;34m(\u001b[0m\u001b[0mx\u001b[0m\u001b[0;34m,\u001b[0m \u001b[0mmu_x\u001b[0m\u001b[0;34m,\u001b[0m \u001b[0mlogvar_x\u001b[0m\u001b[0;34m,\u001b[0m \u001b[0mmu_latent\u001b[0m\u001b[0;34m,\u001b[0m \u001b[0mlogvar_latent\u001b[0m\u001b[0;34m)\u001b[0m\u001b[0;34m:\u001b[0m\u001b[0;34m\u001b[0m\u001b[0;34m\u001b[0m\u001b[0m\n\u001b[1;32m     37\u001b[0m     \u001b[0;31m# neg log likelihood of x under normal\u001b[0m\u001b[0;34m\u001b[0m\u001b[0;34m\u001b[0m\u001b[0;34m\u001b[0m\u001b[0m\n\u001b[0;32m---> 38\u001b[0;31m     \u001b[0mloss_rec\u001b[0m \u001b[0;34m=\u001b[0m \u001b[0mLOG_2_PI\u001b[0m \u001b[0;34m+\u001b[0m \u001b[0mlogvar_x\u001b[0m \u001b[0;34m+\u001b[0m \u001b[0;34m(\u001b[0m\u001b[0mx\u001b[0m \u001b[0;34m-\u001b[0m \u001b[0mmu_x\u001b[0m\u001b[0;34m)\u001b[0m\u001b[0;34m**\u001b[0m\u001b[0;36m2\u001b[0m \u001b[0;34m/\u001b[0m \u001b[0;34m(\u001b[0m\u001b[0;36m2\u001b[0m\u001b[0;34m*\u001b[0m\u001b[0mtorch\u001b[0m\u001b[0;34m.\u001b[0m\u001b[0mexp\u001b[0m\u001b[0;34m(\u001b[0m\u001b[0mlogvar_x\u001b[0m\u001b[0;34m)\u001b[0m\u001b[0;34m)\u001b[0m\u001b[0;34m\u001b[0m\u001b[0;34m\u001b[0m\u001b[0m\n\u001b[0m\u001b[1;32m     39\u001b[0m     \u001b[0mKLD\u001b[0m \u001b[0;34m=\u001b[0m \u001b[0;34m-\u001b[0m\u001b[0;36m0.5\u001b[0m \u001b[0;34m*\u001b[0m \u001b[0mtorch\u001b[0m\u001b[0;34m.\u001b[0m\u001b[0msum\u001b[0m\u001b[0;34m(\u001b[0m\u001b[0;36m1\u001b[0m \u001b[0;34m+\u001b[0m \u001b[0mlogvar_latent\u001b[0m \u001b[0;34m-\u001b[0m \u001b[0mmu_latent\u001b[0m\u001b[0;34m.\u001b[0m\u001b[0mpow\u001b[0m\u001b[0;34m(\u001b[0m\u001b[0;36m2\u001b[0m\u001b[0;34m)\u001b[0m \u001b[0;34m-\u001b[0m \u001b[0mlogvar_latent\u001b[0m\u001b[0;34m.\u001b[0m\u001b[0mexp\u001b[0m\u001b[0;34m(\u001b[0m\u001b[0;34m)\u001b[0m\u001b[0;34m)\u001b[0m\u001b[0;34m\u001b[0m\u001b[0;34m\u001b[0m\u001b[0m\n\u001b[1;32m     40\u001b[0m     \u001b[0;32mreturn\u001b[0m \u001b[0mloss_rec\u001b[0m \u001b[0;34m+\u001b[0m \u001b[0mKLD\u001b[0m\u001b[0;34m\u001b[0m\u001b[0;34m\u001b[0m\u001b[0m\n",
      "\u001b[0;31mNameError\u001b[0m: name 'LOG_2_PI' is not defined"
     ]
    }
   ],
   "source": [
    "train_epoch_gaussian(train_loader,model_gaussian,loss_function_gaussian,optimizer_gaussian,num_epochs= EPOCHS)"
   ]
  },
  {
   "cell_type": "code",
   "execution_count": 268,
   "metadata": {},
   "outputs": [],
   "source": [
    "def train_epoch(tr_loader, model, criterion, optimizer, num_epochs):\n",
    "    model.train()\n",
    "    train_log = []\n",
    "    \n",
    "    with torch.no_grad():\n",
    "        for epoch in range(num_epochs):\n",
    "            print(\"Started training epoch no. {}\".format(epoch+1))\n",
    "            train_loss= 0\n",
    "            for batch_idx, data in enumerate(train_loader):\n",
    "                data = data.to(device, dtype=torch.float32)\n",
    "                optimizer.zero_grad()\n",
    "                recon_batch, mu, logvar = model(data)\n",
    "                loss = criterion(recon_batch, data, mu, logvar)\n",
    "                loss.backward()\n",
    "                train_loss += loss.item()\n",
    "                optimizer.step()\n",
    "            print('====> Epoch: {} Average loss: {:.8f}\\n'.format(\n",
    "                epoch+1, train_loss / len(train_loader.dataset)))\n",
    "            train_log.append({\n",
    "                'epoch': epoch,\n",
    "                'train_loss': train_loss / len(train_loader.dataset)})\n",
    "    return train_log"
   ]
  },
  {
   "cell_type": "code",
   "execution_count": 269,
   "metadata": {},
   "outputs": [],
   "source": [
    "def test_model(test_loader, model):\n",
    "    model.eval()\n",
    "    test_loss = 0\n",
    "    with torch.no_grad():\n",
    "        for i, data in enumerate(test_loader):\n",
    "            data = data.to(device, dtype=torch.float32)\n",
    "            recon_batch, mu, logvar = model(data)\n",
    "            test_loss += loss_function(recon_batch, data, mu, logvar).item()\n",
    "    test_loss /= len(test_loader.dataset)\n",
    "    print('====> Test set loss: {:.4f}'.format(test_loss))"
   ]
  },
  {
   "cell_type": "code",
   "execution_count": 270,
   "metadata": {
    "tags": []
   },
   "outputs": [
    {
     "name": "stdout",
     "output_type": "stream",
     "text": [
      "Started training epoch no. 1\n",
      "====> Epoch: 1 Average loss: 0.03546811\n",
      "\n",
      "Started training epoch no. 2\n",
      "====> Epoch: 2 Average loss: 0.03513248\n",
      "\n",
      "Started training epoch no. 3\n",
      "====> Epoch: 3 Average loss: 0.03513636\n",
      "\n",
      "Started training epoch no. 4\n",
      "====> Epoch: 4 Average loss: 0.03510123\n",
      "\n",
      "Started training epoch no. 5\n",
      "====> Epoch: 5 Average loss: 0.03510537\n",
      "\n",
      "Started training epoch no. 6\n",
      "====> Epoch: 6 Average loss: 0.03510352\n",
      "\n",
      "Started training epoch no. 7\n",
      "====> Epoch: 7 Average loss: 0.03508825\n",
      "\n",
      "Started training epoch no. 8\n",
      "====> Epoch: 8 Average loss: 0.03508958\n",
      "\n",
      "Started training epoch no. 9\n",
      "====> Epoch: 9 Average loss: 0.03508858\n",
      "\n",
      "Started training epoch no. 10\n",
      "====> Epoch: 10 Average loss: 0.03509319\n",
      "\n",
      "Started training epoch no. 11\n",
      "====> Epoch: 11 Average loss: 0.03508764\n",
      "\n",
      "Started training epoch no. 12\n",
      "====> Epoch: 12 Average loss: 0.03508028\n",
      "\n",
      "Started training epoch no. 13\n",
      "====> Epoch: 13 Average loss: 0.03507506\n",
      "\n",
      "Started training epoch no. 14\n",
      "====> Epoch: 14 Average loss: 0.03507584\n",
      "\n",
      "Started training epoch no. 15\n",
      "====> Epoch: 15 Average loss: 0.03505581\n",
      "\n",
      "Started training epoch no. 16\n",
      "====> Epoch: 16 Average loss: 0.03509026\n",
      "\n",
      "Started training epoch no. 17\n",
      "====> Epoch: 17 Average loss: 0.03507680\n",
      "\n",
      "Started training epoch no. 18\n",
      "====> Epoch: 18 Average loss: 0.03508816\n",
      "\n",
      "Started training epoch no. 19\n",
      "====> Epoch: 19 Average loss: 0.03506896\n",
      "\n",
      "Started training epoch no. 20\n",
      "====> Epoch: 20 Average loss: 0.03507256\n",
      "\n",
      "Started training epoch no. 21\n",
      "====> Epoch: 21 Average loss: 0.03507182\n",
      "\n",
      "Started training epoch no. 22\n",
      "====> Epoch: 22 Average loss: 0.03507474\n",
      "\n",
      "Started training epoch no. 23\n",
      "====> Epoch: 23 Average loss: 0.03506782\n",
      "\n",
      "Started training epoch no. 24\n",
      "====> Epoch: 24 Average loss: 0.03506419\n",
      "\n",
      "Started training epoch no. 25\n",
      "====> Epoch: 25 Average loss: 0.03507318\n",
      "\n",
      "Started training epoch no. 26\n",
      "====> Epoch: 26 Average loss: 0.03505895\n",
      "\n",
      "Started training epoch no. 27\n",
      "====> Epoch: 27 Average loss: 0.03507493\n",
      "\n",
      "Started training epoch no. 28\n",
      "====> Epoch: 28 Average loss: 0.03507365\n",
      "\n",
      "Started training epoch no. 29\n",
      "====> Epoch: 29 Average loss: 0.03508106\n",
      "\n",
      "Started training epoch no. 30\n",
      "====> Epoch: 30 Average loss: 0.03508061\n",
      "\n"
     ]
    }
   ],
   "source": [
    "train_log = train_epoch(train_loader,model,loss_function,optimizer,num_epochs= EPOCHS)"
   ]
  },
  {
   "cell_type": "code",
   "execution_count": 271,
   "metadata": {},
   "outputs": [
    {
     "data": {
      "text/plain": [
       "[{'epoch': 0, 'train_loss': 0.03546810867585218},\n",
       " {'epoch': 1, 'train_loss': 0.035132484676754734},\n",
       " {'epoch': 2, 'train_loss': 0.03513636064246219},\n",
       " {'epoch': 3, 'train_loss': 0.035101230850729484},\n",
       " {'epoch': 4, 'train_loss': 0.03510536925682364},\n",
       " {'epoch': 5, 'train_loss': 0.03510351787254203},\n",
       " {'epoch': 6, 'train_loss': 0.035088248976797375},\n",
       " {'epoch': 7, 'train_loss': 0.035089577970101204},\n",
       " {'epoch': 8, 'train_loss': 0.0350885832820072},\n",
       " {'epoch': 9, 'train_loss': 0.035093188574927124},\n",
       " {'epoch': 10, 'train_loss': 0.035087644617264296},\n",
       " {'epoch': 11, 'train_loss': 0.035080279297416854},\n",
       " {'epoch': 12, 'train_loss': 0.03507506075662954},\n",
       " {'epoch': 13, 'train_loss': 0.03507583628961043},\n",
       " {'epoch': 14, 'train_loss': 0.03505581017031407},\n",
       " {'epoch': 15, 'train_loss': 0.03509026137474473},\n",
       " {'epoch': 16, 'train_loss': 0.035076801495456486},\n",
       " {'epoch': 17, 'train_loss': 0.03508815992825458},\n",
       " {'epoch': 18, 'train_loss': 0.035068959875349894},\n",
       " {'epoch': 19, 'train_loss': 0.035072561429591795},\n",
       " {'epoch': 20, 'train_loss': 0.03507182245589636},\n",
       " {'epoch': 21, 'train_loss': 0.035074744231038325},\n",
       " {'epoch': 22, 'train_loss': 0.03506782404475506},\n",
       " {'epoch': 23, 'train_loss': 0.035064189881270726},\n",
       " {'epoch': 24, 'train_loss': 0.0350731801024996},\n",
       " {'epoch': 25, 'train_loss': 0.0350589542983635},\n",
       " {'epoch': 26, 'train_loss': 0.03507493490985171},\n",
       " {'epoch': 27, 'train_loss': 0.035073653261014304},\n",
       " {'epoch': 28, 'train_loss': 0.035081063108083135},\n",
       " {'epoch': 29, 'train_loss': 0.035080606802888686}]"
      ]
     },
     "execution_count": 271,
     "metadata": {},
     "output_type": "execute_result"
    }
   ],
   "source": [
    "train_log"
   ]
  },
  {
   "cell_type": "code",
   "execution_count": 272,
   "metadata": {},
   "outputs": [
    {
     "name": "stdout",
     "output_type": "stream",
     "text": [
      "Using pre-defined VAE FEATURES\n"
     ]
    },
    {
     "name": "stderr",
     "output_type": "stream",
     "text": [
      "/home/ubuntu/AYP/code/py_4/get_all_features.py:85: SettingWithCopyWarning: \n",
      "A value is trying to be set on a copy of a slice from a DataFrame.\n",
      "Try using .loc[row_indexer,col_indexer] = value instead\n",
      "\n",
      "See the caveats in the documentation: https://pandas.pydata.org/pandas-docs/stable/user_guide/indexing.html#returning-a-view-versus-a-copy\n",
      "  - co_authors to vector\n"
     ]
    },
    {
     "name": "stdout",
     "output_type": "stream",
     "text": [
      "Using old scaler\n",
      "['MESH NAME NOT FOUND: Early Intervention, Educational', 'MESH NAME NOT FOUND: Dependency, Psychological', 'MESH NAME NOT FOUND: Reinforcement, Psychology', 'MESH NAME NOT FOUND: Recognition, Psychology', 'MESH NAME NOT FOUND: Conditioning, Psychological', 'MESH NAME NOT FOUND: Sphingosine-1-Phosphate Receptors', 'MESH NAME NOT FOUND: Phospholipid Hydroperoxide Glutathione Peroxidase', \"MESH NAME NOT FOUND: Practice Patterns, Physicians'\", 'MESH NAME NOT FOUND: Lactate Dehydrogenase 5', 'MESH NAME NOT FOUND: Cyclophilin D', 'MESH NAME NOT FOUND: Phosphoinositide-3 Kinase Inhibitors', 'MESH NAME NOT FOUND: Chlorocebus aethiops', 'MESH NAME NOT FOUND: Indigenous Peoples', 'MESH NAME NOT FOUND: Neural Networks, Computer', 'MESH NAME NOT FOUND: Protein-Arginine Deiminase Type 4', 'MESH NAME NOT FOUND: Infections', 'MESH NAME NOT FOUND: RNA, Circular', 'MESH NAME NOT FOUND: Outcome Assessment, Health Care', 'MESH NAME NOT FOUND: Broadly Neutralizing Antibodies', 'MESH NAME NOT FOUND: Discrimination, Psychological', 'MESH NAME NOT FOUND: Female', 'MESH NAME NOT FOUND: Male', 'MESH NAME NOT FOUND: Illicit Drugs']\n"
     ]
    }
   ],
   "source": [
    "test_set = ToyDS(df, selection_test, vae_features = train_set.__getvae__())\n",
    "test_loader=DataLoader(dataset= test_set, batch_size = BATCH_SIZE, shuffle = True, num_workers = num_workers)"
   ]
  },
  {
   "cell_type": "code",
   "execution_count": 273,
   "metadata": {},
   "outputs": [
    {
     "name": "stdout",
     "output_type": "stream",
     "text": [
      "====> Test set loss: 0.0326\n"
     ]
    }
   ],
   "source": [
    "test_model(test_loader, model)"
   ]
  },
  {
   "cell_type": "code",
   "execution_count": 274,
   "metadata": {},
   "outputs": [],
   "source": [
    "data = torch.from_numpy(test_set.features).to(device,dtype=torch.float32)\n",
    "x_hat_test, _, __ = model(data)"
   ]
  },
  {
   "cell_type": "code",
   "execution_count": 275,
   "metadata": {},
   "outputs": [],
   "source": [
    "assert(test_set.features.shape==x_hat_test.shape)"
   ]
  },
  {
   "cell_type": "code",
   "execution_count": 276,
   "metadata": {},
   "outputs": [
    {
     "data": {
      "text/plain": [
       "1.039353195358378"
      ]
     },
     "execution_count": 276,
     "metadata": {},
     "output_type": "execute_result"
    }
   ],
   "source": [
    "np.mean(np.square(x_hat_test.detach().cpu().numpy() - test_set.features))"
   ]
  },
  {
   "cell_type": "markdown",
   "metadata": {},
   "source": [
    "# Test"
   ]
  },
  {
   "cell_type": "code",
   "execution_count": 153,
   "metadata": {},
   "outputs": [
    {
     "name": "stdout",
     "output_type": "stream",
     "text": [
      "7127687     10\n",
      "10594466     8\n",
      "11990780     1\n",
      "Name: PI_IDS, dtype: int64\n"
     ]
    }
   ],
   "source": [
    "selection = [auth_usecase[109]]\n",
    "print(df[df['last_author_name'].isin(selection)][\"PI_IDS\"].value_counts())"
   ]
  },
  {
   "cell_type": "code",
   "execution_count": 154,
   "metadata": {
    "tags": []
   },
   "outputs": [
    {
     "name": "stdout",
     "output_type": "stream",
     "text": [
      "Using pre-defined VAE FEATURES\n",
      "Using old scaler\n",
      "['MESH NAME NOT FOUND: Female', \"MESH NAME NOT FOUND: Practice Patterns, Physicians'\", 'MESH NAME NOT FOUND: Phosphoinositide-3 Kinase Inhibitors', 'MESH NAME NOT FOUND: Chlorocebus aethiops', 'MESH NAME NOT FOUND: Male', 'MESH NAME NOT FOUND: Phospholipid Hydroperoxide Glutathione Peroxidase', 'MESH NAME NOT FOUND: Outcome Assessment, Health Care', 'MESH NAME NOT FOUND: Diet, Healthy', 'MESH NAME NOT FOUND: Copper-Transporting ATPases']\n"
     ]
    },
    {
     "name": "stderr",
     "output_type": "stream",
     "text": [
      "/home/ubuntu/AYP/code/py_4/get_all_features.py:88: SettingWithCopyWarning: \n",
      "A value is trying to be set on a copy of a slice from a DataFrame.\n",
      "Try using .loc[row_indexer,col_indexer] = value instead\n",
      "\n",
      "See the caveats in the documentation: https://pandas.pydata.org/pandas-docs/stable/user_guide/indexing.html#returning-a-view-versus-a-copy\n",
      "  df['co_authors']=df.authors.apply( lambda x: [i['name'] for i in x] )\n"
     ]
    }
   ],
   "source": [
    "train_vae = train_set.__getvae__()\n",
    "test_set = ToyDS(df, selection,train_vae)\n",
    "test_loader=DataLoader(dataset= test_set, batch_size = batch_size, shuffle = True, num_workers = num_workers)"
   ]
  },
  {
   "cell_type": "code",
   "execution_count": 155,
   "metadata": {},
   "outputs": [
    {
     "name": "stdout",
     "output_type": "stream",
     "text": [
      "(19, 32)\n",
      "(19, 64)\n"
     ]
    }
   ],
   "source": [
    "bottle_neck=[]\n",
    "recon_batchs = []\n",
    "for batch_idx, data in enumerate(test_loader):\n",
    "            data = data.to(device, dtype=torch.float32)\n",
    "            optimizer.zero_grad()\n",
    "            recon_batch, mu, logvar, _= model(data)\n",
    "            if cuda:\n",
    "                bottle_neck.extend(mu.cpu().detach().numpy())\n",
    "                recon_batchs.extend(recon_batch.cpu().detach().numpy())\n",
    "            else:\n",
    "                bottle_neck.extend(mu.detach().numpy())\n",
    "                recon_batchs.extend(recon_batch.detach().numpy())\n",
    "bottle_neck = np.array(bottle_neck)\n",
    "recon_batchs = np.array(recon_batchs)\n",
    "print(bottle_neck.shape)\n",
    "print(recon_batchs.shape)"
   ]
  },
  {
   "cell_type": "code",
   "execution_count": 157,
   "metadata": {
    "tags": []
   },
   "outputs": [
    {
     "name": "stdout",
     "output_type": "stream",
     "text": [
      "[t-SNE] Computing 4 nearest neighbors...\n",
      "[t-SNE] Indexed 19 samples in 0.000s...\n",
      "[t-SNE] Computed neighbors for 19 samples in 0.001s...\n",
      "[t-SNE] Computed conditional probabilities for sample 19 / 19\n",
      "[t-SNE] Mean sigma: 0.634541\n",
      "[t-SNE] KL divergence after 250 iterations with early exaggeration: 72.133377\n",
      "[t-SNE] KL divergence after 1000 iterations: 0.337330\n",
      "t-SNE done! Time elapsed: 0.14081168174743652 seconds\n"
     ]
    }
   ],
   "source": [
    "time_start = time.time()\n",
    "tsne = TSNE(n_components=2, verbose=1, perplexity=1, n_iter=1000,random_state=42)\n",
    "tsne_results = tsne.fit_transform(bottle_neck)\n",
    "print('t-SNE done! Time elapsed: {} seconds'.format(time.time()-time_start))"
   ]
  },
  {
   "cell_type": "code",
   "execution_count": 158,
   "metadata": {},
   "outputs": [],
   "source": [
    "df_subset=pd.DataFrame()\n",
    "df_subset['tsne-2d-one'] = tsne_results[:,0]\n",
    "df_subset['tsne-2d-two'] = tsne_results[:,1]\n",
    "df_subset['PI'] = list(df[df['last_author_name'].isin(selection)][\"PI_IDS\"])"
   ]
  },
  {
   "cell_type": "code",
   "execution_count": 159,
   "metadata": {},
   "outputs": [
    {
     "data": {
      "image/png": "[encoded data removed]",
      "text/plain": [
       "<Figure size 1008x720 with 1 Axes>"
      ]
     },
     "metadata": {
      "needs_background": "light"
     },
     "output_type": "display_data"
    }
   ],
   "source": [
    "groups = df_subset.groupby('PI')\n",
    "markers = ['o','v',\"x\"]\n",
    "colors = [\"red\",\"black\",\"green\"]\n",
    "# Plot\n",
    "fig, ax = plt.subplots(figsize=(14,10))\n",
    "\n",
    "ax.margins(0.05) # Optional, just adds 5% padding to the autoscaling\n",
    "for i, (name, group) in enumerate(groups):\n",
    "    ax.set_title(\"TSNE of the Mesh Embeddings\")\n",
    "    ax.plot(group['tsne-2d-one'], group['tsne-2d-two'], marker=markers[i], linestyle='', ms=12, label=name, color=colors[i])\n",
    "ax.legend()\n",
    "plt.show()\n",
    "fig.tight_layout();\n",
    "\n",
    "# fig.savefig('code/img/TSNE_Plots/mesh.png', bbox_inches='tight')"
   ]
  },
  {
   "cell_type": "markdown",
   "metadata": {},
   "source": [
    "### SANITY TESTS"
   ]
  },
  {
   "cell_type": "markdown",
   "metadata": {},
   "source": [
    "#### ON INPUT DIM:"
   ]
  },
  {
   "cell_type": "code",
   "execution_count": 160,
   "metadata": {},
   "outputs": [
    {
     "name": "stdout",
     "output_type": "stream",
     "text": [
      "[t-SNE] Computing 7 nearest neighbors...\n",
      "[t-SNE] Indexed 19 samples in 0.000s...\n",
      "[t-SNE] Computed neighbors for 19 samples in 0.001s...\n",
      "[t-SNE] Computed conditional probabilities for sample 19 / 19\n",
      "[t-SNE] Mean sigma: 0.000000\n",
      "[t-SNE] KL divergence after 250 iterations with early exaggeration: 75.712021\n",
      "[t-SNE] KL divergence after 1000 iterations: 0.240680\n",
      "t-SNE done! Time elapsed: 0.14115023612976074 seconds\n"
     ]
    }
   ],
   "source": [
    "time_start = time.time()\n",
    "tsne = TSNE(n_components=2, verbose=1, perplexity=2, n_iter=1000, random_state=42)\n",
    "tsne_inputs = tsne.fit_transform(test_set.features)\n",
    "print('t-SNE done! Time elapsed: {} seconds'.format(time.time()-time_start))\n",
    "input_testset=pd.DataFrame()\n",
    "input_testset['tsne-2d-one'] = tsne_inputs[:,0]\n",
    "input_testset['tsne-2d-two'] = tsne_inputs[:,1]\n",
    "input_testset['PI'] = list(df[df['last_author_name'].isin(selection)][\"PI_IDS\"])"
   ]
  },
  {
   "cell_type": "code",
   "execution_count": 161,
   "metadata": {},
   "outputs": [
    {
     "data": {
      "image/png": "[encoded data removed]",
      "text/plain": [
       "<Figure size 1008x720 with 1 Axes>"
      ]
     },
     "metadata": {
      "needs_background": "light"
     },
     "output_type": "display_data"
    }
   ],
   "source": [
    "groups = input_testset.groupby('PI')\n",
    "markers = ['o','v',\"x\"]\n",
    "colors = [\"red\",\"black\",\"green\"]\n",
    "# Plot\n",
    "fig, ax = plt.subplots(figsize=(14,10))\n",
    "\n",
    "ax.margins(0.05) # Optional, just adds 5% padding to the autoscaling\n",
    "for i, (name, group) in enumerate(groups):\n",
    "    ax.set_title(\"TSNE of the Mesh Embeddings\")\n",
    "    ax.plot(group['tsne-2d-one'], group['tsne-2d-two'], marker=markers[i], linestyle='', ms=12, label=name, color=colors[i])\n",
    "ax.legend()\n",
    "plt.show()\n",
    "fig.tight_layout();\n",
    "\n",
    "# fig.savefig('code/img/TSNE_Plots/mesh.png', bbox_inches='tight')"
   ]
  },
  {
   "cell_type": "markdown",
   "metadata": {},
   "source": [
    "### OUTPUT DIMS"
   ]
  },
  {
   "cell_type": "code",
   "execution_count": 162,
   "metadata": {},
   "outputs": [
    {
     "name": "stdout",
     "output_type": "stream",
     "text": [
      "[t-SNE] Computing 7 nearest neighbors...\n",
      "[t-SNE] Indexed 19 samples in 0.000s...\n",
      "[t-SNE] Computed neighbors for 19 samples in 0.001s...\n",
      "[t-SNE] Computed conditional probabilities for sample 19 / 19\n",
      "[t-SNE] Mean sigma: 0.000622\n",
      "[t-SNE] KL divergence after 250 iterations with early exaggeration: 69.051392\n",
      "[t-SNE] KL divergence after 1000 iterations: 0.264274\n",
      "t-SNE done! Time elapsed: 0.14203095436096191 seconds\n"
     ]
    }
   ],
   "source": [
    "time_start = time.time()\n",
    "tsne = TSNE(n_components=2, verbose=1, perplexity=2, n_iter=1000,random_state=42)\n",
    "tsne_output = tsne.fit_transform(recon_batchs)\n",
    "print('t-SNE done! Time elapsed: {} seconds'.format(time.time()-time_start))\n",
    "output_testset=pd.DataFrame()\n",
    "output_testset['tsne-2d-one'] = tsne_output[:,0]\n",
    "output_testset['tsne-2d-two'] = tsne_output[:,1]\n",
    "output_testset['PI'] = list(df[df['last_author_name'].isin(selection)][\"PI_IDS\"])"
   ]
  },
  {
   "cell_type": "code",
   "execution_count": 163,
   "metadata": {},
   "outputs": [
    {
     "data": {
      "image/png": "[encoded data removed]",
      "text/plain": [
       "<Figure size 1008x720 with 1 Axes>"
      ]
     },
     "metadata": {
      "needs_background": "light"
     },
     "output_type": "display_data"
    }
   ],
   "source": [
    "groups = output_testset.groupby('PI')\n",
    "markers = ['o','v',\"x\"]\n",
    "colors = [\"red\",\"black\",\"green\"]\n",
    "# Plot\n",
    "fig, ax = plt.subplots(figsize=(14,10))\n",
    "\n",
    "ax.margins(0.05) # Optional, just adds 5% padding to the autoscaling\n",
    "for i, (name, group) in enumerate(groups):\n",
    "    ax.set_title(\"TSNE of the Mesh Embeddings\")\n",
    "    ax.plot(group['tsne-2d-one'], group['tsne-2d-two'], marker=markers[i], linestyle='', ms=12, label=name, color=colors[i])\n",
    "ax.legend()\n",
    "plt.show()\n",
    "fig.tight_layout();\n",
    "\n",
    "# fig.savefig('code/img/TSNE_Plots/mesh.png', bbox_inches='tight')"
   ]
  },
  {
   "cell_type": "markdown",
   "metadata": {},
   "source": [
    "### NO MANS LAND"
   ]
  },
  {
   "cell_type": "code",
   "execution_count": 418,
   "metadata": {},
   "outputs": [
    {
     "data": {
      "text/plain": [
       "array([-0.50199129, -0.55304408, -1.11197024,  0.13279847,  0.65093502,\n",
       "       -0.42050131,  0.25626781, -0.21144755,  1.99238554, -0.29889596,\n",
       "        0.15860426,  0.45733381, -0.34631883,  0.4325539 ,  0.85681164,\n",
       "        0.17159677, -0.40004916, -0.07162718,  0.57666289,  1.49306876,\n",
       "        0.47493495,  0.97225905,  0.34451381,  0.64073872, -1.28121672,\n",
       "       -0.33810474,  0.43066876, -0.11457027,  0.3945722 ,  0.64803686,\n",
       "       -0.13211849,  0.02283041,  0.67664781,  0.2118174 , -1.59962644,\n",
       "       -0.05133112,  0.01799207,  0.47685679, -1.74260471, -1.84183656,\n",
       "       -1.13033742,  0.86080341,  0.29407667,  0.55475597, -0.17450885,\n",
       "       -0.39631865,  0.24888995, -0.16209635, -0.69429282,  0.25973779,\n",
       "        0.70000427,  0.03619969,  0.90741422,  0.47145351,  0.52880774,\n",
       "       -0.05796083,  0.26039517,  0.20660807, -0.12759649, -0.59140659,\n",
       "       -0.28420128,  0.02718099,  1.73989786, -0.01139748])"
      ]
     },
     "execution_count": 418,
     "metadata": {},
     "output_type": "execute_result"
    }
   ],
   "source": [
    "test_set.features[0]"
   ]
  },
  {
   "cell_type": "code",
   "execution_count": 419,
   "metadata": {},
   "outputs": [
    {
     "data": {
      "text/plain": [
       "array([-0.27714178, -1.0017875 , -0.8660377 , -1.3950189 ,  0.31925023,\n",
       "       -0.23967588, -0.7128467 , -0.544175  ,  0.49177524,  0.19092607,\n",
       "       -0.4768385 , -0.05419488, -0.78542185, -0.58475316,  0.51393145,\n",
       "        0.4190841 , -0.14231044,  0.06364942,  0.03426949,  0.3288126 ,\n",
       "        0.5649104 ,  0.8606392 ,  0.5308924 ,  0.05233103, -0.3207164 ,\n",
       "       -0.37507668, -0.32485735, -0.16376626, -0.09218411, -1.0987935 ,\n",
       "        0.5924798 , -0.4320191 ,  0.37508345, -0.01535261, -0.5751231 ,\n",
       "        0.3135656 , -0.70878136, -0.2714462 , -0.53419185,  0.59531003,\n",
       "       -0.7704554 ,  0.07954943,  0.37700552,  0.38243893,  0.06204695,\n",
       "       -0.30105564, -0.02034771,  0.17617917,  0.53712463,  0.10309541,\n",
       "       -0.09731984,  0.56918436,  0.0667811 , -0.1419054 ,  0.19347173,\n",
       "       -0.4024818 ,  0.5618698 ,  0.28563982,  1.0215642 ,  0.3107661 ,\n",
       "       -0.20175737, -0.04989976,  0.1086669 ,  0.21210732], dtype=float32)"
      ]
     },
     "execution_count": 419,
     "metadata": {},
     "output_type": "execute_result"
    }
   ],
   "source": [
    "x_hat_test[0]"
   ]
  }
 ],
 "metadata": {
  "kernelspec": {
   "display_name": "Environment (conda_pytorch_latest_p36)",
   "language": "python",
   "name": "conda_pytorch_latest_p36"
  },
  "language_info": {
   "codemirror_mode": {
    "name": "ipython",
    "version": 3
   },
   "file_extension": ".py",
   "mimetype": "text/x-python",
   "name": "python",
   "nbconvert_exporter": "python",
   "pygments_lexer": "ipython3",
   "version": "3.6.10"
  }
 },
 "nbformat": 4,
 "nbformat_minor": 4
}
