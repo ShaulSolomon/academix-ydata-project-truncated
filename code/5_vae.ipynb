{
 "cells": [ 
  {
   "cell_type": "markdown",
   "metadata": {},
   "source": [
    "# VAE"
   ]
  },
  {
   "cell_type": "code",
   "execution_count": 5,
   "metadata": {
    "tags": []
   },
   "outputs": [
    {
     "output_type": "stream",
     "name": "stdout",
     "text": "The autoreload extension is already loaded. To reload it, use:\n  %reload_ext autoreload\n"
    }
   ],
   "source": [
    "from __future__ import print_function\n",
    "import argparse\n",
    "import torch\n",
    "import torch.utils.data\n",
    "from torch import nn, optim\n",
    "from torch.nn import functional as F\n",
    "from torchvision import datasets, transforms\n",
    "from torchvision.utils import save_image\n",
    "import pandas as pd\n",
    "import utils\n",
    "from utils import PROJECT_ROOT, DATA_PATH\n",
    "import yuval_module.paper_source as PaperSource\n",
    "%load_ext autoreload\n",
    "%autoreload 2"
   ]
  },
  {
   "cell_type": "code",
   "execution_count": 6,
   "metadata": {},
   "outputs": [],
   "source": [
    "#sttings\n",
    "batch_size= 8\n",
    "epochs= 2\n",
    "cuda= torch.cuda.is_available()\n",
    "seed= 42\n",
    "log_interval= 10\n",
    "num_workers= 2"
   ]
  },
  {
   "cell_type": "code",
   "execution_count": 7,
   "metadata": {},
   "outputs": [
    {
     "output_type": "execute_result",
     "data": {
      "text/plain": "device(type='cpu')"
     },
     "metadata": {},
     "execution_count": 7
    }
   ],
   "source": [
    "#check for cuda\n",
    "device = torch.device('cuda' if cuda else 'cpu')\n",
    "device"
   ]
  },
  {
   "cell_type": "code",
   "execution_count": 8,
   "metadata": {},
   "outputs": [
    {
     "output_type": "execute_result",
     "data": {
      "text/plain": "<torch._C.Generator at 0x12dc31550>"
     },
     "metadata": {},
     "execution_count": 8
    }
   ],
   "source": [
    "torch.manual_seed(seed)\n"
   ]
  },
  {
   "cell_type": "code",
   "execution_count": 9,
   "metadata": {},
   "outputs": [],
   "source": [
    "kwargs = {'num_workers': 1, 'pin_memory': True} if cuda else {}"
   ]
  },
  {
   "cell_type": "code",
   "execution_count": 10,
   "metadata": {},
   "outputs": [],
   "source": [
    "from torch.utils.data import Dataset, DataLoader"
   ]
  },
  {
   "cell_type": "code",
   "execution_count": 11,
   "metadata": {},
   "outputs": [],
   "source": [
    "import py_4.get_mesh_vec as get_mesh_vec"
   ]
  },
  {
   "cell_type": "code",
   "execution_count": 12,
   "metadata": {},
   "outputs": [],
   "source": [
    "mesh_embed=get_mesh_vec.MeshEmbeddings()"
   ]
  },
  {
   "cell_type": "code",
   "execution_count": 13,
   "metadata": {
    "tags": []
   },
   "outputs": [
    {
     "output_type": "stream",
     "name": "stdout",
     "text": "READING FROM LOCAL\nFILE PULLED\n"
    }
   ],
   "source": [
    "FILE = \"enriched_labeled_dataset_large.json\" \n",
    "if os.path.exists(PROJECT_ROOT + DATA_PATH + FILE):\n",
    "    print(\"READING FROM LOCAL\")\n",
    "    if FILE.split(\".\")[1] == \"json\":\n",
    "        df = pd.read_json(PROJECT_ROOT + DATA_PATH + FILE)\n",
    "    else:\n",
    "        df = pd.read_csv(PROJECT_ROOT + DATA_PATH + FILE)\n",
    "    #ps = PaperSource()\n",
    "else:\n",
    "    print(\"PULLING FROM S3\")\n",
    "    ps = sim_matrix_3.load_dataset(\"enriched_labeled_dataset\")\n",
    "    df = ps.get_dataset()\n",
    "\n",
    "df.drop(columns=[\"last_author_country\"],inplace=True)\n",
    "df.rename(columns={'ORG_STATE':'last_author_country'},inplace=True)\n",
    "\n",
    "print(\"FILE PULLED\")"
   ]
  },
  {
   "cell_type": "code",
   "execution_count": 14,
   "metadata": {
    "tags": []
   },
   "outputs": [
    {
     "output_type": "stream",
     "name": "stdout",
     "text": "MESH NAME NOT FOUND: Male\nMESH NAME NOT FOUND: Female\nMESH NAME NOT FOUND: Female\nMESH NAME NOT FOUND: Male\nMESH NAME NOT FOUND: Male\nMESH NAME NOT FOUND: Male\nMESH NAME NOT FOUND: Male\nMESH NAME NOT FOUND: Male\nMESH NAME NOT FOUND: Female\nMESH NAME NOT FOUND: Male\nMESH NAME NOT FOUND: Male\nMESH NAME NOT FOUND: Female\nMESH NAME NOT FOUND: Male\nMESH NAME NOT FOUND: Male\nMESH NAME NOT FOUND: Female\nMESH NAME NOT FOUND: Male\nMESH NAME NOT FOUND: Male\n"
    },
    {
     "output_type": "execute_result",
     "data": {
      "text/plain": "(20, 64)"
     },
     "metadata": {},
     "execution_count": 14
    }
   ],
   "source": [
    "mesh_embed.get_feat_mesh(df[:20].mesh.to_list()).shape"
   ]
  },
  {
   "cell_type": "code",
   "execution_count": 15,
   "metadata": {},
   "outputs": [],
   "source": [
    "class ToyDS(Dataset):\n",
    "    def __init__(self,df):\n",
    "        super().__init__()\n",
    "        self.df= mesh_embed.get_feat_mesh(df[:1000].mesh.to_list())\n",
    "        \n",
    " \n",
    "    def __len__(self):\n",
    "        return self.df.shape[0]\n",
    "    \n",
    "    def __getitem__(self, idx):\n",
    "        features= self.df[idx]\n",
    "        return features, features"
   ]
  },
  {
   "cell_type": "code",
   "execution_count": 16,
   "metadata": {
    "tags": []
   },
   "outputs": [
    {
     "output_type": "stream",
     "name": "stdout",
     "text": "MESH NAME NOT FOUND: Male\nMESH NAME NOT FOUND: Female\nMESH NAME NOT FOUND: Female\nMESH NAME NOT FOUND: Male\nMESH NAME NOT FOUND: Male\nMESH NAME NOT FOUND: Male\nMESH NAME NOT FOUND: Male\nMESH NAME NOT FOUND: Male\nMESH NAME NOT FOUND: Female\nMESH NAME NOT FOUND: Male\nMESH NAME NOT FOUND: Male\nMESH NAME NOT FOUND: Female\nMESH NAME NOT FOUND: Male\nMESH NAME NOT FOUND: Male\nMESH NAME NOT FOUND: Female\nMESH NAME NOT FOUND: Male\nMESH NAME NOT FOUND: Male\nMESH NAME NOT FOUND: Male\nMESH NAME NOT FOUND: Female\nMESH NAME NOT FOUND: Male\nMESH NAME NOT FOUND: Female\nMESH NAME NOT FOUND: Male\nMESH NAME NOT FOUND: Female\nMESH NAME NOT FOUND: Male\nMESH NAME NOT FOUND: Female\nMESH NAME NOT FOUND: Male\nMESH NAME NOT FOUND: Female\nMESH NAME NOT FOUND: Male\nMESH NAME NOT FOUND: Female\nMESH NAME NOT FOUND: Male\nMESH NAME NOT FOUND: Female\nMESH NAME NOT FOUND: Male\nMESH NAME NOT FOUND: Female\nMESH NAME NOT FOUND: Male\nMESH NAME NOT FOUND: Female\nMESH NAME NOT FOUND: Male\nMESH NAME NOT FOUND: Female\nMESH NAME NOT FOUND: Male\nMESH NAME NOT FOUND: Female\nMESH NAME NOT FOUND: Male\nMESH NAME NOT FOUND: Female\nMESH NAME NOT FOUND: Male\nMESH NAME NOT FOUND: Female\nMESH NAME NOT FOUND: Male\nMESH NAME NOT FOUND: Female\nMESH NAME NOT FOUND: Male\nMESH NAME NOT FOUND: Female\nMESH NAME NOT FOUND: Male\nMESH NAME NOT FOUND: Female\nMESH NAME NOT FOUND: Female\nMESH NAME NOT FOUND: Female\nMESH NAME NOT FOUND: Male\nMESH NAME NOT FOUND: Female\nMESH NAME NOT FOUND: Female\nMESH NAME NOT FOUND: Female\nMESH NAME NOT FOUND: Female\nMESH NAME NOT FOUND: Female\nMESH NAME NOT FOUND: Female\nMESH NAME NOT FOUND: Female\nMESH NAME NOT FOUND: Female\nMESH NAME NOT FOUND: Female\nMESH NAME NOT FOUND: Female\nMESH NAME NOT FOUND: Male\nMESH NAME NOT FOUND: Male\nMESH NAME NOT FOUND: Female\nMESH NAME NOT FOUND: Male\nMESH NAME NOT FOUND: Female\nMESH NAME NOT FOUND: Male\nMESH NAME NOT FOUND: Female\nMESH NAME NOT FOUND: Female\nMESH NAME NOT FOUND: Male\nMESH NAME NOT FOUND: Female\nMESH NAME NOT FOUND: Female\nMESH NAME NOT FOUND: Female\nMESH NAME NOT FOUND: Male\nMESH NAME NOT FOUND: Male\nMESH NAME NOT FOUND: Female\nMESH NAME NOT FOUND: Male\nMESH NAME NOT FOUND: Female\nMESH NAME NOT FOUND: Male\nMESH NAME NOT FOUND: Female\nMESH NAME NOT FOUND: Male\nMESH NAME NOT FOUND: Female\nMESH NAME NOT FOUND: Male\nMESH NAME NOT FOUND: Male\nMESH NAME NOT FOUND: Male\nMESH NAME NOT FOUND: Female\nMESH NAME NOT FOUND: Male\nMESH NAME NOT FOUND: Female\nMESH NAME NOT FOUND: Male\nMESH NAME NOT FOUND: Female\nMESH NAME NOT FOUND: Male\nMESH NAME NOT FOUND: Female\nMESH NAME NOT FOUND: Male\nMESH NAME NOT FOUND: Female\nMESH NAME NOT FOUND: Male\nMESH NAME NOT FOUND: Female\nMESH NAME NOT FOUND: Female\nMESH NAME NOT FOUND: Male\nMESH NAME NOT FOUND: Female\nMESH NAME NOT FOUND: Female\nMESH NAME NOT FOUND: Male\nMESH NAME NOT FOUND: Female\nMESH NAME NOT FOUND: Male\nMESH NAME NOT FOUND: Female\nMESH NAME NOT FOUND: Male\nMESH NAME NOT FOUND: Female\nMESH NAME NOT FOUND: Female\nMESH NAME NOT FOUND: Male\nMESH NAME NOT FOUND: Female\nMESH NAME NOT FOUND: Male\nMESH NAME NOT FOUND: Female\nMESH NAME NOT FOUND: Male\nMESH NAME NOT FOUND: Female\nMESH NAME NOT FOUND: Male\nMESH NAME NOT FOUND: Female\nMESH NAME NOT FOUND: Male\nMESH NAME NOT FOUND: Female\nMESH NAME NOT FOUND: Male\nMESH NAME NOT FOUND: Female\nMESH NAME NOT FOUND: Male\nMESH NAME NOT FOUND: Female\nMESH NAME NOT FOUND: Male\nMESH NAME NOT FOUND: Female\nMESH NAME NOT FOUND: Male\nMESH NAME NOT FOUND: Female\nMESH NAME NOT FOUND: Male\nMESH NAME NOT FOUND: Female\nMESH NAME NOT FOUND: Male\nMESH NAME NOT FOUND: Female\nMESH NAME NOT FOUND: Male\nMESH NAME NOT FOUND: Female\nMESH NAME NOT FOUND: Male\nMESH NAME NOT FOUND: Female\nMESH NAME NOT FOUND: Male\nMESH NAME NOT FOUND: Female\nMESH NAME NOT FOUND: Male\nMESH NAME NOT FOUND: Female\nMESH NAME NOT FOUND: Female\nMESH NAME NOT FOUND: Female\nMESH NAME NOT FOUND: Female\nMESH NAME NOT FOUND: Female\nMESH NAME NOT FOUND: Female\nMESH NAME NOT FOUND: Female\nMESH NAME NOT FOUND: Female\nMESH NAME NOT FOUND: Female\nMESH NAME NOT FOUND: Female\nMESH NAME NOT FOUND: Female\nMESH NAME NOT FOUND: Female\nMESH NAME NOT FOUND: Female\nMESH NAME NOT FOUND: Female\nMESH NAME NOT FOUND: Female\nMESH NAME NOT FOUND: Female\nMESH NAME NOT FOUND: Female\nMESH NAME NOT FOUND: Female\nMESH NAME NOT FOUND: Female\nMESH NAME NOT FOUND: Female\nMESH NAME NOT FOUND: Female\nMESH NAME NOT FOUND: Female\nMESH NAME NOT FOUND: Female\nMESH NAME NOT FOUND: Female\nMESH NAME NOT FOUND: Female\nMESH NAME NOT FOUND: Female\nMESH NAME NOT FOUND: Female\nMESH NAME NOT FOUND: Female\nMESH NAME NOT FOUND: Female\nMESH NAME NOT FOUND: Female\nMESH NAME NOT FOUND: Female\nMESH NAME NOT FOUND: Female\nMESH NAME NOT FOUND: Female\nMESH NAME NOT FOUND: Female\nMESH NAME NOT FOUND: Female\nMESH NAME NOT FOUND: Male\nMESH NAME NOT FOUND: Female\nMESH NAME NOT FOUND: Female\nMESH NAME NOT FOUND: Female\nMESH NAME NOT FOUND: Female\nMESH NAME NOT FOUND: Female\nMESH NAME NOT FOUND: Male\nMESH NAME NOT FOUND: Female\nMESH NAME NOT FOUND: Male\nMESH NAME NOT FOUND: Female\nMESH NAME NOT FOUND: Male\nMESH NAME NOT FOUND: Female\nMESH NAME NOT FOUND: Male\nMESH NAME NOT FOUND: Female\nMESH NAME NOT FOUND: Male\nMESH NAME NOT FOUND: Female\nMESH NAME NOT FOUND: Male\nMESH NAME NOT FOUND: Female\nMESH NAME NOT FOUND: Male\nMESH NAME NOT FOUND: Female\nMESH NAME NOT FOUND: Male\nMESH NAME NOT FOUND: Female\nMESH NAME NOT FOUND: Male\nMESH NAME NOT FOUND: Female\nMESH NAME NOT FOUND: Male\nMESH NAME NOT FOUND: Female\nMESH NAME NOT FOUND: Male\nMESH NAME NOT FOUND: Female\nMESH NAME NOT FOUND: Male\nMESH NAME NOT FOUND: Female\nMESH NAME NOT FOUND: Male\nMESH NAME NOT FOUND: Female\nMESH NAME NOT FOUND: Male\nMESH NAME NOT FOUND: Female\nMESH NAME NOT FOUND: Female\nMESH NAME NOT FOUND: Female\nMESH NAME NOT FOUND: Female\nMESH NAME NOT FOUND: Female\nMESH NAME NOT FOUND: Female\nMESH NAME NOT FOUND: Female\nMESH NAME NOT FOUND: Female\nMESH NAME NOT FOUND: Male\nMESH NAME NOT FOUND: Female\nMESH NAME NOT FOUND: Male\nMESH NAME NOT FOUND: Female\nMESH NAME NOT FOUND: Male\nMESH NAME NOT FOUND: Female\nMESH NAME NOT FOUND: Female\nMESH NAME NOT FOUND: Male\nMESH NAME NOT FOUND: Female\nMESH NAME NOT FOUND: Male\nMESH NAME NOT FOUND: Female\nMESH NAME NOT FOUND: Male\nMESH NAME NOT FOUND: Female\nMESH NAME NOT FOUND: Female\nMESH NAME NOT FOUND: Female\nMESH NAME NOT FOUND: Female\nMESH NAME NOT FOUND: Female\nMESH NAME NOT FOUND: Female\nMESH NAME NOT FOUND: Female\nMESH NAME NOT FOUND: Female\nMESH NAME NOT FOUND: Female\nMESH NAME NOT FOUND: Female\nMESH NAME NOT FOUND: Female\nMESH NAME NOT FOUND: Female\nMESH NAME NOT FOUND: Female\nMESH NAME NOT FOUND: Female\nMESH NAME NOT FOUND: Male\nMESH NAME NOT FOUND: Male\nMESH NAME NOT FOUND: Female\nMESH NAME NOT FOUND: Female\nMESH NAME NOT FOUND: Male\nMESH NAME NOT FOUND: Female\nMESH NAME NOT FOUND: Male\nMESH NAME NOT FOUND: Female\nMESH NAME NOT FOUND: Male\nMESH NAME NOT FOUND: Female\nMESH NAME NOT FOUND: Male\nMESH NAME NOT FOUND: Female\nMESH NAME NOT FOUND: Female\nMESH NAME NOT FOUND: Male\nMESH NAME NOT FOUND: Female\nMESH NAME NOT FOUND: Male\nMESH NAME NOT FOUND: Female\nMESH NAME NOT FOUND: Female\nMESH NAME NOT FOUND: Male\nMESH NAME NOT FOUND: Female\nMESH NAME NOT FOUND: Male\nMESH NAME NOT FOUND: Female\nMESH NAME NOT FOUND: Male\nMESH NAME NOT FOUND: Female\nMESH NAME NOT FOUND: Male\nMESH NAME NOT FOUND: Female\nMESH NAME NOT FOUND: Male\nMESH NAME NOT FOUND: Female\nMESH NAME NOT FOUND: Male\nMESH NAME NOT FOUND: Female\nMESH NAME NOT FOUND: Male\nMESH NAME NOT FOUND: Female\nMESH NAME NOT FOUND: Male\nMESH NAME NOT FOUND: Female\nMESH NAME NOT FOUND: Male\nMESH NAME NOT FOUND: Female\nMESH NAME NOT FOUND: Male\nMESH NAME NOT FOUND: Female\nMESH NAME NOT FOUND: Male\nMESH NAME NOT FOUND: Female\nMESH NAME NOT FOUND: Male\nMESH NAME NOT FOUND: Male\nMESH NAME NOT FOUND: Male\nMESH NAME NOT FOUND: Male\nMESH NAME NOT FOUND: Female\nMESH NAME NOT FOUND: Male\nMESH NAME NOT FOUND: Female\nMESH NAME NOT FOUND: Male\nMESH NAME NOT FOUND: Female\nMESH NAME NOT FOUND: Male\nMESH NAME NOT FOUND: Male\nMESH NAME NOT FOUND: Male\nMESH NAME NOT FOUND: Female\nMESH NAME NOT FOUND: Male\nMESH NAME NOT FOUND: Female\nMESH NAME NOT FOUND: Male\nMESH NAME NOT FOUND: Male\nMESH NAME NOT FOUND: Female\nMESH NAME NOT FOUND: Male\nMESH NAME NOT FOUND: Male\nMESH NAME NOT FOUND: Female\nMESH NAME NOT FOUND: Male\nMESH NAME NOT FOUND: Female\nMESH NAME NOT FOUND: Female\nMESH NAME NOT FOUND: Male\nMESH NAME NOT FOUND: Female\nMESH NAME NOT FOUND: Male\nMESH NAME NOT FOUND: Female\nMESH NAME NOT FOUND: Female\nMESH NAME NOT FOUND: Male\nMESH NAME NOT FOUND: Female\nMESH NAME NOT FOUND: Female\nMESH NAME NOT FOUND: Female\nMESH NAME NOT FOUND: Female\nMESH NAME NOT FOUND: Female\nMESH NAME NOT FOUND: Female\nMESH NAME NOT FOUND: Female\nMESH NAME NOT FOUND: Female\nMESH NAME NOT FOUND: Female\nMESH NAME NOT FOUND: Male\nMESH NAME NOT FOUND: Female\nMESH NAME NOT FOUND: Male\nMESH NAME NOT FOUND: Female\nMESH NAME NOT FOUND: Male\nMESH NAME NOT FOUND: Female\nMESH NAME NOT FOUND: Male\nMESH NAME NOT FOUND: Chlorocebus aethiops\nMESH NAME NOT FOUND: Female\nMESH NAME NOT FOUND: Male\nMESH NAME NOT FOUND: Female\nMESH NAME NOT FOUND: Male\nMESH NAME NOT FOUND: Female\nMESH NAME NOT FOUND: Male\nMESH NAME NOT FOUND: Male\nMESH NAME NOT FOUND: Female\nMESH NAME NOT FOUND: Male\nMESH NAME NOT FOUND: Female\nMESH NAME NOT FOUND: Male\nMESH NAME NOT FOUND: Female\nMESH NAME NOT FOUND: Female\nMESH NAME NOT FOUND: Female\nMESH NAME NOT FOUND: Female\nMESH NAME NOT FOUND: Male\nMESH NAME NOT FOUND: Female\nMESH NAME NOT FOUND: Female\nMESH NAME NOT FOUND: Female\nMESH NAME NOT FOUND: Male\nMESH NAME NOT FOUND: Female\nMESH NAME NOT FOUND: Male\nMESH NAME NOT FOUND: Female\nMESH NAME NOT FOUND: Male\nMESH NAME NOT FOUND: Female\nMESH NAME NOT FOUND: Male\nMESH NAME NOT FOUND: Female\nMESH NAME NOT FOUND: Male\nMESH NAME NOT FOUND: Female\nMESH NAME NOT FOUND: Male\nMESH NAME NOT FOUND: Female\nMESH NAME NOT FOUND: Male\nMESH NAME NOT FOUND: Female\nMESH NAME NOT FOUND: Male\nMESH NAME NOT FOUND: Male\nMESH NAME NOT FOUND: Female\nMESH NAME NOT FOUND: Male\nMESH NAME NOT FOUND: Female\nMESH NAME NOT FOUND: Male\nMESH NAME NOT FOUND: Female\nMESH NAME NOT FOUND: Male\nMESH NAME NOT FOUND: Female\nMESH NAME NOT FOUND: Male\nMESH NAME NOT FOUND: Male\nMESH NAME NOT FOUND: Female\nMESH NAME NOT FOUND: Male\nMESH NAME NOT FOUND: Female\nMESH NAME NOT FOUND: Female\nMESH NAME NOT FOUND: Male\nMESH NAME NOT FOUND: Female\nMESH NAME NOT FOUND: Male\nMESH NAME NOT FOUND: Female\nMESH NAME NOT FOUND: Male\nMESH NAME NOT FOUND: Female\nMESH NAME NOT FOUND: Male\nMESH NAME NOT FOUND: Female\nMESH NAME NOT FOUND: Male\nMESH NAME NOT FOUND: Female\nMESH NAME NOT FOUND: Female\nMESH NAME NOT FOUND: Male\nMESH NAME NOT FOUND: Female\nMESH NAME NOT FOUND: Male\nMESH NAME NOT FOUND: Male\nMESH NAME NOT FOUND: Female\nMESH NAME NOT FOUND: Male\nMESH NAME NOT FOUND: Male\nMESH NAME NOT FOUND: Male\nMESH NAME NOT FOUND: Female\nMESH NAME NOT FOUND: Female\nMESH NAME NOT FOUND: Male\nMESH NAME NOT FOUND: Female\nMESH NAME NOT FOUND: Male\nMESH NAME NOT FOUND: Female\nMESH NAME NOT FOUND: Female\nMESH NAME NOT FOUND: Male\nMESH NAME NOT FOUND: Female\nMESH NAME NOT FOUND: Female\nMESH NAME NOT FOUND: Male\nMESH NAME NOT FOUND: Female\nMESH NAME NOT FOUND: Male\nMESH NAME NOT FOUND: Female\nMESH NAME NOT FOUND: Male\nMESH NAME NOT FOUND: Female\nMESH NAME NOT FOUND: Male\nMESH NAME NOT FOUND: Female\nMESH NAME NOT FOUND: Male\nMESH NAME NOT FOUND: Female\nMESH NAME NOT FOUND: Male\nMESH NAME NOT FOUND: Female\nMESH NAME NOT FOUND: Male\nMESH NAME NOT FOUND: Male\nMESH NAME NOT FOUND: Female\nMESH NAME NOT FOUND: Male\nMESH NAME NOT FOUND: Female\nMESH NAME NOT FOUND: Male\nMESH NAME NOT FOUND: Female\nMESH NAME NOT FOUND: Male\nMESH NAME NOT FOUND: Female\nMESH NAME NOT FOUND: Male\nMESH NAME NOT FOUND: Female\nMESH NAME NOT FOUND: Male\nMESH NAME NOT FOUND: Female\nMESH NAME NOT FOUND: Male\nMESH NAME NOT FOUND: Female\nMESH NAME NOT FOUND: Male\nMESH NAME NOT FOUND: Female\nMESH NAME NOT FOUND: Male\nMESH NAME NOT FOUND: Female\nMESH NAME NOT FOUND: Male\nMESH NAME NOT FOUND: Female\nMESH NAME NOT FOUND: Male\nMESH NAME NOT FOUND: Female\nMESH NAME NOT FOUND: Male\nMESH NAME NOT FOUND: Female\nMESH NAME NOT FOUND: Male\nMESH NAME NOT FOUND: Female\nMESH NAME NOT FOUND: Female\nMESH NAME NOT FOUND: Male\nMESH NAME NOT FOUND: Female\nMESH NAME NOT FOUND: Female\nMESH NAME NOT FOUND: Male\nMESH NAME NOT FOUND: Female\nMESH NAME NOT FOUND: Male\nMESH NAME NOT FOUND: Female\nMESH NAME NOT FOUND: Male\nMESH NAME NOT FOUND: Male\nMESH NAME NOT FOUND: Female\nMESH NAME NOT FOUND: Female\nMESH NAME NOT FOUND: Female\nMESH NAME NOT FOUND: Male\nMESH NAME NOT FOUND: Female\nMESH NAME NOT FOUND: Male\nMESH NAME NOT FOUND: Male\nMESH NAME NOT FOUND: Female\nMESH NAME NOT FOUND: Female\nMESH NAME NOT FOUND: Male\nMESH NAME NOT FOUND: Female\nMESH NAME NOT FOUND: Male\nMESH NAME NOT FOUND: Female\nMESH NAME NOT FOUND: Male\nMESH NAME NOT FOUND: Male\nMESH NAME NOT FOUND: Male\nMESH NAME NOT FOUND: Male\nMESH NAME NOT FOUND: Female\nMESH NAME NOT FOUND: Male\nMESH NAME NOT FOUND: Female\nMESH NAME NOT FOUND: Female\nMESH NAME NOT FOUND: Male\nMESH NAME NOT FOUND: Female\nMESH NAME NOT FOUND: Male\nMESH NAME NOT FOUND: Female\nMESH NAME NOT FOUND: Male\nMESH NAME NOT FOUND: Female\nMESH NAME NOT FOUND: Male\nMESH NAME NOT FOUND: Female\nMESH NAME NOT FOUND: Male\nMESH NAME NOT FOUND: Female\nMESH NAME NOT FOUND: Female\nMESH NAME NOT FOUND: Male\nMESH NAME NOT FOUND: Female\nMESH NAME NOT FOUND: Male\nMESH NAME NOT FOUND: Female\nMESH NAME NOT FOUND: Male\nMESH NAME NOT FOUND: Female\nMESH NAME NOT FOUND: Male\nMESH NAME NOT FOUND: Female\nMESH NAME NOT FOUND: Male\nMESH NAME NOT FOUND: Female\nMESH NAME NOT FOUND: Male\nMESH NAME NOT FOUND: Female\nMESH NAME NOT FOUND: Male\nMESH NAME NOT FOUND: Male\nMESH NAME NOT FOUND: Female\nMESH NAME NOT FOUND: Male\nMESH NAME NOT FOUND: Female\nMESH NAME NOT FOUND: Male\nMESH NAME NOT FOUND: Female\nMESH NAME NOT FOUND: Male\nMESH NAME NOT FOUND: Female\nMESH NAME NOT FOUND: Female\nMESH NAME NOT FOUND: Female\nMESH NAME NOT FOUND: Female\nMESH NAME NOT FOUND: Male\nMESH NAME NOT FOUND: Female\nMESH NAME NOT FOUND: Male\nMESH NAME NOT FOUND: Female\nMESH NAME NOT FOUND: Female\nMESH NAME NOT FOUND: Male\nMESH NAME NOT FOUND: Female\nMESH NAME NOT FOUND: Male\nMESH NAME NOT FOUND: Female\nMESH NAME NOT FOUND: Male\nMESH NAME NOT FOUND: Female\nMESH NAME NOT FOUND: Male\nMESH NAME NOT FOUND: Female\nMESH NAME NOT FOUND: Male\nMESH NAME NOT FOUND: Female\nMESH NAME NOT FOUND: Male\nMESH NAME NOT FOUND: Female\nMESH NAME NOT FOUND: Male\nMESH NAME NOT FOUND: Female\nMESH NAME NOT FOUND: Male\nMESH NAME NOT FOUND: Female\nMESH NAME NOT FOUND: Female\nMESH NAME NOT FOUND: Female\nMESH NAME NOT FOUND: Female\nMESH NAME NOT FOUND: Female\nMESH NAME NOT FOUND: Female\nMESH NAME NOT FOUND: Female\nMESH NAME NOT FOUND: Female\nMESH NAME NOT FOUND: Male\nMESH NAME NOT FOUND: Female\nMESH NAME NOT FOUND: Male\nMESH NAME NOT FOUND: Female\nMESH NAME NOT FOUND: Male\nMESH NAME NOT FOUND: Female\nMESH NAME NOT FOUND: Male\nMESH NAME NOT FOUND: Male\nMESH NAME NOT FOUND: Female\nMESH NAME NOT FOUND: Male\nMESH NAME NOT FOUND: Female\nMESH NAME NOT FOUND: Female\nMESH NAME NOT FOUND: Male\nMESH NAME NOT FOUND: Female\nMESH NAME NOT FOUND: Male\nMESH NAME NOT FOUND: Female\nMESH NAME NOT FOUND: Male\nMESH NAME NOT FOUND: Female\nMESH NAME NOT FOUND: Female\nMESH NAME NOT FOUND: Female\nMESH NAME NOT FOUND: Male\nMESH NAME NOT FOUND: Female\nMESH NAME NOT FOUND: Male\nMESH NAME NOT FOUND: Female\nMESH NAME NOT FOUND: Male\nMESH NAME NOT FOUND: Female\nMESH NAME NOT FOUND: Female\nMESH NAME NOT FOUND: Male\nMESH NAME NOT FOUND: Female\nMESH NAME NOT FOUND: Male\nMESH NAME NOT FOUND: Female\nMESH NAME NOT FOUND: Male\nMESH NAME NOT FOUND: Female\nMESH NAME NOT FOUND: Male\nMESH NAME NOT FOUND: Female\nMESH NAME NOT FOUND: Male\nMESH NAME NOT FOUND: Female\nMESH NAME NOT FOUND: Male\nMESH NAME NOT FOUND: Female\nMESH NAME NOT FOUND: Male\nMESH NAME NOT FOUND: Female\nMESH NAME NOT FOUND: Male\nMESH NAME NOT FOUND: Female\nMESH NAME NOT FOUND: Female\nMESH NAME NOT FOUND: Male\nMESH NAME NOT FOUND: Female\nMESH NAME NOT FOUND: Male\nMESH NAME NOT FOUND: Female\nMESH NAME NOT FOUND: Male\nMESH NAME NOT FOUND: Female\nMESH NAME NOT FOUND: Female\nMESH NAME NOT FOUND: Female\nMESH NAME NOT FOUND: Female\nMESH NAME NOT FOUND: Female\nMESH NAME NOT FOUND: Female\nMESH NAME NOT FOUND: Female\nMESH NAME NOT FOUND: Female\nMESH NAME NOT FOUND: Female\n"
    }
   ],
   "source": [
    "train_set = ToyDS(df)\n",
    "train_loader=DataLoader(dataset= train_set, batch_size = batch_size, shuffle = True, num_workers = num_workers)"
   ]
  },
  {
   "cell_type": "code",
   "execution_count": 26,
   "metadata": {},
   "outputs": [],
   "source": [
    "class VAE(nn.Module):\n",
    "    def __init__(self, input_dim = 64):\n",
    "        super(VAE, self).__init__()\n",
    "        self.input_dim = input_dim\n",
    "        self.fc1 = nn.Linear(self.input_dim, 32)\n",
    "        self.fc21 = nn.Linear(32, 8)\n",
    "        self.fc22 = nn.Linear(32, 8)\n",
    "        self.fc3 = nn.Linear(8, 32)\n",
    "        self.fc4 = nn.Linear(32, self.input_dim)\n",
    "\n",
    "    def encode(self, x):\n",
    "        h1 = F.relu(self.fc1(x))\n",
    "        return self.fc21(h1), self.fc22(h1)\n",
    "\n",
    "    def reparameterize(self, mu, logvar):\n",
    "        std = torch.exp(0.5*logvar)\n",
    "        eps = torch.randn_like(std)\n",
    "        return mu + eps*std\n",
    "\n",
    "    def decode(self, z):\n",
    "        h3 = F.relu(self.fc3(z))\n",
    "        return torch.sigmoid(self.fc4(h3))\n",
    "\n",
    "    def forward(self, x):\n",
    "        mu, logvar = self.encode(x.view(-1, self.input_dim))\n",
    "        z = self.reparameterize(mu, logvar)\n",
    "        return self.decode(z), mu, logvar, z"
   ]
  },
  {
   "cell_type": "code",
   "execution_count": 27,
   "metadata": {
    "tags": []
   },
   "outputs": [
    {
     "output_type": "stream",
     "name": "stdout",
     "text": "----------------------------------------------------------------\n        Layer (type)               Output Shape         Param #\n================================================================\n            Linear-1                   [-1, 32]           2,080\n            Linear-2                    [-1, 8]             264\n            Linear-3                    [-1, 8]             264\n            Linear-4                   [-1, 32]             288\n            Linear-5                   [-1, 64]           2,112\n================================================================\nTotal params: 5,008\nTrainable params: 5,008\nNon-trainable params: 0\n----------------------------------------------------------------\nInput size (MB): 0.00\nForward/backward pass size (MB): 0.00\nParams size (MB): 0.02\nEstimated Total Size (MB): 0.03\n----------------------------------------------------------------\n"
    }
   ],
   "source": [
    "from torchsummary import summary\n",
    "summary(model, (20,64))"
   ]
  },
  {
   "cell_type": "code",
   "execution_count": 28,
   "metadata": {},
   "outputs": [],
   "source": [
    "def loss_function(recon_x, x, mu, logvar):\n",
    "    #BCE = F.binary_cross_entropy(recon_x, x.view(-1, 64), reduction='sum')\n",
    "\n",
    "    MSE = F.mse_loss(recon_x, x.view(-1, 64))\n",
    "\n",
    "    # see Appendix B from VAE paper:\n",
    "    # Kingma and Welling. Auto-Encoding Variational Bayes. ICLR, 2014\n",
    "    # https://arxiv.org/abs/1312.6114\n",
    "    # 0.5 * sum(1 + log(sigma^2) - mu^2 - sigma^2)\n",
    "    KLD = -0.5 * torch.sum(1 + logvar - mu.pow(2) - logvar.exp())\n",
    "\n",
    "    return MSE + KLD"
   ]
  },
  {
   "cell_type": "code",
   "execution_count": 29,
   "metadata": {},
   "outputs": [],
   "source": [
    "model = VAE().to(device)\n",
    "optimizer = optim.Adam(model.parameters(), lr=1e-3)\n"
   ]
  },
  {
   "cell_type": "code",
   "execution_count": 30,
   "metadata": {},
   "outputs": [],
   "source": [
    "def train_epoch(tr_loader, model, criterion, optimizer, num_epochs):\n",
    "    model.train()\n",
    "    train_log = []\n",
    "    for epoch in range(num_epochs):\n",
    "        print(\"Started training epoch no. {}\",format(epoch+1))\n",
    "        train_loss= 0\n",
    "        for batch_idx, (data, _) in enumerate(train_loader):\n",
    "            data = data.to(device, dtype=torch.float32)\n",
    "\n",
    "            optimizer.zero_grad()\n",
    "            recon_batch, mu, logvar, z= model(data)\n",
    "            loss = criterion(recon_batch, data, mu, logvar)\n",
    "            loss.backward()\n",
    "            train_loss += loss.item()\n",
    "            optimizer.step()\n",
    "            if batch_idx % log_interval == 0:\n",
    "                print('Train Epoch: {} [{}/{} ({:.0f}%)]\\tLoss: {:.6f}'.format(\n",
    "                    epoch, batch_idx * len(data), len(train_loader.dataset),\n",
    "                    100. * batch_idx / len(train_loader),\n",
    "                    loss.item() / len(data)))\n",
    "\n",
    "        print('====> Epoch: {} Average loss: {:.4f}'.format(\n",
    "            epoch, train_loss / len(train_loader.dataset)))\n",
    "        train_log.append({\n",
    "            'epoch': epoch,\n",
    "            'train_loss': train_loss / len(train_loader)})\n",
    "    return train_log"
   ]
  },
  {
   "cell_type": "code",
   "execution_count": 31,
   "metadata": {},
   "outputs": [],
   "source": [
    "# def test(epoch):\n",
    "#     model.eval()\n",
    "#     test_loss = 0\n",
    "#     with torch.no_grad():\n",
    "#         for i, (data, _) in enumerate(test_loader):\n",
    "#             data = data.to(device)\n",
    "#             recon_batch, mu, logvar = model(data)\n",
    "#             test_loss += loss_function(recon_batch, data, mu, logvar).item()\n",
    "#             if i == 0:\n",
    "#                 n = min(data.size(0), 8)\n",
    "#                 comparison = torch.cat([data[:n],\n",
    "#                                       recon_batch.view(args.batch_size, 1, 28, 28)[:n]])\n",
    "#                 save_image(comparison.cpu(),\n",
    "#                          'results/reconstruction_' + str(epoch) + '.png', nrow=n)\n",
    "\n",
    "#     test_loss /= len(test_loader.dataset)\n",
    "#     print('====> Test set loss: {:.4f}'.format(test_loss))"
   ]
  },
  {
   "cell_type": "code",
   "execution_count": 32,
   "metadata": {
    "tags": []
   },
   "outputs": [
    {
     "output_type": "stream",
     "name": "stdout",
     "text": "Started training epoch no. {} 1\nTrain Epoch: 0 [0/1000 (0%)]\tLoss: 0.107330\nTrain Epoch: 0 [80/1000 (8%)]\tLoss: 0.083843\nTrain Epoch: 0 [160/1000 (16%)]\tLoss: 0.064207\nTrain Epoch: 0 [240/1000 (24%)]\tLoss: 0.062492\nTrain Epoch: 0 [320/1000 (32%)]\tLoss: 0.048692\nTrain Epoch: 0 [400/1000 (40%)]\tLoss: 0.065466\nTrain Epoch: 0 [480/1000 (48%)]\tLoss: 0.039472\nTrain Epoch: 0 [560/1000 (56%)]\tLoss: 0.034741\nTrain Epoch: 0 [640/1000 (64%)]\tLoss: 0.072957\nTrain Epoch: 0 [720/1000 (72%)]\tLoss: 0.030262\nTrain Epoch: 0 [800/1000 (80%)]\tLoss: 0.028985\nTrain Epoch: 0 [880/1000 (88%)]\tLoss: 0.031677\nTrain Epoch: 0 [960/1000 (96%)]\tLoss: 0.023927\n====> Epoch: 0 Average loss: 0.0491\nStarted training epoch no. {} 2\nTrain Epoch: 1 [0/1000 (0%)]\tLoss: 0.025573\nTrain Epoch: 1 [80/1000 (8%)]\tLoss: 0.021244\nTrain Epoch: 1 [160/1000 (16%)]\tLoss: 0.042997\nTrain Epoch: 1 [240/1000 (24%)]\tLoss: 0.018076\nTrain Epoch: 1 [320/1000 (32%)]\tLoss: 0.018317\nTrain Epoch: 1 [400/1000 (40%)]\tLoss: 0.020049\nTrain Epoch: 1 [480/1000 (48%)]\tLoss: 0.020130\nTrain Epoch: 1 [560/1000 (56%)]\tLoss: 0.020035\nTrain Epoch: 1 [640/1000 (64%)]\tLoss: 0.016427\nTrain Epoch: 1 [720/1000 (72%)]\tLoss: 0.012822\nTrain Epoch: 1 [800/1000 (80%)]\tLoss: 0.030534\nTrain Epoch: 1 [880/1000 (88%)]\tLoss: 0.022079\nTrain Epoch: 1 [960/1000 (96%)]\tLoss: 0.014864\n====> Epoch: 1 Average loss: 0.0222\nStarted training epoch no. {} 3\nTrain Epoch: 2 [0/1000 (0%)]\tLoss: 0.018790\nTrain Epoch: 2 [80/1000 (8%)]\tLoss: 0.024936\nTrain Epoch: 2 [160/1000 (16%)]\tLoss: 0.015039\nTrain Epoch: 2 [240/1000 (24%)]\tLoss: 0.021904\nTrain Epoch: 2 [320/1000 (32%)]\tLoss: 0.016517\nTrain Epoch: 2 [400/1000 (40%)]\tLoss: 0.019711\nTrain Epoch: 2 [480/1000 (48%)]\tLoss: 0.021908\nTrain Epoch: 2 [560/1000 (56%)]\tLoss: 0.021336\nTrain Epoch: 2 [640/1000 (64%)]\tLoss: 0.014155\nTrain Epoch: 2 [720/1000 (72%)]\tLoss: 0.015219\nTrain Epoch: 2 [800/1000 (80%)]\tLoss: 0.014308\nTrain Epoch: 2 [880/1000 (88%)]\tLoss: 0.014068\nTrain Epoch: 2 [960/1000 (96%)]\tLoss: 0.015112\n====> Epoch: 2 Average loss: 0.0179\n"
    },
    {
     "output_type": "execute_result",
     "data": {
      "text/plain": "[{'epoch': 0, 'train_loss': 0.3931786402463913},\n {'epoch': 1, 'train_loss': 0.1779639396071434},\n {'epoch': 2, 'train_loss': 0.14347588968276978}]"
     },
     "metadata": {},
     "execution_count": 32
    }
   ],
   "source": [
    "train_epoch(train_loader,model,loss_function,optimizer,num_epochs= 3)"
   ]
  },
  {
   "cell_type": "code",
   "execution_count": 38,
   "metadata": {
    "tags": []
   },
   "outputs": [
    {
     "output_type": "stream",
     "name": "stdout",
     "text": "MESH NAME NOT FOUND: Male\nMESH NAME NOT FOUND: Female\nMESH NAME NOT FOUND: Female\nMESH NAME NOT FOUND: Male\nMESH NAME NOT FOUND: Male\nMESH NAME NOT FOUND: Male\nMESH NAME NOT FOUND: Male\nMESH NAME NOT FOUND: Male\nMESH NAME NOT FOUND: Female\nMESH NAME NOT FOUND: Male\nMESH NAME NOT FOUND: Male\nMESH NAME NOT FOUND: Female\nMESH NAME NOT FOUND: Male\nMESH NAME NOT FOUND: Male\nMESH NAME NOT FOUND: Female\nMESH NAME NOT FOUND: Male\nMESH NAME NOT FOUND: Male\nMESH NAME NOT FOUND: Male\nMESH NAME NOT FOUND: Female\nMESH NAME NOT FOUND: Male\nMESH NAME NOT FOUND: Female\nMESH NAME NOT FOUND: Male\nMESH NAME NOT FOUND: Female\nMESH NAME NOT FOUND: Male\nMESH NAME NOT FOUND: Female\nMESH NAME NOT FOUND: Male\nMESH NAME NOT FOUND: Female\nMESH NAME NOT FOUND: Male\nMESH NAME NOT FOUND: Female\nMESH NAME NOT FOUND: Male\nMESH NAME NOT FOUND: Female\nMESH NAME NOT FOUND: Male\nMESH NAME NOT FOUND: Female\nMESH NAME NOT FOUND: Male\nMESH NAME NOT FOUND: Female\nMESH NAME NOT FOUND: Male\nMESH NAME NOT FOUND: Female\nMESH NAME NOT FOUND: Male\nMESH NAME NOT FOUND: Female\nMESH NAME NOT FOUND: Male\nMESH NAME NOT FOUND: Female\nMESH NAME NOT FOUND: Male\nMESH NAME NOT FOUND: Female\nMESH NAME NOT FOUND: Male\nMESH NAME NOT FOUND: Female\nMESH NAME NOT FOUND: Male\nMESH NAME NOT FOUND: Female\nMESH NAME NOT FOUND: Male\nMESH NAME NOT FOUND: Female\nMESH NAME NOT FOUND: Female\nMESH NAME NOT FOUND: Female\nMESH NAME NOT FOUND: Male\nMESH NAME NOT FOUND: Female\nMESH NAME NOT FOUND: Female\nMESH NAME NOT FOUND: Female\nMESH NAME NOT FOUND: Female\nMESH NAME NOT FOUND: Female\nMESH NAME NOT FOUND: Female\nMESH NAME NOT FOUND: Female\nMESH NAME NOT FOUND: Female\nMESH NAME NOT FOUND: Female\nMESH NAME NOT FOUND: Female\nMESH NAME NOT FOUND: Male\nMESH NAME NOT FOUND: Male\nMESH NAME NOT FOUND: Female\nMESH NAME NOT FOUND: Male\nMESH NAME NOT FOUND: Female\nMESH NAME NOT FOUND: Male\nMESH NAME NOT FOUND: Female\nMESH NAME NOT FOUND: Female\nMESH NAME NOT FOUND: Male\nMESH NAME NOT FOUND: Female\nMESH NAME NOT FOUND: Female\nMESH NAME NOT FOUND: Female\nMESH NAME NOT FOUND: Male\nMESH NAME NOT FOUND: Male\nMESH NAME NOT FOUND: Female\nMESH NAME NOT FOUND: Male\nMESH NAME NOT FOUND: Female\nMESH NAME NOT FOUND: Male\nMESH NAME NOT FOUND: Female\nMESH NAME NOT FOUND: Male\nMESH NAME NOT FOUND: Female\nMESH NAME NOT FOUND: Male\nMESH NAME NOT FOUND: Male\nMESH NAME NOT FOUND: Male\nMESH NAME NOT FOUND: Female\nMESH NAME NOT FOUND: Male\nMESH NAME NOT FOUND: Female\nMESH NAME NOT FOUND: Male\nMESH NAME NOT FOUND: Female\nMESH NAME NOT FOUND: Male\nMESH NAME NOT FOUND: Female\nMESH NAME NOT FOUND: Male\nMESH NAME NOT FOUND: Female\nMESH NAME NOT FOUND: Male\nMESH NAME NOT FOUND: Female\nMESH NAME NOT FOUND: Female\nMESH NAME NOT FOUND: Male\nMESH NAME NOT FOUND: Female\nMESH NAME NOT FOUND: Female\nMESH NAME NOT FOUND: Male\nMESH NAME NOT FOUND: Female\nMESH NAME NOT FOUND: Male\nMESH NAME NOT FOUND: Female\nMESH NAME NOT FOUND: Male\nMESH NAME NOT FOUND: Female\nMESH NAME NOT FOUND: Female\nMESH NAME NOT FOUND: Male\nMESH NAME NOT FOUND: Female\nMESH NAME NOT FOUND: Male\nMESH NAME NOT FOUND: Female\nMESH NAME NOT FOUND: Male\nMESH NAME NOT FOUND: Female\nMESH NAME NOT FOUND: Male\nMESH NAME NOT FOUND: Female\nMESH NAME NOT FOUND: Male\nMESH NAME NOT FOUND: Female\nMESH NAME NOT FOUND: Male\nMESH NAME NOT FOUND: Female\nMESH NAME NOT FOUND: Male\nMESH NAME NOT FOUND: Female\nMESH NAME NOT FOUND: Male\nMESH NAME NOT FOUND: Female\nMESH NAME NOT FOUND: Male\nMESH NAME NOT FOUND: Female\nMESH NAME NOT FOUND: Male\nMESH NAME NOT FOUND: Female\nMESH NAME NOT FOUND: Male\nMESH NAME NOT FOUND: Female\nMESH NAME NOT FOUND: Male\nMESH NAME NOT FOUND: Female\nMESH NAME NOT FOUND: Male\nMESH NAME NOT FOUND: Female\nMESH NAME NOT FOUND: Male\nMESH NAME NOT FOUND: Female\nMESH NAME NOT FOUND: Male\nMESH NAME NOT FOUND: Female\nMESH NAME NOT FOUND: Female\nMESH NAME NOT FOUND: Female\nMESH NAME NOT FOUND: Female\nMESH NAME NOT FOUND: Female\nMESH NAME NOT FOUND: Female\nMESH NAME NOT FOUND: Female\nMESH NAME NOT FOUND: Female\nMESH NAME NOT FOUND: Female\nMESH NAME NOT FOUND: Female\nMESH NAME NOT FOUND: Female\nMESH NAME NOT FOUND: Female\nMESH NAME NOT FOUND: Female\nMESH NAME NOT FOUND: Female\nMESH NAME NOT FOUND: Female\nMESH NAME NOT FOUND: Female\nMESH NAME NOT FOUND: Female\nMESH NAME NOT FOUND: Female\nMESH NAME NOT FOUND: Female\nMESH NAME NOT FOUND: Female\nMESH NAME NOT FOUND: Female\nMESH NAME NOT FOUND: Female\nMESH NAME NOT FOUND: Female\nMESH NAME NOT FOUND: Female\nMESH NAME NOT FOUND: Female\nMESH NAME NOT FOUND: Female\nMESH NAME NOT FOUND: Female\nMESH NAME NOT FOUND: Female\nMESH NAME NOT FOUND: Female\nMESH NAME NOT FOUND: Female\nMESH NAME NOT FOUND: Female\nMESH NAME NOT FOUND: Female\nMESH NAME NOT FOUND: Female\nMESH NAME NOT FOUND: Female\nMESH NAME NOT FOUND: Female\nMESH NAME NOT FOUND: Male\nMESH NAME NOT FOUND: Female\nMESH NAME NOT FOUND: Female\nMESH NAME NOT FOUND: Female\nMESH NAME NOT FOUND: Female\nMESH NAME NOT FOUND: Female\nMESH NAME NOT FOUND: Male\nMESH NAME NOT FOUND: Female\nMESH NAME NOT FOUND: Male\nMESH NAME NOT FOUND: Female\nMESH NAME NOT FOUND: Male\nMESH NAME NOT FOUND: Female\nMESH NAME NOT FOUND: Male\nMESH NAME NOT FOUND: Female\nMESH NAME NOT FOUND: Male\nMESH NAME NOT FOUND: Female\nMESH NAME NOT FOUND: Male\nMESH NAME NOT FOUND: Female\nMESH NAME NOT FOUND: Male\nMESH NAME NOT FOUND: Female\nMESH NAME NOT FOUND: Male\nMESH NAME NOT FOUND: Female\nMESH NAME NOT FOUND: Male\nMESH NAME NOT FOUND: Female\nMESH NAME NOT FOUND: Male\nMESH NAME NOT FOUND: Female\nMESH NAME NOT FOUND: Male\nMESH NAME NOT FOUND: Female\nMESH NAME NOT FOUND: Male\nMESH NAME NOT FOUND: Female\nMESH NAME NOT FOUND: Male\nMESH NAME NOT FOUND: Female\nMESH NAME NOT FOUND: Male\nMESH NAME NOT FOUND: Female\nMESH NAME NOT FOUND: Female\nMESH NAME NOT FOUND: Female\nMESH NAME NOT FOUND: Female\nMESH NAME NOT FOUND: Female\nMESH NAME NOT FOUND: Female\nMESH NAME NOT FOUND: Female\nMESH NAME NOT FOUND: Female\nMESH NAME NOT FOUND: Male\nMESH NAME NOT FOUND: Female\nMESH NAME NOT FOUND: Male\nMESH NAME NOT FOUND: Female\nMESH NAME NOT FOUND: Male\nMESH NAME NOT FOUND: Female\nMESH NAME NOT FOUND: Female\nMESH NAME NOT FOUND: Male\nMESH NAME NOT FOUND: Female\nMESH NAME NOT FOUND: Male\nMESH NAME NOT FOUND: Female\nMESH NAME NOT FOUND: Male\nMESH NAME NOT FOUND: Female\nMESH NAME NOT FOUND: Female\nMESH NAME NOT FOUND: Female\nMESH NAME NOT FOUND: Female\nMESH NAME NOT FOUND: Female\nMESH NAME NOT FOUND: Female\nMESH NAME NOT FOUND: Female\nMESH NAME NOT FOUND: Female\nMESH NAME NOT FOUND: Female\nMESH NAME NOT FOUND: Female\nMESH NAME NOT FOUND: Female\nMESH NAME NOT FOUND: Female\nMESH NAME NOT FOUND: Female\nMESH NAME NOT FOUND: Female\nMESH NAME NOT FOUND: Male\nMESH NAME NOT FOUND: Male\nMESH NAME NOT FOUND: Female\nMESH NAME NOT FOUND: Female\nMESH NAME NOT FOUND: Male\nMESH NAME NOT FOUND: Female\nMESH NAME NOT FOUND: Male\nMESH NAME NOT FOUND: Female\nMESH NAME NOT FOUND: Male\nMESH NAME NOT FOUND: Female\nMESH NAME NOT FOUND: Male\nMESH NAME NOT FOUND: Female\nMESH NAME NOT FOUND: Female\nMESH NAME NOT FOUND: Male\nMESH NAME NOT FOUND: Female\nMESH NAME NOT FOUND: Male\nMESH NAME NOT FOUND: Female\nMESH NAME NOT FOUND: Female\nMESH NAME NOT FOUND: Male\nMESH NAME NOT FOUND: Female\nMESH NAME NOT FOUND: Male\nMESH NAME NOT FOUND: Female\nMESH NAME NOT FOUND: Male\nMESH NAME NOT FOUND: Female\nMESH NAME NOT FOUND: Male\nMESH NAME NOT FOUND: Female\nMESH NAME NOT FOUND: Male\nMESH NAME NOT FOUND: Female\nMESH NAME NOT FOUND: Male\nMESH NAME NOT FOUND: Female\nMESH NAME NOT FOUND: Male\nMESH NAME NOT FOUND: Female\nMESH NAME NOT FOUND: Male\nMESH NAME NOT FOUND: Female\nMESH NAME NOT FOUND: Male\nMESH NAME NOT FOUND: Female\nMESH NAME NOT FOUND: Male\nMESH NAME NOT FOUND: Female\nMESH NAME NOT FOUND: Male\nMESH NAME NOT FOUND: Female\nMESH NAME NOT FOUND: Male\nMESH NAME NOT FOUND: Male\nMESH NAME NOT FOUND: Male\nMESH NAME NOT FOUND: Male\nMESH NAME NOT FOUND: Female\nMESH NAME NOT FOUND: Male\nMESH NAME NOT FOUND: Female\nMESH NAME NOT FOUND: Male\nMESH NAME NOT FOUND: Female\nMESH NAME NOT FOUND: Male\nMESH NAME NOT FOUND: Male\nMESH NAME NOT FOUND: Male\nMESH NAME NOT FOUND: Female\nMESH NAME NOT FOUND: Male\nMESH NAME NOT FOUND: Female\nMESH NAME NOT FOUND: Male\nMESH NAME NOT FOUND: Male\nMESH NAME NOT FOUND: Female\nMESH NAME NOT FOUND: Male\nMESH NAME NOT FOUND: Male\nMESH NAME NOT FOUND: Female\nMESH NAME NOT FOUND: Male\nMESH NAME NOT FOUND: Female\nMESH NAME NOT FOUND: Female\nMESH NAME NOT FOUND: Male\nMESH NAME NOT FOUND: Female\nMESH NAME NOT FOUND: Male\nMESH NAME NOT FOUND: Female\nMESH NAME NOT FOUND: Female\nMESH NAME NOT FOUND: Male\nMESH NAME NOT FOUND: Female\nMESH NAME NOT FOUND: Female\nMESH NAME NOT FOUND: Female\nMESH NAME NOT FOUND: Female\nMESH NAME NOT FOUND: Female\nMESH NAME NOT FOUND: Female\nMESH NAME NOT FOUND: Female\nMESH NAME NOT FOUND: Female\nMESH NAME NOT FOUND: Female\nMESH NAME NOT FOUND: Male\nMESH NAME NOT FOUND: Female\nMESH NAME NOT FOUND: Male\nMESH NAME NOT FOUND: Female\nMESH NAME NOT FOUND: Male\nMESH NAME NOT FOUND: Female\nMESH NAME NOT FOUND: Male\nMESH NAME NOT FOUND: Chlorocebus aethiops\nMESH NAME NOT FOUND: Female\nMESH NAME NOT FOUND: Male\nMESH NAME NOT FOUND: Female\nMESH NAME NOT FOUND: Male\nMESH NAME NOT FOUND: Female\nMESH NAME NOT FOUND: Male\nMESH NAME NOT FOUND: Male\nMESH NAME NOT FOUND: Female\nMESH NAME NOT FOUND: Male\nMESH NAME NOT FOUND: Female\nMESH NAME NOT FOUND: Male\nMESH NAME NOT FOUND: Female\nMESH NAME NOT FOUND: Female\nMESH NAME NOT FOUND: Female\nMESH NAME NOT FOUND: Female\nMESH NAME NOT FOUND: Male\nMESH NAME NOT FOUND: Female\nMESH NAME NOT FOUND: Female\nMESH NAME NOT FOUND: Female\nMESH NAME NOT FOUND: Male\nMESH NAME NOT FOUND: Female\nMESH NAME NOT FOUND: Male\nMESH NAME NOT FOUND: Female\nMESH NAME NOT FOUND: Male\nMESH NAME NOT FOUND: Female\nMESH NAME NOT FOUND: Male\nMESH NAME NOT FOUND: Female\nMESH NAME NOT FOUND: Male\nMESH NAME NOT FOUND: Female\nMESH NAME NOT FOUND: Male\nMESH NAME NOT FOUND: Female\nMESH NAME NOT FOUND: Male\nMESH NAME NOT FOUND: Female\nMESH NAME NOT FOUND: Male\nMESH NAME NOT FOUND: Male\nMESH NAME NOT FOUND: Female\nMESH NAME NOT FOUND: Male\nMESH NAME NOT FOUND: Female\nMESH NAME NOT FOUND: Male\nMESH NAME NOT FOUND: Female\nMESH NAME NOT FOUND: Male\nMESH NAME NOT FOUND: Female\nMESH NAME NOT FOUND: Male\nMESH NAME NOT FOUND: Male\nMESH NAME NOT FOUND: Female\nMESH NAME NOT FOUND: Male\nMESH NAME NOT FOUND: Female\nMESH NAME NOT FOUND: Female\nMESH NAME NOT FOUND: Male\nMESH NAME NOT FOUND: Female\nMESH NAME NOT FOUND: Male\nMESH NAME NOT FOUND: Female\nMESH NAME NOT FOUND: Male\nMESH NAME NOT FOUND: Female\nMESH NAME NOT FOUND: Male\nMESH NAME NOT FOUND: Female\nMESH NAME NOT FOUND: Male\nMESH NAME NOT FOUND: Female\nMESH NAME NOT FOUND: Female\nMESH NAME NOT FOUND: Male\nMESH NAME NOT FOUND: Female\nMESH NAME NOT FOUND: Male\nMESH NAME NOT FOUND: Male\nMESH NAME NOT FOUND: Female\nMESH NAME NOT FOUND: Male\nMESH NAME NOT FOUND: Male\nMESH NAME NOT FOUND: Male\nMESH NAME NOT FOUND: Female\nMESH NAME NOT FOUND: Female\nMESH NAME NOT FOUND: Male\nMESH NAME NOT FOUND: Female\nMESH NAME NOT FOUND: Male\nMESH NAME NOT FOUND: Female\nMESH NAME NOT FOUND: Female\nMESH NAME NOT FOUND: Male\nMESH NAME NOT FOUND: Female\nMESH NAME NOT FOUND: Female\nMESH NAME NOT FOUND: Male\nMESH NAME NOT FOUND: Female\nMESH NAME NOT FOUND: Male\nMESH NAME NOT FOUND: Female\nMESH NAME NOT FOUND: Male\nMESH NAME NOT FOUND: Female\nMESH NAME NOT FOUND: Male\nMESH NAME NOT FOUND: Female\nMESH NAME NOT FOUND: Male\nMESH NAME NOT FOUND: Female\nMESH NAME NOT FOUND: Male\nMESH NAME NOT FOUND: Female\nMESH NAME NOT FOUND: Male\nMESH NAME NOT FOUND: Male\nMESH NAME NOT FOUND: Female\nMESH NAME NOT FOUND: Male\nMESH NAME NOT FOUND: Female\nMESH NAME NOT FOUND: Male\nMESH NAME NOT FOUND: Female\nMESH NAME NOT FOUND: Male\nMESH NAME NOT FOUND: Female\nMESH NAME NOT FOUND: Male\nMESH NAME NOT FOUND: Female\nMESH NAME NOT FOUND: Male\nMESH NAME NOT FOUND: Female\nMESH NAME NOT FOUND: Male\nMESH NAME NOT FOUND: Female\nMESH NAME NOT FOUND: Male\nMESH NAME NOT FOUND: Female\nMESH NAME NOT FOUND: Male\nMESH NAME NOT FOUND: Female\nMESH NAME NOT FOUND: Male\nMESH NAME NOT FOUND: Female\nMESH NAME NOT FOUND: Male\nMESH NAME NOT FOUND: Female\nMESH NAME NOT FOUND: Male\nMESH NAME NOT FOUND: Female\nMESH NAME NOT FOUND: Male\nMESH NAME NOT FOUND: Female\nMESH NAME NOT FOUND: Female\nMESH NAME NOT FOUND: Male\nMESH NAME NOT FOUND: Female\nMESH NAME NOT FOUND: Female\nMESH NAME NOT FOUND: Male\nMESH NAME NOT FOUND: Female\nMESH NAME NOT FOUND: Male\nMESH NAME NOT FOUND: Female\nMESH NAME NOT FOUND: Male\nMESH NAME NOT FOUND: Male\nMESH NAME NOT FOUND: Female\nMESH NAME NOT FOUND: Female\nMESH NAME NOT FOUND: Female\nMESH NAME NOT FOUND: Male\nMESH NAME NOT FOUND: Female\nMESH NAME NOT FOUND: Male\nMESH NAME NOT FOUND: Male\nMESH NAME NOT FOUND: Female\nMESH NAME NOT FOUND: Female\nMESH NAME NOT FOUND: Male\nMESH NAME NOT FOUND: Female\nMESH NAME NOT FOUND: Male\nMESH NAME NOT FOUND: Female\nMESH NAME NOT FOUND: Male\nMESH NAME NOT FOUND: Male\nMESH NAME NOT FOUND: Male\nMESH NAME NOT FOUND: Male\nMESH NAME NOT FOUND: Female\nMESH NAME NOT FOUND: Male\nMESH NAME NOT FOUND: Female\nMESH NAME NOT FOUND: Female\nMESH NAME NOT FOUND: Male\nMESH NAME NOT FOUND: Female\nMESH NAME NOT FOUND: Male\nMESH NAME NOT FOUND: Female\nMESH NAME NOT FOUND: Male\nMESH NAME NOT FOUND: Female\nMESH NAME NOT FOUND: Male\nMESH NAME NOT FOUND: Female\nMESH NAME NOT FOUND: Male\nMESH NAME NOT FOUND: Female\nMESH NAME NOT FOUND: Female\nMESH NAME NOT FOUND: Male\nMESH NAME NOT FOUND: Female\nMESH NAME NOT FOUND: Male\nMESH NAME NOT FOUND: Female\nMESH NAME NOT FOUND: Male\nMESH NAME NOT FOUND: Female\nMESH NAME NOT FOUND: Male\nMESH NAME NOT FOUND: Female\nMESH NAME NOT FOUND: Male\nMESH NAME NOT FOUND: Female\nMESH NAME NOT FOUND: Male\nMESH NAME NOT FOUND: Female\nMESH NAME NOT FOUND: Male\nMESH NAME NOT FOUND: Male\nMESH NAME NOT FOUND: Female\nMESH NAME NOT FOUND: Male\nMESH NAME NOT FOUND: Female\nMESH NAME NOT FOUND: Male\nMESH NAME NOT FOUND: Female\nMESH NAME NOT FOUND: Male\nMESH NAME NOT FOUND: Female\nMESH NAME NOT FOUND: Female\nMESH NAME NOT FOUND: Female\nMESH NAME NOT FOUND: Female\nMESH NAME NOT FOUND: Male\nMESH NAME NOT FOUND: Female\nMESH NAME NOT FOUND: Male\nMESH NAME NOT FOUND: Female\nMESH NAME NOT FOUND: Female\nMESH NAME NOT FOUND: Male\nMESH NAME NOT FOUND: Female\nMESH NAME NOT FOUND: Male\nMESH NAME NOT FOUND: Female\nMESH NAME NOT FOUND: Male\nMESH NAME NOT FOUND: Female\nMESH NAME NOT FOUND: Male\nMESH NAME NOT FOUND: Female\nMESH NAME NOT FOUND: Male\nMESH NAME NOT FOUND: Female\nMESH NAME NOT FOUND: Male\nMESH NAME NOT FOUND: Female\nMESH NAME NOT FOUND: Male\nMESH NAME NOT FOUND: Female\nMESH NAME NOT FOUND: Male\nMESH NAME NOT FOUND: Female\nMESH NAME NOT FOUND: Female\nMESH NAME NOT FOUND: Female\nMESH NAME NOT FOUND: Female\nMESH NAME NOT FOUND: Female\nMESH NAME NOT FOUND: Female\nMESH NAME NOT FOUND: Female\nMESH NAME NOT FOUND: Female\nMESH NAME NOT FOUND: Male\nMESH NAME NOT FOUND: Female\nMESH NAME NOT FOUND: Male\nMESH NAME NOT FOUND: Female\nMESH NAME NOT FOUND: Male\nMESH NAME NOT FOUND: Female\nMESH NAME NOT FOUND: Male\nMESH NAME NOT FOUND: Male\nMESH NAME NOT FOUND: Female\nMESH NAME NOT FOUND: Male\nMESH NAME NOT FOUND: Female\nMESH NAME NOT FOUND: Female\nMESH NAME NOT FOUND: Male\nMESH NAME NOT FOUND: Female\nMESH NAME NOT FOUND: Male\nMESH NAME NOT FOUND: Female\nMESH NAME NOT FOUND: Male\nMESH NAME NOT FOUND: Female\nMESH NAME NOT FOUND: Female\nMESH NAME NOT FOUND: Female\nMESH NAME NOT FOUND: Male\nMESH NAME NOT FOUND: Female\nMESH NAME NOT FOUND: Male\nMESH NAME NOT FOUND: Female\nMESH NAME NOT FOUND: Male\nMESH NAME NOT FOUND: Female\nMESH NAME NOT FOUND: Female\nMESH NAME NOT FOUND: Male\nMESH NAME NOT FOUND: Female\nMESH NAME NOT FOUND: Male\nMESH NAME NOT FOUND: Female\nMESH NAME NOT FOUND: Male\nMESH NAME NOT FOUND: Female\nMESH NAME NOT FOUND: Male\nMESH NAME NOT FOUND: Female\nMESH NAME NOT FOUND: Male\nMESH NAME NOT FOUND: Female\nMESH NAME NOT FOUND: Male\nMESH NAME NOT FOUND: Female\nMESH NAME NOT FOUND: Male\nMESH NAME NOT FOUND: Female\nMESH NAME NOT FOUND: Male\nMESH NAME NOT FOUND: Female\nMESH NAME NOT FOUND: Female\nMESH NAME NOT FOUND: Male\nMESH NAME NOT FOUND: Female\nMESH NAME NOT FOUND: Male\nMESH NAME NOT FOUND: Female\nMESH NAME NOT FOUND: Male\nMESH NAME NOT FOUND: Female\nMESH NAME NOT FOUND: Female\nMESH NAME NOT FOUND: Female\nMESH NAME NOT FOUND: Female\nMESH NAME NOT FOUND: Female\nMESH NAME NOT FOUND: Female\nMESH NAME NOT FOUND: Female\nMESH NAME NOT FOUND: Female\nMESH NAME NOT FOUND: Female\n"
    },
    {
     "output_type": "execute_result",
     "data": {
      "text/plain": "<torch.utils.data.dataloader.DataLoader at 0x1e264af28>"
     },
     "metadata": {},
     "execution_count": 38
    }
   ],
   "source": [
    "train_set = ToyDS(df)\n",
    "train_loader=DataLoader(dataset= train_set, batch_size = batch_size, shuffle = True, num_workers = num_workers)\n",
    "train_loader"
   ]
  },
  {
   "cell_type": "code",
   "execution_count": 40,
   "metadata": {},
   "outputs": [
    {
     "output_type": "execute_result",
     "data": {
      "text/plain": "tensor([[ 2.3559, -0.8325,  1.6533,  0.1578, -0.3743, -1.0579,  1.0071,  0.6648],\n        [-0.3473, -0.0033, -0.1106,  1.6449, -0.7007,  0.7829,  0.6950,  1.3834],\n        [-0.4598,  1.2446,  0.0835, -1.1399,  0.9903,  0.0265, -0.4160, -1.1432],\n        [ 1.8663, -0.3413, -0.9549, -0.2093, -1.1584, -0.7542, -2.1081, -0.4654],\n        [-1.9273, -0.5233,  0.5523,  0.5057,  0.3972, -0.0094, -0.4563,  0.5255],\n        [-0.6313,  0.1895,  0.7319, -0.1278, -0.5791,  0.5498, -0.2563,  0.3987],\n        [ 0.6712, -0.7498, -0.0814,  0.8826, -0.5756, -0.2790, -1.5462, -0.5287],\n        [ 0.6489,  2.3750,  0.5274,  0.3127,  1.1901, -0.4620, -0.3700,  0.2631]],\n       grad_fn=<AddBackward0>)"
     },
     "metadata": {},
     "execution_count": 40
    }
   ],
   "source": [
    "for batch_idx, (data, _) in enumerate(train_loader):\n",
    "    data = data.to(device, dtype=torch.float32)\n",
    "    recon_batch, mu, logvar, z= model(data)\n",
    "    break\n",
    "z"
   ]
  },
  {
   "cell_type": "code",
   "execution_count": 48,
   "metadata": {},
   "outputs": [],
   "source": [
    "from sklearn.manifold import TSNE\n",
    "%matplotlib inline\n",
    "import matplotlib.pyplot as plt\n",
    "from mpl_toolkits.mplot3d import Axes3D\n",
    "import seaborn as sns\n"
   ]
  },
  {
   "cell_type": "code",
   "execution_count": 52,
   "metadata": {
    "tags": []
   },
   "outputs": [
    {
     "output_type": "stream",
     "name": "stdout",
     "text": "[t-SNE] Computing 7 nearest neighbors...\n[t-SNE] Indexed 8 samples in 0.000s...\n[t-SNE] Computed neighbors for 8 samples in 0.005s...\n[t-SNE] Computed conditional probabilities for sample 8 / 8\n[t-SNE] Mean sigma: 1125899906842624.000000\n[t-SNE] KL divergence after 250 iterations with early exaggeration: 45.907143\n[t-SNE] KL divergence after 300 iterations: 0.200382\nt-SNE done! Time elapsed: 0.07541298866271973 seconds\n"
    }
   ],
   "source": [
    "ds=z.detach().numpy()\n",
    "time_start = time.time()\n",
    "tsne = TSNE(n_components=2, verbose=1, perplexity=40, n_iter=300)\n",
    "tsne_results = tsne.fit_transform(ds)\n",
    "print('t-SNE done! Time elapsed: {} seconds'.format(time.time()-time_start))"
   ]
  },
  {
   "cell_type": "code",
   "execution_count": 54,
   "metadata": {},
   "outputs": [],
   "source": [
    "df_subset=pd.DataFrame()"
   ]
  },
  {
   "cell_type": "code",
   "execution_count": 58,
   "metadata": {},
   "outputs": [
    {
     "output_type": "execute_result",
     "data": {
      "text/plain": "<matplotlib.axes._subplots.AxesSubplot at 0x1e5292198>"
     },
     "metadata": {},
     "execution_count": 58
    },
    {
     "output_type": "display_data",
     "data": {
      "text/plain": "<Figure size 720x720 with 1 Axes>",
      "image/svg+xml": "<?xml version=\"1.0\" encoding=\"utf-8\" standalone=\"no\"?>\n<!DOCTYPE svg PUBLIC \"-//W3C//DTD SVG 1.1//EN\"\n  \"http://www.w3.org/Graphics/SVG/1.1/DTD/svg11.dtd\">\n<!-- Created with matplotlib (https://matplotlib.org/) -->\n<svg height=\"588.35625pt\" version=\"1.1\" viewBox=\"0 0 614.182812 588.35625\" width=\"614.182812pt\" xmlns=\"http://www.w3.org/2000/svg\" xmlns:xlink=\"http://www.w3.org/1999/xlink\">\n <defs>\n  <style type=\"text/css\">\n*{stroke-linecap:butt;stroke-linejoin:round;}\n  </style>\n </defs>\n <g id=\"figure_1\">\n  <g id=\"patch_1\">\n   <path d=\"M 0 588.35625 \nL 614.182812 588.35625 \nL 614.182812 0 \nL 0 0 \nz\n\" style=\"fill:none;\"/>\n  </g>\n  <g id=\"axes_1\">\n   <g id=\"patch_2\">\n    <path d=\"M 48.982812 550.8 \nL 606.982813 550.8 \nL 606.982813 7.2 \nL 48.982812 7.2 \nz\n\" style=\"fill:#ffffff;\"/>\n   </g>\n   <g id=\"PathCollection_1\">\n    <defs>\n     <path d=\"M 0 3 \nC 0.795609 3 1.55874 2.683901 2.12132 2.12132 \nC 2.683901 1.55874 3 0.795609 3 0 \nC 3 -0.795609 2.683901 -1.55874 2.12132 -2.12132 \nC 1.55874 -2.683901 0.795609 -3 0 -3 \nC -0.795609 -3 -1.55874 -2.683901 -2.12132 -2.12132 \nC -2.683901 -1.55874 -3 -0.795609 -3 0 \nC -3 0.795609 -2.683901 1.55874 -2.12132 2.12132 \nC -1.55874 2.683901 -0.795609 3 0 3 \nz\n\" id=\"m444a86ec10\" style=\"stroke:#ffffff;stroke-opacity:0.3;stroke-width:0.75;\"/>\n    </defs>\n    <g clip-path=\"url(#p33831e68e2)\">\n     <use style=\"fill:#1f77b4;fill-opacity:0.3;stroke:#ffffff;stroke-opacity:0.3;stroke-width:0.75;\" x=\"421.514217\" xlink:href=\"#m444a86ec10\" y=\"92.901989\"/>\n     <use style=\"fill:#1f77b4;fill-opacity:0.3;stroke:#ffffff;stroke-opacity:0.3;stroke-width:0.75;\" x=\"74.346449\" xlink:href=\"#m444a86ec10\" y=\"201.822453\"/>\n     <use style=\"fill:#1f77b4;fill-opacity:0.3;stroke:#ffffff;stroke-opacity:0.3;stroke-width:0.75;\" x=\"484.714514\" xlink:href=\"#m444a86ec10\" y=\"423.074358\"/>\n     <use style=\"fill:#1f77b4;fill-opacity:0.3;stroke:#ffffff;stroke-opacity:0.3;stroke-width:0.75;\" x=\"105.830771\" xlink:href=\"#m444a86ec10\" y=\"401.884798\"/>\n     <use style=\"fill:#1f77b4;fill-opacity:0.3;stroke:#ffffff;stroke-opacity:0.3;stroke-width:0.75;\" x=\"310.119171\" xlink:href=\"#m444a86ec10\" y=\"276.742669\"/>\n     <use style=\"fill:#1f77b4;fill-opacity:0.3;stroke:#ffffff;stroke-opacity:0.3;stroke-width:0.75;\" x=\"581.619176\" xlink:href=\"#m444a86ec10\" y=\"236.607989\"/>\n     <use style=\"fill:#1f77b4;fill-opacity:0.3;stroke:#ffffff;stroke-opacity:0.3;stroke-width:0.75;\" x=\"288.800961\" xlink:href=\"#m444a86ec10\" y=\"526.090909\"/>\n     <use style=\"fill:#1f77b4;fill-opacity:0.3;stroke:#ffffff;stroke-opacity:0.3;stroke-width:0.75;\" x=\"204.801458\" xlink:href=\"#m444a86ec10\" y=\"31.909091\"/>\n    </g>\n   </g>\n   <g id=\"matplotlib.axis_1\">\n    <g id=\"xtick_1\">\n     <g id=\"line2d_1\">\n      <defs>\n       <path d=\"M 0 0 \nL 0 3.5 \n\" id=\"m47c7d62b1a\" style=\"stroke:#000000;stroke-width:0.8;\"/>\n      </defs>\n      <g>\n       <use style=\"stroke:#000000;stroke-width:0.8;\" x=\"77.983921\" xlink:href=\"#m47c7d62b1a\" y=\"550.8\"/>\n      </g>\n     </g>\n     <g id=\"text_1\">\n      <!-- −75 -->\n      <defs>\n       <path d=\"M 10.59375 35.5 \nL 73.1875 35.5 \nL 73.1875 27.203125 \nL 10.59375 27.203125 \nz\n\" id=\"DejaVuSans-8722\"/>\n       <path d=\"M 8.203125 72.90625 \nL 55.078125 72.90625 \nL 55.078125 68.703125 \nL 28.609375 0 \nL 18.3125 0 \nL 43.21875 64.59375 \nL 8.203125 64.59375 \nz\n\" id=\"DejaVuSans-55\"/>\n       <path d=\"M 10.796875 72.90625 \nL 49.515625 72.90625 \nL 49.515625 64.59375 \nL 19.828125 64.59375 \nL 19.828125 46.734375 \nQ 21.96875 47.46875 24.109375 47.828125 \nQ 26.265625 48.1875 28.421875 48.1875 \nQ 40.625 48.1875 47.75 41.5 \nQ 54.890625 34.8125 54.890625 23.390625 \nQ 54.890625 11.625 47.5625 5.09375 \nQ 40.234375 -1.421875 26.90625 -1.421875 \nQ 22.3125 -1.421875 17.546875 -0.640625 \nQ 12.796875 0.140625 7.71875 1.703125 \nL 7.71875 11.625 \nQ 12.109375 9.234375 16.796875 8.0625 \nQ 21.484375 6.890625 26.703125 6.890625 \nQ 35.15625 6.890625 40.078125 11.328125 \nQ 45.015625 15.765625 45.015625 23.390625 \nQ 45.015625 31 40.078125 35.4375 \nQ 35.15625 39.890625 26.703125 39.890625 \nQ 22.75 39.890625 18.8125 39.015625 \nQ 14.890625 38.140625 10.796875 36.28125 \nz\n\" id=\"DejaVuSans-53\"/>\n      </defs>\n      <g transform=\"translate(67.431577 565.398438)scale(0.1 -0.1)\">\n       <use xlink:href=\"#DejaVuSans-8722\"/>\n       <use x=\"83.789062\" xlink:href=\"#DejaVuSans-55\"/>\n       <use x=\"147.412109\" xlink:href=\"#DejaVuSans-53\"/>\n      </g>\n     </g>\n    </g>\n    <g id=\"xtick_2\">\n     <g id=\"line2d_2\">\n      <g>\n       <use style=\"stroke:#000000;stroke-width:0.8;\" x=\"150.270541\" xlink:href=\"#m47c7d62b1a\" y=\"550.8\"/>\n      </g>\n     </g>\n     <g id=\"text_2\">\n      <!-- −50 -->\n      <defs>\n       <path d=\"M 31.78125 66.40625 \nQ 24.171875 66.40625 20.328125 58.90625 \nQ 16.5 51.421875 16.5 36.375 \nQ 16.5 21.390625 20.328125 13.890625 \nQ 24.171875 6.390625 31.78125 6.390625 \nQ 39.453125 6.390625 43.28125 13.890625 \nQ 47.125 21.390625 47.125 36.375 \nQ 47.125 51.421875 43.28125 58.90625 \nQ 39.453125 66.40625 31.78125 66.40625 \nz\nM 31.78125 74.21875 \nQ 44.046875 74.21875 50.515625 64.515625 \nQ 56.984375 54.828125 56.984375 36.375 \nQ 56.984375 17.96875 50.515625 8.265625 \nQ 44.046875 -1.421875 31.78125 -1.421875 \nQ 19.53125 -1.421875 13.0625 8.265625 \nQ 6.59375 17.96875 6.59375 36.375 \nQ 6.59375 54.828125 13.0625 64.515625 \nQ 19.53125 74.21875 31.78125 74.21875 \nz\n\" id=\"DejaVuSans-48\"/>\n      </defs>\n      <g transform=\"translate(139.718198 565.398438)scale(0.1 -0.1)\">\n       <use xlink:href=\"#DejaVuSans-8722\"/>\n       <use x=\"83.789062\" xlink:href=\"#DejaVuSans-53\"/>\n       <use x=\"147.412109\" xlink:href=\"#DejaVuSans-48\"/>\n      </g>\n     </g>\n    </g>\n    <g id=\"xtick_3\">\n     <g id=\"line2d_3\">\n      <g>\n       <use style=\"stroke:#000000;stroke-width:0.8;\" x=\"222.557162\" xlink:href=\"#m47c7d62b1a\" y=\"550.8\"/>\n      </g>\n     </g>\n     <g id=\"text_3\">\n      <!-- −25 -->\n      <defs>\n       <path d=\"M 19.1875 8.296875 \nL 53.609375 8.296875 \nL 53.609375 0 \nL 7.328125 0 \nL 7.328125 8.296875 \nQ 12.9375 14.109375 22.625 23.890625 \nQ 32.328125 33.6875 34.8125 36.53125 \nQ 39.546875 41.84375 41.421875 45.53125 \nQ 43.3125 49.21875 43.3125 52.78125 \nQ 43.3125 58.59375 39.234375 62.25 \nQ 35.15625 65.921875 28.609375 65.921875 \nQ 23.96875 65.921875 18.8125 64.3125 \nQ 13.671875 62.703125 7.8125 59.421875 \nL 7.8125 69.390625 \nQ 13.765625 71.78125 18.9375 73 \nQ 24.125 74.21875 28.421875 74.21875 \nQ 39.75 74.21875 46.484375 68.546875 \nQ 53.21875 62.890625 53.21875 53.421875 \nQ 53.21875 48.921875 51.53125 44.890625 \nQ 49.859375 40.875 45.40625 35.40625 \nQ 44.1875 33.984375 37.640625 27.21875 \nQ 31.109375 20.453125 19.1875 8.296875 \nz\n\" id=\"DejaVuSans-50\"/>\n      </defs>\n      <g transform=\"translate(212.004818 565.398438)scale(0.1 -0.1)\">\n       <use xlink:href=\"#DejaVuSans-8722\"/>\n       <use x=\"83.789062\" xlink:href=\"#DejaVuSans-50\"/>\n       <use x=\"147.412109\" xlink:href=\"#DejaVuSans-53\"/>\n      </g>\n     </g>\n    </g>\n    <g id=\"xtick_4\">\n     <g id=\"line2d_4\">\n      <g>\n       <use style=\"stroke:#000000;stroke-width:0.8;\" x=\"294.843783\" xlink:href=\"#m47c7d62b1a\" y=\"550.8\"/>\n      </g>\n     </g>\n     <g id=\"text_4\">\n      <!-- 0 -->\n      <g transform=\"translate(291.662533 565.398438)scale(0.1 -0.1)\">\n       <use xlink:href=\"#DejaVuSans-48\"/>\n      </g>\n     </g>\n    </g>\n    <g id=\"xtick_5\">\n     <g id=\"line2d_5\">\n      <g>\n       <use style=\"stroke:#000000;stroke-width:0.8;\" x=\"367.130403\" xlink:href=\"#m47c7d62b1a\" y=\"550.8\"/>\n      </g>\n     </g>\n     <g id=\"text_5\">\n      <!-- 25 -->\n      <g transform=\"translate(360.767903 565.398438)scale(0.1 -0.1)\">\n       <use xlink:href=\"#DejaVuSans-50\"/>\n       <use x=\"63.623047\" xlink:href=\"#DejaVuSans-53\"/>\n      </g>\n     </g>\n    </g>\n    <g id=\"xtick_6\">\n     <g id=\"line2d_6\">\n      <g>\n       <use style=\"stroke:#000000;stroke-width:0.8;\" x=\"439.417024\" xlink:href=\"#m47c7d62b1a\" y=\"550.8\"/>\n      </g>\n     </g>\n     <g id=\"text_6\">\n      <!-- 50 -->\n      <g transform=\"translate(433.054524 565.398438)scale(0.1 -0.1)\">\n       <use xlink:href=\"#DejaVuSans-53\"/>\n       <use x=\"63.623047\" xlink:href=\"#DejaVuSans-48\"/>\n      </g>\n     </g>\n    </g>\n    <g id=\"xtick_7\">\n     <g id=\"line2d_7\">\n      <g>\n       <use style=\"stroke:#000000;stroke-width:0.8;\" x=\"511.703644\" xlink:href=\"#m47c7d62b1a\" y=\"550.8\"/>\n      </g>\n     </g>\n     <g id=\"text_7\">\n      <!-- 75 -->\n      <g transform=\"translate(505.341144 565.398438)scale(0.1 -0.1)\">\n       <use xlink:href=\"#DejaVuSans-55\"/>\n       <use x=\"63.623047\" xlink:href=\"#DejaVuSans-53\"/>\n      </g>\n     </g>\n    </g>\n    <g id=\"xtick_8\">\n     <g id=\"line2d_8\">\n      <g>\n       <use style=\"stroke:#000000;stroke-width:0.8;\" x=\"583.990265\" xlink:href=\"#m47c7d62b1a\" y=\"550.8\"/>\n      </g>\n     </g>\n     <g id=\"text_8\">\n      <!-- 100 -->\n      <defs>\n       <path d=\"M 12.40625 8.296875 \nL 28.515625 8.296875 \nL 28.515625 63.921875 \nL 10.984375 60.40625 \nL 10.984375 69.390625 \nL 28.421875 72.90625 \nL 38.28125 72.90625 \nL 38.28125 8.296875 \nL 54.390625 8.296875 \nL 54.390625 0 \nL 12.40625 0 \nz\n\" id=\"DejaVuSans-49\"/>\n      </defs>\n      <g transform=\"translate(574.446515 565.398438)scale(0.1 -0.1)\">\n       <use xlink:href=\"#DejaVuSans-49\"/>\n       <use x=\"63.623047\" xlink:href=\"#DejaVuSans-48\"/>\n       <use x=\"127.246094\" xlink:href=\"#DejaVuSans-48\"/>\n      </g>\n     </g>\n    </g>\n    <g id=\"text_9\">\n     <!-- tsne-2d-one -->\n     <defs>\n      <path d=\"M 18.3125 70.21875 \nL 18.3125 54.6875 \nL 36.8125 54.6875 \nL 36.8125 47.703125 \nL 18.3125 47.703125 \nL 18.3125 18.015625 \nQ 18.3125 11.328125 20.140625 9.421875 \nQ 21.96875 7.515625 27.59375 7.515625 \nL 36.8125 7.515625 \nL 36.8125 0 \nL 27.59375 0 \nQ 17.1875 0 13.234375 3.875 \nQ 9.28125 7.765625 9.28125 18.015625 \nL 9.28125 47.703125 \nL 2.6875 47.703125 \nL 2.6875 54.6875 \nL 9.28125 54.6875 \nL 9.28125 70.21875 \nz\n\" id=\"DejaVuSans-116\"/>\n      <path d=\"M 44.28125 53.078125 \nL 44.28125 44.578125 \nQ 40.484375 46.53125 36.375 47.5 \nQ 32.28125 48.484375 27.875 48.484375 \nQ 21.1875 48.484375 17.84375 46.4375 \nQ 14.5 44.390625 14.5 40.28125 \nQ 14.5 37.15625 16.890625 35.375 \nQ 19.28125 33.59375 26.515625 31.984375 \nL 29.59375 31.296875 \nQ 39.15625 29.25 43.1875 25.515625 \nQ 47.21875 21.78125 47.21875 15.09375 \nQ 47.21875 7.46875 41.1875 3.015625 \nQ 35.15625 -1.421875 24.609375 -1.421875 \nQ 20.21875 -1.421875 15.453125 -0.5625 \nQ 10.6875 0.296875 5.421875 2 \nL 5.421875 11.28125 \nQ 10.40625 8.6875 15.234375 7.390625 \nQ 20.0625 6.109375 24.8125 6.109375 \nQ 31.15625 6.109375 34.5625 8.28125 \nQ 37.984375 10.453125 37.984375 14.40625 \nQ 37.984375 18.0625 35.515625 20.015625 \nQ 33.0625 21.96875 24.703125 23.78125 \nL 21.578125 24.515625 \nQ 13.234375 26.265625 9.515625 29.90625 \nQ 5.8125 33.546875 5.8125 39.890625 \nQ 5.8125 47.609375 11.28125 51.796875 \nQ 16.75 56 26.8125 56 \nQ 31.78125 56 36.171875 55.265625 \nQ 40.578125 54.546875 44.28125 53.078125 \nz\n\" id=\"DejaVuSans-115\"/>\n      <path d=\"M 54.890625 33.015625 \nL 54.890625 0 \nL 45.90625 0 \nL 45.90625 32.71875 \nQ 45.90625 40.484375 42.875 44.328125 \nQ 39.84375 48.1875 33.796875 48.1875 \nQ 26.515625 48.1875 22.3125 43.546875 \nQ 18.109375 38.921875 18.109375 30.90625 \nL 18.109375 0 \nL 9.078125 0 \nL 9.078125 54.6875 \nL 18.109375 54.6875 \nL 18.109375 46.1875 \nQ 21.34375 51.125 25.703125 53.5625 \nQ 30.078125 56 35.796875 56 \nQ 45.21875 56 50.046875 50.171875 \nQ 54.890625 44.34375 54.890625 33.015625 \nz\n\" id=\"DejaVuSans-110\"/>\n      <path d=\"M 56.203125 29.59375 \nL 56.203125 25.203125 \nL 14.890625 25.203125 \nQ 15.484375 15.921875 20.484375 11.0625 \nQ 25.484375 6.203125 34.421875 6.203125 \nQ 39.59375 6.203125 44.453125 7.46875 \nQ 49.3125 8.734375 54.109375 11.28125 \nL 54.109375 2.78125 \nQ 49.265625 0.734375 44.1875 -0.34375 \nQ 39.109375 -1.421875 33.890625 -1.421875 \nQ 20.796875 -1.421875 13.15625 6.1875 \nQ 5.515625 13.8125 5.515625 26.8125 \nQ 5.515625 40.234375 12.765625 48.109375 \nQ 20.015625 56 32.328125 56 \nQ 43.359375 56 49.78125 48.890625 \nQ 56.203125 41.796875 56.203125 29.59375 \nz\nM 47.21875 32.234375 \nQ 47.125 39.59375 43.09375 43.984375 \nQ 39.0625 48.390625 32.421875 48.390625 \nQ 24.90625 48.390625 20.390625 44.140625 \nQ 15.875 39.890625 15.1875 32.171875 \nz\n\" id=\"DejaVuSans-101\"/>\n      <path d=\"M 4.890625 31.390625 \nL 31.203125 31.390625 \nL 31.203125 23.390625 \nL 4.890625 23.390625 \nz\n\" id=\"DejaVuSans-45\"/>\n      <path d=\"M 45.40625 46.390625 \nL 45.40625 75.984375 \nL 54.390625 75.984375 \nL 54.390625 0 \nL 45.40625 0 \nL 45.40625 8.203125 \nQ 42.578125 3.328125 38.25 0.953125 \nQ 33.9375 -1.421875 27.875 -1.421875 \nQ 17.96875 -1.421875 11.734375 6.484375 \nQ 5.515625 14.40625 5.515625 27.296875 \nQ 5.515625 40.1875 11.734375 48.09375 \nQ 17.96875 56 27.875 56 \nQ 33.9375 56 38.25 53.625 \nQ 42.578125 51.265625 45.40625 46.390625 \nz\nM 14.796875 27.296875 \nQ 14.796875 17.390625 18.875 11.75 \nQ 22.953125 6.109375 30.078125 6.109375 \nQ 37.203125 6.109375 41.296875 11.75 \nQ 45.40625 17.390625 45.40625 27.296875 \nQ 45.40625 37.203125 41.296875 42.84375 \nQ 37.203125 48.484375 30.078125 48.484375 \nQ 22.953125 48.484375 18.875 42.84375 \nQ 14.796875 37.203125 14.796875 27.296875 \nz\n\" id=\"DejaVuSans-100\"/>\n      <path d=\"M 30.609375 48.390625 \nQ 23.390625 48.390625 19.1875 42.75 \nQ 14.984375 37.109375 14.984375 27.296875 \nQ 14.984375 17.484375 19.15625 11.84375 \nQ 23.34375 6.203125 30.609375 6.203125 \nQ 37.796875 6.203125 41.984375 11.859375 \nQ 46.1875 17.53125 46.1875 27.296875 \nQ 46.1875 37.015625 41.984375 42.703125 \nQ 37.796875 48.390625 30.609375 48.390625 \nz\nM 30.609375 56 \nQ 42.328125 56 49.015625 48.375 \nQ 55.71875 40.765625 55.71875 27.296875 \nQ 55.71875 13.875 49.015625 6.21875 \nQ 42.328125 -1.421875 30.609375 -1.421875 \nQ 18.84375 -1.421875 12.171875 6.21875 \nQ 5.515625 13.875 5.515625 27.296875 \nQ 5.515625 40.765625 12.171875 48.375 \nQ 18.84375 56 30.609375 56 \nz\n\" id=\"DejaVuSans-111\"/>\n     </defs>\n     <g transform=\"translate(297.810938 579.076563)scale(0.1 -0.1)\">\n      <use xlink:href=\"#DejaVuSans-116\"/>\n      <use x=\"39.208984\" xlink:href=\"#DejaVuSans-115\"/>\n      <use x=\"91.308594\" xlink:href=\"#DejaVuSans-110\"/>\n      <use x=\"154.6875\" xlink:href=\"#DejaVuSans-101\"/>\n      <use x=\"216.210938\" xlink:href=\"#DejaVuSans-45\"/>\n      <use x=\"252.294922\" xlink:href=\"#DejaVuSans-50\"/>\n      <use x=\"315.917969\" xlink:href=\"#DejaVuSans-100\"/>\n      <use x=\"379.394531\" xlink:href=\"#DejaVuSans-45\"/>\n      <use x=\"417.353516\" xlink:href=\"#DejaVuSans-111\"/>\n      <use x=\"478.535156\" xlink:href=\"#DejaVuSans-110\"/>\n      <use x=\"541.914062\" xlink:href=\"#DejaVuSans-101\"/>\n     </g>\n    </g>\n   </g>\n   <g id=\"matplotlib.axis_2\">\n    <g id=\"ytick_1\">\n     <g id=\"line2d_9\">\n      <defs>\n       <path d=\"M 0 0 \nL -3.5 0 \n\" id=\"m25a21be2e3\" style=\"stroke:#000000;stroke-width:0.8;\"/>\n      </defs>\n      <g>\n       <use style=\"stroke:#000000;stroke-width:0.8;\" x=\"48.982812\" xlink:href=\"#m25a21be2e3\" y=\"510.778559\"/>\n      </g>\n     </g>\n     <g id=\"text_10\">\n      <!-- −50 -->\n      <g transform=\"translate(20.878125 514.577778)scale(0.1 -0.1)\">\n       <use xlink:href=\"#DejaVuSans-8722\"/>\n       <use x=\"83.789062\" xlink:href=\"#DejaVuSans-53\"/>\n       <use x=\"147.412109\" xlink:href=\"#DejaVuSans-48\"/>\n      </g>\n     </g>\n    </g>\n    <g id=\"ytick_2\">\n     <g id=\"line2d_10\">\n      <g>\n       <use style=\"stroke:#000000;stroke-width:0.8;\" x=\"48.982812\" xlink:href=\"#m25a21be2e3\" y=\"446.559294\"/>\n      </g>\n     </g>\n     <g id=\"text_11\">\n      <!-- −25 -->\n      <g transform=\"translate(20.878125 450.358513)scale(0.1 -0.1)\">\n       <use xlink:href=\"#DejaVuSans-8722\"/>\n       <use x=\"83.789062\" xlink:href=\"#DejaVuSans-50\"/>\n       <use x=\"147.412109\" xlink:href=\"#DejaVuSans-53\"/>\n      </g>\n     </g>\n    </g>\n    <g id=\"ytick_3\">\n     <g id=\"line2d_11\">\n      <g>\n       <use style=\"stroke:#000000;stroke-width:0.8;\" x=\"48.982812\" xlink:href=\"#m25a21be2e3\" y=\"382.340029\"/>\n      </g>\n     </g>\n     <g id=\"text_12\">\n      <!-- 0 -->\n      <g transform=\"translate(35.620312 386.139247)scale(0.1 -0.1)\">\n       <use xlink:href=\"#DejaVuSans-48\"/>\n      </g>\n     </g>\n    </g>\n    <g id=\"ytick_4\">\n     <g id=\"line2d_12\">\n      <g>\n       <use style=\"stroke:#000000;stroke-width:0.8;\" x=\"48.982812\" xlink:href=\"#m25a21be2e3\" y=\"318.120763\"/>\n      </g>\n     </g>\n     <g id=\"text_13\">\n      <!-- 25 -->\n      <g transform=\"translate(29.257812 321.919982)scale(0.1 -0.1)\">\n       <use xlink:href=\"#DejaVuSans-50\"/>\n       <use x=\"63.623047\" xlink:href=\"#DejaVuSans-53\"/>\n      </g>\n     </g>\n    </g>\n    <g id=\"ytick_5\">\n     <g id=\"line2d_13\">\n      <g>\n       <use style=\"stroke:#000000;stroke-width:0.8;\" x=\"48.982812\" xlink:href=\"#m25a21be2e3\" y=\"253.901498\"/>\n      </g>\n     </g>\n     <g id=\"text_14\">\n      <!-- 50 -->\n      <g transform=\"translate(29.257812 257.700717)scale(0.1 -0.1)\">\n       <use xlink:href=\"#DejaVuSans-53\"/>\n       <use x=\"63.623047\" xlink:href=\"#DejaVuSans-48\"/>\n      </g>\n     </g>\n    </g>\n    <g id=\"ytick_6\">\n     <g id=\"line2d_14\">\n      <g>\n       <use style=\"stroke:#000000;stroke-width:0.8;\" x=\"48.982812\" xlink:href=\"#m25a21be2e3\" y=\"189.682233\"/>\n      </g>\n     </g>\n     <g id=\"text_15\">\n      <!-- 75 -->\n      <g transform=\"translate(29.257812 193.481451)scale(0.1 -0.1)\">\n       <use xlink:href=\"#DejaVuSans-55\"/>\n       <use x=\"63.623047\" xlink:href=\"#DejaVuSans-53\"/>\n      </g>\n     </g>\n    </g>\n    <g id=\"ytick_7\">\n     <g id=\"line2d_15\">\n      <g>\n       <use style=\"stroke:#000000;stroke-width:0.8;\" x=\"48.982812\" xlink:href=\"#m25a21be2e3\" y=\"125.462967\"/>\n      </g>\n     </g>\n     <g id=\"text_16\">\n      <!-- 100 -->\n      <g transform=\"translate(22.895312 129.262186)scale(0.1 -0.1)\">\n       <use xlink:href=\"#DejaVuSans-49\"/>\n       <use x=\"63.623047\" xlink:href=\"#DejaVuSans-48\"/>\n       <use x=\"127.246094\" xlink:href=\"#DejaVuSans-48\"/>\n      </g>\n     </g>\n    </g>\n    <g id=\"ytick_8\">\n     <g id=\"line2d_16\">\n      <g>\n       <use style=\"stroke:#000000;stroke-width:0.8;\" x=\"48.982812\" xlink:href=\"#m25a21be2e3\" y=\"61.243702\"/>\n      </g>\n     </g>\n     <g id=\"text_17\">\n      <!-- 125 -->\n      <g transform=\"translate(22.895312 65.042921)scale(0.1 -0.1)\">\n       <use xlink:href=\"#DejaVuSans-49\"/>\n       <use x=\"63.623047\" xlink:href=\"#DejaVuSans-50\"/>\n       <use x=\"127.246094\" xlink:href=\"#DejaVuSans-53\"/>\n      </g>\n     </g>\n    </g>\n    <g id=\"text_18\">\n     <!-- tsne-2d-two -->\n     <defs>\n      <path d=\"M 4.203125 54.6875 \nL 13.1875 54.6875 \nL 24.421875 12.015625 \nL 35.59375 54.6875 \nL 46.1875 54.6875 \nL 57.421875 12.015625 \nL 68.609375 54.6875 \nL 77.59375 54.6875 \nL 63.28125 0 \nL 52.6875 0 \nL 40.921875 44.828125 \nL 29.109375 0 \nL 18.5 0 \nz\n\" id=\"DejaVuSans-119\"/>\n     </defs>\n     <g transform=\"translate(14.798437 308.882031)rotate(-90)scale(0.1 -0.1)\">\n      <use xlink:href=\"#DejaVuSans-116\"/>\n      <use x=\"39.208984\" xlink:href=\"#DejaVuSans-115\"/>\n      <use x=\"91.308594\" xlink:href=\"#DejaVuSans-110\"/>\n      <use x=\"154.6875\" xlink:href=\"#DejaVuSans-101\"/>\n      <use x=\"216.210938\" xlink:href=\"#DejaVuSans-45\"/>\n      <use x=\"252.294922\" xlink:href=\"#DejaVuSans-50\"/>\n      <use x=\"315.917969\" xlink:href=\"#DejaVuSans-100\"/>\n      <use x=\"379.394531\" xlink:href=\"#DejaVuSans-45\"/>\n      <use x=\"415.478516\" xlink:href=\"#DejaVuSans-116\"/>\n      <use x=\"454.6875\" xlink:href=\"#DejaVuSans-119\"/>\n      <use x=\"536.474609\" xlink:href=\"#DejaVuSans-111\"/>\n     </g>\n    </g>\n   </g>\n   <g id=\"patch_3\">\n    <path d=\"M 48.982812 550.8 \nL 48.982812 7.2 \n\" style=\"fill:none;stroke:#000000;stroke-linecap:square;stroke-linejoin:miter;stroke-width:0.8;\"/>\n   </g>\n   <g id=\"patch_4\">\n    <path d=\"M 606.982813 550.8 \nL 606.982813 7.2 \n\" style=\"fill:none;stroke:#000000;stroke-linecap:square;stroke-linejoin:miter;stroke-width:0.8;\"/>\n   </g>\n   <g id=\"patch_5\">\n    <path d=\"M 48.982812 550.8 \nL 606.982812 550.8 \n\" style=\"fill:none;stroke:#000000;stroke-linecap:square;stroke-linejoin:miter;stroke-width:0.8;\"/>\n   </g>\n   <g id=\"patch_6\">\n    <path d=\"M 48.982812 7.2 \nL 606.982812 7.2 \n\" style=\"fill:none;stroke:#000000;stroke-linecap:square;stroke-linejoin:miter;stroke-width:0.8;\"/>\n   </g>\n  </g>\n </g>\n <defs>\n  <clipPath id=\"p33831e68e2\">\n   <rect height=\"543.6\" width=\"558\" x=\"48.982812\" y=\"7.2\"/>\n  </clipPath>\n </defs>\n</svg>\n",
      "image/png": "[encoded data removed]"
     },
     "metadata": {
      "needs_background": "light"
     }
    }
   ],
   "source": [
    "df_subset['tsne-2d-one'] = tsne_results[:,0]\n",
    "df_subset['tsne-2d-two'] = tsne_results[:,1]\n",
    "plt.figure(figsize=(10,10))\n",
    "sns.scatterplot(\n",
    "    x=\"tsne-2d-one\", y=\"tsne-2d-two\",\n",
    "   # hue=\"y\",\n",
    "    palette=sns.color_palette(\"hls\", 10),\n",
    "    data=df_subset,\n",
    "    legend=\"full\",\n",
    "    alpha=0.3\n",
    ")"
   ]
  },
  {
   "cell_type": "code",
   "execution_count": 57,
   "metadata": {},
   "outputs": [
    {
     "output_type": "execute_result",
     "data": {
      "text/plain": "   tsne-2d-one  tsne-2d-two\n0    43.808395   112.675705\n1   -76.258003    70.273918\n2    65.665932   -15.857519\n3   -65.369293    -7.608608\n4     5.282924    41.108131\n5    99.179970    56.732212\n6    -2.089882   -55.960964\n7   -31.140730   136.419708",
      "text/html": "<div>\n<style scoped>\n    .dataframe tbody tr th:only-of-type {\n        vertical-align: middle;\n    }\n\n    .dataframe tbody tr th {\n        vertical-align: top;\n    }\n\n    .dataframe thead th {\n        text-align: right;\n    }\n</style>\n<table border=\"1\" class=\"dataframe\">\n  <thead>\n    <tr style=\"text-align: right;\">\n      <th></th>\n      <th>tsne-2d-one</th>\n      <th>tsne-2d-two</th>\n    </tr>\n  </thead>\n  <tbody>\n    <tr>\n      <td>0</td>\n      <td>43.808395</td>\n      <td>112.675705</td>\n    </tr>\n    <tr>\n      <td>1</td>\n      <td>-76.258003</td>\n      <td>70.273918</td>\n    </tr>\n    <tr>\n      <td>2</td>\n      <td>65.665932</td>\n      <td>-15.857519</td>\n    </tr>\n    <tr>\n      <td>3</td>\n      <td>-65.369293</td>\n      <td>-7.608608</td>\n    </tr>\n    <tr>\n      <td>4</td>\n      <td>5.282924</td>\n      <td>41.108131</td>\n    </tr>\n    <tr>\n      <td>5</td>\n      <td>99.179970</td>\n      <td>56.732212</td>\n    </tr>\n    <tr>\n      <td>6</td>\n      <td>-2.089882</td>\n      <td>-55.960964</td>\n    </tr>\n    <tr>\n      <td>7</td>\n      <td>-31.140730</td>\n      <td>136.419708</td>\n    </tr>\n  </tbody>\n</table>\n</div>"
     },
     "metadata": {},
     "execution_count": 57
    }
   ],
   "source": [
    "df_subset"
   ]
  },
  {
   "cell_type": "code",
   "execution_count": 33,
   "metadata": {},
   "outputs": [
    {
     "output_type": "error",
     "ename": "NameError",
     "evalue": "name 'train' is not defined",
     "traceback": [
      "\u001b[0;31m---------------------------------------------------------------------------\u001b[0m",
      "\u001b[0;31mNameError\u001b[0m                                 Traceback (most recent call last)",
      "\u001b[0;32m<ipython-input-33-e174da573e99>\u001b[0m in \u001b[0;36m<module>\u001b[0;34m\u001b[0m\n\u001b[1;32m      1\u001b[0m \u001b[0;32mfor\u001b[0m \u001b[0mepoch\u001b[0m \u001b[0;32min\u001b[0m \u001b[0mrange\u001b[0m\u001b[0;34m(\u001b[0m\u001b[0mepochs\u001b[0m\u001b[0;34m)\u001b[0m\u001b[0;34m:\u001b[0m\u001b[0;34m\u001b[0m\u001b[0;34m\u001b[0m\u001b[0m\n\u001b[0;32m----> 2\u001b[0;31m         \u001b[0mtrain\u001b[0m\u001b[0;34m(\u001b[0m\u001b[0mepoch\u001b[0m\u001b[0;34m)\u001b[0m\u001b[0;34m\u001b[0m\u001b[0;34m\u001b[0m\u001b[0m\n\u001b[0m\u001b[1;32m      3\u001b[0m         \u001b[0mtest\u001b[0m\u001b[0;34m(\u001b[0m\u001b[0mepoch\u001b[0m\u001b[0;34m)\u001b[0m\u001b[0;34m\u001b[0m\u001b[0;34m\u001b[0m\u001b[0m\n\u001b[1;32m      4\u001b[0m         \u001b[0;32mwith\u001b[0m \u001b[0mtorch\u001b[0m\u001b[0;34m.\u001b[0m\u001b[0mno_grad\u001b[0m\u001b[0;34m(\u001b[0m\u001b[0;34m)\u001b[0m\u001b[0;34m:\u001b[0m\u001b[0;34m\u001b[0m\u001b[0;34m\u001b[0m\u001b[0m\n\u001b[1;32m      5\u001b[0m             \u001b[0msample\u001b[0m \u001b[0;34m=\u001b[0m \u001b[0mtorch\u001b[0m\u001b[0;34m.\u001b[0m\u001b[0mrandn\u001b[0m\u001b[0;34m(\u001b[0m\u001b[0;36m64\u001b[0m\u001b[0;34m,\u001b[0m \u001b[0;36m20\u001b[0m\u001b[0;34m)\u001b[0m\u001b[0;34m.\u001b[0m\u001b[0mto\u001b[0m\u001b[0;34m(\u001b[0m\u001b[0mdevice\u001b[0m\u001b[0;34m)\u001b[0m\u001b[0;34m\u001b[0m\u001b[0;34m\u001b[0m\u001b[0m\n",
      "\u001b[0;31mNameError\u001b[0m: name 'train' is not defined"
     ]
    }
   ],
   "source": [
    "for epoch in range(epochs):\n",
    "        train(epoch)\n",
    "        test(epoch)\n",
    "        with torch.no_grad():\n",
    "            sample = torch.randn(64, 20).to(device)\n",
    "            sample = model.decode(sample).cpu()"
   ]
  },
  {
   "cell_type": "code",
   "execution_count": null,
   "metadata": {},
   "outputs": [],
   "source": []
  }
 ],
 "metadata": {
  "language_info": {
   "codemirror_mode": {
    "name": "ipython",
    "version": 3
   },
   "file_extension": ".py",
   "mimetype": "text/x-python",
   "name": "python",
   "nbconvert_exporter": "python",
   "pygments_lexer": "ipython3",
   "version": "3.6.8-final"
  },
  "orig_nbformat": 2,
  "kernelspec": {
   "name": "python36864bitnlpcondaedb4459334ba4ee28e4936a12647cfbd",
   "display_name": "Python 3.6.8 64-bit ('nlp': conda)"
  }
 },
 "nbformat": 4,
 "nbformat_minor": 2
}