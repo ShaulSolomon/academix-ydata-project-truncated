{
 "cells": [
  {
   "cell_type": "markdown",
   "metadata": {},
   "source": [
    "# VAE"
   ]
  },
  {
   "cell_type": "code",
   "execution_count": 6,
   "metadata": {
    "collapsed": true,
    "jupyter": {
     "outputs_hidden": true
    }
   },
   "outputs": [
    {
     "name": "stdout",
     "output_type": "stream",
     "text": [
      "Collecting elasticsearch\n",
      "  Downloading elasticsearch-7.8.0-py2.py3-none-any.whl (188 kB)\n",
      "\u001b[K     |████████████████████████████████| 188 kB 22.9 MB/s eta 0:00:01\n",
      "\u001b[?25hRequirement already satisfied: certifi in /home/ubuntu/anaconda3/envs/pytorch_latest_p36/lib/python3.6/site-packages (from elasticsearch) (2020.4.5.2)\n",
      "Requirement already satisfied: urllib3>=1.21.1 in /home/ubuntu/anaconda3/envs/pytorch_latest_p36/lib/python3.6/site-packages (from elasticsearch) (1.25.8)\n",
      "Installing collected packages: elasticsearch\n",
      "Successfully installed elasticsearch-7.8.0\n",
      "Collecting elasticsearch_dsl\n",
      "  Downloading elasticsearch_dsl-7.2.1-py2.py3-none-any.whl (53 kB)\n",
      "\u001b[K     |████████████████████████████████| 53 kB 41 kB/s s eta 0:00:01\n",
      "\u001b[?25hRequirement already satisfied: python-dateutil in /home/ubuntu/anaconda3/envs/pytorch_latest_p36/lib/python3.6/site-packages (from elasticsearch_dsl) (2.8.1)\n",
      "Requirement already satisfied: elasticsearch<8.0.0,>=7.0.0 in /home/ubuntu/anaconda3/envs/pytorch_latest_p36/lib/python3.6/site-packages (from elasticsearch_dsl) (7.8.0)\n",
      "Requirement already satisfied: six in /home/ubuntu/anaconda3/envs/pytorch_latest_p36/lib/python3.6/site-packages (from elasticsearch_dsl) (1.14.0)\n",
      "Requirement already satisfied: urllib3>=1.21.1 in /home/ubuntu/anaconda3/envs/pytorch_latest_p36/lib/python3.6/site-packages (from elasticsearch<8.0.0,>=7.0.0->elasticsearch_dsl) (1.25.8)\n",
      "Requirement already satisfied: certifi in /home/ubuntu/anaconda3/envs/pytorch_latest_p36/lib/python3.6/site-packages (from elasticsearch<8.0.0,>=7.0.0->elasticsearch_dsl) (2020.4.5.2)\n",
      "Installing collected packages: elasticsearch-dsl\n",
      "Successfully installed elasticsearch-dsl-7.2.1\n",
      "Collecting pymed\n",
      "  Downloading pymed-0.8.9-py3-none-any.whl (9.6 kB)\n",
      "Requirement already satisfied: requests>=2.20.0 in /home/ubuntu/anaconda3/envs/pytorch_latest_p36/lib/python3.6/site-packages (from pymed) (2.23.0)\n",
      "Requirement already satisfied: certifi>=2017.4.17 in /home/ubuntu/anaconda3/envs/pytorch_latest_p36/lib/python3.6/site-packages (from requests>=2.20.0->pymed) (2020.4.5.2)\n",
      "Requirement already satisfied: chardet<4,>=3.0.2 in /home/ubuntu/anaconda3/envs/pytorch_latest_p36/lib/python3.6/site-packages (from requests>=2.20.0->pymed) (3.0.4)\n",
      "Requirement already satisfied: idna<3,>=2.5 in /home/ubuntu/anaconda3/envs/pytorch_latest_p36/lib/python3.6/site-packages (from requests>=2.20.0->pymed) (2.9)\n",
      "Requirement already satisfied: urllib3!=1.25.0,!=1.25.1,<1.26,>=1.21.1 in /home/ubuntu/anaconda3/envs/pytorch_latest_p36/lib/python3.6/site-packages (from requests>=2.20.0->pymed) (1.25.8)\n",
      "Installing collected packages: pymed\n",
      "Successfully installed pymed-0.8.9\n",
      "Collecting gensim\n",
      "  Downloading gensim-3.8.3-cp36-cp36m-manylinux1_x86_64.whl (24.2 MB)\n",
      "\u001b[K     |████████████████████████████████| 24.2 MB 19.8 MB/s eta 0:00:01\n",
      "\u001b[?25hRequirement already satisfied: numpy>=1.11.3 in /home/ubuntu/anaconda3/envs/pytorch_latest_p36/lib/python3.6/site-packages (from gensim) (1.18.1)\n",
      "Requirement already satisfied: scipy>=0.18.1 in /home/ubuntu/anaconda3/envs/pytorch_latest_p36/lib/python3.6/site-packages (from gensim) (1.4.1)\n",
      "Requirement already satisfied: numpy>=1.11.3 in /home/ubuntu/anaconda3/envs/pytorch_latest_p36/lib/python3.6/site-packages (from gensim) (1.18.1)\n",
      "Requirement already satisfied: six>=1.5.0 in /home/ubuntu/anaconda3/envs/pytorch_latest_p36/lib/python3.6/site-packages (from gensim) (1.14.0)\n",
      "Collecting smart-open>=1.8.1\n",
      "  Downloading smart_open-2.1.0.tar.gz (116 kB)\n",
      "\u001b[K     |████████████████████████████████| 116 kB 104.5 MB/s eta 0:00:01\n",
      "\u001b[?25hRequirement already satisfied: requests in /home/ubuntu/anaconda3/envs/pytorch_latest_p36/lib/python3.6/site-packages (from smart-open>=1.8.1->gensim) (2.23.0)\n",
      "Requirement already satisfied: boto in /home/ubuntu/anaconda3/envs/pytorch_latest_p36/lib/python3.6/site-packages (from smart-open>=1.8.1->gensim) (2.49.0)\n",
      "Requirement already satisfied: boto3 in /home/ubuntu/anaconda3/envs/pytorch_latest_p36/lib/python3.6/site-packages (from smart-open>=1.8.1->gensim) (1.14.5)\n",
      "Requirement already satisfied: chardet<4,>=3.0.2 in /home/ubuntu/anaconda3/envs/pytorch_latest_p36/lib/python3.6/site-packages (from requests->smart-open>=1.8.1->gensim) (3.0.4)\n",
      "Requirement already satisfied: urllib3!=1.25.0,!=1.25.1,<1.26,>=1.21.1 in /home/ubuntu/anaconda3/envs/pytorch_latest_p36/lib/python3.6/site-packages (from requests->smart-open>=1.8.1->gensim) (1.25.8)\n",
      "Requirement already satisfied: certifi>=2017.4.17 in /home/ubuntu/anaconda3/envs/pytorch_latest_p36/lib/python3.6/site-packages (from requests->smart-open>=1.8.1->gensim) (2020.4.5.2)\n",
      "Requirement already satisfied: idna<3,>=2.5 in /home/ubuntu/anaconda3/envs/pytorch_latest_p36/lib/python3.6/site-packages (from requests->smart-open>=1.8.1->gensim) (2.9)\n",
      "Requirement already satisfied: botocore<1.18.0,>=1.17.5 in /home/ubuntu/anaconda3/envs/pytorch_latest_p36/lib/python3.6/site-packages (from boto3->smart-open>=1.8.1->gensim) (1.17.5)\n",
      "Requirement already satisfied: jmespath<1.0.0,>=0.7.1 in /home/ubuntu/anaconda3/envs/pytorch_latest_p36/lib/python3.6/site-packages (from boto3->smart-open>=1.8.1->gensim) (0.9.4)\n",
      "Requirement already satisfied: s3transfer<0.4.0,>=0.3.0 in /home/ubuntu/anaconda3/envs/pytorch_latest_p36/lib/python3.6/site-packages (from boto3->smart-open>=1.8.1->gensim) (0.3.3)\n",
      "Requirement already satisfied: botocore<1.18.0,>=1.17.5 in /home/ubuntu/anaconda3/envs/pytorch_latest_p36/lib/python3.6/site-packages (from boto3->smart-open>=1.8.1->gensim) (1.17.5)\n",
      "Requirement already satisfied: docutils<0.16,>=0.10 in /home/ubuntu/anaconda3/envs/pytorch_latest_p36/lib/python3.6/site-packages (from botocore<1.18.0,>=1.17.5->boto3->smart-open>=1.8.1->gensim) (0.15.2)\n",
      "Requirement already satisfied: python-dateutil<3.0.0,>=2.1 in /home/ubuntu/anaconda3/envs/pytorch_latest_p36/lib/python3.6/site-packages (from botocore<1.18.0,>=1.17.5->boto3->smart-open>=1.8.1->gensim) (2.8.1)\n",
      "Building wheels for collected packages: smart-open\n",
      "  Building wheel for smart-open (setup.py) ... \u001b[?25ldone\n",
      "\u001b[?25h  Created wheel for smart-open: filename=smart_open-2.1.0-py3-none-any.whl size=110317 sha256=cff5fc00ff3b7a64ae21e0866d53a9482e7dd51763a89d2c01b25f95d8750246\n",
      "  Stored in directory: /home/ubuntu/.cache/pip/wheels/a4/9b/d5/85705a7ab783cd6f7bd718f01d3b1396272f30044e3c36401a\n",
      "Successfully built smart-open\n",
      "Installing collected packages: smart-open, gensim\n",
      "Successfully installed gensim-3.8.3 smart-open-2.1.0\n",
      "Collecting torchsummary\n",
      "  Using cached torchsummary-1.5.1-py3-none-any.whl (2.8 kB)\n",
      "Installing collected packages: torchsummary\n",
      "Successfully installed torchsummary-1.5.1\n"
     ]
    }
   ],
   "source": [
    "USE_SERVER = True\n",
    "if USE_SERVER:\n",
    "    !pip install elasticsearch\n",
    "    !pip install elasticsearch_dsl\n",
    "    !pip install pymed\n",
    "    !pip install gensim\n",
    "    !pip install torchsummary"
   ]
  },
  {
   "cell_type": "code",
   "execution_count": 36,
   "metadata": {
    "tags": []
   },
   "outputs": [
    {
     "name": "stdout",
     "output_type": "stream",
     "text": [
      "The autoreload extension is already loaded. To reload it, use:\n",
      "  %reload_ext autoreload\n"
     ]
    }
   ],
   "source": [
    "from __future__ import print_function\n",
    "import argparse\n",
    "import numpy as np\n",
    "import torch\n",
    "import torch.utils.data\n",
    "from torch import nn, optim\n",
    "from torch.nn import functional as F\n",
    "from torchvision import datasets, transforms\n",
    "from torchvision.utils import save_image\n",
    "import pandas as pd\n",
    "import utils\n",
    "import os\n",
    "from utils import PROJECT_ROOT, DATA_PATH\n",
    "import yuval_module.paper_source as PaperSource\n",
    "\n",
    "from sklearn.feature_extraction.text import TfidfTransformer\n",
    "from sklearn.feature_extraction.text import CountVectorizer\n",
    "from sklearn.pipeline import Pipeline\n",
    "\n",
    "import py_4.get_mesh_vec as get_mesh_vec\n",
    "import py_3.sim_matrix_3 as sim_matrix_3\n",
    "import py_4.get_all_features as get_all_features \n",
    "\n",
    "from torch.utils.data import Dataset, DataLoader\n",
    "import pickle\n",
    "\n",
    "from sklearn.manifold import TSNE\n",
    "%matplotlib inline\n",
    "import matplotlib.pyplot as plt\n",
    "from mpl_toolkits.mplot3d import Axes3D\n",
    "import seaborn as sns\n",
    "import time\n",
    "\n",
    "from sklearn.preprocessing import StandardScaler\n",
    "\n",
    "%load_ext autoreload\n",
    "%autoreload 2"
   ]
  },
  {
   "cell_type": "code",
   "execution_count": 3,
   "metadata": {},
   "outputs": [],
   "source": [
    "mesh_embed=get_mesh_vec.MeshEmbeddings(PROJECT_ROOT + \"data/mesh_data/MeSHFeatureGeneratedByDeepWalk.csv\")"
   ]
  },
  {
   "cell_type": "code",
   "execution_count": 4,
   "metadata": {
    "tags": []
   },
   "outputs": [
    {
     "name": "stdout",
     "output_type": "stream",
     "text": [
      "PULLING FROM S3\n",
      "FILE PULLED\n"
     ]
    }
   ],
   "source": [
    "FILE = \"enriched_labeled_dataset_large\" \n",
    "if os.path.exists(PROJECT_ROOT + DATA_PATH + FILE):\n",
    "    print(\"READING FROM LOCAL\")\n",
    "    if FILE.split(\".\")[1] == \"json\":\n",
    "        df = pd.read_json(PROJECT_ROOT + DATA_PATH + FILE)\n",
    "    else:\n",
    "        df = pd.read_csv(PROJECT_ROOT + DATA_PATH + FILE)\n",
    "    #ps = PaperSource()\n",
    "else:\n",
    "    print(\"PULLING FROM S3\")\n",
    "    ps = sim_matrix_3.load_dataset(FILE)\n",
    "    df = ps.get_dataset()\n",
    "\n",
    "df.drop(columns=[\"last_author_country\"],inplace=True)\n",
    "df.rename(columns={'ORG_STATE':'last_author_country'},inplace=True)\n",
    "\n",
    "print(\"FILE PULLED\")"
   ]
  },
  {
   "cell_type": "markdown",
   "metadata": {},
   "source": [
    "### Run VAE "
   ]
  },
  {
   "cell_type": "code",
   "execution_count": 5,
   "metadata": {},
   "outputs": [
    {
     "name": "stdout",
     "output_type": "stream",
     "text": [
      "/home/ubuntu/AYP\n"
     ]
    }
   ],
   "source": [
    "cd .."
   ]
  },
  {
   "cell_type": "code",
   "execution_count": 6,
   "metadata": {},
   "outputs": [],
   "source": [
    "auth_core = pd.read_csv(\"data/train_set_author_names.csv\")[\"0\"]\n",
    "auth_eps = pd.read_csv(\"data/val_set_author_names.csv\")[\"0\"]\n",
    "auth_usecase = pd.read_csv(\"data/test_set_author_names.csv\")[\"0\"]"
   ]
  },
  {
   "cell_type": "code",
   "execution_count": 7,
   "metadata": {},
   "outputs": [],
   "source": [
    "selection_train = list(set(df['last_author_name']) - set(auth_usecase))[:10000]\n",
    "selection_val = list(set(df['last_author_name']) - set(auth_usecase))[10000:12000]\n",
    "selection_test = list(set(df['last_author_name']) - set(auth_usecase))[12000:14000]"
   ]
  },
  {
   "cell_type": "code",
   "execution_count": 73,
   "metadata": {},
   "outputs": [
    {
     "data": {
      "text/plain": [
       "device(type='cuda')"
      ]
     },
     "execution_count": 73,
     "metadata": {},
     "output_type": "execute_result"
    }
   ],
   "source": [
    "#settings\n",
    "BATCH_SIZE= 128\n",
    "EPOCHS = 50\n",
    "cuda = torch.cuda.is_available()\n",
    "seed = 42\n",
    "log_interval = 10\n",
    "num_workers = 2\n",
    "lr = 1e-3\n",
    "h_dim = 128\n",
    "ls_dim = 8\n",
    "\n",
    "#check for cuda\n",
    "device = torch.device('cuda' if cuda else 'cpu')\n",
    "\n",
    "torch.manual_seed(seed)\n",
    "kwargs = {'num_workers': 1, 'pin_memory': True} if cuda else {}\n",
    "\n",
    "device"
   ]
  },
  {
   "cell_type": "code",
   "execution_count": 281,
   "metadata": {},
   "outputs": [
    {
     "data": {
      "text/plain": [
       "device(type='cuda')"
      ]
     },
     "execution_count": 281,
     "metadata": {},
     "output_type": "execute_result"
    }
   ],
   "source": [
    "#settings\n",
    "BATCH_SIZE= 128\n",
    "EPOCHS = 50\n",
    "cuda = torch.cuda.is_available()\n",
    "seed = 42\n",
    "log_interval = 10\n",
    "num_workers = 2\n",
    "lr = 1e-3\n",
    "h_dim = 128\n",
    "ls_dim = 8\n",
    "\n",
    "#check for cuda\n",
    "device = torch.device('cuda' if cuda else 'cpu')\n",
    "\n",
    "torch.manual_seed(seed)\n",
    "kwargs = {'num_workers': 1, 'pin_memory': True} if cuda else {}\n",
    "\n",
    "device"
   ]
  },
  {
   "cell_type": "code",
   "execution_count": 282,
   "metadata": {},
   "outputs": [],
   "source": [
    "class ToyDS(Dataset):\n",
    "    def __init__(self,df,selection,vae_features = None):\n",
    "        super().__init__()\n",
    "        self.df = df[df['last_author_name'].isin(selection)]\n",
    "        if vae_features is None:\n",
    "            print(\"Creating new VAE FEATURES\")\n",
    "            self.vae_features = get_all_features.VAE_Features(self.df)\n",
    "        else:\n",
    "            print(\"Using pre-defined VAE FEATURES\")\n",
    "            self.vae_features = vae_features\n",
    "        self.features = self.vae_features.get_all_features(self.df)\n",
    "        print(list(self.vae_features.mesh_features.mesh_missing))\n",
    "        self.input_dim = self.vae_features.input_dims\n",
    "            \n",
    "    def __len__(self):\n",
    "        return self.df.shape[0]\n",
    "    \n",
    "    def __getitem__(self, idx):\n",
    "        features = self.features[idx]\n",
    "        return features\n",
    "    \n",
    "    def __getvae__(self):\n",
    "        return self.vae_features"
   ]
  },
  {
   "cell_type": "code",
   "execution_count": 283,
   "metadata": {},
   "outputs": [
    {
     "name": "stdout",
     "output_type": "stream",
     "text": [
      "/home/ubuntu/AYP/data/mesh_data/ownmesh2vec.model\n",
      "'/home/ubuntu/AYP/code/models/names_epochs_2_vectorSize_64_window_2.model' already exits. Using existing model to re-generate results.\n"
     ]
    }
   ],
   "source": [
    "all_vae = get_all_features.VAE_Features(df_nonan, scaling_flag = False)"
   ]
  },
  {
   "cell_type": "code",
   "execution_count": 284,
   "metadata": {
    "tags": [
     "outputPrepend"
    ]
   },
   "outputs": [
    {
     "name": "stdout",
     "output_type": "stream",
     "text": [
      "Using pre-defined VAE FEATURES\n"
     ]
    },
    {
     "name": "stderr",
     "output_type": "stream",
     "text": [
      "/home/ubuntu/AYP/code/py_4/get_all_features.py:83: SettingWithCopyWarning: \n",
      "A value is trying to be set on a copy of a slice from a DataFrame.\n",
      "Try using .loc[row_indexer,col_indexer] = value instead\n",
      "\n",
      "See the caveats in the documentation: https://pandas.pydata.org/pandas-docs/stable/user_guide/indexing.html#returning-a-view-versus-a-copy\n",
      "  '''\n"
     ]
    },
    {
     "name": "stdout",
     "output_type": "stream",
     "text": [
      "['MESH NAME NOT FOUND: Sphingosine-1-Phosphate Receptors', 'MESH NAME NOT FOUND: Male', 'MESH NAME NOT FOUND: Phosphoinositide-3 Kinase Inhibitors', 'MESH NAME NOT FOUND: Protein-Arginine Deiminase Type 4', 'MESH NAME NOT FOUND: Indigenous Peoples', 'MESH NAME NOT FOUND: CSK Tyrosine-Protein Kinase', 'MESH NAME NOT FOUND: Conditioning, Psychological', \"MESH NAME NOT FOUND: 8-Hydroxy-2'-Deoxyguanosine\", 'MESH NAME NOT FOUND: Copper-Transporting ATPases', 'MESH NAME NOT FOUND: Advertising', 'MESH NAME NOT FOUND: Mitophagy', 'MESH NAME NOT FOUND: RNA, Circular', 'MESH NAME NOT FOUND: Formins', 'MESH NAME NOT FOUND: Outcome Assessment, Health Care', 'MESH NAME NOT FOUND: Chlorocebus aethiops', 'MESH NAME NOT FOUND: Discrimination, Psychological', 'MESH NAME NOT FOUND: Pyruvate Dehydrogenase (Acetyl-Transferring) Kinase', 'MESH NAME NOT FOUND: Female', \"MESH NAME NOT FOUND: Practice Patterns, Nurses'\", 'MESH NAME NOT FOUND: Phospholipid Hydroperoxide Glutathione Peroxidase', 'MESH NAME NOT FOUND: Infections', 'MESH NAME NOT FOUND: Inhibition, Psychological', 'MESH NAME NOT FOUND: Centers for Medicare and Medicaid Services, U.S.', \"MESH NAME NOT FOUND: Practice Patterns, Physicians'\", 'MESH NAME NOT FOUND: Lactate Dehydrogenase 5', 'MESH NAME NOT FOUND: Neural Networks, Computer', 'MESH NAME NOT FOUND: Psychological Distress', 'MESH NAME NOT FOUND: Reinforcement, Psychology', 'MESH NAME NOT FOUND: Recognition, Psychology', 'MESH NAME NOT FOUND: Stargardt Disease', 'MESH NAME NOT FOUND: Claustrum', 'MESH NAME NOT FOUND: Early Intervention, Educational', 'MESH NAME NOT FOUND: Broadly Neutralizing Antibodies', 'MESH NAME NOT FOUND: Retention, Psychology', 'MESH NAME NOT FOUND: Outcome and Process Assessment, Health Care', 'MESH NAME NOT FOUND: Gingipain Cysteine Endopeptidases']\n"
     ]
    }
   ],
   "source": [
    "train_set = ToyDS(df_nonan, selection_train, all_vae)\n",
    "train_loader=DataLoader(dataset= train_set, batch_size = BATCH_SIZE, shuffle = True, num_workers = num_workers)"
   ]
  },
  {
   "cell_type": "code",
   "execution_count": 306,
   "metadata": {},
   "outputs": [
    {
     "name": "stdout",
     "output_type": "stream",
     "text": [
      "Using pre-defined VAE FEATURES\n"
     ]
    },
    {
     "name": "stderr",
     "output_type": "stream",
     "text": [
      "/home/ubuntu/AYP/code/py_4/get_all_features.py:95: SettingWithCopyWarning: \n",
      "A value is trying to be set on a copy of a slice from a DataFrame.\n",
      "Try using .loc[row_indexer,col_indexer] = value instead\n",
      "\n",
      "See the caveats in the documentation: https://pandas.pydata.org/pandas-docs/stable/user_guide/indexing.html#returning-a-view-versus-a-copy\n",
      "  #         name_freq = self.get_freq_char(df.co_authors)\n"
     ]
    },
    {
     "name": "stdout",
     "output_type": "stream",
     "text": [
      "['MESH NAME NOT FOUND: Sphingosine-1-Phosphate Receptors', 'MESH NAME NOT FOUND: Psychology, Positive', 'MESH NAME NOT FOUND: Male', 'MESH NAME NOT FOUND: Phosphoinositide-3 Kinase Inhibitors', 'MESH NAME NOT FOUND: Illicit Drugs', 'MESH NAME NOT FOUND: Protein-Arginine Deiminase Type 4', 'MESH NAME NOT FOUND: Indigenous Peoples', 'MESH NAME NOT FOUND: CSK Tyrosine-Protein Kinase', 'MESH NAME NOT FOUND: Stimuli Responsive Polymers', 'MESH NAME NOT FOUND: Conditioning, Psychological', \"MESH NAME NOT FOUND: 8-Hydroxy-2'-Deoxyguanosine\", 'MESH NAME NOT FOUND: Copper-Transporting ATPases', 'MESH NAME NOT FOUND: Advertising', 'MESH NAME NOT FOUND: Mitophagy', 'MESH NAME NOT FOUND: RNA, Circular', 'MESH NAME NOT FOUND: Formins', 'MESH NAME NOT FOUND: Outcome Assessment, Health Care', 'MESH NAME NOT FOUND: Chlorocebus aethiops', 'MESH NAME NOT FOUND: Discrimination, Psychological', 'MESH NAME NOT FOUND: Pyruvate Dehydrogenase (Acetyl-Transferring) Kinase', 'MESH NAME NOT FOUND: Female', \"MESH NAME NOT FOUND: Practice Patterns, Nurses'\", 'MESH NAME NOT FOUND: Phospholipid Hydroperoxide Glutathione Peroxidase', 'MESH NAME NOT FOUND: Infections', 'MESH NAME NOT FOUND: Inhibition, Psychological', 'MESH NAME NOT FOUND: Centers for Medicare and Medicaid Services, U.S.', \"MESH NAME NOT FOUND: Practice Patterns, Physicians'\", 'MESH NAME NOT FOUND: Lactate Dehydrogenase 5', 'MESH NAME NOT FOUND: Neural Networks, Computer', 'MESH NAME NOT FOUND: Psychological Distress', 'MESH NAME NOT FOUND: Reinforcement, Psychology', 'MESH NAME NOT FOUND: Recognition, Psychology', 'MESH NAME NOT FOUND: Stargardt Disease', 'MESH NAME NOT FOUND: Claustrum', 'MESH NAME NOT FOUND: Early Intervention, Educational', 'MESH NAME NOT FOUND: Broadly Neutralizing Antibodies', 'MESH NAME NOT FOUND: Retention, Psychology', 'MESH NAME NOT FOUND: Outcome and Process Assessment, Health Care', 'MESH NAME NOT FOUND: Gingipain Cysteine Endopeptidases']\n"
     ]
    }
   ],
   "source": [
    "val_set = ToyDS(df_nonan, selection_val, all_vae)\n",
    "val_loader=DataLoader(dataset= val_set, batch_size = BATCH_SIZE, shuffle = True, num_workers = num_workers)"
   ]
  },
  {
   "cell_type": "code",
   "execution_count": 307,
   "metadata": {},
   "outputs": [
    {
     "name": "stdout",
     "output_type": "stream",
     "text": [
      "The number of features in the train:  1175\n",
      "The number of train data in the train:  48872\n"
     ]
    }
   ],
   "source": [
    "print(\"The number of features in the train: \",train_set.input_dim)\n",
    "print(\"The number of train data in the train: \",train_set.__len__())"
   ]
  },
  {
   "cell_type": "code",
   "execution_count": 308,
   "metadata": {},
   "outputs": [
    {
     "name": "stdout",
     "output_type": "stream",
     "text": [
      "The number of features in the val:  1175\n",
      "The number of train data in the val:  9714\n"
     ]
    }
   ],
   "source": [
    "train_set = ToyDS(df_nonan, selection_train, all_vae)\n",
    "train_loader=DataLoader(dataset= train_set, batch_size = BATCH_SIZE, shuffle = True, num_workers = num_workers)"
    "print(\"The number of features in the val: \",val_set.input_dim)\n",
    "print(\"The number of train data in the val: \",val_set.__len__())"
   ]
  },
  {
   "cell_type": "code",
   "execution_count": 309,
   "metadata": {},
   "outputs": [],
   "source": [
    "class VAE_PCA(nn.Module):\n",
    "    '''\n",
    "    VAE created like an PCA - no activations,\n",
    "    '''\n",
    "    def __init__(self, hidden_dim, latent_dim, input_dim = train_set.input_dim):\n",
    "        super(VAE_PCA, self).__init__()\n",
    "        self.input_dim = input_dim\n",
    "        self.hd = hidden_dim\n",
    "        self.latent_dim = latent_dim\n",
    "        \n",
    "        self.fc1 = nn.Linear(self.input_dim, self.hd)\n",
    "        self.fc21 = nn.Linear(self.hd, self.latent_dim)\n",
    "        self.fc22 = nn.Linear(self.hd, self.latent_dim)\n",
    "        self.fc3 = nn.Linear(self.latent_dim, self.hd)\n",
    "        self.fc4 = nn.Linear(self.hd,self.input_dim)\n",
    "        \n",
    "        self.dropout = torch.nn.Dropout(p=0.4) \n",
    "        self.bn1 = nn.BatchNorm1d(self.hd)\n",
    "        self.bn5 = nn.BatchNorm1d(self.hd)\n",
    "\n",
    "    def encode(self, x):\n",
    "        h = self.fc1(x)\n",
    "        return self.fc21(h), self.fc22(h)\n",
    "\n",
    "    def reparameterize(self, mu, logvar):\n",
    "        std = torch.exp(0.5*logvar)\n",
    "        eps = torch.randn_like(std)\n",
    "        return eps.mul(std).add_(mu) # return z sample\n",
    "        \n",
    "\n",
    "    def decode(self, z):\n",
    "        h = self.fc3(z)\n",
    "        return self.fc4(h)\n",
    "\n",
    "    def forward(self, x):\n",
    "        mu, logvar = self.encode(x.view(-1, self.input_dim))\n",
    "        z = self.reparameterize(mu, logvar)\n",
    "        return self.decode(z), mu, logvar"
   ]
  },
  {
   "cell_type": "code",
   "execution_count": 310,
   "metadata": {},
   "outputs": [],
   "source": [
    "class VAE_A(nn.Module):\n",
    "    def __init__(self, hidden_dim, latent_dim, input_dim = train_set.input_dim):\n",
    "        super(VAE_A, self).__init__()\n",
    "        self.input_dim = input_dim\n",
    "        self.hd = hidden_dim\n",
    "        self.latent_dim = latent_dim\n",
    "         \n",
    "        self.fc1 = nn.Linear(self.input_dim, self.hd)\n",
    "        self.fc21 = nn.Linear(self.hd, self.latent_dim)\n",
    "        self.fc22 = nn.Linear(self.hd, self.latent_dim)\n",
    "        self.fc3 = nn.Linear(self.latent_dim, self.hd)\n",
    "        self.fc4 = nn.Linear(self.hd,self.input_dim)\n",
    "        \n",
    "#         self.dropout = torch.nn.Dropout(p=0.4) \n",
    "#         self.bn1 = nn.BatchNorm1d(self.hd)\n",
    "#         self.bn5 = nn.BatchNorm1d(self.hd)\n",
    "\n",
    "    def encode(self, x):\n",
    "        h = F.relu(self.fc1(x))\n",
    "        return self.fc21(h), self.fc22(h)\n",
    "\n",
    "    def reparameterize(self, mu, logvar):\n",
    "        std = torch.exp(0.5*logvar)\n",
    "        eps = torch.randn_like(std)\n",
    "        return eps.mul(std).add_(mu) # return z sample\n",
    "        \n",
    "\n",
    "    def decode(self, z):\n",
    "        h = F.relu(self.fc3(z))\n",
    "        return self.fc4(h)\n",
    "\n",
    "    def forward(self, x):\n",
    "        mu, logvar = self.encode(x.view(-1, self.input_dim))\n",
    "        z = self.reparameterize(mu, logvar)\n",
    "        return self.decode(z), mu, logvar"
   ]
  },
  {
   "cell_type": "code",
   "execution_count": 290,
   "metadata": {},
   "outputs": [],
   "source": [
    "class VAE_B(nn.Module):\n",
    "    def __init__(self, hidden_dim1, hidden_dim2, latent_dim, input_dim = train_set.input_dim):\n",
    "        super(VAE_B, self).__init__()\n",
    "        self.input_dim = input_dim\n",
    "        self.hd1 = hidden_dim1\n",
    "        self.hd2 = hidden_dim2\n",
    "        self.latent_dim = latent_dim\n",
    "        \n",
    "        self.fc1 = nn.Linear(self.input_dim, self.hd1)\n",
    "        self.fc2 = nn.Linear(self.hd1, self.hd2)\n",
    "        self.fc31 = nn.Linear(self.hd2, self.latent_dim)\n",
    "        self.fc32 = nn.Linear(self.hd2, self.latent_dim)\n",
    "        self.fc4 = nn.Linear(self.latent_dim, self.hd2)\n",
    "        self.fc5 = nn.Linear(self.hd2, self.hd1)\n",
    "        self.fc6 = nn.Linear(self.hd1,self.input_dim)\n",
    "        \n",
    "        self.dropout = torch.nn.Dropout(p=0.4) \n",
    "        self.bn1 = nn.BatchNorm1d(self.hd1)\n",
    "        self.bn2 = nn.BatchNorm1d(self.hd2)\n",
    "        self.bn4 = nn.BatchNorm1d(self.hd2)\n",
    "        self.bn5 = nn.BatchNorm1d(self.hd1)\n",
    "\n",
    "    def encode(self, x):\n",
    "        h = F.relu(self.fc1(x))\n",
    "        h1 = F.relu(self.fc2(h))\n",
    "        return self.fc31(h1), self.fc32(h1)\n",
    "\n",
    "    def reparameterize(self, mu, logvar):\n",
    "        std = torch.exp(0.5*logvar)\n",
    "        eps = torch.randn_like(std)\n",
    "        return eps.mul(std).add_(mu) # return z sample\n",
    "        \n",
    "\n",
    "    def decode(self, z):\n",
    "        h = F.relu(self.fc4(z))\n",
    "        h1 = F.relu(self.fc5(h))\n",
    "        return self.fc6(h1)\n",
    "\n",
    "    def forward(self, x):\n",
    "        mu, logvar = self.encode(x.view(-1, self.input_dim))\n",
    "        z = self.reparameterize(mu, logvar)\n",
    "        return self.decode(z), mu, logvar"
   ]
  },
  {
   "cell_type": "code",
   "execution_count": 312,
   "metadata": {},
   "outputs": [],
   "source": [
    "def loss_function(recon_x, x, mu, log_var):\n",
    "\n",
    "#     MSE = F.l1_loss(recon_x, x.view(-1, train_set.input_dim))\n",
    "\n",
    "#     # see Appendix B from VAE paper:\n",
    "#     # Kingma and Welling. Auto-Encoding Variational Bayes. ICLR, 2014\n",
    "#     # https://arxiv.org/abs/1312.6114\n",
    "#     # 0.5 * sum(1 + log(sigma^2) - mu^2 - sigma^2)\n",
    "# #     KLD /= BATCH_SIZE * train_set.input_dim\n",
    "    \n",
    "# #     gamma = min(1.0,np.log(epoch+1))\n",
    "#     assert(KLD >= 0)\n",
    "    \n",
    "    \n",
    "#     batch_size = x.size()[0]\n",
    "    MSE =  F.mse_loss(recon_x, x)\n",
    "#     MSE = torch.mean(torch.square(recon_x - x))\n",
    "    KLD = -0.5 * torch.sum(1 + log_var - mu.pow(2) - log_var.exp())\n",
    "#     KLD_element = mu.pow(2).add_(log_var.exp()).mul_(-1).add_(1).add_(log_var)\n",
    "    KLD /= x.shape[0] * train_set.input_dim\n",
    "    if KLD < -1e-3:\n",
    "        print(KLD)\n",
    "    return MSE + KLD "
   ]
  },
  {
   "cell_type": "code",
   "execution_count": 313,
   "metadata": {},
   "outputs": [],
   "source": [
    "model = VAE_A(hidden_dim=h_dim, latent_dim=ls_dim).to(device)\n",
    "optimizer = optim.Adam(model.parameters(), lr=lr)"
   ]
  },
  {
   "cell_type": "code",
   "execution_count": 292,
   "metadata": {},
   "outputs": [],
   "source": [
    "model = VAE_A(hidden_dim=32, latent_dim=8).to(device)\n",
    "optimizer = optim.Adam(model.parameters(), lr=lr)"
   ]
  },
  {
   "cell_type": "code",
   "execution_count": 293,
   "metadata": {},
   "outputs": [],
   "source": [
    "def train_epoch(tr_loader, model, criterion, optimizer, num_epochs):\n",
    "    model.train()\n",
    "    train_log = []\n",
    "    val_log = []\n",
    "    num_batches = np.ceil(len(tr_loader.dataset) / BATCH_SIZE)\n",
    "    for epoch in range(num_epochs):\n",
    "        print(\"Started training epoch no. {}\".format(epoch+1))\n",
    "        train_loss= 0\n",
    "        for batch_idx, data in enumerate(train_loader):\n",
    "            data = data.to(device, dtype=torch.float32)\n",
    "            optimizer.zero_grad()\n",
    "            recon_batch, mu, logvar = model(data)\n",
    "            loss = criterion(recon_batch, data, mu, logvar)\n",
    "            loss.backward()\n",
    "            train_loss += loss.item()\n",
    "            optimizer.step()\n",
    "        print('====> Epoch: {} Average loss: {:.8f}\\n'.format(\n",
    "            epoch+1, train_loss / num_batches))\n",
    "        train_log.append({\n",
    "            'epoch': epoch,\n",
    "            'train_loss': train_loss / num_batches})\n",
    "        val_loss = test_model(val_loader,model)\n",
    "        print('====> Val set loss: {:.8f}'.format(val_loss))\n",
    "        val_log.append(val_loss)\n",
    "    return train_log, val_log"
   ]
  },
  {
   "cell_type": "code",
   "execution_count": 315,
   "metadata": {},
   "outputs": [],
   "source": [
    "def test_model(test_loader, model):\n",
    "    model.eval()\n",
    "    num_batch_test = np.ceil(len(test_loader.dataset) / BATCH_SIZE)\n",
    "    test_loss = 0\n",
    "    with torch.no_grad():\n",
    "        for i, data in enumerate(test_loader):\n",
    "            data = data.to(device, dtype=torch.float32)\n",
    "            recon_batch, mu, logvar = model(data)\n",
    "            test_loss += loss_function(recon_batch, data, mu, logvar).item()\n",
    "    test_loss /= num_batch_test\n",
    "    return test_loss\n"
   ]
  },
  {
   "cell_type": "code",
   "execution_count": 295,
   "metadata": {
    "collapsed": true,
    "jupyter": {
     "outputs_hidden": true
    },
    "tags": []
   },
   "outputs": [
    {
     "name": "stdout",
     "output_type": "stream",
     "text": [
      "Started training epoch no. 1\n",
      "====> Epoch: 1 Average loss: 0.09298501\n",
      "\n",
      "====> Val set loss: 0.04805292\n",
      "Started training epoch no. 2\n",
      "====> Epoch: 2 Average loss: 0.03303171\n",
      "\n",
      "====> Val set loss: 0.02937204\n",
      "Started training epoch no. 3\n",
      "====> Epoch: 3 Average loss: 0.02613373\n",
      "\n",
      "====> Val set loss: 0.02563177\n",
      "Started training epoch no. 4\n",
      "====> Epoch: 4 Average loss: 0.02422224\n",
      "\n",
      "====> Val set loss: 0.02426662\n",
      "Started training epoch no. 5\n",
      "====> Epoch: 5 Average loss: 0.02304862\n",
      "\n",
      "====> Val set loss: 0.02312360\n",
      "Started training epoch no. 6\n",
      "====> Epoch: 6 Average loss: 0.02232485\n",
      "\n",
      "====> Val set loss: 0.02236555\n",
      "Started training epoch no. 7\n",
      "====> Epoch: 7 Average loss: 0.02172083\n",
      "\n",
      "====> Val set loss: 0.02229867\n",
      "Started training epoch no. 8\n",
      "====> Epoch: 8 Average loss: 0.02118754\n",
      "\n",
      "====> Val set loss: 0.02132837\n",
      "Started training epoch no. 9\n",
      "====> Epoch: 9 Average loss: 0.02074025\n",
      "\n",
      "====> Val set loss: 0.02091923\n",
      "Started training epoch no. 10\n",
      "====> Epoch: 10 Average loss: 0.02039171\n",
      "\n",
      "====> Val set loss: 0.02053090\n",
      "Started training epoch no. 11\n",
      "====> Epoch: 11 Average loss: 0.02010653\n",
      "\n",
      "====> Val set loss: 0.02033816\n",
      "Started training epoch no. 12\n",
      "====> Epoch: 12 Average loss: 0.01994030\n",
      "\n",
      "====> Val set loss: 0.02010279\n",
      "Started training epoch no. 13\n",
      "====> Epoch: 13 Average loss: 0.01974544\n",
      "\n",
      "====> Val set loss: 0.01998798\n",
      "Started training epoch no. 14\n",
      "====> Epoch: 14 Average loss: 0.01962585\n",
      "\n",
      "====> Val set loss: 0.01984863\n",
      "Started training epoch no. 15\n",
      "====> Epoch: 15 Average loss: 0.01953513\n",
      "\n",
      "====> Val set loss: 0.01976165\n",
      "Started training epoch no. 16\n",
      "====> Epoch: 16 Average loss: 0.01948095\n",
      "\n",
      "====> Val set loss: 0.01968631\n",
      "Started training epoch no. 17\n",
      "====> Epoch: 17 Average loss: 0.01942364\n",
      "\n",
      "====> Val set loss: 0.01965872\n",
      "Started training epoch no. 18\n",
      "====> Epoch: 18 Average loss: 0.01936101\n",
      "\n",
      "====> Val set loss: 0.01958416\n",
      "Started training epoch no. 19\n",
      "====> Epoch: 19 Average loss: 0.01929865\n",
      "\n",
      "====> Val set loss: 0.01954137\n",
      "Started training epoch no. 20\n",
      "====> Epoch: 20 Average loss: 0.01927058\n",
      "\n",
      "====> Val set loss: 0.01960669\n",
      "Started training epoch no. 21\n",
      "====> Epoch: 21 Average loss: 0.01921599\n",
      "\n",
      "====> Val set loss: 0.01958156\n",
      "Started training epoch no. 22\n",
      "====> Epoch: 22 Average loss: 0.01917121\n",
      "\n",
      "====> Val set loss: 0.01949373\n",
      "Started training epoch no. 23\n",
      "====> Epoch: 23 Average loss: 0.01914855\n",
      "\n",
      "====> Val set loss: 0.01936030\n",
      "Started training epoch no. 24\n",
      "====> Epoch: 24 Average loss: 0.01907605\n",
      "\n",
      "====> Val set loss: 0.01935012\n",
      "Started training epoch no. 25\n",
      "====> Epoch: 25 Average loss: 0.01908342\n",
      "\n",
      "====> Val set loss: 0.01931674\n",
      "Started training epoch no. 26\n",
      "====> Epoch: 26 Average loss: 0.01903176\n",
      "\n",
      "====> Val set loss: 0.01926925\n",
      "Started training epoch no. 27\n",
      "====> Epoch: 27 Average loss: 0.01900405\n",
      "\n",
      "====> Val set loss: 0.01926760\n",
      "Started training epoch no. 28\n",
      "====> Epoch: 28 Average loss: 0.01900928\n",
      "\n",
      "====> Val set loss: 0.01926954\n",
      "Started training epoch no. 29\n",
      "====> Epoch: 29 Average loss: 0.01893410\n",
      "\n",
      "====> Val set loss: 0.01926343\n",
      "Started training epoch no. 30\n",
      "====> Epoch: 30 Average loss: 0.01887915\n",
      "\n",
      "====> Val set loss: 0.01917519\n",
      "Started training epoch no. 31\n",
      "====> Epoch: 31 Average loss: 0.01887238\n",
      "\n",
      "====> Val set loss: 0.01908910\n",
      "Started training epoch no. 32\n",
      "====> Epoch: 32 Average loss: 0.01889254\n",
      "\n",
      "====> Val set loss: 0.01901913\n",
      "Started training epoch no. 33\n",
      "====> Epoch: 33 Average loss: 0.01882437\n",
      "\n",
      "====> Val set loss: 0.01907763\n",
      "Started training epoch no. 34\n",
      "====> Epoch: 34 Average loss: 0.01882575\n",
      "\n",
      "====> Val set loss: 0.01901777\n",
      "Started training epoch no. 35\n",
      "====> Epoch: 35 Average loss: 0.01881705\n",
      "\n",
      "====> Val set loss: 0.01911180\n",
      "Started training epoch no. 36\n",
      "====> Epoch: 36 Average loss: 0.01881056\n",
      "\n",
      "====> Val set loss: 0.01916440\n",
      "Started training epoch no. 37\n",
      "====> Epoch: 37 Average loss: 0.01878750\n",
      "\n",
      "====> Val set loss: 0.01908419\n",
      "Started training epoch no. 38\n",
      "====> Epoch: 38 Average loss: 0.01876149\n",
      "\n",
      "====> Val set loss: 0.01894825\n",
      "Started training epoch no. 39\n",
      "====> Epoch: 39 Average loss: 0.01875394\n",
      "\n",
      "====> Val set loss: 0.01902110\n",
      "Started training epoch no. 40\n",
      "====> Epoch: 40 Average loss: 0.01874104\n",
      "\n",
      "====> Val set loss: 0.01897515\n",
      "Started training epoch no. 41\n",
      "====> Epoch: 41 Average loss: 0.01873872\n",
      "\n",
      "====> Val set loss: 0.01892062\n",
      "Started training epoch no. 42\n",
      "====> Epoch: 42 Average loss: 0.01873474\n",
      "\n",
      "====> Val set loss: 0.01891036\n",
      "Started training epoch no. 43\n",
      "====> Epoch: 43 Average loss: 0.01873481\n",
      "\n",
      "====> Val set loss: 0.01895683\n",
      "Started training epoch no. 44\n",
      "====> Epoch: 44 Average loss: 0.01869946\n",
      "\n",
      "====> Val set loss: 0.01894653\n",
      "Started training epoch no. 45\n",
      "====> Epoch: 45 Average loss: 0.01868859\n",
      "\n",
      "====> Val set loss: 0.01888880\n",
      "Started training epoch no. 46\n",
      "====> Epoch: 46 Average loss: 0.01870077\n",
      "\n",
      "====> Val set loss: 0.01889820\n",
      "Started training epoch no. 47\n",
      "====> Epoch: 47 Average loss: 0.01868456\n",
      "\n",
      "====> Val set loss: 0.01889272\n",
      "Started training epoch no. 48\n",
      "====> Epoch: 48 Average loss: 0.01868667\n",
      "\n",
      "====> Val set loss: 0.01886319\n",
      "Started training epoch no. 49\n",
      "====> Epoch: 49 Average loss: 0.01869590\n",
      "\n",
      "====> Val set loss: 0.01886170\n",
      "Started training epoch no. 50\n",
      "====> Epoch: 50 Average loss: 0.01867726\n",
      "\n",
      "====> Val set loss: 0.01891132\n"
     ]
    }
   ],
   "source": [
    "train_log, val_log = train_epoch(train_loader,model,loss_function,optimizer,num_epochs= EPOCHS)"
   ]
  },
  {
   "cell_type": "code",
   "execution_count": 160,
   "metadata": {},
   "outputs": [
    {
     "data": {
      "image/png": "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\n",
      "text/plain": [
       "<Figure size 864x576 with 1 Axes>"
      ]
     },
     "metadata": {
      "needs_background": "light"
     },
     "output_type": "display_data"
    }
   ],
   "source": [
    "train_loss_plt = [x['train_loss'] for x in train_log]\n",
    "plt.figure(figsize=(12,8))\n",
    "plt.title(\"Train Loss per epoch\")\n",
    "plt.scatter(range(len(train_loss_plt)),train_loss_plt);"
   ]
  },
  {
   "cell_type": "code",
   "execution_count": 161,
   "metadata": {},
   "outputs": [
    {
     "data": {
      "image/png": "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\n",
      "text/plain": [
       "<Figure size 864x576 with 1 Axes>"
      ]
     },
     "metadata": {
      "needs_background": "light"
     },
     "output_type": "display_data"
    }
   ],
   "source": [
    "plt.figure(figsize=(12,8))\n",
    "plt.title(\"Val Loss per epoch\")\n",
    "plt.scatter(range(len(val_log)),val_log);"
   ]
  },
  {
   "cell_type": "markdown",
   "metadata": {},
   "source": [
    "### SAVE MODEL"
   ]
  },
  {
   "cell_type": "code",
   "execution_count": 35,
   "metadata": {},
   "outputs": [],
   "source": [
    "# def save_object(obj, filename):\n",
    "#     with open(filename, 'wb') as output:  # Overwrites any existing file.\n",
    "#         pickle.dump(obj, output, pickle.HIGHEST_PROTOCOL)\n",
    "\n",
    "# # sample usage\n",
    "# save_object(all_vae, './code/models/vae_allfeat.pkl')"
   ]
  },
  {
   "cell_type": "code",
   "execution_count": 33,
   "metadata": {},
   "outputs": [
    {
     "name": "stderr",
     "output_type": "stream",
     "text": [
      "/home/ubuntu/anaconda3/envs/pytorch_latest_p36/lib/python3.6/site-packages/torch/serialization.py:402: UserWarning: Couldn't retrieve source code for container of type VAE_A. It won't be checked for correctness upon loading.\n",
      "  \"type \" + obj.__name__ + \". It won't be checked \"\n"
     ]
    }
   ],
   "source": [
    "# MODEL_PATH = \"./code/models/vae_a_8dim_allfeat.pt\"\n",
    "# torch.save(model, MODEL_PATH)"
   ]
  },
  {
   "cell_type": "markdown",
   "metadata": {},
   "source": [
    "### ERROR ANALYSIS"
   ]
  },
  {
   "cell_type": "code",
   "execution_count": 275,
   "metadata": {},
   "outputs": [
    {
     "name": "stdout",
     "output_type": "stream",
     "text": [
      "Using pre-defined VAE FEATURES\n",
      "[]\n"
     ]
    }
   ],
   "source": [
    "test_set = ToyDS(df_nonan, selection_test, all_vae)\n",
    "test_loader=DataLoader(dataset= test_set, batch_size = BATCH_SIZE, shuffle = True, num_workers = num_workers)"
   ]
  },
  {
   "cell_type": "code",
   "execution_count": 276,
   "metadata": {},
   "outputs": [
    {
     "data": {
      "image/png": "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\n",
      "text/plain": [
       "<Figure size 864x576 with 1 Axes>"
      ]
     },
     "metadata": {
      "needs_background": "light"
     },
     "output_type": "display_data"
    }
   ],
   "source": [
    "plt.figure(figsize=(12,8))\n",
    "plt.title(\"Val Loss per epoch\")\n",
    "plt.scatter(range(len(val_log)),val_log);"
   ]
  },
  {
   "cell_type": "markdown",
   "metadata": {},
   "source": [
    "### SAVE MODEL"
   ]
  },
  {
   "cell_type": "code",
   "execution_count": 277,
   "metadata": {},
   "outputs": [],
   "source": [
    "model.eval()\n",
    "data = torch.from_numpy(test_set.features).to(device,dtype=torch.float32)\n",
    "x_hat_test, _, __ = model(data)\n",
    "x_hat = x_hat_test.detach().cpu().numpy()"
   ]
  },
  {
   "cell_type": "code",
   "execution_count": 387,
   "metadata": {},
   "outputs": [],
   "source": [
    "def save_object(obj, filename):\n",
    "    with open(filename, 'wb') as output:  # Overwrites any existing file.\n",
    "        pickle.dump(obj, output, pickle.HIGHEST_PROTOCOL)\n",
    "\n",
    "# sample usage\n",
    "save_object(all_vae, './code/models/vae_allfeat.pkl')"
   ]
  },
  {
   "cell_type": "code",
   "execution_count": 384,
   "metadata": {},
   "outputs": [],
   "source": [
    "MODEL_PATH = \"./code/models/vae_a_8dim_allfeat.pt\"\n",
    "torch.save(model, MODEL_PATH)"
   ]
  },
  {
   "cell_type": "markdown",
   "metadata": {},
   "source": [
    "### ERROR ANALYSIS"
   ]
  },
  {
   "cell_type": "code",
   "execution_count": 31,
   "metadata": {},
   "outputs": [
    {
     "name": "stdout",
     "output_type": "stream",
     "text": [
      "Using pre-defined VAE FEATURES\n"
     ]
    },
    {
     "name": "stderr",
     "output_type": "stream",
     "text": [
      "/home/ubuntu/AYP/code/py_4/get_all_features.py:84: SettingWithCopyWarning: \n",
      "A value is trying to be set on a copy of a slice from a DataFrame.\n",
      "Try using .loc[row_indexer,col_indexer] = value instead\n",
      "\n",
      "See the caveats in the documentation: https://pandas.pydata.org/pandas-docs/stable/user_guide/indexing.html#returning-a-view-versus-a-copy\n",
      "  df['co_authors']=df.authors.apply( lambda x: [i['name'] for i in x] )\n"
     ]
    },
    {
     "name": "stdout",
     "output_type": "stream",
     "text": [
      "['MESH NAME NOT FOUND: Sphingosine-1-Phosphate Receptors', 'MESH NAME NOT FOUND: Psychology, Positive', 'MESH NAME NOT FOUND: Male', 'MESH NAME NOT FOUND: Phosphoinositide-3 Kinase Inhibitors', 'MESH NAME NOT FOUND: Illicit Drugs', 'MESH NAME NOT FOUND: Confounding Factors, Epidemiologic', 'MESH NAME NOT FOUND: Protein-Arginine Deiminase Type 4', 'MESH NAME NOT FOUND: Indigenous Peoples', 'MESH NAME NOT FOUND: CSK Tyrosine-Protein Kinase', 'MESH NAME NOT FOUND: Stimuli Responsive Polymers', 'MESH NAME NOT FOUND: Conditioning, Psychological', \"MESH NAME NOT FOUND: 8-Hydroxy-2'-Deoxyguanosine\", 'MESH NAME NOT FOUND: Copper-Transporting ATPases', 'MESH NAME NOT FOUND: Advertising', 'MESH NAME NOT FOUND: Mitophagy', 'MESH NAME NOT FOUND: RNA, Circular', 'MESH NAME NOT FOUND: Formins', 'MESH NAME NOT FOUND: Outcome Assessment, Health Care', 'MESH NAME NOT FOUND: Chlorocebus aethiops', 'MESH NAME NOT FOUND: Discrimination, Psychological', 'MESH NAME NOT FOUND: Pyruvate Dehydrogenase (Acetyl-Transferring) Kinase', 'MESH NAME NOT FOUND: Female', \"MESH NAME NOT FOUND: Practice Patterns, Nurses'\", 'MESH NAME NOT FOUND: Phospholipid Hydroperoxide Glutathione Peroxidase', 'MESH NAME NOT FOUND: Infections', 'MESH NAME NOT FOUND: Inhibition, Psychological', 'MESH NAME NOT FOUND: Centers for Medicare and Medicaid Services, U.S.', \"MESH NAME NOT FOUND: Practice Patterns, Physicians'\", 'MESH NAME NOT FOUND: Lactate Dehydrogenase 5', 'MESH NAME NOT FOUND: Neural Networks, Computer', 'MESH NAME NOT FOUND: Psychological Distress', 'MESH NAME NOT FOUND: Reinforcement, Psychology', 'MESH NAME NOT FOUND: Recognition, Psychology', 'MESH NAME NOT FOUND: Stargardt Disease', 'MESH NAME NOT FOUND: Claustrum', 'MESH NAME NOT FOUND: Early Intervention, Educational', 'MESH NAME NOT FOUND: mTOR Associated Protein, LST8 Homolog', 'MESH NAME NOT FOUND: Broadly Neutralizing Antibodies', 'MESH NAME NOT FOUND: Retention, Psychology', 'MESH NAME NOT FOUND: Outcome and Process Assessment, Health Care', 'MESH NAME NOT FOUND: Gingipain Cysteine Endopeptidases']\n"
     ]
    }
   ],
   "source": [
    "test_set = ToyDS(df_nonan, selection_test, all_vae)\n",
    "test_loader=DataLoader(dataset= test_set, batch_size = BATCH_SIZE, shuffle = True, num_workers = num_workers)"
   ]
  },
  {
   "cell_type": "code",
   "execution_count": 32,
   "metadata": {},
   "outputs": [
    {
     "data": {
      "text/plain": [
       "0.007566123493257668"
      ]
     },
     "execution_count": 32,
     "metadata": {},
     "output_type": "execute_result"
    }
   ],
   "source": [
    "test_model(test_loader, model)"
   ]
  },
  {
   "cell_type": "code",
   "execution_count": 33,
   "metadata": {},
   "outputs": [],
   "source": [
    "model.eval()\n",
    "data = torch.from_numpy(test_set.features).to(device,dtype=torch.float32)\n",
    "x_hat_test, _, __ = model(data)\n",
    "x_hat = x_hat_test.detach().cpu().numpy()"
   ]
  },
  {
   "cell_type": "code",
   "execution_count": 34,
   "metadata": {},
   "outputs": [
    {
     "data": {
      "text/plain": [
       "count    5126.000000\n",
       "mean        0.448675\n",
       "std         0.515608\n",
       "min         0.002445\n",
       "25%         0.129868\n",
       "50%         0.306733\n",
       "75%         0.577682\n",
       "max         7.808542\n",
       "dtype: float64"
      ]
     },
     "execution_count": 64,
     "metadata": {},
     "output_type": "execute_result"
    }
   ],
   "source": [
    "pd.Series(np.mean(np.square(x_hat- test_set.features),axis=1)).describe()"
   ]
  },
  {
   "cell_type": "code",
   "execution_count": 85,
   "metadata": {},
   "outputs": [
    {
     "data": {
      "text/plain": [
       "array([1972, 3009, 3031, 1419,  322, 4579, 4082, 3511,   22, 1218])"
      ]
     },
     "execution_count": 85,
     "metadata": {},
     "output_type": "execute_result"
    }
   ],
   "source": [
    "np.argsort(np.mean(np.square(x_hat- test_set.features),axis=1))[:10]"
    "np.mean(np.square(x_hat - test_set.features))"
   ]
  },
  {
   "cell_type": "markdown",
   "metadata": {},
   "source": [
    "### Look at a few examples:"
   ]
  },
  {
   "cell_type": "code",
   "execution_count": 64,
   "metadata": {},
   "outputs": [
    {
     "data": {
      "text/plain": [
       "count    5126.000000\n",
       "mean        0.448675\n",
       "std         0.515608\n",
       "min         0.002445\n",
       "25%         0.129868\n",
       "50%         0.306733\n",
       "75%         0.577682\n",
       "max         7.808542\n",
       "dtype: float64"
      ]
     },
     "execution_count": 64,
     "metadata": {},
     "output_type": "execute_result"
    }
   ],
   "source": [
    "pd.Series(np.mean(np.square(x_hat- test_set.features),axis=1)).describe()"
   ]
  },
  {
   "cell_type": "code",
   "execution_count": 85,
   "metadata": {},
   "outputs": [
    {
     "data": {
      "text/plain": [
       "array([1972, 3009, 3031, 1419,  322, 4579, 4082, 3511,   22, 1218])"
      ]
     },
     "execution_count": 85,
     "metadata": {},
     "output_type": "execute_result"
    }
   ],
   "source": [
    "test_set.df.iloc[3679].mesh"
   ]
  },
  {
   "cell_type": "code",
   "execution_count": 87,
   "metadata": {},
   "outputs": [
    {
     "data": {
      "text/plain": [
       "['Chromium/chemistry',\n",
       " 'Copper/chemistry',\n",
       " 'Electronic Nicotine Delivery Systems/methods',\n",
       " 'Electronics/methods',\n",
       " 'Nebulizers and Vaporizers',\n",
       " 'Nickel/chemistry',\n",
       " 'Nicotine/chemistry',\n",
       " 'Silver/chemistry',\n",
       " 'Smoke/analysis',\n",
       " 'Spectrometry, X-Ray Emission/methods',\n",
       " 'Tobacco/anatomy & histology',\n",
       " 'Zinc/chemistry']"
      ]
     },
     "execution_count": 82,
     "metadata": {},
     "output_type": "execute_result"
    }
   ],
   "source": [
    "all_vae.scaler.transform(all_vae.mesh_features.get_mesh_emb(test_set.df.iloc[3679].mesh))"
   ]
  },
  {
   "cell_type": "markdown",
   "metadata": {},
   "source": [
    "# Visualize particular Use Cases\n"
   ]
  },
  {
   "cell_type": "code",
   "execution_count": 87,
   "metadata": {},
   "outputs": [
    {
     "data": {
      "text/plain": [
       "array([[ 2.72973456, -1.0674253 , -0.94246415,  3.08966176, -0.85796441,\n",
       "         1.72707066, -1.20976516,  3.70293184, -0.02776051, -1.86256365,\n",
       "        -5.02614485, -2.61747724,  4.40680405,  0.98611734,  0.92470637,\n",
       "         1.89473153, -3.26781251, -7.02701661,  0.69595814,  1.63857533,\n",
       "        -0.10628974, -2.74470057, -0.11284325,  1.47463652,  1.5098078 ,\n",
       "         1.06336323, -2.73202513, -2.22683551,  3.43124351,  0.23462634,\n",
       "         6.03965842,  1.11306359, -3.58243318,  3.89637052, -1.9649206 ,\n",
       "         2.46781599,  0.97732249, -2.15364702, -0.74558708,  4.46167229,\n",
       "         3.17934836, -1.27239857,  0.29273138,  3.98292688, -2.79904738,\n",
       "        -0.66299514,  1.66408191,  6.2713542 , -3.78857312, -2.34214554,\n",
       "        -1.48902283,  1.50888916, -3.25845393,  2.63625358, -0.47879052,\n",
       "         0.54266973,  1.29204386, -0.22081076, -3.1647564 ,  0.68823431,\n",
       "         2.82331158,  1.13765821,  5.04473882,  1.9038996 ]])"
      ]
     },
     "execution_count": 87,
     "metadata": {},
     "output_type": "execute_result"
    }
   ],
   "source": [
    "all_vae.scaler.transform(all_vae.mesh_features.get_mesh_emb(test_set.df.iloc[3679].mesh))"
   ]
  },
  {
   "cell_type": "markdown",
   "metadata": {},
   "source": [
    "# Visualize particular Use Cases\n"
   ]
  },
  {
   "cell_type": "code",
   "execution_count": 319,
   "metadata": {},
   "outputs": [],
   "source": [
    "from bokeh.plotting import figure, output_notebook, show\n",
    "from math import sin\n",
    "from random import random\n",
    "from bokeh.io import export_png\n",
    "from bokeh.io import output_file, show\n",
    "from bokeh.models import ColumnDataSource, HoverTool, LinearColorMapper\n",
    "from bokeh.palettes import plasma\n",
    "from bokeh.plotting import figure\n",
    "from bokeh.io import output_file, save\n",
    "from bokeh.transform import transform\n",
    "\n",
    "from bokeh.transform import factor_cmap\n",
    "\n",
    "from sklearn.decomposition import PCA"
   ]
  },
  {
   "cell_type": "markdown",
   "metadata": {},
   "source": [
    "## Use case for dif. Authors"
   ]
  },
  {
   "cell_type": "code",
   "execution_count": 375,
   "metadata": {},
   "outputs": [],
   "source": [
    "df_auths = pd.read_csv('./data/vae_usecases/piid_above30paper.csv').drop(columns=\"Unnamed: 0\")\n",
    "unique_PI_IDS = df_auths['PI_IDS'].unique()\n",
    "# np.random.seed(44)\n",
    "idx_PI_rand = np.random.choice(len(unique_PI_IDS),2,replace=False)\n",
    "PI_IDS = unique_PI_IDS[idx_PI_rand]\n",
    "\n",
    "df_PIDS = df_nonan[df_nonan['PI_IDS'].isin(PI_IDS)]\n",
    "labels = df_PIDS['PI_IDS'].values\n",
    "pmids = df_PIDS['pmid'].values"
   ]
  },
  {
   "cell_type": "code",
   "execution_count": 376,
   "metadata": {},
   "outputs": [
    {
     "name": "stdout",
     "output_type": "stream",
     "text": [
      "Using pre-defined VAE FEATURES\n",
      "['MESH NAME NOT FOUND: Sphingosine-1-Phosphate Receptors', 'MESH NAME NOT FOUND: Psychology, Positive', 'MESH NAME NOT FOUND: Male', 'MESH NAME NOT FOUND: Phosphoinositide-3 Kinase Inhibitors', 'MESH NAME NOT FOUND: Illicit Drugs', 'MESH NAME NOT FOUND: Protein-Arginine Deiminase Type 4', 'MESH NAME NOT FOUND: Indigenous Peoples', 'MESH NAME NOT FOUND: CSK Tyrosine-Protein Kinase', 'MESH NAME NOT FOUND: Stimuli Responsive Polymers', 'MESH NAME NOT FOUND: Conditioning, Psychological', \"MESH NAME NOT FOUND: 8-Hydroxy-2'-Deoxyguanosine\", 'MESH NAME NOT FOUND: Copper-Transporting ATPases', 'MESH NAME NOT FOUND: Advertising', 'MESH NAME NOT FOUND: Mitophagy', 'MESH NAME NOT FOUND: RNA, Circular', 'MESH NAME NOT FOUND: Formins', 'MESH NAME NOT FOUND: Outcome Assessment, Health Care', 'MESH NAME NOT FOUND: Chlorocebus aethiops', 'MESH NAME NOT FOUND: Discrimination, Psychological', 'MESH NAME NOT FOUND: Pyruvate Dehydrogenase (Acetyl-Transferring) Kinase', 'MESH NAME NOT FOUND: Female', \"MESH NAME NOT FOUND: Practice Patterns, Nurses'\", 'MESH NAME NOT FOUND: Phospholipid Hydroperoxide Glutathione Peroxidase', 'MESH NAME NOT FOUND: Infections', 'MESH NAME NOT FOUND: Inhibition, Psychological', 'MESH NAME NOT FOUND: Centers for Medicare and Medicaid Services, U.S.', \"MESH NAME NOT FOUND: Practice Patterns, Physicians'\", 'MESH NAME NOT FOUND: Lactate Dehydrogenase 5', 'MESH NAME NOT FOUND: Neural Networks, Computer', 'MESH NAME NOT FOUND: Psychological Distress', 'MESH NAME NOT FOUND: Reinforcement, Psychology', 'MESH NAME NOT FOUND: Recognition, Psychology', 'MESH NAME NOT FOUND: Stargardt Disease', 'MESH NAME NOT FOUND: Claustrum', 'MESH NAME NOT FOUND: Early Intervention, Educational', 'MESH NAME NOT FOUND: Broadly Neutralizing Antibodies', 'MESH NAME NOT FOUND: Retention, Psychology', 'MESH NAME NOT FOUND: Outcome and Process Assessment, Health Care', 'MESH NAME NOT FOUND: Gingipain Cysteine Endopeptidases']\n"
     ]
    }
   ],
   "source": [
    "group_run = ToyDS(df_PIDS, df_PIDS['last_author_name'].unique(),all_vae)\n",
    "\n",
    "data =  torch.from_numpy(group_run.features).to(device,dtype=torch.float32)\n",
    "optimizer.zero_grad()\n",
    "recon_batch, mu, logvar= model(data)\n",
    "bottle_neck = mu.cpu().detach().numpy()\n",
    "recon = recon_batch.cpu().detach().numpy()"
   ]
  },
  {
   "cell_type": "code",
   "execution_count": 377,
   "metadata": {},
   "outputs": [
    {
     "data": {
      "text/plain": [
       "last_author_name  PI_IDS \n",
       "Liu, DR           6874950    41\n",
       "Wood, E           7902924    36\n",
       "Name: pmid, dtype: int64"
      ]
     },
     "execution_count": 377,
     "metadata": {},
     "output_type": "execute_result"
    }
   ],
   "source": [
    "df_PIDS.groupby(['last_author_name','PI_IDS'])['pmid'].size()"
   ]
  },
  {
   "cell_type": "markdown",
   "metadata": {},
   "source": [
    "## INPUT"
   ]
  },
  {
   "cell_type": "code",
   "execution_count": 378,
   "metadata": {},
   "outputs": [
    {
     "name": "stdout",
     "output_type": "stream",
     "text": [
      "[t-SNE] Computing 31 nearest neighbors...\n",
      "[t-SNE] Indexed 77 samples in 0.002s...\n",
      "[t-SNE] Computed neighbors for 77 samples in 0.013s...\n",
      "[t-SNE] Computed conditional probabilities for sample 77 / 77\n",
      "[t-SNE] Mean sigma: 1.965777\n",
      "[t-SNE] KL divergence after 250 iterations with early exaggeration: 64.099365\n",
      "[t-SNE] KL divergence after 1200 iterations: 0.314865\n",
      "t-SNE done! Time elapsed: 0.2718658447265625 seconds\n"
     ]
    },
    {
     "data": {
      "text/html": [
       "\n",
       "\n",
       "\n",
       "\n",
       "\n",
       "\n",
       "  <div class=\"bk-root\" id=\"b56a2443-7dbd-45b9-89a5-b5ea30be63b1\" data-root-id=\"91481\"></div>\n"
      ]
     },
     "metadata": {},
     "output_type": "display_data"
    },
    {
     "data": {
      "application/javascript": [
       "(function(root) {\n",
       "  function embed_document(root) {\n",
       "    \n",
       "  var docs_json = {\"43ab94bb-bf49-4ae3-ade8-f5df3d992b19\":{\"roots\":{\"references\":[{\"attributes\":{\"below\":[{\"id\":\"91492\"}],\"center\":[{\"id\":\"91495\"},{\"id\":\"91499\"},{\"id\":\"91514\"}],\"left\":[{\"id\":\"91496\"}],\"plot_width\":1000,\"renderers\":[{\"id\":\"91507\"}],\"title\":{\"id\":\"91482\"},\"toolbar\":{\"id\":\"91501\"},\"toolbar_location\":null,\"x_range\":{\"id\":\"91484\"},\"x_scale\":{\"id\":\"91488\"},\"y_range\":{\"id\":\"91486\"},\"y_scale\":{\"id\":\"91490\"}},\"id\":\"91481\",\"subtype\":\"Figure\",\"type\":\"Plot\"},{\"attributes\":{\"source\":{\"id\":\"91503\"}},\"id\":\"91508\",\"type\":\"CDSView\"},{\"attributes\":{\"factors\":[\"6874950\",\"7902924\"],\"palette\":[\"red\",\"black\"]},\"id\":\"91480\",\"type\":\"CategoricalColorMapper\"},{\"attributes\":{\"formatter\":{\"id\":\"91510\"},\"ticker\":{\"id\":\"91493\"}},\"id\":\"91492\",\"type\":\"LinearAxis\"},{\"attributes\":{\"formatter\":{\"id\":\"91512\"},\"ticker\":{\"id\":\"91497\"}},\"id\":\"91496\",\"type\":\"LinearAxis\"},{\"attributes\":{\"data_source\":{\"id\":\"91503\"},\"glyph\":{\"id\":\"91505\"},\"hover_glyph\":null,\"muted_glyph\":null,\"nonselection_glyph\":{\"id\":\"91506\"},\"selection_glyph\":null,\"view\":{\"id\":\"91508\"}},\"id\":\"91507\",\"type\":\"GlyphRenderer\"},{\"attributes\":{\"callback\":null,\"tooltips\":\"pmid: @pmid\"},\"id\":\"91500\",\"type\":\"HoverTool\"},{\"attributes\":{},\"id\":\"91512\",\"type\":\"BasicTickFormatter\"},{\"attributes\":{\"text\":\"tsne\"},\"id\":\"91482\",\"type\":\"Title\"},{\"attributes\":{},\"id\":\"91510\",\"type\":\"BasicTickFormatter\"},{\"attributes\":{},\"id\":\"91484\",\"type\":\"DataRange1d\"},{\"attributes\":{\"items\":[{\"id\":\"91515\"}]},\"id\":\"91514\",\"type\":\"Legend\"},{\"attributes\":{},\"id\":\"92483\",\"type\":\"Selection\"},{\"attributes\":{},\"id\":\"91493\",\"type\":\"BasicTicker\"},{\"attributes\":{\"data\":{\"class\":[\"6874950\",\"6874950\",\"6874950\",\"6874950\",\"6874950\",\"6874950\",\"6874950\",\"6874950\",\"6874950\",\"6874950\",\"6874950\",\"6874950\",\"6874950\",\"6874950\",\"6874950\",\"6874950\",\"6874950\",\"6874950\",\"6874950\",\"6874950\",\"7902924\",\"7902924\",\"7902924\",\"7902924\",\"7902924\",\"7902924\",\"7902924\",\"7902924\",\"7902924\",\"7902924\",\"7902924\",\"7902924\",\"7902924\",\"7902924\",\"7902924\",\"7902924\",\"7902924\",\"7902924\",\"7902924\",\"7902924\",\"7902924\",\"7902924\",\"7902924\",\"7902924\",\"7902924\",\"7902924\",\"7902924\",\"7902924\",\"7902924\",\"7902924\",\"7902924\",\"7902924\",\"7902924\",\"7902924\",\"7902924\",\"7902924\",\"6874950\",\"6874950\",\"6874950\",\"6874950\",\"6874950\",\"6874950\",\"6874950\",\"6874950\",\"6874950\",\"6874950\",\"6874950\",\"6874950\",\"6874950\",\"6874950\",\"6874950\",\"6874950\",\"6874950\",\"6874950\",\"6874950\",\"6874950\",\"6874950\"],\"index\":[0,1,2,3,4,5,6,7,8,9,10,11,12,13,14,15,16,17,18,19,20,21,22,23,24,25,26,27,28,29,30,31,32,33,34,35,36,37,38,39,40,41,42,43,44,45,46,47,48,49,50,51,52,53,54,55,56,57,58,59,60,61,62,63,64,65,66,67,68,69,70,71,72,73,74,75,76],\"pmid\":[19416889,19318208,19820715,19522494,19722647,25723146,25306441,24531420,24824832,24847884,24495225,19307578,25461718,26443021,26258293,29507367,27866654,28191901,28585549,28689404,25203392,25746159,26455554,25389027,26282339,25935714,25884182,28750193,26985601,27252569,26489596,24962285,25041346,24015838,24153247,24602843,24523347,25377274,25542743,25052173,24191637,24989355,24621085,24925493,25240449,26423652,25942468,29604525,29277849,28963094,28394732,26733043,27931253,27412876,26860246,26820699,25848930,26465072,25357182,26055155,24770324,25398335,29512652,29872041,29449507,30323312,29258297,28957631,29038472,29160308,29035361,28875174,28656978,27515511,27096365,27120167,29610462],\"tsne-2d-one\":{\"__ndarray__\":\"+LYrQLyVh0Jk+qNCmduLQj14WkJpQKdC8KKQP92HasGO8RNCWIemwUGKmULV90dB7Ow8QtC0/kGsjfLBMeOuQrJDNUKdnaVC0y6bwWzVaULeuDHCTVSzwgzpY8L++a/CrFuAwtgORsKNcD3CLKK2wgjBmcL2vobCaGaAwtOXwEL5oaLCkYsAwYq6OcH6v9xCkg9nwQotYcIO4YbC8rNfwlhm3sEOvHHC+hujwo6xy8FDVZ7B/SWUwsNJvEIEw2rCzfzQQjuT0EKFvo9CDgukwmzqt0IanuZCj/XOQmzSkEKLttJA1jDjwbFi48F8uLRCcsXkQXmUC0IX6SDCFE09QSM1YEK9U85CR17jwYxCtUGViqRCRNEHwazp0cCcKrbBJc5ZQg+VlkCbl+6/ApDYwTy/l0I=\",\"dtype\":\"float32\",\"shape\":[77]},\"tsne-2d-two\":{\"__ndarray__\":\"fAO3QREtIkJox6NCLHNhQnjrOULySDVCA7qJwbNCEkKm1VRBgqm3wZMxPkJDMaJAU/UYQjTN8kDSzC5CIxuDQsKi70EmC5JCYkjuQXwew0EpXyHC5rkpwvFTisLThH/CRe4PwkEedcKPSEXCy5tGwnR8O8IJJn3CGZJEwvfgLkKYr1PCkqMnwgM8EMJz9oFCHnlCwv0eQMI9o9/BW7kUwo5xKcKOqeLB//wPwmeQQsLH9B/CNU9awpQshkGEHnjCPIYPQpzrTUIxNAxAiEDowcU//EGkKTdCPjQuQt3TDUG66BlBAPkHQpKrTEIW5U9CfPmMQQiCtEEpfBpC0ol8QU1rF0KpKXFC+7NTweHCIkFF0VRCGmfzQYVaJULSPCJCnIX0QdP1PcGmEwDCotmuwTygi0I=\",\"dtype\":\"float32\",\"shape\":[77]}},\"selected\":{\"id\":\"92483\"},\"selection_policy\":{\"id\":\"92484\"}},\"id\":\"91503\",\"type\":\"ColumnDataSource\"},{\"attributes\":{\"active_drag\":\"auto\",\"active_inspect\":\"auto\",\"active_multi\":null,\"active_scroll\":\"auto\",\"active_tap\":\"auto\",\"tools\":[{\"id\":\"91500\"}]},\"id\":\"91501\",\"type\":\"Toolbar\"},{\"attributes\":{},\"id\":\"91488\",\"type\":\"LinearScale\"},{\"attributes\":{\"axis\":{\"id\":\"91492\"},\"grid_line_color\":null,\"ticker\":null},\"id\":\"91495\",\"type\":\"Grid\"},{\"attributes\":{\"axis\":{\"id\":\"91496\"},\"dimension\":1,\"grid_line_color\":null,\"ticker\":null},\"id\":\"91499\",\"type\":\"Grid\"},{\"attributes\":{},\"id\":\"92484\",\"type\":\"UnionRenderers\"},{\"attributes\":{\"fill_alpha\":{\"value\":0.1},\"fill_color\":{\"field\":\"class\",\"transform\":{\"id\":\"91480\"}},\"line_alpha\":{\"value\":0.1},\"line_color\":{\"value\":\"#1f77b4\"},\"size\":{\"units\":\"screen\",\"value\":13},\"x\":{\"field\":\"tsne-2d-one\"},\"y\":{\"field\":\"tsne-2d-two\"}},\"id\":\"91506\",\"type\":\"Scatter\"},{\"attributes\":{},\"id\":\"91490\",\"type\":\"LinearScale\"},{\"attributes\":{},\"id\":\"91497\",\"type\":\"BasicTicker\"},{\"attributes\":{},\"id\":\"91486\",\"type\":\"DataRange1d\"},{\"attributes\":{\"fill_alpha\":{\"value\":0.8},\"fill_color\":{\"field\":\"class\",\"transform\":{\"id\":\"91480\"}},\"line_color\":{\"value\":\"#1f77b4\"},\"size\":{\"units\":\"screen\",\"value\":13},\"x\":{\"field\":\"tsne-2d-one\"},\"y\":{\"field\":\"tsne-2d-two\"}},\"id\":\"91505\",\"type\":\"Scatter\"},{\"attributes\":{\"label\":{\"field\":\"class\"},\"renderers\":[{\"id\":\"91507\"}]},\"id\":\"91515\",\"type\":\"LegendItem\"}],\"root_ids\":[\"91481\"]},\"title\":\"Bokeh Application\",\"version\":\"2.0.1\"}};\n",
       "  var render_items = [{\"docid\":\"43ab94bb-bf49-4ae3-ade8-f5df3d992b19\",\"root_ids\":[\"91481\"],\"roots\":{\"91481\":\"b56a2443-7dbd-45b9-89a5-b5ea30be63b1\"}}];\n",
       "  root.Bokeh.embed.embed_items_notebook(docs_json, render_items);\n",
       "\n",
       "  }\n",
       "  if (root.Bokeh !== undefined) {\n",
       "    embed_document(root);\n",
       "  } else {\n",
       "    var attempts = 0;\n",
       "    var timer = setInterval(function(root) {\n",
       "      if (root.Bokeh !== undefined) {\n",
       "        clearInterval(timer);\n",
       "        embed_document(root);\n",
       "      } else {\n",
       "        attempts++;\n",
       "        if (attempts > 100) {\n",
       "          clearInterval(timer);\n",
       "          console.log(\"Bokeh: ERROR: Unable to run BokehJS code because BokehJS library is missing\");\n",
       "        }\n",
       "      }\n",
       "    }, 10, root)\n",
       "  }\n",
       "})(window);"
      ],
      "application/vnd.bokehjs_exec.v0+json": ""
     },
     "metadata": {
      "application/vnd.bokehjs_exec.v0+json": {
       "id": "91481"
      }
     },
     "output_type": "display_data"
    }
   ],
   "source": [
    "time_start = time.time()\n",
    "tsne = TSNE(n_components=2, verbose=1, perplexity=10, n_iter=1200)\n",
    "tsne_results = tsne.fit_transform(group_run.features)\n",
    "print('t-SNE done! Time elapsed: {} seconds'.format(time.time()-time_start))\n",
    "\n",
    "df_subset=pd.DataFrame()\n",
    "df_subset['tsne-2d-one'] = tsne_results[:,0]\n",
    "df_subset['tsne-2d-two'] = tsne_results[:,1]\n",
    "df_subset['class'] = [str(x) for x in df_PIDS['PI_IDS'].values]\n",
    "df_subset['pmid']= df_PIDS['pmid'].values\n",
    "\n",
    "index_cmap = factor_cmap('class', palette=['red', 'black'], \n",
    "                         factors=sorted(df_subset['class'].unique()))\n",
    "p = figure(plot_width=1000, plot_height=600, title = \"tsne\",toolbar_location=None,\n",
    "          tools=\"hover\", tooltips='pmid: @pmid')\n",
    "p.scatter('tsne-2d-one','tsne-2d-two',source=df_subset,fill_alpha=0.8, fill_color=index_cmap,size=13,legend_field='class')\n",
    "p.legend.location = \"top_right\"\n",
    "p.xgrid.grid_line_color = None\n",
    "p.ygrid.grid_line_color = None\n",
    "\n",
    "output_file(\"test_input.html\")\n",
    "show(p)\n",
    "\n",
    "# fig.savefig('code/img/TSNE_Plots/meshemb_usecaseAuth_8dimls_input_MSE+KLD.png', box_inches='tight')"
   ]
  },
  {
   "cell_type": "markdown",
   "metadata": {},
   "source": [
    "### LATENT SPACE"
   ]
  },
  {
   "cell_type": "code",
   "execution_count": 312,
   "metadata": {},
   "outputs": [
    {
     "name": "stdout",
     "output_type": "stream",
     "text": [
      "[t-SNE] Computing 22 nearest neighbors...\n",
      "[t-SNE] Indexed 70 samples in 0.000s...\n",
      "[t-SNE] Computed neighbors for 70 samples in 0.001s...\n",
      "[t-SNE] Computed conditional probabilities for sample 70 / 70\n",
      "[t-SNE] Mean sigma: 0.765238\n",
      "[t-SNE] KL divergence after 250 iterations with early exaggeration: 68.056305\n",
      "[t-SNE] KL divergence after 1200 iterations: 0.447648\n",
      "t-SNE done! Time elapsed: 0.2277839183807373 seconds\n"
     ]
    }
   ],
   "source": [
    "time_start = time.time()\n",
    "tsne = TSNE(n_components=2, verbose=1, perplexity=7, n_iter=1200)\n",
    "tsne_results = tsne.fit_transform(bottle_neck)\n",
    "print('t-SNE done! Time elapsed: {} seconds'.format(time.time()-time_start))\n",
    "\n",
    "df_subset=pd.DataFrame()\n",
    "df_subset['tsne-2d-one'] = tsne_results[:,0]\n",
    "df_subset['tsne-2d-two'] = tsne_results[:,1]\n",
    "df_subset['class'] = [str(x) for x in df_PIDS['PI_IDS'].values]\n",
    "df_subset['pmid']= df_PIDS['pmid'].values\n",
    "\n",
    "index_cmap = factor_cmap('class', palette=['red', 'black'], \n",
    "                         factors=sorted(df_subset['class'].unique()))\n",
    "p = figure(plot_width=1000, plot_height=600, title = \"Latent Space TSNE - Gotlib, IH / Huang, TJ\",toolbar_location=None,\n",
    "          tools=\"hover\", tooltips='pmid: @pmid')\n",
    "p.scatter('tsne-2d-one','tsne-2d-two',source=df_subset,fill_alpha=0.8, fill_color=index_cmap,size=13,legend_field='class')\n",
    "p.legend.location = \"top_right\"\n",
    "p.xgrid.grid_line_color = None\n",
    "p.ygrid.grid_line_color = None\n",
    "\n",
    "# FILE_NAME = 'code/img/TSNE_Plots/all_feat_2random_8dimls_latent_9493483_1960344_MSE+KLD.html'\n",
    "FILE_NAME = 'test_latent.html'\n",
    "output_file(FILE_NAME)\n",
    "show(p)"
   ]
  },
  {
   "cell_type": "code",
   "execution_count": 365,
   "metadata": {},
   "outputs": [
    {
     "data": {
      "text/html": [
       "<div>\n",
       "<style scoped>\n",
       "    .dataframe tbody tr th:only-of-type {\n",
       "        vertical-align: middle;\n",
       "    }\n",
       "\n",
       "    .dataframe tbody tr th {\n",
       "        vertical-align: top;\n",
       "    }\n",
       "\n",
       "    .dataframe thead th {\n",
       "        text-align: right;\n",
       "    }\n",
       "</style>\n",
       "<table border=\"1\" class=\"dataframe\">\n",
       "  <thead>\n",
       "    <tr style=\"text-align: right;\">\n",
       "      <th></th>\n",
       "      <th>pmid</th>\n",
       "      <th>last_author_country</th>\n",
       "      <th>PI_IDS</th>\n",
       "      <th>last_author_name</th>\n",
       "      <th>authors</th>\n",
       "      <th>doi</th>\n",
       "      <th>journal_name</th>\n",
       "      <th>language</th>\n",
       "      <th>last_author</th>\n",
       "      <th>last_author_email</th>\n",
       "      <th>last_author_id</th>\n",
       "      <th>last_author_inst</th>\n",
       "      <th>mesh</th>\n",
       "      <th>mesh_major</th>\n",
       "      <th>pub_year</th>\n",
       "      <th>title</th>\n",
       "    </tr>\n",
       "  </thead>\n",
       "  <tbody>\n",
       "    <tr>\n",
       "      <th>63761</th>\n",
       "      <td>28850111</td>\n",
       "      <td>CA</td>\n",
       "      <td>1960344</td>\n",
       "      <td>Gotlib, IH</td>\n",
       "      <td>[{'forename': 'E G', 'affiliation': 'Departmen...</td>\n",
       "      <td>None</td>\n",
       "      <td>Translational psychiatry</td>\n",
       "      <td>eng</td>\n",
       "      <td>{'affiliation': 'Department of Psychology, Sta...</td>\n",
       "      <td>None</td>\n",
       "      <td>1754583.0</td>\n",
       "      <td>Stanford University</td>\n",
       "      <td>[Adolescent, Circadian Rhythm, Epigenesis, Gen...</td>\n",
       "      <td>[DNA Methylation, Hippocampus/pathology, Hydro...</td>\n",
       "      <td>2017.0</td>\n",
       "      <td>Accelerated DNA methylation age in adolescent ...</td>\n",
       "    </tr>\n",
       "  </tbody>\n",
       "</table>\n",
       "</div>"
      ],
      "text/plain": [
       "           pmid last_author_country   PI_IDS last_author_name  \\\n",
       "63761  28850111                  CA  1960344       Gotlib, IH   \n",
       "\n",
       "                                                 authors   doi  \\\n",
       "63761  [{'forename': 'E G', 'affiliation': 'Departmen...  None   \n",
       "\n",
       "                   journal_name language  \\\n",
       "63761  Translational psychiatry      eng   \n",
       "\n",
       "                                             last_author last_author_email  \\\n",
       "63761  {'affiliation': 'Department of Psychology, Sta...              None   \n",
       "\n",
       "       last_author_id     last_author_inst  \\\n",
       "63761       1754583.0  Stanford University   \n",
       "\n",
       "                                                    mesh  \\\n",
       "63761  [Adolescent, Circadian Rhythm, Epigenesis, Gen...   \n",
       "\n",
       "                                              mesh_major  pub_year  \\\n",
       "63761  [DNA Methylation, Hippocampus/pathology, Hydro...    2017.0   \n",
       "\n",
       "                                                   title  \n",
       "63761  Accelerated DNA methylation age in adolescent ...  "
      ]
     },
     "execution_count": 365,
     "metadata": {},
     "output_type": "execute_result"
    }
   ],
   "source": [
    "## EXPLORE USE_CASE\n",
    "\n",
    "'''\n",
    "last_author_name  PI_IDS \n",
    "Gotlib, IH        1960344    59\n",
    "Huang, TJ         9493483    34\n",
    "'''\n",
    "good_pmids = ['27457566','29929156','19347861']\n",
    "exploratory_pmids = ['28850111']\n",
    "df_PIDS[df_PIDS['pmid'].isin(exploratory_pmids)]"
   ]
  },
  {
   "cell_type": "code",
   "execution_count": null,
   "metadata": {},
   "outputs": [],
   "source": [
    "df_PIDS.columns"
   ]
  },
  {
   "cell_type": "markdown",
   "metadata": {},
   "source": [
    "## MESH EMBEDDINGS USE_CASE"
   ]
  },
  {
   "cell_type": "code",
   "execution_count": 565,
   "metadata": {},
   "outputs": [],
   "source": [
    "mesh_cases = pd.read_csv('./data/mesh_data/mesh_paper_groups_pmid.csv')\n",
    "typeA = mesh_cases['A']\n",
    "typeB = mesh_cases['B']\n",
    "df_a = pd.DataFrame((typeA,np.zeros((len(typeA),),dtype=int)),index=['pmid','class']).T\n",
    "df_b = pd.DataFrame((typeB,np.ones((len(typeB),),dtype=int)),index=['pmid','class']).T\n",
    "df_ab = pd.concat([df_a,df_b]).reset_index(drop=True)"
   ]
  },
  {
   "cell_type": "code",
   "execution_count": 566,
   "metadata": {},
   "outputs": [],
   "source": [
    "df_ab.drop_duplicates(keep='first',inplace=True)\n",
    "labels = df_ab['class'].values"
   ]
  },
  {
   "cell_type": "code",
   "execution_count": 567,
   "metadata": {},
   "outputs": [
    {
     "name": "stdout",
     "output_type": "stream",
     "text": [
      "Using pre-defined VAE FEATURES\n",
      "['MESH NAME NOT FOUND: Sphingosine-1-Phosphate Receptors', 'MESH NAME NOT FOUND: Outcome Assessment, Health Care', 'MESH NAME NOT FOUND: Copper-Transporting ATPases', 'MESH NAME NOT FOUND: Pyruvate Dehydrogenase (Acetyl-Transferring) Kinase', 'MESH NAME NOT FOUND: Stargardt Disease', 'MESH NAME NOT FOUND: RNA, Circular', 'MESH NAME NOT FOUND: Confounding Factors, Epidemiologic', 'MESH NAME NOT FOUND: Discrimination, Psychological', 'MESH NAME NOT FOUND: Psychological Distress', 'MESH NAME NOT FOUND: Phospholipid Hydroperoxide Glutathione Peroxidase', 'MESH NAME NOT FOUND: Diet, Healthy', 'MESH NAME NOT FOUND: Phosphoinositide-3 Kinase Inhibitors', \"MESH NAME NOT FOUND: Practice Patterns, Dentists'\", 'MESH NAME NOT FOUND: Illicit Drugs', 'MESH NAME NOT FOUND: Centers for Medicare and Medicaid Services, U.S.', 'MESH NAME NOT FOUND: Claustrum', \"MESH NAME NOT FOUND: Practice Patterns, Physicians'\", 'MESH NAME NOT FOUND: Conditioning, Psychological', 'MESH NAME NOT FOUND: Female', 'MESH NAME NOT FOUND: Protein-Arginine Deiminase Type 4', 'MESH NAME NOT FOUND: Advertising', 'MESH NAME NOT FOUND: Inhibition, Psychological', 'MESH NAME NOT FOUND: Clinical Decision Rules', 'MESH NAME NOT FOUND: Reinforcement, Psychology', 'MESH NAME NOT FOUND: Recognition, Psychology', \"MESH NAME NOT FOUND: Practice Patterns, Nurses'\", 'MESH NAME NOT FOUND: Mitophagy', 'MESH NAME NOT FOUND: Practice, Psychological', 'MESH NAME NOT FOUND: Infections', 'MESH NAME NOT FOUND: Centers for Disease Control and Prevention, U.S.', 'MESH NAME NOT FOUND: Heterogeneous Nuclear Ribonucleoprotein D0', 'MESH NAME NOT FOUND: Neural Networks, Computer', 'MESH NAME NOT FOUND: Early Intervention, Educational', 'MESH NAME NOT FOUND: Lactate Dehydrogenase 5', 'MESH NAME NOT FOUND: Synucleinopathies', 'MESH NAME NOT FOUND: Chlorocebus aethiops', 'MESH NAME NOT FOUND: Indigenous Peoples', 'MESH NAME NOT FOUND: Gingipain Cysteine Endopeptidases', 'MESH NAME NOT FOUND: Aldehyde Dehydrogenase 1', 'MESH NAME NOT FOUND: Formins', 'MESH NAME NOT FOUND: Male', 'MESH NAME NOT FOUND: Stimuli Responsive Polymers']\n"
     ]
    }
   ],
   "source": [
    "idx_df = [df.index[df.pmid == x].tolist()[0] for x in df_ab.pmid]\n",
    "df_group = df.iloc[idx_df]\n",
    "\n",
    "group_run = ToyDS(df_group, df_group['last_author_name'].unique(),all_vae)\n",
    "\n",
    "data =  torch.from_numpy(group_run.features).to(device,dtype=torch.float32)\n",
    "optimizer.zero_grad()\n",
    "recon_batch, mu, logvar= model(data)\n",
    "bottle_neck = mu.cpu().detach().numpy()\n",
    "recon = recon_batch.cpu().detach().numpy()"
   ]
  },
  {
   "cell_type": "markdown",
   "metadata": {},
   "source": [
    "## Input TSNE"
   ]
  },
  {
   "cell_type": "code",
   "execution_count": 568,
   "metadata": {},
   "outputs": [
    {
     "name": "stdout",
     "output_type": "stream",
     "text": [
      "[t-SNE] Computing 16 nearest neighbors...\n",
      "[t-SNE] Indexed 199 samples in 0.001s...\n",
      "[t-SNE] Computed neighbors for 199 samples in 0.003s...\n",
      "[t-SNE] Computed conditional probabilities for sample 199 / 199\n",
      "[t-SNE] Mean sigma: 0.370208\n",
      "[t-SNE] KL divergence after 250 iterations with early exaggeration: 75.862587\n",
      "[t-SNE] KL divergence after 1200 iterations: 0.802113\n",
      "t-SNE done! Time elapsed: 0.4020068645477295 seconds\n"
     ]
    },
    {
     "data": {
      "image/png": "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\n",
      "text/plain": [
       "<Figure size 1008x720 with 1 Axes>"
      ]
     },
     "metadata": {
      "needs_background": "light"
     },
     "output_type": "display_data"
    }
   ],
   "source": [
    "time_start = time.time()\n",
    "tsne = TSNE(n_components=2, verbose=1, perplexity=5, n_iter=1200,random_state=42)\n",
    "tsne_results = tsne.fit_transform(group_run.features)\n",
    "print('t-SNE done! Time elapsed: {} seconds'.format(time.time()-time_start))\n",
    "\n",
    "df_subset=pd.DataFrame()\n",
    "df_subset['tsne-2d-one'] = tsne_results[:,0]\n",
    "df_subset['tsne-2d-two'] = tsne_results[:,1]\n",
    "df_subset['class'] = labels\n",
    "\n",
    "groups = df_subset.groupby('class')\n",
    "markers = ['o','v',\"x\"]\n",
    "colors = [\"red\",\"black\",\"green\"]\n",
    "# Plot\n",
    "fig, ax = plt.subplots(figsize=(14,10))\n",
    "\n",
    "ax.margins(0.05) # Optional, just adds 5% padding to the autoscaling\n",
    "for i, (name, group) in enumerate(groups):\n",
    "    ax.set_title(\"TSNE of the Mesh Embeddings for given use-case - 8dim latent space - Input\")\n",
    "    ax.plot(group['tsne-2d-one'], group['tsne-2d-two'], marker=markers[i], linestyle='', ms=12, label=name, color=colors[i])\n",
    "ax.legend()\n",
    "plt.show()\n",
    "fig.tight_layout();\n",
    "\n",
    "# fig.savefig('code/img/TSNE_Plots/meshemb_2usecase100_8dimls_input_MSE+KLD.png', bbox_inches='tight')"
   ]
  },
  {
   "cell_type": "markdown",
   "metadata": {},
   "source": [
    "## Output TSNE"
   ]
  },
  {
   "cell_type": "code",
   "execution_count": 573,
   "metadata": {},
   "outputs": [
    {
     "name": "stdout",
     "output_type": "stream",
     "text": [
      "[t-SNE] Computing 19 nearest neighbors...\n",
      "[t-SNE] Indexed 199 samples in 0.001s...\n",
      "[t-SNE] Computed neighbors for 199 samples in 0.003s...\n",
      "[t-SNE] Computed conditional probabilities for sample 199 / 199\n",
      "[t-SNE] Mean sigma: 0.104280\n",
      "[t-SNE] KL divergence after 250 iterations with early exaggeration: 59.618023\n",
      "[t-SNE] KL divergence after 1200 iterations: 0.253939\n",
      "t-SNE done! Time elapsed: 0.40006566047668457 seconds\n"
     ]
    },
    {
     "data": {
      "image/png": "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\n",
      "text/plain": [
       "<Figure size 1008x720 with 1 Axes>"
      ]
     },
     "metadata": {
      "needs_background": "light"
     },
     "output_type": "display_data"
    }
   ],
   "source": [
    "time_start = time.time()\n",
    "tsne = TSNE(n_components=2, verbose=1, perplexity=6, n_iter=1200,random_state=42)\n",
    "tsne_results = tsne.fit_transform(recon)\n",
    "print('t-SNE done! Time elapsed: {} seconds'.format(time.time()-time_start))\n",
    "\n",
    "df_subset=pd.DataFrame()\n",
    "df_subset['tsne-2d-one'] = tsne_results[:,0]\n",
    "df_subset['tsne-2d-two'] = tsne_results[:,1]\n",
    "df_subset['class'] = labels\n",
    "\n",
    "groups = df_subset.groupby('class')\n",
    "markers = ['o','v',\"x\"]\n",
    "colors = [\"red\",\"black\",\"green\"]\n",
    "# Plot\n",
    "fig, ax = plt.subplots(figsize=(14,10))\n",
    "\n",
    "ax.margins(0.05) # Optional, just adds 5% padding to the autoscaling\n",
    "for i, (name, group) in enumerate(groups):\n",
    "    ax.set_title(\"TSNE of the Mesh Embeddings for given use-case - 8dim latent space - Output\")\n",
    "    ax.plot(group['tsne-2d-one'], group['tsne-2d-two'], marker=markers[i], linestyle='', ms=12, label=name, color=colors[i])\n",
    "ax.legend()\n",
    "plt.show()\n",
    "fig.tight_layout();\n",
    "\n",
    "# fig.savefig('code/img/TSNE_Plots/meshemb_2usecase100_8dimls_output_MSE+KLD.png',box_inches='tight')"
   ]
  },
  {
   "cell_type": "markdown",
   "metadata": {},
   "source": [
    "## LATENT SPACE TSNE"
   ]
  },
  {
   "cell_type": "code",
   "execution_count": 571,
   "metadata": {},
   "outputs": [
    {
     "name": "stdout",
     "output_type": "stream",
     "text": [
      "[t-SNE] Computing 22 nearest neighbors...\n",
      "[t-SNE] Indexed 199 samples in 0.000s...\n",
      "[t-SNE] Computed neighbors for 199 samples in 0.001s...\n",
      "[t-SNE] Computed conditional probabilities for sample 199 / 199\n",
      "[t-SNE] Mean sigma: 0.059413\n",
      "[t-SNE] KL divergence after 250 iterations with early exaggeration: 58.658154\n",
      "[t-SNE] KL divergence after 1200 iterations: 0.231315\n",
      "t-SNE done! Time elapsed: 0.3952159881591797 seconds\n"
     ]
    },
    {
     "data": {
      "image/png": "iVBORw0KGgoAAAANSUhEUgAAAzcAAAJOCAYAAACKi/lnAAAABHNCSVQICAgIfAhkiAAAAAlwSFlzAAALEgAACxIB0t1+/AAAADh0RVh0U29mdHdhcmUAbWF0cGxvdGxpYiB2ZXJzaW9uMy4xLjMsIGh0dHA6Ly9tYXRwbG90bGliLm9yZy+AADFEAAAgAElEQVR4nOzdfZxdZXnv/++1J7OZScQqD5aJQSFCPTD+JDkMEZBDLWirIImnPDRiEJlSDfHU9hRPq63Tp1/b0FM55/T3EjC2VKUmECxooCA+IdhamjCU2BpQocGWkKkGlIOQGTIm9++Pe+1kzZ6193raD2uv/Xm/XvuVzN5rr3XvtdaeWde67vu6zTknAAAAAOh1lW43AAAAAABageAGAAAAQCkQ3AAAAAAoBYIbAAAAAKVAcAMAAACgFAhuAAAAAJQCwQ1QcOZ90sx+ZGbbEr7nU2b2R+1uWyuY2X1mdmWXtu3M7IQWravh5zCz44JtLQh+/oKZXd6K7aZo32vN7GEz+7GZfaAD29thZm9q93aQn5l9z8zeHPz/t83sL1u03t83s8+0Yl0AkBTBDfqSmT0fehwws+nQz+8ys5eZ2V+Z2X8EF4PfNbPfCr3fmdm/mFkl9Nwfmdmngv/XLmafr3v8UobmniXpLZKWOOdWRHyW95jZ32dYbyLBRbszs1Pqnv988Pyb2rXtiLa8KThe9fv1jE61oRWcc29zzn26w5v9TUn3OecOd879f+3emHNu1Dl3X7u3g/mC3z93BzdE/sPMPlYLrOM45/7EOdfxmw2tviETDtjKKOtNIfYz+gHBDfqSc+4ltYekf5d0Qei5jZL+t6SXSDpJ0k9JWinpX+tWs1jS6phNvSy8Lefc5gzNfbWk7znnXsjw3lb5rqR3134wsyMlnS5pTxfasrtun77EOfdAF9rRa14taUeWNya9MEZhXC/pB5JGJC2T9LOS1nW1RQDQIQQ3QLTTJG1yzv3IOXfAOfdt59zf1C3zPyX9QSsu/MxssZndYWY/NLPHzexXgud/WdJfSjojyFD8Qd37TpL08dDrz4ZefrmZ3RVknraa2WtC7/tPZvblYHvfMbNLYpq4UdIvmdlA8PM7JX1O0r7QOitm9iEz+1cze8bMbjWzI4LXhszsM8Hzz5rZg2b206H1v9rMvhG09UtmdlSqHXioDfcFGbR/CPbHnWZ2pJltNLPngu0eV/e288xsp5k9bWZ/VpeNGzezR4M74F80s1eHXnuLmX3bzP6vmX1MkoVeGzCzjwbr3Cnp/Ih2Xhn8/z1m9vfB8j8ysyfM7G2hZY83s68H++YrZnadBV19EuzX2jrulfRzkj4W7JefMbOfMrObzGyPmf2bmX2k9tmDNn3DzP63mf1Q0u9HrHPYzD4dtPlRM/tNM9sVev17Zvbm4Nyerp0LwWvLg30zmGA/OzNba2aPBa9fZ2amCFZ3V9p8pi/cpt8ys6eCffkdMzs3eL7hudtgO0eY7yq6O2jT54PnX25mfxvs0x8F/18Set97gnPtx8FxflfotYb7IIPjJd3qnJtxzv2HpHskjYa2dVlwzJ8xs9+p+2wHu5LZoQz0FWb2ZNC2tWZ2mpn9c3DOfSxpo8zss+YzSf83OKdHg+ffK+ldkn4zOD/vDJ5fbGa3BfvzCQt1pwzaeWtwDv/YfDfIseC1v5b0Kkl3Buv7zYi2HBUcn2fN/x78u9D5/z0z+7CZPRJ85k+a2VDwWtwxjjw3gtfebmbbg23+g5m9Pum+S6NI+xnoCuccDx59/ZD0PUlvrnvuL+Xvcl8h6cSI9zhJJ0p6SNKVwXN/JOlTwf+PC5ZZkLAN98vfbR2Sv9O6R9K5wWvvkfT3Td4773VJn5L0Q0krJC2QD05uCV5bJOnJ4LMtkPSfJT0tabTB+u+TdKWkL0l6W/DcNklnSNol6U3Bc78u6R8lLZF0mKQNkm4OXnufpDslLZQ0IOlUSS8Nrf9fJf2MpOHg52satOVNknY12Rf3SXpc0mvkM26PyGed3hx81pskfbLuOH5N0hHyf6S/Gzqe7wjWdVLw3o9I+ofgtaMkPSfpIkmDkv67pJ+E3rtW0rclHRus+2vh86G2T0PHb1bSrwT75ipJuyVZ8PoDkj4qqSrfRfE5SZ+J26+NjmPo55skbZF0uPz5+l1Jvxxq008k/Wrw2Ycj1neN/Hn78uCY/3P42Cj0vZJ0r6RfCb32Z5I+HrefQ8fobyW9LDhGeyS9tcFn/JSkP4o6XyS9Vv68Xxz6jr4m7txtsJ27JG0OPvugpJ8Nnj9S0oXB8Thc0mclfT70vXtO0muDn0cUfOfi9kGG32lrg+O7UNIrJX1L0n8NXjtZ0vOSzg4+6/8KjnXtWP1+6Pw6Ltj/H5f/3fTzkmYkfV7SK4J1/6D2+SPacXBdwc/jwX45TNL/kbS9ybGryP9+/V35c3+ppJ2SfiG07hlJ58mf++sl/WPU+degbeuDzzUYPP6LDn3nvhfss9r39xu1tjU7xjHnxn8O9tUbgvZeHmznsIzH+D6Fvs91rxVmP/Pg0Y1H1xvAg0e3H1G/nOUvsn87+KU/K3/h8bbQ607SCcEv/H8P/ohEBTfP1j1Oitj+sZL2Szo89Nz60Lreo2zBzV+Gfj5P0reD//+SpL+rW36DpN9rsP775IObNZJulr9I/G7wWji4eVRBQBb8PBLsuwXBH9t/kPT6Buv/SOjndZLuadCWN0k6ELFfF4XW9Tuh5a+V9IXQzxfU/aF3Cl0oB9v+avD/Lyi42A9+rkjaK9+96911f+At2Be1gOVeSWtDr/+8mgc3j4eWXRgse4z8xfxPJC0Mvf4ZHbr4bLhfGx3H4P8Dkl6UdHLo9ffJj8mptenfY9Z38AIo+PlKNQ5urpR0b2hfPSnp7Lj9HDpGZ4Vev1XShxq06VNqHNycIH9x+WZJg3Xva3juRmxjRP4cfHmCfb5M0o+C/y+SP1cvVF2wGLcP0j7kg6SHgnPHBfulduH+uwpudITatU/Ng5tXhpZ/RtIvhX6+TdKvN2jHwXVFvPayYN0/1eDYvaH+HJT0YQU3J4J1fyX02smSpqPOvwbb/0P54P6EiNe+p7nf3/Mk/WuCY9zw3JB0g6T/t+6576hBYJjgGN+nBsFNkfYzDx7deNAtDYjgnJt2fmDtqfJ36m6V9Nn6rirOubvlg5v3NljVUc65l4Uej0Yss1jSD51zPw4992/yd0Xz+I/Q//fKjyGS/MX5G4KuEc+a78r2LvmL6WZul3SO/N38v454/dWSPhda56PyQdtPB8t/UdItQXeN/2lBl6SYtkbZXbdPX+bmjkf6fuj/0xE/16/7ydD//03+eNQ+z5+HPs8P5S/MXxksc/B9zjlXt57Fmr/eZg5+fufc3uC/L9Ghc2NvaNnweuP2ayNHyd+lDber/px7Us3Vf8Zmy/+NfNfJxfIZAyfp74LXmu3nmjTnRyTn3OPyGZrfl/QDM7slaE+tDZHnrpl93A4Vrvht+ZsRP3TO/ah+G2a20Mw2BF2+npP0dUkvM7OB4Bz9JfmsypT5LqP/KcU+qG2jvj31r1fkz4nb5QOXo+SzCH8aLFJ/7r4gH7A0k/Y7NY/5rprXmO/695z8RbGC9kV5taTFdb+nflv+90lN/XkxZMm7Cf+Z/E2rL5nvKvihutcjfy80O8Zqcm4En+fqus9zrA79vjnIfMW62jH+eMLPU3tv0fYz0HEEN0AM59xzkv5E/kLh+IhFPiLpd+TvuGexW9IRZnZ46LlXSXoqaRNTbu9JSffXBQcvcc5d1XQj/gL7C/LdpqKCmyfls1vh9Q45555yzs065/7AOXeypDMlvV2hAgVddmzo/6+SPx6S/zzvq/s8w865f5A0FX6fmVndeqY0f71ZTMmfG+Fz6+B6c+zXp+UzE6+ua2P4nIs7r6bku3HNa1c959yz8t0aL5F0qXyXr9r6m+3ntF7Q3O/hnIDdObfJOXeW/Od2OnTB3+zcXesOFa74k2DZI8zsZRHbv1o+s/kG59xL5QM5KRiP5Zz7onPuLfJ3+L8t6S/S7oOI9tQ7Qv5YfMw596Jz7hlJn5TPPkjzz92F8jdw2u1SSavkM2c/JZ8Vkg6NVas/356U9ETdPjncOXeekml6/jrnfuycu9o5t1Q+o/sbFozBCjT6vdDsGDc7N56U9Md1n2ehc+7miLb9SegYr03yYUMKtZ+BbiC4ASKY2YT5QbPVYCDpr8l3KflO/bLOl7v9F/k+1Kk5556U71q03vwA8ddL+mX5cTJJfF/SEjOrJlz+byX9jPlBxYPB4zTzxQni/LZ8N4rvRbz2cUl/bMFAaDM72sxWBf//OTP7f4K7m8/JX1jvT9jedvsf5gcJHyt/nGsV7T4u6cOhwbg/ZWYXB6/dJWnUzH4xuIP5Ac29kL5V0gfMbImZvVxS/V3hRJxz/yZpUtLvB+fiGfIXYgralGm/Ouf2B238YzM7PDhmvyHf5S2pW+X3z8vN7JWS/lvM8pvkA68Lg//XNNvPaW2XLxBxhJkdI5+pUbDe15rZOWZ2mPwYgmkd2lcNz916zrkp+SD/+uCzD5pZ7QL38GC9z5rP8v5eaPs/bWYrzWyRfJfA5+u235J94Jx7WtITkq4yswXBhfblkr4ZLPI3kt5uZmcFvzP+UJ25Fjhc/nM/Ix+A1gdm35cf71GzTdJz5otADAcZideZ2WkJt1e/vjnMD+4/Ibgx8Zz8sQh/d94ffH+PkP+9V/u90PAYx5wbfyFprZm9wbxFZnZ+3U2ttBYEfzNqj0EVbD8D3UBwA0Rz8nc7n5a/Y/cWSec7555vsPxH5O+Y1nvW5s7H8hsN3v9O+Ttsu+WrkP2ec+7LCdt6r3zxg/8ws6fjFg66v/28fBnr3fJdDv5UftxQ3Ht3O+cazanz55LukO/m8WP5AdpvCF47Rv6i6jn5Lj/3K92FdNhimz/PzYUZ1yX5fvcPyV8Y3yXpRklyzn1Ofr/cEnTv+JaktwWvPS3pYvlB9c/IF5f4RmidfyHfNeibkv5JvotQVu+SL97wjPy4rs3yFy9Svv36q/KZjp2S/l4+4PirFO36Q/lxRk9I+krQjhebLH+H/H76vnOudqHddD9n8Nfy+/x78pmicOn1w+SP19Py5/wr5C9apebnbpTL5APJb8uP46kFUf9Hfrze08E67gm9pyJ/13+3fLezn1VQnrnF+0CSflHSW+WLLzwuP/bmvwfb2iHp/fLHe0rSj+SPY7vdJN+96yn5Qh//WPf6jZJODrpGfT4IwC+QH9PyhPw+/Uv5bEQS6yV9JFjfByNeP1H+vH1evmjH9W7uvEyb5M+hncGjVoWv2TGWGpwbzrlJ+aIhH5Pf54/Lj23L4wb5QKv2+KSKt5+BjqsNMAQA9AAz2yxfHOL3YhfuIDO7StJq59zPdrstQB5m9j35wfpf6XZbAKRH5gYACizoMvga83OxvFW+P/3n497XgXaNmNkbg3a9Vj4r8blutwsA0N+odgEAxXaMfLe2I+W7D13lnHu4u02S5KutbZAvsvGspFvk52oCAKBr6JYGAAAAoBTolgYAAACgFArVLe2oo45yxx13XLebAQAAAKCgHnrooaedc0dHvVao4Oa4447T5ORkt5sBAAAAoKDM7N8avUa3NAAAAAClQHADAAAAoBQIbgAAAACUQqHG3AAAAABov9nZWe3atUszMzPdbkpDQ0NDWrJkiQYHBxO/h+AGAAAA6DO7du3S4YcfruOOO05m1u3mzOOc0zPPPKNdu3bp+OOPT/w+uqUBAAAAfWZmZkZHHnlkIQMbSTIzHXnkkakzSwQ3AAAAQB9KFNg4J23dKl18sbRokVSp+H8vuUTats2/3s321SG4AQAAADDf7Kx06aXSOedIt98u7d3rg5m9e6XbbvPPX3qpX64gCG4AAAAAzOWc9O53S3fc4YOZAwfmvn7ggPTCC9KWLX65jBmce+65R6997Wt1wgkn6JprrsndbIIbAAAAAHNt2ybdeacPbJqZnvbLPfhg6k3s379f73//+/WFL3xBjzzyiG6++WY98sgjGRvsEdwAAAAAmOvaa33gksT0tF8+pW3btumEE07Q0qVLVa1WtXr1am3ZsiX1esIIbgAAAADMdddd87uiNXLggF8+paeeekrHHnvswZ+XLFmip556KvV6wghuAAAAAMyVNGuTdXn5uWzq5S1NTXADAAAAYK7h4fYuL5+pefLJJw/+vGvXLi1evDj1esIIbgAAAADMdf75fk6bJCoVv3xKp512mh577DE98cQT2rdvn2655RatXLky9XrmNCXXuwEAAACUz9VXJ8/GDA355VNasGCBPvaxj+kXfuEXdNJJJ+mSSy7R6Oho6vXMWWeudwMAAAAonxUrpAsu8PPYNBtPMzwsrVwpnXZaps2cd955Ou+88zI2cj4yNwDQBsuXL5eZJX4sX768200GAOAQM+mmm6RVq6RFi+Z3UatUpIUL/es33eSXLwCCGyTGxRqQ3BlnnKFqtZpo2Wq1qjPPPLPNLQIAIKXBQWnTJunee6ULLzwU5CxaJF10kXTffdLNN/vlCoLgBolxsQYkNzExoUrCgZgDAwOamJhoc4sAAMjAzHdRu/VW6fnnpf37/b+bN2fuitZOBDdIjIs1ILmRkRFdccUViW4ITE9Pa2RkhGwoAAA5EdwgsaQXa9VqVVdccYWOOeaYDrUMKIb6rps33HCD9u3b15J1kw0FAHRSrw5HILhBKkmyN2Rt0K/SdN2U/CzMAwMDiZblewUA6KReHY5AcIOm6qP2xYsXa2Zmpul7yNqgX6XpuilJhx12mNasWUM2FABQOJ0YjjA+Pq5XvOIVet3rXpf6vY0Q3KCptHeiubuMfpZmnE2lUtH4+LjWr19PNhQAUDidGI7wnve8R/fcc0/WJkYiuEFTae9EX3bZZdxdLohe7Svb65J+Z6rVqiYmJnTeeefFZkPDBQc4TgCATmn3cISzzz5bRxxxRKb3NkJwg6bS3IkeGBjQ+vXrO9AqJNGrfWV7XZLvTC1rc8wxx+iMM87QYML5ARodJwJZAEA7xP1NK2K3aYIbxEp6J3r//v1Ny9lyQdVZlO7unrh9X8va1JbNW1SAQBYA0C7N/qYV8fqB4Aax0mRvGuGCqvMo3d09jfZ97Y9DLWsTXjYue9PsOBHIAgDapdHftKJePxDcIJG0Y2/qcUHVHZTu7p6ofV+tVnX66afP299JsjfNjhOBLACgnaL+phX1+oHgBonE3Yluhguq7unFvrJlUb/vq9WqxsfH9cADD8zb33HZmyTHiUAWANAuUX/TWnH98M53vlNnnHGGvvOd72jJkiW68cYbc7fVnHO5V9IqY2NjbnJystvNQANTU1NaunTpnMpOQ0NDcs7pxRdfbPi+4eFh7dy5kwvoLok6bjVZj83y5cu1ffv2VjVRkrRs2TI9/PDDLV1nt4X3fdy+bsVxWrdunW688Ubt27dv3mvValVXXnmlrrvuumwfBgBQKo8++qhOOumkxMun+ZvWSlHtNLOHnHNjUcuTuUFije5Ej4+PFz4z0M/VpNrRVzbt/Edxyjomq7bvK5VK7L5ulL1Jc5x6bdAnAKB3pPmb1lXOucI8Tj31VIdi2717txsaGnKS3PDwsJuamprzXP2jtky3XXXVVa5arUa2sf5RrVbdunXrut3kloo6RnmOTbNjnuVRlPOkHXbv3u3OPvvsRJ+vFccp6lwv4zkNAMjnkUceSf2eNH/TWiWqnZImXYN4gswNUomK2nuhika/V5NqdV/ZpAPYK5VK7H4v0nnSDiMjI7r//vsTfb5WHKckgz77OZMJADjEpRyekuZvWiukbZ9EtzRkMDExobPOOmvOxVLRq2hQTWruMWrFsUkSMFar1dgSx0U6T4og73FKEiAxLw4AYGhoSM8880ymAKITnHN65plnNDQ0lOp9FBQogbSDu9s1cDs8mLnbg5ezDnjvheIHeY73unXrtGHDBq1du7YlxybJAHbnHIPcU8p7nOIGfTYrXlCvF74TAID0ZmdntWvXrkR/C7plaGhIS5YsmXejtFlBgQUdaRna6owzztAjjzwSefFYL+1d2LQX0mYmqft349Psk5peydrkOd4TExPasWNHy47NxMSEPvnJT0a+tm/fPl1//fVN379v3z7df//9LWlLmeQ9TrXszYYNGyLP6drrjYLOml75TgAA0hscHNTxxx/f7Wa0XqPBON14UFAgmzSDu1sxOLnRo1qtutHRUVepVLo+eDnLgPf6fbNs2bKWDZivPZYtW9bRz9aJgfppzpH6RxHOlbKKG/TZqqIQrTinAQBIQxQUKLd2jidJOxB/48aN88bjdEPSfVKTd1xC0m20YuxC0cYPpTlH6lWr1a6fK8308sD7uEGfab8jURiPAwAonEZRTzceZG6yS3IXNutd/CR35otYajZvhqPV5Y6TPpYtW9aSrFEnyyuHz5FaBi/unOmFrE3ZS4jnPcfLXMIbAFBcInNTfnF3YfPcxU9yZ77bY2yi5M1wtLLccVK1O+F5s0adHitRX+Fr48aNiSqpFe2cqVf2EuKNznFKeAMAelajqKcbDzI3+bQi05Dl/UW+Y503o5Xk/UNDQ+6www5rSdYmycSoadbTSVddddWcbEyzrEcvZG1qejVzmVTUuTY0NNS2TDAAAHmJzE251cYFLF68OFc5v2q1qte85jWpMwZFvmPdbILR0dHROZORpnl/eD3j4+MaHx9vuszo6GiqDFKerFG37qjXz3/ULOvRC1mbml7NXCYVNS/O+Ph42zLBAAC0VaOopxsPMjfZ5KlWpbo7sdu3b0+VMeiFO9Z5siDLli1r+v4kmZak+7X+TnjWrFFtPWnH7TSrepV1XVHnZtHOmbzjm4r2ebIIn2tJz2myNgCAbhGZm3LLU62qpnYn9pRTTklVQakX7lhnrQpVG//SLPsTl2lJul+j7oRnyRqF19PKWeizrivq3CzaOZN3fFPRPk8WtXMtnMlMct4DAFA4jaKebjzI3GSXN3sTvhObNNPRS3es8857E/X+JJmWpPu10Z3wtFmjLMex2faz7L/6ddVXUivaOZMns1fEz5NV1Lw4Sc57AAA6TWRuyi/vXCNXXHGF3va2t6UauzM7O9szd6zDd6bTjn8Jvz8qQ1K/jUbLZLkTniZrVD9+qJXz4eRZV30ltaKdM0k/2+DgoAYGBuY8V8TPk1XUvDhJznsAAAqlUdTTjQeZm3yaZW8GBwfdwMBA0zvtabM/o6Oj3f7IqdTuTGcZ/1J7f1SGJM0yWe6EJ80aRc1G38r5j/Ksq76SWtEk/WyXX355obNQ7ZDkvA9r5VgvtE+W48SxBVAUapK56XpAE34Q3OQT14UpfGFWe4Qv0NJ0z6lUKu6b3/xmlz9xds0CuWYXrUku0uOWydJNK0/XrqyftZXrahR8dUOWAgK1z5b2Qr8sos7pVkw02y8BYje18jiVfVJbAL2D4KaPNKtOlSQDUPY5PWqyVoJKcpEet0yWC+Q8F9VpPmueC6FeudjPMj4t/NmKnoVqh6hzuhVVGnvlnOllrTxOrRzHBwB5ENz0kbgAJi4D0MpuTEXXzTLFWS6Q81xUJ/2srSor3uhRhG4qaQsI1O+nImWhuinvRLNluEnSC1p9nPrlBhiAYiO46TPNApgkGYBWdmMqsm5WgspygZznojrpZ817IdQrFzxpgriyBPPtkCcYZr92TiuPUz/dAANQXAQ3fSYugInLAJRl8r4sXayKcvHdDknH7SS5EKpUKq5SqfTsxWwZy513Q9ZgmP3aWa0+Tv1yAwxAcRHc9KFmAUySDEDRZpZvxaDYuMfAwEBhLr7bIem4nSQXQkNDQ+6www47uN96sZtKkiCuSAFZN7Tre9fv+7Ub8o41CyvLDTAAvatZcJN7nhszGzKzbWb2TTPbYWZ/EDx/vJltNbPHzGyzmWWfAhypTUxM6KyzzoqcgyNqPouo9xdpZvm8s8gnsWbNmlLP39FoPpxGyzXa39VqVePj4xofH1elUtGaNWti51ianZ3V9ddfLzNL9Fi+fHnuzxun2dxQAwMDMrO+n9Ml7/duYGBAg4ODc55jrpzuiDvf0xynLHN2AUDHNIp6kj4kmaSXBP8flLRV0umSbpW0Onj+45KuilsXmZtiKdLM8u0cCzI4OOhGRkb64m5j0nE7Se7MhtcV101ldHS0kCVkG2UoL7/8cooGuHzfu9p+7Na4NszX7Hxvx/xbANAu6lS3NEkLJf2TpDdIelrSguD5MyR9Me79BDfFUrQ5PdpVyasIn63dsky+l6ZrYlwwlGTi1G4cDy7Q4iX53kVNEhw1OXC3b5L0u2bne6fn3wKAPNoe3EgakLRd0vOS/lTSUZIeD71+rKRvNXjveyVNSpp81ate1Yn9gRSKNKdH1rvIAwMDbnBwsOtZgm7KMvle2gv/uGCoqCVkuUBrLml1rPAkwY0mByZw7L5G53vS45TlRgkAtFrbgxt3KFB5maSvSfovEcHNv8S9n8xN8RRtTo+02ZtGXS767S591sn30lz4xwVDRS0hy8V3vCTVsZrtxyLdJOl3eY9TlhslANBqHQtu/Lb0e5L+h+iWhjZIm72J6nLRr394s2RO0l74xwVDreha2I47wVx8z5X27vzo6KhzrvF+LNpNkn6X5zhlvVECAK3U1uBG0tGSXhb8f1jS30l6u6TPam5BgXVx6yK4QRJRF8hR86406nLRr394s2ZO0lz4xwVDRZ3VnovvudIEoeFzg/3YG/Iep6J2MQXQP9od3Lxe0sOS/lnStyT9bvD8UknbJD0eBDqHxa2L4AZJRF0gh+ddaXShztiKbJPvpb0QiguGyjarfRnHIKQJQoeGhgp3TNBeRe1iCqB/NAtucs9z45z7Z+fccufc651zr3PO/WHw/E7n3Arn3AnOuYudcy/m3RYgzZ9jITzvSvi5+vkWwvM8dHPOnm6Km+si67xI9dtoNMdSozYMDAzEzqdS1Dk00swFU61WdeaZZ7a5RfnFzXVUU6lUND4+XrhjgmSWL1+eeO6p8PxTSebCKuJ3FUCfaBT1dONB5gZJRXV/SjI+hLEV8VXNOt2GuKIPKvid4LKOQUjyucja9LY8xQGSzIUFAO2iduPaeL4AACAASURBVGZugG6o3TmsVCoH7xBGPVcvLqvQDxplTjq5T+qzaNdcc03P3glOmuUo8meIEve5yNr0vmaZ3Hr1vyManR+9dp4DKKFGUU83HmRukEbUWBAGNCdThPFH9Vm0Xr4TXNYxCM0+F1mbcshTHIBCLQC6RWRuUEZRY0HSjg/pV0UYf1SfReulO8H1YxUWL16smZmZpu8p2mdIotkxIWtTDkmyN/W/I2rnf9R5Pz09rZGRkcixOgDQCQQ3QB9K0oWvE22oD0SL0GUuiTRFBGquv/76hgO0i6xXjgmyyVIcoIxFNACUB8EN0KeKOP4oqhJeETMeacYqNNIrF329ckyQ3cTEhGZnZyNf27dv37zA/IYbbmi4fD0CYQCdZr7bWjGMjY25ycnJbjcDQBdNTU1p6dKlmpmZ0fDwsHbu3FnIC+l169bpxhtv1L59+zK9v8ifrV6vHBNk97rXvU47duxItGy1WtWJJ56oxx57rOn5X61WdeWVV+q6665rVTMBQJJkZg8558aiXiNzA6BQitBlLok82Ztey370yjFBdp/5zGcSLzswMKCNGzfGnv9RWZ9e6pIJoDcR3AAonCJ2mauXtAR0lF7sqtMLxwTZLVu2TKOjo7HL1QLzU045JfP53ytdMgH0JrqlAUBG4e5aSdFVB0W1ffv22IxKuFtilvO/fh0AkAXd0gCgDRplbwYHBxu+p11Zm/ry1HEPugWhXpLsTbjUc5IS6PWSdMnkXAaQB8ENAOQQNfZmwYIFuvzyyzs6Zw/ledEKn/nMZ3JXAmwmSXDPuQwgD4IbAMihUank9evXd3R+mDQFDnpxzA86Y9myZXrf+96XaSxNjZlFPp80uE9zLjcqWkA2B+hfBDcAkFP4YqwWOLR7fpj6rjtJuwj1WqU2dF6jiVuTBDwDAwM67LDDGr6WJKjOU6xDIpsD9DuCGwDIqVGp5Kigp1XSdN0JI2uDOFGB+Zo1axJlUy677LLIwCRtUJ2n1Hr4HGf8DtB/CG4AoAWiSiW3c36YLBd/ZG2QVH1gfs011zTNplSrVY2MjGj9+vUNMz9pguqs2Zv6c5zxO0D/oRQ0ALTR1NSUVq9erc2bN7c8qFi3bp1uvPHGprPEh1GCF2msW7dOGzZs0Nq1a3Xdddc1Lf1cf26Fz82s5c+zlJqub0eadfD9AHoHpaABoEtGRkZ0//33t+WCKU32hqwN0qrPRjbKpkSdW63okpk2exPVjqTr4PsBlAeZGwDoYUmzN9yVRitEZUIanVv1mZ9Wba+RRu1Isg6+H0BvIXMDACWVJHvDXWm0SpoqgFHj0FqxvdHR0VQFC+KyN3w/UHb9VliD4AYAuqBVf2yadRUaGBiQRIU0tFbSLmet6pJZv72NGzemLljQ7CYA3w+UXb8V1iC4AYAuaOUfm0bVqWrle7krjVZqZxXAJNs75ZRTUs8hlWa8EFA2fTfJs3OuMI9TTz3VAUA/2L17txsaGnKSYh/Dw8Nuamqq6fquuuoqV61WnSRXrVbdunXr3O7du93ZZ58d+14grU6fW/XbS/P9CT/MLPV3qxuWLVuW6nMtW7as201GwYX/RjR61P529AJJk65BPEHmBgBaKGl3s8WLFycaJJ30znJUV6F2VmpDf+v0uVW/vVomRlKqioEnn3xyqoxPVnm7nfZbNyJkl/Rcu+GGG2ILz5QiayO6pQFAS6W9KKmNi2kk6R+bTncVArptYmJCp59+ugYHBxMtXz9ep50XcnmDk77rRoTM0pxrlUql4XlVpi6aBDcA0EJpL0pe+tKXNl1menpaIyMjiarYtKI6FdArRkZG9MADD2h8fDzxPDa18TrtvgmQ5vfAvn37dP3117c1s4vySjvfWaPvSpmCZIIbAMigUVeAtBclF1xwQeJtxnU/oRsa+kH9dy9td5tO3ARIOwFpVrOzs/MCozKX+MV8aSaqHR8f74vCGkziCQAZJJ08s5HapIHOOR177LHav39/4veU5Q8QkEXa716lUsk1kWhWaSYgzaJarerEE0/UY489lmhfVKtVXXnllR3fD2i/Vp1ry5Yt08MPP9yiVrUXk3gCQIul6QpQL3yXbGRkRO9617tSvQfoZ2m/e9VqNTJL0+6JDZNMHho1IWlS+/bt044dOxIHeWXqdoS5WpEpLFNhCoIbAMggzx+T+ouMa665pmWFBYCyS/Pdq1QqGh8fj7wp0ImKZHGTh0ZNSNoO3Bwpr1qQnqR7ZjNl+htDcAMAGWXJ3kRdZMRlb7gwAeZK+t1rlLVJsw4p+4Vf3OSh9ROStkuZLlwxV5ogvZGy/Y0huAGAjJJ0O6nPyDS6yGiWveHCBJgrSfamWdYm6Tqk/Bd+UUFUfYGDZtmdJO1r1r2tbBeumCtPF+masv2NIbgBgBziLkzWrFmTaNLAWvbGzOY8z4UJEC3uoq5Z1ibpOqT8F371QVT9d7pZdmfNmjWJ2tese1vZLlwxV97xNqX8G+OcK8zj1FNPdQDQa6666ipXrVadpIOParXq1q1b53bv3u2GhoacJDc8POympqYarie8bO0R9x6gn0V99yqVipPk1q1bl3kd9d/jvOJ+DzT77idtX7PfQ+i8ZcuWRR6zPI9ly5ZFbivq/En66NW/MZImXYN4gswNAOTUrNtJ7a5akkkD4+7wApgr6rtXrVZ1+umnJ85WxGVfW5H1iPs90Oy7n7R9cd3f0FmtGAsT1qyoRdbKfKX9G9Mo6unGg8wNgF4Vvmtaf7d09+7d7uyzz050dyxNpgdA8+9elnXUHq3OesT9Hmj23U/avlbsC7RGnmxK1CNL5j/83u3bt5eqZ4CaZG66HtCEHwQ3AHpVK4OSq666ylUqFS5MgARa8d0rSpfQRt/9pO3j5khntaLrWaVSOdiVstEjaaAaFwSXKfhtFtzQLQ0AWiBN97M4ExMTOuuss+hOAiTQiu9eUbqENvruJ21fK38PIV6ryjDHrSNp98I0lflK3WWxUdTTjQeZGwC9LE33MwCt04rvXtGzHknbx++h+dJmWBoN3K+Xt+tZLXvSyqIWcdmZsvQMUJPMjfnXi2FsbMxNTk52uxkAAKAPrVu3Ths2bNDatWt13XXXdbs58xS9fd20fPlybd++Pfd6qtWqrrzyysT7d926dbrxxhu1b9++1NsaHh7Wzp075ZzT0qVLNTMz03CZpFm4qampg+uKeu/U1JRWr16tzZs393Rmz8wecs6NRb1GtzQAAAAVv0to0duX1/Lly2VmiR/Lly8/+N5WVSdL210r6VxJg4ODc54Ldy1sNtdR2u6FSSrz3X///T0d2MQhcwMAAICuS5MFqc+whDMWWaXN2tQ0a3e1WtWiRYv0ox/9KHV70mZtasqSnWmGzA0AAAAKLUkWpKY+wxI310uWdSYVNxfRypUrE3+umjxFLfohO9MMwQ0AAAC6LmmA0ujCP01wlHSdSYyMjGjRokWRr01PT+vTn/60Dhw4kGqdpa5m1mYENwAAACiEpGNYoi7844KjwcFBDQwMpFpnUueff37m99ZUq1WNjo5SyjsnghsAAAAUQlyAEpdhaRYcLViwQGvWrMk8cL9ZwYObbropwadrbmBgQBs3bix10YhOILgBAABAYcSNYWl24R9XeWz9+vVNJ7psplUV2aLU2nfKKaf09XiZViC4AQAAQGHkLY0cFRzVApj6dacZa5NnTE8cxti0DsENAAAACqVZgBInLoAJrztNUJG3IlttTE0r5rNBYwQ3AAAAKJQ8GRapeQATN9Fl0vWmVRtTkzVoQzIENwAAACicrBkWKT6AmZiYyDRwP0nBg2bZmVNOOSVX0IZ45pzrdhsOGhsbc5OTk91uBgAAAApg3bp12rBhg9auXavrrrsu1Xunpqa0evVqbd68uaXBw9TUlJYuXaqZmZl5rw0PD+uBBx7Q6aefPuf14eFh7dy5U8ccc8yc94efR3Jm9pBzbizqNTI3AAAAKKSsGRbJZ1naUXksruBBXHYmT7c4xCNzAwAAAKQQlb1Jk51pV1apX5C5AQAAAFokruBBXHamXVklkLkBAAAAUiM70z1kbgAAAIAWIjtTTAu63QAAAACgF01MTGjHjh3MU1MguTM3ZnasmX3NzB41sx1m9mvB80eY2ZfN7LHg35fnby4AAABQDGRniqcV3dJ+Iulq59xJkk6X9H4zO1nShyR91Tl3oqSvBj8DAAAAQFvkDm6cc1POuX8K/v9jSY9KeqWkVZI+HSz2aUnvyLstAAAAAGikpQUFzOw4ScslbZX00865KckHQJJe0eA97zWzSTOb3LNnTyubAwAAAKCPtCy4MbOXSLpN0q87555L+j7n3Cecc2POubGjjz66Vc0BAADoScuXL5eZJX4sX768200GCqMlwY2ZDcoHNhudc7cHT3/fzEaC10ck/aAV2wIAACizM8444+DkkHGq1arOPPPMNrcI6B2tqJZmkm6U9Khz7n+FXrpD0uXB/y+XtCXvtgAAAMpuYmJClUqyS7SBgQHKEAMhrcjcvFHSZZLOMbPtweM8SddIeouZPSbpLcHPAAAAaKI2OWRc9qZarUZOHgn0M3POdbsNB42NjbnJycluNwMAAKBlli9fru3btydeftmyZbr77ru1dOlSzczMNFxueHhYO3fuJLhB3zGzh5xzY1GvtbRaGgAAAObKMoYmLntD1gaIRuYGAACgjaampmKzMDXhbEyz95G1QT8jcwMAANAlScfQSNL09LRGRkZkZlq8eHFkYBPO2vRq2ehebTeKj+AGAACgzdJUQIsTrpDWq2Wje7XdKD6CGwAAgDZLk71ppn6sTa+Wje7VdqP4CG4AAAA6IGv2ZnBwUAMDA5LmX+j3atnoXm03io/gBgAAoAOyZm8WLFigNWvWqFKpRF7oJwmaipj96NV2o9gIbgAAADok6oJ+YGBAg4ODkcvXMhfr16/XWWedFXmhnyRoChcqKMrg/bztpsgAohDcAAAAtEl9VbCoCmj79+/X7Oxs5PsHBgZ0//33a/Hixfr617/e8EL/hhtu0L59+xquo6iD97N21aPIABohuAEAAGiTNFXB6tWyNmeffXauddS6tCWRthtY2pLO9Y9G5a5b3U70D4IbAACANslTArp2AZ93Hddcc03bBu/nCd6yosgAmiG4AQAAaJM0VcFGR0cPLhe+gM9TRro2ZqVZt7WaLNmQVs7fkxRZGzRDcAMAANBGSauCbdy48eBy9RfwSdfRqDBBnKzZkKSBV6VSSdU1rtH6yNogDsENAABAG8UFALUL9lNOOUVXXHFFZMnnJOtYs2bNwflw0sqTDUkSeFWr1cSB1/79+xtmmWZnZ8naoCmCGwAAgDZrFgCEA4uJiYmGJZ/j1pF0bE29vNmQJIHX+Pi4xsfHc4/POfnkk8naoCmCGwAAgDZrFADUBxYjIyO6//77Iy/gk6wjyxiYVoxhSRK8tWJ8zqZNm3K9H+VHcAMAANABjSbwTBNYxK0jSRalUeGCPJIEXo2WSToeZ3R0VK9//etztRPlR3ADAADQAfUX91kCiyTriMuiNCtckEeS4C1qmWq1mqi7GlkbJEFwAwAA0CHhi/usgUXcOuKyKM0KF+SRJPCKWmZ8fDx2rBBZGyRlzrlut+GgsbExNzk52e1mAAAAtM26deu0YcMGrV27Vtddd11b1jE1NaWlS5dqZmbm4HPDw8PauXOnjjnmGE1NTWn16tXavHlzSwfoh7cb3l7cMs65ee2tqVQqevjhhwlucJCZPeScG4t6jcwNAABABzWriNaqdcRlUZoVLsijtt1mWaGoZZplm9auXUtgg8TI3AAAAJRQkixKu7YblxWKWiYu2wTUkLkBAADoM0myKO3ablxWKGqZVhRcAMjcAAAAlFS7xta0S7eyTegtZG4AAAD6ULvG1rRLt7JNKI8F3W4AAAAAUDMxMaEdO3a0bP4d9BeCGwAAABRGLdsEZEG3NAAAAAClQHADAAAAoBQIbgAAAACUAsENAAAAgFIguAEAAABQCgQ3AAAAAEqB4AYAAABAKRDcAAAAACgFghsAAAAApUBwAwAAAKAUCG4AAAAAlALBDQAAAIBSILgBAAAAUAoENwAAAABKgeAGAAAAQCkQ3AAAAAAoBYIbAAAAAKVAcAMAAACgFAhuAAAAAJQCwQ0AAACAUiC4AQAAAFAKBDcAAAAASoHgBgAAAEApENwAAAAAKAWCGwAAAAClQHADAAAAoBQIbgAAAACUAsENAAAAgFIguAEAAABQCgQ3AAAAAEqB4AYAAABAKbQkuDGzvzKzH5jZt0LPHWFmXzazx4J/X96KbQEAAABAlFZlbj4l6a11z31I0ledcydK+mrwMwAAAAC0RUuCG+fc1yX9sO7pVZI+Hfz/05Le0YptAQAAAECUdo65+Wnn3JQkBf++ImohM3uvmU2a2eSePXva2BwAAAAAZdb1ggLOuU8458acc2NHH310t5sDAAAAoEe1M7j5vpmNSFLw7w/auC0AAAAAfa6dwc0dki4P/n+5pC1t3BYAAACAPteqUtA3S3pA0mvNbJeZ/bKkayS9xcwek/SW4GcAAAAAaIsFrViJc+6dDV46txXrBwAAAIA4XS8oAAAAAACtQHADAAAAoBQIbgAAAACUAsENAAAAgFIguAEAAABQCgQ3AAAAAEqB4AYAAABAKRDcAAAAACgFghsAAAAApUBwAwAAAKAUCG4AAAAAlALBDQAAAIBSILgBAAAAUAoENwAAAABKgeAGAAAAQCkQ3AAAAAAoBYIbAAAAAKVAcAMAAACgFAhuAAAAAJQCwQ0AAACAUiC4AQAAAFAKBDcAAAAASoHgBgAAAEApENwAAAAAKAWCGwAAAAClQHADAAAAoBQIbgAAAACUAsENAAAAgFIguAEAAABQCgQ3AAAAAEqB4AYAAABAKRDcAAAAACgFghsAAAAApUBwAwAAAKAUCG4AAAAAlALBDQAAAIBSILgBAAAAUAoENwAAAABKgeAGAAAAQCkQ3AAAAAAoBYIbAAAAAKVAcAMAAACgFAhuAAAAAJQCwQ0AAACAUiC4AQAAAFAKBDcAAAAASoHgBgAAAEApENwAAAAAKAWCGwAAAAClQHADAAAAoBQIbgAAAACUAsENAAAAgFIguAEAAABQCgQ3AAAAAEqB4AYAAABAKRDcAAAAACgFghsAAAAApUBwAwAAAKAU2h7cmNlbzew7Zva4mX2o3dsDAAAA0J/aGtyY2YCk6yS9TdLJkt5pZie3c5sAAAAA+lO7MzcrJD3unNvpnNsn6RZJq9q8TQAAAAB9qN3BzSslPRn6eVfw3EFm9l4zmzSzyT179rS5OQAAAADKqt3BjUU85+b84NwnnHNjzrmxo48+us3NAQAAAFBW7Q5udkk6NvTzEkm727xNAAAAAH2o3cHNg5JONLPjzawqabWkO9q8TQAAAAB9aEE7V+6c+4mZ/TdJX5Q0IOmvnHM72rlNAAAAAP2prcGNJDnn7pZ0d7u3AwAAAKC/tX0STwAAAADoBIIbAAAAAKVAcAMAAACgFAhuAAAAAJQCwQ0AAACAUiC4AQAAAFAKBDcAAAAASoHgBgAAAEApENwAAAAAKAWCGwAAAAClQHADAAAAoBQIbgAAAACUAsENAAAAgFIguAEAAABQCgQ3AAAAAEqB4AYAAABAKRDcAAAAACgFghsAAAAApUBwAwAAAKAUCG4AAAAAlALBDQAAAIBSILgBAAAAUAoENwAAAABKgeAGAAAAQCkQ3AAAAAAoBYIbAAAAAKVAcAMAAACgFAhuAAAAAJQCwQ0AAACAUiC4AQAAAFAKBDcAAAAASoHgBgAAAEApENwAAAAAKAWCGwAAAAClQHADAAAAoBQIbgAAAACUAsENAAAAgFIguAEAAABQCgQ3AAAAAEqB4AYAAABAKRDcAAAAACgFghsAAAAApUBwAwAAAKAUCG4AAAAAlALBDQAAAIBSILgBAAAAUAoENwAAAABKgeAGAAAAQCkQ3AAAAAAoBYIbAAAAAKVAcAMAAACgFAhuAAAAAJQCwQ0AAACAUiC4AQAAAFAKBDcAAAAASoHgBgAAAEApENwAAAAAKAWCGwAAAAClkCu4MbOLzWyHmR0ws7G61z5sZo+b2XfM7BfyNRMAAAAAmluQ8/3fkvSLkjaEnzSzkyWtljQqabGkr5jZzzjn9ufcHgAAAABEypW5cc496pz7TsRLqyTd4px70Tn3hKTHJa3Isy0AAAAAaKZdY25eKenJ0M+7gufmMbP3mtmkmU3u2bOnTc0BAAAAUHax3dLM7CuSjol46Xecc1savS3iORe1oHPuE5I+IUljY2ORywAAAABAnNjgxjn35gzr3SXp2NDPSyTtzrAeAAAAAEikXd3S7pC02swOM7PjJZ0oaVubtgUAAAAAuUtB/1cz2yXpDEl3mdkXJck5t0PSrZIekXSPpPdTKQ0AAABAO+UqBe2c+5ykzzV47Y8l/XGe9QMAAABAUu3qlgYAAAAAHUVwAwAAAKAUCG4AAAAAlALBDQAAAIBSILgBAAAAUAoENwAAAABKgeAGAAAAQCkQ3AAAAAAoBYIbAAAAAKVAcAMAAACgFAhuAAAAAJQCwQ0AAACAUiC4AQAAAFAKBDcAAAAASoHgBgAAAEApENwAAAAAKAWCGwAAAAClQHADAAAAoBQIbgAUn3PS1q3SxRdLixZJlYr/95JLpG3b/OsAAKDvEdwAKLbZWenSS6VzzpFuv13au9cHM3v3Srfd5p+/9FK/HAAA6GsENwCKpT5LU61Kt9zig5kDB+Yue+CA9MIL0pYt0rvfTQYHAIA+t6DbDQCAg2ZnfZByxx3SzMz8YKaR6WnpzjulBx+UVqxobxsBAEBhkbkBUAzOHQpsorI0caanpWuvbU/bAABATyC4AVAM27b57Mvevdnef+CAdNddrW0TAADoKQQ3AIrh2mt99iWPvO8HAAA9jeAGQDHcdVf6rmj1hodb0xYAANCTCG4AFEPerEulIp1/fmvaAgAAehLBDYBiyJt1GRqSrr463zqSThbKpKIAABQSwQ2AYjj/fB8kZDE8LF1wge/WljXgSDpZ6N69TCoKAEBBmSvQHcaxsTE3OTnZ7WYA6IatW6Vzz/WTciZVqfiMzdvfLpn5amv18+NUKoeCn5tukgYH56/HOR+Q1MpQNzI0JL3iFdLTTzdfbnhYWrVK2rTJtwsAALSMmT3knBuLeo3MDRCHLkidsWKFD0CSdk9buFC66CLpa1/zx6RWRrq+KMGBAz5g2rLFz6MTdbySlqGemZH+/d/jlwtPKgoAADqG4AZoJmlXJbog5WfmMyurVh0KIsMqFR/QrF4t7dvnA5bNm/3xSBKYNAs4WlGGOmp7TCoKAEBHEdwAjTjn7/TXuiplyQggncFB35Xr3nulCy+cmym76CLpvvukm2+e27UsTWDSKOBoRRnqekwqCgBAxzHmBmgkzRiQRYv8BfmKFe1vF+ZatCg+a1O//PPPH/rZueyFDOJUKtL+/e1ZNwAAfYoxN0AWrcgIoP3SdicLL1/rdtguTCoKAEBHEdwAjaTpqkQXpO5JG0DUlg93O2wHJhUFAKDjCG6ARvJkBNA5aefHOe88/2/SCmlZtWJSUQAAkArBDdBI2ozAgQOUiO6Gq69Od6yefdYfmywV0oaGpFe9Kn57w8PSypXSaaelWz8AAMiF4AZoJG1GQKJEdDesWCGdeWby5b/xDV8OOkuFtHe8Q3r00fhy1atW+bLWTOAJAEBHEdwAjaTNCNRQIrqzzKSXvjT58jMz2bI2Zr4M9cKF6ctVAwCAjqAUNNCIcz77smVL9vE0lIjujCzloGuTsaZ5T7iENAAA6ApKQQM1zvn5ay6+eO4d96hxMma+a1GjLkhJUCK6M7IUf0jT7ZDKZwAA9ASCG/SP2pwm55wj3X67v2tfu3vfaJzM4OD8LkhppC0RnSb4wiFZij8884xUrSZbPmnlM44fAABdRbc09IdaF7M77mjeFWl42GdqNm1qPBi8Ukl3kZp0lvrZ2UPzrszMzB3sXqn4tl1wgc8mMZ5jrksu8QFqmgIBlcqhY9zs+CQ5JySOHwAAHUK3NCDpnCbT0365Bx9svEzWSSObCU8ouXfv/It0ihQ0l6X4w4EDPqhpFNikqXzG8QMAoBAIbtAf0lTH2rt3fhWscLeidozVaGXw1Y9WrPBZkSzV7aIMDPhzIGnlM44fAACFQHCD/pBmThPnpF27Go/J+bVfS34RfeCAv5sfN+YiTfBFkYL5WlH8Iaxa9QHOWGTGez6OHwAAhcCYG/SHtONkGqmNv3DOBy1JL2jjxlxkKWVMWeL5nPNZkY9+VPrsZ/OtK00Zb44fAAAdw5gboFXdlWrdij7wgXRZgrgxF1lKGWM+Mx+M3Hpr8zEySaTJsKQJbGrrBgAALUdwg/6QZpxMnOlp6c//fG6J6KGh5O+NGnPRjiIF/S7vPkpaxts534UtDY4fAABtQXCD/pClmlYjBw74zMDAgPRzP+efe+MbkwdPURkBJpRsvVYEtEkyLNu2pVunGccPAIA2IbhBf2h1NS1pbrGBr341ecGCqIxAmuAr6YSS/a4VAW2S9197bfr5dTh+AAC0BcEN+kOrq2mFpbmwrXnhhbllpqVkwdfwsLRypXTaaem32W/yBrTNMmTOSVu3Shdf7AsXpC1WwfEDAKAtCG7QPwYH546TCc9js2RJ/gHoaYUzP+ee64OklSujg680E0rCyxvQNsqQzc76kuDnnCPdfnv6djnH8QMAoE0IbtBfwtW0nn/ez07//PPS3/yNDx66oVZJ7c47/c9f/er84Ouii5JPKIlD6gPapMe4UYbMOV/t7o47fGCaJWtHMQEAANqG4AaQ2jMmJ63paelv/9YHYPXB1+bNdGXKKhzQvvCCtG+ftHp1tgzZtm0+CE1b+jm8fooJAADQNgQ3gNTeMTlpMHt9+zXrnhiXIbv2cfCs6QAAIABJREFU2nxz1FAMAgCAtjKXY9Z2M/szSRdI2ifpXyVd4Zx7Nnjtw5J+WdJ+SR9wzn0xbn1jY2NucnIyc3uA3MIz3N99t7+QzdL1KA9mry+uRYuyZ22Gh33wvGkTY24AAMjBzB5yzo1FvZb39vSXJb3OOfd6Sd+V9OFggydLWi1pVNJbJV1vZilnuQO6IGpMzsUXdzaTw+z1xZXl2FAMAgCAjsl1xeac+5Jz7ifBj/8oaUnw/1WSbnHOveice0LS45JW5NkWkEu4dG+4G9Ill/hxFM0ymK2cADQJBpwXV5ZjQzEIAAA6ppW3o8clfSH4/yslPRl6bVfw3Dxm9l4zmzSzyT179rSwOUCgvnTv3r1zyzCfc45/fXY2+v2dLDbAgPNiO//85Fm8SsUHzxSDAACgY2L/SpvZV8zsWxGPVaFlfkfSTyRtrD0VsarIW+POuU8458acc2NHH310ls8ANBZXurdWhnnLFr9cVAank8UGGHBebGmyeBxLAAA6LvYqzTn3Zufc6yIeWyTJzC6X9HZJ73KHqhPsknRsaDVLJO1udeOBWElL905P++UefDD69UYVtoaGpIEWDSdrNLcKiiNpFo9jCQBAV+S6BW1mb5X0W5JWOufCV493SFptZoeZ2fGSTpS0Lc+2gEzSlO6NK8McVWxg714/jifuYndoSHrVq3xQ1GhA+VFHSb/6q8naiu6Iy+JRPAAAgK7K27/mY5IOl/RlM9tuZh+XJOfcDkm3SnpE0j2S3u+c259zW0B6d92VvJTzgQN++TSSXuy+4x3SY49JX/qStGRJ9Lqeekr6+Z9vPv4H3ZdnnhwAANBWuea5aTXmuUHLVSrNK6FFLb8/QxweNT/O8LAfgP7BD/ruSc75wKU2/qdZG8x8sFW/DjIBAACgzzWb54bgBuXlnL97niZYaecEmlu3Suee6wsYpFGp+CDnggt8loiMAAAA6GPtnMQTKK5tKYd5mbW3DHOa8T9hSSq6AQAAgOAGJXbttcnH20g+Q9LO0r1pxv9EiavoBgAA0OcIblBed92VPsvRztK9WbI2UetoVtENAACgjxHcoLzSBhMHDrR3wH7SyR+byVLRDQAAoE8Q3KC80gYTCxe2px01558/v1R0Fq3IAAEAAJQQwQ3KK00wUam0t5iA5MfztCJ704p1AAAAlBDBDcorTTAxNNTeYgKStGKFL+ecJzjpRBAGAADQowhuUF5Jg4nhYWnlyvYWE5D8eJ6bbpJWrTo0q31anQjCAAAAehTBDcorLpioVPw4m1Wr/HLtLCZQMzgobdok3XuvdOGFvl1m0sCAfzTTqSAMAACgRxHcoNyigolKxf970UXSffdJN9/sl+sUM59VuvVW6fnnfQW06Wnp4ouLE4QBAAD0IIKbMnNO2rp17kXzokXSJZdI27b1z0z39cHE/v3+382bi5MFKWIQBgAA0GPMFegCd2xszE1OTna7GeUwOyu9+93SHXdIMzM+O1BTqfguThdc4DMB/XrB7JwP8j76Uenuu332ZHjYD9j/4Ad94EOWBAAAoFDM7CHn3FjUa2Ruysi5Q4HN3r1zAxvJ//zCC9KWLX65AgW4HTM7K116qXTOOdLtt/v95Jz/97bb/POXXuqXAwAAQE8guCmjbdukO+/0F+rNTE/75R58sD3tKGq3OII/AACAUiK4KaNrr00+i/30tF8+r/pAxsx3d3vjG30mpEiZkaIEfwAAAGgpgpsyuuuu+dmIRg4c8MvnEdXFS/ID9/fvn5/56HZmpBvBHwAAANqO4KaMkl64Z10+LK6LV9x2u5EZ6XTwBwAAgI4guCmj4eF0yx840HgsTNy4ma1bk3XxaqQbmZFOBn8AAADoGEpBl9Ell/hxLWmyKNL8EtFSfDnpI46Qnnoq/bbCFi3y8850yqJF6YKxTrcPAAAADVEKut9cfXX67I00fyzMZZfFVxR78sl8gY3U+czI+ef74CyJSsUvDwAAgMIjuCmjFSt89iVLgCP5YOPzn/dBTtbuZmlkbWdWaYK/oSG/PAAAAAqP4KaMzHy3slWrDo2TSWtmxj/arRuZkaTB3/CwtHKldNppnWkXAAAAciG4KavBQWnTJunee6ULL/RBThF1IzMSF/xVKtLChf71m27yywMAAKDwCG7KzMxnKW691Q+IL9pFejczI1HBX60S3EUXSffdJ918s18OAAAAPWFBtxuADnDOl22uVPykmt1WqfiMzcqV3c2MhIM/AAAA9DwyN2U3Oytdeql0zjntC2zMpGOPje7iZeafGxggMwIAAIC2InNTZs4dmqemnVXPhoelz37WBzIf/ah0992+4trwsC8W8MEPMigfAAAAbUdwU2bbtkl33tn+wGblSt+9y4wuXgAAAOgagpsyu/ba9k2QWZRxMwAAAECAMTdldtdd0oEDrV8v42YAAABQQGRuyqzVWZtKxQc1mze3dr0AAABAC5C56SXOSVu3ShdfPHdelksu8eNrnJu7/PBwa7ffjQk3AQAAgIQIbnpFuKTz7bf7IgHO+X9vu80/f+mlfrma88+fX5o5q25OuAkAAAAkQHDTC+pLOtePozlwQHrhBWnLFr9cLYNz9dXJszcDAz4zUx8MVSrSwoXSqlUUDgAAAEChEdz0gqQlnaen/XIPPuh/Xr5cOvLI+PUPDx8qEHDhhXO7vFE4AAAAAD2CggK9IE1J5+lpv/wtt0iXXy7t2RP/nqOP9lmZapV5agAAANCzyNz0gjQlnQ8c8MvXsj1JgqJnnpG2b8/XRgAAAKDLCG46JW2ls7C0JZ1r2Zu02R4AAACghxHc5JUkaMlS6SwsbUnn4eFs2R4AAACghxHc5JE0aFmzJn2ls7A0JZ0rFb98lmwPAAAA0MMIbrJKWp75c5/zgU7aSmdhaUo61ybazJLtAQAASCpPl3ugTQhuskpanvnFF6X9+5Ots9HYlxUrpAsuiA9AwhNtZsn2AAAAJJG3yz3QJgQ3WaUZsJ9Uo7EvZr5U86pVh+6MhEVNtJkl2wMAABAn6+TiQAcQ3CQRlXb97GeTD9hPo1HANDgobdok3Xtvsok2s2R7AAAA4mSdXBzoAHMFiqbHxsbc5ORkt5sx1+zsobsTMzPtCWjCFi2Snn++Neuqtb0230247ZWKz9isXOmzPbWgCAAAoJlLLvFdz9JcEy1c6LvAf/CD/oaqWfvah9Izs4ecc2NRr5G5aSYu7dpqrR77kjbbAwAAECfNdBM1jMVBh5C5aWbrVuncc32/0U5YuFD62td8lzIAAIAiqlTyjaMZHvbjhDdtIoODTMjcZNWOogGNMPYFAAD0grzTRzAWB21EcNNMlrRrVuFKZwAAAEWVZrqJRhpNfwHkRHDTTKeyNmaMfQEAAL0hy2Th9RpNfwHkRHATVl/yuVPjkRYu7Mx2AAAA8ko63UScTt1ERl8huKmJmmm3E1pdIQ0AgLKImmdu0SJfinjbNiaH7Ja4ycWTyhscAREIbqTOl3wOGxry6V0AAHBI1E1H57KVFCZIar2o6SbS4OYu2uT/b+/uY+Q6qzuO/87sxp7dLVXaJC7BtkiEoqoUkAjGCYmQwAlg4mCTYFsuASKKhJBCCxIRL4lUhFqkVg1Ni2iRorYiESE45s1O41BCmgQJYccGEiiFtqZV2LzQOAmFxu/2nv7xzODZyczc+9z73Jk7s9+PtPLu7J3Zuzt3xvfc85xzCG6k/JN2U6NDGgCgSuN6Up910XFhIYxp2LkzbDfo90gZJGExs7BE7c47wwDyPXvyBzlc3EVFCG6k4bZ8lsJ/LrOzdEgDAFSnzif1WUHX3r35LjpmtRROGSQhW95aHC7uokIEN1Kxls/NpjQ1lW/bqamwffvNe/Nm6YEH6JAGAKhGnU/q8wRdW7fmv+g4qKVw3pUZS33uSqoMX1YtDhd3MQQEN1J81qbRCG+UW7bkuzqxZUvY/tSpkLbdvp2rFQCA6tT1pD5v0DU/n/+i46CWwjErM5bq3JXUGb5etThc3MUQlQpuzOxPzewHZvawmX3DzF7Uut3M7NNmdqD1/QvT7G5FYrt1zMxwdQIAUF8xJ/WHD0s33DCcupyqalzbv2t3BmLHjjRB0qSqKsPXrsXZvl267z7p6qvDfXfskF73uvrXfGGsmZc4sMzsN939V63P/1jSS939fWZ2haQ/knSFpIsk/Y27X5T1eGvWrPH9+/cX3p/Ctm4NVyfyvAE2GuHKw/bt4Wv3cMXrppuk3bvDG+zMTOgAcv31ZGgAAMM3NxcfQDQai/8fbDTC/2dveUu4SJfiSnvM/7cx5uakX/zi9In60aPFfkajEVZZLBV790qXXRYCmCxzcyEbs3Ztvsc+caL/81HFsYUlxcy+6+5ren2vVOamHdi0zElqR0qbJN3mwR5JZ5rZuWV+VqViJu12d/fo7hTC0jMAwKgVaZIzjLqcIjWuWdothVOMdFhqc1eqWrZX55ovTLzSNTdm9kkzm5d0jaQ/ad28UtJ8x2aPtW7rdf/3mtl+M9t/8ODBsrtTDN09AACTJOVJesq6nCo6kzab0pvelGa521KbuxITbMYs26trzReWhMzgxsy+aWb/2uNjkyS5+43uvlrS7ZLe375bj4fqGZa7+y3uvsbd15xzzjlFf49yqJ8BABRVx1kyGzYUnxrfS6pi+9SZkfZFx3vuSRM4rV9f/jHGQfuYjQ0G8/6NaeSAEcp853P3y939ZT0+dnZt+gVJb2t9/pik1R3fWyXpiTS7XBG6ewAAYtV1lkzMcus8UhXbxwRdZtLq1fkuOu7enWa52z33lH+Muus8ZmPlPaaqyggBOZTtlnZBx5cbJf2k9fkuSe9qdU27WNIv3f3JMj9rKKifAQDkVee6grzLrWOkyIzEBF0zM6G7Vp6LjqmWu+3eneZx6qr7mI31mtfkO45jn49Dh+iehmTKdkv7sqTflbQg6VFJ73P3x83MJH1G0npJhyW9290z26CNrFsaAACxquw0lUK7W9Vdd4WTze5uVbGZjtnZfL/rIO4ha7Bz5+AT4JmZkJX5whfyLQUv0h2ul0nvlhZzzPbSbEpvfWt2h7Miz8fcHN3TkFuV3dLe1lqi9gp3f4u7P9663d39Ond/ibu/PE9gAwDAWKl7XUHWcuvLLouryznrrPJX1quqcU1VYzTp3dJijtlejh7Nl4ks8nzQPQ2JJKw2BABgCRmHuoJBy60/+Ulp2bL8j3XwYJquVlXUuKaoMWq3lK5KHRpPpGjFnafDWdHng+5pSIDgBgCAImKvgFfRBrmMtWulmC6lR49Kl1yS5mQ8dY1rihqj7jl2KdWl8USqYzArE1nm+Vjq3dPqEASPOYIbAACKiD1xq9uSJzPp6afj7nPq1Gi7wPWTtdwtS5Vz7GIaT7zzndKePdWd2KY6BrMykd3PR8rHnmR1CYLHHMENAABFxNQVVL3kqaijR+PvU9fp8v2Wu83OhpbSzeZo5tjFDLT80pek17++uhPblPOPsrJAnc9H6seeRHXuvjhmCG4AACgipq6gyiVPZZS5kl/H+ohey90OHZIefVR68MHRzLGLKeI/dSoEnFWd2Kacf5TncdrPx+xs3GM3m8X2aRRSLSOLCYLr9rqrGYIbAACKyFtXMDUlXXqptKZn19LRKnslf1zqI0Y5xy5FEX9b2RPbVPOPYjORGzbEZcX6dearWz1KymVkw+q+GPM3rNvfOy93r83Hq171KgcAYGwcP+6+bZv77Kx7+K++98fsbNju+PFR7/Fie/a4z80N3vesj7m5Uf8W9WZW7u/b/dFouG/dWnx/2sfs3Fx4rCL7MDvrvndv/p+5Z497s5n/8ZvN5z9+52ute78bjfD7bNvmfuxY+HmbN4dtzcK/W7aEx1xYWPy4Cwtx23feL89rf2YmbNfvcdqyHifF6y7v3/D48bhtR0DSfu8TT5Qa4pkaQzwBAGNnYUFav166777BV+hjB1MOg+ccqjnIpA++LCvVgNHux3zuueL3dw/Zn5tuknbvDs99sxkyJk89JR071v++RY5jd+nFL5bm5/Nt32iEJYPbt5++/9vffroepZ9mU1qxIjTK6F7e12iEfe8cFNoedLtrV77tO6Ue4ttoxGVCYl93ef+G7eYaZvm2HdF72qAhngQ3AACUkfokZ9jaJ3h33RVOcmOXUJU90Z50W7eGJUqplqZJ1QWUg46FRiMEDxs39j7ZzxIb5HUeVzGvsSztE/Lbb5euuSb/yf4HPxiWgrWDwZjnoDtY66XM3yePmL9hu+YpT8OREb2nDQpuqLkBAKCMYa2Vr0pnV6urr46rwalrF7g6SVnE31ZVW/EqBqy2lZkLFfMay/O4d90lfe5z5brYxQSXedpbV919MeZvePRo/k6KNXxPI7gBAKCMmILxus7wMJNe+Uppelpatiz//eraBa5OUhXxt1UdUFbVfKHMXKiUTRmkcEL+8Y+X72IX+zMHiQmCzzgjLL2LKfJP/Tdsq+F7GsENAABlxNZT1HGGh/vi2oM8qhx8OUmyBow2GtLy5aGrXh7jGlCWyUykfs0sLEiPPVbNyX4/WYFLTPfFkydDFi2mO1uV7zs1e08juAEAoKgTJ/KflLZVtaSojLwzNtqWL6928OWkyVru9a1vhXa7WcfGOAeUZeZC1fE1EyNPti0rCDY7/V5z6lS+WUje0cq5yhr7mj0/BDcAABTRznbEqGuNSmxNw2tfW+3gy0nVr7GvJN166+DszuxsPQLKzhPmmGVReTMTvQK4svOYRi1vtm1QELxuXfh+Vq1Pu6boO99ZPIOnKjV8T6NbGgAARRTp4DQ7K91/f726pUnVd2pa6vK2HL71Vunhhxe3aJ6ZCSeP118/+oxNmdbJnfeP7caWslta+2e96EXSE09UvzQtVbvkmK57jYa0cqX0zDPp25B3G9F7Gt3SAABILTbbMTVV3yVFZTpZYbHuzIZZOMHdsSOcaA5aTnTtteH4SF3Mn0JnXdag3+OrX5Ve8pLeWZ3p6WLd2FI3ZWg2pU98otrlVKmzbbGNS+bnqw9sarpMkswNAABFxGY7pqZCUFDHpVxkbtIYlNnIo45zkNrKZE/yZHWyZGV9li+XzjlHOnhwcPDdPeemzADbQVavDi2kUz2XsUM+q1R25lECZG4AAEgt9oRoYSGsgY+pUxiWqmdsLAVZmY08ajgz5NfKzJrpVeweK6spw4MPSgcO5K9bajTSdrHr9uyzxe7XT12K9qemys88qhiZGwAAiojNdkjhhKlXncGll0oveIH09a/3rrOouoA85qp8XeuGRi1VXUhds2JFjvd+j1Nldspd2rcvf93SoO0/9CHp5puLZXcajRAEbN+e5veKqbmpSo1e+2RuAABIrUgHp151CocPS/feu3j6ea+5FUW7VOVRppMVgjKZjU51rWdKtV9VZ6dih5AO2n7t2sXZnRh5h1vmfV3HtNKONTU1Ua99MjcAABSRuoNTP+2TCinUGxTpUpVH0U5WCFJmNiY5c9N+rDr+jv20szsXXRR3P7MQLPXLvMZ0n5ueDhc6srJIMzPS2WeHIaV5zvEbjbDMb2pqrF77ZG4AAEgtdQenfo4cCYXJX/tadretovUMUnZNQ43X2NdCisxGneuZUs6aqWt2qp92dmd2Nu5+7qczr72+l6f7XPt1LWXXCLVriu64I/++Npthud4EvfbJ3AAAUNSJE9I73hGWkGUN1xuGOnfbmnQpMhs1qml4npSZynHL3LQVqXvpN+cm5u/Z+brOU1PUDqryZHlSzOAZATI3AABUYXo6XOGcnh71ngSD6hmqrNlB+cxG2ZqGqp/fVJnKOmenshSpezlyJCz3euihxc/PxRfnDxQ7X9d5aorM8md5UszgqRkyNwAAFDWsupsYva6Kl50sj2xFj4UUNQ3Den4H1WXlVefsVJa8GZFuZtKqVdIzzxSbfyQVy3bFdo4bI2RuAACoQqoOWSl170/s2v4aXfQcK3kzG41GKN6OqWkYlJXZu3d4z2+/uqzZ2TC0stkcfP8x6rjVU2dGJIa7ND9ffP6RVOx9JrZz3IQgcwMAQFEpO0il0n2Ft+jafsTLm9mYmZGuvDLfHKOsrMyyZWGbPDVfVT6/S6nbnnsIUId5Dj2udUoVIXMDAEAV6pa16VXPEJNdOnRIuuQS6nCK6s5s9OtYdeTI8+cY9ZIn63b0aP5mFlXOmFlK3fbMqu+S2Gmc65RGgMwNAABFDSNzs3y5dPJkvhPYXvUMRfaROpzy2vUZ7cCkn+XLpRUrpKefDoFKZ03EwoJ0+eVpa7rIAKRRpHNaUeNcp1QRMjcAAFQh5eyPXmZnpauuClfCi04QL5Jdog6nvIceCku0sgLLY8dCPcaRI+HvfPjw6azO1q3ps4N1yzaOqyKd04oY9zqlESC4AQCgqCpPcKamTi/l+fzni7d1LbN/7Ta2+/bF33ept54u02yiHVzOz6fPDAxzOdUkq3qI74S3a64SwQ0AAEXlPcEpcgLkfvpqbZl6hrLZpSJ1GidOhCVZ69ZJX/lKyEZ0ZyUG1ZpMgrvvHs6SpRjUbqSTd5bM6tXxr79JrFMaImpuAAAoI2+XqNjZGKlqI1LM4onZl7y1JmM8HT2XRqN+2SlqN9LLmiWzsJD/9cfzkxs1NwAAVCVvVuXKK/NfwU15hT3F8pmYoCxvrUm/ye2Tsnytbsu/qN2oRtYsmZjsLs9PEmRuAAAYhpgMSuoruGUny8dkbmK6SDUa0sqVvSe3j3vHtmF205JCjdYZZ0jHj0/2jJlxtJRmAA0JmRsAAEZtlFdwu7NLU1P57xubRYqpNVlY6D+5fdw7tg2rm5YUfk47SzjpM2bG0VKaAVQDZG4AABiWulzBrTKLVEWtydxcODEcp1qEdu1RbK1VNzNp1Srp2We56g+0kLkBAKAO6nIFt8osUhXZiiId20Ytq5tWXjMz0o4doz9mgDFB5gYAgKWoqixSVbUmqbrHDVuvblrNpnTWWdJTT4Uhnv1Mekc5oCAyNwAAYLGqskhV1ZqUWdo1Sr26aR06JP30p9JVVxUbzAqgLzI3AAAgnVS1Jt3GNXMzSNaMFNoCAz0NytxMD3tnAADABGvXmpRpPd0t5dyfOunM6gBIgmVpAACgN/diAza7l7yV1WyG5W4AkIFlaQAA4PnaDQd27So/YHNuLsyyKYKiegBdaCgAAADycz8d2KQYsLlhQ3wrZIrqARRAcAMAABZ76KFQL5OVbTlyJGy3b9/g7WI7qDWbzHABUAjBDQAAWOxTn8rf6ezQIemSSwbX48QMDd22LQRV27fTLQxANIIbAACw2N13x3U4O3UqBDOHD4cBnuvWhXbQJ06E77c7qG3axFwXAJUiuAEAAIuVmU/Trx6nqqGhANCBOTcAAGCxmZni3c3aOutx1q4NtzHXBUDFyNwAAIDFinQ36+XIkVC/AwBDQnADAAAWi+1u1s/CQqjfAYAhIbgBAACL5e1ulkeZ+h0AiERwAwAAFsvqbhYjRYAEADkR3AAAgOfr191sair/YzQaoX4HAIaE4AYAAPTW2d3suefCPJtvfzsEOnk0m6F+BwCGhOAGAADkl7ceZ2ZG2rhRevWrh7NfACCCGwAAECOrHqfRkGZnw/dvuy1sDwBDkiS4MbPrzczN7OzW12ZmnzazA2b2AzO7MMXPAQAANdCvHmduTtq8WXrgAemOO8J2ADBE02UfwMxWS3qDpJ913PxmSRe0Pi6S9NnWvwAAYBJ01uMAQE2kyNzcLOnDkrzjtk2SbvNgj6QzzezcBD8LAAAAAHoqFdyY2UZJj7v7I13fWilpvuPrx1q39XqM95rZfjPbf/DgwTK7AwAAAGAJy1yWZmbflPTCHt+6UdINkt7Y6249bvMet8ndb5F0iyStWbOm5zYAAAAAkCUzuHH3y3vdbmYvl3S+pEcsdEJZJel7ZrZWIVOzumPzVZKeKL23AAAAANBH4WVp7v5Dd1/h7ue5+3kKAc2F7v5zSbskvavVNe1iSb909yfT7DIAAAAAPF/pbml97JZ0haQDkg5LendFPwcAAAAAJCUMblrZm/bnLum6VI8NAAAAAFmSDPEEAAAAgFEjuAEAAAAwEQhuAAAAAEwEghsAAAAAE4HgBgAAAMBEILgBAAAAMBEIbgAAAABMBIIbAAAAABOB4AYAAADARCC4AQAAADARzN1HvQ+/ZmYHJT066v1AKWdLenrUO4GJw3GFKnBcoSocW6gCx9VpL3b3c3p9o1bBDcafme139zWj3g9MFo4rVIHjClXh2EIVOK7yYVkaAAAAgIlAcAMAAABgIhDcILVbRr0DmEgcV6gCxxWqwrGFKnBc5UDNDQAAAICJQOYGAAAAwEQguAEAAAAwEQhukJSZXW9mbmZnt742M/u0mR0wsx+Y2YWj3keMDzP7SzP7SevY+aqZndnxvY+1jqt/N7M3jXI/MX7MbH3r2DlgZh8d9f5gPJnZajO738x+bGY/MrMPtG7/bTO718z+s/Xvb416XzF+zGzKzL5vZv/U+vp8M9vbOq62m9myUe9jHRHcIBkzWy3pDZJ+1nHzmyVd0Pp4r6TPjmDXML7ulfQyd3+FpP+Q9DFJMrOXStom6fclrZf0d2Y2NbK9xFhpHSt/q/D+9FJJf9A6poBYJyV9yN1/T9LFkq5rHUsflXSfu18g6b7W10CsD0j6ccfXfyHp5tZx9QtJ7xnJXtUcwQ1SulnShyV1dqnYJOk2D/ZIOtPMzh3J3mHsuPs33P1k68s9kla1Pt8k6Yvufszd/1vSAUlrR7GPGEtrJR1w9/9y9+OSvqhwTAFR3P1Jd/9e6/P/UzgRXalwPN3a2uxWSW8dzR5iXJnZKkkbJP1962uTtE7Sl1qbcFz1QXCDJMxso6TH3f2Rrm+tlDTf8fVjrduAWH8o6Z7W5xxXKIPjB8mZ2XmSXilpr6TfcfcnpRAASVoxuj3DmPprhQvGC62vz5L0vx0X/Hjf6mOnn21BAAACDUlEQVR61DuA8WFm35T0wh7fulHSDZLe2OtuPW6j/zh+bdBx5e47W9vcqLD84/b23Xpsz3GFvDh+kJSZ/YakL0v6oLv/KlxkB4oxsyslPeXu3zWz17Vv7rEp71s9ENwgN3e/vNftZvZySedLeqT1hr5K0vfMbK3ClYXVHZuvkvRExbuKMdLvuGozs2slXSnpMj89mIvjCmVw/CAZMztDIbC53d2/0rr5f8zsXHd/srUU+6nR7SHG0KWSNprZFZKakn5TIZNzpplNt7I3vG/1wbI0lObuP3T3Fe5+nrufp3DicKG7/1zSLknvanVNu1jSL9upeiCLma2X9BFJG939cMe3dknaZmbLzex8hYYVD41iHzGW9km6oNV5aJlCc4pdI94njKFWHcQ/SPqxu/9Vx7d2Sbq29fm1knYOe98wvtz9Y+6+qnVOtU3Sv7j7NZLul7S5tRnHVR9kblC13ZKuUCj4Pizp3aPdHYyZz0haLuneVlZwj7u/z91/ZGZ3Svo3heVq17n7qRHuJ8aIu580s/dL+mdJU5L+0d1/NOLdwni6VNI7Jf3QzB5u3XaDpD+XdKeZvUehg+iWEe0fJstHJH3RzP5M0vcVAmt0sdOrPAAAAABgfLEsDQAAAMBEILgBAAAAMBEIbgAAAABMBIIbAAAAABOB4AYAAADARCC4AQAAADARCG4AAAAATIT/BycNXw2NCZElAAAAAElFTkSuQmCC\n",
      "text/plain": [
       "<Figure size 1008x720 with 1 Axes>"
      ]
     },
     "metadata": {
      "needs_background": "light"
     },
     "output_type": "display_data"
    }
   ],
   "source": [
    "time_start = time.time()\n",
    "tsne = TSNE(n_components=2, verbose=1, perplexity=7, n_iter=1200,random_state=42)\n",
    "tsne_results = tsne.fit_transform(bottle_neck)\n",
    "print('t-SNE done! Time elapsed: {} seconds'.format(time.time()-time_start))\n",
    "\n",
    "df_subset=pd.DataFrame()\n",
    "df_subset['tsne-2d-one'] = tsne_results[:,0]\n",
    "df_subset['tsne-2d-two'] = tsne_results[:,1]\n",
    "df_subset['class'] = labels\n",
    "\n",
    "groups = df_subset.groupby('class')\n",
    "markers = ['o','v',\"x\"]\n",
    "colors = [\"red\",\"black\",\"green\"]\n",
    "# Plot\n",
    "fig, ax = plt.subplots(figsize=(14,10))\n",
    "\n",
    "ax.margins(0.05) # Optional, just adds 5% padding to the autoscaling\n",
    "for i, (name, group) in enumerate(groups):\n",
    "    ax.set_title(\"TSNE of the Mesh Embeddings for given use-case - 8dim latent space - Latent\")\n",
    "    ax.plot(group['tsne-2d-one'], group['tsne-2d-two'], marker=markers[i], linestyle='', ms=12, label=name, color=colors[i])\n",
    "ax.legend()\n",
    "plt.show()\n",
    "fig.tight_layout();\n",
    "\n",
    "# fig.savefig('code/img/TSNE_Plots/meshemb_2usecase100_8dimls_latent_MSE+KLD.png', box_inches='tight')"
   ]
  },
  {
   "cell_type": "markdown",
   "metadata": {},
   "source": [
    "## TSNE FOR CO-AUTHORS"
   ]
  },
  {
   "cell_type": "code",
   "execution_count": 238,
   "metadata": {},
   "outputs": [],
   "source": [
    "mesh_cases = pd.read_csv('./data/vae_usecases/co_author_groups_pmids.csv')\n",
    "typeA = mesh_cases['A']\n",
    "typeB = mesh_cases['B']\n",
    "df_a = pd.DataFrame((typeA,np.zeros((len(typeA),),dtype=int)),index=['pmid','class']).T\n",
    "df_b = pd.DataFrame((typeB,np.ones((len(typeB),),dtype=int)),index=['pmid','class']).T\n",
    "df_ab = pd.concat([df_a,df_b]).reset_index(drop=True)"
   ]
  },
  {
   "cell_type": "code",
   "execution_count": 239,
   "metadata": {},
   "outputs": [],
   "source": [
    "df_ab.drop_duplicates(keep='first',inplace=True)\n",
    "labels = df_ab['class'].values\n",
    "pmids = df_ab['pmid'].values"
   ]
  },
  {
   "cell_type": "code",
   "execution_count": 240,
   "metadata": {},
   "outputs": [
    {
     "name": "stdout",
     "output_type": "stream",
     "text": [
      "Using pre-defined VAE FEATURES\n",
      "['MESH NAME NOT FOUND: Mitophagy', 'MESH NAME NOT FOUND: Advertising', 'MESH NAME NOT FOUND: Discrimination, Psychological', 'MESH NAME NOT FOUND: Outcome and Process Assessment, Health Care', 'MESH NAME NOT FOUND: Neural Networks, Computer', \"MESH NAME NOT FOUND: Practice Patterns, Physicians'\", 'MESH NAME NOT FOUND: Male', 'MESH NAME NOT FOUND: RNA, Circular', 'MESH NAME NOT FOUND: Phosphoinositide-3 Kinase Inhibitors', 'MESH NAME NOT FOUND: Inhibition, Psychological', 'MESH NAME NOT FOUND: Centers for Medicare and Medicaid Services, U.S.', \"MESH NAME NOT FOUND: Practice Patterns, Nurses'\", 'MESH NAME NOT FOUND: Protein-Arginine Deiminase Type 4', 'MESH NAME NOT FOUND: Illicit Drugs', 'MESH NAME NOT FOUND: Female', 'MESH NAME NOT FOUND: Formins', 'MESH NAME NOT FOUND: Claustrum', 'MESH NAME NOT FOUND: Clinical Decision Rules', 'MESH NAME NOT FOUND: Recognition, Psychology', 'MESH NAME NOT FOUND: Confounding Factors, Epidemiologic', 'MESH NAME NOT FOUND: Infections', 'MESH NAME NOT FOUND: Cyclophilin D', 'MESH NAME NOT FOUND: Phospholipid Hydroperoxide Glutathione Peroxidase', 'MESH NAME NOT FOUND: Lactate Dehydrogenase 5', 'MESH NAME NOT FOUND: Outcome Assessment, Health Care', 'MESH NAME NOT FOUND: Psychological Distress', 'MESH NAME NOT FOUND: Aldehyde Dehydrogenase 1', 'MESH NAME NOT FOUND: Broadly Neutralizing Antibodies', 'MESH NAME NOT FOUND: Conditioning, Psychological', 'MESH NAME NOT FOUND: Sphingosine-1-Phosphate Receptors', 'MESH NAME NOT FOUND: Diet, Healthy', 'MESH NAME NOT FOUND: Practice, Psychological', 'MESH NAME NOT FOUND: Reinforcement, Psychology', 'MESH NAME NOT FOUND: Chlorocebus aethiops']\n"
     ]
    }
   ],
   "source": [
    "idx_df = [df.index[df.pmid == x].tolist()[0] for x in df_ab.pmid]\n",
    "df_group = df.iloc[idx_df]\n",
    "\n",
    "group_run = ToyDS(df_group, df_group['last_author_name'].unique(),all_vae)\n",
    "\n",
    "data =  torch.from_numpy(group_run.features).to(device,dtype=torch.float32)\n",
    "optimizer.zero_grad()\n",
    "recon_batch, mu, logvar= model(data)\n",
    "bottle_neck = mu.cpu().detach().numpy()\n",
    "recon = recon_batch.cpu().detach().numpy()"
   ]
  },
  {
   "cell_type": "code",
   "execution_count": 251,
   "metadata": {},
   "outputs": [
    {
     "name": "stdout",
     "output_type": "stream",
     "text": [
      "[t-SNE] Computing 91 nearest neighbors...\n",
      "[t-SNE] Indexed 100 samples in 0.000s...\n",
      "[t-SNE] Computed neighbors for 100 samples in 0.002s...\n",
      "[t-SNE] Computed conditional probabilities for sample 100 / 100\n",
      "[t-SNE] Mean sigma: 0.027588\n",
      "[t-SNE] KL divergence after 250 iterations with early exaggeration: 52.057064\n",
      "[t-SNE] KL divergence after 300 iterations: 0.469428\n",
      "t-SNE done! Time elapsed: 0.11136674880981445 seconds\n"
     ]
    },
    {
     "data": {
      "image/png": "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\n",
      "text/plain": [
       "<Figure size 1008x720 with 1 Axes>"
      ]
     },
     "metadata": {
      "needs_background": "light"
     },
     "output_type": "display_data"
    }
   ],
   "source": [
    "time_start = time.time()\n",
    "tsne = TSNE(n_components=2, verbose=1, perplexity=30, n_iter=300)\n",
    "tsne_results = tsne.fit_transform(group_run.features)\n",
    "print('t-SNE done! Time elapsed: {} seconds'.format(time.time()-time_start))\n",
    "\n",
    "df_subset = pd.DataFrame()\n",
    "df_subset['tsne-2d-one'] = tsne_results[:,0]\n",
    "df_subset['tsne-2d-two'] = tsne_results[:,1]\n",
    "df_subset['class'] = list(df_ab['class'].values)\n",
    "\n",
    "groups = df_subset.groupby('class')\n",
    "markers = ['o','v',\"*\",\"P\",\"^\",\"<\",\">\",\"h\"]\n",
    "colors = [\"red\",\"black\",\"green\",\"purple\"]\n",
    "# Plot\n",
    "fig, ax = plt.subplots(figsize=(14,10))\n",
    "\n",
    "ax.margins(0.05) # Optional, just adds 5% padding to the autoscaling\n",
    "for i, (name, group) in enumerate(groups):\n",
    "    ax.set_title(\"TSNE of the Co-Auth Embedding for given use-case - 8dim latent space - Input\")\n",
    "    ax.plot(group['tsne-2d-one'], group['tsne-2d-two'], marker=markers[i], linestyle='', ms=12, label=name, color=colors[i])\n",
    "ax.legend()\n",
    "plt.show()\n",
    "fig.tight_layout();\n",
    "\n",
    "# fig.savefig('code/img/TSNE_Plots/coauthemb_2usecase50_8dimls_Input_MSE+KLD.png', box_inches='tight')"
   ]
  },
  {
   "cell_type": "markdown",
   "metadata": {},
   "source": [
    "## OUTPUT"
   ]
  },
  {
   "cell_type": "code",
   "execution_count": 253,
   "metadata": {},
   "outputs": [
    {
     "name": "stdout",
     "output_type": "stream",
     "text": [
      "[t-SNE] Computing 91 nearest neighbors...\n",
      "[t-SNE] Indexed 100 samples in 0.000s...\n",
      "[t-SNE] Computed neighbors for 100 samples in 0.002s...\n",
      "[t-SNE] Computed conditional probabilities for sample 100 / 100\n",
      "[t-SNE] Mean sigma: 0.282315\n",
      "[t-SNE] KL divergence after 250 iterations with early exaggeration: 49.014023\n",
      "[t-SNE] KL divergence after 900 iterations: 0.019035\n",
      "t-SNE done! Time elapsed: 0.30974411964416504 seconds\n"
     ]
    },
    {
     "data": {
      "image/png": "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\n",
      "text/plain": [
       "<Figure size 1008x720 with 1 Axes>"
      ]
     },
     "metadata": {
      "needs_background": "light"
     },
     "output_type": "display_data"
    }
   ],
   "source": [
    "time_start = time.time()\n",
    "tsne = TSNE(n_components=2, verbose=1, perplexity=30, n_iter=1200,random_state=42)\n",
    "tsne_results = tsne.fit_transform(recon)\n",
    "print('t-SNE done! Time elapsed: {} seconds'.format(time.time()-time_start))\n",
    "\n",
    "df_subset=pd.DataFrame()\n",
    "df_subset['tsne-2d-one'] = tsne_results[:,0]\n",
    "df_subset['tsne-2d-two'] = tsne_results[:,1]\n",
    "df_subset['class'] = labels\n",
    "\n",
    "groups = df_subset.groupby('class')\n",
    "markers = ['o','v',\"*\",\"P\",\"^\",\"<\",\">\",\"h\"]\n",
    "colors = [\"red\",\"black\",\"green\",\"purple\"]\n",
    "# Plot\n",
    "fig, ax = plt.subplots(figsize=(14,10))\n",
    "\n",
    "ax.margins(0.05) # Optional, just adds 5% padding to the autoscaling\n",
    "for i, (name, group) in enumerate(groups):\n",
    "    ax.set_title(\"TSNE of the Co-Auth Embedding for given use-case - 8dim latent space - Output\")\n",
    "    ax.plot(group['tsne-2d-one'], group['tsne-2d-two'], marker=markers[i], linestyle='', ms=12, label=name, color=colors[i])\n",
    "ax.legend()\n",
    "plt.show()\n",
    "fig.tight_layout();\n",
    "\n",
    "\n",
    "# fig.savefig('code/img/TSNE_Plots/coauthemb_2usecase50_8dimls_Output_MSE+KLD.png', box_inches='tight')"
   ]
  },
  {
   "cell_type": "markdown",
   "metadata": {},
   "source": [
    "## LATENT"
   ]
  },
  {
   "cell_type": "code",
   "execution_count": 252,
   "metadata": {},
   "outputs": [
    {
     "name": "stdout",
     "output_type": "stream",
     "text": [
      "[t-SNE] Computing 61 nearest neighbors...\n",
      "[t-SNE] Indexed 100 samples in 0.000s...\n",
      "[t-SNE] Computed neighbors for 100 samples in 0.002s...\n",
      "[t-SNE] Computed conditional probabilities for sample 100 / 100\n",
      "[t-SNE] Mean sigma: 0.004032\n",
      "[t-SNE] KL divergence after 250 iterations with early exaggeration: 50.777992\n",
      "[t-SNE] KL divergence after 1200 iterations: 0.097134\n",
      "t-SNE done! Time elapsed: 0.394136905670166 seconds\n"
     ]
    },
    {
     "data": {
      "image/png": "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\n",
      "text/plain": [
       "<Figure size 1008x720 with 1 Axes>"
      ]
     },
     "metadata": {
      "needs_background": "light"
     },
     "output_type": "display_data"
    }
   ],
   "source": [
    "time_start = time.time()\n",
    "tsne = TSNE(n_components=2, verbose=1, perplexity=20, n_iter=1200,random_state=42)\n",
    "tsne_results = tsne.fit_transform(bottle_neck)\n",
    "print('t-SNE done! Time elapsed: {} seconds'.format(time.time()-time_start))\n",
    "\n",
    "df_subset=pd.DataFrame()\n",
    "df_subset['tsne-2d-one'] = tsne_results[:,0]\n",
    "df_subset['tsne-2d-two'] = tsne_results[:,1]\n",
    "df_subset['class'] = labels\n",
    "\n",
    "groups = df_subset.groupby('class')\n",
    "markers = ['o','v',\"*\",\"P\",\"^\",\"<\",\">\",\"h\"]\n",
    "colors = [\"red\",\"black\",\"green\",\"purple\"]\n",
    "# Plot\n",
    "fig, ax = plt.subplots(figsize=(14,10))\n",
    "\n",
    "ax.margins(0.05) # Optional, just adds 5% padding to the autoscaling\n",
    "for i, (name, group) in enumerate(groups):\n",
    "    ax.set_title(\"TSNE of the Co-Auth Embedding for given use-case - 8dim latent space - Latent\")\n",
    "    ax.plot(group['tsne-2d-one'], group['tsne-2d-two'], marker=markers[i], linestyle='', ms=12, label=name, color=colors[i])\n",
    "ax.legend()\n",
    "plt.show()\n",
    "fig.tight_layout();\n",
    "\n",
    "\n",
    "# fig.savefig('code/img/TSNE_Plots/coauthemb_2usecase50_8dimls_Latent_MSE+KLD.png', box_inches='tight')"
   ]
  }
 ],
 "metadata": {
  "kernelspec": {
   "display_name": "Environment (conda_pytorch_latest_p36)",
   "language": "python",
   "name": "conda_pytorch_latest_p36"
  },
  "language_info": {
   "codemirror_mode": {
    "name": "ipython",
    "version": 3
   },
   "file_extension": ".py",
   "mimetype": "text/x-python",
   "name": "python",
   "nbconvert_exporter": "python",
   "pygments_lexer": "ipython3",
   "version": "3.6.10"
  }
 },
 "nbformat": 4,
 "nbformat_minor": 4
}
