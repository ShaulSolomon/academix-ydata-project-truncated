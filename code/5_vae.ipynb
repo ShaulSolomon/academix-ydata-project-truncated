{
 "cells": [
  {
   "cell_type": "markdown",
   "metadata": {},
   "source": [
    "# VAE"
   ]
  },
  {
   "cell_type": "code",
   "execution_count": 15,
   "metadata": {},
   "outputs": [
    {
     "output_type": "stream",
     "name": "stdout",
     "text": "The autoreload extension is already loaded. To reload it, use:\n  %reload_ext autoreload\n"
    }
   ],
   "source": [
    "from __future__ import print_function\n",
    "import argparse\n",
    "import torch\n",
    "import torch.utils.data\n",
    "from torch import nn, optim\n",
    "from torch.nn import functional as F\n",
    "from torchvision import datasets, transforms\n",
    "from torchvision.utils import save_image\n",
    "import pandas as pd\n",
    "import utils\n",
    "from utils import PROJECT_ROOT, DATA_PATH\n",
    "import yuval_module.paper_source as PaperSource\n",
    "%load_ext autoreload\n",
    "%autoreload 2"
   ]
  },
  {
   "cell_type": "code",
   "execution_count": 40,
   "metadata": {},
   "outputs": [],
   "source": [
    "batch_size= 8\n",
    "epochs= 2\n",
    "cuda= torch.cuda.is_available()\n",
    "seed= 42\n",
    "log_interval= 10\n",
    "num_workers= 2"
   ]
  },
  {
   "cell_type": "code",
   "execution_count": 4,
   "metadata": {},
   "outputs": [
    {
     "output_type": "execute_result",
     "data": {
      "text/plain": "device(type='cpu')"
     },
     "metadata": {},
     "execution_count": 4
    }
   ],
   "source": [
    "#check for cuda\n",
    "device = torch.device('cuda' if cuda else 'cpu')\n",
    "device"
   ]
  },
  {
   "cell_type": "code",
   "execution_count": 5,
   "metadata": {},
   "outputs": [
    {
     "output_type": "execute_result",
     "data": {
      "text/plain": "<torch._C.Generator at 0x11e805610>"
     },
     "metadata": {},
     "execution_count": 5
    }
   ],
   "source": [
    "torch.manual_seed(seed)\n"
   ]
  },
  {
   "cell_type": "code",
   "execution_count": 6,
   "metadata": {},
   "outputs": [],
   "source": [
    "kwargs = {'num_workers': 1, 'pin_memory': True} if cuda else {}"
   ]
  },
  {
   "cell_type": "code",
   "execution_count": 7,
   "metadata": {},
   "outputs": [],
   "source": [
    "from torch.utils.data import Dataset, DataLoader"
   ]
  },
  {
   "cell_type": "code",
   "execution_count": 8,
   "metadata": {},
   "outputs": [],
   "source": [
    "import py_4.get_mesh_vec as get_mesh_vec"
   ]
  },
  {
   "cell_type": "code",
   "execution_count": 9,
   "metadata": {},
   "outputs": [],
   "source": [
    "mesh_embed=get_mesh_vec.MeshEmbeddings()"
   ]
  },
  {
   "cell_type": "code",
   "execution_count": 16,
   "metadata": {},
   "outputs": [
    {
     "output_type": "stream",
     "name": "stdout",
     "text": "READING FROM LOCAL\n"
    },
    {
     "output_type": "error",
     "ename": "TypeError",
     "evalue": "'module' object is not callable",
     "traceback": [
      "\u001b[0;31m---------------------------------------------------------------------------\u001b[0m",
      "\u001b[0;31mTypeError\u001b[0m                                 Traceback (most recent call last)",
      "\u001b[0;32m<ipython-input-16-0e8a1280c9a9>\u001b[0m in \u001b[0;36m<module>\u001b[0;34m\u001b[0m\n\u001b[1;32m      6\u001b[0m     \u001b[0;32melse\u001b[0m\u001b[0;34m:\u001b[0m\u001b[0;34m\u001b[0m\u001b[0;34m\u001b[0m\u001b[0m\n\u001b[1;32m      7\u001b[0m         \u001b[0mdf\u001b[0m \u001b[0;34m=\u001b[0m \u001b[0mpd\u001b[0m\u001b[0;34m.\u001b[0m\u001b[0mread_csv\u001b[0m\u001b[0;34m(\u001b[0m\u001b[0mPROJECT_ROOT\u001b[0m \u001b[0;34m+\u001b[0m \u001b[0mDATA_PATH\u001b[0m \u001b[0;34m+\u001b[0m \u001b[0mFILE\u001b[0m\u001b[0;34m)\u001b[0m\u001b[0;34m\u001b[0m\u001b[0;34m\u001b[0m\u001b[0m\n\u001b[0;32m----> 8\u001b[0;31m     \u001b[0mps\u001b[0m \u001b[0;34m=\u001b[0m \u001b[0mPaperSource\u001b[0m\u001b[0;34m(\u001b[0m\u001b[0;34m)\u001b[0m\u001b[0;34m\u001b[0m\u001b[0;34m\u001b[0m\u001b[0m\n\u001b[0m\u001b[1;32m      9\u001b[0m \u001b[0;32melse\u001b[0m\u001b[0;34m:\u001b[0m\u001b[0;34m\u001b[0m\u001b[0;34m\u001b[0m\u001b[0m\n\u001b[1;32m     10\u001b[0m     \u001b[0mprint\u001b[0m\u001b[0;34m(\u001b[0m\u001b[0;34m\"PULLING FROM S3\"\u001b[0m\u001b[0;34m)\u001b[0m\u001b[0;34m\u001b[0m\u001b[0;34m\u001b[0m\u001b[0m\n",
      "\u001b[0;31mTypeError\u001b[0m: 'module' object is not callable"
     ]
    }
   ],
   "source": [
    "FILE = \"enriched_labeled_dataset_large.json\" \n",
    "if os.path.exists(PROJECT_ROOT + DATA_PATH + FILE):\n",
    "    print(\"READING FROM LOCAL\")\n",
    "    if FILE.split(\".\")[1] == \"json\":\n",
    "        df = pd.read_json(PROJECT_ROOT + DATA_PATH + FILE)\n",
    "    else:\n",
    "        df = pd.read_csv(PROJECT_ROOT + DATA_PATH + FILE)\n",
    "    ps = PaperSource()\n",
    "else:\n",
    "    print(\"PULLING FROM S3\")\n",
    "    ps = sim_matrix_3.load_dataset(\"enriched_labeled_dataset\")\n",
    "    df = ps.get_dataset()\n",
    "\n",
    "df.drop(columns=[\"last_author_country\"],inplace=True)\n",
    "df.rename(columns={'ORG_STATE':'last_author_country'},inplace=True)\n",
    "\n",
    "print(\"FILE PULLED\")"
   ]
  },
  {
   "cell_type": "code",
   "execution_count": 37,
   "metadata": {},
   "outputs": [
    {
     "output_type": "stream",
     "name": "stdout",
     "text": "MESH NAME NOT FOUND: Male\nMESH NAME NOT FOUND: Female\nMESH NAME NOT FOUND: Female\nMESH NAME NOT FOUND: Male\nMESH NAME NOT FOUND: Male\nMESH NAME NOT FOUND: Male\nMESH NAME NOT FOUND: Male\nMESH NAME NOT FOUND: Male\nMESH NAME NOT FOUND: Female\nMESH NAME NOT FOUND: Male\nMESH NAME NOT FOUND: Male\nMESH NAME NOT FOUND: Female\nMESH NAME NOT FOUND: Male\nMESH NAME NOT FOUND: Male\nMESH NAME NOT FOUND: Female\nMESH NAME NOT FOUND: Male\nMESH NAME NOT FOUND: Male\n"
    },
    {
     "output_type": "execute_result",
     "data": {
      "text/plain": "(20, 64)"
     },
     "metadata": {},
     "execution_count": 37
    }
   ],
   "source": [
    "mesh_embed.get_feat_mesh(df[:20].mesh.to_list()).shape"
   ]
  },
  {
   "cell_type": "code",
   "execution_count": 62,
   "metadata": {},
   "outputs": [],
   "source": [
    "class ToyDS(Dataset):\n",
    "    def __init__(self,df):\n",
    "        super().__init__()\n",
    "        self.df= mesh_embed.get_feat_mesh(df[:1000].mesh.to_list())\n",
    "        \n",
    " \n",
    "    def __len__(self):\n",
    "        return self.df.shape[0]\n",
    "    \n",
    "    def __getitem__(self, idx):\n",
    "        features= self.df[idx]\n",
    "        return features, features"
   ]
  },
  {
   "cell_type": "code",
   "execution_count": 63,
   "metadata": {},
   "outputs": [
    {
     "output_type": "stream",
     "name": "stdout",
     "text": "MESH NAME NOT FOUND: Male\nMESH NAME NOT FOUND: Female\nMESH NAME NOT FOUND: Female\nMESH NAME NOT FOUND: Male\nMESH NAME NOT FOUND: Male\nMESH NAME NOT FOUND: Male\nMESH NAME NOT FOUND: Male\nMESH NAME NOT FOUND: Male\nMESH NAME NOT FOUND: Female\nMESH NAME NOT FOUND: Male\nMESH NAME NOT FOUND: Male\nMESH NAME NOT FOUND: Female\nMESH NAME NOT FOUND: Male\nMESH NAME NOT FOUND: Male\nMESH NAME NOT FOUND: Female\nMESH NAME NOT FOUND: Male\nMESH NAME NOT FOUND: Male\nMESH NAME NOT FOUND: Male\nMESH NAME NOT FOUND: Female\nMESH NAME NOT FOUND: Male\nMESH NAME NOT FOUND: Female\nMESH NAME NOT FOUND: Male\nMESH NAME NOT FOUND: Female\nMESH NAME NOT FOUND: Male\nMESH NAME NOT FOUND: Female\nMESH NAME NOT FOUND: Male\nMESH NAME NOT FOUND: Female\nMESH NAME NOT FOUND: Male\nMESH NAME NOT FOUND: Female\nMESH NAME NOT FOUND: Male\nMESH NAME NOT FOUND: Female\nMESH NAME NOT FOUND: Male\nMESH NAME NOT FOUND: Female\nMESH NAME NOT FOUND: Male\nMESH NAME NOT FOUND: Female\nMESH NAME NOT FOUND: Male\nMESH NAME NOT FOUND: Female\nMESH NAME NOT FOUND: Male\nMESH NAME NOT FOUND: Female\nMESH NAME NOT FOUND: Male\nMESH NAME NOT FOUND: Female\nMESH NAME NOT FOUND: Male\nMESH NAME NOT FOUND: Female\nMESH NAME NOT FOUND: Male\nMESH NAME NOT FOUND: Female\nMESH NAME NOT FOUND: Male\nMESH NAME NOT FOUND: Female\nMESH NAME NOT FOUND: Male\nMESH NAME NOT FOUND: Female\nMESH NAME NOT FOUND: Female\nMESH NAME NOT FOUND: Female\nMESH NAME NOT FOUND: Male\nMESH NAME NOT FOUND: Female\nMESH NAME NOT FOUND: Female\nMESH NAME NOT FOUND: Female\nMESH NAME NOT FOUND: Female\nMESH NAME NOT FOUND: Female\nMESH NAME NOT FOUND: Female\nMESH NAME NOT FOUND: Female\nMESH NAME NOT FOUND: Female\nMESH NAME NOT FOUND: Female\nMESH NAME NOT FOUND: Female\nMESH NAME NOT FOUND: Male\nMESH NAME NOT FOUND: Male\nMESH NAME NOT FOUND: Female\nMESH NAME NOT FOUND: Male\nMESH NAME NOT FOUND: Female\nMESH NAME NOT FOUND: Male\nMESH NAME NOT FOUND: Female\nMESH NAME NOT FOUND: Female\nMESH NAME NOT FOUND: Male\nMESH NAME NOT FOUND: Female\nMESH NAME NOT FOUND: Female\nMESH NAME NOT FOUND: Female\nMESH NAME NOT FOUND: Male\nMESH NAME NOT FOUND: Male\nMESH NAME NOT FOUND: Female\nMESH NAME NOT FOUND: Male\nMESH NAME NOT FOUND: Female\nMESH NAME NOT FOUND: Male\nMESH NAME NOT FOUND: Female\nMESH NAME NOT FOUND: Male\nMESH NAME NOT FOUND: Female\nMESH NAME NOT FOUND: Male\nMESH NAME NOT FOUND: Male\nMESH NAME NOT FOUND: Male\nMESH NAME NOT FOUND: Female\nMESH NAME NOT FOUND: Male\nMESH NAME NOT FOUND: Female\nMESH NAME NOT FOUND: Male\nMESH NAME NOT FOUND: Female\nMESH NAME NOT FOUND: Male\nMESH NAME NOT FOUND: Female\nMESH NAME NOT FOUND: Male\nMESH NAME NOT FOUND: Female\nMESH NAME NOT FOUND: Male\nMESH NAME NOT FOUND: Female\nMESH NAME NOT FOUND: Female\nMESH NAME NOT FOUND: Male\nMESH NAME NOT FOUND: Female\nMESH NAME NOT FOUND: Female\nMESH NAME NOT FOUND: Male\nMESH NAME NOT FOUND: Female\nMESH NAME NOT FOUND: Male\nMESH NAME NOT FOUND: Female\nMESH NAME NOT FOUND: Male\nMESH NAME NOT FOUND: Female\nMESH NAME NOT FOUND: Female\nMESH NAME NOT FOUND: Male\nMESH NAME NOT FOUND: Female\nMESH NAME NOT FOUND: Male\nMESH NAME NOT FOUND: Female\nMESH NAME NOT FOUND: Male\nMESH NAME NOT FOUND: Female\nMESH NAME NOT FOUND: Male\nMESH NAME NOT FOUND: Female\nMESH NAME NOT FOUND: Male\nMESH NAME NOT FOUND: Female\nMESH NAME NOT FOUND: Male\nMESH NAME NOT FOUND: Female\nMESH NAME NOT FOUND: Male\nMESH NAME NOT FOUND: Female\nMESH NAME NOT FOUND: Male\nMESH NAME NOT FOUND: Female\nMESH NAME NOT FOUND: Male\nMESH NAME NOT FOUND: Female\nMESH NAME NOT FOUND: Male\nMESH NAME NOT FOUND: Female\nMESH NAME NOT FOUND: Male\nMESH NAME NOT FOUND: Female\nMESH NAME NOT FOUND: Male\nMESH NAME NOT FOUND: Female\nMESH NAME NOT FOUND: Male\nMESH NAME NOT FOUND: Female\nMESH NAME NOT FOUND: Male\nMESH NAME NOT FOUND: Female\nMESH NAME NOT FOUND: Male\nMESH NAME NOT FOUND: Female\nMESH NAME NOT FOUND: Female\nMESH NAME NOT FOUND: Female\nMESH NAME NOT FOUND: Female\nMESH NAME NOT FOUND: Female\nMESH NAME NOT FOUND: Female\nMESH NAME NOT FOUND: Female\nMESH NAME NOT FOUND: Female\nMESH NAME NOT FOUND: Female\nMESH NAME NOT FOUND: Female\nMESH NAME NOT FOUND: Female\nMESH NAME NOT FOUND: Female\nMESH NAME NOT FOUND: Female\nMESH NAME NOT FOUND: Female\nMESH NAME NOT FOUND: Female\nMESH NAME NOT FOUND: Female\nMESH NAME NOT FOUND: Female\nMESH NAME NOT FOUND: Female\nMESH NAME NOT FOUND: Female\nMESH NAME NOT FOUND: Female\nMESH NAME NOT FOUND: Female\nMESH NAME NOT FOUND: Female\nMESH NAME NOT FOUND: Female\nMESH NAME NOT FOUND: Female\nMESH NAME NOT FOUND: Female\nMESH NAME NOT FOUND: Female\nMESH NAME NOT FOUND: Female\nMESH NAME NOT FOUND: Female\nMESH NAME NOT FOUND: Female\nMESH NAME NOT FOUND: Female\nMESH NAME NOT FOUND: Female\nMESH NAME NOT FOUND: Female\nMESH NAME NOT FOUND: Female\nMESH NAME NOT FOUND: Female\nMESH NAME NOT FOUND: Female\nMESH NAME NOT FOUND: Male\nMESH NAME NOT FOUND: Female\nMESH NAME NOT FOUND: Female\nMESH NAME NOT FOUND: Female\nMESH NAME NOT FOUND: Female\nMESH NAME NOT FOUND: Female\nMESH NAME NOT FOUND: Male\nMESH NAME NOT FOUND: Female\nMESH NAME NOT FOUND: Male\nMESH NAME NOT FOUND: Female\nMESH NAME NOT FOUND: Male\nMESH NAME NOT FOUND: Female\nMESH NAME NOT FOUND: Male\nMESH NAME NOT FOUND: Female\nMESH NAME NOT FOUND: Male\nMESH NAME NOT FOUND: Female\nMESH NAME NOT FOUND: Male\nMESH NAME NOT FOUND: Female\nMESH NAME NOT FOUND: Male\nMESH NAME NOT FOUND: Female\nMESH NAME NOT FOUND: Male\nMESH NAME NOT FOUND: Female\nMESH NAME NOT FOUND: Male\nMESH NAME NOT FOUND: Female\nMESH NAME NOT FOUND: Male\nMESH NAME NOT FOUND: Female\nMESH NAME NOT FOUND: Male\nMESH NAME NOT FOUND: Female\nMESH NAME NOT FOUND: Male\nMESH NAME NOT FOUND: Female\nMESH NAME NOT FOUND: Male\nMESH NAME NOT FOUND: Female\nMESH NAME NOT FOUND: Male\nMESH NAME NOT FOUND: Female\nMESH NAME NOT FOUND: Female\nMESH NAME NOT FOUND: Female\nMESH NAME NOT FOUND: Female\nMESH NAME NOT FOUND: Female\nMESH NAME NOT FOUND: Female\nMESH NAME NOT FOUND: Female\nMESH NAME NOT FOUND: Female\nMESH NAME NOT FOUND: Male\nMESH NAME NOT FOUND: Female\nMESH NAME NOT FOUND: Male\nMESH NAME NOT FOUND: Female\nMESH NAME NOT FOUND: Male\nMESH NAME NOT FOUND: Female\nMESH NAME NOT FOUND: Female\nMESH NAME NOT FOUND: Male\nMESH NAME NOT FOUND: Female\nMESH NAME NOT FOUND: Male\nMESH NAME NOT FOUND: Female\nMESH NAME NOT FOUND: Male\nMESH NAME NOT FOUND: Female\nMESH NAME NOT FOUND: Female\nMESH NAME NOT FOUND: Female\nMESH NAME NOT FOUND: Female\nMESH NAME NOT FOUND: Female\nMESH NAME NOT FOUND: Female\nMESH NAME NOT FOUND: Female\nMESH NAME NOT FOUND: Female\nMESH NAME NOT FOUND: Female\nMESH NAME NOT FOUND: Female\nMESH NAME NOT FOUND: Female\nMESH NAME NOT FOUND: Female\nMESH NAME NOT FOUND: Female\nMESH NAME NOT FOUND: Female\nMESH NAME NOT FOUND: Male\nMESH NAME NOT FOUND: Male\nMESH NAME NOT FOUND: Female\nMESH NAME NOT FOUND: Female\nMESH NAME NOT FOUND: Male\nMESH NAME NOT FOUND: Female\nMESH NAME NOT FOUND: Male\nMESH NAME NOT FOUND: Female\nMESH NAME NOT FOUND: Male\nMESH NAME NOT FOUND: Female\nMESH NAME NOT FOUND: Male\nMESH NAME NOT FOUND: Female\nMESH NAME NOT FOUND: Female\nMESH NAME NOT FOUND: Male\nMESH NAME NOT FOUND: Female\nMESH NAME NOT FOUND: Male\nMESH NAME NOT FOUND: Female\nMESH NAME NOT FOUND: Female\nMESH NAME NOT FOUND: Male\nMESH NAME NOT FOUND: Female\nMESH NAME NOT FOUND: Male\nMESH NAME NOT FOUND: Female\nMESH NAME NOT FOUND: Male\nMESH NAME NOT FOUND: Female\nMESH NAME NOT FOUND: Male\nMESH NAME NOT FOUND: Female\nMESH NAME NOT FOUND: Male\nMESH NAME NOT FOUND: Female\nMESH NAME NOT FOUND: Male\nMESH NAME NOT FOUND: Female\nMESH NAME NOT FOUND: Male\nMESH NAME NOT FOUND: Female\nMESH NAME NOT FOUND: Male\nMESH NAME NOT FOUND: Female\nMESH NAME NOT FOUND: Male\nMESH NAME NOT FOUND: Female\nMESH NAME NOT FOUND: Male\nMESH NAME NOT FOUND: Female\nMESH NAME NOT FOUND: Male\nMESH NAME NOT FOUND: Female\nMESH NAME NOT FOUND: Male\nMESH NAME NOT FOUND: Male\nMESH NAME NOT FOUND: Male\nMESH NAME NOT FOUND: Male\nMESH NAME NOT FOUND: Female\nMESH NAME NOT FOUND: Male\nMESH NAME NOT FOUND: Female\nMESH NAME NOT FOUND: Male\nMESH NAME NOT FOUND: Female\nMESH NAME NOT FOUND: Male\nMESH NAME NOT FOUND: Male\nMESH NAME NOT FOUND: Male\nMESH NAME NOT FOUND: Female\nMESH NAME NOT FOUND: Male\nMESH NAME NOT FOUND: Female\nMESH NAME NOT FOUND: Male\nMESH NAME NOT FOUND: Male\nMESH NAME NOT FOUND: Female\nMESH NAME NOT FOUND: Male\nMESH NAME NOT FOUND: Male\nMESH NAME NOT FOUND: Female\nMESH NAME NOT FOUND: Male\nMESH NAME NOT FOUND: Female\nMESH NAME NOT FOUND: Female\nMESH NAME NOT FOUND: Male\nMESH NAME NOT FOUND: Female\nMESH NAME NOT FOUND: Male\nMESH NAME NOT FOUND: Female\nMESH NAME NOT FOUND: Female\nMESH NAME NOT FOUND: Male\nMESH NAME NOT FOUND: Female\nMESH NAME NOT FOUND: Female\nMESH NAME NOT FOUND: Female\nMESH NAME NOT FOUND: Female\nMESH NAME NOT FOUND: Female\nMESH NAME NOT FOUND: Female\nMESH NAME NOT FOUND: Female\nMESH NAME NOT FOUND: Female\nMESH NAME NOT FOUND: Female\nMESH NAME NOT FOUND: Male\nMESH NAME NOT FOUND: Female\nMESH NAME NOT FOUND: Male\nMESH NAME NOT FOUND: Female\nMESH NAME NOT FOUND: Male\nMESH NAME NOT FOUND: Female\nMESH NAME NOT FOUND: Male\nMESH NAME NOT FOUND: Chlorocebus aethiops\nMESH NAME NOT FOUND: Female\nMESH NAME NOT FOUND: Male\nMESH NAME NOT FOUND: Female\nMESH NAME NOT FOUND: Male\nMESH NAME NOT FOUND: Female\nMESH NAME NOT FOUND: Male\nMESH NAME NOT FOUND: Male\nMESH NAME NOT FOUND: Female\nMESH NAME NOT FOUND: Male\nMESH NAME NOT FOUND: Female\nMESH NAME NOT FOUND: Male\nMESH NAME NOT FOUND: Female\nMESH NAME NOT FOUND: Female\nMESH NAME NOT FOUND: Female\nMESH NAME NOT FOUND: Female\nMESH NAME NOT FOUND: Male\nMESH NAME NOT FOUND: Female\nMESH NAME NOT FOUND: Female\nMESH NAME NOT FOUND: Female\nMESH NAME NOT FOUND: Male\nMESH NAME NOT FOUND: Female\nMESH NAME NOT FOUND: Male\nMESH NAME NOT FOUND: Female\nMESH NAME NOT FOUND: Male\nMESH NAME NOT FOUND: Female\nMESH NAME NOT FOUND: Male\nMESH NAME NOT FOUND: Female\nMESH NAME NOT FOUND: Male\nMESH NAME NOT FOUND: Female\nMESH NAME NOT FOUND: Male\nMESH NAME NOT FOUND: Female\nMESH NAME NOT FOUND: Male\nMESH NAME NOT FOUND: Female\nMESH NAME NOT FOUND: Male\nMESH NAME NOT FOUND: Male\nMESH NAME NOT FOUND: Female\nMESH NAME NOT FOUND: Male\nMESH NAME NOT FOUND: Female\nMESH NAME NOT FOUND: Male\nMESH NAME NOT FOUND: Female\nMESH NAME NOT FOUND: Male\nMESH NAME NOT FOUND: Female\nMESH NAME NOT FOUND: Male\nMESH NAME NOT FOUND: Male\nMESH NAME NOT FOUND: Female\nMESH NAME NOT FOUND: Male\nMESH NAME NOT FOUND: Female\nMESH NAME NOT FOUND: Female\nMESH NAME NOT FOUND: Male\nMESH NAME NOT FOUND: Female\nMESH NAME NOT FOUND: Male\nMESH NAME NOT FOUND: Female\nMESH NAME NOT FOUND: Male\nMESH NAME NOT FOUND: Female\nMESH NAME NOT FOUND: Male\nMESH NAME NOT FOUND: Female\nMESH NAME NOT FOUND: Male\nMESH NAME NOT FOUND: Female\nMESH NAME NOT FOUND: Female\nMESH NAME NOT FOUND: Male\nMESH NAME NOT FOUND: Female\nMESH NAME NOT FOUND: Male\nMESH NAME NOT FOUND: Male\nMESH NAME NOT FOUND: Female\nMESH NAME NOT FOUND: Male\nMESH NAME NOT FOUND: Male\nMESH NAME NOT FOUND: Male\nMESH NAME NOT FOUND: Female\nMESH NAME NOT FOUND: Female\nMESH NAME NOT FOUND: Male\nMESH NAME NOT FOUND: Female\nMESH NAME NOT FOUND: Male\nMESH NAME NOT FOUND: Female\nMESH NAME NOT FOUND: Female\nMESH NAME NOT FOUND: Male\nMESH NAME NOT FOUND: Female\nMESH NAME NOT FOUND: Female\nMESH NAME NOT FOUND: Male\nMESH NAME NOT FOUND: Female\nMESH NAME NOT FOUND: Male\nMESH NAME NOT FOUND: Female\nMESH NAME NOT FOUND: Male\nMESH NAME NOT FOUND: Female\nMESH NAME NOT FOUND: Male\nMESH NAME NOT FOUND: Female\nMESH NAME NOT FOUND: Male\nMESH NAME NOT FOUND: Female\nMESH NAME NOT FOUND: Male\nMESH NAME NOT FOUND: Female\nMESH NAME NOT FOUND: Male\nMESH NAME NOT FOUND: Male\nMESH NAME NOT FOUND: Female\nMESH NAME NOT FOUND: Male\nMESH NAME NOT FOUND: Female\nMESH NAME NOT FOUND: Male\nMESH NAME NOT FOUND: Female\nMESH NAME NOT FOUND: Male\nMESH NAME NOT FOUND: Female\nMESH NAME NOT FOUND: Male\nMESH NAME NOT FOUND: Female\nMESH NAME NOT FOUND: Male\nMESH NAME NOT FOUND: Female\nMESH NAME NOT FOUND: Male\nMESH NAME NOT FOUND: Female\nMESH NAME NOT FOUND: Male\nMESH NAME NOT FOUND: Female\nMESH NAME NOT FOUND: Male\nMESH NAME NOT FOUND: Female\nMESH NAME NOT FOUND: Male\nMESH NAME NOT FOUND: Female\nMESH NAME NOT FOUND: Male\nMESH NAME NOT FOUND: Female\nMESH NAME NOT FOUND: Male\nMESH NAME NOT FOUND: Female\nMESH NAME NOT FOUND: Male\nMESH NAME NOT FOUND: Female\nMESH NAME NOT FOUND: Female\nMESH NAME NOT FOUND: Male\nMESH NAME NOT FOUND: Female\nMESH NAME NOT FOUND: Female\nMESH NAME NOT FOUND: Male\nMESH NAME NOT FOUND: Female\nMESH NAME NOT FOUND: Male\nMESH NAME NOT FOUND: Female\nMESH NAME NOT FOUND: Male\nMESH NAME NOT FOUND: Male\nMESH NAME NOT FOUND: Female\nMESH NAME NOT FOUND: Female\nMESH NAME NOT FOUND: Female\nMESH NAME NOT FOUND: Male\nMESH NAME NOT FOUND: Female\nMESH NAME NOT FOUND: Male\nMESH NAME NOT FOUND: Male\nMESH NAME NOT FOUND: Female\nMESH NAME NOT FOUND: Female\nMESH NAME NOT FOUND: Male\nMESH NAME NOT FOUND: Female\nMESH NAME NOT FOUND: Male\nMESH NAME NOT FOUND: Female\nMESH NAME NOT FOUND: Male\nMESH NAME NOT FOUND: Male\nMESH NAME NOT FOUND: Male\nMESH NAME NOT FOUND: Male\nMESH NAME NOT FOUND: Female\nMESH NAME NOT FOUND: Male\nMESH NAME NOT FOUND: Female\nMESH NAME NOT FOUND: Female\nMESH NAME NOT FOUND: Male\nMESH NAME NOT FOUND: Female\nMESH NAME NOT FOUND: Male\nMESH NAME NOT FOUND: Female\nMESH NAME NOT FOUND: Male\nMESH NAME NOT FOUND: Female\nMESH NAME NOT FOUND: Male\nMESH NAME NOT FOUND: Female\nMESH NAME NOT FOUND: Male\nMESH NAME NOT FOUND: Female\nMESH NAME NOT FOUND: Female\nMESH NAME NOT FOUND: Male\nMESH NAME NOT FOUND: Female\nMESH NAME NOT FOUND: Male\nMESH NAME NOT FOUND: Female\nMESH NAME NOT FOUND: Male\nMESH NAME NOT FOUND: Female\nMESH NAME NOT FOUND: Male\nMESH NAME NOT FOUND: Female\nMESH NAME NOT FOUND: Male\nMESH NAME NOT FOUND: Female\nMESH NAME NOT FOUND: Male\nMESH NAME NOT FOUND: Female\nMESH NAME NOT FOUND: Male\nMESH NAME NOT FOUND: Male\nMESH NAME NOT FOUND: Female\nMESH NAME NOT FOUND: Male\nMESH NAME NOT FOUND: Female\nMESH NAME NOT FOUND: Male\nMESH NAME NOT FOUND: Female\nMESH NAME NOT FOUND: Male\nMESH NAME NOT FOUND: Female\nMESH NAME NOT FOUND: Female\nMESH NAME NOT FOUND: Female\nMESH NAME NOT FOUND: Female\nMESH NAME NOT FOUND: Male\nMESH NAME NOT FOUND: Female\nMESH NAME NOT FOUND: Male\nMESH NAME NOT FOUND: Female\nMESH NAME NOT FOUND: Female\nMESH NAME NOT FOUND: Male\nMESH NAME NOT FOUND: Female\nMESH NAME NOT FOUND: Male\nMESH NAME NOT FOUND: Female\nMESH NAME NOT FOUND: Male\nMESH NAME NOT FOUND: Female\nMESH NAME NOT FOUND: Male\nMESH NAME NOT FOUND: Female\nMESH NAME NOT FOUND: Male\nMESH NAME NOT FOUND: Female\nMESH NAME NOT FOUND: Male\nMESH NAME NOT FOUND: Female\nMESH NAME NOT FOUND: Male\nMESH NAME NOT FOUND: Female\nMESH NAME NOT FOUND: Male\nMESH NAME NOT FOUND: Female\nMESH NAME NOT FOUND: Female\nMESH NAME NOT FOUND: Female\nMESH NAME NOT FOUND: Female\nMESH NAME NOT FOUND: Female\nMESH NAME NOT FOUND: Female\nMESH NAME NOT FOUND: Female\nMESH NAME NOT FOUND: Female\nMESH NAME NOT FOUND: Male\nMESH NAME NOT FOUND: Female\nMESH NAME NOT FOUND: Male\nMESH NAME NOT FOUND: Female\nMESH NAME NOT FOUND: Male\nMESH NAME NOT FOUND: Female\nMESH NAME NOT FOUND: Male\nMESH NAME NOT FOUND: Male\nMESH NAME NOT FOUND: Female\nMESH NAME NOT FOUND: Male\nMESH NAME NOT FOUND: Female\nMESH NAME NOT FOUND: Female\nMESH NAME NOT FOUND: Male\nMESH NAME NOT FOUND: Female\nMESH NAME NOT FOUND: Male\nMESH NAME NOT FOUND: Female\nMESH NAME NOT FOUND: Male\nMESH NAME NOT FOUND: Female\nMESH NAME NOT FOUND: Female\nMESH NAME NOT FOUND: Female\nMESH NAME NOT FOUND: Male\nMESH NAME NOT FOUND: Female\nMESH NAME NOT FOUND: Male\nMESH NAME NOT FOUND: Female\nMESH NAME NOT FOUND: Male\nMESH NAME NOT FOUND: Female\nMESH NAME NOT FOUND: Female\nMESH NAME NOT FOUND: Male\nMESH NAME NOT FOUND: Female\nMESH NAME NOT FOUND: Male\nMESH NAME NOT FOUND: Female\nMESH NAME NOT FOUND: Male\nMESH NAME NOT FOUND: Female\nMESH NAME NOT FOUND: Male\nMESH NAME NOT FOUND: Female\nMESH NAME NOT FOUND: Male\nMESH NAME NOT FOUND: Female\nMESH NAME NOT FOUND: Male\nMESH NAME NOT FOUND: Female\nMESH NAME NOT FOUND: Male\nMESH NAME NOT FOUND: Female\nMESH NAME NOT FOUND: Male\nMESH NAME NOT FOUND: Female\nMESH NAME NOT FOUND: Female\nMESH NAME NOT FOUND: Male\nMESH NAME NOT FOUND: Female\nMESH NAME NOT FOUND: Male\nMESH NAME NOT FOUND: Female\nMESH NAME NOT FOUND: Male\nMESH NAME NOT FOUND: Female\nMESH NAME NOT FOUND: Female\nMESH NAME NOT FOUND: Female\nMESH NAME NOT FOUND: Female\nMESH NAME NOT FOUND: Female\nMESH NAME NOT FOUND: Female\nMESH NAME NOT FOUND: Female\nMESH NAME NOT FOUND: Female\nMESH NAME NOT FOUND: Female\n"
    }
   ],
   "source": [
    "train_set = ToyDS(df)\n",
    "train_loader=DataLoader(dataset= train_set, batch_size = batch_size, shuffle = True, num_workers = num_workers)"
   ]
  },
  {
   "cell_type": "code",
   "execution_count": 64,
   "metadata": {},
   "outputs": [],
   "source": [
    "class VAE(nn.Module):\n",
    "    def __init__(self, input_dim = 64):\n",
    "        super(VAE, self).__init__()\n",
    "        self.input_dim = input_dim\n",
    "        self.fc1 = nn.Linear(self.input_dim, 32)\n",
    "        self.fc21 = nn.Linear(32, 8)\n",
    "        self.fc22 = nn.Linear(32, 8)\n",
    "        self.fc3 = nn.Linear(8, 32)\n",
    "        self.fc4 = nn.Linear(32, self.input_dim)\n",
    "\n",
    "    def encode(self, x):\n",
    "        h1 = F.relu(self.fc1(x))\n",
    "        return self.fc21(h1), self.fc22(h1)\n",
    "\n",
    "    def reparameterize(self, mu, logvar):\n",
    "        std = torch.exp(0.5*logvar)\n",
    "        eps = torch.randn_like(std)\n",
    "        return mu + eps*std\n",
    "\n",
    "    def decode(self, z):\n",
    "        h3 = F.relu(self.fc3(z))\n",
    "        return torch.sigmoid(self.fc4(h3))\n",
    "\n",
    "    def forward(self, x):\n",
    "        mu, logvar = self.encode(x.view(-1, self.input_dim))\n",
    "        z = self.reparameterize(mu, logvar)\n",
    "        return self.decode(z), mu, logvar"
   ]
  },
  {
   "cell_type": "code",
   "execution_count": 65,
   "metadata": {},
   "outputs": [
    {
     "output_type": "stream",
     "name": "stdout",
     "text": "----------------------------------------------------------------\n        Layer (type)               Output Shape         Param #\n================================================================\n            Linear-1                   [-1, 32]           2,080\n            Linear-2                    [-1, 8]             264\n            Linear-3                    [-1, 8]             264\n            Linear-4                   [-1, 32]             288\n            Linear-5                   [-1, 64]           2,112\n================================================================\nTotal params: 5,008\nTrainable params: 5,008\nNon-trainable params: 0\n----------------------------------------------------------------\nInput size (MB): 0.00\nForward/backward pass size (MB): 0.00\nParams size (MB): 0.02\nEstimated Total Size (MB): 0.03\n----------------------------------------------------------------\n"
    }
   ],
   "source": [
    "from torchsummary import summary\n",
    "summary(model, (20,64))"
   ]
  },
  {
   "cell_type": "code",
   "execution_count": 66,
   "metadata": {},
   "outputs": [],
   "source": [
    "def loss_function(recon_x, x, mu, logvar):\n",
    "    #BCE = F.binary_cross_entropy(recon_x, x.view(-1, 64), reduction='sum')\n",
    "\n",
    "    MSE = F.mse_loss(recon_x, x.view(-1, 64))\n",
    "\n",
    "    # see Appendix B from VAE paper:\n",
    "    # Kingma and Welling. Auto-Encoding Variational Bayes. ICLR, 2014\n",
    "    # https://arxiv.org/abs/1312.6114\n",
    "    # 0.5 * sum(1 + log(sigma^2) - mu^2 - sigma^2)\n",
    "    KLD = -0.5 * torch.sum(1 + logvar - mu.pow(2) - logvar.exp())\n",
    "\n",
    "    return MSE + KLD"
   ]
  },
  {
   "cell_type": "code",
   "execution_count": 67,
   "metadata": {},
   "outputs": [],
   "source": [
    "model = VAE().to(device)\n",
    "optimizer = optim.Adam(model.parameters(), lr=1e-3)\n"
   ]
  },
  {
   "cell_type": "code",
   "execution_count": 68,
   "metadata": {},
   "outputs": [],
   "source": [
    "def train_epoch(tr_loader, model, criterion, optimizer, num_epochs):\n",
    "    model.train()\n",
    "    train_log = []\n",
    "    for epoch in range(num_epochs):\n",
    "        print(\"Started training epoch no. {}\",format(epoch+1))\n",
    "        train_loss= 0\n",
    "        for batch_idx, (data, _) in enumerate(train_loader):\n",
    "            data = data.to(device, dtype=torch.float32)\n",
    "\n",
    "            optimizer.zero_grad()\n",
    "            recon_batch, mu, logvar = model(data)\n",
    "            loss = criterion(recon_batch, data, mu, logvar)\n",
    "            loss.backward()\n",
    "            train_loss += loss.item()\n",
    "            optimizer.step()\n",
    "            if batch_idx % log_interval == 0:\n",
    "                print('Train Epoch: {} [{}/{} ({:.0f}%)]\\tLoss: {:.6f}'.format(\n",
    "                    epoch, batch_idx * len(data), len(train_loader.dataset),\n",
    "                    100. * batch_idx / len(train_loader),\n",
    "                    loss.item() / len(data)))\n",
    "\n",
    "        print('====> Epoch: {} Average loss: {:.4f}'.format(\n",
    "            epoch, train_loss / len(train_loader.dataset)))\n",
    "        train_log.append({\n",
    "            'epoch': epoch,\n",
    "            'train_loss': train_loss / len(train_loader)})\n",
    "    return train_log"
   ]
  },
  {
   "cell_type": "code",
   "execution_count": 69,
   "metadata": {},
   "outputs": [],
   "source": [
    "# def test(epoch):\n",
    "#     model.eval()\n",
    "#     test_loss = 0\n",
    "#     with torch.no_grad():\n",
    "#         for i, (data, _) in enumerate(test_loader):\n",
    "#             data = data.to(device)\n",
    "#             recon_batch, mu, logvar = model(data)\n",
    "#             test_loss += loss_function(recon_batch, data, mu, logvar).item()\n",
    "#             if i == 0:\n",
    "#                 n = min(data.size(0), 8)\n",
    "#                 comparison = torch.cat([data[:n],\n",
    "#                                       recon_batch.view(args.batch_size, 1, 28, 28)[:n]])\n",
    "#                 save_image(comparison.cpu(),\n",
    "#                          'results/reconstruction_' + str(epoch) + '.png', nrow=n)\n",
    "\n",
    "#     test_loss /= len(test_loader.dataset)\n",
    "#     print('====> Test set loss: {:.4f}'.format(test_loss))"
   ]
  },
  {
   "cell_type": "code",
   "execution_count": 70,
   "metadata": {},
   "outputs": [
    {
     "output_type": "stream",
     "name": "stdout",
     "text": "Started training epoch no. {} 1\nTrain Epoch: 0 [0/1000 (0%)]\tLoss: 0.121159\nTrain Epoch: 0 [80/1000 (8%)]\tLoss: 0.081465\nTrain Epoch: 0 [160/1000 (16%)]\tLoss: 0.075900\nTrain Epoch: 0 [240/1000 (24%)]\tLoss: 0.055340\nTrain Epoch: 0 [320/1000 (32%)]\tLoss: 0.057219\nTrain Epoch: 0 [400/1000 (40%)]\tLoss: 0.043431\nTrain Epoch: 0 [480/1000 (48%)]\tLoss: 0.057990\nTrain Epoch: 0 [560/1000 (56%)]\tLoss: 0.041790\nTrain Epoch: 0 [640/1000 (64%)]\tLoss: 0.035406\nTrain Epoch: 0 [720/1000 (72%)]\tLoss: 0.036864\nTrain Epoch: 0 [800/1000 (80%)]\tLoss: 0.044475\nTrain Epoch: 0 [880/1000 (88%)]\tLoss: 0.028976\nTrain Epoch: 0 [960/1000 (96%)]\tLoss: 0.032683\n====> Epoch: 0 Average loss: 0.0525\nStarted training epoch no. {} 2\nTrain Epoch: 1 [0/1000 (0%)]\tLoss: 0.026864\nTrain Epoch: 1 [80/1000 (8%)]\tLoss: 0.021696\nTrain Epoch: 1 [160/1000 (16%)]\tLoss: 0.023231\nTrain Epoch: 1 [240/1000 (24%)]\tLoss: 0.026477\nTrain Epoch: 1 [320/1000 (32%)]\tLoss: 0.025466\nTrain Epoch: 1 [400/1000 (40%)]\tLoss: 0.017469\nTrain Epoch: 1 [480/1000 (48%)]\tLoss: 0.021199\nTrain Epoch: 1 [560/1000 (56%)]\tLoss: 0.020555\nTrain Epoch: 1 [640/1000 (64%)]\tLoss: 0.023220\nTrain Epoch: 1 [720/1000 (72%)]\tLoss: 0.020407\nTrain Epoch: 1 [800/1000 (80%)]\tLoss: 0.024210\nTrain Epoch: 1 [880/1000 (88%)]\tLoss: 0.015456\nTrain Epoch: 1 [960/1000 (96%)]\tLoss: 0.020324\n====> Epoch: 1 Average loss: 0.0237\nStarted training epoch no. {} 3\nTrain Epoch: 2 [0/1000 (0%)]\tLoss: 0.021504\nTrain Epoch: 2 [80/1000 (8%)]\tLoss: 0.023756\nTrain Epoch: 2 [160/1000 (16%)]\tLoss: 0.013244\nTrain Epoch: 2 [240/1000 (24%)]\tLoss: 0.035922\nTrain Epoch: 2 [320/1000 (32%)]\tLoss: 0.018954\nTrain Epoch: 2 [400/1000 (40%)]\tLoss: 0.016845\nTrain Epoch: 2 [480/1000 (48%)]\tLoss: 0.013970\nTrain Epoch: 2 [560/1000 (56%)]\tLoss: 0.021105\nTrain Epoch: 2 [640/1000 (64%)]\tLoss: 0.034199\nTrain Epoch: 2 [720/1000 (72%)]\tLoss: 0.018255\nTrain Epoch: 2 [800/1000 (80%)]\tLoss: 0.019691\nTrain Epoch: 2 [880/1000 (88%)]\tLoss: 0.015966\nTrain Epoch: 2 [960/1000 (96%)]\tLoss: 0.016726\n====> Epoch: 2 Average loss: 0.0183\nStarted training epoch no. {} 4\nTrain Epoch: 3 [0/1000 (0%)]\tLoss: 0.018993\nTrain Epoch: 3 [80/1000 (8%)]\tLoss: 0.014470\nTrain Epoch: 3 [160/1000 (16%)]\tLoss: 0.015674\nTrain Epoch: 3 [240/1000 (24%)]\tLoss: 0.013578\nTrain Epoch: 3 [320/1000 (32%)]\tLoss: 0.016514\nTrain Epoch: 3 [400/1000 (40%)]\tLoss: 0.016175\nTrain Epoch: 3 [480/1000 (48%)]\tLoss: 0.015794\nTrain Epoch: 3 [560/1000 (56%)]\tLoss: 0.013738\nTrain Epoch: 3 [640/1000 (64%)]\tLoss: 0.013525\nTrain Epoch: 3 [720/1000 (72%)]\tLoss: 0.017054\nTrain Epoch: 3 [800/1000 (80%)]\tLoss: 0.012576\nTrain Epoch: 3 [880/1000 (88%)]\tLoss: 0.013639\nTrain Epoch: 3 [960/1000 (96%)]\tLoss: 0.013689\n====> Epoch: 3 Average loss: 0.0170\nStarted training epoch no. {} 5\nTrain Epoch: 4 [0/1000 (0%)]\tLoss: 0.013667\nTrain Epoch: 4 [80/1000 (8%)]\tLoss: 0.018768\nTrain Epoch: 4 [160/1000 (16%)]\tLoss: 0.015830\nTrain Epoch: 4 [240/1000 (24%)]\tLoss: 0.016462\nTrain Epoch: 4 [320/1000 (32%)]\tLoss: 0.014310\nTrain Epoch: 4 [400/1000 (40%)]\tLoss: 0.021548\nTrain Epoch: 4 [480/1000 (48%)]\tLoss: 0.023156\nTrain Epoch: 4 [560/1000 (56%)]\tLoss: 0.015196\nTrain Epoch: 4 [640/1000 (64%)]\tLoss: 0.015656\nTrain Epoch: 4 [720/1000 (72%)]\tLoss: 0.014021\nTrain Epoch: 4 [800/1000 (80%)]\tLoss: 0.009914\nTrain Epoch: 4 [880/1000 (88%)]\tLoss: 0.020685\nTrain Epoch: 4 [960/1000 (96%)]\tLoss: 0.015857\n====> Epoch: 4 Average loss: 0.0164\n"
    },
    {
     "output_type": "execute_result",
     "data": {
      "text/plain": "[{'epoch': 0, 'train_loss': 0.4200369848012924},\n {'epoch': 1, 'train_loss': 0.18953652399778367},\n {'epoch': 2, 'train_loss': 0.14679849779605866},\n {'epoch': 3, 'train_loss': 0.13579620110988616},\n {'epoch': 4, 'train_loss': 0.13125062263011933}]"
     },
     "metadata": {},
     "execution_count": 70
    }
   ],
   "source": [
    "train_epoch(train_loader,model,loss_function,optimizer,num_epochs= 5)"
   ]
  },
  {
   "cell_type": "code",
   "execution_count": null,
   "metadata": {},
   "outputs": [],
   "source": [
    "for epoch in range(epochs):\n",
    "        train(epoch)\n",
    "        test(epoch)\n",
    "        with torch.no_grad():\n",
    "            sample = torch.randn(64, 20).to(device)\n",
    "            sample = model.decode(sample).cpu()"
   ]
  }
 ],
 "metadata": {
  "language_info": {
   "codemirror_mode": {
    "name": "ipython",
    "version": 3
   },
   "file_extension": ".py",
   "mimetype": "text/x-python",
   "name": "python",
   "nbconvert_exporter": "python",
   "pygments_lexer": "ipython3",
   "version": "3.6.8-final"
  },
  "orig_nbformat": 2,
  "kernelspec": {
   "name": "python36864bitnlpcondaedb4459334ba4ee28e4936a12647cfbd",
   "display_name": "Python 3.6.8 64-bit ('nlp': conda)"
  }
 },
 "nbformat": 4,
 "nbformat_minor": 2
}