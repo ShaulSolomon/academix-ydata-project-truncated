{
 "cells": [
  {
   "cell_type": "markdown",
   "metadata": {},
   "source": [
    "# VAE"
   ]
  },
  {
   "cell_type": "code",
   "execution_count": 1,
   "metadata": {},
   "outputs": [
    {
     "name": "stdout",
     "output_type": "stream",
     "text": [
      "Collecting elasticsearch\n",
      "  Using cached elasticsearch-7.8.0-py2.py3-none-any.whl (188 kB)\n",
      "Requirement already satisfied: urllib3>=1.21.1 in /home/ubuntu/anaconda3/envs/pytorch_latest_p36/lib/python3.6/site-packages (from elasticsearch) (1.25.8)\n",
      "Requirement already satisfied: certifi in /home/ubuntu/anaconda3/envs/pytorch_latest_p36/lib/python3.6/site-packages (from elasticsearch) (2020.4.5.2)\n",
      "Installing collected packages: elasticsearch\n",
      "Successfully installed elasticsearch-7.8.0\n",
      "Collecting elasticsearch_dsl\n",
      "  Using cached elasticsearch_dsl-7.2.1-py2.py3-none-any.whl (53 kB)\n",
      "Requirement already satisfied: six in /home/ubuntu/anaconda3/envs/pytorch_latest_p36/lib/python3.6/site-packages (from elasticsearch_dsl) (1.14.0)\n",
      "Requirement already satisfied: elasticsearch<8.0.0,>=7.0.0 in /home/ubuntu/anaconda3/envs/pytorch_latest_p36/lib/python3.6/site-packages (from elasticsearch_dsl) (7.8.0)\n",
      "Requirement already satisfied: python-dateutil in /home/ubuntu/anaconda3/envs/pytorch_latest_p36/lib/python3.6/site-packages (from elasticsearch_dsl) (2.8.1)\n",
      "Requirement already satisfied: certifi in /home/ubuntu/anaconda3/envs/pytorch_latest_p36/lib/python3.6/site-packages (from elasticsearch<8.0.0,>=7.0.0->elasticsearch_dsl) (2020.4.5.2)\n",
      "Requirement already satisfied: urllib3>=1.21.1 in /home/ubuntu/anaconda3/envs/pytorch_latest_p36/lib/python3.6/site-packages (from elasticsearch<8.0.0,>=7.0.0->elasticsearch_dsl) (1.25.8)\n",
      "Installing collected packages: elasticsearch-dsl\n",
      "Successfully installed elasticsearch-dsl-7.2.1\n",
      "Collecting pymed\n",
      "  Using cached pymed-0.8.9-py3-none-any.whl (9.6 kB)\n",
      "Requirement already satisfied: requests>=2.20.0 in /home/ubuntu/anaconda3/envs/pytorch_latest_p36/lib/python3.6/site-packages (from pymed) (2.23.0)\n",
      "Requirement already satisfied: certifi>=2017.4.17 in /home/ubuntu/anaconda3/envs/pytorch_latest_p36/lib/python3.6/site-packages (from requests>=2.20.0->pymed) (2020.4.5.2)\n",
      "Requirement already satisfied: urllib3!=1.25.0,!=1.25.1,<1.26,>=1.21.1 in /home/ubuntu/anaconda3/envs/pytorch_latest_p36/lib/python3.6/site-packages (from requests>=2.20.0->pymed) (1.25.8)\n",
      "Requirement already satisfied: idna<3,>=2.5 in /home/ubuntu/anaconda3/envs/pytorch_latest_p36/lib/python3.6/site-packages (from requests>=2.20.0->pymed) (2.9)\n",
      "Requirement already satisfied: chardet<4,>=3.0.2 in /home/ubuntu/anaconda3/envs/pytorch_latest_p36/lib/python3.6/site-packages (from requests>=2.20.0->pymed) (3.0.4)\n",
      "Installing collected packages: pymed\n",
      "Successfully installed pymed-0.8.9\n",
      "Collecting gensim\n",
      "  Using cached gensim-3.8.3-cp36-cp36m-manylinux1_x86_64.whl (24.2 MB)\n",
      "Requirement already satisfied: numpy>=1.11.3 in /home/ubuntu/anaconda3/envs/pytorch_latest_p36/lib/python3.6/site-packages (from gensim) (1.18.1)\n",
      "Processing /home/ubuntu/.cache/pip/wheels/a4/9b/d5/85705a7ab783cd6f7bd718f01d3b1396272f30044e3c36401a/smart_open-2.1.0-py3-none-any.whl\n",
      "Requirement already satisfied: scipy>=0.18.1 in /home/ubuntu/anaconda3/envs/pytorch_latest_p36/lib/python3.6/site-packages (from gensim) (1.4.1)\n",
      "Requirement already satisfied: six>=1.5.0 in /home/ubuntu/anaconda3/envs/pytorch_latest_p36/lib/python3.6/site-packages (from gensim) (1.14.0)\n",
      "Requirement already satisfied: requests in /home/ubuntu/anaconda3/envs/pytorch_latest_p36/lib/python3.6/site-packages (from smart-open>=1.8.1->gensim) (2.23.0)\n",
      "Requirement already satisfied: boto in /home/ubuntu/anaconda3/envs/pytorch_latest_p36/lib/python3.6/site-packages (from smart-open>=1.8.1->gensim) (2.49.0)\n",
      "Requirement already satisfied: boto3 in /home/ubuntu/anaconda3/envs/pytorch_latest_p36/lib/python3.6/site-packages (from smart-open>=1.8.1->gensim) (1.14.5)\n",
      "Requirement already satisfied: urllib3!=1.25.0,!=1.25.1,<1.26,>=1.21.1 in /home/ubuntu/anaconda3/envs/pytorch_latest_p36/lib/python3.6/site-packages (from requests->smart-open>=1.8.1->gensim) (1.25.8)\n",
      "Requirement already satisfied: chardet<4,>=3.0.2 in /home/ubuntu/anaconda3/envs/pytorch_latest_p36/lib/python3.6/site-packages (from requests->smart-open>=1.8.1->gensim) (3.0.4)\n",
      "Requirement already satisfied: certifi>=2017.4.17 in /home/ubuntu/anaconda3/envs/pytorch_latest_p36/lib/python3.6/site-packages (from requests->smart-open>=1.8.1->gensim) (2020.4.5.2)\n",
      "Requirement already satisfied: idna<3,>=2.5 in /home/ubuntu/anaconda3/envs/pytorch_latest_p36/lib/python3.6/site-packages (from requests->smart-open>=1.8.1->gensim) (2.9)\n",
      "Requirement already satisfied: botocore<1.18.0,>=1.17.5 in /home/ubuntu/anaconda3/envs/pytorch_latest_p36/lib/python3.6/site-packages (from boto3->smart-open>=1.8.1->gensim) (1.17.5)\n",
      "Requirement already satisfied: s3transfer<0.4.0,>=0.3.0 in /home/ubuntu/anaconda3/envs/pytorch_latest_p36/lib/python3.6/site-packages (from boto3->smart-open>=1.8.1->gensim) (0.3.3)\n",
      "Requirement already satisfied: jmespath<1.0.0,>=0.7.1 in /home/ubuntu/anaconda3/envs/pytorch_latest_p36/lib/python3.6/site-packages (from boto3->smart-open>=1.8.1->gensim) (0.9.4)\n",
      "Requirement already satisfied: docutils<0.16,>=0.10 in /home/ubuntu/anaconda3/envs/pytorch_latest_p36/lib/python3.6/site-packages (from botocore<1.18.0,>=1.17.5->boto3->smart-open>=1.8.1->gensim) (0.15.2)\n",
      "Requirement already satisfied: python-dateutil<3.0.0,>=2.1 in /home/ubuntu/anaconda3/envs/pytorch_latest_p36/lib/python3.6/site-packages (from botocore<1.18.0,>=1.17.5->boto3->smart-open>=1.8.1->gensim) (2.8.1)\n",
      "Installing collected packages: smart-open, gensim\n",
      "Successfully installed gensim-3.8.3 smart-open-2.1.0\n",
      "Collecting torchsummary\n",
      "  Using cached torchsummary-1.5.1-py3-none-any.whl (2.8 kB)\n",
      "Installing collected packages: torchsummary\n",
      "Successfully installed torchsummary-1.5.1\n"
     ]
    }
   ],
   "source": [
    "USE_SERVER = True\n",
    "if USE_SERVER:\n",
    "    !pip install elasticsearch\n",
    "    !pip install elasticsearch_dsl\n",
    "    !pip install pymed\n",
    "    !pip install gensim\n",
    "    !pip install torchsummary"
   ]
  },
  {
   "cell_type": "code",
   "execution_count": 344,
   "metadata": {
    "tags": []
   },
   "outputs": [
    {
     "name": "stdout",
     "output_type": "stream",
     "text": [
      "The autoreload extension is already loaded. To reload it, use:\n",
      "  %reload_ext autoreload\n"
     ]
    }
   ],
   "source": [
    "from __future__ import print_function\n",
    "import argparse\n",
    "import numpy as np\n",
    "import torch\n",
    "import torch.utils.data\n",
    "from torch import nn, optim\n",
    "from torch.nn import functional as F\n",
    "from torchvision import datasets, transforms\n",
    "from torchvision.utils import save_image\n",
    "import pandas as pd\n",
    "import utils\n",
    "import os\n",
    "from utils import PROJECT_ROOT, DATA_PATH\n",
    "import yuval_module.paper_source as PaperSource\n",
    "\n",
    "from sklearn.feature_extraction.text import TfidfTransformer\n",
    "from sklearn.feature_extraction.text import CountVectorizer\n",
    "from sklearn.pipeline import Pipeline\n",
    "\n",
    "import py_4.get_mesh_vec as get_mesh_vec\n",
    "import py_3.sim_matrix_3 as sim_matrix_3\n",
    "import py_4.get_all_features as get_all_features \n",
    "\n",
    "from torch.utils.data import Dataset, DataLoader\n",
    "\n",
    "from sklearn.manifold import TSNE\n",
    "%matplotlib inline\n",
    "import matplotlib.pyplot as plt\n",
    "from mpl_toolkits.mplot3d import Axes3D\n",
    "import seaborn as sns\n",
    "import time\n",
    "\n",
    "from sklearn.preprocessing import StandardScaler\n",
    "\n",
    "%load_ext autoreload\n",
    "%autoreload 2"
   ]
  },
  {
   "cell_type": "code",
   "execution_count": 5,
   "metadata": {},
   "outputs": [],
   "source": [
    "mesh_embed=get_mesh_vec.MeshEmbeddings(PROJECT_ROOT + \"data/mesh_data/MeSHFeatureGeneratedByDeepWalk.csv\")"
   ]
  },
  {
   "cell_type": "code",
   "execution_count": 6,
   "metadata": {
    "tags": []
   },
   "outputs": [
    {
     "name": "stdout",
     "output_type": "stream",
     "text": [
      "PULLING FROM S3\n",
      "FILE PULLED\n"
     ]
    }
   ],
   "source": [
    "FILE = \"enriched_labeled_dataset_large\" \n",
    "if os.path.exists(PROJECT_ROOT + DATA_PATH + FILE):\n",
    "    print(\"READING FROM LOCAL\")\n",
    "    if FILE.split(\".\")[1] == \"json\":\n",
    "        df = pd.read_json(PROJECT_ROOT + DATA_PATH + FILE)\n",
    "    else:\n",
    "        df = pd.read_csv(PROJECT_ROOT + DATA_PATH + FILE)\n",
    "    #ps = PaperSource()\n",
    "else:\n",
    "    print(\"PULLING FROM S3\")\n",
    "    ps = sim_matrix_3.load_dataset(FILE)\n",
    "    df = ps.get_dataset()\n",
    "\n",
    "df.drop(columns=[\"last_author_country\"],inplace=True)\n",
    "df.rename(columns={'ORG_STATE':'last_author_country'},inplace=True)\n",
    "\n",
    "print(\"FILE PULLED\")"
   ]
  },
  {
   "cell_type": "markdown",
   "metadata": {},
   "source": [
    "### Run VAE "
   ]
  },
  {
   "cell_type": "code",
   "execution_count": 7,
   "metadata": {},
   "outputs": [
    {
     "name": "stdout",
     "output_type": "stream",
     "text": [
      "/home/ubuntu/AYP_b\n"
     ]
    }
   ],
   "source": [
    "cd .."
   ]
  },
  {
   "cell_type": "code",
   "execution_count": 312,
   "metadata": {},
   "outputs": [],
   "source": [
    "auth_core = pd.read_csv(\"data/train_set_author_names.csv\")[\"0\"]\n",
    "auth_eps = pd.read_csv(\"data/val_set_author_names.csv\")[\"0\"]\n",
    "auth_usecase = pd.read_csv(\"data/test_set_author_names.csv\")[\"0\"]"
   ]
  },
  {
   "cell_type": "code",
   "execution_count": 313,
   "metadata": {},
   "outputs": [],
   "source": [
    "selection_train = list(set(df['last_author_name']) - set(auth_usecase))[:4000]\n",
    "selection_val = list(set(df['last_author_name']) - set(auth_usecase))[4000:5000]\n",
    "selection_test = list(set(df['last_author_name']) - set(auth_usecase))[5000:6000]"
   ]
  },
  {
   "cell_type": "code",
   "execution_count": 314,
   "metadata": {},
   "outputs": [
    {
     "data": {
      "text/plain": [
       "device(type='cuda')"
      ]
     },
     "execution_count": 314,
     "metadata": {},
     "output_type": "execute_result"
    }
   ],
   "source": [
    "#settings\n",
    "\n",
    "BATCH_SIZE= 32\n",
    "EPOCHS = 30\n",
    "cuda = torch.cuda.is_available()\n",
    "seed = 42\n",
    "log_interval = 10\n",
    "num_workers = 2\n",
    "\n",
    "#check for cuda\n",
    "device = torch.device('cuda' if cuda else 'cpu')\n",
    "\n",
    "torch.manual_seed(seed)\n",
    "kwargs = {'num_workers': 1, 'pin_memory': True} if cuda else {}\n",
    "\n",
    "device"
   ]
  },
  {
   "cell_type": "code",
   "execution_count": 315,
   "metadata": {},
   "outputs": [
    {
     "name": "stdout",
     "output_type": "stream",
     "text": [
      "'/home/ubuntu/AYP/code/models/names_epochs_2_vectorSize_64_window_2.model' already exits. Using existing model to re-generate results.\n",
      "'/home/ubuntu/AYP/code/models/co_authors_epochs_2_vectorSize_64_window_2.model' already exits. Using existing model to re-generate results.\n"
     ]
    }
   ],
   "source": [
    "all_vae = get_all_features.VAE_Features(df)"
   ]
  },
  {
   "cell_type": "code",
   "execution_count": 316,
   "metadata": {},
   "outputs": [],
   "source": [
    "df_nonan = df[np.invert(df['mesh'].isna())]"
   ]
  },
  {
   "cell_type": "code",
   "execution_count": 317,
   "metadata": {},
   "outputs": [],
   "source": [
    "class ToyDS(Dataset):\n",
    "    def __init__(self,df,selection,vae_features = None):\n",
    "        super().__init__()\n",
    "        self.df = df[df['last_author_name'].isin(selection)]\n",
    "        if vae_features is None:\n",
    "            print(\"Creating new VAE FEATURES\")\n",
    "            self.vae_features = get_all_features.VAE_Features(self.df)\n",
    "        else:\n",
    "            print(\"Using pre-defined VAE FEATURES\")\n",
    "            self.vae_features = vae_features\n",
    "        self.features = self.vae_features.get_all_features(self.df)\n",
    "        print(list(self.vae_features.mesh_features.mesh_missing))\n",
    "        self.input_dim = self.vae_features.input_dims\n",
    "            \n",
    "    def __len__(self):\n",
    "        return self.df.shape[0]\n",
    "    \n",
    "    def __getitem__(self, idx):\n",
    "        features = self.features[idx]\n",
    "        return features\n",
    "    \n",
    "    def __getvae__(self):\n",
    "        return self.vae_features"
   ]
  },
  {
   "cell_type": "code",
   "execution_count": 318,
   "metadata": {
    "tags": [
     "outputPrepend"
    ]
   },
   "outputs": [
    {
     "name": "stdout",
     "output_type": "stream",
     "text": [
      "Using pre-defined VAE FEATURES\n"
     ]
    },
    {
     "name": "stderr",
     "output_type": "stream",
     "text": [
      "/home/ubuntu/AYP_b/code/py_4/get_all_features.py:85: SettingWithCopyWarning: \n",
      "A value is trying to be set on a copy of a slice from a DataFrame.\n",
      "Try using .loc[row_indexer,col_indexer] = value instead\n",
      "\n",
      "See the caveats in the documentation: https://pandas.pydata.org/pandas-docs/stable/user_guide/indexing.html#returning-a-view-versus-a-copy\n",
      "  df['co_authors']=df.authors.apply( lambda x: [i['name'] for i in x] )\n"
     ]
    },
    {
     "name": "stdout",
     "output_type": "stream",
     "text": [
      "Defining new scaler\n",
      "['MESH NAME NOT FOUND: Outcome and Process Assessment, Health Care', 'MESH NAME NOT FOUND: Aldehyde Dehydrogenase 1', 'MESH NAME NOT FOUND: Recognition, Psychology', 'MESH NAME NOT FOUND: Centers for Medicare and Medicaid Services, U.S.', 'MESH NAME NOT FOUND: Mitophagy', 'MESH NAME NOT FOUND: Inhibition, Psychological', 'MESH NAME NOT FOUND: Infections', 'MESH NAME NOT FOUND: Chlorocebus aethiops', 'MESH NAME NOT FOUND: B-Cell Lymphoma 3 Protein', \"MESH NAME NOT FOUND: Practice Patterns, Nurses'\", 'MESH NAME NOT FOUND: Phospholipid Hydroperoxide Glutathione Peroxidase', 'MESH NAME NOT FOUND: Outcome Assessment, Health Care', \"MESH NAME NOT FOUND: Practice Patterns, Physicians'\", 'MESH NAME NOT FOUND: Conditioning, Psychological', 'MESH NAME NOT FOUND: Phosphoinositide-3 Kinase Inhibitors', 'MESH NAME NOT FOUND: Early Intervention, Educational', 'MESH NAME NOT FOUND: Female', 'MESH NAME NOT FOUND: Transfer, Psychology', 'MESH NAME NOT FOUND: Copper-Transporting ATPases', 'MESH NAME NOT FOUND: Discrimination, Psychological', 'MESH NAME NOT FOUND: Male', 'MESH NAME NOT FOUND: Reinforcement, Psychology']\n"
     ]
    }
   ],
   "source": [
    "train_set = ToyDS(df_nonan, selection_train, all_vae)\n",
    "train_loader=DataLoader(dataset= train_set, batch_size = BATCH_SIZE, shuffle = True, num_workers = num_workers)"
   ]
  },
  {
   "cell_type": "code",
   "execution_count": 319,
   "metadata": {},
   "outputs": [
    {
     "name": "stdout",
     "output_type": "stream",
     "text": [
      "Using pre-defined VAE FEATURES\n"
     ]
    },
    {
     "name": "stderr",
     "output_type": "stream",
     "text": [
      "/home/ubuntu/AYP_b/code/py_4/get_all_features.py:85: SettingWithCopyWarning: \n",
      "A value is trying to be set on a copy of a slice from a DataFrame.\n",
      "Try using .loc[row_indexer,col_indexer] = value instead\n",
      "\n",
      "See the caveats in the documentation: https://pandas.pydata.org/pandas-docs/stable/user_guide/indexing.html#returning-a-view-versus-a-copy\n",
      "  df['co_authors']=df.authors.apply( lambda x: [i['name'] for i in x] )\n"
     ]
    },
    {
     "name": "stdout",
     "output_type": "stream",
     "text": [
      "Using old scaler\n",
      "['MESH NAME NOT FOUND: Outcome and Process Assessment, Health Care', 'MESH NAME NOT FOUND: Aldehyde Dehydrogenase 1', 'MESH NAME NOT FOUND: Recognition, Psychology', 'MESH NAME NOT FOUND: Centers for Medicare and Medicaid Services, U.S.', 'MESH NAME NOT FOUND: Mitophagy', 'MESH NAME NOT FOUND: Inhibition, Psychological', 'MESH NAME NOT FOUND: Infections', 'MESH NAME NOT FOUND: Chlorocebus aethiops', 'MESH NAME NOT FOUND: B-Cell Lymphoma 3 Protein', \"MESH NAME NOT FOUND: Practice Patterns, Nurses'\", 'MESH NAME NOT FOUND: Phospholipid Hydroperoxide Glutathione Peroxidase', 'MESH NAME NOT FOUND: Outcome Assessment, Health Care', 'MESH NAME NOT FOUND: Indigenous Peoples', \"MESH NAME NOT FOUND: Practice Patterns, Physicians'\", 'MESH NAME NOT FOUND: Conditioning, Psychological', 'MESH NAME NOT FOUND: Phosphoinositide-3 Kinase Inhibitors', 'MESH NAME NOT FOUND: Early Intervention, Educational', 'MESH NAME NOT FOUND: Female', 'MESH NAME NOT FOUND: Transfer, Psychology', 'MESH NAME NOT FOUND: Copper-Transporting ATPases', 'MESH NAME NOT FOUND: Discrimination, Psychological', 'MESH NAME NOT FOUND: Male', 'MESH NAME NOT FOUND: Reinforcement, Psychology']\n"
     ]
    }
   ],
   "source": [
    "val_set = ToyDS(df_nonan, selection_val, all_vae)\n",
    "val_loader=DataLoader(dataset= val_set, batch_size = BATCH_SIZE, shuffle = True, num_workers = num_workers)"
   ]
  },
  {
   "cell_type": "code",
   "execution_count": 320,
   "metadata": {},
   "outputs": [
    {
     "name": "stdout",
     "output_type": "stream",
     "text": [
      "The number of features in the train:  64\n",
      "The number of train data in the train:  19418\n"
     ]
    }
   ],
   "source": [
    "print(\"The number of features in the train: \",train_set.input_dim)\n",
    "print(\"The number of train data in the train: \",train_set.__len__())"
   ]
  },
  {
   "cell_type": "code",
   "execution_count": 321,
   "metadata": {},
   "outputs": [
    {
     "name": "stdout",
     "output_type": "stream",
     "text": [
      "The number of features in the val:  64\n",
      "The number of train data in the val:  4652\n"
     ]
    }
   ],
   "source": [
    "print(\"The number of features in the val: \",val_set.input_dim)\n",
    "print(\"The number of train data in the val: \",val_set.__len__())"
   ]
  },
  {
   "cell_type": "code",
   "execution_count": 322,
   "metadata": {},
   "outputs": [],
   "source": [
    "class VAE(nn.Module):\n",
    "    def __init__(self, hidden_dim1, hidden_dim2, latent_dim, input_dim = train_set.input_dim):\n",
    "        super(VAE, self).__init__()\n",
    "        self.input_dim = input_dim\n",
    "        self.hd1 = hidden_dim1\n",
    "        self.hd2 = hidden_dim2\n",
    "        self.latent_dim = latent_dim\n",
    "        \n",
    "        self.fc1 = nn.Linear(self.input_dim, self.hd1)\n",
    "        self.fc2 = nn.Linear(self.hd1, self.hd2)\n",
    "        self.fc31 = nn.Linear(self.hd2, self.latent_dim)\n",
    "        self.fc32 = nn.Linear(self.hd2, self.latent_dim)\n",
    "        self.fc4 = nn.Linear(self.latent_dim, self.hd2)\n",
    "        self.fc5 = nn.Linear(self.hd2, self.hd1)\n",
    "        self.fc6 = nn.Linear(self.hd1,self.input_dim)\n",
    "        \n",
    "        self.dropout = torch.nn.Dropout(p=0.4) \n",
    "        self.bn1 = nn.BatchNorm1d(self.hd1)\n",
    "        self.bn2 = nn.BatchNorm1d(self.hd2)\n",
    "        self.bn4 = nn.BatchNorm1d(self.hd2)\n",
    "        self.bn5 = nn.BatchNorm1d(self.hd1)\n",
    "\n",
    "    def encode(self, x):\n",
    "        h = self.bn1(F.relu(self.dropout(self.fc1(x))))\n",
    "        h1 = self.bn2(F.relu(self.dropout(self.fc2(h))))\n",
    "        return self.fc31(h1), self.fc32(h1)\n",
    "\n",
    "    def reparameterize(self, mu, logvar):\n",
    "        std = torch.exp(0.5*logvar)\n",
    "        eps = torch.randn_like(std)\n",
    "        return eps.mul(std).add_(mu) # return z sample\n",
    "        \n",
    "\n",
    "    def decode(self, z):\n",
    "        h = self.bn4(F.relu(self.dropout(self.fc4(z))))\n",
    "        h1 = self.bn5(F.relu(self.dropout(self.fc5(h))))\n",
    "        return self.fc6(h1)\n",
    "\n",
    "    def forward(self, x):\n",
    "        mu, logvar = self.encode(x.view(-1, self.input_dim))\n",
    "        z = self.reparameterize(mu, logvar)\n",
    "        return self.decode(z), mu, logvar"
   ]
  },
  {
   "cell_type": "code",
   "execution_count": 323,
   "metadata": {},
   "outputs": [],
   "source": [
    "def loss_function(recon_x, x, mu, log_var):\n",
    "\n",
    "#     MSE = F.l1_loss(recon_x, x.view(-1, train_set.input_dim))\n",
    "\n",
    "#     # see Appendix B from VAE paper:\n",
    "#     # Kingma and Welling. Auto-Encoding Variational Bayes. ICLR, 2014\n",
    "#     # https://arxiv.org/abs/1312.6114\n",
    "#     # 0.5 * sum(1 + log(sigma^2) - mu^2 - sigma^2)\n",
    "# #     KLD /= BATCH_SIZE * train_set.input_dim\n",
    "    \n",
    "# #     gamma = min(1.0,np.log(epoch+1))\n",
    "#     assert(KLD >= 0)\n",
    "    \n",
    "    \n",
    "#     batch_size = x.size()[0]\n",
    "#     MSE =  F.mse_loss(recon_x, x)\n",
    "    MSE = torch.mean(torch.square(recon_x - x))\n",
    "#     KLD = -0.5 * torch.sum(1 + log_var - mu.pow(2) - log_var.exp())\n",
    "    KLD_element = mu.pow(2).add_(log_var.exp()).mul_(-1).add_(1).add_(log_var)\n",
    "    KLD = torch.sum(KLD_element).mul_(-0.5) / BATCH_SIZE\n",
    "    if KLD < -1e-5:\n",
    "        print(KLD)\n",
    "    return MSE# + KLD "
   ]
  },
  {
   "cell_type": "code",
   "execution_count": 324,
   "metadata": {},
   "outputs": [],
   "source": [
    "model = VAE(hidden_dim1=32,hidden_dim2=16,latent_dim=8).to(device)\n",
    "optimizer = optim.Adam(model.parameters())"
   ]
  },
  {
   "cell_type": "code",
   "execution_count": 325,
   "metadata": {},
   "outputs": [],
   "source": [
    "num_batches = np.ceil(len(train_loader.dataset) / BATCH_SIZE)"
   ]
  },
  {
   "cell_type": "code",
   "execution_count": 326,
   "metadata": {},
   "outputs": [],
   "source": [
    "def train_epoch(tr_loader, model, criterion, optimizer, num_epochs):\n",
    "    model.train()\n",
    "    train_log = []\n",
    "    val_log = []\n",
    "\n",
    "    for epoch in range(num_epochs):\n",
    "        print(\"Started training epoch no. {}\".format(epoch+1))\n",
    "        train_loss= 0\n",
    "        for batch_idx, data in enumerate(train_loader):\n",
    "            data = data.to(device, dtype=torch.float32)\n",
    "            optimizer.zero_grad()\n",
    "            recon_batch, mu, logvar = model(data)\n",
    "            loss = criterion(recon_batch, data, mu, logvar)\n",
    "            loss.backward()\n",
    "            train_loss += loss.item()\n",
    "            optimizer.step()\n",
    "        print('====> Epoch: {} Average loss: {:.8f}\\n'.format(\n",
    "            epoch+1, train_loss / num_batches))\n",
    "        train_log.append({\n",
    "            'epoch': epoch,\n",
    "            'train_loss': train_loss / num_batches})\n",
    "        val_loss = test_model(val_loader,model)\n",
    "        print('====> Val set loss: {:.4f}'.format(val_loss))\n",
    "        val_log.append(val_loss)\n",
    "    return train_log, val_log"
   ]
  },
  {
   "cell_type": "code",
   "execution_count": 327,
   "metadata": {},
   "outputs": [],
   "source": [
    "def test_model(test_loader, model):\n",
    "    model.eval()\n",
    "    num_batch_test = np.ceil(len(test_loader.dataset) / BATCH_SIZE)\n",
    "    test_loss = 0\n",
    "    with torch.no_grad():\n",
    "        for i, data in enumerate(test_loader):\n",
    "            data = data.to(device, dtype=torch.float32)\n",
    "            recon_batch, mu, logvar = model(data)\n",
    "            test_loss += loss_function(recon_batch, data, mu, logvar).item()\n",
    "    test_loss /= num_batch_test\n",
    "    return test_loss\n"
   ]
  },
  {
   "cell_type": "code",
   "execution_count": 328,
   "metadata": {
    "collapsed": true,
    "jupyter": {
     "outputs_hidden": true
    },
    "tags": []
   },
   "outputs": [
    {
     "name": "stdout",
     "output_type": "stream",
     "text": [
      "Started training epoch no. 1\n",
      "====> Epoch: 1 Average loss: 0.99971895\n",
      "\n",
      "====> Val set loss: 0.8352\n",
      "Started training epoch no. 2\n",
      "====> Epoch: 2 Average loss: 0.75046828\n",
      "\n",
      "====> Val set loss: 0.7448\n",
      "Started training epoch no. 3\n",
      "====> Epoch: 3 Average loss: 0.69895736\n",
      "\n",
      "====> Val set loss: 0.6735\n",
      "Started training epoch no. 4\n",
      "====> Epoch: 4 Average loss: 0.62438457\n",
      "\n",
      "====> Val set loss: 0.6166\n",
      "Started training epoch no. 5\n",
      "====> Epoch: 5 Average loss: 0.57825538\n",
      "\n",
      "====> Val set loss: 0.5737\n",
      "Started training epoch no. 6\n",
      "====> Epoch: 6 Average loss: 0.54643082\n",
      "\n",
      "====> Val set loss: 0.5575\n",
      "Started training epoch no. 7\n",
      "====> Epoch: 7 Average loss: 0.53077567\n",
      "\n",
      "====> Val set loss: 0.5416\n",
      "Started training epoch no. 8\n",
      "====> Epoch: 8 Average loss: 0.51357095\n",
      "\n",
      "====> Val set loss: 0.5261\n",
      "Started training epoch no. 9\n",
      "====> Epoch: 9 Average loss: 0.50167176\n",
      "\n",
      "====> Val set loss: 0.5122\n",
      "Started training epoch no. 10\n",
      "====> Epoch: 10 Average loss: 0.48594715\n",
      "\n",
      "====> Val set loss: 0.4981\n",
      "Started training epoch no. 11\n",
      "====> Epoch: 11 Average loss: 0.47709816\n",
      "\n",
      "====> Val set loss: 0.4915\n",
      "Started training epoch no. 12\n",
      "====> Epoch: 12 Average loss: 0.47219895\n",
      "\n",
      "====> Val set loss: 0.4871\n",
      "Started training epoch no. 13\n",
      "====> Epoch: 13 Average loss: 0.46859447\n",
      "\n",
      "====> Val set loss: 0.4852\n",
      "Started training epoch no. 14\n",
      "====> Epoch: 14 Average loss: 0.46593113\n",
      "\n",
      "====> Val set loss: 0.4819\n",
      "Started training epoch no. 15\n",
      "====> Epoch: 15 Average loss: 0.46414619\n",
      "\n",
      "====> Val set loss: 0.4818\n",
      "Started training epoch no. 16\n",
      "====> Epoch: 16 Average loss: 0.46239714\n",
      "\n",
      "====> Val set loss: 0.4820\n",
      "Started training epoch no. 17\n",
      "====> Epoch: 17 Average loss: 0.46112117\n",
      "\n",
      "====> Val set loss: 0.4809\n",
      "Started training epoch no. 18\n",
      "====> Epoch: 18 Average loss: 0.46016207\n",
      "\n",
      "====> Val set loss: 0.4790\n",
      "Started training epoch no. 19\n",
      "====> Epoch: 19 Average loss: 0.45927359\n",
      "\n",
      "====> Val set loss: 0.4775\n",
      "Started training epoch no. 20\n",
      "====> Epoch: 20 Average loss: 0.45795497\n",
      "\n",
      "====> Val set loss: 0.4778\n",
      "Started training epoch no. 21\n",
      "====> Epoch: 21 Average loss: 0.45726184\n",
      "\n",
      "====> Val set loss: 0.4775\n",
      "Started training epoch no. 22\n",
      "====> Epoch: 22 Average loss: 0.45646720\n",
      "\n",
      "====> Val set loss: 0.4778\n",
      "Started training epoch no. 23\n",
      "====> Epoch: 23 Average loss: 0.45578290\n",
      "\n",
      "====> Val set loss: 0.4769\n",
      "Started training epoch no. 24\n",
      "====> Epoch: 24 Average loss: 0.45529021\n",
      "\n",
      "====> Val set loss: 0.4748\n",
      "Started training epoch no. 25\n",
      "====> Epoch: 25 Average loss: 0.45465953\n",
      "\n",
      "====> Val set loss: 0.4748\n",
      "Started training epoch no. 26\n",
      "====> Epoch: 26 Average loss: 0.45410784\n",
      "\n",
      "====> Val set loss: 0.4758\n",
      "Started training epoch no. 27\n",
      "====> Epoch: 27 Average loss: 0.45347717\n",
      "\n",
      "====> Val set loss: 0.4739\n",
      "Started training epoch no. 28\n",
      "====> Epoch: 28 Average loss: 0.45314779\n",
      "\n",
      "====> Val set loss: 0.4738\n",
      "Started training epoch no. 29\n",
      "====> Epoch: 29 Average loss: 0.45289979\n",
      "\n",
      "====> Val set loss: 0.4727\n",
      "Started training epoch no. 30\n",
      "====> Epoch: 30 Average loss: 0.45211972\n",
      "\n",
      "====> Val set loss: 0.4731\n",
      "Started training epoch no. 31\n",
      "====> Epoch: 31 Average loss: 0.45162964\n",
      "\n",
      "====> Val set loss: 0.4714\n",
      "Started training epoch no. 32\n",
      "====> Epoch: 32 Average loss: 0.45128384\n",
      "\n",
      "====> Val set loss: 0.4719\n",
      "Started training epoch no. 33\n",
      "====> Epoch: 33 Average loss: 0.45095289\n",
      "\n",
      "====> Val set loss: 0.4698\n",
      "Started training epoch no. 34\n",
      "====> Epoch: 34 Average loss: 0.45024507\n",
      "\n",
      "====> Val set loss: 0.4706\n",
      "Started training epoch no. 35\n",
      "====> Epoch: 35 Average loss: 0.45020240\n",
      "\n",
      "====> Val set loss: 0.4726\n",
      "Started training epoch no. 36\n",
      "====> Epoch: 36 Average loss: 0.44990428\n",
      "\n",
      "====> Val set loss: 0.4702\n",
      "Started training epoch no. 37\n",
      "====> Epoch: 37 Average loss: 0.44950806\n",
      "\n",
      "====> Val set loss: 0.4690\n",
      "Started training epoch no. 38\n",
      "====> Epoch: 38 Average loss: 0.44913794\n",
      "\n",
      "====> Val set loss: 0.4707\n",
      "Started training epoch no. 39\n",
      "====> Epoch: 39 Average loss: 0.44860365\n",
      "\n",
      "====> Val set loss: 0.4705\n",
      "Started training epoch no. 40\n",
      "====> Epoch: 40 Average loss: 0.44848667\n",
      "\n",
      "====> Val set loss: 0.4692\n",
      "Started training epoch no. 41\n",
      "====> Epoch: 41 Average loss: 0.44808537\n",
      "\n",
      "====> Val set loss: 0.4677\n",
      "Started training epoch no. 42\n",
      "====> Epoch: 42 Average loss: 0.44789758\n",
      "\n",
      "====> Val set loss: 0.4681\n",
      "Started training epoch no. 43\n",
      "====> Epoch: 43 Average loss: 0.44740176\n",
      "\n",
      "====> Val set loss: 0.4692\n",
      "Started training epoch no. 44\n",
      "====> Epoch: 44 Average loss: 0.44706056\n",
      "\n",
      "====> Val set loss: 0.4672\n",
      "Started training epoch no. 45\n",
      "====> Epoch: 45 Average loss: 0.44680887\n",
      "\n",
      "====> Val set loss: 0.4657\n",
      "Started training epoch no. 46\n",
      "====> Epoch: 46 Average loss: 0.44651544\n",
      "\n",
      "====> Val set loss: 0.4667\n",
      "Started training epoch no. 47\n",
      "====> Epoch: 47 Average loss: 0.44625628\n",
      "\n",
      "====> Val set loss: 0.4668\n",
      "Started training epoch no. 48\n",
      "====> Epoch: 48 Average loss: 0.44605815\n",
      "\n",
      "====> Val set loss: 0.4662\n",
      "Started training epoch no. 49\n",
      "====> Epoch: 49 Average loss: 0.44574978\n",
      "\n",
      "====> Val set loss: 0.4666\n",
      "Started training epoch no. 50\n",
      "====> Epoch: 50 Average loss: 0.44562873\n",
      "\n",
      "====> Val set loss: 0.4663\n",
      "Started training epoch no. 51\n",
      "====> Epoch: 51 Average loss: 0.44510667\n",
      "\n",
      "====> Val set loss: 0.4658\n",
      "Started training epoch no. 52\n",
      "====> Epoch: 52 Average loss: 0.44489588\n",
      "\n",
      "====> Val set loss: 0.4667\n",
      "Started training epoch no. 53\n",
      "====> Epoch: 53 Average loss: 0.44471327\n",
      "\n",
      "====> Val set loss: 0.4653\n",
      "Started training epoch no. 54\n",
      "====> Epoch: 54 Average loss: 0.44416362\n",
      "\n",
      "====> Val set loss: 0.4657\n",
      "Started training epoch no. 55\n",
      "====> Epoch: 55 Average loss: 0.44388464\n",
      "\n",
      "====> Val set loss: 0.4657\n",
      "Started training epoch no. 56\n",
      "====> Epoch: 56 Average loss: 0.44368140\n",
      "\n",
      "====> Val set loss: 0.4706\n",
      "Started training epoch no. 57\n",
      "====> Epoch: 57 Average loss: 0.44355038\n",
      "\n",
      "====> Val set loss: 0.4659\n",
      "Started training epoch no. 58\n",
      "====> Epoch: 58 Average loss: 0.44306411\n",
      "\n",
      "====> Val set loss: 0.4665\n",
      "Started training epoch no. 59\n",
      "====> Epoch: 59 Average loss: 0.44310478\n",
      "\n",
      "====> Val set loss: 0.4668\n",
      "Started training epoch no. 60\n",
      "====> Epoch: 60 Average loss: 0.44281948\n",
      "\n",
      "====> Val set loss: 0.4656\n",
      "Started training epoch no. 61\n",
      "====> Epoch: 61 Average loss: 0.44237401\n",
      "\n",
      "====> Val set loss: 0.4667\n",
      "Started training epoch no. 62\n",
      "====> Epoch: 62 Average loss: 0.44216908\n",
      "\n",
      "====> Val set loss: 0.4641\n",
      "Started training epoch no. 63\n",
      "====> Epoch: 63 Average loss: 0.44229375\n",
      "\n",
      "====> Val set loss: 0.4667\n",
      "Started training epoch no. 64\n",
      "====> Epoch: 64 Average loss: 0.44185036\n",
      "\n",
      "====> Val set loss: 0.4652\n",
      "Started training epoch no. 65\n",
      "====> Epoch: 65 Average loss: 0.44153203\n",
      "\n",
      "====> Val set loss: 0.4637\n",
      "Started training epoch no. 66\n",
      "====> Epoch: 66 Average loss: 0.44139048\n",
      "\n",
      "====> Val set loss: 0.4639\n",
      "Started training epoch no. 67\n",
      "====> Epoch: 67 Average loss: 0.44114332\n",
      "\n",
      "====> Val set loss: 0.4644\n",
      "Started training epoch no. 68\n",
      "====> Epoch: 68 Average loss: 0.44088513\n",
      "\n",
      "====> Val set loss: 0.4643\n",
      "Started training epoch no. 69\n",
      "====> Epoch: 69 Average loss: 0.44083142\n",
      "\n",
      "====> Val set loss: 0.4651\n",
      "Started training epoch no. 70\n",
      "====> Epoch: 70 Average loss: 0.44069287\n",
      "\n",
      "====> Val set loss: 0.4645\n",
      "Started training epoch no. 71\n",
      "====> Epoch: 71 Average loss: 0.44057340\n",
      "\n",
      "====> Val set loss: 0.4634\n",
      "Started training epoch no. 72\n",
      "====> Epoch: 72 Average loss: 0.44023265\n",
      "\n",
      "====> Val set loss: 0.4637\n",
      "Started training epoch no. 73\n",
      "====> Epoch: 73 Average loss: 0.44016088\n",
      "\n",
      "====> Val set loss: 0.4634\n",
      "Started training epoch no. 74\n",
      "====> Epoch: 74 Average loss: 0.43996949\n",
      "\n",
      "====> Val set loss: 0.4635\n",
      "Started training epoch no. 75\n",
      "====> Epoch: 75 Average loss: 0.43984029\n",
      "\n",
      "====> Val set loss: 0.4634\n",
      "Started training epoch no. 76\n",
      "====> Epoch: 76 Average loss: 0.43971206\n",
      "\n",
      "====> Val set loss: 0.4628\n",
      "Started training epoch no. 77\n",
      "====> Epoch: 77 Average loss: 0.43947672\n",
      "\n",
      "====> Val set loss: 0.4619\n",
      "Started training epoch no. 78\n",
      "====> Epoch: 78 Average loss: 0.43928925\n",
      "\n",
      "====> Val set loss: 0.4625\n",
      "Started training epoch no. 79\n",
      "====> Epoch: 79 Average loss: 0.43924931\n",
      "\n",
      "====> Val set loss: 0.4664\n",
      "Started training epoch no. 80\n",
      "====> Epoch: 80 Average loss: 0.43901473\n",
      "\n",
      "====> Val set loss: 0.4617\n",
      "Started training epoch no. 81\n",
      "====> Epoch: 81 Average loss: 0.43883391\n",
      "\n",
      "====> Val set loss: 0.4624\n",
      "Started training epoch no. 82\n",
      "====> Epoch: 82 Average loss: 0.43853630\n",
      "\n",
      "====> Val set loss: 0.4647\n",
      "Started training epoch no. 83\n",
      "====> Epoch: 83 Average loss: 0.43844136\n",
      "\n",
      "====> Val set loss: 0.4621\n",
      "Started training epoch no. 84\n",
      "====> Epoch: 84 Average loss: 0.43854922\n",
      "\n",
      "====> Val set loss: 0.4614\n",
      "Started training epoch no. 85\n",
      "====> Epoch: 85 Average loss: 0.43820348\n",
      "\n",
      "====> Val set loss: 0.4631\n",
      "Started training epoch no. 86\n",
      "====> Epoch: 86 Average loss: 0.43804911\n",
      "\n",
      "====> Val set loss: 0.4617\n",
      "Started training epoch no. 87\n",
      "====> Epoch: 87 Average loss: 0.43795165\n",
      "\n",
      "====> Val set loss: 0.4617\n",
      "Started training epoch no. 88\n",
      "====> Epoch: 88 Average loss: 0.43779048\n",
      "\n",
      "====> Val set loss: 0.4602\n",
      "Started training epoch no. 89\n",
      "====> Epoch: 89 Average loss: 0.43768573\n",
      "\n",
      "====> Val set loss: 0.4614\n",
      "Started training epoch no. 90\n",
      "====> Epoch: 90 Average loss: 0.43774725\n",
      "\n",
      "====> Val set loss: 0.4605\n",
      "Started training epoch no. 91\n",
      "====> Epoch: 91 Average loss: 0.43759827\n",
      "\n",
      "====> Val set loss: 0.4615\n",
      "Started training epoch no. 92\n",
      "====> Epoch: 92 Average loss: 0.43738591\n",
      "\n",
      "====> Val set loss: 0.4618\n",
      "Started training epoch no. 93\n",
      "====> Epoch: 93 Average loss: 0.43732764\n",
      "\n",
      "====> Val set loss: 0.4618\n",
      "Started training epoch no. 94\n",
      "====> Epoch: 94 Average loss: 0.43708056\n",
      "\n",
      "====> Val set loss: 0.4606\n",
      "Started training epoch no. 95\n",
      "====> Epoch: 95 Average loss: 0.43697885\n",
      "\n",
      "====> Val set loss: 0.4619\n",
      "Started training epoch no. 96\n",
      "====> Epoch: 96 Average loss: 0.43690534\n",
      "\n",
      "====> Val set loss: 0.4617\n",
      "Started training epoch no. 97\n",
      "====> Epoch: 97 Average loss: 0.43683270\n",
      "\n",
      "====> Val set loss: 0.4604\n",
      "Started training epoch no. 98\n",
      "====> Epoch: 98 Average loss: 0.43663752\n",
      "\n",
      "====> Val set loss: 0.4622\n",
      "Started training epoch no. 99\n",
      "====> Epoch: 99 Average loss: 0.43658529\n",
      "\n",
      "====> Val set loss: 0.4610\n",
      "Started training epoch no. 100\n",
      "====> Epoch: 100 Average loss: 0.43644552\n",
      "\n",
      "====> Val set loss: 0.4621\n",
      "Started training epoch no. 101\n",
      "====> Epoch: 101 Average loss: 0.43645046\n",
      "\n",
      "====> Val set loss: 0.4617\n",
      "Started training epoch no. 102\n",
      "====> Epoch: 102 Average loss: 0.43618277\n",
      "\n",
      "====> Val set loss: 0.4602\n",
      "Started training epoch no. 103\n",
      "====> Epoch: 103 Average loss: 0.43622837\n",
      "\n",
      "====> Val set loss: 0.4607\n",
      "Started training epoch no. 104\n",
      "====> Epoch: 104 Average loss: 0.43603550\n",
      "\n",
      "====> Val set loss: 0.4631\n",
      "Started training epoch no. 105\n",
      "====> Epoch: 105 Average loss: 0.43586461\n",
      "\n",
      "====> Val set loss: 0.4617\n",
      "Started training epoch no. 106\n",
      "====> Epoch: 106 Average loss: 0.43590073\n",
      "\n",
      "====> Val set loss: 0.4605\n",
      "Started training epoch no. 107\n",
      "====> Epoch: 107 Average loss: 0.43574012\n",
      "\n",
      "====> Val set loss: 0.4608\n",
      "Started training epoch no. 108\n",
      "====> Epoch: 108 Average loss: 0.43549569\n",
      "\n",
      "====> Val set loss: 0.4607\n",
      "Started training epoch no. 109\n",
      "====> Epoch: 109 Average loss: 0.43546952\n",
      "\n",
      "====> Val set loss: 0.4609\n",
      "Started training epoch no. 110\n",
      "====> Epoch: 110 Average loss: 0.43537296\n",
      "\n",
      "====> Val set loss: 0.4598\n",
      "Started training epoch no. 111\n",
      "====> Epoch: 111 Average loss: 0.43525511\n",
      "\n",
      "====> Val set loss: 0.4611\n",
      "Started training epoch no. 112\n",
      "====> Epoch: 112 Average loss: 0.43510554\n",
      "\n",
      "====> Val set loss: 0.4596\n",
      "Started training epoch no. 113\n",
      "====> Epoch: 113 Average loss: 0.43496267\n",
      "\n",
      "====> Val set loss: 0.4621\n",
      "Started training epoch no. 114\n",
      "====> Epoch: 114 Average loss: 0.43487794\n",
      "\n",
      "====> Val set loss: 0.4589\n",
      "Started training epoch no. 115\n",
      "====> Epoch: 115 Average loss: 0.43453612\n",
      "\n",
      "====> Val set loss: 0.4603\n",
      "Started training epoch no. 116\n",
      "====> Epoch: 116 Average loss: 0.43458369\n",
      "\n",
      "====> Val set loss: 0.4593\n",
      "Started training epoch no. 117\n",
      "====> Epoch: 117 Average loss: 0.43452084\n",
      "\n",
      "====> Val set loss: 0.4599\n",
      "Started training epoch no. 118\n",
      "====> Epoch: 118 Average loss: 0.43437128\n",
      "\n",
      "====> Val set loss: 0.4606\n",
      "Started training epoch no. 119\n",
      "====> Epoch: 119 Average loss: 0.43444967\n",
      "\n",
      "====> Val set loss: 0.4605\n",
      "Started training epoch no. 120\n",
      "====> Epoch: 120 Average loss: 0.43433729\n",
      "\n",
      "====> Val set loss: 0.4601\n",
      "Started training epoch no. 121\n",
      "====> Epoch: 121 Average loss: 0.43416691\n",
      "\n",
      "====> Val set loss: 0.4591\n",
      "Started training epoch no. 122\n",
      "====> Epoch: 122 Average loss: 0.43424783\n",
      "\n",
      "====> Val set loss: 0.4611\n",
      "Started training epoch no. 123\n",
      "====> Epoch: 123 Average loss: 0.43389818\n",
      "\n",
      "====> Val set loss: 0.4597\n",
      "Started training epoch no. 124\n",
      "====> Epoch: 124 Average loss: 0.43401135\n",
      "\n",
      "====> Val set loss: 0.4596\n",
      "Started training epoch no. 125\n",
      "====> Epoch: 125 Average loss: 0.43374846\n",
      "\n",
      "====> Val set loss: 0.4600\n",
      "Started training epoch no. 126\n",
      "====> Epoch: 126 Average loss: 0.43389410\n",
      "\n",
      "====> Val set loss: 0.4591\n",
      "Started training epoch no. 127\n",
      "====> Epoch: 127 Average loss: 0.43351777\n",
      "\n",
      "====> Val set loss: 0.4590\n",
      "Started training epoch no. 128\n",
      "====> Epoch: 128 Average loss: 0.43378992\n",
      "\n",
      "====> Val set loss: 0.4594\n",
      "Started training epoch no. 129\n",
      "====> Epoch: 129 Average loss: 0.43360886\n",
      "\n",
      "====> Val set loss: 0.4586\n",
      "Started training epoch no. 130\n",
      "====> Epoch: 130 Average loss: 0.43341899\n",
      "\n",
      "====> Val set loss: 0.4593\n",
      "Started training epoch no. 131\n",
      "====> Epoch: 131 Average loss: 0.43337016\n",
      "\n",
      "====> Val set loss: 0.4591\n",
      "Started training epoch no. 132\n",
      "====> Epoch: 132 Average loss: 0.43347616\n",
      "\n",
      "====> Val set loss: 0.4584\n",
      "Started training epoch no. 133\n",
      "====> Epoch: 133 Average loss: 0.43313921\n",
      "\n",
      "====> Val set loss: 0.4597\n",
      "Started training epoch no. 134\n",
      "====> Epoch: 134 Average loss: 0.43315277\n",
      "\n",
      "====> Val set loss: 0.4589\n",
      "Started training epoch no. 135\n",
      "====> Epoch: 135 Average loss: 0.43324262\n",
      "\n",
      "====> Val set loss: 0.4599\n",
      "Started training epoch no. 136\n",
      "====> Epoch: 136 Average loss: 0.43287709\n",
      "\n",
      "====> Val set loss: 0.4605\n",
      "Started training epoch no. 137\n",
      "====> Epoch: 137 Average loss: 0.43307100\n",
      "\n",
      "====> Val set loss: 0.4591\n",
      "Started training epoch no. 138\n",
      "====> Epoch: 138 Average loss: 0.43293761\n",
      "\n",
      "====> Val set loss: 0.4590\n",
      "Started training epoch no. 139\n",
      "====> Epoch: 139 Average loss: 0.43272518\n",
      "\n",
      "====> Val set loss: 0.4599\n",
      "Started training epoch no. 140\n",
      "====> Epoch: 140 Average loss: 0.43302930\n",
      "\n",
      "====> Val set loss: 0.4581\n",
      "Started training epoch no. 141\n",
      "====> Epoch: 141 Average loss: 0.43259339\n",
      "\n",
      "====> Val set loss: 0.4590\n",
      "Started training epoch no. 142\n",
      "====> Epoch: 142 Average loss: 0.43272613\n",
      "\n",
      "====> Val set loss: 0.4584\n",
      "Started training epoch no. 143\n",
      "====> Epoch: 143 Average loss: 0.43259734\n",
      "\n",
      "====> Val set loss: 0.4580\n",
      "Started training epoch no. 144\n",
      "====> Epoch: 144 Average loss: 0.43248364\n",
      "\n",
      "====> Val set loss: 0.4588\n",
      "Started training epoch no. 145\n",
      "====> Epoch: 145 Average loss: 0.43220673\n",
      "\n",
      "====> Val set loss: 0.4589\n",
      "Started training epoch no. 146\n",
      "====> Epoch: 146 Average loss: 0.43231496\n",
      "\n",
      "====> Val set loss: 0.4587\n",
      "Started training epoch no. 147\n",
      "====> Epoch: 147 Average loss: 0.43200886\n",
      "\n",
      "====> Val set loss: 0.4588\n",
      "Started training epoch no. 148\n",
      "====> Epoch: 148 Average loss: 0.43219974\n",
      "\n",
      "====> Val set loss: 0.4593\n",
      "Started training epoch no. 149\n",
      "====> Epoch: 149 Average loss: 0.43231933\n",
      "\n",
      "====> Val set loss: 0.4589\n",
      "Started training epoch no. 150\n",
      "====> Epoch: 150 Average loss: 0.43209165\n",
      "\n",
      "====> Val set loss: 0.4573\n",
      "Started training epoch no. 151\n",
      "====> Epoch: 151 Average loss: 0.43181442\n",
      "\n",
      "====> Val set loss: 0.4579\n",
      "Started training epoch no. 152\n",
      "====> Epoch: 152 Average loss: 0.43177912\n",
      "\n",
      "====> Val set loss: 0.4582\n",
      "Started training epoch no. 153\n",
      "====> Epoch: 153 Average loss: 0.43175914\n",
      "\n",
      "====> Val set loss: 0.4580\n",
      "Started training epoch no. 154\n",
      "====> Epoch: 154 Average loss: 0.43169836\n",
      "\n",
      "====> Val set loss: 0.4567\n",
      "Started training epoch no. 155\n",
      "====> Epoch: 155 Average loss: 0.43161277\n",
      "\n",
      "====> Val set loss: 0.4577\n",
      "Started training epoch no. 156\n",
      "====> Epoch: 156 Average loss: 0.43152811\n",
      "\n",
      "====> Val set loss: 0.4568\n",
      "Started training epoch no. 157\n",
      "====> Epoch: 157 Average loss: 0.43130047\n",
      "\n",
      "====> Val set loss: 0.4567\n",
      "Started training epoch no. 158\n",
      "====> Epoch: 158 Average loss: 0.43140937\n",
      "\n",
      "====> Val set loss: 0.4580\n",
      "Started training epoch no. 159\n",
      "====> Epoch: 159 Average loss: 0.43120802\n",
      "\n",
      "====> Val set loss: 0.4577\n",
      "Started training epoch no. 160\n",
      "====> Epoch: 160 Average loss: 0.43108090\n",
      "\n",
      "====> Val set loss: 0.4568\n",
      "Started training epoch no. 161\n",
      "====> Epoch: 161 Average loss: 0.43107242\n",
      "\n",
      "====> Val set loss: 0.4585\n",
      "Started training epoch no. 162\n",
      "====> Epoch: 162 Average loss: 0.43091467\n",
      "\n",
      "====> Val set loss: 0.4590\n",
      "Started training epoch no. 163\n",
      "====> Epoch: 163 Average loss: 0.43088148\n",
      "\n",
      "====> Val set loss: 0.4568\n",
      "Started training epoch no. 164\n",
      "====> Epoch: 164 Average loss: 0.43065056\n",
      "\n",
      "====> Val set loss: 0.4569\n",
      "Started training epoch no. 165\n",
      "====> Epoch: 165 Average loss: 0.43057060\n",
      "\n",
      "====> Val set loss: 0.4579\n",
      "Started training epoch no. 166\n",
      "====> Epoch: 166 Average loss: 0.43061983\n",
      "\n",
      "====> Val set loss: 0.4573\n",
      "Started training epoch no. 167\n",
      "====> Epoch: 167 Average loss: 0.43049190\n",
      "\n",
      "====> Val set loss: 0.4576\n",
      "Started training epoch no. 168\n",
      "====> Epoch: 168 Average loss: 0.43039319\n",
      "\n",
      "====> Val set loss: 0.4570\n",
      "Started training epoch no. 169\n",
      "====> Epoch: 169 Average loss: 0.43028587\n",
      "\n",
      "====> Val set loss: 0.4560\n",
      "Started training epoch no. 170\n",
      "====> Epoch: 170 Average loss: 0.43017009\n",
      "\n",
      "====> Val set loss: 0.4574\n",
      "Started training epoch no. 171\n",
      "====> Epoch: 171 Average loss: 0.43024362\n",
      "\n",
      "====> Val set loss: 0.4583\n",
      "Started training epoch no. 172\n",
      "====> Epoch: 172 Average loss: 0.43006719\n",
      "\n",
      "====> Val set loss: 0.4578\n",
      "Started training epoch no. 173\n",
      "====> Epoch: 173 Average loss: 0.43010356\n",
      "\n",
      "====> Val set loss: 0.4565\n",
      "Started training epoch no. 174\n",
      "====> Epoch: 174 Average loss: 0.43003226\n",
      "\n",
      "====> Val set loss: 0.4566\n",
      "Started training epoch no. 175\n",
      "====> Epoch: 175 Average loss: 0.43000885\n",
      "\n",
      "====> Val set loss: 0.4564\n",
      "Started training epoch no. 176\n",
      "====> Epoch: 176 Average loss: 0.42969208\n",
      "\n",
      "====> Val set loss: 0.4567\n",
      "Started training epoch no. 177\n",
      "====> Epoch: 177 Average loss: 0.42972982\n",
      "\n",
      "====> Val set loss: 0.4574\n",
      "Started training epoch no. 178\n",
      "====> Epoch: 178 Average loss: 0.42966019\n",
      "\n",
      "====> Val set loss: 0.4574\n",
      "Started training epoch no. 179\n",
      "====> Epoch: 179 Average loss: 0.42958117\n",
      "\n",
      "====> Val set loss: 0.4586\n",
      "Started training epoch no. 180\n",
      "====> Epoch: 180 Average loss: 0.42959179\n",
      "\n",
      "====> Val set loss: 0.4566\n",
      "Started training epoch no. 181\n",
      "====> Epoch: 181 Average loss: 0.42936646\n",
      "\n",
      "====> Val set loss: 0.4562\n",
      "Started training epoch no. 182\n",
      "====> Epoch: 182 Average loss: 0.42941957\n",
      "\n",
      "====> Val set loss: 0.4573\n",
      "Started training epoch no. 183\n",
      "====> Epoch: 183 Average loss: 0.42938308\n",
      "\n",
      "====> Val set loss: 0.4566\n",
      "Started training epoch no. 184\n",
      "====> Epoch: 184 Average loss: 0.42910256\n",
      "\n",
      "====> Val set loss: 0.4561\n",
      "Started training epoch no. 185\n",
      "====> Epoch: 185 Average loss: 0.42914084\n",
      "\n",
      "====> Val set loss: 0.4556\n",
      "Started training epoch no. 186\n",
      "====> Epoch: 186 Average loss: 0.42900928\n",
      "\n",
      "====> Val set loss: 0.4564\n",
      "Started training epoch no. 187\n",
      "====> Epoch: 187 Average loss: 0.42903307\n",
      "\n",
      "====> Val set loss: 0.4560\n",
      "Started training epoch no. 188\n",
      "====> Epoch: 188 Average loss: 0.42888771\n",
      "\n",
      "====> Val set loss: 0.4566\n",
      "Started training epoch no. 189\n",
      "====> Epoch: 189 Average loss: 0.42892852\n",
      "\n",
      "====> Val set loss: 0.4553\n",
      "Started training epoch no. 190\n",
      "====> Epoch: 190 Average loss: 0.42856418\n",
      "\n",
      "====> Val set loss: 0.4558\n",
      "Started training epoch no. 191\n",
      "====> Epoch: 191 Average loss: 0.42851794\n",
      "\n",
      "====> Val set loss: 0.4562\n",
      "Started training epoch no. 192\n",
      "====> Epoch: 192 Average loss: 0.42850677\n",
      "\n",
      "====> Val set loss: 0.4548\n",
      "Started training epoch no. 193\n",
      "====> Epoch: 193 Average loss: 0.42846581\n",
      "\n",
      "====> Val set loss: 0.4550\n",
      "Started training epoch no. 194\n",
      "====> Epoch: 194 Average loss: 0.42836914\n",
      "\n",
      "====> Val set loss: 0.4557\n",
      "Started training epoch no. 195\n",
      "====> Epoch: 195 Average loss: 0.42837605\n",
      "\n",
      "====> Val set loss: 0.4553\n",
      "Started training epoch no. 196\n",
      "====> Epoch: 196 Average loss: 0.42815457\n",
      "\n",
      "====> Val set loss: 0.4554\n",
      "Started training epoch no. 197\n",
      "====> Epoch: 197 Average loss: 0.42805104\n",
      "\n",
      "====> Val set loss: 0.4548\n",
      "Started training epoch no. 198\n",
      "====> Epoch: 198 Average loss: 0.42795165\n",
      "\n",
      "====> Val set loss: 0.4554\n",
      "Started training epoch no. 199\n",
      "====> Epoch: 199 Average loss: 0.42787977\n",
      "\n",
      "====> Val set loss: 0.4547\n",
      "Started training epoch no. 200\n",
      "====> Epoch: 200 Average loss: 0.42781435\n",
      "\n",
      "====> Val set loss: 0.4544\n"
     ]
    }
   ],
   "source": [
    "train_log, val_log = train_epoch(train_loader,model,loss_function,optimizer,num_epochs= 200)"
   ]
  },
  {
   "cell_type": "code",
   "execution_count": 350,
   "metadata": {},
   "outputs": [
    {
     "data": {
      "image/png": "[encoded data removed]",
      "text/plain": [
       "<Figure size 864x576 with 1 Axes>"
      ]
     },
     "metadata": {
      "needs_background": "light"
     },
     "output_type": "display_data"
    }
   ],
   "source": [
    "train_loss_plt = [x['train_loss'] for x in train_log]\n",
    "plt.figure(figsize=(12,8))\n",
    "plt.title(\"Train Loss per epoch\")\n",
    "plt.scatter(range(len(train_loss_plt)),train_loss_plt);"
   ]
  },
  {
   "cell_type": "code",
   "execution_count": 351,
   "metadata": {},
   "outputs": [
    {
     "data": {
      "image/png": "[encoded data removed]",
      "text/plain": [
       "<Figure size 864x576 with 1 Axes>"
      ]
     },
     "metadata": {
      "needs_background": "light"
     },
     "output_type": "display_data"
    }
   ],
   "source": [
    "plt.figure(figsize=(12,8))\n",
    "plt.title(\"Val Loss per epoch\")\n",
    "plt.scatter(range(len(val_log)),val_log);"
   ]
  },
  {
   "cell_type": "markdown",
   "metadata": {},
   "source": [
    "### ERROR ANALYSIS"
   ]
  },
  {
   "cell_type": "code",
   "execution_count": 353,
   "metadata": {},
   "outputs": [
    {
     "name": "stdout",
     "output_type": "stream",
     "text": [
      "Using pre-defined VAE FEATURES\n"
     ]
    },
    {
     "name": "stderr",
     "output_type": "stream",
     "text": [
      "/home/ubuntu/AYP_b/code/py_4/get_all_features.py:85: SettingWithCopyWarning: \n",
      "A value is trying to be set on a copy of a slice from a DataFrame.\n",
      "Try using .loc[row_indexer,col_indexer] = value instead\n",
      "\n",
      "See the caveats in the documentation: https://pandas.pydata.org/pandas-docs/stable/user_guide/indexing.html#returning-a-view-versus-a-copy\n",
      "  df['co_authors']=df.authors.apply( lambda x: [i['name'] for i in x] )\n"
     ]
    },
    {
     "name": "stdout",
     "output_type": "stream",
     "text": [
      "Using old scaler\n",
      "['MESH NAME NOT FOUND: Outcome and Process Assessment, Health Care', 'MESH NAME NOT FOUND: Aldehyde Dehydrogenase 1', 'MESH NAME NOT FOUND: RNA, Circular', 'MESH NAME NOT FOUND: Recognition, Psychology', 'MESH NAME NOT FOUND: SOS Response, Genetics', 'MESH NAME NOT FOUND: Centers for Medicare and Medicaid Services, U.S.', 'MESH NAME NOT FOUND: Mitophagy', 'MESH NAME NOT FOUND: Inhibition, Psychological', 'MESH NAME NOT FOUND: Infections', 'MESH NAME NOT FOUND: Chlorocebus aethiops', 'MESH NAME NOT FOUND: B-Cell Lymphoma 3 Protein', \"MESH NAME NOT FOUND: Practice Patterns, Nurses'\", 'MESH NAME NOT FOUND: Phospholipid Hydroperoxide Glutathione Peroxidase', 'MESH NAME NOT FOUND: Outcome Assessment, Health Care', 'MESH NAME NOT FOUND: Indigenous Peoples', \"MESH NAME NOT FOUND: Practice Patterns, Physicians'\", 'MESH NAME NOT FOUND: Formins', 'MESH NAME NOT FOUND: Conditioning, Psychological', 'MESH NAME NOT FOUND: Phosphoinositide-3 Kinase Inhibitors', 'MESH NAME NOT FOUND: Early Intervention, Educational', 'MESH NAME NOT FOUND: Female', 'MESH NAME NOT FOUND: Transfer, Psychology', 'MESH NAME NOT FOUND: Copper-Transporting ATPases', 'MESH NAME NOT FOUND: Discrimination, Psychological', 'MESH NAME NOT FOUND: Male', 'MESH NAME NOT FOUND: Reinforcement, Psychology']\n"
     ]
    }
   ],
   "source": [
    "test_set = ToyDS(df_nonan, selection_test, all_vae)\n",
    "test_loader=DataLoader(dataset= test_set, batch_size = BATCH_SIZE, shuffle = True, num_workers = num_workers)"
   ]
  },
  {
   "cell_type": "code",
   "execution_count": 354,
   "metadata": {},
   "outputs": [
    {
     "data": {
      "text/plain": [
       "0.4477744493881861"
      ]
     },
     "execution_count": 354,
     "metadata": {},
     "output_type": "execute_result"
    }
   ],
   "source": [
    "test_model(test_loader, model)"
   ]
  },
  {
   "cell_type": "code",
   "execution_count": 375,
   "metadata": {},
   "outputs": [],
   "source": [
    "model.eval()\n",
    "data = torch.from_numpy(test_set.features).to(device,dtype=torch.float32)\n",
    "x_hat_test, _, __ = model(data)\n",
    "x_hat = x_hat_test.detach().cpu().numpy()"
   ]
  },
  {
   "cell_type": "code",
   "execution_count": 376,
   "metadata": {},
   "outputs": [],
   "source": [
    "assert(test_set.features.shape==x_hat.shape)"
   ]
  },
  {
   "cell_type": "code",
   "execution_count": 377,
   "metadata": {},
   "outputs": [
    {
     "data": {
      "text/plain": [
       "0.4473552897901241"
      ]
     },
     "execution_count": 377,
     "metadata": {},
     "output_type": "execute_result"
    }
   ],
   "source": [
    "np.mean(np.square(x_hat - test_set.features))"
   ]
  },
  {
   "cell_type": "markdown",
   "metadata": {},
   "source": [
    "### Look at a few examples:"
   ]
  },
  {
   "cell_type": "code",
   "execution_count": 395,
   "metadata": {},
   "outputs": [
    {
     "data": {
      "text/plain": [
       "array([0.39982909, 0.53086438, 0.45383285, 0.47972956, 0.49904886,\n",
       "       0.47903072, 0.50978217, 0.45327232, 0.46838874, 0.34944014,\n",
       "       0.51530886, 0.52195738, 0.49631504, 0.32495449, 0.49270349,\n",
       "       0.43997057, 0.36353553, 0.49682825, 0.43845944, 0.48672176,\n",
       "       0.48615264, 0.42167102, 0.46917733, 0.42132631, 0.451864  ,\n",
       "       0.43044483, 0.43895675, 0.5158387 , 0.4807933 , 0.46725311,\n",
       "       0.42635365, 0.35360651, 0.50975596, 0.51548551, 0.50838233,\n",
       "       0.51744237, 0.48058931, 0.49735793, 0.39702019, 0.47909151,\n",
       "       0.52550682, 0.40496181, 0.51892038, 0.46367968, 0.32896215,\n",
       "       0.49032361, 0.48279182, 0.49473221, 0.5029582 , 0.53136885,\n",
       "       0.38544666, 0.46232507, 0.39813214, 0.47074267, 0.4778636 ,\n",
       "       0.41150322, 0.46070911, 0.51017423, 0.51698779, 0.42360116,\n",
       "       0.42277901, 0.40536949, 0.50320037, 0.5594172 ])"
      ]
     },
     "execution_count": 395,
     "metadata": {},
     "output_type": "execute_result"
    }
   ],
   "source": [
    "ind_val = 55\n",
    "np.mean(np.abs(x_hat- test_set.features),axis=0)"
   ]
  },
  {
   "cell_type": "code",
   "execution_count": 391,
   "metadata": {},
   "outputs": [
    {
     "data": {
      "text/plain": [
       "['Animals', 'Humans']"
      ]
     },
     "execution_count": 391,
     "metadata": {},
     "output_type": "execute_result"
    }
   ],
   "source": [
    "test_set.df.iloc[55].mesh"
   ]
  },
  {
   "cell_type": "markdown",
   "metadata": {},
   "source": [
    "# Test"
   ]
  },
  {
   "cell_type": "code",
   "execution_count": 153,
   "metadata": {},
   "outputs": [
    {
     "name": "stdout",
     "output_type": "stream",
     "text": [
      "7127687     10\n",
      "10594466     8\n",
      "11990780     1\n",
      "Name: PI_IDS, dtype: int64\n"
     ]
    }
   ],
   "source": [
    "selection = [auth_usecase[109]]\n",
    "print(df[df['last_author_name'].isin(selection)][\"PI_IDS\"].value_counts())"
   ]
  },
  {
   "cell_type": "code",
   "execution_count": 68,
   "metadata": {
    "tags": []
   },
   "outputs": [
    {
     "ename": "NameError",
     "evalue": "name 'selection' is not defined",
     "output_type": "error",
     "traceback": [
      "\u001b[0;31m---------------------------------------------------------------------------\u001b[0m",
      "\u001b[0;31mNameError\u001b[0m                                 Traceback (most recent call last)",
      "\u001b[0;32m<ipython-input-68-c4537dcd48de>\u001b[0m in \u001b[0;36m<module>\u001b[0;34m\u001b[0m\n\u001b[1;32m      1\u001b[0m \u001b[0mtrain_vae\u001b[0m \u001b[0;34m=\u001b[0m \u001b[0mtrain_set\u001b[0m\u001b[0;34m.\u001b[0m\u001b[0m__getvae__\u001b[0m\u001b[0;34m(\u001b[0m\u001b[0;34m)\u001b[0m\u001b[0;34m\u001b[0m\u001b[0;34m\u001b[0m\u001b[0m\n\u001b[0;32m----> 2\u001b[0;31m \u001b[0mtest_set\u001b[0m \u001b[0;34m=\u001b[0m \u001b[0mToyDS\u001b[0m\u001b[0;34m(\u001b[0m\u001b[0mdf_nonan\u001b[0m\u001b[0;34m,\u001b[0m \u001b[0mselection\u001b[0m\u001b[0;34m,\u001b[0m\u001b[0mtrain_vae\u001b[0m\u001b[0;34m)\u001b[0m\u001b[0;34m\u001b[0m\u001b[0;34m\u001b[0m\u001b[0m\n\u001b[0m\u001b[1;32m      3\u001b[0m \u001b[0mtest_loader\u001b[0m\u001b[0;34m=\u001b[0m\u001b[0mDataLoader\u001b[0m\u001b[0;34m(\u001b[0m\u001b[0mdataset\u001b[0m\u001b[0;34m=\u001b[0m \u001b[0mtest_set\u001b[0m\u001b[0;34m,\u001b[0m \u001b[0mbatch_size\u001b[0m \u001b[0;34m=\u001b[0m \u001b[0mbatch_size\u001b[0m\u001b[0;34m,\u001b[0m \u001b[0mshuffle\u001b[0m \u001b[0;34m=\u001b[0m \u001b[0;32mTrue\u001b[0m\u001b[0;34m,\u001b[0m \u001b[0mnum_workers\u001b[0m \u001b[0;34m=\u001b[0m \u001b[0mnum_workers\u001b[0m\u001b[0;34m)\u001b[0m\u001b[0;34m\u001b[0m\u001b[0;34m\u001b[0m\u001b[0m\n",
      "\u001b[0;31mNameError\u001b[0m: name 'selection' is not defined"
     ]
    }
   ],
   "source": [
    "train_vae = train_set.__getvae__()\n",
    "test_set = ToyDS(df_nonan, selection,train_vae)\n",
    "test_loader=DataLoader(dataset= test_set, batch_size = batch_size, shuffle = True, num_workers = num_workers)"
   ]
  },
  {
   "cell_type": "code",
   "execution_count": 155,
   "metadata": {},
   "outputs": [
    {
     "name": "stdout",
     "output_type": "stream",
     "text": [
      "(19, 32)\n",
      "(19, 64)\n"
     ]
    }
   ],
   "source": [
    "bottle_neck=[]\n",
    "recon_batchs = []\n",
    "for batch_idx, data in enumerate(test_loader):\n",
    "            data = data.to(device, dtype=torch.float32)\n",
    "            optimizer.zero_grad()\n",
    "            recon_batch, mu, logvar, _= model(data)\n",
    "            if cuda:\n",
    "                bottle_neck.extend(mu.cpu().detach().numpy())\n",
    "                recon_batchs.extend(recon_batch.cpu().detach().numpy())\n",
    "            else:\n",
    "                bottle_neck.extend(mu.detach().numpy())\n",
    "                recon_batchs.extend(recon_batch.detach().numpy())\n",
    "bottle_neck = np.array(bottle_neck)\n",
    "recon_batchs = np.array(recon_batchs)\n",
    "print(bottle_neck.shape)\n",
    "print(recon_batchs.shape)"
   ]
  },
  {
   "cell_type": "code",
   "execution_count": 157,
   "metadata": {
    "tags": []
   },
   "outputs": [
    {
     "name": "stdout",
     "output_type": "stream",
     "text": [
      "[t-SNE] Computing 4 nearest neighbors...\n",
      "[t-SNE] Indexed 19 samples in 0.000s...\n",
      "[t-SNE] Computed neighbors for 19 samples in 0.001s...\n",
      "[t-SNE] Computed conditional probabilities for sample 19 / 19\n",
      "[t-SNE] Mean sigma: 0.634541\n",
      "[t-SNE] KL divergence after 250 iterations with early exaggeration: 72.133377\n",
      "[t-SNE] KL divergence after 1000 iterations: 0.337330\n",
      "t-SNE done! Time elapsed: 0.14081168174743652 seconds\n"
     ]
    }
   ],
   "source": [
    "time_start = time.time()\n",
    "tsne = TSNE(n_components=2, verbose=1, perplexity=1, n_iter=1000,random_state=42)\n",
    "tsne_results = tsne.fit_transform(bottle_neck)\n",
    "print('t-SNE done! Time elapsed: {} seconds'.format(time.time()-time_start))"
   ]
  },
  {
   "cell_type": "code",
   "execution_count": 158,
   "metadata": {},
   "outputs": [],
   "source": [
    "df_subset=pd.DataFrame()\n",
    "df_subset['tsne-2d-one'] = tsne_results[:,0]\n",
    "df_subset['tsne-2d-two'] = tsne_results[:,1]\n",
    "df_subset['PI'] = list(df[df['last_author_name'].isin(selection)][\"PI_IDS\"])"
   ]
  },
  {
   "cell_type": "code",
   "execution_count": 159,
   "metadata": {},
   "outputs": [
    {
     "data": {
      "image/png": "[encoded data removed]",
      "text/plain": [
       "<Figure size 1008x720 with 1 Axes>"
      ]
     },
     "metadata": {
      "needs_background": "light"
     },
     "output_type": "display_data"
    }
   ],
   "source": [
    "groups = df_subset.groupby('PI')\n",
    "markers = ['o','v',\"x\"]\n",
    "colors = [\"red\",\"black\",\"green\"]\n",
    "# Plot\n",
    "fig, ax = plt.subplots(figsize=(14,10))\n",
    "\n",
    "ax.margins(0.05) # Optional, just adds 5% padding to the autoscaling\n",
    "for i, (name, group) in enumerate(groups):\n",
    "    ax.set_title(\"TSNE of the Mesh Embeddings\")\n",
    "    ax.plot(group['tsne-2d-one'], group['tsne-2d-two'], marker=markers[i], linestyle='', ms=12, label=name, color=colors[i])\n",
    "ax.legend()\n",
    "plt.show()\n",
    "fig.tight_layout();\n",
    "\n",
    "# fig.savefig('code/img/TSNE_Plots/mesh.png', bbox_inches='tight')"
   ]
  },
  {
   "cell_type": "markdown",
   "metadata": {},
   "source": [
    "### SANITY TESTS"
   ]
  },
  {
   "cell_type": "markdown",
   "metadata": {},
   "source": [
    "#### ON INPUT DIM:"
   ]
  },
  {
   "cell_type": "code",
   "execution_count": 160,
   "metadata": {},
   "outputs": [
    {
     "name": "stdout",
     "output_type": "stream",
     "text": [
      "[t-SNE] Computing 7 nearest neighbors...\n",
      "[t-SNE] Indexed 19 samples in 0.000s...\n",
      "[t-SNE] Computed neighbors for 19 samples in 0.001s...\n",
      "[t-SNE] Computed conditional probabilities for sample 19 / 19\n",
      "[t-SNE] Mean sigma: 0.000000\n",
      "[t-SNE] KL divergence after 250 iterations with early exaggeration: 75.712021\n",
      "[t-SNE] KL divergence after 1000 iterations: 0.240680\n",
      "t-SNE done! Time elapsed: 0.14115023612976074 seconds\n"
     ]
    }
   ],
   "source": [
    "time_start = time.time()\n",
    "tsne = TSNE(n_components=2, verbose=1, perplexity=2, n_iter=1000, random_state=42)\n",
    "tsne_inputs = tsne.fit_transform(test_set.features)\n",
    "print('t-SNE done! Time elapsed: {} seconds'.format(time.time()-time_start))\n",
    "input_testset=pd.DataFrame()\n",
    "input_testset['tsne-2d-one'] = tsne_inputs[:,0]\n",
    "input_testset['tsne-2d-two'] = tsne_inputs[:,1]\n",
    "input_testset['PI'] = list(df[df['last_author_name'].isin(selection)][\"PI_IDS\"])"
   ]
  },
  {
   "cell_type": "code",
   "execution_count": 161,
   "metadata": {},
   "outputs": [
    {
     "data": {
      "image/png": "[encoded data removed]",
      "text/plain": [
       "<Figure size 1008x720 with 1 Axes>"
      ]
     },
     "metadata": {
      "needs_background": "light"
     },
     "output_type": "display_data"
    }
   ],
   "source": [
    "groups = input_testset.groupby('PI')\n",
    "markers = ['o','v',\"x\"]\n",
    "colors = [\"red\",\"black\",\"green\"]\n",
    "# Plot\n",
    "fig, ax = plt.subplots(figsize=(14,10))\n",
    "\n",
    "ax.margins(0.05) # Optional, just adds 5% padding to the autoscaling\n",
    "for i, (name, group) in enumerate(groups):\n",
    "    ax.set_title(\"TSNE of the Mesh Embeddings\")\n",
    "    ax.plot(group['tsne-2d-one'], group['tsne-2d-two'], marker=markers[i], linestyle='', ms=12, label=name, color=colors[i])\n",
    "ax.legend()\n",
    "plt.show()\n",
    "fig.tight_layout();\n",
    "\n",
    "# fig.savefig('code/img/TSNE_Plots/mesh.png', bbox_inches='tight')"
   ]
  },
  {
   "cell_type": "markdown",
   "metadata": {},
   "source": [
    "### OUTPUT DIMS"
   ]
  },
  {
   "cell_type": "code",
   "execution_count": 162,
   "metadata": {},
   "outputs": [
    {
     "name": "stdout",
     "output_type": "stream",
     "text": [
      "[t-SNE] Computing 7 nearest neighbors...\n",
      "[t-SNE] Indexed 19 samples in 0.000s...\n",
      "[t-SNE] Computed neighbors for 19 samples in 0.001s...\n",
      "[t-SNE] Computed conditional probabilities for sample 19 / 19\n",
      "[t-SNE] Mean sigma: 0.000622\n",
      "[t-SNE] KL divergence after 250 iterations with early exaggeration: 69.051392\n",
      "[t-SNE] KL divergence after 1000 iterations: 0.264274\n",
      "t-SNE done! Time elapsed: 0.14203095436096191 seconds\n"
     ]
    }
   ],
   "source": [
    "time_start = time.time()\n",
    "tsne = TSNE(n_components=2, verbose=1, perplexity=2, n_iter=1000,random_state=42)\n",
    "tsne_output = tsne.fit_transform(recon_batchs)\n",
    "print('t-SNE done! Time elapsed: {} seconds'.format(time.time()-time_start))\n",
    "output_testset=pd.DataFrame()\n",
    "output_testset['tsne-2d-one'] = tsne_output[:,0]\n",
    "output_testset['tsne-2d-two'] = tsne_output[:,1]\n",
    "output_testset['PI'] = list(df[df['last_author_name'].isin(selection)][\"PI_IDS\"])"
   ]
  },
  {
   "cell_type": "code",
   "execution_count": 163,
   "metadata": {},
   "outputs": [
    {
     "data": {
      "image/png": "[encoded data removed]",
      "text/plain": [
       "<Figure size 1008x720 with 1 Axes>"
      ]
     },
     "metadata": {
      "needs_background": "light"
     },
     "output_type": "display_data"
    }
   ],
   "source": [
    "groups = output_testset.groupby('PI')\n",
    "markers = ['o','v',\"x\"]\n",
    "colors = [\"red\",\"black\",\"green\"]\n",
    "# Plot\n",
    "fig, ax = plt.subplots(figsize=(14,10))\n",
    "\n",
    "ax.margins(0.05) # Optional, just adds 5% padding to the autoscaling\n",
    "for i, (name, group) in enumerate(groups):\n",
    "    ax.set_title(\"TSNE of the Mesh Embeddings\")\n",
    "    ax.plot(group['tsne-2d-one'], group['tsne-2d-two'], marker=markers[i], linestyle='', ms=12, label=name, color=colors[i])\n",
    "ax.legend()\n",
    "plt.show()\n",
    "fig.tight_layout();\n",
    "\n",
    "# fig.savefig('code/img/TSNE_Plots/mesh.png', bbox_inches='tight')"
   ]
  },
  {
   "cell_type": "markdown",
   "metadata": {},
   "source": [
    "## Visualize particular Use Cases\n",
    "#### Mesh embeddings"
   ]
  },
  {
   "cell_type": "code",
   "execution_count": 275,
   "metadata": {},
   "outputs": [],
   "source": [
    "mesh_cases = pd.read_csv('./data/mesh_data/mesh_paper_groups_pmid.csv')\n",
    "typeA = mesh_cases['A']\n",
    "typeB = mesh_cases['B']\n",
    "df_a = pd.DataFrame((typeA,np.zeros((len(typeA),),dtype=int)),index=['pmid','class']).T\n",
    "df_b = pd.DataFrame((typeB,np.ones((len(typeB),),dtype=int)),index=['pmid','class']).T\n",
    "df_ab = pd.concat([df_a,df_b]).reset_index(drop=True)"
   ]
  },
  {
   "cell_type": "code",
   "execution_count": 276,
   "metadata": {},
   "outputs": [],
   "source": [
    "df_ab.drop_duplicates(keep='first',inplace=True)"
   ]
  },
  {
   "cell_type": "code",
   "execution_count": 277,
   "metadata": {},
   "outputs": [
    {
     "name": "stdout",
     "output_type": "stream",
     "text": [
      "Using pre-defined VAE FEATURES\n",
      "Using old scaler\n",
      "['MESH NAME NOT FOUND: SOS Response, Genetics', 'MESH NAME NOT FOUND: Phospholipid Hydroperoxide Glutathione Peroxidase', 'MESH NAME NOT FOUND: Indigenous Peoples', 'MESH NAME NOT FOUND: Inhibition, Psychological', \"MESH NAME NOT FOUND: Practice Patterns, Physicians'\", 'MESH NAME NOT FOUND: Formins', 'MESH NAME NOT FOUND: Male', 'MESH NAME NOT FOUND: RNA, Circular', 'MESH NAME NOT FOUND: Chlorocebus aethiops', 'MESH NAME NOT FOUND: Conditioning, Psychological', 'MESH NAME NOT FOUND: Phosphoinositide-3 Kinase Inhibitors', 'MESH NAME NOT FOUND: Reinforcement, Psychology', 'MESH NAME NOT FOUND: Female']\n"
     ]
    }
   ],
   "source": [
    "train_vae = train_set.__getvae__()\n",
    "df_group = df[df['pmid'].isin(df_ab.pmid)]\n",
    "group_run = ToyDS(df_group, df_group['last_author_name'].unique(),all_vae)\n",
    "data =  torch.from_numpy(group_run.features).to(device,dtype=torch.float32)\n",
    "optimizer.zero_grad()\n",
    "recon_batch, mu, logvar= model(data)\n",
    "bottle_neck = mu.cpu().detach().numpy()"
   ]
  },
  {
   "cell_type": "code",
   "execution_count": 278,
   "metadata": {},
   "outputs": [
    {
     "data": {
      "text/plain": [
       "(199, 8)"
      ]
     },
     "execution_count": 278,
     "metadata": {},
     "output_type": "execute_result"
    }
   ],
   "source": [
    "bottle_neck.shape"
   ]
  },
  {
   "cell_type": "code",
   "execution_count": 279,
   "metadata": {},
   "outputs": [
    {
     "data": {
      "text/plain": [
       "199"
      ]
     },
     "execution_count": 279,
     "metadata": {},
     "output_type": "execute_result"
    }
   ],
   "source": [
    "labels = df_ab['class'].values\n",
    "len(labels)"
   ]
  },
  {
   "cell_type": "code",
   "execution_count": 292,
   "metadata": {},
   "outputs": [
    {
     "name": "stdout",
     "output_type": "stream",
     "text": [
      "[t-SNE] Computing 7 nearest neighbors...\n",
      "[t-SNE] Indexed 199 samples in 0.000s...\n",
      "[t-SNE] Computed neighbors for 199 samples in 0.001s...\n",
      "[t-SNE] Computed conditional probabilities for sample 199 / 199\n",
      "[t-SNE] Mean sigma: 0.000001\n",
      "[t-SNE] KL divergence after 250 iterations with early exaggeration: 79.636292\n",
      "[t-SNE] KL divergence after 800 iterations: 0.398583\n",
      "t-SNE done! Time elapsed: 0.3286464214324951 seconds\n"
     ]
    }
   ],
   "source": [
    "time_start = time.time()\n",
    "tsne = TSNE(n_components=2, verbose=1, perplexity=2, n_iter=800,random_state=42)\n",
    "tsne_results = tsne.fit_transform(bottle_neck)\n",
    "print('t-SNE done! Time elapsed: {} seconds'.format(time.time()-time_start))"
   ]
  },
  {
   "cell_type": "code",
   "execution_count": 293,
   "metadata": {},
   "outputs": [],
   "source": [
    "df_subset=pd.DataFrame()\n",
    "df_subset['tsne-2d-one'] = bottle_neck[:,0]\n",
    "df_subset['tsne-2d-two'] = bottle_neck[:,1]\n",
    "df_subset['class'] = labels"
   ]
  },
  {
   "cell_type": "code",
   "execution_count": 294,
   "metadata": {},
   "outputs": [
    {
     "data": {
      "image/png": "[encoded data removed]",
      "text/plain": [
       "<Figure size 1008x720 with 1 Axes>"
      ]
     },
     "metadata": {
      "needs_background": "light"
     },
     "output_type": "display_data"
    }
   ],
   "source": [
    "groups = df_subset.groupby('class')\n",
    "markers = ['o','v',\"x\"]\n",
    "colors = [\"red\",\"black\",\"green\"]\n",
    "# Plot\n",
    "fig, ax = plt.subplots(figsize=(14,10))\n",
    "\n",
    "ax.margins(0.05) # Optional, just adds 5% padding to the autoscaling\n",
    "for i, (name, group) in enumerate(groups):\n",
    "    ax.set_title(\"TSNE of the Mesh Embeddings for given use-case - 8dim latent space\")\n",
    "    ax.plot(group['tsne-2d-one'], group['tsne-2d-two'], marker=markers[i], linestyle='', ms=12, label=name, color=colors[i])\n",
    "ax.legend()\n",
    "plt.show()\n",
    "fig.tight_layout();\n",
    "\n",
    "# fig.savefig('code/img/TSNE_Plots/meshemb_2usecase_2dimls.png', bbox_inches='tight')"
   ]
  },
  {
   "cell_type": "code",
   "execution_count": null,
   "metadata": {},
   "outputs": [],
   "source": []
  }
 ],
 "metadata": {
  "kernelspec": {
   "display_name": "Environment (conda_pytorch_latest_p36)",
   "language": "python",
   "name": "conda_pytorch_latest_p36"
  },
  "language_info": {
   "codemirror_mode": {
    "name": "ipython",
    "version": 3
   },
   "file_extension": ".py",
   "mimetype": "text/x-python",
   "name": "python",
   "nbconvert_exporter": "python",
   "pygments_lexer": "ipython3",
   "version": "3.6.10"
  }
 },
 "nbformat": 4,
 "nbformat_minor": 4
}
