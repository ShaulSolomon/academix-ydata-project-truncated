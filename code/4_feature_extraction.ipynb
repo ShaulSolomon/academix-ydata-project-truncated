{
 "cells": [
  {
   "cell_type": "markdown",
   "metadata": {},
   "source": [
    "# NB for exploring feature extraction "
   ]
  },
  {
   "cell_type": "code",
   "execution_count": 35,
   "metadata": {},
   "outputs": [
    {
     "output_type": "stream",
     "name": "stdout",
     "text": "The autoreload extension is already loaded. To reload it, use:\n  %reload_ext autoreload\n"
    }
   ],
   "source": [
    "from py_4.feature_helper import get_names\n",
    "from gensim.models.doc2vec import Doc2Vec, TaggedDocument\n",
    "\n",
    "from os import makedirs, path\n",
    "%load_ext autoreload\n",
    "%autoreload 2%load_ext autoreload\n",
    "%autoreload 2"
   ]
  },
  {
   "cell_type": "code",
   "execution_count": 36,
   "metadata": {},
   "outputs": [],
   "source": [
    "# model settings\n",
    "epoches=2\n",
    "vector_size=20\n",
    "window=2\n",
    "parameters = (epoches,vector_size,window)"
   ]
  },
  {
   "cell_type": "code",
   "execution_count": 37,
   "metadata": {},
   "outputs": [
    {
     "output_type": "execute_result",
     "data": {
      "text/plain": "['Roy Granit',\n 'Shaul Solomon',\n 'clarke',\n 'davies',\n 'davis',\n 'kelley',\n 'kelly',\n 'wood',\n 'macdonald',\n 'woods',\n 'mcdonald',\n 'rogers',\n 'thompson',\n 'rodgers',\n 'cooke',\n 'cook',\n 'stevens']"
     },
     "metadata": {},
     "execution_count": 37
    }
   ],
   "source": [
    "get_names()"
   ]
  },
  {
   "cell_type": "code",
   "execution_count": 38,
   "metadata": {},
   "outputs": [],
   "source": [
    "def train_model(epochs, vector_size, window):\n",
    "    documents = [TaggedDocument(list(doc), [i]) for i, doc in enumerate(get_names())]\n",
    "    print(documents)\n",
    "    model = Doc2Vec(documents, epochs=epochs, vector_size=vector_size, window=window, workers=1)\n",
    "    return model"
   ]
  },
  {
   "cell_type": "code",
   "execution_count": 39,
   "metadata": {},
   "outputs": [
    {
     "output_type": "execute_result",
     "data": {
      "text/plain": "[TaggedDocument(words=['R', 'o', 'y', ' ', 'G', 'r', 'a', 'n', 'i', 't'], tags=[0]),\n TaggedDocument(words=['S', 'h', 'a', 'u', 'l', ' ', 'S', 'o', 'l', 'o', 'm', 'o', 'n'], tags=[1]),\n TaggedDocument(words=['c', 'l', 'a', 'r', 'k', 'e'], tags=[2]),\n TaggedDocument(words=['d', 'a', 'v', 'i', 'e', 's'], tags=[3]),\n TaggedDocument(words=['d', 'a', 'v', 'i', 's'], tags=[4]),\n TaggedDocument(words=['k', 'e', 'l', 'l', 'e', 'y'], tags=[5]),\n TaggedDocument(words=['k', 'e', 'l', 'l', 'y'], tags=[6]),\n TaggedDocument(words=['w', 'o', 'o', 'd'], tags=[7]),\n TaggedDocument(words=['m', 'a', 'c', 'd', 'o', 'n', 'a', 'l', 'd'], tags=[8]),\n TaggedDocument(words=['w', 'o', 'o', 'd', 's'], tags=[9]),\n TaggedDocument(words=['m', 'c', 'd', 'o', 'n', 'a', 'l', 'd'], tags=[10]),\n TaggedDocument(words=['r', 'o', 'g', 'e', 'r', 's'], tags=[11]),\n TaggedDocument(words=['t', 'h', 'o', 'm', 'p', 's', 'o', 'n'], tags=[12]),\n TaggedDocument(words=['r', 'o', 'd', 'g', 'e', 'r', 's'], tags=[13]),\n TaggedDocument(words=['c', 'o', 'o', 'k', 'e'], tags=[14]),\n TaggedDocument(words=['c', 'o', 'o', 'k'], tags=[15]),\n TaggedDocument(words=['s', 't', 'e', 'v', 'e', 'n', 's'], tags=[16])]"
     },
     "metadata": {},
     "execution_count": 39
    }
   ],
   "source": [
    "[TaggedDocument(list(doc), [i]) for i, doc in enumerate(get_names())]"
   ]
  },
  {
   "cell_type": "code",
   "execution_count": 40,
   "metadata": {},
   "outputs": [
    {
     "output_type": "stream",
     "name": "stdout",
     "text": "Generating model with epochs=2 vector_size=20 window=2\n[TaggedDocument(words=['R', 'o', 'y', ' ', 'G', 'r', 'a', 'n', 'i', 't'], tags=[0]), TaggedDocument(words=['S', 'h', 'a', 'u', 'l', ' ', 'S', 'o', 'l', 'o', 'm', 'o', 'n'], tags=[1]), TaggedDocument(words=['c', 'l', 'a', 'r', 'k', 'e'], tags=[2]), TaggedDocument(words=['d', 'a', 'v', 'i', 'e', 's'], tags=[3]), TaggedDocument(words=['d', 'a', 'v', 'i', 's'], tags=[4]), TaggedDocument(words=['k', 'e', 'l', 'l', 'e', 'y'], tags=[5]), TaggedDocument(words=['k', 'e', 'l', 'l', 'y'], tags=[6]), TaggedDocument(words=['w', 'o', 'o', 'd'], tags=[7]), TaggedDocument(words=['m', 'a', 'c', 'd', 'o', 'n', 'a', 'l', 'd'], tags=[8]), TaggedDocument(words=['w', 'o', 'o', 'd', 's'], tags=[9]), TaggedDocument(words=['m', 'c', 'd', 'o', 'n', 'a', 'l', 'd'], tags=[10]), TaggedDocument(words=['r', 'o', 'g', 'e', 'r', 's'], tags=[11]), TaggedDocument(words=['t', 'h', 'o', 'm', 'p', 's', 'o', 'n'], tags=[12]), TaggedDocument(words=['r', 'o', 'd', 'g', 'e', 'r', 's'], tags=[13]), TaggedDocument(words=['c', 'o', 'o', 'k', 'e'], tags=[14]), TaggedDocument(words=['c', 'o', 'o', 'k'], tags=[15]), TaggedDocument(words=['s', 't', 'e', 'v', 'e', 'n', 's'], tags=[16])]\nSaved model to models/epochs_2_vectorSize_20_window_2.model\n"
    }
   ],
   "source": [
    "#create model if it doesn't already exist\n",
    "makedirs('models', exist_ok=True)\n",
    "\n",
    "model_path = 'models/epochs_%d_vectorSize_%d_window_%d.model' % parameters\n",
    "\n",
    "if path.exists(model_path):\n",
    "    print(f\"'{model_path}' already exits. Using existing model to re-generate results.\")\n",
    "    model = Doc2Vec.load(model_path)\n",
    "else:\n",
    "    print('Generating model with epochs=%d vector_size=%d window=%d' % parameters)\n",
    "    model = train_model(*parameters)\n",
    "    model.save(model_path)\n",
    "    print(f'Saved model to {model_path}')"
   ]
  },
  {
   "cell_type": "code",
   "execution_count": 41,
   "metadata": {},
   "outputs": [
    {
     "output_type": "execute_result",
     "data": {
      "text/plain": "<gensim.models.doc2vec.Doc2Vec at 0x1230a5128>"
     },
     "metadata": {},
     "execution_count": 41
    }
   ],
   "source": [
    "model"
   ]
  },
  {
   "cell_type": "code",
   "execution_count": null,
   "metadata": {},
   "outputs": [],
   "source": []
  }
 ],
 "metadata": {
  "language_info": {
   "codemirror_mode": {
    "name": "ipython",
    "version": 3
   },
   "file_extension": ".py",
   "mimetype": "text/x-python",
   "name": "python",
   "nbconvert_exporter": "python",
   "pygments_lexer": "ipython3",
   "version": "3.6.8-final"
  },
  "orig_nbformat": 2,
  "kernelspec": {
   "name": "python36864bitnlpcondaedb4459334ba4ee28e4936a12647cfbd",
   "display_name": "Python 3.6.8 64-bit ('nlp': conda)"
  }
 },
 "nbformat": 4,
 "nbformat_minor": 2
}