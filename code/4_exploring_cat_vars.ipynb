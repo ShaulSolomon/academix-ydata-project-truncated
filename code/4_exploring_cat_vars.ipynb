{
 "cells": [
  {
   "cell_type": "code",
   "execution_count": 3,
   "metadata": {},
   "outputs": [],
   "source": [
    "%load_ext autoreload\n",
    "%autoreload 2"
   ]
  },
  {
   "cell_type": "code",
   "execution_count": 2,
   "metadata": {},
   "outputs": [
    {
     "name": "stdout",
     "output_type": "stream",
     "text": [
      "/home/ubuntu/AYP/code\n"
     ]
    }
   ],
   "source": [
    "cd .."
   ]
  },
  {
   "cell_type": "code",
   "execution_count": 7,
   "metadata": {
    "collapsed": true,
    "jupyter": {
     "outputs_hidden": true
    }
   },
   "outputs": [
    {
     "name": "stdout",
     "output_type": "stream",
     "text": [
      "Collecting gensim\n",
      "  Downloading gensim-3.8.3-cp36-cp36m-manylinux1_x86_64.whl (24.2 MB)\n",
      "\u001b[K     |████████████████████████████████| 24.2 MB 58 kB/s s eta 0:00:01\n",
      "\u001b[?25hCollecting elasticsearch\n",
      "  Using cached elasticsearch-7.8.0-py2.py3-none-any.whl (188 kB)\n",
      "Collecting elasticsearch_dsl\n",
      "  Using cached elasticsearch_dsl-7.2.1-py2.py3-none-any.whl (53 kB)\n",
      "Collecting pymed\n",
      "  Using cached pymed-0.8.9-py3-none-any.whl (9.6 kB)\n",
      "Requirement already satisfied: six>=1.5.0 in /home/ubuntu/anaconda3/envs/aws_neuron_pytorch_p36/lib/python3.6/site-packages (from gensim) (1.15.0)\n",
      "Collecting smart-open>=1.8.1\n",
      "  Using cached smart_open-2.1.0.tar.gz (116 kB)\n",
      "Requirement already satisfied: numpy>=1.11.3 in /home/ubuntu/anaconda3/envs/aws_neuron_pytorch_p36/lib/python3.6/site-packages (from gensim) (1.18.5)\n",
      "Requirement already satisfied: scipy>=0.18.1 in /home/ubuntu/anaconda3/envs/aws_neuron_pytorch_p36/lib/python3.6/site-packages (from gensim) (1.3.2)\n",
      "Requirement already satisfied: certifi in /home/ubuntu/anaconda3/envs/aws_neuron_pytorch_p36/lib/python3.6/site-packages (from elasticsearch) (2020.4.5.2)\n",
      "Requirement already satisfied: urllib3>=1.21.1 in /home/ubuntu/anaconda3/envs/aws_neuron_pytorch_p36/lib/python3.6/site-packages (from elasticsearch) (1.25.9)\n",
      "Requirement already satisfied: python-dateutil in /home/ubuntu/anaconda3/envs/aws_neuron_pytorch_p36/lib/python3.6/site-packages (from elasticsearch_dsl) (2.8.1)\n",
      "Requirement already satisfied: requests>=2.20.0 in /home/ubuntu/anaconda3/envs/aws_neuron_pytorch_p36/lib/python3.6/site-packages (from pymed) (2.23.0)\n",
      "Requirement already satisfied: boto in /home/ubuntu/anaconda3/envs/aws_neuron_pytorch_p36/lib/python3.6/site-packages (from smart-open>=1.8.1->gensim) (2.49.0)\n",
      "Requirement already satisfied: boto3 in /home/ubuntu/anaconda3/envs/aws_neuron_pytorch_p36/lib/python3.6/site-packages (from smart-open>=1.8.1->gensim) (1.14.5)\n",
      "Requirement already satisfied: idna<3,>=2.5 in /home/ubuntu/anaconda3/envs/aws_neuron_pytorch_p36/lib/python3.6/site-packages (from requests>=2.20.0->pymed) (2.9)\n",
      "Requirement already satisfied: chardet<4,>=3.0.2 in /home/ubuntu/anaconda3/envs/aws_neuron_pytorch_p36/lib/python3.6/site-packages (from requests>=2.20.0->pymed) (3.0.4)\n",
      "Requirement already satisfied: botocore<1.18.0,>=1.17.5 in /home/ubuntu/anaconda3/envs/aws_neuron_pytorch_p36/lib/python3.6/site-packages (from boto3->smart-open>=1.8.1->gensim) (1.17.5)\n",
      "Requirement already satisfied: s3transfer<0.4.0,>=0.3.0 in /home/ubuntu/anaconda3/envs/aws_neuron_pytorch_p36/lib/python3.6/site-packages (from boto3->smart-open>=1.8.1->gensim) (0.3.3)\n",
      "Requirement already satisfied: jmespath<1.0.0,>=0.7.1 in /home/ubuntu/anaconda3/envs/aws_neuron_pytorch_p36/lib/python3.6/site-packages (from boto3->smart-open>=1.8.1->gensim) (0.10.0)\n",
      "Requirement already satisfied: docutils<0.16,>=0.10 in /home/ubuntu/anaconda3/envs/aws_neuron_pytorch_p36/lib/python3.6/site-packages (from botocore<1.18.0,>=1.17.5->boto3->smart-open>=1.8.1->gensim) (0.15.2)\n",
      "Building wheels for collected packages: smart-open\n",
      "  Building wheel for smart-open (setup.py) ... \u001b[?25ldone\n",
      "\u001b[?25h  Created wheel for smart-open: filename=smart_open-2.1.0-py3-none-any.whl size=110317 sha256=3765a075c5c9075e05ec028f6795f9f85bcccd838756f24557fbe819cd5c65bd\n",
      "  Stored in directory: /home/ubuntu/.cache/pip/wheels/a4/9b/d5/85705a7ab783cd6f7bd718f01d3b1396272f30044e3c36401a\n",
      "Successfully built smart-open\n",
      "Installing collected packages: smart-open, gensim, elasticsearch, elasticsearch-dsl, pymed\n",
      "Successfully installed elasticsearch-7.8.0 elasticsearch-dsl-7.2.1 gensim-3.8.3 pymed-0.8.9 smart-open-2.1.0\n"
     ]
    }
   ],
   "source": [
    "!pip install gensim elasticsearch elasticsearch_dsl pymed"
   ]
  },
  {
   "cell_type": "code",
   "execution_count": 75,
   "metadata": {},
   "outputs": [],
   "source": [
    "import os, re, sys\n",
    "\n",
    "import pandas as pd\n",
    "import numpy as np\n",
    "import matplotlib.pyplot as plt\n",
    "\n",
    "from yuval_module.paper_clusterer import PaperClusterer\n",
    "from yuval_module.paper_source import PaperSource\n",
    "\n",
    "from sklearn.feature_extraction.text import TfidfVectorizer\n",
    "\n",
    "import py_3.sim_matrix_3 as sim_matrix_3\n",
    "import py_3.lr_model_3 as lr_model_3\n",
    "import py_3.db_scan_3 as db_scan_3\n",
    "import py_4.get_mesh_vec as get_mesh_vec\n",
    "import py_4.get_cat_vec as get_cat_vec\n",
    "\n",
    "import metric_eval_2\n",
    "\n",
    "%matplotlib inline\n",
    "\n",
    "\n",
    "import utils\n",
    "from utils import PROJECT_ROOT, DATA_PATH\n",
    "\n",
    "FILE = \"enriched_labeled_dataset_large.json\""
   ]
  },
  {
   "cell_type": "code",
   "execution_count": 78,
   "metadata": {},
   "outputs": [
    {
     "name": "stdout",
     "output_type": "stream",
     "text": [
      "PULLING FROM S3\n",
      "FILE PULLED\n"
     ]
    }
   ],
   "source": [
    "if os.path.exists(PROJECT_ROOT + DATA_PATH + FILE):\n",
    "    print(\"READING FROM LOCAL\")\n",
    "    if FILE.split(\".\")[1] == \"json\":\n",
    "        df = pd.read_json(PROJECT_ROOT + DATA_PATH + FILE)\n",
    "    else:\n",
    "        df = pd.read_csv(PROJECT_ROOT + DATA_PATH + FILE)\n",
    "    ps = PaperSource()\n",
    "else:\n",
    "    print(\"PULLING FROM S3\")\n",
    "    ps = sim_matrix_3.load_dataset(\"enriched_labeled_dataset_large\")\n",
    "    df = ps.get_dataset()\n",
    "\n",
    "# df.drop(columns=[\"ORG_STATE\"],inplace=True)\n",
    "# df.rename(columns={'ORG_STATE':'last_author_country'},inplace=True)\n",
    "\n",
    "print(\"FILE PULLED\")"
   ]
  },
  {
   "cell_type": "code",
   "execution_count": 79,
   "metadata": {},
   "outputs": [
    {
     "data": {
      "text/plain": [
       "Index(['pmid', 'ORG_STATE', 'PI_IDS', 'last_author_name', 'authors', 'doi',\n",
       "       'journal_name', 'language', 'last_author', 'last_author_country',\n",
       "       'last_author_email', 'last_author_id', 'last_author_inst', 'mesh',\n",
       "       'mesh_major', 'pub_year', 'title'],\n",
       "      dtype='object')"
      ]
     },
     "execution_count": 79,
     "metadata": {},
     "output_type": "execute_result"
    }
   ],
   "source": [
    "df.columns"
   ]
  },
  {
   "cell_type": "code",
   "execution_count": 14,
   "metadata": {},
   "outputs": [],
   "source": [
    "df_auth = ps.add_processed_fields(df)"
   ]
  },
  {
   "cell_type": "code",
   "execution_count": 60,
   "metadata": {},
   "outputs": [
    {
     "data": {
      "text/plain": [
       "Index(['pmid', 'last_author_country', 'PI_IDS', 'last_author_name', 'authors',\n",
       "       'doi', 'journal_name', 'language', 'last_author', 'last_author_email',\n",
       "       'last_author_id', 'last_author_inst', 'mesh', 'mesh_major', 'pub_year',\n",
       "       'title', 'mesh_clean', 'other_authors', 'inst_clean', 'email_clean'],\n",
       "      dtype='object')"
      ]
     },
     "execution_count": 60,
     "metadata": {},
     "output_type": "execute_result"
    }
   ],
   "source": [
    "df_auth.columns"
   ]
  },
  {
   "cell_type": "markdown",
   "metadata": {},
   "source": [
    "#### EXPLORING INSTITUTIONS"
   ]
  },
  {
   "cell_type": "code",
   "execution_count": 24,
   "metadata": {},
   "outputs": [],
   "source": [
    "freq_inst = df_auth.groupby('last_author_inst').size().sort_values()"
   ]
  },
  {
   "cell_type": "code",
   "execution_count": 40,
   "metadata": {},
   "outputs": [
    {
     "data": {
      "text/plain": [
       "count    2651.000000\n",
       "mean       62.792908\n",
       "std       286.544396\n",
       "min         1.000000\n",
       "25%         1.000000\n",
       "50%         2.000000\n",
       "75%        10.000000\n",
       "max      4224.000000\n",
       "dtype: float64"
      ]
     },
     "execution_count": 40,
     "metadata": {},
     "output_type": "execute_result"
    }
   ],
   "source": [
    "freq_inst.describe"
   ]
  },
  {
   "cell_type": "code",
   "execution_count": 74,
   "metadata": {},
   "outputs": [
    {
     "data": {
      "text/plain": [
       "Index(['VA Loma Linda Healthcare System', 'Southeastern University',\n",
       "       'Southeast Louisiana Veterans Health Care System',\n",
       "       'Florida Hospital Orlando', 'All India Institute of Medical Sciences',\n",
       "       'Kenyatta National Hospital', 'White River Junction VA Medical Center',\n",
       "       'William & Mary', 'Winthrop-University Hospital',\n",
       "       'Centers for Disease Control and Prevention',\n",
       "       ...\n",
       "       'University of Michigan–Ann Arbor', 'Massachusetts General Hospital',\n",
       "       'Harvard Medical School', 'University of Washington',\n",
       "       'Stanford University', 'University of California, San Diego',\n",
       "       'University of California, San Francisco', 'University of Pittsburgh',\n",
       "       'Johns Hopkins University', 'University of Pennsylvania'],\n",
       "      dtype='object', name='last_author_inst', length=985)"
      ]
     },
     "execution_count": 74,
     "metadata": {},
     "output_type": "execute_result"
    }
   ],
   "source": [
    "freq_inst[freq_inst > 4].index"
   ]
  },
  {
   "cell_type": "code",
   "execution_count": 50,
   "metadata": {},
   "outputs": [
    {
     "data": {
      "text/plain": [
       "0.14856093581369656"
      ]
     },
     "execution_count": 50,
     "metadata": {},
     "output_type": "execute_result"
    }
   ],
   "source": [
    "# Perc. without inst\n",
    "df_auth['last_author_inst'].isna().sum() / len(df_auth['last_author_inst'])"
   ]
  },
  {
   "cell_type": "markdown",
   "metadata": {},
   "source": [
    "#### EXPLORING COUNTRY"
   ]
  },
  {
   "cell_type": "code",
   "execution_count": 70,
   "metadata": {},
   "outputs": [],
   "source": [
    "country_stats = df.groupby('last_author_country').size().sort_values(ascending=False)"
   ]
  },
  {
   "cell_type": "code",
   "execution_count": 72,
   "metadata": {},
   "outputs": [
    {
     "data": {
      "text/plain": [
       "last_author_country\n",
       "United States     181452\n",
       "China               1835\n",
       "Georgia             1749\n",
       "Canada              1446\n",
       "India               1326\n",
       "United Kingdom      1100\n",
       "Jersey               812\n",
       "Germany              501\n",
       "Australia            439\n",
       "Mexico               402\n",
       "Japan                327\n",
       "Italy                294\n",
       "Lebanon              288\n",
       "France               234\n",
       "Netherlands          175\n",
       "Brazil               160\n",
       "Switzerland          150\n",
       "South Africa         140\n",
       "Israel               137\n",
       "Sweden               137\n",
       "dtype: int64"
      ]
     },
     "execution_count": 72,
     "metadata": {},
     "output_type": "execute_result"
    }
   ],
   "source": [
    "country_stats[:20]"
   ]
  },
  {
   "cell_type": "code",
   "execution_count": 66,
   "metadata": {},
   "outputs": [
    {
     "data": {
      "text/plain": [
       "count       122.000000\n",
       "mean       1599.286885\n",
       "std       16420.637743\n",
       "min           1.000000\n",
       "25%           3.000000\n",
       "50%          11.500000\n",
       "75%          55.750000\n",
       "max      181452.000000\n",
       "dtype: float64"
      ]
     },
     "execution_count": 66,
     "metadata": {},
     "output_type": "execute_result"
    }
   ],
   "source": [
    "country_stats.describe()"
   ]
  },
  {
   "cell_type": "code",
   "execution_count": 80,
   "metadata": {},
   "outputs": [],
   "source": [
    "state_stats = df.groupby('ORG_STATE').size().sort_values(ascending=False)"
   ]
  },
  {
   "cell_type": "code",
   "execution_count": 83,
   "metadata": {},
   "outputs": [
    {
     "data": {
      "text/plain": [
       "ORG_STATE\n",
       "CA    27540\n",
       "MA    19741\n",
       "NY    17378\n",
       "PA    12529\n",
       "TX    10878\n",
       "IL     7628\n",
       "NC     7450\n",
       "MD     7335\n",
       "MI     6480\n",
       "OH     6163\n",
       "GA     5153\n",
       "WA     4855\n",
       "FL     4613\n",
       "MN     4543\n",
       "TN     4407\n",
       "CT     4291\n",
       "MO     4189\n",
       "WI     3932\n",
       "IN     3009\n",
       "CO     2872\n",
       "dtype: int64"
      ]
     },
     "execution_count": 83,
     "metadata": {},
     "output_type": "execute_result"
    }
   ],
   "source": [
    "state_stats[:20]"
   ]
  },
  {
   "cell_type": "code",
   "execution_count": 84,
   "metadata": {},
   "outputs": [
    {
     "data": {
      "text/plain": [
       "count       60.000000\n",
       "mean      3258.483333\n",
       "std       5144.188821\n",
       "min          3.000000\n",
       "25%        294.750000\n",
       "50%       1317.500000\n",
       "75%       4320.000000\n",
       "max      27540.000000\n",
       "dtype: float64"
      ]
     },
     "execution_count": 84,
     "metadata": {},
     "output_type": "execute_result"
    }
   ],
   "source": [
    "state_stats.describe()"
   ]
  },
  {
   "cell_type": "markdown",
   "metadata": {},
   "source": [
    "#### Implementing get_vec.py"
   ]
  },
  {
   "cell_type": "code",
   "execution_count": 166,
   "metadata": {},
   "outputs": [],
   "source": [
    "gcv = get_cat_vec.CatFeat(df)"
   ]
  },
  {
   "cell_type": "code",
   "execution_count": 167,
   "metadata": {},
   "outputs": [],
   "source": [
    "ohe_inst = gcv.get_ohe_inst(df.last_author_inst)"
   ]
  },
  {
   "cell_type": "code",
   "execution_count": 172,
   "metadata": {},
   "outputs": [],
   "source": [
    "ohe_country = gcv.get_ohe_country(df.last_author_country)"
   ]
  },
  {
   "cell_type": "code",
   "execution_count": 174,
   "metadata": {},
   "outputs": [
    {
     "data": {
      "text/plain": [
       "195113.0"
      ]
     },
     "execution_count": 174,
     "metadata": {},
     "output_type": "execute_result"
    }
   ],
   "source": [
    "np.sum(ohe_country)"
   ]
  }
 ],
 "metadata": {
  "kernelspec": {
   "display_name": "Python 3",
   "language": "python",
   "name": "python3"
  },
  "language_info": {
   "codemirror_mode": {
    "name": "ipython",
    "version": 3
   },
   "file_extension": ".py",
   "mimetype": "text/x-python",
   "name": "python",
   "nbconvert_exporter": "python",
   "pygments_lexer": "ipython3",
   "version": "3.7.7"
  }
 },
 "nbformat": 4,
 "nbformat_minor": 4
}
