{
 "cells": [
  {
   "cell_type": "markdown",
   "metadata": {},
   "source": [
    "# NB for exploring feature extraction "
   ]
  },
  {
   "cell_type": "markdown",
   "metadata": {},
   "source": [
    "based on  https://github.com/foxcroftjn/CanAI-Name2Vec"
   ]
  },
  {
   "cell_type": "code",
   "execution_count": 1,
   "metadata": {
    "tags": []
   },
   "outputs": [],
   "source": [
    "from py_4.feature_helper import get_names, get_co_authors\n",
    "from gensim.models.doc2vec import Doc2Vec, TaggedDocument\n",
    "import pandas as pd\n",
    "from os import makedirs, path\n",
    "%load_ext autoreload\n",
    "%autoreload 2%load_ext autoreload\n",
    "%autoreload 2"
   ]
  },
  {
   "cell_type": "code",
   "execution_count": 2,
   "metadata": {},
   "outputs": [],
   "source": [
    "# model settings\n",
    "epoches=2\n",
    "vector_size=64\n",
    "window=2\n",
    "parameters = (epoches,vector_size,window)"
   ]
  },
  {
   "cell_type": "code",
   "execution_count": 46,
   "metadata": {},
   "outputs": [],
   "source": [
    "def train_model(epochs, vector_size, window):\n",
    "    documents = [TaggedDocument(list(doc), [i]) for i, doc in enumerate(get_names())]\n",
    "    #print(documents)\n",
    "    model = Doc2Vec(documents, epochs=epochs, vector_size=vector_size, window=window, workers=1)\n",
    "    print(len(documents))\n",
    "    return model"
   ]
  },
  {
   "cell_type": "code",
   "execution_count": 39,
   "metadata": {},
   "outputs": [
    {
     "output_type": "execute_result",
     "data": {
      "text/plain": "[TaggedDocument(words=['R', 'o', 'y', ' ', 'G', 'r', 'a', 'n', 'i', 't'], tags=[0]),\n TaggedDocument(words=['S', 'h', 'a', 'u', 'l', ' ', 'S', 'o', 'l', 'o', 'm', 'o', 'n'], tags=[1]),\n TaggedDocument(words=['c', 'l', 'a', 'r', 'k', 'e'], tags=[2]),\n TaggedDocument(words=['d', 'a', 'v', 'i', 'e', 's'], tags=[3]),\n TaggedDocument(words=['d', 'a', 'v', 'i', 's'], tags=[4]),\n TaggedDocument(words=['k', 'e', 'l', 'l', 'e', 'y'], tags=[5]),\n TaggedDocument(words=['k', 'e', 'l', 'l', 'y'], tags=[6]),\n TaggedDocument(words=['w', 'o', 'o', 'd'], tags=[7]),\n TaggedDocument(words=['m', 'a', 'c', 'd', 'o', 'n', 'a', 'l', 'd'], tags=[8]),\n TaggedDocument(words=['w', 'o', 'o', 'd', 's'], tags=[9]),\n TaggedDocument(words=['m', 'c', 'd', 'o', 'n', 'a', 'l', 'd'], tags=[10]),\n TaggedDocument(words=['r', 'o', 'g', 'e', 'r', 's'], tags=[11]),\n TaggedDocument(words=['t', 'h', 'o', 'm', 'p', 's', 'o', 'n'], tags=[12]),\n TaggedDocument(words=['r', 'o', 'd', 'g', 'e', 'r', 's'], tags=[13]),\n TaggedDocument(words=['c', 'o', 'o', 'k', 'e'], tags=[14]),\n TaggedDocument(words=['c', 'o', 'o', 'k'], tags=[15]),\n TaggedDocument(words=['s', 't', 'e', 'v', 'e', 'n', 's'], tags=[16])]"
     },
     "metadata": {},
     "execution_count": 39
    }
   ],
   "source": [
    "[TaggedDocument(list(doc), [i]) for i, doc in enumerate(get_names())]"
   ]
  },
  {
   "cell_type": "code",
   "execution_count": 47,
   "metadata": {
    "tags": []
   },
   "outputs": [
    {
     "output_type": "stream",
     "name": "stdout",
     "text": "Generating model with epochs=2 vector_size=64 window=2\n19676\nSaved model to models/names_epochs_2_vectorSize_64_window_2.model\n"
    }
   ],
   "source": [
    "#create model if it doesn't already exist\n",
    "makedirs('models', exist_ok=True)\n",
    "\n",
    "model_path = 'models/names_epochs_%d_vectorSize_%d_window_%d.model' % parameters\n",
    "\n",
    "if path.exists(model_path):\n",
    "    print(f\"'{model_path}' already exits. Using existing model to re-generate results.\")\n",
    "    model = Doc2Vec.load(model_path)\n",
    "else:\n",
    "    print('Generating model with epochs=%d vector_size=%d window=%d' % parameters)\n",
    "    model = train_model(*parameters)\n",
    "    model.save(model_path)\n",
    "    print(f'Saved model to {model_path}')"
   ]
  },
  {
   "cell_type": "markdown",
   "metadata": {},
   "source": [
    "# co-authors"
   ]
  },
  {
   "cell_type": "code",
   "execution_count": 3,
   "metadata": {},
   "outputs": [],
   "source": [
    "def train_model_co_authors(epochs, vector_size, window):\n",
    "    documents = [TaggedDocument(list(doc), [i]) for i, doc in enumerate(get_co_authors())]\n",
    "    #print(documents)\n",
    "    model = Doc2Vec(documents, epochs=epochs, vector_size=vector_size, window=window, workers=1)\n",
    "    print(len(documents))\n",
    "    return model"
   ]
  },
  {
   "cell_type": "code",
   "execution_count": 16,
   "metadata": {},
   "outputs": [],
   "source": [
    "# model settings\n",
    "epoches=2\n",
    "vector_size=64\n",
    "window=2\n",
    "parameters = (epoches,vector_size,window)"
   ]
  },
  {
   "cell_type": "code",
   "execution_count": 19,
   "metadata": {
    "tags": []
   },
   "outputs": [
    {
     "output_type": "stream",
     "name": "stdout",
     "text": "Generating model with epochs=2 vector_size=64 window=2\n196571\nSaved model to models/co_authors_epochs_2_vectorSize_64_window_2.model\n"
    }
   ],
   "source": [
    "#create model if it doesn't already exist\n",
    "makedirs('models', exist_ok=True)\n",
    "\n",
    "model_path = 'models/co_authors_epochs_%d_vectorSize_%d_window_%d.model' % parameters\n",
    "\n",
    "if path.exists(model_path):\n",
    "    print(f\"'{model_path}' already exits. Using existing model to re-generate results.\")\n",
    "    model = Doc2Vec.load(model_path)\n",
    "else:\n",
    "    print('Generating model with epochs=%d vector_size=%d window=%d' % parameters)\n",
    "    model = train_model_co_authors(*parameters)\n",
    "    model.save(model_path)\n",
    "    print(f'Saved model to {model_path}')"
   ]
  },
  {
   "cell_type": "code",
   "execution_count": null,
   "metadata": {},
   "outputs": [],
   "source": []
  },
  {
   "cell_type": "code",
   "execution_count": null,
   "metadata": {},
   "outputs": [],
   "source": []
  }
 ],
 "metadata": {
  "language_info": {
   "codemirror_mode": {
    "name": "ipython",
    "version": 3
   },
   "file_extension": ".py",
   "mimetype": "text/x-python",
   "name": "python",
   "nbconvert_exporter": "python",
   "pygments_lexer": "ipython3",
   "version": "3.6.8-final"
  },
  "orig_nbformat": 2,
  "kernelspec": {
   "name": "python36864bitnlpcondaedb4459334ba4ee28e4936a12647cfbd",
   "display_name": "Python 3.6.8 64-bit ('nlp': conda)"
  }
 },
 "nbformat": 4,
 "nbformat_minor": 2
}