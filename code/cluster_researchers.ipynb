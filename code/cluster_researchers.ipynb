{
 "cells": [
  {
   "cell_type": "code",
   "execution_count": 1,
   "metadata": {},
   "outputs": [
    {
     "output_type": "execute_result",
     "data": {
      "text/plain": "'\\nNotebook version of the new clustering algorithm\\n'"
     },
     "metadata": {},
     "execution_count": 1
    }
   ],
   "source": [
    "\"\"\"\n",
    "Notebook version of the new clustering algorithm\n",
    "\"\"\""
   ]
  },
  {
   "cell_type": "code",
   "execution_count": 1,
   "metadata": {},
   "outputs": [],
   "source": [
    "from yuval_module.paper_clusterer import PaperClusterer\n",
    "from yuval_module.paper_source import PaperSource\n",
    "import sys\n",
    "import pandas as pd\n",
    "import numpy as np\n",
    "import s3_functions as s3func\n",
    "\n",
    "\n",
    "%matplotlib inline"
   ]
  },
  {
   "cell_type": "code",
   "execution_count": 2,
   "metadata": {},
   "outputs": [],
   "source": [
    "def load_dataset(set_name):\n",
    "    ps=PaperSource()\n",
    "    ps.load_dataset(set_name)\n",
    "    return ps"
   ]
  },
  {
   "cell_type": "code",
   "execution_count": 3,
   "metadata": {},
   "outputs": [],
   "source": [
    "def get_res_papers(ps,author_name):\n",
    "    df=ps.get_dataset()\n",
    "    return df[df['last_author_name']==author_name]"
   ]
  },
  {
   "cell_type": "code",
   "execution_count": 4,
   "metadata": {
    "tags": [
     "outputPrepend"
    ]
   },
   "outputs": [
    {
     "output_type": "stream",
     "name": "stdout",
     "text": " 3 (char 2)\nExpecting property name enclosed in double quotes: line 1 column 3 (char 2)\nExpecting property name enclosed in double quotes: line 1 column 3 (char 2)\nExpecting property name enclosed in double quotes: line 1 column 3 (char 2)\nExpecting property name enclosed in double quotes: line 1 column 3 (char 2)\nExpecting property name enclosed in double quotes: line 1 column 3 (char 2)\nExpecting property name enclosed in double quotes: line 1 column 3 (char 2)\nExpecting property name enclosed in double quotes: line 1 column 3 (char 2)\nExpecting property name enclosed in double quotes: line 1 column 3 (char 2)\nExpecting property name enclosed in double quotes: line 1 column 3 (char 2)\nExpecting property name enclosed in double quotes: line 1 column 3 (char 2)\nExpecting property name enclosed in double quotes: line 1 column 3 (char 2)\nExpecting property name enclosed in double quotes: line 1 column 3 (char 2)\nExpecting property name enclosed in double quotes: line 1 column 3 (char 2)\nExpecting property name enclosed in double quotes: line 1 column 3 (char 2)\nExpecting property name enclosed in double quotes: line 1 column 3 (char 2)\nExpecting property name enclosed in double quotes: line 1 column 3 (char 2)\nExpecting property name enclosed in double quotes: line 1 column 3 (char 2)\nExpecting property name enclosed in double quotes: line 1 column 3 (char 2)\nExpecting property name enclosed in double quotes: line 1 column 3 (char 2)\nExpecting property name enclosed in double quotes: line 1 column 3 (char 2)\nExpecting property name enclosed in double quotes: line 1 column 3 (char 2)\nExpecting property name enclosed in double quotes: line 1 column 3 (char 2)\nExpecting property name enclosed in double quotes: line 1 column 3 (char 2)\nExpecting property name enclosed in double quotes: line 1 column 3 (char 2)\nExpecting property name enclosed in double quotes: line 1 column 3 (char 2)\nExpecting property name enclosed in double quotes: line 1 column 3 (char 2)\nExpecting property name enclosed in double quotes: line 1 column 3 (char 2)\nExpecting property name enclosed in double quotes: line 1 column 3 (char 2)\nExpecting property name enclosed in double quotes: line 1 column 3 (char 2)\nExpecting property name enclosed in double quotes: line 1 column 3 (char 2)\nExpecting property name enclosed in double quotes: line 1 column 3 (char 2)\nExpecting property name enclosed in double quotes: line 1 column 3 (char 2)\nExpecting property name enclosed in double quotes: line 1 column 3 (char 2)\nExpecting property name enclosed in double quotes: line 1 column 3 (char 2)\nExpecting property name enclosed in double quotes: line 1 column 3 (char 2)\nExpecting property name enclosed in double quotes: line 1 column 3 (char 2)\nExpecting property name enclosed in double quotes: line 1 column 3 (char 2)\nExpecting property name enclosed in double quotes: line 1 column 3 (char 2)\nExpecting property name enclosed in double quotes: line 1 column 3 (char 2)\nExpecting property name enclosed in double quotes: line 1 column 3 (char 2)\nExpecting property name enclosed in double quotes: line 1 column 3 (char 2)\nExpecting property name enclosed in double quotes: line 1 column 3 (char 2)\nExpecting property name enclosed in double quotes: line 1 column 3 (char 2)\nExpecting property name enclosed in double quotes: line 1 column 3 (char 2)\nExpecting property name enclosed in double quotes: line 1 column 3 (char 2)\nExpecting property name enclosed in double quotes: line 1 column 3 (char 2)\nExpecting property name enclosed in double quotes: line 1 column 3 (char 2)\nExpecting property name enclosed in double quotes: line 1 column 3 (char 2)\nExpecting property name enclosed in double quotes: line 1 column 3 (char 2)\nExpecting property name enclosed in double quotes: line 1 column 3 (char 2)\nExpecting property name enclosed in double quotes: line 1 column 3 (char 2)\nExpecting property name enclosed in double quotes: line 1 column 3 (char 2)\nExpecting property name enclosed in double quotes: line 1 column 3 (char 2)\nExpecting property name enclosed in double quotes: line 1 column 3 (char 2)\nExpecting property name enclosed in double quotes: line 1 column 3 (char 2)\nExpecting property name enclosed in double quotes: line 1 column 3 (char 2)\nExpecting property name enclosed in double quotes: line 1 column 3 (char 2)\nExpecting property name enclosed in double quotes: line 1 column 3 (char 2)\nExpecting property name enclosed in double quotes: line 1 column 3 (char 2)\nExpecting property name enclosed in double quotes: line 1 column 3 (char 2)\nExpecting property name enclosed in double quotes: line 1 column 3 (char 2)\nExpecting property name enclosed in double quotes: line 1 column 3 (char 2)\nExpecting property name enclosed in double quotes: line 1 column 3 (char 2)\nExpecting property name enclosed in double quotes: line 1 column 3 (char 2)\nExpecting property name enclosed in double quotes: line 1 column 3 (char 2)\nExpecting property name enclosed in double quotes: line 1 column 3 (char 2)\nExpecting property name enclosed in double quotes: line 1 column 3 (char 2)\nExpecting property name enclosed in double quotes: line 1 column 3 (char 2)\nExpecting property name enclosed in double quotes: line 1 column 3 (char 2)\nExpecting property name enclosed in double quotes: line 1 column 3 (char 2)\nExpecting property name enclosed in double quotes: line 1 column 3 (char 2)\nExpecting property name enclosed in double quotes: line 1 column 3 (char 2)\nExpecting property name enclosed in double quotes: line 1 column 3 (char 2)\nExpecting property name enclosed in double quotes: line 1 column 3 (char 2)\nExpecting property name enclosed in double quotes: line 1 column 3 (char 2)\nExpecting property name enclosed in double quotes: line 1 column 3 (char 2)\nExpecting property name enclosed in double quotes: line 1 column 3 (char 2)\nExpecting property name enclosed in double quotes: line 1 column 3 (char 2)\nExpecting property name enclosed in double quotes: line 1 column 3 (char 2)\nExpecting property name enclosed in double quotes: line 1 column 3 (char 2)\nExpecting property name enclosed in double quotes: line 1 column 3 (char 2)\nExpecting property name enclosed in double quotes: line 1 column 3 (char 2)\nExpecting property name enclosed in double quotes: line 1 column 3 (char 2)\nExpecting property name enclosed in double quotes: line 1 column 3 (char 2)\nExpecting property name enclosed in double quotes: line 1 column 3 (char 2)\nExpecting property name enclosed in double quotes: line 1 column 3 (char 2)\nExpecting property name enclosed in double quotes: line 1 column 3 (char 2)\nExpecting property name enclosed in double quotes: line 1 column 3 (char 2)\nExpecting property name enclosed in double quotes: line 1 column 3 (char 2)\nExpecting property name enclosed in double quotes: line 1 column 3 (char 2)\nExpecting property name enclosed in double quotes: line 1 column 3 (char 2)\nExpecting property name enclosed in double quotes: line 1 column 3 (char 2)\nExpecting property name enclosed in double quotes: line 1 column 3 (char 2)\nExpecting property name enclosed in double quotes: line 1 column 3 (char 2)\nExpecting property name enclosed in double quotes: line 1 column 3 (char 2)\nExpecting property name enclosed in double quotes: line 1 column 3 (char 2)\nExpecting property name enclosed in double quotes: line 1 column 3 (char 2)\nExpecting property name enclosed in double quotes: line 1 column 3 (char 2)\nExpecting property name enclosed in double quotes: line 1 column 3 (char 2)\nExpecting property name enclosed in double quotes: line 1 column 3 (char 2)\nExpecting property name enclosed in double quotes: line 1 column 3 (char 2)\nExpecting property name enclosed in double quotes: line 1 column 3 (char 2)\nExpecting property name enclosed in double quotes: line 1 column 3 (char 2)\nExpecting property name enclosed in double quotes: line 1 column 3 (char 2)\nExpecting property name enclosed in double quotes: line 1 column 3 (char 2)\nExpecting property name enclosed in double quotes: line 1 column 3 (char 2)\nExpecting property name enclosed in double quotes: line 1 column 3 (char 2)\nExpecting property name enclosed in double quotes: line 1 column 3 (char 2)\nExpecting property name enclosed in double quotes: line 1 column 3 (char 2)\nExpecting property name enclosed in double quotes: line 1 column 3 (char 2)\nExpecting property name enclosed in double quotes: line 1 column 3 (char 2)\nExpecting property name enclosed in double quotes: line 1 column 3 (char 2)\nExpecting property name enclosed in double quotes: line 1 column 3 (char 2)\nExpecting property name enclosed in double quotes: line 1 column 3 (char 2)\nExpecting property name enclosed in double quotes: line 1 column 3 (char 2)\nExpecting property name enclosed in double quotes: line 1 column 3 (char 2)\nExpecting property name enclosed in double quotes: line 1 column 3 (char 2)\nExpecting property name enclosed in double quotes: line 1 column 3 (char 2)\nExpecting property name enclosed in double quotes: line 1 column 3 (char 2)\nExpecting property name enclosed in double quotes: line 1 column 3 (char 2)\nExpecting property name enclosed in double quotes: line 1 column 3 (char 2)\nExpecting property name enclosed in double quotes: line 1 column 3 (char 2)\nExpecting property name enclosed in double quotes: line 1 column 3 (char 2)\nExpecting property name enclosed in double quotes: line 1 column 3 (char 2)\nExpecting property name enclosed in double quotes: line 1 column 3 (char 2)\nExpecting property name enclosed in double quotes: line 1 column 3 (char 2)\nExpecting property name enclosed in double quotes: line 1 column 3 (char 2)\nExpecting property name enclosed in double quotes: line 1 column 3 (char 2)\nExpecting property name enclosed in double quotes: line 1 column 3 (char 2)\nExpecting property name enclosed in double quotes: line 1 column 3 (char 2)\nExpecting property name enclosed in double quotes: line 1 column 3 (char 2)\nExpecting property name enclosed in double quotes: line 1 column 3 (char 2)\nExpecting property name enclosed in double quotes: line 1 column 3 (char 2)\nExpecting property name enclosed in double quotes: line 1 column 3 (char 2)\nExpecting property name enclosed in double quotes: line 1 column 3 (char 2)\nExpecting property name enclosed in double quotes: line 1 column 3 (char 2)\nExpecting property name enclosed in double quotes: line 1 column 3 (char 2)\nExpecting property name enclosed in double quotes: line 1 column 3 (char 2)\nExpecting property name enclosed in double quotes: line 1 column 3 (char 2)\nExpecting property name enclosed in double quotes: line 1 column 3 (char 2)\nExpecting property name enclosed in double quotes: line 1 column 3 (char 2)\nExpecting property name enclosed in double quotes: line 1 column 3 (char 2)\nExpecting property name enclosed in double quotes: line 1 column 3 (char 2)\nExpecting property name enclosed in double quotes: line 1 column 3 (char 2)\nExpecting property name enclosed in double quotes: line 1 column 3 (char 2)\nExpecting property name enclosed in double quotes: line 1 column 3 (char 2)\nExpecting property name enclosed in double quotes: line 1 column 3 (char 2)\nExpecting property name enclosed in double quotes: line 1 column 3 (char 2)\nExpecting property name enclosed in double quotes: line 1 column 3 (char 2)\nExpecting property name enclosed in double quotes: line 1 column 3 (char 2)\nExpecting property name enclosed in double quotes: line 1 column 3 (char 2)\nExpecting property name enclosed in double quotes: line 1 column 3 (char 2)\nExpecting property name enclosed in double quotes: line 1 column 3 (char 2)\nExpecting property name enclosed in double quotes: line 1 column 3 (char 2)\nExpecting property name enclosed in double quotes: line 1 column 3 (char 2)\nExpecting property name enclosed in double quotes: line 1 column 3 (char 2)\nExpecting property name enclosed in double quotes: line 1 column 3 (char 2)\nExpecting property name enclosed in double quotes: line 1 column 3 (char 2)\nExpecting property name enclosed in double quotes: line 1 column 3 (char 2)\nExpecting property name enclosed in double quotes: line 1 column 3 (char 2)\nExpecting property name enclosed in double quotes: line 1 column 3 (char 2)\nExpecting property name enclosed in double quotes: line 1 column 3 (char 2)\nExpecting property name enclosed in double quotes: line 1 column 3 (char 2)\nExpecting property name enclosed in double quotes: line 1 column 3 (char 2)\nExpecting property name enclosed in double quotes: line 1 column 3 (char 2)\nExpecting property name enclosed in double quotes: line 1 column 3 (char 2)\nExpecting property name enclosed in double quotes: line 1 column 3 (char 2)\nExpecting property name enclosed in double quotes: line 1 column 3 (char 2)\nExpecting property name enclosed in double quotes: line 1 column 3 (char 2)\nExpecting property name enclosed in double quotes: line 1 column 3 (char 2)\nExpecting property name enclosed in double quotes: line 1 column 3 (char 2)\nExpecting property name enclosed in double quotes: line 1 column 3 (char 2)\nExpecting property name enclosed in double quotes: line 1 column 3 (char 2)\nExpecting property name enclosed in double quotes: line 1 column 3 (char 2)\nExpecting property name enclosed in double quotes: line 1 column 3 (char 2)\nExpecting property name enclosed in double quotes: line 1 column 3 (char 2)\nExpecting property name enclosed in double quotes: line 1 column 3 (char 2)\nExpecting property name enclosed in double quotes: line 1 column 3 (char 2)\nExpecting property name enclosed in double quotes: line 1 column 3 (char 2)\nExpecting property name enclosed in double quotes: line 1 column 3 (char 2)\nExpecting property name enclosed in double quotes: line 1 column 3 (char 2)\nExpecting property name enclosed in double quotes: line 1 column 3 (char 2)\nExpecting property name enclosed in double quotes: line 1 column 3 (char 2)\nExpecting property name enclosed in double quotes: line 1 column 3 (char 2)\nExpecting property name enclosed in double quotes: line 1 column 3 (char 2)\nExpecting property name enclosed in double quotes: line 1 column 3 (char 2)\nExpecting property name enclosed in double quotes: line 1 column 3 (char 2)\nExpecting property name enclosed in double quotes: line 1 column 3 (char 2)\nExpecting property name enclosed in double quotes: line 1 column 3 (char 2)\nExpecting property name enclosed in double quotes: line 1 column 3 (char 2)\nExpecting property name enclosed in double quotes: line 1 column 3 (char 2)\nExpecting property name enclosed in double quotes: line 1 column 3 (char 2)\nExpecting property name enclosed in double quotes: line 1 column 3 (char 2)\nExpecting property name enclosed in double quotes: line 1 column 3 (char 2)\nExpecting property name enclosed in double quotes: line 1 column 3 (char 2)\nExpecting property name enclosed in double quotes: line 1 column 3 (char 2)\nExpecting property name enclosed in double quotes: line 1 column 3 (char 2)\nExpecting property name enclosed in double quotes: line 1 column 3 (char 2)\nExpecting property name enclosed in double quotes: line 1 column 3 (char 2)\nExpecting property name enclosed in double quotes: line 1 column 3 (char 2)\nExpecting property name enclosed in double quotes: line 1 column 3 (char 2)\nExpecting property name enclosed in double quotes: line 1 column 3 (char 2)\nExpecting property name enclosed in double quotes: line 1 column 3 (char 2)\nExpecting property name enclosed in double quotes: line 1 column 3 (char 2)\nExpecting property name enclosed in double quotes: line 1 column 3 (char 2)\nExpecting property name enclosed in double quotes: line 1 column 3 (char 2)\nExpecting property name enclosed in double quotes: line 1 column 3 (char 2)\nExpecting property name enclosed in double quotes: line 1 column 3 (char 2)\nExpecting property name enclosed in double quotes: line 1 column 3 (char 2)\nExpecting property name enclosed in double quotes: line 1 column 3 (char 2)\nExpecting property name enclosed in double quotes: line 1 column 3 (char 2)\nExpecting property name enclosed in double quotes: line 1 column 3 (char 2)\nExpecting property name enclosed in double quotes: line 1 column 3 (char 2)\nExpecting property name enclosed in double quotes: line 1 column 3 (char 2)\nExpecting property name enclosed in double quotes: line 1 column 3 (char 2)\nExpecting property name enclosed in double quotes: line 1 column 3 (char 2)\nExpecting property name enclosed in double quotes: line 1 column 3 (char 2)\nExpecting property name enclosed in double quotes: line 1 column 3 (char 2)\nExpecting property name enclosed in double quotes: line 1 column 3 (char 2)\nExpecting property name enclosed in double quotes: line 1 column 3 (char 2)\nExpecting property name enclosed in double quotes: line 1 column 3 (char 2)\nExpecting property name enclosed in double quotes: line 1 column 3 (char 2)\nExpecting property name enclosed in double quotes: line 1 column 3 (char 2)\nExpecting property name enclosed in double quotes: line 1 column 3 (char 2)\nExpecting property name enclosed in double quotes: line 1 column 3 (char 2)\nExpecting property name enclosed in double quotes: line 1 column 3 (char 2)\nExpecting property name enclosed in double quotes: line 1 column 3 (char 2)\nExpecting property name enclosed in double quotes: line 1 column 3 (char 2)\nExpecting property name enclosed in double quotes: line 1 column 3 (char 2)\nExpecting property name enclosed in double quotes: line 1 column 3 (char 2)\nExpecting property name enclosed in double quotes: line 1 column 3 (char 2)\nExpecting property name enclosed in double quotes: line 1 column 3 (char 2)\nExpecting property name enclosed in double quotes: line 1 column 3 (char 2)\nExpecting property name enclosed in double quotes: line 1 column 3 (char 2)\nExpecting property name enclosed in double quotes: line 1 column 3 (char 2)\nExpecting property name enclosed in double quotes: line 1 column 3 (char 2)\nExpecting property name enclosed in double quotes: line 1 column 3 (char 2)\nExpecting property name enclosed in double quotes: line 1 column 3 (char 2)\nExpecting property name enclosed in double quotes: line 1 column 3 (char 2)\nExpecting property name enclosed in double quotes: line 1 column 3 (char 2)\nExpecting property name enclosed in double quotes: line 1 column 3 (char 2)\nExpecting property name enclosed in double quotes: line 1 column 3 (char 2)\nExpecting property name enclosed in double quotes: line 1 column 3 (char 2)\nExpecting property name enclosed in double quotes: line 1 column 3 (char 2)\nExpecting property name enclosed in double quotes: line 1 column 3 (char 2)\nExpecting property name enclosed in double quotes: line 1 column 3 (char 2)\nExpecting property name enclosed in double quotes: line 1 column 3 (char 2)\nExpecting property name enclosed in double quotes: line 1 column 3 (char 2)\nExpecting property name enclosed in double quotes: line 1 column 3 (char 2)\nExpecting property name enclosed in double quotes: line 1 column 3 (char 2)\nExpecting property name enclosed in double quotes: line 1 column 3 (char 2)\nExpecting property name enclosed in double quotes: line 1 column 3 (char 2)\nExpecting property name enclosed in double quotes: line 1 column 3 (char 2)\nExpecting property name enclosed in double quotes: line 1 column 3 (char 2)\nExpecting property name enclosed in double quotes: line 1 column 3 (char 2)\nExpecting property name enclosed in double quotes: line 1 column 3 (char 2)\nExpecting property name enclosed in double quotes: line 1 column 3 (char 2)\nExpecting property name enclosed in double quotes: line 1 column 3 (char 2)\nExpecting property name enclosed in double quotes: line 1 column 3 (char 2)\nExpecting property name enclosed in double quotes: line 1 column 3 (char 2)\nExpecting property name enclosed in double quotes: line 1 column 3 (char 2)\nExpecting property name enclosed in double quotes: line 1 column 3 (char 2)\nExpecting property name enclosed in double quotes: line 1 column 3 (char 2)\n"
    }
   ],
   "source": [
    "#ps=load_dataset('enriched_labeled')\n",
    "ps=load_dataset('mini')"
   ]
  },
  {
   "cell_type": "code",
   "execution_count": 6,
   "metadata": {},
   "outputs": [
    {
     "output_type": "execute_result",
     "data": {
      "text/plain": "   Unnamed: 0  Unnamed: 0.1      pmid   PI_IDS last_author_name authors  \\\n0           0             0  19810465  8352708    Madabhushi, A    None   \n1           1             1  26167385  8352708    Madabhushi, A    None   \n2           2             2  26870745  8352708    Madabhushi, A    None   \n3           3             3  25958195  8352708    Madabhushi, A    None   \n4           4             4  25993029  8352708    Madabhushi, A    None   \n\n                                 doi  \\\n0                                NaN   \n1                                NaN   \n2                                NaN   \n3  10.1016/j.compmedimag.2015.04.002   \n4                                NaN   \n\n                                        journal_name language  \\\n0                                    Medical physics      eng   \n1                   Journal of pathology informatics      eng   \n2     Journal of medical imaging (Bellingham, Wash.)      eng   \n3  Computerized medical imaging and graphics : th...      eng   \n4                                           PloS one      eng   \n\n                                         last_author last_author_country  \\\n0                                                NaN              Jersey   \n1  {'affiliation': 'Department of Biomedical Engi...       United States   \n2  {'affiliation': 'Case Western Reserve Universi...       United States   \n3  {'affiliation': 'Department of Biomedical Engi...       United States   \n4  {'affiliation': 'Department of Biomedical Engi...       United States   \n\n  last_author_email  last_author_id  \\\n0               NaN       2517051.0   \n1               NaN             NaN   \n2               NaN             NaN   \n3               NaN       1576937.0   \n4               NaN       1576937.0   \n\n                              last_author_inst  \\\n0                                          NaN   \n1  Rutgers, The State University of New Jersey   \n2              Case Western Reserve University   \n3              Case Western Reserve University   \n4              Case Western Reserve University   \n\n                                                mesh  \\\n0  ['Humans', 'Linear Models', 'Male', 'Pilot Pro...   \n1                                                NaN   \n2                                                NaN   \n3  ['Coloring Agents', 'Female', 'Humans', 'Model...   \n4  ['Algorithms', 'Datasets as Topic', 'Female', ...   \n\n                                          mesh_major  pub_year  \\\n0  ['Algorithms', 'Cluster Analysis', 'Diagnosis,...    2009.0   \n1                                                NaN    2015.0   \n2                                                NaN    2015.0   \n3  ['Algorithms', 'Breast/pathology', 'Color', 'I...    2015.0   \n4  ['Breast Neoplasms/diagnosis', 'Diagnosis, Com...    2015.0   \n\n                                               title  \n0  A hierarchical spectral clustering and nonline...  \n1  Content-based image retrieval of digitized his...  \n2  Association of computerized texture features o...  \n3  Sparse Non-negative Matrix Factorization (SNMF...  \n4  Predicting classifier performance with limited...  ",
      "text/html": "<div>\n<style scoped>\n    .dataframe tbody tr th:only-of-type {\n        vertical-align: middle;\n    }\n\n    .dataframe tbody tr th {\n        vertical-align: top;\n    }\n\n    .dataframe thead th {\n        text-align: right;\n    }\n</style>\n<table border=\"1\" class=\"dataframe\">\n  <thead>\n    <tr style=\"text-align: right;\">\n      <th></th>\n      <th>Unnamed: 0</th>\n      <th>Unnamed: 0.1</th>\n      <th>pmid</th>\n      <th>PI_IDS</th>\n      <th>last_author_name</th>\n      <th>authors</th>\n      <th>doi</th>\n      <th>journal_name</th>\n      <th>language</th>\n      <th>last_author</th>\n      <th>last_author_country</th>\n      <th>last_author_email</th>\n      <th>last_author_id</th>\n      <th>last_author_inst</th>\n      <th>mesh</th>\n      <th>mesh_major</th>\n      <th>pub_year</th>\n      <th>title</th>\n    </tr>\n  </thead>\n  <tbody>\n    <tr>\n      <td>0</td>\n      <td>0</td>\n      <td>0</td>\n      <td>19810465</td>\n      <td>8352708</td>\n      <td>Madabhushi, A</td>\n      <td>None</td>\n      <td>NaN</td>\n      <td>Medical physics</td>\n      <td>eng</td>\n      <td>NaN</td>\n      <td>Jersey</td>\n      <td>NaN</td>\n      <td>2517051.0</td>\n      <td>NaN</td>\n      <td>['Humans', 'Linear Models', 'Male', 'Pilot Pro...</td>\n      <td>['Algorithms', 'Cluster Analysis', 'Diagnosis,...</td>\n      <td>2009.0</td>\n      <td>A hierarchical spectral clustering and nonline...</td>\n    </tr>\n    <tr>\n      <td>1</td>\n      <td>1</td>\n      <td>1</td>\n      <td>26167385</td>\n      <td>8352708</td>\n      <td>Madabhushi, A</td>\n      <td>None</td>\n      <td>NaN</td>\n      <td>Journal of pathology informatics</td>\n      <td>eng</td>\n      <td>{'affiliation': 'Department of Biomedical Engi...</td>\n      <td>United States</td>\n      <td>NaN</td>\n      <td>NaN</td>\n      <td>Rutgers, The State University of New Jersey</td>\n      <td>NaN</td>\n      <td>NaN</td>\n      <td>2015.0</td>\n      <td>Content-based image retrieval of digitized his...</td>\n    </tr>\n    <tr>\n      <td>2</td>\n      <td>2</td>\n      <td>2</td>\n      <td>26870745</td>\n      <td>8352708</td>\n      <td>Madabhushi, A</td>\n      <td>None</td>\n      <td>NaN</td>\n      <td>Journal of medical imaging (Bellingham, Wash.)</td>\n      <td>eng</td>\n      <td>{'affiliation': 'Case Western Reserve Universi...</td>\n      <td>United States</td>\n      <td>NaN</td>\n      <td>NaN</td>\n      <td>Case Western Reserve University</td>\n      <td>NaN</td>\n      <td>NaN</td>\n      <td>2015.0</td>\n      <td>Association of computerized texture features o...</td>\n    </tr>\n    <tr>\n      <td>3</td>\n      <td>3</td>\n      <td>3</td>\n      <td>25958195</td>\n      <td>8352708</td>\n      <td>Madabhushi, A</td>\n      <td>None</td>\n      <td>10.1016/j.compmedimag.2015.04.002</td>\n      <td>Computerized medical imaging and graphics : th...</td>\n      <td>eng</td>\n      <td>{'affiliation': 'Department of Biomedical Engi...</td>\n      <td>United States</td>\n      <td>NaN</td>\n      <td>1576937.0</td>\n      <td>Case Western Reserve University</td>\n      <td>['Coloring Agents', 'Female', 'Humans', 'Model...</td>\n      <td>['Algorithms', 'Breast/pathology', 'Color', 'I...</td>\n      <td>2015.0</td>\n      <td>Sparse Non-negative Matrix Factorization (SNMF...</td>\n    </tr>\n    <tr>\n      <td>4</td>\n      <td>4</td>\n      <td>4</td>\n      <td>25993029</td>\n      <td>8352708</td>\n      <td>Madabhushi, A</td>\n      <td>None</td>\n      <td>NaN</td>\n      <td>PloS one</td>\n      <td>eng</td>\n      <td>{'affiliation': 'Department of Biomedical Engi...</td>\n      <td>United States</td>\n      <td>NaN</td>\n      <td>1576937.0</td>\n      <td>Case Western Reserve University</td>\n      <td>['Algorithms', 'Datasets as Topic', 'Female', ...</td>\n      <td>['Breast Neoplasms/diagnosis', 'Diagnosis, Com...</td>\n      <td>2015.0</td>\n      <td>Predicting classifier performance with limited...</td>\n    </tr>\n  </tbody>\n</table>\n</div>"
     },
     "metadata": {},
     "execution_count": 6
    }
   ],
   "source": [
    "df=ps.get_dataset()\n",
    "df.head()"
   ]
  },
  {
   "cell_type": "code",
   "execution_count": 6,
   "metadata": {},
   "outputs": [],
   "source": [
    "df=get_res_papers(ps,'Szeszko, PR')"
   ]
  },
  {
   "cell_type": "code",
   "execution_count": 7,
   "metadata": {},
   "outputs": [
    {
     "output_type": "execute_result",
     "data": {
      "text/plain": "Empty DataFrame\nColumns: [Unnamed: 0, Unnamed: 0.1, pmid, PI_IDS, last_author_name, authors, doi, journal_name, language, last_author, last_author_country, last_author_email, last_author_id, last_author_inst, mesh, mesh_major, pub_year, title]\nIndex: []",
      "text/html": "<div>\n<style scoped>\n    .dataframe tbody tr th:only-of-type {\n        vertical-align: middle;\n    }\n\n    .dataframe tbody tr th {\n        vertical-align: top;\n    }\n\n    .dataframe thead th {\n        text-align: right;\n    }\n</style>\n<table border=\"1\" class=\"dataframe\">\n  <thead>\n    <tr style=\"text-align: right;\">\n      <th></th>\n      <th>Unnamed: 0</th>\n      <th>Unnamed: 0.1</th>\n      <th>pmid</th>\n      <th>PI_IDS</th>\n      <th>last_author_name</th>\n      <th>authors</th>\n      <th>doi</th>\n      <th>journal_name</th>\n      <th>language</th>\n      <th>last_author</th>\n      <th>last_author_country</th>\n      <th>last_author_email</th>\n      <th>last_author_id</th>\n      <th>last_author_inst</th>\n      <th>mesh</th>\n      <th>mesh_major</th>\n      <th>pub_year</th>\n      <th>title</th>\n    </tr>\n  </thead>\n  <tbody>\n  </tbody>\n</table>\n</div>"
     },
     "metadata": {},
     "execution_count": 7
    }
   ],
   "source": [
    "df.head()"
   ]
  },
  {
   "cell_type": "code",
   "execution_count": 8,
   "metadata": {},
   "outputs": [],
   "source": [
    "def get_clusters(ps,author):\n",
    "    author_df = get_res_papers(ps,author)\n",
    "    paper_clusterer=PaperClusterer(eps=1.27)\n",
    "    res_clusters, cluster_dfs=paper_clusterer.cluster_res(author_df)\n",
    "    return cluster_dfs[0].sort_values([\"cluster\"])"
   ]
  },
  {
   "cell_type": "code",
   "execution_count": 9,
   "metadata": {},
   "outputs": [],
   "source": [
    "def get_out_path(row):\n",
    "    cur_name=row[\"last_author_name\"]\n",
    "    fields=cur_name.split(\", \")\n",
    "    return \"/home/ubuntu/data/{}_{}.csv\".format(fields[0], fields[1])"
   ]
  },
  {
   "cell_type": "code",
   "execution_count": 10,
   "metadata": {},
   "outputs": [],
   "source": [
    "# def get_file_name(author_name):\n",
    "#     author_name=author_name.replace(',',' ')\n",
    "#     author_rebuilt='_'.join(author_name.split(' '))\n",
    "#     return ''.join([\"/home/ubuntu/data/\", author_rebuilt, \".csv\"])\n",
    "# #%%\n",
    "def main(author_list):\n",
    "    print(author_list)\n",
    "    \n",
    "    for author in author_list:\n",
    "        print(author)\n",
    "        cluster_df=get_clusters(ps,author)\n",
    "        # out_path=get_out_path(row)\n",
    "        # cluster_df.to_csv(out_path, index=False, columns=[\"pmid\", \"cluster\", \"last_author_inst\", \"last_author_forename\",\"pub_year\",\"last_author_name\"])\n",
    "        \n",
    "#         #pmid_df=pd.read_csv(list_path, dtype=str, usecols=[\"PMID\"]).rename(columns={\"PMID\":\"Highlight\"})\n",
    "#         #print(pmid_df.info())\n",
    "#         #limit=min(limit, len(pmid_df))\n",
    "#         #pmid_list=pmid_df.Highlight.tolist()[offset:offset+limit]\n",
    "#         pmid_list=pmid_df.pmid.tolist()[:2]\n",
    "#         paper_clusterer=PaperClusterer(eps=1.27)\n",
    "#         res_clusters, cluster_dfs=paper_clusterer.infer_paper_author_data(pmid_list)\n",
    "    \n",
    "#     #res_clusters, cluster_dfs=paper_clusterer.infer_paper_author_data(pmid_list).sort_values([\"rownum\"])\n",
    "#         return res_clusters, cluster_dfs\n",
    "    #out_path=\"/home/ubuntu/data/rp_40000_authors.tsv\"\n",
    "    #out_path=\"/home/ubuntu/data/test_forenames_res.tsv\"\n",
    "\n",
    "    #res_clusters.to_csv(out_path, index=False, sep='\\t')\n",
    ""
   ]
  },
  {
   "cell_type": "code",
   "execution_count": 11,
   "metadata": {},
   "outputs": [
    {
     "output_type": "stream",
     "name": "stdout",
     "text": "['Madabhushi, A', 'Szeszko, PR']\nMadabhushi, A\n"
    },
    {
     "output_type": "error",
     "ename": "TypeError",
     "evalue": "('string indices must be integers', 'occurred at index 0')",
     "traceback": [
      "\u001b[0;31m---------------------------------------------------------------------------\u001b[0m",
      "\u001b[0;31mTypeError\u001b[0m                                 Traceback (most recent call last)",
      "\u001b[0;32m<ipython-input-11-dbc39bb0efb6>\u001b[0m in \u001b[0;36m<module>\u001b[0;34m\u001b[0m\n\u001b[1;32m      1\u001b[0m \u001b[0mauthor_list\u001b[0m\u001b[0;34m=\u001b[0m\u001b[0;34m[\u001b[0m\u001b[0;34m'Madabhushi, A'\u001b[0m\u001b[0;34m,\u001b[0m\u001b[0;34m'Szeszko, PR'\u001b[0m\u001b[0;34m]\u001b[0m\u001b[0;34m\u001b[0m\u001b[0;34m\u001b[0m\u001b[0m\n\u001b[0;32m----> 2\u001b[0;31m \u001b[0mmain\u001b[0m\u001b[0;34m(\u001b[0m\u001b[0mauthor_list\u001b[0m\u001b[0;34m)\u001b[0m\u001b[0;34m\u001b[0m\u001b[0;34m\u001b[0m\u001b[0m\n\u001b[0m",
      "\u001b[0;32m<ipython-input-10-2e15b20703c4>\u001b[0m in \u001b[0;36mmain\u001b[0;34m(author_list)\u001b[0m\n\u001b[1;32m      9\u001b[0m     \u001b[0;32mfor\u001b[0m \u001b[0mauthor\u001b[0m \u001b[0;32min\u001b[0m \u001b[0mauthor_list\u001b[0m\u001b[0;34m:\u001b[0m\u001b[0;34m\u001b[0m\u001b[0;34m\u001b[0m\u001b[0m\n\u001b[1;32m     10\u001b[0m         \u001b[0mprint\u001b[0m\u001b[0;34m(\u001b[0m\u001b[0mauthor\u001b[0m\u001b[0;34m)\u001b[0m\u001b[0;34m\u001b[0m\u001b[0;34m\u001b[0m\u001b[0m\n\u001b[0;32m---> 11\u001b[0;31m         \u001b[0mcluster_df\u001b[0m\u001b[0;34m=\u001b[0m\u001b[0mget_clusters\u001b[0m\u001b[0;34m(\u001b[0m\u001b[0mps\u001b[0m\u001b[0;34m,\u001b[0m\u001b[0mauthor\u001b[0m\u001b[0;34m)\u001b[0m\u001b[0;34m\u001b[0m\u001b[0;34m\u001b[0m\u001b[0m\n\u001b[0m\u001b[1;32m     12\u001b[0m         \u001b[0;31m# out_path=get_out_path(row)\u001b[0m\u001b[0;34m\u001b[0m\u001b[0;34m\u001b[0m\u001b[0;34m\u001b[0m\u001b[0m\n\u001b[1;32m     13\u001b[0m         \u001b[0;31m# cluster_df.to_csv(out_path, index=False, columns=[\"pmid\", \"cluster\", \"last_author_inst\", \"last_author_forename\",\"pub_year\",\"last_author_name\"])\u001b[0m\u001b[0;34m\u001b[0m\u001b[0;34m\u001b[0m\u001b[0;34m\u001b[0m\u001b[0m\n",
      "\u001b[0;32m<ipython-input-8-27608ac298b3>\u001b[0m in \u001b[0;36mget_clusters\u001b[0;34m(ps, author)\u001b[0m\n\u001b[1;32m      2\u001b[0m     \u001b[0mauthor_df\u001b[0m \u001b[0;34m=\u001b[0m \u001b[0mget_res_papers\u001b[0m\u001b[0;34m(\u001b[0m\u001b[0mps\u001b[0m\u001b[0;34m,\u001b[0m\u001b[0mauthor\u001b[0m\u001b[0;34m)\u001b[0m\u001b[0;34m\u001b[0m\u001b[0;34m\u001b[0m\u001b[0m\n\u001b[1;32m      3\u001b[0m     \u001b[0mpaper_clusterer\u001b[0m\u001b[0;34m=\u001b[0m\u001b[0mPaperClusterer\u001b[0m\u001b[0;34m(\u001b[0m\u001b[0meps\u001b[0m\u001b[0;34m=\u001b[0m\u001b[0;36m1.27\u001b[0m\u001b[0;34m)\u001b[0m\u001b[0;34m\u001b[0m\u001b[0;34m\u001b[0m\u001b[0m\n\u001b[0;32m----> 4\u001b[0;31m     \u001b[0mres_clusters\u001b[0m\u001b[0;34m,\u001b[0m \u001b[0mcluster_dfs\u001b[0m\u001b[0;34m=\u001b[0m\u001b[0mpaper_clusterer\u001b[0m\u001b[0;34m.\u001b[0m\u001b[0mcluster_res\u001b[0m\u001b[0;34m(\u001b[0m\u001b[0mauthor_df\u001b[0m\u001b[0;34m)\u001b[0m\u001b[0;34m\u001b[0m\u001b[0;34m\u001b[0m\u001b[0m\n\u001b[0m\u001b[1;32m      5\u001b[0m     \u001b[0;32mreturn\u001b[0m \u001b[0mcluster_dfs\u001b[0m\u001b[0;34m[\u001b[0m\u001b[0;36m0\u001b[0m\u001b[0;34m]\u001b[0m\u001b[0;34m.\u001b[0m\u001b[0msort_values\u001b[0m\u001b[0;34m(\u001b[0m\u001b[0;34m[\u001b[0m\u001b[0;34m\"cluster\"\u001b[0m\u001b[0;34m]\u001b[0m\u001b[0;34m)\u001b[0m\u001b[0;34m\u001b[0m\u001b[0;34m\u001b[0m\u001b[0m\n",
      "\u001b[0;32m~/Desktop/ydata/industry_project/repo/academix-ydata-project/code/yuval_module/paper_clusterer.py\u001b[0m in \u001b[0;36mcluster_res\u001b[0;34m(self, author_df)\u001b[0m\n\u001b[1;32m     30\u001b[0m     \u001b[0;32mdef\u001b[0m \u001b[0mcluster_res\u001b[0m\u001b[0;34m(\u001b[0m\u001b[0mself\u001b[0m\u001b[0;34m,\u001b[0m \u001b[0mauthor_df\u001b[0m\u001b[0;34m)\u001b[0m\u001b[0;34m:\u001b[0m\u001b[0;34m\u001b[0m\u001b[0;34m\u001b[0m\u001b[0m\n\u001b[1;32m     31\u001b[0m             \u001b[0mstart_time\u001b[0m\u001b[0;34m=\u001b[0m\u001b[0mtime\u001b[0m\u001b[0;34m(\u001b[0m\u001b[0;34m)\u001b[0m\u001b[0;34m\u001b[0m\u001b[0;34m\u001b[0m\u001b[0m\n\u001b[0;32m---> 32\u001b[0;31m             \u001b[0mrows_and_cluster_dfs_lst\u001b[0m\u001b[0;34m=\u001b[0m\u001b[0mself\u001b[0m\u001b[0;34m.\u001b[0m\u001b[0mget_dist_matrix\u001b[0m\u001b[0;34m(\u001b[0m\u001b[0mauthor_df\u001b[0m\u001b[0;34m)\u001b[0m\u001b[0;34m\u001b[0m\u001b[0;34m\u001b[0m\u001b[0m\n\u001b[0m\u001b[1;32m     33\u001b[0m             \u001b[0mres_df\u001b[0m\u001b[0;34m=\u001b[0m\u001b[0;34m[\u001b[0m\u001b[0mr\u001b[0m\u001b[0;34m[\u001b[0m\u001b[0;36m0\u001b[0m\u001b[0;34m]\u001b[0m \u001b[0;32mfor\u001b[0m \u001b[0mr\u001b[0m \u001b[0;32min\u001b[0m \u001b[0mrows_and_cluster_dfs_lst\u001b[0m\u001b[0;34m]\u001b[0m\u001b[0;34m\u001b[0m\u001b[0;34m\u001b[0m\u001b[0m\n\u001b[1;32m     34\u001b[0m             \u001b[0;31m#cluster_out_path=\"/home/ubuntu/data/cluster_res.tsv\"\u001b[0m\u001b[0;34m\u001b[0m\u001b[0;34m\u001b[0m\u001b[0;34m\u001b[0m\u001b[0m\n",
      "\u001b[0;32m~/Desktop/ydata/industry_project/repo/academix-ydata-project/code/yuval_module/paper_clusterer.py\u001b[0m in \u001b[0;36mget_dist_matrix\u001b[0;34m(self, author_papers_df)\u001b[0m\n\u001b[1;32m    143\u001b[0m                     \u001b[0mprint\u001b[0m\u001b[0;34m(\u001b[0m\u001b[0;34m\"empty author_papers_df\"\u001b[0m\u001b[0;34m)\u001b[0m\u001b[0;34m\u001b[0m\u001b[0;34m\u001b[0m\u001b[0m\n\u001b[1;32m    144\u001b[0m                     \u001b[0;32mreturn\u001b[0m \u001b[0mpd\u001b[0m\u001b[0;34m.\u001b[0m\u001b[0mDataFrame\u001b[0m\u001b[0;34m(\u001b[0m\u001b[0;34m)\u001b[0m\u001b[0;34m\u001b[0m\u001b[0;34m\u001b[0m\u001b[0m\n\u001b[0;32m--> 145\u001b[0;31m             \u001b[0mauthor_papers_df\u001b[0m\u001b[0;34m=\u001b[0m\u001b[0mself\u001b[0m\u001b[0;34m.\u001b[0m\u001b[0mpaper_source\u001b[0m\u001b[0;34m.\u001b[0m\u001b[0madd_processed_fields\u001b[0m\u001b[0;34m(\u001b[0m\u001b[0mauthor_papers_df\u001b[0m\u001b[0;34m)\u001b[0m\u001b[0;34m\u001b[0m\u001b[0;34m\u001b[0m\u001b[0m\n\u001b[0m\u001b[1;32m    146\u001b[0m             \u001b[0mprint\u001b[0m\u001b[0;34m(\u001b[0m\u001b[0;34m\"author_papers_df affiliation:\"\u001b[0m\u001b[0;34m)\u001b[0m\u001b[0;34m\u001b[0m\u001b[0;34m\u001b[0m\u001b[0m\n\u001b[1;32m    147\u001b[0m             \u001b[0mprint\u001b[0m\u001b[0;34m(\u001b[0m\u001b[0mauthor_papers_df\u001b[0m\u001b[0;34m[\u001b[0m\u001b[0;34m[\u001b[0m\u001b[0;34m\"pmid\"\u001b[0m\u001b[0;34m,\u001b[0m\u001b[0;34m\"last_author_name\"\u001b[0m\u001b[0;34m,\u001b[0m\u001b[0;34m\"last_author_inst\"\u001b[0m\u001b[0;34m,\u001b[0m \u001b[0;34m\"last_author_affiliation\"\u001b[0m\u001b[0;34m]\u001b[0m\u001b[0;34m]\u001b[0m\u001b[0;34m)\u001b[0m\u001b[0;34m\u001b[0m\u001b[0;34m\u001b[0m\u001b[0m\n",
      "\u001b[0;32m~/Desktop/ydata/industry_project/repo/academix-ydata-project/code/yuval_module/paper_source.py\u001b[0m in \u001b[0;36madd_processed_fields\u001b[0;34m(self, res_df)\u001b[0m\n\u001b[1;32m     42\u001b[0m             \u001b[0mres_df\u001b[0m\u001b[0;34m.\u001b[0m\u001b[0mloc\u001b[0m\u001b[0;34m[\u001b[0m\u001b[0;34m:\u001b[0m\u001b[0;34m,\u001b[0m \u001b[0;34m\"mesh_clean\"\u001b[0m\u001b[0;34m]\u001b[0m\u001b[0;34m=\u001b[0m\u001b[0mres_df\u001b[0m\u001b[0;34m.\u001b[0m\u001b[0mapply\u001b[0m\u001b[0;34m(\u001b[0m\u001b[0mget_mesh_clean\u001b[0m\u001b[0;34m,\u001b[0m \u001b[0maxis\u001b[0m\u001b[0;34m=\u001b[0m\u001b[0;36m1\u001b[0m\u001b[0;34m)\u001b[0m\u001b[0;34m\u001b[0m\u001b[0;34m\u001b[0m\u001b[0m\n\u001b[1;32m     43\u001b[0m             \u001b[0;31m#res_df.loc[:, \"num_mesh\"]=res_df[\"mesh_clean\"].apply(lambda l:len(l))\u001b[0m\u001b[0;34m\u001b[0m\u001b[0;34m\u001b[0m\u001b[0;34m\u001b[0m\u001b[0m\n\u001b[0;32m---> 44\u001b[0;31m             \u001b[0mres_df\u001b[0m\u001b[0;34m.\u001b[0m\u001b[0mloc\u001b[0m\u001b[0;34m[\u001b[0m\u001b[0;34m:\u001b[0m\u001b[0;34m,\u001b[0m \u001b[0;34m\"other_authors\"\u001b[0m\u001b[0;34m]\u001b[0m\u001b[0;34m=\u001b[0m\u001b[0mres_df\u001b[0m\u001b[0;34m.\u001b[0m\u001b[0mapply\u001b[0m\u001b[0;34m(\u001b[0m\u001b[0mget_other_authors\u001b[0m\u001b[0;34m,\u001b[0m \u001b[0maxis\u001b[0m\u001b[0;34m=\u001b[0m\u001b[0;36m1\u001b[0m\u001b[0;34m)\u001b[0m\u001b[0;34m\u001b[0m\u001b[0;34m\u001b[0m\u001b[0m\n\u001b[0m\u001b[1;32m     45\u001b[0m             \u001b[0;31m#res_df.loc[:, \"num_coauthors\"]=res_df[\"other_authors\"].apply(lambda l:len(l))\u001b[0m\u001b[0;34m\u001b[0m\u001b[0;34m\u001b[0m\u001b[0;34m\u001b[0m\u001b[0m\n\u001b[1;32m     46\u001b[0m             \u001b[0mres_df\u001b[0m\u001b[0;34m.\u001b[0m\u001b[0mloc\u001b[0m\u001b[0;34m[\u001b[0m\u001b[0;34m:\u001b[0m\u001b[0;34m,\u001b[0m \u001b[0;34m\"inst_clean\"\u001b[0m\u001b[0;34m]\u001b[0m\u001b[0;34m=\u001b[0m\u001b[0mres_df\u001b[0m\u001b[0;34m.\u001b[0m\u001b[0mapply\u001b[0m\u001b[0;34m(\u001b[0m\u001b[0msimplify_inst\u001b[0m\u001b[0;34m,\u001b[0m \u001b[0maxis\u001b[0m\u001b[0;34m=\u001b[0m\u001b[0;36m1\u001b[0m\u001b[0;34m)\u001b[0m\u001b[0;34m\u001b[0m\u001b[0;34m\u001b[0m\u001b[0m\n",
      "\u001b[0;32m~/anaconda3/envs/nlp/lib/python3.6/site-packages/pandas/core/frame.py\u001b[0m in \u001b[0;36mapply\u001b[0;34m(self, func, axis, broadcast, raw, reduce, result_type, args, **kwds)\u001b[0m\n\u001b[1;32m   6911\u001b[0m             \u001b[0mkwds\u001b[0m\u001b[0;34m=\u001b[0m\u001b[0mkwds\u001b[0m\u001b[0;34m,\u001b[0m\u001b[0;34m\u001b[0m\u001b[0;34m\u001b[0m\u001b[0m\n\u001b[1;32m   6912\u001b[0m         )\n\u001b[0;32m-> 6913\u001b[0;31m         \u001b[0;32mreturn\u001b[0m \u001b[0mop\u001b[0m\u001b[0;34m.\u001b[0m\u001b[0mget_result\u001b[0m\u001b[0;34m(\u001b[0m\u001b[0;34m)\u001b[0m\u001b[0;34m\u001b[0m\u001b[0;34m\u001b[0m\u001b[0m\n\u001b[0m\u001b[1;32m   6914\u001b[0m \u001b[0;34m\u001b[0m\u001b[0m\n\u001b[1;32m   6915\u001b[0m     \u001b[0;32mdef\u001b[0m \u001b[0mapplymap\u001b[0m\u001b[0;34m(\u001b[0m\u001b[0mself\u001b[0m\u001b[0;34m,\u001b[0m \u001b[0mfunc\u001b[0m\u001b[0;34m)\u001b[0m\u001b[0;34m:\u001b[0m\u001b[0;34m\u001b[0m\u001b[0;34m\u001b[0m\u001b[0m\n",
      "\u001b[0;32m~/anaconda3/envs/nlp/lib/python3.6/site-packages/pandas/core/apply.py\u001b[0m in \u001b[0;36mget_result\u001b[0;34m(self)\u001b[0m\n\u001b[1;32m    184\u001b[0m             \u001b[0;32mreturn\u001b[0m \u001b[0mself\u001b[0m\u001b[0;34m.\u001b[0m\u001b[0mapply_raw\u001b[0m\u001b[0;34m(\u001b[0m\u001b[0;34m)\u001b[0m\u001b[0;34m\u001b[0m\u001b[0;34m\u001b[0m\u001b[0m\n\u001b[1;32m    185\u001b[0m \u001b[0;34m\u001b[0m\u001b[0m\n\u001b[0;32m--> 186\u001b[0;31m         \u001b[0;32mreturn\u001b[0m \u001b[0mself\u001b[0m\u001b[0;34m.\u001b[0m\u001b[0mapply_standard\u001b[0m\u001b[0;34m(\u001b[0m\u001b[0;34m)\u001b[0m\u001b[0;34m\u001b[0m\u001b[0;34m\u001b[0m\u001b[0m\n\u001b[0m\u001b[1;32m    187\u001b[0m \u001b[0;34m\u001b[0m\u001b[0m\n\u001b[1;32m    188\u001b[0m     \u001b[0;32mdef\u001b[0m \u001b[0mapply_empty_result\u001b[0m\u001b[0;34m(\u001b[0m\u001b[0mself\u001b[0m\u001b[0;34m)\u001b[0m\u001b[0;34m:\u001b[0m\u001b[0;34m\u001b[0m\u001b[0;34m\u001b[0m\u001b[0m\n",
      "\u001b[0;32m~/anaconda3/envs/nlp/lib/python3.6/site-packages/pandas/core/apply.py\u001b[0m in \u001b[0;36mapply_standard\u001b[0;34m(self)\u001b[0m\n\u001b[1;32m    290\u001b[0m \u001b[0;34m\u001b[0m\u001b[0m\n\u001b[1;32m    291\u001b[0m         \u001b[0;31m# compute the result using the series generator\u001b[0m\u001b[0;34m\u001b[0m\u001b[0;34m\u001b[0m\u001b[0;34m\u001b[0m\u001b[0m\n\u001b[0;32m--> 292\u001b[0;31m         \u001b[0mself\u001b[0m\u001b[0;34m.\u001b[0m\u001b[0mapply_series_generator\u001b[0m\u001b[0;34m(\u001b[0m\u001b[0;34m)\u001b[0m\u001b[0;34m\u001b[0m\u001b[0;34m\u001b[0m\u001b[0m\n\u001b[0m\u001b[1;32m    293\u001b[0m \u001b[0;34m\u001b[0m\u001b[0m\n\u001b[1;32m    294\u001b[0m         \u001b[0;31m# wrap results\u001b[0m\u001b[0;34m\u001b[0m\u001b[0;34m\u001b[0m\u001b[0;34m\u001b[0m\u001b[0m\n",
      "\u001b[0;32m~/anaconda3/envs/nlp/lib/python3.6/site-packages/pandas/core/apply.py\u001b[0m in \u001b[0;36mapply_series_generator\u001b[0;34m(self)\u001b[0m\n\u001b[1;32m    319\u001b[0m             \u001b[0;32mtry\u001b[0m\u001b[0;34m:\u001b[0m\u001b[0;34m\u001b[0m\u001b[0;34m\u001b[0m\u001b[0m\n\u001b[1;32m    320\u001b[0m                 \u001b[0;32mfor\u001b[0m \u001b[0mi\u001b[0m\u001b[0;34m,\u001b[0m \u001b[0mv\u001b[0m \u001b[0;32min\u001b[0m \u001b[0menumerate\u001b[0m\u001b[0;34m(\u001b[0m\u001b[0mseries_gen\u001b[0m\u001b[0;34m)\u001b[0m\u001b[0;34m:\u001b[0m\u001b[0;34m\u001b[0m\u001b[0;34m\u001b[0m\u001b[0m\n\u001b[0;32m--> 321\u001b[0;31m                     \u001b[0mresults\u001b[0m\u001b[0;34m[\u001b[0m\u001b[0mi\u001b[0m\u001b[0;34m]\u001b[0m \u001b[0;34m=\u001b[0m \u001b[0mself\u001b[0m\u001b[0;34m.\u001b[0m\u001b[0mf\u001b[0m\u001b[0;34m(\u001b[0m\u001b[0mv\u001b[0m\u001b[0;34m)\u001b[0m\u001b[0;34m\u001b[0m\u001b[0;34m\u001b[0m\u001b[0m\n\u001b[0m\u001b[1;32m    322\u001b[0m                     \u001b[0mkeys\u001b[0m\u001b[0;34m.\u001b[0m\u001b[0mappend\u001b[0m\u001b[0;34m(\u001b[0m\u001b[0mv\u001b[0m\u001b[0;34m.\u001b[0m\u001b[0mname\u001b[0m\u001b[0;34m)\u001b[0m\u001b[0;34m\u001b[0m\u001b[0;34m\u001b[0m\u001b[0m\n\u001b[1;32m    323\u001b[0m             \u001b[0;32mexcept\u001b[0m \u001b[0mException\u001b[0m \u001b[0;32mas\u001b[0m \u001b[0me\u001b[0m\u001b[0;34m:\u001b[0m\u001b[0;34m\u001b[0m\u001b[0;34m\u001b[0m\u001b[0m\n",
      "\u001b[0;32m~/Desktop/ydata/industry_project/repo/academix-ydata-project/code/yuval_module/paper_source.py\u001b[0m in \u001b[0;36mget_other_authors\u001b[0;34m(row)\u001b[0m\n\u001b[1;32m     64\u001b[0m     \u001b[0;31m#print(\"in get_other_authors, pmid={}\".format(row[\"pmid\"]))\u001b[0m\u001b[0;34m\u001b[0m\u001b[0;34m\u001b[0m\u001b[0;34m\u001b[0m\u001b[0m\n\u001b[1;32m     65\u001b[0m     \u001b[0;31m#print(row[\"authors\"])\u001b[0m\u001b[0;34m\u001b[0m\u001b[0;34m\u001b[0m\u001b[0;34m\u001b[0m\u001b[0m\n\u001b[0;32m---> 66\u001b[0;31m     \u001b[0mauthor_name_set\u001b[0m\u001b[0;34m=\u001b[0m\u001b[0mset\u001b[0m\u001b[0;34m(\u001b[0m\u001b[0;34m[\u001b[0m\u001b[0mauthor\u001b[0m\u001b[0;34m[\u001b[0m\u001b[0;34m\"name\"\u001b[0m\u001b[0;34m]\u001b[0m \u001b[0;32mfor\u001b[0m \u001b[0mauthor\u001b[0m \u001b[0;32min\u001b[0m \u001b[0mrow\u001b[0m\u001b[0;34m[\u001b[0m\u001b[0;34m\"authors\"\u001b[0m\u001b[0;34m]\u001b[0m\u001b[0;34m]\u001b[0m\u001b[0;34m)\u001b[0m\u001b[0;34m\u001b[0m\u001b[0;34m\u001b[0m\u001b[0m\n\u001b[0m\u001b[1;32m     67\u001b[0m     \u001b[0;31m#print(row[\"last_author_name\"])\u001b[0m\u001b[0;34m\u001b[0m\u001b[0;34m\u001b[0m\u001b[0;34m\u001b[0m\u001b[0m\n\u001b[1;32m     68\u001b[0m     \u001b[0mauthor_name_set\u001b[0m\u001b[0;34m.\u001b[0m\u001b[0mdiscard\u001b[0m\u001b[0;34m(\u001b[0m\u001b[0mrow\u001b[0m\u001b[0;34m[\u001b[0m\u001b[0;34m\"last_author_name\"\u001b[0m\u001b[0;34m]\u001b[0m\u001b[0;34m)\u001b[0m\u001b[0;34m\u001b[0m\u001b[0;34m\u001b[0m\u001b[0m\n",
      "\u001b[0;32m~/Desktop/ydata/industry_project/repo/academix-ydata-project/code/yuval_module/paper_source.py\u001b[0m in \u001b[0;36m<listcomp>\u001b[0;34m(.0)\u001b[0m\n\u001b[1;32m     64\u001b[0m     \u001b[0;31m#print(\"in get_other_authors, pmid={}\".format(row[\"pmid\"]))\u001b[0m\u001b[0;34m\u001b[0m\u001b[0;34m\u001b[0m\u001b[0;34m\u001b[0m\u001b[0m\n\u001b[1;32m     65\u001b[0m     \u001b[0;31m#print(row[\"authors\"])\u001b[0m\u001b[0;34m\u001b[0m\u001b[0;34m\u001b[0m\u001b[0;34m\u001b[0m\u001b[0m\n\u001b[0;32m---> 66\u001b[0;31m     \u001b[0mauthor_name_set\u001b[0m\u001b[0;34m=\u001b[0m\u001b[0mset\u001b[0m\u001b[0;34m(\u001b[0m\u001b[0;34m[\u001b[0m\u001b[0mauthor\u001b[0m\u001b[0;34m[\u001b[0m\u001b[0;34m\"name\"\u001b[0m\u001b[0;34m]\u001b[0m \u001b[0;32mfor\u001b[0m \u001b[0mauthor\u001b[0m \u001b[0;32min\u001b[0m \u001b[0mrow\u001b[0m\u001b[0;34m[\u001b[0m\u001b[0;34m\"authors\"\u001b[0m\u001b[0;34m]\u001b[0m\u001b[0;34m]\u001b[0m\u001b[0;34m)\u001b[0m\u001b[0;34m\u001b[0m\u001b[0;34m\u001b[0m\u001b[0m\n\u001b[0m\u001b[1;32m     67\u001b[0m     \u001b[0;31m#print(row[\"last_author_name\"])\u001b[0m\u001b[0;34m\u001b[0m\u001b[0;34m\u001b[0m\u001b[0;34m\u001b[0m\u001b[0m\n\u001b[1;32m     68\u001b[0m     \u001b[0mauthor_name_set\u001b[0m\u001b[0;34m.\u001b[0m\u001b[0mdiscard\u001b[0m\u001b[0;34m(\u001b[0m\u001b[0mrow\u001b[0m\u001b[0;34m[\u001b[0m\u001b[0;34m\"last_author_name\"\u001b[0m\u001b[0;34m]\u001b[0m\u001b[0;34m)\u001b[0m\u001b[0;34m\u001b[0m\u001b[0;34m\u001b[0m\u001b[0m\n",
      "\u001b[0;31mTypeError\u001b[0m: ('string indices must be integers', 'occurred at index 0')"
     ]
    }
   ],
   "source": [
    "author_list=['Madabhushi, A','Szeszko, PR']\n",
    "main(author_list)"
   ]
  },
  {
   "cell_type": "code",
   "execution_count": 28,
   "metadata": {},
   "outputs": [],
   "source": [
    "with open(\"enriched_labeled_dataset_mini.csv\", encoding=\"utf-8\") as f:\n",
    "    s3func.upload_to_s3(f,'enriched_labeled_dataset_mini.csv')"
   ]
  },
  {
   "cell_type": "code",
   "execution_count": null,
   "metadata": {},
   "outputs": [],
   "source": [
    "print(cluster_dfs[0].cluster.value_counts())"
   ]
  },
  {
   "cell_type": "code",
   "execution_count": null,
   "metadata": {},
   "outputs": [],
   "source": [
    "out_path=\"/home/ubuntu/data/hecht_jr.csv\"\n",
    "#out_path=\"/home/ubuntu/data/gottlieb_pa.csv\"\n",
    "cluster_dfs[0].sort_values([\"cluster\"]).to_csv(out_path, index=False, columns=[\"pmid\", \"cluster\", \"last_author_inst\", \"last_author_forename\",\"pub_year\",\"last_author_name\"])"
   ]
  },
  {
   "cell_type": "code",
   "execution_count": null,
   "metadata": {},
   "outputs": [],
   "source": [
    "# cur_clusters=cluster_dfs[0]\n",
    "# print(cur_clusters.info())\n",
    "# print(cur_clusters.cluster.value_counts())\n",
    "# cur_clusters.to_csv(\"/home/ubuntu/data/friedman_n.csv\", index=False)"
   ]
  },
  {
   "cell_type": "code",
   "execution_count": null,
   "metadata": {},
   "outputs": [],
   "source": [
    "# cur_clusters=cluster_dfs[0][[\"pmid\", \"last_author_id\", \"last_author_inst\", \n",
    "#                              \"last_author_country\", \"last_author_name\",\n",
    "#                              \"last_author_forename\", \"cluster\",\n",
    "#                             \"pub_year\", \"last_author_affiliation\"]].sort_values([\"cluster\"])\n",
    "# print(cur_clusters)"
   ]
  },
  {
   "cell_type": "code",
   "execution_count": null,
   "metadata": {},
   "outputs": [],
   "source": [
    "# cm = 'tab20b'\n",
    "# cur_clusters=cluster_dfs[20][[\"cluster\",\"pmid\",\"last_author_inst\",  \"last_author_forename\",\n",
    "#                              \"mesh_clean\", \"other_authors\", \"last_author_country\", \"last_author_name\"]].reset_index()\n",
    "# cur_clusters.sort_values('cluster').style.background_gradient(cmap=cm, subset=['cluster']).set_caption('Clustering output')"
   ]
  },
  {
   "cell_type": "code",
   "execution_count": null,
   "metadata": {},
   "outputs": [],
   "source": [
    "def forename_delta(n1, n2):\n",
    "        if ' ' in n1:\n",
    "            n1=n1.split()[0]\n",
    "        if ' ' in n2:\n",
    "            n2=n2.split()[0]\n",
    "        if n1==n2:\n",
    "            if len(n1)>1:\n",
    "                return 1.0\n",
    "            else:\n",
    "                return 0.5\n",
    "        elif n1 in n2 or n2 in n1:\n",
    "            return 0.75\n",
    "        else:\n",
    "            return 0.0"
   ]
  },
  {
   "cell_type": "code",
   "execution_count": null,
   "metadata": {},
   "outputs": [],
   "source": [
    "forename_delta(\"Peter A\",\"P A\")"
   ]
  },
  {
   "cell_type": "code",
   "execution_count": null,
   "metadata": {},
   "outputs": [],
   "source": []
  }
 ],
 "metadata": {
  "kernelspec": {
   "display_name": "Python 3.6.8 64-bit ('nlp': conda)",
   "language": "python",
   "name": "python36864bitnlpcondaedb4459334ba4ee28e4936a12647cfbd"
  },
  "language_info": {
   "codemirror_mode": {
    "name": "ipython",
    "version": 3
   },
   "file_extension": ".py",
   "mimetype": "text/x-python",
   "name": "python",
   "nbconvert_exporter": "python",
   "pygments_lexer": "ipython3",
   "version": "3.6.7-final"
  }
 },
 "nbformat": 4,
 "nbformat_minor": 2
}