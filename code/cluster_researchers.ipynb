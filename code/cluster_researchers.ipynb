{
 "cells": [
  {
   "cell_type": "code",
   "execution_count": 1,
   "metadata": {},
   "outputs": [
    {
     "output_type": "execute_result",
     "data": {
      "text/plain": "'\\nNotebook version of the new clustering algorithm\\n'"
     },
     "metadata": {},
     "execution_count": 1
    }
   ],
   "source": [
    "\"\"\"\n",
    "Notebook version of the new clustering algorithm\n",
    "\"\"\""
   ]
  },
  {
   "cell_type": "code",
   "execution_count": 2,
   "metadata": {},
   "outputs": [],
   "source": [
    "from yuval_module.paper_clusterer import PaperClusterer\n",
    "from yuval_module.paper_source import PaperSource\n",
    "import sys\n",
    "import pandas as pd\n",
    "import numpy as np\n",
    "\n",
    "\n",
    "%matplotlib inline"
   ]
  },
  {
   "cell_type": "code",
   "execution_count": 3,
   "metadata": {},
   "outputs": [],
   "source": [
    "def load_dataset(set_name):\n",
    "    ps=PaperSource()\n",
    "    ps.load_dataset(set_name)\n",
    "    return ps"
   ]
  },
  {
   "cell_type": "code",
   "execution_count": 4,
   "metadata": {},
   "outputs": [],
   "source": [
    "def get_res_papers(ps,author_name):\n",
    "    df=ps.get_dataset()\n",
    "    return df[df['last_author_name']==author_name]"
   ]
  },
  {
   "cell_type": "code",
   "execution_count": 5,
   "metadata": {},
   "outputs": [],
   "source": [
    "ps=load_dataset('enriched_labeled')"
   ]
  },
  {
   "cell_type": "code",
   "execution_count": 6,
   "metadata": {},
   "outputs": [],
   "source": [
    "df=get_res_papers(ps,'Szeszko, PR')"
   ]
  },
  {
   "cell_type": "code",
   "execution_count": 7,
   "metadata": {},
   "outputs": [
    {
     "output_type": "execute_result",
     "data": {
      "text/plain": "       Unnamed: 0      pmid   PI_IDS last_author_name                doi  \\\n19516       20662  19145224  1988051      Szeszko, PR                NaN   \n19518       20664  18570200  1988051      Szeszko, PR  10.1002/hbm.20595   \n19525       20671  29744804  1988051      Szeszko, PR                NaN   \n19526       20672  28348381  1988051      Szeszko, PR                NaN   \n19528       20674  25567423  1988051      Szeszko, PR                NaN   \n19531       20677  25765593  1988051      Szeszko, PR                NaN   \n19532       20678  25081550  1988051      Szeszko, PR                NaN   \n19533       20679  25532972  1988051      Szeszko, PR                NaN   \n\n                                            journal_name language  \\\n19516  Neuropsychopharmacology : official publication...      eng   \n19518                                Human brain mapping      eng   \n19525                         Brain imaging and behavior      eng   \n19526                               Molecular psychiatry      eng   \n19528  Neuropsychopharmacology : official publication...      eng   \n19531  Progress in neuro-psychopharmacology & biologi...      eng   \n19532                         Brain structure & function      eng   \n19533                                  Bipolar disorders      eng   \n\n                                             last_author last_author_country  \\\n19516                                                NaN       United States   \n19518                                                NaN       United States   \n19525  {'affiliation': 'James J. Peters VA Medical Ce...       United States   \n19526  {'affiliation': 'James J. Peters VA Medical Ce...       United States   \n19528  {'affiliation': '1] Center for Psychiatric Neu...       United States   \n19531  {'affiliation': 'Feinstein Institute for Medic...       United States   \n19532  {'affiliation': 'Center for Psychiatric Neuros...       United States   \n19533  {'affiliation': 'The Feinstein Institute for M...       United States   \n\n      last_author_email  last_author_id                     last_author_inst  \\\n19516               NaN       1954110.0             Zucker Hillside Hospital   \n19518               NaN       1954110.0             Zucker Hillside Hospital   \n19525               NaN       1654036.0     James J Peters VA Medical Center   \n19526               NaN             NaN     James J Peters VA Medical Center   \n19528               NaN       1954110.0             Zucker Hillside Hospital   \n19531               NaN       1954110.0             Zucker Hillside Hospital   \n19532               NaN       1550922.0  Albert Einstein College of Medicine   \n19533               NaN       1710365.0                     Northwell Health   \n\n      last_author_inst_type  \\\n19516            Healthcare   \n19518            Healthcare   \n19525            Healthcare   \n19526            Healthcare   \n19528            Healthcare   \n19531            Healthcare   \n19532             Education   \n19533            Healthcare   \n\n                                                    mesh  \\\n19516  ['Adult', 'Anisotropy', 'Diffusion Magnetic Re...   \n19518  ['Adult', 'Analysis of Variance', 'Brain Mappi...   \n19525  ['Adult', 'Brief Psychiatric Rating Scale', 'D...   \n19526  ['Adult', 'Antipsychotic Agents/therapeutic us...   \n19528  ['Adolescent', 'Adult', 'Antipsychotic Agents'...   \n19531  ['Adolescent', 'Brain/blood supply', 'Case-Con...   \n19532  ['Adult', 'Diffusion Magnetic Resonance Imagin...   \n19533  ['Adolescent', 'Adult', 'Age Factors', 'Child'...   \n\n                                              mesh_major  pub_year  \\\n19516  ['Bipolar Disorder/pathology', 'Cerebellum/pat...    2009.0   \n19518  ['Schizophrenia/pathology', 'Thalamus/pathology']    2009.0   \n19525  ['Antipsychotic Agents/therapeutic use', 'Fron...    2019.0   \n19526  ['Diffusion Magnetic Resonance Imaging/methods...    2018.0   \n19528           ['Cerebral Cortex/blood supply', 'Rest']    2015.0   \n19531  ['Autistic Disorder/pathology', 'Brain Mapping...    2015.0   \n19532                ['Hippocampus/anatomy & histology']    2015.0   \n19533  ['Bipolar Disorder/diagnosis', 'Corpus Callosu...    2015.0   \n\n                                                   title  \n19516  A voxel-based diffusion tensor imaging study o...  \n19518  Volumetric and shape analysis of the thalamus ...  \n19525  Frontal lobe functioning during a simple respo...  \n19526  Greater extracellular free-water in first-epis...  \n19528  Abnormal resting state FMRI activity predicts ...  \n19531  Neural systems mediating decision-making and r...  \n19532  Delineation of hippocampal subregions using T1...  \n19533  Age-associated alterations in corpus callosum ...  ",
      "text/html": "<div>\n<style scoped>\n    .dataframe tbody tr th:only-of-type {\n        vertical-align: middle;\n    }\n\n    .dataframe tbody tr th {\n        vertical-align: top;\n    }\n\n    .dataframe thead th {\n        text-align: right;\n    }\n</style>\n<table border=\"1\" class=\"dataframe\">\n  <thead>\n    <tr style=\"text-align: right;\">\n      <th></th>\n      <th>Unnamed: 0</th>\n      <th>pmid</th>\n      <th>PI_IDS</th>\n      <th>last_author_name</th>\n      <th>doi</th>\n      <th>journal_name</th>\n      <th>language</th>\n      <th>last_author</th>\n      <th>last_author_country</th>\n      <th>last_author_email</th>\n      <th>last_author_id</th>\n      <th>last_author_inst</th>\n      <th>last_author_inst_type</th>\n      <th>mesh</th>\n      <th>mesh_major</th>\n      <th>pub_year</th>\n      <th>title</th>\n    </tr>\n  </thead>\n  <tbody>\n    <tr>\n      <td>19516</td>\n      <td>20662</td>\n      <td>19145224</td>\n      <td>1988051</td>\n      <td>Szeszko, PR</td>\n      <td>NaN</td>\n      <td>Neuropsychopharmacology : official publication...</td>\n      <td>eng</td>\n      <td>NaN</td>\n      <td>United States</td>\n      <td>NaN</td>\n      <td>1954110.0</td>\n      <td>Zucker Hillside Hospital</td>\n      <td>Healthcare</td>\n      <td>['Adult', 'Anisotropy', 'Diffusion Magnetic Re...</td>\n      <td>['Bipolar Disorder/pathology', 'Cerebellum/pat...</td>\n      <td>2009.0</td>\n      <td>A voxel-based diffusion tensor imaging study o...</td>\n    </tr>\n    <tr>\n      <td>19518</td>\n      <td>20664</td>\n      <td>18570200</td>\n      <td>1988051</td>\n      <td>Szeszko, PR</td>\n      <td>10.1002/hbm.20595</td>\n      <td>Human brain mapping</td>\n      <td>eng</td>\n      <td>NaN</td>\n      <td>United States</td>\n      <td>NaN</td>\n      <td>1954110.0</td>\n      <td>Zucker Hillside Hospital</td>\n      <td>Healthcare</td>\n      <td>['Adult', 'Analysis of Variance', 'Brain Mappi...</td>\n      <td>['Schizophrenia/pathology', 'Thalamus/pathology']</td>\n      <td>2009.0</td>\n      <td>Volumetric and shape analysis of the thalamus ...</td>\n    </tr>\n    <tr>\n      <td>19525</td>\n      <td>20671</td>\n      <td>29744804</td>\n      <td>1988051</td>\n      <td>Szeszko, PR</td>\n      <td>NaN</td>\n      <td>Brain imaging and behavior</td>\n      <td>eng</td>\n      <td>{'affiliation': 'James J. Peters VA Medical Ce...</td>\n      <td>United States</td>\n      <td>NaN</td>\n      <td>1654036.0</td>\n      <td>James J Peters VA Medical Center</td>\n      <td>Healthcare</td>\n      <td>['Adult', 'Brief Psychiatric Rating Scale', 'D...</td>\n      <td>['Antipsychotic Agents/therapeutic use', 'Fron...</td>\n      <td>2019.0</td>\n      <td>Frontal lobe functioning during a simple respo...</td>\n    </tr>\n    <tr>\n      <td>19526</td>\n      <td>20672</td>\n      <td>28348381</td>\n      <td>1988051</td>\n      <td>Szeszko, PR</td>\n      <td>NaN</td>\n      <td>Molecular psychiatry</td>\n      <td>eng</td>\n      <td>{'affiliation': 'James J. Peters VA Medical Ce...</td>\n      <td>United States</td>\n      <td>NaN</td>\n      <td>NaN</td>\n      <td>James J Peters VA Medical Center</td>\n      <td>Healthcare</td>\n      <td>['Adult', 'Antipsychotic Agents/therapeutic us...</td>\n      <td>['Diffusion Magnetic Resonance Imaging/methods...</td>\n      <td>2018.0</td>\n      <td>Greater extracellular free-water in first-epis...</td>\n    </tr>\n    <tr>\n      <td>19528</td>\n      <td>20674</td>\n      <td>25567423</td>\n      <td>1988051</td>\n      <td>Szeszko, PR</td>\n      <td>NaN</td>\n      <td>Neuropsychopharmacology : official publication...</td>\n      <td>eng</td>\n      <td>{'affiliation': '1] Center for Psychiatric Neu...</td>\n      <td>United States</td>\n      <td>NaN</td>\n      <td>1954110.0</td>\n      <td>Zucker Hillside Hospital</td>\n      <td>Healthcare</td>\n      <td>['Adolescent', 'Adult', 'Antipsychotic Agents'...</td>\n      <td>['Cerebral Cortex/blood supply', 'Rest']</td>\n      <td>2015.0</td>\n      <td>Abnormal resting state FMRI activity predicts ...</td>\n    </tr>\n    <tr>\n      <td>19531</td>\n      <td>20677</td>\n      <td>25765593</td>\n      <td>1988051</td>\n      <td>Szeszko, PR</td>\n      <td>NaN</td>\n      <td>Progress in neuro-psychopharmacology &amp; biologi...</td>\n      <td>eng</td>\n      <td>{'affiliation': 'Feinstein Institute for Medic...</td>\n      <td>United States</td>\n      <td>NaN</td>\n      <td>1954110.0</td>\n      <td>Zucker Hillside Hospital</td>\n      <td>Healthcare</td>\n      <td>['Adolescent', 'Brain/blood supply', 'Case-Con...</td>\n      <td>['Autistic Disorder/pathology', 'Brain Mapping...</td>\n      <td>2015.0</td>\n      <td>Neural systems mediating decision-making and r...</td>\n    </tr>\n    <tr>\n      <td>19532</td>\n      <td>20678</td>\n      <td>25081550</td>\n      <td>1988051</td>\n      <td>Szeszko, PR</td>\n      <td>NaN</td>\n      <td>Brain structure &amp; function</td>\n      <td>eng</td>\n      <td>{'affiliation': 'Center for Psychiatric Neuros...</td>\n      <td>United States</td>\n      <td>NaN</td>\n      <td>1550922.0</td>\n      <td>Albert Einstein College of Medicine</td>\n      <td>Education</td>\n      <td>['Adult', 'Diffusion Magnetic Resonance Imagin...</td>\n      <td>['Hippocampus/anatomy &amp; histology']</td>\n      <td>2015.0</td>\n      <td>Delineation of hippocampal subregions using T1...</td>\n    </tr>\n    <tr>\n      <td>19533</td>\n      <td>20679</td>\n      <td>25532972</td>\n      <td>1988051</td>\n      <td>Szeszko, PR</td>\n      <td>NaN</td>\n      <td>Bipolar disorders</td>\n      <td>eng</td>\n      <td>{'affiliation': 'The Feinstein Institute for M...</td>\n      <td>United States</td>\n      <td>NaN</td>\n      <td>1710365.0</td>\n      <td>Northwell Health</td>\n      <td>Healthcare</td>\n      <td>['Adolescent', 'Adult', 'Age Factors', 'Child'...</td>\n      <td>['Bipolar Disorder/diagnosis', 'Corpus Callosu...</td>\n      <td>2015.0</td>\n      <td>Age-associated alterations in corpus callosum ...</td>\n    </tr>\n  </tbody>\n</table>\n</div>"
     },
     "metadata": {},
     "execution_count": 7
    }
   ],
   "source": [
    "df"
   ]
  },
  {
   "cell_type": "code",
   "execution_count": 8,
   "metadata": {},
   "outputs": [],
   "source": [
    "def get_clusters(author):\n",
    "    author_df = get_res_papers(author)\n",
    "    paper_clusterer=PaperClusterer(eps=1.27)\n",
    "    res_clusters, cluster_dfs=paper_clusterer.get_dist_matrix(author_df)\n",
    "    return cluster_dfs[0].sort_values([\"cluster\"])"
   ]
  },
  {
   "cell_type": "code",
   "execution_count": 9,
   "metadata": {},
   "outputs": [],
   "source": [
    "def get_out_path(row):\n",
    "    cur_name=row[\"last_author_name\"]\n",
    "    fields=cur_name.split(\", \")\n",
    "    return \"/home/ubuntu/data/{}_{}.csv\".format(fields[0], fields[1])"
   ]
  },
  {
   "cell_type": "code",
   "execution_count": 10,
   "metadata": {},
   "outputs": [],
   "source": [
    "# def get_file_name(author_name):\n",
    "#     author_name=author_name.replace(',',' ')\n",
    "#     author_rebuilt='_'.join(author_name.split(' '))\n",
    "#     return ''.join([\"/home/ubuntu/data/\", author_rebuilt, \".csv\"])\n",
    "# #%%\n",
    "def main(author_list):\n",
    "    print(author_list)\n",
    "    \n",
    "    for author in author_list:\n",
    "        print(author)\n",
    "        cluster_df=get_clusters(author)\n",
    "        # out_path=get_out_path(row)\n",
    "        # cluster_df.to_csv(out_path, index=False, columns=[\"pmid\", \"cluster\", \"last_author_inst\", \"last_author_forename\",\"pub_year\",\"last_author_name\"])\n",
    "        \n",
    "#         #pmid_df=pd.read_csv(list_path, dtype=str, usecols=[\"PMID\"]).rename(columns={\"PMID\":\"Highlight\"})\n",
    "#         #print(pmid_df.info())\n",
    "#         #limit=min(limit, len(pmid_df))\n",
    "#         #pmid_list=pmid_df.Highlight.tolist()[offset:offset+limit]\n",
    "#         pmid_list=pmid_df.pmid.tolist()[:2]\n",
    "#         paper_clusterer=PaperClusterer(eps=1.27)\n",
    "#         res_clusters, cluster_dfs=paper_clusterer.infer_paper_author_data(pmid_list)\n",
    "    \n",
    "#     #res_clusters, cluster_dfs=paper_clusterer.infer_paper_author_data(pmid_list).sort_values([\"rownum\"])\n",
    "#         return res_clusters, cluster_dfs\n",
    "    #out_path=\"/home/ubuntu/data/rp_40000_authors.tsv\"\n",
    "    #out_path=\"/home/ubuntu/data/test_forenames_res.tsv\"\n",
    "\n",
    "    #res_clusters.to_csv(out_path, index=False, sep='\\t')\n",
    ""
   ]
  },
  {
   "cell_type": "code",
   "execution_count": 12,
   "metadata": {},
   "outputs": [
    {
     "output_type": "stream",
     "name": "stdout",
     "text": "['Szeszko, PR']\nSzeszko, PR\n"
    },
    {
     "output_type": "error",
     "ename": "NameError",
     "evalue": "name 'get_papers' is not defined",
     "traceback": [
      "\u001b[0;31m---------------------------------------------------------------------------\u001b[0m",
      "\u001b[0;31mNameError\u001b[0m                                 Traceback (most recent call last)",
      "\u001b[0;32m<ipython-input-12-d3e44030655e>\u001b[0m in \u001b[0;36m<module>\u001b[0;34m\u001b[0m\n\u001b[1;32m      1\u001b[0m \u001b[0mauthor_list\u001b[0m\u001b[0;34m=\u001b[0m\u001b[0;34m[\u001b[0m\u001b[0;34m'Szeszko, PR'\u001b[0m\u001b[0;34m]\u001b[0m\u001b[0;34m\u001b[0m\u001b[0;34m\u001b[0m\u001b[0m\n\u001b[0;32m----> 2\u001b[0;31m \u001b[0mmain\u001b[0m\u001b[0;34m(\u001b[0m\u001b[0mauthor_list\u001b[0m\u001b[0;34m)\u001b[0m\u001b[0;34m\u001b[0m\u001b[0;34m\u001b[0m\u001b[0m\n\u001b[0m",
      "\u001b[0;32m<ipython-input-10-cfcf43450e42>\u001b[0m in \u001b[0;36mmain\u001b[0;34m(author_list)\u001b[0m\n\u001b[1;32m      9\u001b[0m     \u001b[0;32mfor\u001b[0m \u001b[0mauthor\u001b[0m \u001b[0;32min\u001b[0m \u001b[0mauthor_list\u001b[0m\u001b[0;34m:\u001b[0m\u001b[0;34m\u001b[0m\u001b[0;34m\u001b[0m\u001b[0m\n\u001b[1;32m     10\u001b[0m         \u001b[0mprint\u001b[0m\u001b[0;34m(\u001b[0m\u001b[0mauthor\u001b[0m\u001b[0;34m)\u001b[0m\u001b[0;34m\u001b[0m\u001b[0;34m\u001b[0m\u001b[0m\n\u001b[0;32m---> 11\u001b[0;31m         \u001b[0mcluster_df\u001b[0m\u001b[0;34m=\u001b[0m\u001b[0mget_clusters\u001b[0m\u001b[0;34m(\u001b[0m\u001b[0mauthor\u001b[0m\u001b[0;34m)\u001b[0m\u001b[0;34m\u001b[0m\u001b[0;34m\u001b[0m\u001b[0m\n\u001b[0m\u001b[1;32m     12\u001b[0m         \u001b[0;31m# out_path=get_out_path(row)\u001b[0m\u001b[0;34m\u001b[0m\u001b[0;34m\u001b[0m\u001b[0;34m\u001b[0m\u001b[0m\n\u001b[1;32m     13\u001b[0m         \u001b[0;31m# cluster_df.to_csv(out_path, index=False, columns=[\"pmid\", \"cluster\", \"last_author_inst\", \"last_author_forename\",\"pub_year\",\"last_author_name\"])\u001b[0m\u001b[0;34m\u001b[0m\u001b[0;34m\u001b[0m\u001b[0;34m\u001b[0m\u001b[0m\n",
      "\u001b[0;32m<ipython-input-8-46d412b68ad4>\u001b[0m in \u001b[0;36mget_clusters\u001b[0;34m(author)\u001b[0m\n\u001b[1;32m      1\u001b[0m \u001b[0;32mdef\u001b[0m \u001b[0mget_clusters\u001b[0m\u001b[0;34m(\u001b[0m\u001b[0mauthor\u001b[0m\u001b[0;34m)\u001b[0m\u001b[0;34m:\u001b[0m\u001b[0;34m\u001b[0m\u001b[0;34m\u001b[0m\u001b[0m\n\u001b[0;32m----> 2\u001b[0;31m     \u001b[0mauthor_df\u001b[0m \u001b[0;34m=\u001b[0m \u001b[0mget_papers\u001b[0m\u001b[0;34m(\u001b[0m\u001b[0mauthor\u001b[0m\u001b[0;34m)\u001b[0m\u001b[0;34m\u001b[0m\u001b[0;34m\u001b[0m\u001b[0m\n\u001b[0m\u001b[1;32m      3\u001b[0m     \u001b[0mpaper_clusterer\u001b[0m\u001b[0;34m=\u001b[0m\u001b[0mPaperClusterer\u001b[0m\u001b[0;34m(\u001b[0m\u001b[0meps\u001b[0m\u001b[0;34m=\u001b[0m\u001b[0;36m1.27\u001b[0m\u001b[0;34m)\u001b[0m\u001b[0;34m\u001b[0m\u001b[0;34m\u001b[0m\u001b[0m\n\u001b[1;32m      4\u001b[0m     \u001b[0mres_clusters\u001b[0m\u001b[0;34m,\u001b[0m \u001b[0mcluster_dfs\u001b[0m\u001b[0;34m=\u001b[0m\u001b[0mpaper_clusterer\u001b[0m\u001b[0;34m.\u001b[0m\u001b[0mget_dist_matrix\u001b[0m\u001b[0;34m(\u001b[0m\u001b[0mauthor_df\u001b[0m\u001b[0;34m)\u001b[0m\u001b[0;34m\u001b[0m\u001b[0;34m\u001b[0m\u001b[0m\n\u001b[1;32m      5\u001b[0m     \u001b[0;32mreturn\u001b[0m \u001b[0mcluster_dfs\u001b[0m\u001b[0;34m[\u001b[0m\u001b[0;36m0\u001b[0m\u001b[0;34m]\u001b[0m\u001b[0;34m.\u001b[0m\u001b[0msort_values\u001b[0m\u001b[0;34m(\u001b[0m\u001b[0;34m[\u001b[0m\u001b[0;34m\"cluster\"\u001b[0m\u001b[0;34m]\u001b[0m\u001b[0;34m)\u001b[0m\u001b[0;34m\u001b[0m\u001b[0;34m\u001b[0m\u001b[0m\n",
      "\u001b[0;31mNameError\u001b[0m: name 'get_papers' is not defined"
     ]
    }
   ],
   "source": [
    "author_list=['Szeszko, PR']\n",
    "main(author_list)"
   ]
  },
  {
   "cell_type": "code",
   "execution_count": null,
   "metadata": {},
   "outputs": [],
   "source": [
    "print(cluster_dfs[0].cluster.value_counts())"
   ]
  },
  {
   "cell_type": "code",
   "execution_count": null,
   "metadata": {},
   "outputs": [],
   "source": [
    "out_path=\"/home/ubuntu/data/hecht_jr.csv\"\n",
    "#out_path=\"/home/ubuntu/data/gottlieb_pa.csv\"\n",
    "cluster_dfs[0].sort_values([\"cluster\"]).to_csv(out_path, index=False, columns=[\"pmid\", \"cluster\", \"last_author_inst\", \"last_author_forename\",\"pub_year\",\"last_author_name\"])"
   ]
  },
  {
   "cell_type": "code",
   "execution_count": null,
   "metadata": {},
   "outputs": [],
   "source": [
    "# cur_clusters=cluster_dfs[0]\n",
    "# print(cur_clusters.info())\n",
    "# print(cur_clusters.cluster.value_counts())\n",
    "# cur_clusters.to_csv(\"/home/ubuntu/data/friedman_n.csv\", index=False)"
   ]
  },
  {
   "cell_type": "code",
   "execution_count": null,
   "metadata": {},
   "outputs": [],
   "source": [
    "# cur_clusters=cluster_dfs[0][[\"pmid\", \"last_author_id\", \"last_author_inst\", \n",
    "#                              \"last_author_country\", \"last_author_name\",\n",
    "#                              \"last_author_forename\", \"cluster\",\n",
    "#                             \"pub_year\", \"last_author_affiliation\"]].sort_values([\"cluster\"])\n",
    "# print(cur_clusters)"
   ]
  },
  {
   "cell_type": "code",
   "execution_count": null,
   "metadata": {},
   "outputs": [],
   "source": [
    "# cm = 'tab20b'\n",
    "# cur_clusters=cluster_dfs[20][[\"cluster\",\"pmid\",\"last_author_inst\",  \"last_author_forename\",\n",
    "#                              \"mesh_clean\", \"other_authors\", \"last_author_country\", \"last_author_name\"]].reset_index()\n",
    "# cur_clusters.sort_values('cluster').style.background_gradient(cmap=cm, subset=['cluster']).set_caption('Clustering output')"
   ]
  },
  {
   "cell_type": "code",
   "execution_count": null,
   "metadata": {},
   "outputs": [],
   "source": [
    "def forename_delta(n1, n2):\n",
    "        if ' ' in n1:\n",
    "            n1=n1.split()[0]\n",
    "        if ' ' in n2:\n",
    "            n2=n2.split()[0]\n",
    "        if n1==n2:\n",
    "            if len(n1)>1:\n",
    "                return 1.0\n",
    "            else:\n",
    "                return 0.5\n",
    "        elif n1 in n2 or n2 in n1:\n",
    "            return 0.75\n",
    "        else:\n",
    "            return 0.0"
   ]
  },
  {
   "cell_type": "code",
   "execution_count": null,
   "metadata": {},
   "outputs": [],
   "source": [
    "forename_delta(\"Peter A\",\"P A\")"
   ]
  },
  {
   "cell_type": "code",
   "execution_count": null,
   "metadata": {},
   "outputs": [],
   "source": []
  }
 ],
 "metadata": {
  "kernelspec": {
   "display_name": "Python 3.6.8 64-bit ('nlp': conda)",
   "language": "python",
   "name": "python36864bitnlpcondaedb4459334ba4ee28e4936a12647cfbd"
  },
  "language_info": {
   "codemirror_mode": {
    "name": "ipython",
    "version": 3
   },
   "file_extension": ".py",
   "mimetype": "text/x-python",
   "name": "python",
   "nbconvert_exporter": "python",
   "pygments_lexer": "ipython3",
   "version": "3.6.7-final"
  }
 },
 "nbformat": 4,
 "nbformat_minor": 2
}