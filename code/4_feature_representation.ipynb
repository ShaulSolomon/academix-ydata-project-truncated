{
 "cells": [
  {
   "cell_type": "code",
   "execution_count": 1,
   "metadata": {},
   "outputs": [],
   "source": [
    "%load_ext autoreload\n",
    "%autoreload 2"
   ]
  },
  {
   "cell_type": "code",
   "execution_count": 2,
   "metadata": {},
   "outputs": [],
   "source": [
    "import os, re, sys\n",
    "\n",
    "import pandas as pd\n",
    "import numpy as np\n",
    "import matplotlib.pyplot as plt\n",
    "\n",
    "from yuval_module.paper_clusterer import PaperClusterer\n",
    "from yuval_module.paper_source import PaperSource\n",
    "\n",
    "from sklearn.feature_extraction.text import TfidfVectorizer\n",
    "\n",
    "import py_3.sim_matrix_3 as sim_matrix_3\n",
    "import py_3.lr_model_3 as lr_model_3\n",
    "import py_3.db_scan_3 as db_scan_3\n",
    "import py_4.get_mesh_vec as get_mesh_vec\n",
    "\n",
    "import metric_eval_2\n",
    "\n",
    "%matplotlib inline\n",
    "\n",
    "\n",
    "import utils\n",
    "from utils import PROJECT_ROOT, DATA_PATH\n",
    "\n",
    "FILE = \"enriched_labeled_dataset_large.json\""
   ]
  },
  {
   "cell_type": "code",
   "execution_count": 3,
   "metadata": {},
   "outputs": [
    {
     "output_type": "execute_result",
     "data": {
      "text/plain": "'/home/ubuntu/Proj/AYP/data/labeled_data/enriched_labeled_dataset_large.json'"
     },
     "metadata": {},
     "execution_count": 3
    }
   ],
   "source": [
    "PROJECT_ROOT + DATA_PATH + FILE"
   ]
  },
  {
   "cell_type": "code",
   "execution_count": 4,
   "metadata": {},
   "outputs": [
    {
     "output_type": "stream",
     "name": "stdout",
     "text": "READING FROM LOCAL\nFILE PULLED\n"
    }
   ],
   "source": [
    "if os.path.exists(PROJECT_ROOT + DATA_PATH + FILE):\n",
    "    print(\"READING FROM LOCAL\")\n",
    "    if FILE.split(\".\")[1] == \"json\":\n",
    "        df = pd.read_json(PROJECT_ROOT + DATA_PATH + FILE)\n",
    "    else:\n",
    "        df = pd.read_csv(PROJECT_ROOT + DATA_PATH + FILE)\n",
    "    ps = PaperSource()\n",
    "else:\n",
    "    print(\"PULLING FROM S3\")\n",
    "    ps = sim_matrix_3.load_dataset(\"enriched_labeled_dataset\")\n",
    "    df = ps.get_dataset()\n",
    "\n",
    "df.drop(columns=[\"last_author_country\"],inplace=True)\n",
    "df.rename(columns={'ORG_STATE':'last_author_country'},inplace=True)\n",
    "\n",
    "print(\"FILE PULLED\")"
   ]
  },
  {
   "cell_type": "code",
   "execution_count": 8,
   "metadata": {},
   "outputs": [],
   "source": [
    "def mesh2int(row: list, dict_meshtoint: dict) -> list:\n",
    "    '''\n",
    "    Helper function for get_mesh_gram_freq. Turns mesh terms into label equivalent\n",
    "\n",
    "        :param pd.Series row - list of mesh terms for given row\n",
    "        :param dict dict_meshtoint - dict of mesh terms to their int labels\n",
    "        :return None - if row is empty\n",
    "                list - list of labels\n",
    "    '''\n",
    "    if row is None:\n",
    "        return None\n",
    "    lst = []\n",
    "    for value in row:\n",
    "        lst.append(dict_meshtoint[value])\n",
    "    return lst"
   ]
  },
  {
   "source": [
    "### Attempt to get mesh term ngram frequency"
   ],
   "cell_type": "markdown",
   "metadata": {}
  },
  {
   "cell_type": "code",
   "execution_count": 9,
   "metadata": {},
   "outputs": [],
   "source": [
    "all_mesh = df['mesh'].values.tolist()\n",
    "set_mesh = set()\n",
    "for mesh in all_mesh:\n",
    "    if mesh is not None:\n",
    "        set_mesh.update(mesh)\n",
    "# dict_inttomesh = {i:mesh for i,mesh in enumerate(set_mesh)}\n",
    "dict_meshtoint = {mesh:i for i,mesh in enumerate(set_mesh)}\n",
    "df_mesh = pd.Series([mesh2int(row, dict_meshtoint) for row in df['mesh'].values])\n",
    "corpus = [\"\".join(str(terms)).strip(\"[\").strip(\"]\") if terms is not None else \"\"  \\\n",
    "         for terms in list(df_mesh.values)]"
   ]
  },
  {
   "cell_type": "code",
   "execution_count": 48,
   "metadata": {},
   "outputs": [],
   "source": [
    "vectorizer = TfidfVectorizer(ngram_range=(1, 3))\n",
    "X = vectorizer.fit_transform(corpus)"
   ]
  },
  {
   "source": [
    "### Explore one-hot encoding for categorical values"
   ],
   "cell_type": "markdown",
   "metadata": {}
  },
  {
   "cell_type": "code",
   "execution_count": 12,
   "metadata": {},
   "outputs": [],
   "source": [
    "df_country = df[['last_author_country']]"
   ]
  },
  {
   "cell_type": "code",
   "execution_count": 23,
   "metadata": {},
   "outputs": [],
   "source": [
    "Y = pd.get_dummies(df_country)"
   ]
  },
  {
   "cell_type": "code",
   "execution_count": 31,
   "metadata": {},
   "outputs": [],
   "source": [
    "from sklearn.preprocessing import OneHotEncoder\n",
    "import scipy.sparse"
   ]
  },
  {
   "cell_type": "code",
   "execution_count": 22,
   "metadata": {},
   "outputs": [],
   "source": [
    " enc = OneHotEncoder(handle_unknown='ignore')\n",
    " X = enc.fit_transform(df_country)"
   ]
  },
  {
   "cell_type": "code",
   "execution_count": 38,
   "metadata": {},
   "outputs": [
    {
     "output_type": "execute_result",
     "data": {
      "text/plain": "True"
     },
     "metadata": {},
     "execution_count": 38
    }
   ],
   "source": [
    "np.allclose(scipy.sparse.csr_matrix(Y).A, X.A)"
   ]
  }
 ],
 "metadata": {
  "language_info": {
   "codemirror_mode": {
    "name": "ipython",
    "version": 3
   },
   "file_extension": ".py",
   "mimetype": "text/x-python",
   "name": "python",
   "nbconvert_exporter": "python",
   "pygments_lexer": "ipython3",
   "version": "3.7.7-final"
  },
  "orig_nbformat": 2,
  "kernelspec": {
   "name": "python3",
   "display_name": "Python 3"
  }
 },
 "nbformat": 4,
 "nbformat_minor": 2
}