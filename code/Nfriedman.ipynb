{
 "cells": [
  {
   "cell_type": "markdown",
   "metadata": {},
   "source": [
    "The friedman test"
   ]
  },
  {
   "cell_type": "code",
   "execution_count": 4,
   "metadata": {
    "tags": []
   },
   "outputs": [
    {
     "output_type": "stream",
     "name": "stdout",
     "text": "Populating the interactive namespace from numpy and matplotlib\n"
    }
   ],
   "source": [
    "import pandas as pd\n",
    "import numpy as np\n",
    "from elasticsearch import Elasticsearch\n",
    "import requests\n",
    "import json\n",
    "from pandas.io.json import json_normalize\n",
    "\n",
    "import utils as utils\n",
    "\n",
    "import sys\n",
    "from tqdm import tqdm\n",
    "%pylab inline\n",
    "plt.style.use(\"bmh\")\n",
    "np.random.seed(983456)"
   ]
  },
  {
   "cell_type": "code",
   "execution_count": 5,
   "metadata": {},
   "outputs": [],
   "source": [
    "es = Elasticsearch([{'host': '35.178.209.118', 'use_ssl': False, 'read timeout':20}]) "
   ]
  },
  {
   "cell_type": "code",
   "execution_count": 20,
   "metadata": {},
   "outputs": [],
   "source": [
    "def fetch_res_pmids(name,es,index):\n",
    "    include=[\"pmid\", \"last_author_name\",\"last_author.forename\",\"last_author.affiliation\"]\n",
    "    es_query={\"query\":{\"term\":{\"last_author_name\": name }},\"_source\":{\"includes\":include},\"size\":10000} \n",
    "    res=es.search(index=index,\n",
    "                 body=es_query)\n",
    "    # res=json_normalize(res)\n",
    "    # return res\n",
    "    #print(es_query)\n",
    "    #print(res)\n",
    "    return pd.DataFrame([h[\"_source\"] for h in res[\"hits\"][\"hits\"]])"
   ]
  },
  {
   "cell_type": "code",
   "execution_count": 21,
   "metadata": {
    "tags": []
   },
   "outputs": [],
   "source": [
    "df=fetch_res_pmids('Friedman, N',es,\"bulk_papers5\")"
   ]
  },
  {
   "cell_type": "code",
   "execution_count": 22,
   "metadata": {},
   "outputs": [
    {
     "output_type": "execute_result",
     "data": {
      "text/plain": "0     25249765\n1     26606974\n2     25171404\n3     25024161\n4     24244020\n5     26446933\n6     12740579\n7     17190847\n8     29514105\n9     23219532\n10    23334501\n11    24421210\n12    24312094\n13    23935451\n14    23352245\n15    23769506\n16    22925037\n17    11560351\n18    12151303\n19    12161879\n20    12176835\n21    11344753\n22    15454407\n23    15262806\n24    12843144\n25    14764868\n26    12015876\n27    11473012\n28    21444810\n29    21109421\n30    20529911\n31    21685068\n32    21685097\n33    19968953\n34    19846608\n35    18463706\n36    16117504\n37    16597232\n38    18586706\n39    18494234\n40    17237082\n41    10154065\n42    28731407\n43    28716917\n44    25801168\n45    27496019\n46    22984176\n47    23089682\n48    23072772\n49    29903938\n50    30605682\n51    31464369\nName: pmid, dtype: object"
     },
     "metadata": {},
     "execution_count": 22
    }
   ],
   "source": [
    "df.pmid"
   ]
  },
  {
   "cell_type": "code",
   "execution_count": 23,
   "metadata": {},
   "outputs": [],
   "source": [
    "def fetch_res_detail(pmid,es,index):\n",
    "    include=[\"pmid\", \"doi\",\"last_author_id\",\"last_author_name\",\"last_author_forename\",\"last_author.affiliation\",\"last_author_email\",\"title\",\"pub_year\",\"last_author_country\",\"last_author_inst\",\\\n",
    "    \"journal_name\",\"language\",\"authors\",\"mesh\",\"mesh_major\"]\n",
    "    es_query={\"query\":{\"terms\":{\"pmid\": pmid }},\"_source\":{\"includes\":include},\"size\":10000} \n",
    "    res=es.search(index=index,\n",
    "                 body=es_query)\n",
    "    # res=json_normalize(res)\n",
    "    # return res\n",
    "    #print(es_query)\n",
    "    #print(res)\n",
    "    return pd.DataFrame([h[\"_source\"] for h in res[\"hits\"][\"hits\"]])"
   ]
  },
  {
   "cell_type": "code",
   "execution_count": null,
   "metadata": {},
   "outputs": [],
   "source": [
    "fetch_res_detail(pmid,es,index)"
   ]
  }
 ],
 "metadata": {
  "language_info": {
   "codemirror_mode": {
    "name": "ipython",
    "version": 3
   },
   "file_extension": ".py",
   "mimetype": "text/x-python",
   "name": "python",
   "nbconvert_exporter": "python",
   "pygments_lexer": "ipython3",
   "version": 3
  },
  "orig_nbformat": 2,
  "kernelspec": {
   "name": "python_defaultSpec_1594666660946",
   "display_name": "Python 3.6.8 64-bit ('nlp': conda)"
  }
 },
 "nbformat": 4,
 "nbformat_minor": 2
}