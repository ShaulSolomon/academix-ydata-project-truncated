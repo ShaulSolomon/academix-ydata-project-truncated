{
  "nbformat": 4,
  "nbformat_minor": 0,
  "metadata": {
    "colab": {
      "name": "1_Getting_Labeled_Data.ipynb",
      "provenance": []
    },
    "kernelspec": {
      "name": "python3",
      "display_name": "Python 3"
    }
  },
  "cells": [
    {
      "cell_type": "code",
      "metadata": {
        "id": "yGFkbYhGrpCq",
        "colab_type": "code",
        "colab": {}
      },
      "source": [
        "''' Initializations '''\n",
        "\n",
        "import pandas as pd"
      ],
      "execution_count": 0,
      "outputs": []
    },
    {
      "cell_type": "markdown",
      "metadata": {
        "id": "aZwrlqCy22ZB",
        "colab_type": "text"
      },
      "source": [
        "Databases were scraped from:\n",
        "https://exporter.nih.gov/ExPORTER_Catalog.aspx?sid=0&index=5\n",
        "https://exporter.nih.gov/ExPORTER_Catalog.aspx?sid=5&index=0\n",
        "\n",
        "(There is a theoretical other dataset on the publications themselves, if we so need).\n",
        "\n",
        "Details on database metadata: https://exporter.nih.gov/about.aspx"
      ]
    },
    {
      "cell_type": "code",
      "metadata": {
        "id": "d3FIfCZPsCzz",
        "colab_type": "code",
        "colab": {
          "base_uri": "https://localhost:8080/",
          "height": 51
        },
        "outputId": "35ff9fe0-a3ee-4417-c13a-4f77bb7f0335"
      },
      "source": [
        "!unzip /content/RePORTER_PUBLNK_C_2014.zip\n",
        "!unzip /content/nih_prj.zip"
      ],
      "execution_count": 4,
      "outputs": [
        {
          "output_type": "stream",
          "text": [
            "Archive:  /content/RePORTER_PUBLNK_C_2014.zip\n",
            "  inflating: RePORTER_PUBLNK_C_2014.csv  \n"
          ],
          "name": "stdout"
        }
      ]
    },
    {
      "cell_type": "code",
      "metadata": {
        "id": "0VulUjqzsa8X",
        "colab_type": "code",
        "colab": {
          "base_uri": "https://localhost:8080/",
          "height": 71
        },
        "outputId": "92c54604-c207-4c6f-fdf9-90663ba22aab"
      },
      "source": [
        "publnk = pd.read_csv(\"/content/RePORTER_PUBLNK_C_2014.csv\")\n",
        "pubprj = pd.read_csv(\"/content/RePORTER_PRJ_C_FY2014.csv\", encoding='latin-1')"
      ],
      "execution_count": 13,
      "outputs": [
        {
          "output_type": "stream",
          "text": [
            "/usr/local/lib/python3.6/dist-packages/IPython/core/interactiveshell.py:2718: DtypeWarning: Columns (8,41) have mixed types. Specify dtype option on import or set low_memory=False.\n",
            "  interactivity=interactivity, compiler=compiler, result=result)\n"
          ],
          "name": "stderr"
        }
      ]
    },
    {
      "cell_type": "code",
      "metadata": {
        "id": "z9O1M7-xsfdk",
        "colab_type": "code",
        "colab": {
          "base_uri": "https://localhost:8080/",
          "height": 238
        },
        "outputId": "ffd89f4d-769d-4bd4-a79d-36d3e5d52618"
      },
      "source": [
        "print(pubprj.columns)\n",
        "print(publnk.columns)"
      ],
      "execution_count": 26,
      "outputs": [
        {
          "output_type": "stream",
          "text": [
            "Index(['APPLICATION_ID', 'ACTIVITY', 'ADMINISTERING_IC', 'APPLICATION_TYPE',\n",
            "       'ARRA_FUNDED', 'AWARD_NOTICE_DATE', 'BUDGET_START', 'BUDGET_END',\n",
            "       'CFDA_CODE', 'CORE_PROJECT_NUM', 'ED_INST_TYPE', 'FOA_NUMBER',\n",
            "       'FULL_PROJECT_NUM', 'FUNDING_ICs', 'FUNDING_MECHANISM', 'FY', 'IC_NAME',\n",
            "       'NIH_SPENDING_CATS', 'ORG_CITY', 'ORG_COUNTRY', 'ORG_DEPT',\n",
            "       'ORG_DISTRICT', 'ORG_DUNS', 'ORG_FIPS', 'ORG_IPF_CODE', 'ORG_NAME',\n",
            "       'ORG_STATE', 'ORG_ZIPCODE', 'PHR', 'PI_IDS', 'PI_NAMEs',\n",
            "       'PROGRAM_OFFICER_NAME', 'PROJECT_START', 'PROJECT_END', 'PROJECT_TERMS',\n",
            "       'PROJECT_TITLE', 'SERIAL_NUMBER', 'STUDY_SECTION', 'STUDY_SECTION_NAME',\n",
            "       'SUBPROJECT_ID', 'SUFFIX', 'SUPPORT_YEAR', 'DIRECT_COST_AMT',\n",
            "       'INDIRECT_COST_AMT', 'TOTAL_COST', 'TOTAL_COST_SUB_PROJECT'],\n",
            "      dtype='object')\n",
            "Index(['PMID', 'PROJECT_NUMBER'], dtype='object')\n"
          ],
          "name": "stdout"
        }
      ]
    },
    {
      "cell_type": "markdown",
      "metadata": {
        "id": "wUhJOrNh0KqJ",
        "colab_type": "text"
      },
      "source": [
        "Theoretically, we can create one database with 'PI_ID','PMID', and 'Author Name', but combining publink and project databases on the 'CORE_PROJECT_NUM' column."
      ]
    },
    {
      "cell_type": "code",
      "metadata": {
        "id": "KONq8k31zWKf",
        "colab_type": "code",
        "colab": {}
      },
      "source": [
        "pubprj_core = pubprj[['CORE_PROJECT_NUM','PI_IDS','PI_NAMEs']]\n",
        "pubmed_join = pd.merge(left=publnk, right=pubprj_core, left_on='PROJECT_NUMBER', right_on='CORE_PROJECT_NUM')"
      ],
      "execution_count": 0,
      "outputs": []
    },
    {
      "cell_type": "code",
      "metadata": {
        "id": "UmDJHRTz1W2l",
        "colab_type": "code",
        "colab": {
          "base_uri": "https://localhost:8080/",
          "height": 453
        },
        "outputId": "83435eb0-710c-43bd-97ee-594b0b4cd273"
      },
      "source": [
        "pubmed_join"
      ],
      "execution_count": 25,
      "outputs": [
        {
          "output_type": "execute_result",
          "data": {
            "text/html": [
              "<div>\n",
              "<style scoped>\n",
              "    .dataframe tbody tr th:only-of-type {\n",
              "        vertical-align: middle;\n",
              "    }\n",
              "\n",
              "    .dataframe tbody tr th {\n",
              "        vertical-align: top;\n",
              "    }\n",
              "\n",
              "    .dataframe thead th {\n",
              "        text-align: right;\n",
              "    }\n",
              "</style>\n",
              "<table border=\"1\" class=\"dataframe\">\n",
              "  <thead>\n",
              "    <tr style=\"text-align: right;\">\n",
              "      <th></th>\n",
              "      <th>PMID</th>\n",
              "      <th>PROJECT_NUMBER</th>\n",
              "      <th>CORE_PROJECT_NUM</th>\n",
              "      <th>PI_IDS</th>\n",
              "      <th>PI_NAMEs</th>\n",
              "    </tr>\n",
              "  </thead>\n",
              "  <tbody>\n",
              "    <tr>\n",
              "      <th>0</th>\n",
              "      <td>24561078</td>\n",
              "      <td>ZIACL000904</td>\n",
              "      <td>ZIACL000904</td>\n",
              "      <td>12471471;</td>\n",
              "      <td>CIMINO, JAMES ;</td>\n",
              "    </tr>\n",
              "    <tr>\n",
              "      <th>1</th>\n",
              "      <td>24850353</td>\n",
              "      <td>ZIACL000904</td>\n",
              "      <td>ZIACL000904</td>\n",
              "      <td>12471471;</td>\n",
              "      <td>CIMINO, JAMES ;</td>\n",
              "    </tr>\n",
              "    <tr>\n",
              "      <th>2</th>\n",
              "      <td>24262893</td>\n",
              "      <td>ZIACL000904</td>\n",
              "      <td>ZIACL000904</td>\n",
              "      <td>12471471;</td>\n",
              "      <td>CIMINO, JAMES ;</td>\n",
              "    </tr>\n",
              "    <tr>\n",
              "      <th>3</th>\n",
              "      <td>24727931</td>\n",
              "      <td>ZIACL000904</td>\n",
              "      <td>ZIACL000904</td>\n",
              "      <td>12471471;</td>\n",
              "      <td>CIMINO, JAMES ;</td>\n",
              "    </tr>\n",
              "    <tr>\n",
              "      <th>4</th>\n",
              "      <td>23966483</td>\n",
              "      <td>ZIACL000904</td>\n",
              "      <td>ZIACL000904</td>\n",
              "      <td>12471471;</td>\n",
              "      <td>CIMINO, JAMES ;</td>\n",
              "    </tr>\n",
              "    <tr>\n",
              "      <th>...</th>\n",
              "      <td>...</td>\n",
              "      <td>...</td>\n",
              "      <td>...</td>\n",
              "      <td>...</td>\n",
              "      <td>...</td>\n",
              "    </tr>\n",
              "    <tr>\n",
              "      <th>656596</th>\n",
              "      <td>24281982</td>\n",
              "      <td>R21GM104691</td>\n",
              "      <td>R21GM104691</td>\n",
              "      <td>8880457;</td>\n",
              "      <td>LIDKE, KEITH ALLAN;</td>\n",
              "    </tr>\n",
              "    <tr>\n",
              "      <th>656597</th>\n",
              "      <td>25339690</td>\n",
              "      <td>R01CA155243</td>\n",
              "      <td>R01CA155243</td>\n",
              "      <td>9340088;</td>\n",
              "      <td>MANI, SENDURAI AYYAVOO;</td>\n",
              "    </tr>\n",
              "    <tr>\n",
              "      <th>656598</th>\n",
              "      <td>25334031</td>\n",
              "      <td>R21AG043715</td>\n",
              "      <td>R21AG043715</td>\n",
              "      <td>2100116 (contact); 1903765;</td>\n",
              "      <td>BOURGEOIS, FLORENCE  (contact); MANDL, KENNETH D;</td>\n",
              "    </tr>\n",
              "    <tr>\n",
              "      <th>656599</th>\n",
              "      <td>24956460</td>\n",
              "      <td>R01AI106002</td>\n",
              "      <td>R01AI106002</td>\n",
              "      <td>6465196;</td>\n",
              "      <td>CROWE, JAMES E;</td>\n",
              "    </tr>\n",
              "    <tr>\n",
              "      <th>656600</th>\n",
              "      <td>25142523</td>\n",
              "      <td>R01GM098090</td>\n",
              "      <td>R01GM098090</td>\n",
              "      <td>8349128; 9324920 (contact);</td>\n",
              "      <td>BIALEK, WILLIAM ; SHAEVITZ, JOSHUA W (contact);</td>\n",
              "    </tr>\n",
              "  </tbody>\n",
              "</table>\n",
              "<p>656601 rows × 5 columns</p>\n",
              "</div>"
            ],
            "text/plain": [
              "            PMID  ...                                           PI_NAMEs\n",
              "0       24561078  ...                                    CIMINO, JAMES ;\n",
              "1       24850353  ...                                    CIMINO, JAMES ;\n",
              "2       24262893  ...                                    CIMINO, JAMES ;\n",
              "3       24727931  ...                                    CIMINO, JAMES ;\n",
              "4       23966483  ...                                    CIMINO, JAMES ;\n",
              "...          ...  ...                                                ...\n",
              "656596  24281982  ...                                LIDKE, KEITH ALLAN;\n",
              "656597  25339690  ...                            MANI, SENDURAI AYYAVOO;\n",
              "656598  25334031  ...  BOURGEOIS, FLORENCE  (contact); MANDL, KENNETH D;\n",
              "656599  24956460  ...                                    CROWE, JAMES E;\n",
              "656600  25142523  ...    BIALEK, WILLIAM ; SHAEVITZ, JOSHUA W (contact);\n",
              "\n",
              "[656601 rows x 5 columns]"
            ]
          },
          "metadata": {
            "tags": []
          },
          "execution_count": 25
        }
      ]
    },
    {
      "cell_type": "markdown",
      "metadata": {
        "id": "y0fhwbA03_91",
        "colab_type": "text"
      },
      "source": [
        "From just one year - we have 650K worth of articles!"
      ]
    }
  ]
}